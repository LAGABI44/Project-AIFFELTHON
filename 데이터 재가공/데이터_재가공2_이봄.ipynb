{
  "nbformat": 4,
  "nbformat_minor": 0,
  "metadata": {
    "colab": {
      "name": "데이터 재가공2_이봄.ipynb",
      "provenance": [],
      "collapsed_sections": [
        "5RdAghN2ZHxN"
      ],
      "machine_shape": "hm"
    },
    "kernelspec": {
      "name": "python3",
      "display_name": "Python 3"
    },
    "language_info": {
      "name": "python"
    },
    "accelerator": "GPU"
  },
  "cells": [
    {
      "cell_type": "markdown",
      "source": [
        "# 데이터 재가공\n",
        "\n",
        "### 병원 데이터 기준으로 정리\n",
        "- '국가건강검진 판정기준 및 판정소견 표준화 연구' 연구보고서 확인\n",
        "\n",
        "[건강검진 결과표 제대로 읽는 법](https://newsroom.daewoong.co.kr/archives/12328)\n",
        "\n",
        "\n",
        "<!-- - 건강검진 결과표 제대로 읽는 법\n",
        "https://newsroom.daewoong.co.kr/archives/12328 -->\n",
        "\n",
        "< **체질량지수 BMI** > \n",
        "\n",
        "- 정상 : 18.5~24.9 kg/m2\n",
        "- 과체중 : 25~29.9 kg/m2\n",
        "- 저체중 : 18.5 kg/m2 미만\n",
        "- 질환의심(비만): 30 kg/m2 이상\n",
        "\n",
        "<!-- BMI 18.5 미만, 18.5∼24.9, 25∼29.9, 30 이상을 '정상B(경계)-정상A-정상B(경계)-질환의심'으로 표현해왔으나, 올해 1월부터는 '저체중-정상-과체중-비만'으로 바꿔 표기\n",
        "https://www.yna.co.kr/view/AKR20180409045800017 -->\n",
        "\n",
        "<!-- **허리둘레(cm)**\n",
        "- 정상A: 남 90 미만 / 여 85 미만\n",
        "- 질환의심: 남 90 이상/ 여 85 이상 -->\n",
        "\n",
        "<!-- < **콜레스테롤** > - 제외\n",
        "(1) HDL 콜레스테롤\n",
        "- 성인 남자 : 40 mg/dL 이상 유지 정상\n",
        "- 성인 여자 : 50 mg/dL 이상 유지 정상\n",
        "=> 60 mg/dL 이상이면 심혈관보호효과\n",
        "(2)LDL 콜레스테롤 : 130㎎/dL 미만 정상\n",
        " 협심증, 당뇨병, 심근경색증, 말초혈관질환 등 있을 경우 => 100 mg/dL 미만(70mg/dL 미만이면 더 효과적)이 되도록 유지 -->\n",
        "\n",
        "< **혈색소** >\n",
        "- 성인 남자 : 13g/dl 이하 빈혈 진단\n",
        "- 성인 여자 : 12g/dl 이하 빈혈 진단\n",
        "\n",
        "< **공복 혈당** >\n",
        "- 정상치 :  70~99 ㎎/ℓ \n",
        "- 당뇨병 진단 : 126 mg/dL 이상\n",
        "\n",
        "< **AST, ALT** >\n",
        "- AST : ~ 40 IU/L 정상\n",
        "- ALT : ~ 40IU/L 정상\n",
        "\n",
        "---\n",
        "\n",
        "- **당뇨** : metformine- 또는 오메가3\n",
        "- **간** :  우루사\n",
        "- **빈혈** : 철분제\n",
        "- **비만** :  시서스 또는 가르시니아(체중 감량에 큰 영향 없다는 연구결과가 있음)"
      ],
      "metadata": {
        "id": "L4gralfXJPEg"
      }
    },
    {
      "cell_type": "markdown",
      "source": [
        "## Data visualization"
      ],
      "metadata": {
        "id": "GqVy7JFvInTA"
      }
    },
    {
      "cell_type": "code",
      "source": [
        "from google.colab import drive\n",
        "drive.mount('/content/drive')"
      ],
      "metadata": {
        "colab": {
          "base_uri": "https://localhost:8080/"
        },
        "id": "_Z5qv0TyJQsL",
        "outputId": "c3706049-c0ee-4d17-965a-7fe66ad37a75"
      },
      "execution_count": 1,
      "outputs": [
        {
          "output_type": "stream",
          "name": "stdout",
          "text": [
            "Drive already mounted at /content/drive; to attempt to forcibly remount, call drive.mount(\"/content/drive\", force_remount=True).\n"
          ]
        }
      ]
    },
    {
      "cell_type": "code",
      "execution_count": 2,
      "metadata": {
        "id": "tED8Vi11S3Ly"
      },
      "outputs": [],
      "source": [
        "import pandas as pd\n",
        "import numpy as np\n",
        "import seaborn as sns\n",
        "import matplotlib\n",
        "import matplotlib.pyplot as plt\n",
        "%matplotlib inline\n",
        "\n",
        "# 레티나 설정을 해주면 글씨가 좀 더 선명하게 보입니다.\n",
        "# 폰트의 주변이 흐릿하게 보이는 것을 방지합니다.\n",
        "%config InlineBackend.figure_format = 'retina'"
      ]
    },
    {
      "cell_type": "markdown",
      "source": [
        "## 한글 글꼴 설정"
      ],
      "metadata": {
        "id": "nssD6KtuXf8u"
      }
    },
    {
      "cell_type": "code",
      "source": [
        "# 한글 폰트 '나눔바른고딕' 설치\n",
        "!sudo apt-get install -y fonts-nanum\n",
        "!sudo fc-cache -fv\n",
        "!rm ~/.cache/matplotlib -rf"
      ],
      "metadata": {
        "colab": {
          "base_uri": "https://localhost:8080/"
        },
        "id": "0_O5acHSXeo1",
        "outputId": "fb8e522d-69e8-4af3-b5f4-dd565f3fb2ea"
      },
      "execution_count": 3,
      "outputs": [
        {
          "output_type": "stream",
          "name": "stdout",
          "text": [
            "Reading package lists... Done\n",
            "Building dependency tree       \n",
            "Reading state information... Done\n",
            "The following NEW packages will be installed:\n",
            "  fonts-nanum\n",
            "0 upgraded, 1 newly installed, 0 to remove and 41 not upgraded.\n",
            "Need to get 9,604 kB of archives.\n",
            "After this operation, 29.5 MB of additional disk space will be used.\n",
            "Get:1 http://archive.ubuntu.com/ubuntu bionic/universe amd64 fonts-nanum all 20170925-1 [9,604 kB]\n",
            "Fetched 9,604 kB in 3s (3,581 kB/s)\n",
            "debconf: unable to initialize frontend: Dialog\n",
            "debconf: (No usable dialog-like program is installed, so the dialog based frontend cannot be used. at /usr/share/perl5/Debconf/FrontEnd/Dialog.pm line 76, <> line 1.)\n",
            "debconf: falling back to frontend: Readline\n",
            "debconf: unable to initialize frontend: Readline\n",
            "debconf: (This frontend requires a controlling tty.)\n",
            "debconf: falling back to frontend: Teletype\n",
            "dpkg-preconfigure: unable to re-open stdin: \n",
            "Selecting previously unselected package fonts-nanum.\n",
            "(Reading database ... 155514 files and directories currently installed.)\n",
            "Preparing to unpack .../fonts-nanum_20170925-1_all.deb ...\n",
            "Unpacking fonts-nanum (20170925-1) ...\n",
            "Setting up fonts-nanum (20170925-1) ...\n",
            "Processing triggers for fontconfig (2.12.6-0ubuntu2) ...\n",
            "/usr/share/fonts: caching, new cache contents: 0 fonts, 1 dirs\n",
            "/usr/share/fonts/truetype: caching, new cache contents: 0 fonts, 3 dirs\n",
            "/usr/share/fonts/truetype/humor-sans: caching, new cache contents: 1 fonts, 0 dirs\n",
            "/usr/share/fonts/truetype/liberation: caching, new cache contents: 16 fonts, 0 dirs\n",
            "/usr/share/fonts/truetype/nanum: caching, new cache contents: 10 fonts, 0 dirs\n",
            "/usr/local/share/fonts: caching, new cache contents: 0 fonts, 0 dirs\n",
            "/root/.local/share/fonts: skipping, no such directory\n",
            "/root/.fonts: skipping, no such directory\n",
            "/var/cache/fontconfig: cleaning cache directory\n",
            "/root/.cache/fontconfig: not cleaning non-existent cache directory\n",
            "/root/.fontconfig: not cleaning non-existent cache directory\n",
            "fc-cache: succeeded\n"
          ]
        }
      ]
    },
    {
      "cell_type": "code",
      "source": [
        "plt.rc('font', family='NanumBarunGothic')"
      ],
      "metadata": {
        "id": "yC8mIlKvXiBZ"
      },
      "execution_count": 3,
      "outputs": []
    },
    {
      "cell_type": "markdown",
      "source": [
        "## 데이터 불러오기"
      ],
      "metadata": {
        "id": "epgm766FiPAz"
      }
    },
    {
      "cell_type": "code",
      "source": [
        "import os\n",
        "\n",
        "# 다운로드 받은 파일을 판다스의 read_csv 를 통해 읽어옵니다.\n",
        "# 파일을 읽어온 후 shape 로 행과 열의 수를 출력합니다.\n",
        "csv_path = '/content/drive/MyDrive/health/health_data.csv'\n",
        "df2 = pd.read_csv(csv_path, encoding='cp949')\n",
        "\n",
        "df = df2.copy()\n",
        "pd.set_option('display.max_columns', None) # 컬럼 수가 많으므로 요약되어 표시되지 않게 합니다.\n",
        "df # 데이터를 확인합니다."
      ],
      "metadata": {
        "colab": {
          "base_uri": "https://localhost:8080/",
          "height": 800
        },
        "id": "cRcV4UQqIsJh",
        "outputId": "11507b1d-808e-4393-dda8-b45401ed0d58"
      },
      "execution_count": 4,
      "outputs": [
        {
          "output_type": "execute_result",
          "data": {
            "text/plain": [
              "        기준년도  가입자 일련번호  시도코드  성별코드  연령대 코드(5세단위)  신장(5Cm단위)  체중(5Kg 단위)  허리둘레  \\\n",
              "0       2020         1    36     1             9        165          60  72.1   \n",
              "1       2020         2    27     2            13        150          65  81.0   \n",
              "2       2020         3    11     2            12        155          55  70.0   \n",
              "3       2020         4    31     1            13        160          70  90.8   \n",
              "4       2020         5    41     2            12        155          50  75.2   \n",
              "...      ...       ...   ...   ...           ...        ...         ...   ...   \n",
              "999995  2020    999996    41     2            13        145          55  81.0   \n",
              "999996  2020    999997    26     2            12        160          55  76.5   \n",
              "999997  2020    999998    48     1             9        175          70  85.0   \n",
              "999998  2020    999999    48     2             9        160          70  91.0   \n",
              "999999  2020   1000000    28     1            11        160          55  76.1   \n",
              "\n",
              "        시력(좌)  시력(우)  청력(좌)  청력(우)  수축기 혈압  이완기 혈압  식전혈당(공복혈당)  총 콜레스테롤  \\\n",
              "0         1.2    1.5    1.0    1.0   127.0    79.0        90.0    188.0   \n",
              "1         0.8    0.8    1.0    1.0   110.0    73.0        87.0      NaN   \n",
              "2         0.6    0.7    1.0    1.0   123.0    80.0       102.0      NaN   \n",
              "3         1.0    1.0    1.0    2.0   134.0    84.0       146.0      NaN   \n",
              "4         1.5    1.2    1.0    1.0   144.0    89.0       110.0    220.0   \n",
              "...       ...    ...    ...    ...     ...     ...         ...      ...   \n",
              "999995    0.9    1.0    1.0    1.0   132.0    78.0       124.0    178.0   \n",
              "999996    1.5    1.5    1.0    1.0   100.0    64.0        98.0    288.0   \n",
              "999997    1.2    1.2    1.0    1.0   110.0    64.0        83.0      NaN   \n",
              "999998    0.6    0.5    1.0    1.0   137.0    82.0       111.0    208.0   \n",
              "999999    2.0    2.0    1.0    1.0   133.0    74.0       121.0    237.0   \n",
              "\n",
              "        트리글리세라이드  HDL 콜레스테롤  LDL 콜레스테롤   혈색소  요단백  혈청크레아티닌  (혈청지오티)AST  \\\n",
              "0           58.0       58.0      118.0  15.0  1.0      1.1        21.0   \n",
              "1            NaN        NaN        NaN  12.7  1.0      0.5        18.0   \n",
              "2            NaN        NaN        NaN  12.8  1.0      0.7        27.0   \n",
              "3            NaN        NaN        NaN  16.4  1.0      1.2        65.0   \n",
              "4          171.0       53.0      133.0  12.4  1.0      0.7        18.0   \n",
              "...          ...        ...        ...   ...  ...      ...         ...   \n",
              "999995     301.0       43.0       75.0  13.6  1.0      0.6        21.0   \n",
              "999996      93.0       71.0      198.0  14.0  1.0      0.8        21.0   \n",
              "999997       NaN        NaN        NaN  16.0  1.0      0.9        26.0   \n",
              "999998     113.0       59.0      126.0  11.9  1.0      1.0        25.0   \n",
              "999999      63.0       68.0      156.0  14.9  1.0      0.9        17.0   \n",
              "\n",
              "        (혈청지오티)ALT  감마 지티피  흡연상태  음주여부  구강검진 수검여부  치아우식증유무   치석    데이터 공개일자  \n",
              "0             27.0    21.0   1.0   0.0          0      NaN  NaN  2021-12-29  \n",
              "1             15.0    15.0   1.0   0.0          0      NaN  NaN  2021-12-29  \n",
              "2             25.0     7.0   1.0   0.0          0      NaN  NaN  2021-12-29  \n",
              "3             97.0    72.0   1.0   0.0          1      0.0  0.0  2021-12-29  \n",
              "4             17.0    14.0   1.0   0.0          0      NaN  NaN  2021-12-29  \n",
              "...            ...     ...   ...   ...        ...      ...  ...         ...  \n",
              "999995        25.0    18.0   1.0   0.0          0      NaN  NaN  2021-12-29  \n",
              "999996        14.0    19.0   1.0   1.0          0      NaN  NaN  2021-12-29  \n",
              "999997        20.0    17.0   1.0   1.0          0      NaN  NaN  2021-12-29  \n",
              "999998        29.0    13.0   1.0   0.0          0      NaN  NaN  2021-12-29  \n",
              "999999        13.0    24.0   2.0   0.0          0      NaN  NaN  2021-12-29  \n",
              "\n",
              "[1000000 rows x 31 columns]"
            ],
            "text/html": [
              "\n",
              "  <div id=\"df-c8312ba7-c2e7-48f7-80df-b4c6cc5b4c64\">\n",
              "    <div class=\"colab-df-container\">\n",
              "      <div>\n",
              "<style scoped>\n",
              "    .dataframe tbody tr th:only-of-type {\n",
              "        vertical-align: middle;\n",
              "    }\n",
              "\n",
              "    .dataframe tbody tr th {\n",
              "        vertical-align: top;\n",
              "    }\n",
              "\n",
              "    .dataframe thead th {\n",
              "        text-align: right;\n",
              "    }\n",
              "</style>\n",
              "<table border=\"1\" class=\"dataframe\">\n",
              "  <thead>\n",
              "    <tr style=\"text-align: right;\">\n",
              "      <th></th>\n",
              "      <th>기준년도</th>\n",
              "      <th>가입자 일련번호</th>\n",
              "      <th>시도코드</th>\n",
              "      <th>성별코드</th>\n",
              "      <th>연령대 코드(5세단위)</th>\n",
              "      <th>신장(5Cm단위)</th>\n",
              "      <th>체중(5Kg 단위)</th>\n",
              "      <th>허리둘레</th>\n",
              "      <th>시력(좌)</th>\n",
              "      <th>시력(우)</th>\n",
              "      <th>청력(좌)</th>\n",
              "      <th>청력(우)</th>\n",
              "      <th>수축기 혈압</th>\n",
              "      <th>이완기 혈압</th>\n",
              "      <th>식전혈당(공복혈당)</th>\n",
              "      <th>총 콜레스테롤</th>\n",
              "      <th>트리글리세라이드</th>\n",
              "      <th>HDL 콜레스테롤</th>\n",
              "      <th>LDL 콜레스테롤</th>\n",
              "      <th>혈색소</th>\n",
              "      <th>요단백</th>\n",
              "      <th>혈청크레아티닌</th>\n",
              "      <th>(혈청지오티)AST</th>\n",
              "      <th>(혈청지오티)ALT</th>\n",
              "      <th>감마 지티피</th>\n",
              "      <th>흡연상태</th>\n",
              "      <th>음주여부</th>\n",
              "      <th>구강검진 수검여부</th>\n",
              "      <th>치아우식증유무</th>\n",
              "      <th>치석</th>\n",
              "      <th>데이터 공개일자</th>\n",
              "    </tr>\n",
              "  </thead>\n",
              "  <tbody>\n",
              "    <tr>\n",
              "      <th>0</th>\n",
              "      <td>2020</td>\n",
              "      <td>1</td>\n",
              "      <td>36</td>\n",
              "      <td>1</td>\n",
              "      <td>9</td>\n",
              "      <td>165</td>\n",
              "      <td>60</td>\n",
              "      <td>72.1</td>\n",
              "      <td>1.2</td>\n",
              "      <td>1.5</td>\n",
              "      <td>1.0</td>\n",
              "      <td>1.0</td>\n",
              "      <td>127.0</td>\n",
              "      <td>79.0</td>\n",
              "      <td>90.0</td>\n",
              "      <td>188.0</td>\n",
              "      <td>58.0</td>\n",
              "      <td>58.0</td>\n",
              "      <td>118.0</td>\n",
              "      <td>15.0</td>\n",
              "      <td>1.0</td>\n",
              "      <td>1.1</td>\n",
              "      <td>21.0</td>\n",
              "      <td>27.0</td>\n",
              "      <td>21.0</td>\n",
              "      <td>1.0</td>\n",
              "      <td>0.0</td>\n",
              "      <td>0</td>\n",
              "      <td>NaN</td>\n",
              "      <td>NaN</td>\n",
              "      <td>2021-12-29</td>\n",
              "    </tr>\n",
              "    <tr>\n",
              "      <th>1</th>\n",
              "      <td>2020</td>\n",
              "      <td>2</td>\n",
              "      <td>27</td>\n",
              "      <td>2</td>\n",
              "      <td>13</td>\n",
              "      <td>150</td>\n",
              "      <td>65</td>\n",
              "      <td>81.0</td>\n",
              "      <td>0.8</td>\n",
              "      <td>0.8</td>\n",
              "      <td>1.0</td>\n",
              "      <td>1.0</td>\n",
              "      <td>110.0</td>\n",
              "      <td>73.0</td>\n",
              "      <td>87.0</td>\n",
              "      <td>NaN</td>\n",
              "      <td>NaN</td>\n",
              "      <td>NaN</td>\n",
              "      <td>NaN</td>\n",
              "      <td>12.7</td>\n",
              "      <td>1.0</td>\n",
              "      <td>0.5</td>\n",
              "      <td>18.0</td>\n",
              "      <td>15.0</td>\n",
              "      <td>15.0</td>\n",
              "      <td>1.0</td>\n",
              "      <td>0.0</td>\n",
              "      <td>0</td>\n",
              "      <td>NaN</td>\n",
              "      <td>NaN</td>\n",
              "      <td>2021-12-29</td>\n",
              "    </tr>\n",
              "    <tr>\n",
              "      <th>2</th>\n",
              "      <td>2020</td>\n",
              "      <td>3</td>\n",
              "      <td>11</td>\n",
              "      <td>2</td>\n",
              "      <td>12</td>\n",
              "      <td>155</td>\n",
              "      <td>55</td>\n",
              "      <td>70.0</td>\n",
              "      <td>0.6</td>\n",
              "      <td>0.7</td>\n",
              "      <td>1.0</td>\n",
              "      <td>1.0</td>\n",
              "      <td>123.0</td>\n",
              "      <td>80.0</td>\n",
              "      <td>102.0</td>\n",
              "      <td>NaN</td>\n",
              "      <td>NaN</td>\n",
              "      <td>NaN</td>\n",
              "      <td>NaN</td>\n",
              "      <td>12.8</td>\n",
              "      <td>1.0</td>\n",
              "      <td>0.7</td>\n",
              "      <td>27.0</td>\n",
              "      <td>25.0</td>\n",
              "      <td>7.0</td>\n",
              "      <td>1.0</td>\n",
              "      <td>0.0</td>\n",
              "      <td>0</td>\n",
              "      <td>NaN</td>\n",
              "      <td>NaN</td>\n",
              "      <td>2021-12-29</td>\n",
              "    </tr>\n",
              "    <tr>\n",
              "      <th>3</th>\n",
              "      <td>2020</td>\n",
              "      <td>4</td>\n",
              "      <td>31</td>\n",
              "      <td>1</td>\n",
              "      <td>13</td>\n",
              "      <td>160</td>\n",
              "      <td>70</td>\n",
              "      <td>90.8</td>\n",
              "      <td>1.0</td>\n",
              "      <td>1.0</td>\n",
              "      <td>1.0</td>\n",
              "      <td>2.0</td>\n",
              "      <td>134.0</td>\n",
              "      <td>84.0</td>\n",
              "      <td>146.0</td>\n",
              "      <td>NaN</td>\n",
              "      <td>NaN</td>\n",
              "      <td>NaN</td>\n",
              "      <td>NaN</td>\n",
              "      <td>16.4</td>\n",
              "      <td>1.0</td>\n",
              "      <td>1.2</td>\n",
              "      <td>65.0</td>\n",
              "      <td>97.0</td>\n",
              "      <td>72.0</td>\n",
              "      <td>1.0</td>\n",
              "      <td>0.0</td>\n",
              "      <td>1</td>\n",
              "      <td>0.0</td>\n",
              "      <td>0.0</td>\n",
              "      <td>2021-12-29</td>\n",
              "    </tr>\n",
              "    <tr>\n",
              "      <th>4</th>\n",
              "      <td>2020</td>\n",
              "      <td>5</td>\n",
              "      <td>41</td>\n",
              "      <td>2</td>\n",
              "      <td>12</td>\n",
              "      <td>155</td>\n",
              "      <td>50</td>\n",
              "      <td>75.2</td>\n",
              "      <td>1.5</td>\n",
              "      <td>1.2</td>\n",
              "      <td>1.0</td>\n",
              "      <td>1.0</td>\n",
              "      <td>144.0</td>\n",
              "      <td>89.0</td>\n",
              "      <td>110.0</td>\n",
              "      <td>220.0</td>\n",
              "      <td>171.0</td>\n",
              "      <td>53.0</td>\n",
              "      <td>133.0</td>\n",
              "      <td>12.4</td>\n",
              "      <td>1.0</td>\n",
              "      <td>0.7</td>\n",
              "      <td>18.0</td>\n",
              "      <td>17.0</td>\n",
              "      <td>14.0</td>\n",
              "      <td>1.0</td>\n",
              "      <td>0.0</td>\n",
              "      <td>0</td>\n",
              "      <td>NaN</td>\n",
              "      <td>NaN</td>\n",
              "      <td>2021-12-29</td>\n",
              "    </tr>\n",
              "    <tr>\n",
              "      <th>...</th>\n",
              "      <td>...</td>\n",
              "      <td>...</td>\n",
              "      <td>...</td>\n",
              "      <td>...</td>\n",
              "      <td>...</td>\n",
              "      <td>...</td>\n",
              "      <td>...</td>\n",
              "      <td>...</td>\n",
              "      <td>...</td>\n",
              "      <td>...</td>\n",
              "      <td>...</td>\n",
              "      <td>...</td>\n",
              "      <td>...</td>\n",
              "      <td>...</td>\n",
              "      <td>...</td>\n",
              "      <td>...</td>\n",
              "      <td>...</td>\n",
              "      <td>...</td>\n",
              "      <td>...</td>\n",
              "      <td>...</td>\n",
              "      <td>...</td>\n",
              "      <td>...</td>\n",
              "      <td>...</td>\n",
              "      <td>...</td>\n",
              "      <td>...</td>\n",
              "      <td>...</td>\n",
              "      <td>...</td>\n",
              "      <td>...</td>\n",
              "      <td>...</td>\n",
              "      <td>...</td>\n",
              "      <td>...</td>\n",
              "    </tr>\n",
              "    <tr>\n",
              "      <th>999995</th>\n",
              "      <td>2020</td>\n",
              "      <td>999996</td>\n",
              "      <td>41</td>\n",
              "      <td>2</td>\n",
              "      <td>13</td>\n",
              "      <td>145</td>\n",
              "      <td>55</td>\n",
              "      <td>81.0</td>\n",
              "      <td>0.9</td>\n",
              "      <td>1.0</td>\n",
              "      <td>1.0</td>\n",
              "      <td>1.0</td>\n",
              "      <td>132.0</td>\n",
              "      <td>78.0</td>\n",
              "      <td>124.0</td>\n",
              "      <td>178.0</td>\n",
              "      <td>301.0</td>\n",
              "      <td>43.0</td>\n",
              "      <td>75.0</td>\n",
              "      <td>13.6</td>\n",
              "      <td>1.0</td>\n",
              "      <td>0.6</td>\n",
              "      <td>21.0</td>\n",
              "      <td>25.0</td>\n",
              "      <td>18.0</td>\n",
              "      <td>1.0</td>\n",
              "      <td>0.0</td>\n",
              "      <td>0</td>\n",
              "      <td>NaN</td>\n",
              "      <td>NaN</td>\n",
              "      <td>2021-12-29</td>\n",
              "    </tr>\n",
              "    <tr>\n",
              "      <th>999996</th>\n",
              "      <td>2020</td>\n",
              "      <td>999997</td>\n",
              "      <td>26</td>\n",
              "      <td>2</td>\n",
              "      <td>12</td>\n",
              "      <td>160</td>\n",
              "      <td>55</td>\n",
              "      <td>76.5</td>\n",
              "      <td>1.5</td>\n",
              "      <td>1.5</td>\n",
              "      <td>1.0</td>\n",
              "      <td>1.0</td>\n",
              "      <td>100.0</td>\n",
              "      <td>64.0</td>\n",
              "      <td>98.0</td>\n",
              "      <td>288.0</td>\n",
              "      <td>93.0</td>\n",
              "      <td>71.0</td>\n",
              "      <td>198.0</td>\n",
              "      <td>14.0</td>\n",
              "      <td>1.0</td>\n",
              "      <td>0.8</td>\n",
              "      <td>21.0</td>\n",
              "      <td>14.0</td>\n",
              "      <td>19.0</td>\n",
              "      <td>1.0</td>\n",
              "      <td>1.0</td>\n",
              "      <td>0</td>\n",
              "      <td>NaN</td>\n",
              "      <td>NaN</td>\n",
              "      <td>2021-12-29</td>\n",
              "    </tr>\n",
              "    <tr>\n",
              "      <th>999997</th>\n",
              "      <td>2020</td>\n",
              "      <td>999998</td>\n",
              "      <td>48</td>\n",
              "      <td>1</td>\n",
              "      <td>9</td>\n",
              "      <td>175</td>\n",
              "      <td>70</td>\n",
              "      <td>85.0</td>\n",
              "      <td>1.2</td>\n",
              "      <td>1.2</td>\n",
              "      <td>1.0</td>\n",
              "      <td>1.0</td>\n",
              "      <td>110.0</td>\n",
              "      <td>64.0</td>\n",
              "      <td>83.0</td>\n",
              "      <td>NaN</td>\n",
              "      <td>NaN</td>\n",
              "      <td>NaN</td>\n",
              "      <td>NaN</td>\n",
              "      <td>16.0</td>\n",
              "      <td>1.0</td>\n",
              "      <td>0.9</td>\n",
              "      <td>26.0</td>\n",
              "      <td>20.0</td>\n",
              "      <td>17.0</td>\n",
              "      <td>1.0</td>\n",
              "      <td>1.0</td>\n",
              "      <td>0</td>\n",
              "      <td>NaN</td>\n",
              "      <td>NaN</td>\n",
              "      <td>2021-12-29</td>\n",
              "    </tr>\n",
              "    <tr>\n",
              "      <th>999998</th>\n",
              "      <td>2020</td>\n",
              "      <td>999999</td>\n",
              "      <td>48</td>\n",
              "      <td>2</td>\n",
              "      <td>9</td>\n",
              "      <td>160</td>\n",
              "      <td>70</td>\n",
              "      <td>91.0</td>\n",
              "      <td>0.6</td>\n",
              "      <td>0.5</td>\n",
              "      <td>1.0</td>\n",
              "      <td>1.0</td>\n",
              "      <td>137.0</td>\n",
              "      <td>82.0</td>\n",
              "      <td>111.0</td>\n",
              "      <td>208.0</td>\n",
              "      <td>113.0</td>\n",
              "      <td>59.0</td>\n",
              "      <td>126.0</td>\n",
              "      <td>11.9</td>\n",
              "      <td>1.0</td>\n",
              "      <td>1.0</td>\n",
              "      <td>25.0</td>\n",
              "      <td>29.0</td>\n",
              "      <td>13.0</td>\n",
              "      <td>1.0</td>\n",
              "      <td>0.0</td>\n",
              "      <td>0</td>\n",
              "      <td>NaN</td>\n",
              "      <td>NaN</td>\n",
              "      <td>2021-12-29</td>\n",
              "    </tr>\n",
              "    <tr>\n",
              "      <th>999999</th>\n",
              "      <td>2020</td>\n",
              "      <td>1000000</td>\n",
              "      <td>28</td>\n",
              "      <td>1</td>\n",
              "      <td>11</td>\n",
              "      <td>160</td>\n",
              "      <td>55</td>\n",
              "      <td>76.1</td>\n",
              "      <td>2.0</td>\n",
              "      <td>2.0</td>\n",
              "      <td>1.0</td>\n",
              "      <td>1.0</td>\n",
              "      <td>133.0</td>\n",
              "      <td>74.0</td>\n",
              "      <td>121.0</td>\n",
              "      <td>237.0</td>\n",
              "      <td>63.0</td>\n",
              "      <td>68.0</td>\n",
              "      <td>156.0</td>\n",
              "      <td>14.9</td>\n",
              "      <td>1.0</td>\n",
              "      <td>0.9</td>\n",
              "      <td>17.0</td>\n",
              "      <td>13.0</td>\n",
              "      <td>24.0</td>\n",
              "      <td>2.0</td>\n",
              "      <td>0.0</td>\n",
              "      <td>0</td>\n",
              "      <td>NaN</td>\n",
              "      <td>NaN</td>\n",
              "      <td>2021-12-29</td>\n",
              "    </tr>\n",
              "  </tbody>\n",
              "</table>\n",
              "<p>1000000 rows × 31 columns</p>\n",
              "</div>\n",
              "      <button class=\"colab-df-convert\" onclick=\"convertToInteractive('df-c8312ba7-c2e7-48f7-80df-b4c6cc5b4c64')\"\n",
              "              title=\"Convert this dataframe to an interactive table.\"\n",
              "              style=\"display:none;\">\n",
              "        \n",
              "  <svg xmlns=\"http://www.w3.org/2000/svg\" height=\"24px\"viewBox=\"0 0 24 24\"\n",
              "       width=\"24px\">\n",
              "    <path d=\"M0 0h24v24H0V0z\" fill=\"none\"/>\n",
              "    <path d=\"M18.56 5.44l.94 2.06.94-2.06 2.06-.94-2.06-.94-.94-2.06-.94 2.06-2.06.94zm-11 1L8.5 8.5l.94-2.06 2.06-.94-2.06-.94L8.5 2.5l-.94 2.06-2.06.94zm10 10l.94 2.06.94-2.06 2.06-.94-2.06-.94-.94-2.06-.94 2.06-2.06.94z\"/><path d=\"M17.41 7.96l-1.37-1.37c-.4-.4-.92-.59-1.43-.59-.52 0-1.04.2-1.43.59L10.3 9.45l-7.72 7.72c-.78.78-.78 2.05 0 2.83L4 21.41c.39.39.9.59 1.41.59.51 0 1.02-.2 1.41-.59l7.78-7.78 2.81-2.81c.8-.78.8-2.07 0-2.86zM5.41 20L4 18.59l7.72-7.72 1.47 1.35L5.41 20z\"/>\n",
              "  </svg>\n",
              "      </button>\n",
              "      \n",
              "  <style>\n",
              "    .colab-df-container {\n",
              "      display:flex;\n",
              "      flex-wrap:wrap;\n",
              "      gap: 12px;\n",
              "    }\n",
              "\n",
              "    .colab-df-convert {\n",
              "      background-color: #E8F0FE;\n",
              "      border: none;\n",
              "      border-radius: 50%;\n",
              "      cursor: pointer;\n",
              "      display: none;\n",
              "      fill: #1967D2;\n",
              "      height: 32px;\n",
              "      padding: 0 0 0 0;\n",
              "      width: 32px;\n",
              "    }\n",
              "\n",
              "    .colab-df-convert:hover {\n",
              "      background-color: #E2EBFA;\n",
              "      box-shadow: 0px 1px 2px rgba(60, 64, 67, 0.3), 0px 1px 3px 1px rgba(60, 64, 67, 0.15);\n",
              "      fill: #174EA6;\n",
              "    }\n",
              "\n",
              "    [theme=dark] .colab-df-convert {\n",
              "      background-color: #3B4455;\n",
              "      fill: #D2E3FC;\n",
              "    }\n",
              "\n",
              "    [theme=dark] .colab-df-convert:hover {\n",
              "      background-color: #434B5C;\n",
              "      box-shadow: 0px 1px 3px 1px rgba(0, 0, 0, 0.15);\n",
              "      filter: drop-shadow(0px 1px 2px rgba(0, 0, 0, 0.3));\n",
              "      fill: #FFFFFF;\n",
              "    }\n",
              "  </style>\n",
              "\n",
              "      <script>\n",
              "        const buttonEl =\n",
              "          document.querySelector('#df-c8312ba7-c2e7-48f7-80df-b4c6cc5b4c64 button.colab-df-convert');\n",
              "        buttonEl.style.display =\n",
              "          google.colab.kernel.accessAllowed ? 'block' : 'none';\n",
              "\n",
              "        async function convertToInteractive(key) {\n",
              "          const element = document.querySelector('#df-c8312ba7-c2e7-48f7-80df-b4c6cc5b4c64');\n",
              "          const dataTable =\n",
              "            await google.colab.kernel.invokeFunction('convertToInteractive',\n",
              "                                                     [key], {});\n",
              "          if (!dataTable) return;\n",
              "\n",
              "          const docLinkHtml = 'Like what you see? Visit the ' +\n",
              "            '<a target=\"_blank\" href=https://colab.research.google.com/notebooks/data_table.ipynb>data table notebook</a>'\n",
              "            + ' to learn more about interactive tables.';\n",
              "          element.innerHTML = '';\n",
              "          dataTable['output_type'] = 'display_data';\n",
              "          await google.colab.output.renderOutput(dataTable, element);\n",
              "          const docLink = document.createElement('div');\n",
              "          docLink.innerHTML = docLinkHtml;\n",
              "          element.appendChild(docLink);\n",
              "        }\n",
              "      </script>\n",
              "    </div>\n",
              "  </div>\n",
              "  "
            ]
          },
          "metadata": {},
          "execution_count": 4
        }
      ]
    },
    {
      "cell_type": "code",
      "source": [
        "# dtypes를 통해 데이터 형식만 출력\n",
        "# df.dtypes\n",
        "\n",
        "# info를 통해 데이터의 크기, 형식, 메모리 사용량 등을 봅니다.\n",
        "df.info()"
      ],
      "metadata": {
        "colab": {
          "base_uri": "https://localhost:8080/"
        },
        "id": "5QvOk7SPhpRY",
        "outputId": "22055e84-6720-4c09-bbcd-40bca31034d4"
      },
      "execution_count": 5,
      "outputs": [
        {
          "output_type": "stream",
          "name": "stdout",
          "text": [
            "<class 'pandas.core.frame.DataFrame'>\n",
            "RangeIndex: 1000000 entries, 0 to 999999\n",
            "Data columns (total 31 columns):\n",
            " #   Column        Non-Null Count    Dtype  \n",
            "---  ------        --------------    -----  \n",
            " 0   기준년도          1000000 non-null  int64  \n",
            " 1   가입자 일련번호      1000000 non-null  int64  \n",
            " 2   시도코드          1000000 non-null  int64  \n",
            " 3   성별코드          1000000 non-null  int64  \n",
            " 4   연령대 코드(5세단위)  1000000 non-null  int64  \n",
            " 5   신장(5Cm단위)     1000000 non-null  int64  \n",
            " 6   체중(5Kg 단위)    1000000 non-null  int64  \n",
            " 7   허리둘레          999892 non-null   float64\n",
            " 8   시력(좌)         999743 non-null   float64\n",
            " 9   시력(우)         999748 non-null   float64\n",
            " 10  청력(좌)         999778 non-null   float64\n",
            " 11  청력(우)         999770 non-null   float64\n",
            " 12  수축기 혈압        992468 non-null   float64\n",
            " 13  이완기 혈압        992466 non-null   float64\n",
            " 14  식전혈당(공복혈당)    992398 non-null   float64\n",
            " 15  총 콜레스테롤       402306 non-null   float64\n",
            " 16  트리글리세라이드      402322 non-null   float64\n",
            " 17  HDL 콜레스테롤     402315 non-null   float64\n",
            " 18  LDL 콜레스테롤     394471 non-null   float64\n",
            " 19  혈색소           992389 non-null   float64\n",
            " 20  요단백           987859 non-null   float64\n",
            " 21  혈청크레아티닌       992398 non-null   float64\n",
            " 22  (혈청지오티)AST    992399 non-null   float64\n",
            " 23  (혈청지오티)ALT    992398 non-null   float64\n",
            " 24  감마 지티피        992397 non-null   float64\n",
            " 25  흡연상태          999657 non-null   float64\n",
            " 26  음주여부          999804 non-null   float64\n",
            " 27  구강검진 수검여부     1000000 non-null  int64  \n",
            " 28  치아우식증유무       331383 non-null   float64\n",
            " 29  치석            331382 non-null   float64\n",
            " 30  데이터 공개일자      1000000 non-null  object \n",
            "dtypes: float64(22), int64(8), object(1)\n",
            "memory usage: 236.5+ MB\n"
          ]
        }
      ]
    },
    {
      "cell_type": "code",
      "source": [
        "# 1차 가공 : 사용하지 데이터 삭제\n",
        "df.drop(['기준년도','가입자 일련번호','시도코드','허리둘레','시력(좌)','시력(우)','청력(좌)','청력(우)','수축기 혈압','이완기 혈압','구강검진 수검여부','치아우식증유무','치석','데이터 공개일자'], axis=1, inplace=True)\n",
        "\n",
        "# sample, head, tail을 통해 데이터를 미리보기 합니다.\n",
        "df.head()"
      ],
      "metadata": {
        "colab": {
          "base_uri": "https://localhost:8080/",
          "height": 409
        },
        "id": "_W5sN4b56DjN",
        "outputId": "8055b023-f51f-4ac5-88ae-8cacef35a734"
      },
      "execution_count": 6,
      "outputs": [
        {
          "output_type": "execute_result",
          "data": {
            "text/plain": [
              "   성별코드  연령대 코드(5세단위)  신장(5Cm단위)  체중(5Kg 단위)  식전혈당(공복혈당)  총 콜레스테롤  트리글리세라이드  \\\n",
              "0     1             9        165          60        90.0    188.0      58.0   \n",
              "1     2            13        150          65        87.0      NaN       NaN   \n",
              "2     2            12        155          55       102.0      NaN       NaN   \n",
              "3     1            13        160          70       146.0      NaN       NaN   \n",
              "4     2            12        155          50       110.0    220.0     171.0   \n",
              "\n",
              "   HDL 콜레스테롤  LDL 콜레스테롤   혈색소  요단백  혈청크레아티닌  (혈청지오티)AST  (혈청지오티)ALT  감마 지티피  \\\n",
              "0       58.0      118.0  15.0  1.0      1.1        21.0        27.0    21.0   \n",
              "1        NaN        NaN  12.7  1.0      0.5        18.0        15.0    15.0   \n",
              "2        NaN        NaN  12.8  1.0      0.7        27.0        25.0     7.0   \n",
              "3        NaN        NaN  16.4  1.0      1.2        65.0        97.0    72.0   \n",
              "4       53.0      133.0  12.4  1.0      0.7        18.0        17.0    14.0   \n",
              "\n",
              "   흡연상태  음주여부  \n",
              "0   1.0   0.0  \n",
              "1   1.0   0.0  \n",
              "2   1.0   0.0  \n",
              "3   1.0   0.0  \n",
              "4   1.0   0.0  "
            ],
            "text/html": [
              "\n",
              "  <div id=\"df-59658e25-4c40-4830-a1f3-cb1e4b090b16\">\n",
              "    <div class=\"colab-df-container\">\n",
              "      <div>\n",
              "<style scoped>\n",
              "    .dataframe tbody tr th:only-of-type {\n",
              "        vertical-align: middle;\n",
              "    }\n",
              "\n",
              "    .dataframe tbody tr th {\n",
              "        vertical-align: top;\n",
              "    }\n",
              "\n",
              "    .dataframe thead th {\n",
              "        text-align: right;\n",
              "    }\n",
              "</style>\n",
              "<table border=\"1\" class=\"dataframe\">\n",
              "  <thead>\n",
              "    <tr style=\"text-align: right;\">\n",
              "      <th></th>\n",
              "      <th>성별코드</th>\n",
              "      <th>연령대 코드(5세단위)</th>\n",
              "      <th>신장(5Cm단위)</th>\n",
              "      <th>체중(5Kg 단위)</th>\n",
              "      <th>식전혈당(공복혈당)</th>\n",
              "      <th>총 콜레스테롤</th>\n",
              "      <th>트리글리세라이드</th>\n",
              "      <th>HDL 콜레스테롤</th>\n",
              "      <th>LDL 콜레스테롤</th>\n",
              "      <th>혈색소</th>\n",
              "      <th>요단백</th>\n",
              "      <th>혈청크레아티닌</th>\n",
              "      <th>(혈청지오티)AST</th>\n",
              "      <th>(혈청지오티)ALT</th>\n",
              "      <th>감마 지티피</th>\n",
              "      <th>흡연상태</th>\n",
              "      <th>음주여부</th>\n",
              "    </tr>\n",
              "  </thead>\n",
              "  <tbody>\n",
              "    <tr>\n",
              "      <th>0</th>\n",
              "      <td>1</td>\n",
              "      <td>9</td>\n",
              "      <td>165</td>\n",
              "      <td>60</td>\n",
              "      <td>90.0</td>\n",
              "      <td>188.0</td>\n",
              "      <td>58.0</td>\n",
              "      <td>58.0</td>\n",
              "      <td>118.0</td>\n",
              "      <td>15.0</td>\n",
              "      <td>1.0</td>\n",
              "      <td>1.1</td>\n",
              "      <td>21.0</td>\n",
              "      <td>27.0</td>\n",
              "      <td>21.0</td>\n",
              "      <td>1.0</td>\n",
              "      <td>0.0</td>\n",
              "    </tr>\n",
              "    <tr>\n",
              "      <th>1</th>\n",
              "      <td>2</td>\n",
              "      <td>13</td>\n",
              "      <td>150</td>\n",
              "      <td>65</td>\n",
              "      <td>87.0</td>\n",
              "      <td>NaN</td>\n",
              "      <td>NaN</td>\n",
              "      <td>NaN</td>\n",
              "      <td>NaN</td>\n",
              "      <td>12.7</td>\n",
              "      <td>1.0</td>\n",
              "      <td>0.5</td>\n",
              "      <td>18.0</td>\n",
              "      <td>15.0</td>\n",
              "      <td>15.0</td>\n",
              "      <td>1.0</td>\n",
              "      <td>0.0</td>\n",
              "    </tr>\n",
              "    <tr>\n",
              "      <th>2</th>\n",
              "      <td>2</td>\n",
              "      <td>12</td>\n",
              "      <td>155</td>\n",
              "      <td>55</td>\n",
              "      <td>102.0</td>\n",
              "      <td>NaN</td>\n",
              "      <td>NaN</td>\n",
              "      <td>NaN</td>\n",
              "      <td>NaN</td>\n",
              "      <td>12.8</td>\n",
              "      <td>1.0</td>\n",
              "      <td>0.7</td>\n",
              "      <td>27.0</td>\n",
              "      <td>25.0</td>\n",
              "      <td>7.0</td>\n",
              "      <td>1.0</td>\n",
              "      <td>0.0</td>\n",
              "    </tr>\n",
              "    <tr>\n",
              "      <th>3</th>\n",
              "      <td>1</td>\n",
              "      <td>13</td>\n",
              "      <td>160</td>\n",
              "      <td>70</td>\n",
              "      <td>146.0</td>\n",
              "      <td>NaN</td>\n",
              "      <td>NaN</td>\n",
              "      <td>NaN</td>\n",
              "      <td>NaN</td>\n",
              "      <td>16.4</td>\n",
              "      <td>1.0</td>\n",
              "      <td>1.2</td>\n",
              "      <td>65.0</td>\n",
              "      <td>97.0</td>\n",
              "      <td>72.0</td>\n",
              "      <td>1.0</td>\n",
              "      <td>0.0</td>\n",
              "    </tr>\n",
              "    <tr>\n",
              "      <th>4</th>\n",
              "      <td>2</td>\n",
              "      <td>12</td>\n",
              "      <td>155</td>\n",
              "      <td>50</td>\n",
              "      <td>110.0</td>\n",
              "      <td>220.0</td>\n",
              "      <td>171.0</td>\n",
              "      <td>53.0</td>\n",
              "      <td>133.0</td>\n",
              "      <td>12.4</td>\n",
              "      <td>1.0</td>\n",
              "      <td>0.7</td>\n",
              "      <td>18.0</td>\n",
              "      <td>17.0</td>\n",
              "      <td>14.0</td>\n",
              "      <td>1.0</td>\n",
              "      <td>0.0</td>\n",
              "    </tr>\n",
              "  </tbody>\n",
              "</table>\n",
              "</div>\n",
              "      <button class=\"colab-df-convert\" onclick=\"convertToInteractive('df-59658e25-4c40-4830-a1f3-cb1e4b090b16')\"\n",
              "              title=\"Convert this dataframe to an interactive table.\"\n",
              "              style=\"display:none;\">\n",
              "        \n",
              "  <svg xmlns=\"http://www.w3.org/2000/svg\" height=\"24px\"viewBox=\"0 0 24 24\"\n",
              "       width=\"24px\">\n",
              "    <path d=\"M0 0h24v24H0V0z\" fill=\"none\"/>\n",
              "    <path d=\"M18.56 5.44l.94 2.06.94-2.06 2.06-.94-2.06-.94-.94-2.06-.94 2.06-2.06.94zm-11 1L8.5 8.5l.94-2.06 2.06-.94-2.06-.94L8.5 2.5l-.94 2.06-2.06.94zm10 10l.94 2.06.94-2.06 2.06-.94-2.06-.94-.94-2.06-.94 2.06-2.06.94z\"/><path d=\"M17.41 7.96l-1.37-1.37c-.4-.4-.92-.59-1.43-.59-.52 0-1.04.2-1.43.59L10.3 9.45l-7.72 7.72c-.78.78-.78 2.05 0 2.83L4 21.41c.39.39.9.59 1.41.59.51 0 1.02-.2 1.41-.59l7.78-7.78 2.81-2.81c.8-.78.8-2.07 0-2.86zM5.41 20L4 18.59l7.72-7.72 1.47 1.35L5.41 20z\"/>\n",
              "  </svg>\n",
              "      </button>\n",
              "      \n",
              "  <style>\n",
              "    .colab-df-container {\n",
              "      display:flex;\n",
              "      flex-wrap:wrap;\n",
              "      gap: 12px;\n",
              "    }\n",
              "\n",
              "    .colab-df-convert {\n",
              "      background-color: #E8F0FE;\n",
              "      border: none;\n",
              "      border-radius: 50%;\n",
              "      cursor: pointer;\n",
              "      display: none;\n",
              "      fill: #1967D2;\n",
              "      height: 32px;\n",
              "      padding: 0 0 0 0;\n",
              "      width: 32px;\n",
              "    }\n",
              "\n",
              "    .colab-df-convert:hover {\n",
              "      background-color: #E2EBFA;\n",
              "      box-shadow: 0px 1px 2px rgba(60, 64, 67, 0.3), 0px 1px 3px 1px rgba(60, 64, 67, 0.15);\n",
              "      fill: #174EA6;\n",
              "    }\n",
              "\n",
              "    [theme=dark] .colab-df-convert {\n",
              "      background-color: #3B4455;\n",
              "      fill: #D2E3FC;\n",
              "    }\n",
              "\n",
              "    [theme=dark] .colab-df-convert:hover {\n",
              "      background-color: #434B5C;\n",
              "      box-shadow: 0px 1px 3px 1px rgba(0, 0, 0, 0.15);\n",
              "      filter: drop-shadow(0px 1px 2px rgba(0, 0, 0, 0.3));\n",
              "      fill: #FFFFFF;\n",
              "    }\n",
              "  </style>\n",
              "\n",
              "      <script>\n",
              "        const buttonEl =\n",
              "          document.querySelector('#df-59658e25-4c40-4830-a1f3-cb1e4b090b16 button.colab-df-convert');\n",
              "        buttonEl.style.display =\n",
              "          google.colab.kernel.accessAllowed ? 'block' : 'none';\n",
              "\n",
              "        async function convertToInteractive(key) {\n",
              "          const element = document.querySelector('#df-59658e25-4c40-4830-a1f3-cb1e4b090b16');\n",
              "          const dataTable =\n",
              "            await google.colab.kernel.invokeFunction('convertToInteractive',\n",
              "                                                     [key], {});\n",
              "          if (!dataTable) return;\n",
              "\n",
              "          const docLinkHtml = 'Like what you see? Visit the ' +\n",
              "            '<a target=\"_blank\" href=https://colab.research.google.com/notebooks/data_table.ipynb>data table notebook</a>'\n",
              "            + ' to learn more about interactive tables.';\n",
              "          element.innerHTML = '';\n",
              "          dataTable['output_type'] = 'display_data';\n",
              "          await google.colab.output.renderOutput(dataTable, element);\n",
              "          const docLink = document.createElement('div');\n",
              "          docLink.innerHTML = docLinkHtml;\n",
              "          element.appendChild(docLink);\n",
              "        }\n",
              "      </script>\n",
              "    </div>\n",
              "  </div>\n",
              "  "
            ]
          },
          "metadata": {},
          "execution_count": 6
        }
      ]
    },
    {
      "cell_type": "markdown",
      "source": [
        "### 결측치 확인"
      ],
      "metadata": {
        "id": "fl30Nz6DgGn2"
      }
    },
    {
      "cell_type": "code",
      "source": [
        "# Null 값 여부 확인\n",
        "df.isnull().sum()"
      ],
      "metadata": {
        "colab": {
          "base_uri": "https://localhost:8080/"
        },
        "id": "chd7vGzcgJ9M",
        "outputId": "d2c1f81b-66b2-4c3f-9125-1a756aa57280"
      },
      "execution_count": 7,
      "outputs": [
        {
          "output_type": "execute_result",
          "data": {
            "text/plain": [
              "성별코드                 0\n",
              "연령대 코드(5세단위)         0\n",
              "신장(5Cm단위)            0\n",
              "체중(5Kg 단위)           0\n",
              "식전혈당(공복혈당)        7602\n",
              "총 콜레스테롤         597694\n",
              "트리글리세라이드        597678\n",
              "HDL 콜레스테롤       597685\n",
              "LDL 콜레스테롤       605529\n",
              "혈색소               7611\n",
              "요단백              12141\n",
              "혈청크레아티닌           7602\n",
              "(혈청지오티)AST        7601\n",
              "(혈청지오티)ALT        7602\n",
              "감마 지티피            7603\n",
              "흡연상태               343\n",
              "음주여부               196\n",
              "dtype: int64"
            ]
          },
          "metadata": {},
          "execution_count": 7
        }
      ]
    },
    {
      "cell_type": "code",
      "source": [
        "# 판다스에 내장 된 plot을 통해 시각화를 합니다.\n",
        "df.isnull().sum().plot.barh(figsize=(10, 9))"
      ],
      "metadata": {
        "colab": {
          "base_uri": "https://localhost:8080/",
          "height": 556
        },
        "id": "ikg_Q4q5swbw",
        "outputId": "c4c25e7e-99f1-4b0c-f436-80edc1b725ac"
      },
      "execution_count": 8,
      "outputs": [
        {
          "output_type": "execute_result",
          "data": {
            "text/plain": [
              "<matplotlib.axes._subplots.AxesSubplot at 0x7f225aa9c9d0>"
            ]
          },
          "metadata": {},
          "execution_count": 8
        },
        {
          "output_type": "display_data",
          "data": {
            "text/plain": [
              "<Figure size 720x648 with 1 Axes>"
            ],
            "image/png": "[encoded data removed]"
          },
          "metadata": {
            "image/png": {
              "width": 667,
              "height": 521
            },
            "needs_background": "light"
          }
        }
      ]
    },
    {
      "cell_type": "code",
      "source": [
        "# 총 콜레스테롤, 트리글리세라이드, HDL 콜레스테롤, LDL 콜레스테롤 : 결측치가 60%를 차지 - 제거\n",
        "df.drop(['총 콜레스테롤','트리글리세라이드','HDL 콜레스테롤','LDL 콜레스테롤'], axis=1, inplace=True)\n",
        "df.head()"
      ],
      "metadata": {
        "colab": {
          "base_uri": "https://localhost:8080/",
          "height": 354
        },
        "id": "4c-6edaLIbz2",
        "outputId": "b2c8cea6-c6b4-4bb1-aa8b-fe92eb6ace78"
      },
      "execution_count": 9,
      "outputs": [
        {
          "output_type": "execute_result",
          "data": {
            "text/plain": [
              "   성별코드  연령대 코드(5세단위)  신장(5Cm단위)  체중(5Kg 단위)  식전혈당(공복혈당)   혈색소  요단백  혈청크레아티닌  \\\n",
              "0     1             9        165          60        90.0  15.0  1.0      1.1   \n",
              "1     2            13        150          65        87.0  12.7  1.0      0.5   \n",
              "2     2            12        155          55       102.0  12.8  1.0      0.7   \n",
              "3     1            13        160          70       146.0  16.4  1.0      1.2   \n",
              "4     2            12        155          50       110.0  12.4  1.0      0.7   \n",
              "\n",
              "   (혈청지오티)AST  (혈청지오티)ALT  감마 지티피  흡연상태  음주여부  \n",
              "0        21.0        27.0    21.0   1.0   0.0  \n",
              "1        18.0        15.0    15.0   1.0   0.0  \n",
              "2        27.0        25.0     7.0   1.0   0.0  \n",
              "3        65.0        97.0    72.0   1.0   0.0  \n",
              "4        18.0        17.0    14.0   1.0   0.0  "
            ],
            "text/html": [
              "\n",
              "  <div id=\"df-5a51f4f8-9206-4846-a670-05664aae449b\">\n",
              "    <div class=\"colab-df-container\">\n",
              "      <div>\n",
              "<style scoped>\n",
              "    .dataframe tbody tr th:only-of-type {\n",
              "        vertical-align: middle;\n",
              "    }\n",
              "\n",
              "    .dataframe tbody tr th {\n",
              "        vertical-align: top;\n",
              "    }\n",
              "\n",
              "    .dataframe thead th {\n",
              "        text-align: right;\n",
              "    }\n",
              "</style>\n",
              "<table border=\"1\" class=\"dataframe\">\n",
              "  <thead>\n",
              "    <tr style=\"text-align: right;\">\n",
              "      <th></th>\n",
              "      <th>성별코드</th>\n",
              "      <th>연령대 코드(5세단위)</th>\n",
              "      <th>신장(5Cm단위)</th>\n",
              "      <th>체중(5Kg 단위)</th>\n",
              "      <th>식전혈당(공복혈당)</th>\n",
              "      <th>혈색소</th>\n",
              "      <th>요단백</th>\n",
              "      <th>혈청크레아티닌</th>\n",
              "      <th>(혈청지오티)AST</th>\n",
              "      <th>(혈청지오티)ALT</th>\n",
              "      <th>감마 지티피</th>\n",
              "      <th>흡연상태</th>\n",
              "      <th>음주여부</th>\n",
              "    </tr>\n",
              "  </thead>\n",
              "  <tbody>\n",
              "    <tr>\n",
              "      <th>0</th>\n",
              "      <td>1</td>\n",
              "      <td>9</td>\n",
              "      <td>165</td>\n",
              "      <td>60</td>\n",
              "      <td>90.0</td>\n",
              "      <td>15.0</td>\n",
              "      <td>1.0</td>\n",
              "      <td>1.1</td>\n",
              "      <td>21.0</td>\n",
              "      <td>27.0</td>\n",
              "      <td>21.0</td>\n",
              "      <td>1.0</td>\n",
              "      <td>0.0</td>\n",
              "    </tr>\n",
              "    <tr>\n",
              "      <th>1</th>\n",
              "      <td>2</td>\n",
              "      <td>13</td>\n",
              "      <td>150</td>\n",
              "      <td>65</td>\n",
              "      <td>87.0</td>\n",
              "      <td>12.7</td>\n",
              "      <td>1.0</td>\n",
              "      <td>0.5</td>\n",
              "      <td>18.0</td>\n",
              "      <td>15.0</td>\n",
              "      <td>15.0</td>\n",
              "      <td>1.0</td>\n",
              "      <td>0.0</td>\n",
              "    </tr>\n",
              "    <tr>\n",
              "      <th>2</th>\n",
              "      <td>2</td>\n",
              "      <td>12</td>\n",
              "      <td>155</td>\n",
              "      <td>55</td>\n",
              "      <td>102.0</td>\n",
              "      <td>12.8</td>\n",
              "      <td>1.0</td>\n",
              "      <td>0.7</td>\n",
              "      <td>27.0</td>\n",
              "      <td>25.0</td>\n",
              "      <td>7.0</td>\n",
              "      <td>1.0</td>\n",
              "      <td>0.0</td>\n",
              "    </tr>\n",
              "    <tr>\n",
              "      <th>3</th>\n",
              "      <td>1</td>\n",
              "      <td>13</td>\n",
              "      <td>160</td>\n",
              "      <td>70</td>\n",
              "      <td>146.0</td>\n",
              "      <td>16.4</td>\n",
              "      <td>1.0</td>\n",
              "      <td>1.2</td>\n",
              "      <td>65.0</td>\n",
              "      <td>97.0</td>\n",
              "      <td>72.0</td>\n",
              "      <td>1.0</td>\n",
              "      <td>0.0</td>\n",
              "    </tr>\n",
              "    <tr>\n",
              "      <th>4</th>\n",
              "      <td>2</td>\n",
              "      <td>12</td>\n",
              "      <td>155</td>\n",
              "      <td>50</td>\n",
              "      <td>110.0</td>\n",
              "      <td>12.4</td>\n",
              "      <td>1.0</td>\n",
              "      <td>0.7</td>\n",
              "      <td>18.0</td>\n",
              "      <td>17.0</td>\n",
              "      <td>14.0</td>\n",
              "      <td>1.0</td>\n",
              "      <td>0.0</td>\n",
              "    </tr>\n",
              "  </tbody>\n",
              "</table>\n",
              "</div>\n",
              "      <button class=\"colab-df-convert\" onclick=\"convertToInteractive('df-5a51f4f8-9206-4846-a670-05664aae449b')\"\n",
              "              title=\"Convert this dataframe to an interactive table.\"\n",
              "              style=\"display:none;\">\n",
              "        \n",
              "  <svg xmlns=\"http://www.w3.org/2000/svg\" height=\"24px\"viewBox=\"0 0 24 24\"\n",
              "       width=\"24px\">\n",
              "    <path d=\"M0 0h24v24H0V0z\" fill=\"none\"/>\n",
              "    <path d=\"M18.56 5.44l.94 2.06.94-2.06 2.06-.94-2.06-.94-.94-2.06-.94 2.06-2.06.94zm-11 1L8.5 8.5l.94-2.06 2.06-.94-2.06-.94L8.5 2.5l-.94 2.06-2.06.94zm10 10l.94 2.06.94-2.06 2.06-.94-2.06-.94-.94-2.06-.94 2.06-2.06.94z\"/><path d=\"M17.41 7.96l-1.37-1.37c-.4-.4-.92-.59-1.43-.59-.52 0-1.04.2-1.43.59L10.3 9.45l-7.72 7.72c-.78.78-.78 2.05 0 2.83L4 21.41c.39.39.9.59 1.41.59.51 0 1.02-.2 1.41-.59l7.78-7.78 2.81-2.81c.8-.78.8-2.07 0-2.86zM5.41 20L4 18.59l7.72-7.72 1.47 1.35L5.41 20z\"/>\n",
              "  </svg>\n",
              "      </button>\n",
              "      \n",
              "  <style>\n",
              "    .colab-df-container {\n",
              "      display:flex;\n",
              "      flex-wrap:wrap;\n",
              "      gap: 12px;\n",
              "    }\n",
              "\n",
              "    .colab-df-convert {\n",
              "      background-color: #E8F0FE;\n",
              "      border: none;\n",
              "      border-radius: 50%;\n",
              "      cursor: pointer;\n",
              "      display: none;\n",
              "      fill: #1967D2;\n",
              "      height: 32px;\n",
              "      padding: 0 0 0 0;\n",
              "      width: 32px;\n",
              "    }\n",
              "\n",
              "    .colab-df-convert:hover {\n",
              "      background-color: #E2EBFA;\n",
              "      box-shadow: 0px 1px 2px rgba(60, 64, 67, 0.3), 0px 1px 3px 1px rgba(60, 64, 67, 0.15);\n",
              "      fill: #174EA6;\n",
              "    }\n",
              "\n",
              "    [theme=dark] .colab-df-convert {\n",
              "      background-color: #3B4455;\n",
              "      fill: #D2E3FC;\n",
              "    }\n",
              "\n",
              "    [theme=dark] .colab-df-convert:hover {\n",
              "      background-color: #434B5C;\n",
              "      box-shadow: 0px 1px 3px 1px rgba(0, 0, 0, 0.15);\n",
              "      filter: drop-shadow(0px 1px 2px rgba(0, 0, 0, 0.3));\n",
              "      fill: #FFFFFF;\n",
              "    }\n",
              "  </style>\n",
              "\n",
              "      <script>\n",
              "        const buttonEl =\n",
              "          document.querySelector('#df-5a51f4f8-9206-4846-a670-05664aae449b button.colab-df-convert');\n",
              "        buttonEl.style.display =\n",
              "          google.colab.kernel.accessAllowed ? 'block' : 'none';\n",
              "\n",
              "        async function convertToInteractive(key) {\n",
              "          const element = document.querySelector('#df-5a51f4f8-9206-4846-a670-05664aae449b');\n",
              "          const dataTable =\n",
              "            await google.colab.kernel.invokeFunction('convertToInteractive',\n",
              "                                                     [key], {});\n",
              "          if (!dataTable) return;\n",
              "\n",
              "          const docLinkHtml = 'Like what you see? Visit the ' +\n",
              "            '<a target=\"_blank\" href=https://colab.research.google.com/notebooks/data_table.ipynb>data table notebook</a>'\n",
              "            + ' to learn more about interactive tables.';\n",
              "          element.innerHTML = '';\n",
              "          dataTable['output_type'] = 'display_data';\n",
              "          await google.colab.output.renderOutput(dataTable, element);\n",
              "          const docLink = document.createElement('div');\n",
              "          docLink.innerHTML = docLinkHtml;\n",
              "          element.appendChild(docLink);\n",
              "        }\n",
              "      </script>\n",
              "    </div>\n",
              "  </div>\n",
              "  "
            ]
          },
          "metadata": {},
          "execution_count": 9
        }
      ]
    },
    {
      "cell_type": "code",
      "source": [
        "# NaN 값이 한개라도 존재하는 행 제거\n",
        "df.dropna(axis=0, how='any', subset=['식전혈당(공복혈당)','혈색소','요단백','혈청크레아티닌','(혈청지오티)AST','(혈청지오티)ALT','흡연상태','음주여부'], inplace=True)"
      ],
      "metadata": {
        "id": "oEq1SdBJJM4C"
      },
      "execution_count": 10,
      "outputs": []
    },
    {
      "cell_type": "code",
      "source": [
        "# Null 값 여부 확인\n",
        "df.isnull().sum()"
      ],
      "metadata": {
        "colab": {
          "base_uri": "https://localhost:8080/"
        },
        "id": "lhniUlE0Ld5J",
        "outputId": "c6e5775e-bc1f-4ea4-de3e-c2220a3ff17e"
      },
      "execution_count": 11,
      "outputs": [
        {
          "output_type": "execute_result",
          "data": {
            "text/plain": [
              "성별코드            0\n",
              "연령대 코드(5세단위)    0\n",
              "신장(5Cm단위)       0\n",
              "체중(5Kg 단위)      0\n",
              "식전혈당(공복혈당)      0\n",
              "혈색소             0\n",
              "요단백             0\n",
              "혈청크레아티닌         0\n",
              "(혈청지오티)AST      0\n",
              "(혈청지오티)ALT      0\n",
              "감마 지티피          0\n",
              "흡연상태            0\n",
              "음주여부            0\n",
              "dtype: int64"
            ]
          },
          "metadata": {},
          "execution_count": 11
        }
      ]
    },
    {
      "cell_type": "markdown",
      "source": [
        "### 기초 통계 분석"
      ],
      "metadata": {
        "id": "zVwwB53QgO1y"
      }
    },
    {
      "cell_type": "code",
      "source": [
        "# 기초 통계량을 살펴봅니다.\n",
        "df.describe()"
      ],
      "metadata": {
        "colab": {
          "base_uri": "https://localhost:8080/",
          "height": 382
        },
        "id": "pRbOxI27gM6u",
        "outputId": "e769189b-1883-40ca-b6e1-f2357a3066cd"
      },
      "execution_count": 12,
      "outputs": [
        {
          "output_type": "execute_result",
          "data": {
            "text/plain": [
              "                성별코드   연령대 코드(5세단위)      신장(5Cm단위)     체중(5Kg 단위)  \\\n",
              "count  987332.000000  987332.000000  987332.000000  987332.000000   \n",
              "mean        1.487745      11.887434     161.032955      63.124030   \n",
              "std         0.499850       2.150216       9.174430      12.266295   \n",
              "min         1.000000       9.000000     130.000000      30.000000   \n",
              "25%         1.000000      10.000000     155.000000      55.000000   \n",
              "50%         1.000000      12.000000     160.000000      60.000000   \n",
              "75%         2.000000      13.000000     170.000000      70.000000   \n",
              "max         2.000000      18.000000     195.000000     135.000000   \n",
              "\n",
              "          식전혈당(공복혈당)            혈색소            요단백        혈청크레아티닌  \\\n",
              "count  987332.000000  987332.000000  987332.000000  987332.000000   \n",
              "mean      104.247729      14.213121       1.122272       0.849609   \n",
              "std        25.375361       1.551698       0.493362       0.340159   \n",
              "min         1.000000       1.000000       1.000000       0.000000   \n",
              "25%        91.000000      13.200000       1.000000       0.700000   \n",
              "50%        99.000000      14.200000       1.000000       0.800000   \n",
              "75%       109.000000      15.300000       1.000000       1.000000   \n",
              "max       950.000000      25.000000       6.000000      95.000000   \n",
              "\n",
              "          (혈청지오티)AST     (혈청지오티)ALT         감마 지티피           흡연상태  \\\n",
              "count  987332.000000  987332.000000  987332.000000  987332.000000   \n",
              "mean       27.702808      26.775007      37.790596       1.559448   \n",
              "std        25.298569      25.845020      51.812427       0.784424   \n",
              "min         1.000000       1.000000       1.000000       1.000000   \n",
              "25%        20.000000      16.000000      16.000000       1.000000   \n",
              "50%        24.000000      21.000000      24.000000       1.000000   \n",
              "75%        30.000000      31.000000      40.000000       2.000000   \n",
              "max      8712.000000    5990.000000    2630.000000       3.000000   \n",
              "\n",
              "                음주여부  \n",
              "count  987332.000000  \n",
              "mean        0.588234  \n",
              "std         0.492153  \n",
              "min         0.000000  \n",
              "25%         0.000000  \n",
              "50%         1.000000  \n",
              "75%         1.000000  \n",
              "max         1.000000  "
            ],
            "text/html": [
              "\n",
              "  <div id=\"df-95f2098d-f819-44db-8913-6172f7af9d69\">\n",
              "    <div class=\"colab-df-container\">\n",
              "      <div>\n",
              "<style scoped>\n",
              "    .dataframe tbody tr th:only-of-type {\n",
              "        vertical-align: middle;\n",
              "    }\n",
              "\n",
              "    .dataframe tbody tr th {\n",
              "        vertical-align: top;\n",
              "    }\n",
              "\n",
              "    .dataframe thead th {\n",
              "        text-align: right;\n",
              "    }\n",
              "</style>\n",
              "<table border=\"1\" class=\"dataframe\">\n",
              "  <thead>\n",
              "    <tr style=\"text-align: right;\">\n",
              "      <th></th>\n",
              "      <th>성별코드</th>\n",
              "      <th>연령대 코드(5세단위)</th>\n",
              "      <th>신장(5Cm단위)</th>\n",
              "      <th>체중(5Kg 단위)</th>\n",
              "      <th>식전혈당(공복혈당)</th>\n",
              "      <th>혈색소</th>\n",
              "      <th>요단백</th>\n",
              "      <th>혈청크레아티닌</th>\n",
              "      <th>(혈청지오티)AST</th>\n",
              "      <th>(혈청지오티)ALT</th>\n",
              "      <th>감마 지티피</th>\n",
              "      <th>흡연상태</th>\n",
              "      <th>음주여부</th>\n",
              "    </tr>\n",
              "  </thead>\n",
              "  <tbody>\n",
              "    <tr>\n",
              "      <th>count</th>\n",
              "      <td>987332.000000</td>\n",
              "      <td>987332.000000</td>\n",
              "      <td>987332.000000</td>\n",
              "      <td>987332.000000</td>\n",
              "      <td>987332.000000</td>\n",
              "      <td>987332.000000</td>\n",
              "      <td>987332.000000</td>\n",
              "      <td>987332.000000</td>\n",
              "      <td>987332.000000</td>\n",
              "      <td>987332.000000</td>\n",
              "      <td>987332.000000</td>\n",
              "      <td>987332.000000</td>\n",
              "      <td>987332.000000</td>\n",
              "    </tr>\n",
              "    <tr>\n",
              "      <th>mean</th>\n",
              "      <td>1.487745</td>\n",
              "      <td>11.887434</td>\n",
              "      <td>161.032955</td>\n",
              "      <td>63.124030</td>\n",
              "      <td>104.247729</td>\n",
              "      <td>14.213121</td>\n",
              "      <td>1.122272</td>\n",
              "      <td>0.849609</td>\n",
              "      <td>27.702808</td>\n",
              "      <td>26.775007</td>\n",
              "      <td>37.790596</td>\n",
              "      <td>1.559448</td>\n",
              "      <td>0.588234</td>\n",
              "    </tr>\n",
              "    <tr>\n",
              "      <th>std</th>\n",
              "      <td>0.499850</td>\n",
              "      <td>2.150216</td>\n",
              "      <td>9.174430</td>\n",
              "      <td>12.266295</td>\n",
              "      <td>25.375361</td>\n",
              "      <td>1.551698</td>\n",
              "      <td>0.493362</td>\n",
              "      <td>0.340159</td>\n",
              "      <td>25.298569</td>\n",
              "      <td>25.845020</td>\n",
              "      <td>51.812427</td>\n",
              "      <td>0.784424</td>\n",
              "      <td>0.492153</td>\n",
              "    </tr>\n",
              "    <tr>\n",
              "      <th>min</th>\n",
              "      <td>1.000000</td>\n",
              "      <td>9.000000</td>\n",
              "      <td>130.000000</td>\n",
              "      <td>30.000000</td>\n",
              "      <td>1.000000</td>\n",
              "      <td>1.000000</td>\n",
              "      <td>1.000000</td>\n",
              "      <td>0.000000</td>\n",
              "      <td>1.000000</td>\n",
              "      <td>1.000000</td>\n",
              "      <td>1.000000</td>\n",
              "      <td>1.000000</td>\n",
              "      <td>0.000000</td>\n",
              "    </tr>\n",
              "    <tr>\n",
              "      <th>25%</th>\n",
              "      <td>1.000000</td>\n",
              "      <td>10.000000</td>\n",
              "      <td>155.000000</td>\n",
              "      <td>55.000000</td>\n",
              "      <td>91.000000</td>\n",
              "      <td>13.200000</td>\n",
              "      <td>1.000000</td>\n",
              "      <td>0.700000</td>\n",
              "      <td>20.000000</td>\n",
              "      <td>16.000000</td>\n",
              "      <td>16.000000</td>\n",
              "      <td>1.000000</td>\n",
              "      <td>0.000000</td>\n",
              "    </tr>\n",
              "    <tr>\n",
              "      <th>50%</th>\n",
              "      <td>1.000000</td>\n",
              "      <td>12.000000</td>\n",
              "      <td>160.000000</td>\n",
              "      <td>60.000000</td>\n",
              "      <td>99.000000</td>\n",
              "      <td>14.200000</td>\n",
              "      <td>1.000000</td>\n",
              "      <td>0.800000</td>\n",
              "      <td>24.000000</td>\n",
              "      <td>21.000000</td>\n",
              "      <td>24.000000</td>\n",
              "      <td>1.000000</td>\n",
              "      <td>1.000000</td>\n",
              "    </tr>\n",
              "    <tr>\n",
              "      <th>75%</th>\n",
              "      <td>2.000000</td>\n",
              "      <td>13.000000</td>\n",
              "      <td>170.000000</td>\n",
              "      <td>70.000000</td>\n",
              "      <td>109.000000</td>\n",
              "      <td>15.300000</td>\n",
              "      <td>1.000000</td>\n",
              "      <td>1.000000</td>\n",
              "      <td>30.000000</td>\n",
              "      <td>31.000000</td>\n",
              "      <td>40.000000</td>\n",
              "      <td>2.000000</td>\n",
              "      <td>1.000000</td>\n",
              "    </tr>\n",
              "    <tr>\n",
              "      <th>max</th>\n",
              "      <td>2.000000</td>\n",
              "      <td>18.000000</td>\n",
              "      <td>195.000000</td>\n",
              "      <td>135.000000</td>\n",
              "      <td>950.000000</td>\n",
              "      <td>25.000000</td>\n",
              "      <td>6.000000</td>\n",
              "      <td>95.000000</td>\n",
              "      <td>8712.000000</td>\n",
              "      <td>5990.000000</td>\n",
              "      <td>2630.000000</td>\n",
              "      <td>3.000000</td>\n",
              "      <td>1.000000</td>\n",
              "    </tr>\n",
              "  </tbody>\n",
              "</table>\n",
              "</div>\n",
              "      <button class=\"colab-df-convert\" onclick=\"convertToInteractive('df-95f2098d-f819-44db-8913-6172f7af9d69')\"\n",
              "              title=\"Convert this dataframe to an interactive table.\"\n",
              "              style=\"display:none;\">\n",
              "        \n",
              "  <svg xmlns=\"http://www.w3.org/2000/svg\" height=\"24px\"viewBox=\"0 0 24 24\"\n",
              "       width=\"24px\">\n",
              "    <path d=\"M0 0h24v24H0V0z\" fill=\"none\"/>\n",
              "    <path d=\"M18.56 5.44l.94 2.06.94-2.06 2.06-.94-2.06-.94-.94-2.06-.94 2.06-2.06.94zm-11 1L8.5 8.5l.94-2.06 2.06-.94-2.06-.94L8.5 2.5l-.94 2.06-2.06.94zm10 10l.94 2.06.94-2.06 2.06-.94-2.06-.94-.94-2.06-.94 2.06-2.06.94z\"/><path d=\"M17.41 7.96l-1.37-1.37c-.4-.4-.92-.59-1.43-.59-.52 0-1.04.2-1.43.59L10.3 9.45l-7.72 7.72c-.78.78-.78 2.05 0 2.83L4 21.41c.39.39.9.59 1.41.59.51 0 1.02-.2 1.41-.59l7.78-7.78 2.81-2.81c.8-.78.8-2.07 0-2.86zM5.41 20L4 18.59l7.72-7.72 1.47 1.35L5.41 20z\"/>\n",
              "  </svg>\n",
              "      </button>\n",
              "      \n",
              "  <style>\n",
              "    .colab-df-container {\n",
              "      display:flex;\n",
              "      flex-wrap:wrap;\n",
              "      gap: 12px;\n",
              "    }\n",
              "\n",
              "    .colab-df-convert {\n",
              "      background-color: #E8F0FE;\n",
              "      border: none;\n",
              "      border-radius: 50%;\n",
              "      cursor: pointer;\n",
              "      display: none;\n",
              "      fill: #1967D2;\n",
              "      height: 32px;\n",
              "      padding: 0 0 0 0;\n",
              "      width: 32px;\n",
              "    }\n",
              "\n",
              "    .colab-df-convert:hover {\n",
              "      background-color: #E2EBFA;\n",
              "      box-shadow: 0px 1px 2px rgba(60, 64, 67, 0.3), 0px 1px 3px 1px rgba(60, 64, 67, 0.15);\n",
              "      fill: #174EA6;\n",
              "    }\n",
              "\n",
              "    [theme=dark] .colab-df-convert {\n",
              "      background-color: #3B4455;\n",
              "      fill: #D2E3FC;\n",
              "    }\n",
              "\n",
              "    [theme=dark] .colab-df-convert:hover {\n",
              "      background-color: #434B5C;\n",
              "      box-shadow: 0px 1px 3px 1px rgba(0, 0, 0, 0.15);\n",
              "      filter: drop-shadow(0px 1px 2px rgba(0, 0, 0, 0.3));\n",
              "      fill: #FFFFFF;\n",
              "    }\n",
              "  </style>\n",
              "\n",
              "      <script>\n",
              "        const buttonEl =\n",
              "          document.querySelector('#df-95f2098d-f819-44db-8913-6172f7af9d69 button.colab-df-convert');\n",
              "        buttonEl.style.display =\n",
              "          google.colab.kernel.accessAllowed ? 'block' : 'none';\n",
              "\n",
              "        async function convertToInteractive(key) {\n",
              "          const element = document.querySelector('#df-95f2098d-f819-44db-8913-6172f7af9d69');\n",
              "          const dataTable =\n",
              "            await google.colab.kernel.invokeFunction('convertToInteractive',\n",
              "                                                     [key], {});\n",
              "          if (!dataTable) return;\n",
              "\n",
              "          const docLinkHtml = 'Like what you see? Visit the ' +\n",
              "            '<a target=\"_blank\" href=https://colab.research.google.com/notebooks/data_table.ipynb>data table notebook</a>'\n",
              "            + ' to learn more about interactive tables.';\n",
              "          element.innerHTML = '';\n",
              "          dataTable['output_type'] = 'display_data';\n",
              "          await google.colab.output.renderOutput(dataTable, element);\n",
              "          const docLink = document.createElement('div');\n",
              "          docLink.innerHTML = docLinkHtml;\n",
              "          element.appendChild(docLink);\n",
              "        }\n",
              "      </script>\n",
              "    </div>\n",
              "  </div>\n",
              "  "
            ]
          },
          "metadata": {},
          "execution_count": 12
        }
      ]
    },
    {
      "cell_type": "code",
      "source": [
        "# 1,2로 되어있는 성별코드 0,1 로 변경 후 성별로 이름 변경 \n",
        "df['성별코드'] = np.where(df['성별코드'] == 1, 0, 1)\n",
        "df['성별'] = df['성별코드'].astype('object')\n",
        "df.drop(['성별코드'], axis=1, inplace=True)\n",
        "\n",
        "# 컬럼명 '연령대코드(5세단위)', '연령대'로 변경 \n",
        "df['연령대'] = df['연령대 코드(5세단위)'].astype('object')\n",
        "df.drop('연령대 코드(5세단위)', axis=1, inplace=True)\n",
        "\n",
        "# 컬럼명 '신장(5Cm단위)', '신장'으로 변경\n",
        "df['신장'] = df['신장(5Cm단위)'].astype('object')\n",
        "df.drop(['신장(5Cm단위)'], axis=1, inplace=True)\n",
        "\n",
        "# 컬러명 '체중(5Kg단위)', '체중'으로 변경\n",
        "df['체중'] = df['체중(5Kg 단위)'].astype('object')\n",
        "df.drop('체중(5Kg 단위)', axis=1, inplace=True)"
      ],
      "metadata": {
        "id": "jK4WaITr61ej"
      },
      "execution_count": 13,
      "outputs": []
    },
    {
      "cell_type": "code",
      "source": [
        "obj_cols = df.select_dtypes('object').columns   # object 변수\n",
        "obj_cols"
      ],
      "metadata": {
        "colab": {
          "base_uri": "https://localhost:8080/"
        },
        "outputId": "dcc7bf8a-2b94-4b41-dc6c-da08f11e786a",
        "id": "BXFh7Yad61ej"
      },
      "execution_count": 14,
      "outputs": [
        {
          "output_type": "execute_result",
          "data": {
            "text/plain": [
              "Index(['성별', '연령대', '신장', '체중'], dtype='object')"
            ]
          },
          "metadata": {},
          "execution_count": 14
        }
      ]
    },
    {
      "cell_type": "markdown",
      "source": [
        "## 데이터 가공\n",
        "- BMI 계산(신장,체중)\n",
        "- 연령대 -> 5단위에서 10단위 변경, '나이'로 이름 변경"
      ],
      "metadata": {
        "id": "ned1dL4v88TM"
      }
    },
    {
      "cell_type": "markdown",
      "source": [
        "**BMI**"
      ],
      "metadata": {
        "id": "ZYETKgLdh8Lz"
      }
    },
    {
      "cell_type": "code",
      "source": [
        "df['bmi']=df['체중']/(df['신장']/100) ** 2\n",
        "df['bmi']=df['bmi'].astype('float64')\n",
        "df['bmi'] = df['bmi'].round(1)"
      ],
      "metadata": {
        "id": "yrbJWmQdnQ5Z"
      },
      "execution_count": 15,
      "outputs": []
    },
    {
      "cell_type": "code",
      "source": [
        "# def class_bmi_div (bmi) :\n",
        "#     if bmi < 18.5 :  # 18.5 미만\n",
        "#         return \"정상\" # 저체중\n",
        "#     elif 18.5 <= bmi < 23 :\n",
        "#         return \"정상\" # 정상체중\n",
        "#     elif 23 <= bmi < 25 :\n",
        "#         return \"비만\" # 과체중\n",
        "#     elif 25 <= bmi < 30 :  # 질환의심: 30 이상\n",
        "#         return \"비만\" # 경도비만\n",
        "#     elif 30 <= bmi < 35 :\n",
        "#         return \"비만\" # 중정도비만\n",
        "#     elif 35 <= bmi :\n",
        "#         return \"비만\" # 고도비만\n",
        "    \n",
        "# def class_bmi_div_num (bmi) :\n",
        "#     if bmi < 18.5 :\n",
        "#         return 0 #\"저체중\"\n",
        "#     elif 18.5 <= bmi < 23 :\n",
        "#         return 1 #\"정상체중\"\n",
        "#     elif 23 <= bmi < 25 :\n",
        "#         return 2 #\"과체중\"\n",
        "#     elif 25 <= bmi < 30 :\n",
        "#         return 3 #\"경도비만\"\n",
        "#     elif 30 <= bmi < 35 :\n",
        "#         return 4 #\"중정도비만\"\n",
        "#     elif 35 <= bmi :\n",
        "#         return 5 #\"고도비만\"\n",
        "\n",
        "    \n",
        "# df['비만여부']=df['bmi'].apply(class_bmi_div)\n",
        "# df['bmi_div']=df['bmi'].apply(class_bmi_div_num).astype('object')"
      ],
      "metadata": {
        "id": "V97UjPiYiAi6"
      },
      "execution_count": 16,
      "outputs": []
    },
    {
      "cell_type": "code",
      "source": [
        "# def class_bmi_num (bmi) :\n",
        "#     if bmi < 25 :\n",
        "#         return 0\n",
        "#     elif bmi < 26.5 :\n",
        "#         return 1\n",
        "#     elif bmi < 28 :\n",
        "#         return 2\n",
        "#     elif bmi < 30 :\n",
        "#         return 3\n",
        "#     else :\n",
        "#         return 4\n",
        "\n",
        "# # df['BMI']=df['bmi'].apply(class_bmi_num).astype('object')"
      ],
      "metadata": {
        "id": "Uh4tgxsniDmk"
      },
      "execution_count": 17,
      "outputs": []
    },
    {
      "cell_type": "code",
      "source": [
        "df.drop(['신장','체중'], axis=1, inplace=True)"
      ],
      "metadata": {
        "id": "WMdRsYH1AK6m"
      },
      "execution_count": 18,
      "outputs": []
    },
    {
      "cell_type": "markdown",
      "source": [
        "**나이**"
      ],
      "metadata": {
        "id": "Cqzx2d1niHvJ"
      }
    },
    {
      "cell_type": "code",
      "source": [
        "age_list = list(df['연령대'].unique())\n",
        "age_list.sort()\n",
        "age_list"
      ],
      "metadata": {
        "colab": {
          "base_uri": "https://localhost:8080/"
        },
        "id": "KdwJFhpQiKDT",
        "outputId": "783fe193-f913-4591-f00f-69f14ca2e6d8"
      },
      "execution_count": 19,
      "outputs": [
        {
          "output_type": "execute_result",
          "data": {
            "text/plain": [
              "[9, 10, 11, 12, 13, 14, 15, 16, 17, 18]"
            ]
          },
          "metadata": {},
          "execution_count": 19
        }
      ]
    },
    {
      "cell_type": "code",
      "source": [
        "# 연령 코드 딕셔너리 생성\n",
        "# 5단위 -> 10단위 변경\n",
        "\n",
        "age_code = {5 : 20,\n",
        "            6 : 20,\n",
        "            7 : 30,\n",
        "            8 : 30,\n",
        "            9 : 40,\n",
        "            10 : 40,\n",
        "            11 : 50,\n",
        "            12 : 50,\n",
        "            13 : 60,\n",
        "            14 : 60,\n",
        "            15 : 70,\n",
        "            16 : 70,\n",
        "            17 : 80,\n",
        "            18 : 80\n",
        "}\n",
        "\n",
        "def func_1(row, age_code):\n",
        "    return age_code[row]\n",
        "\n",
        "df['나이'] = df['연령대'].apply(func_1, args = (age_code,))\n",
        "# df.drop('연령대', axis=1, inplace=True)"
      ],
      "metadata": {
        "id": "Pec9xPCSiMB9"
      },
      "execution_count": 20,
      "outputs": []
    },
    {
      "cell_type": "code",
      "source": [
        "# 전체의 데이터 타입을 확인합니다\n",
        "df.dtypes"
      ],
      "metadata": {
        "colab": {
          "base_uri": "https://localhost:8080/"
        },
        "id": "ZkhodWb1gaxM",
        "outputId": "104ea7e8-7e4c-4217-a9d1-ec1d4318ff6b"
      },
      "execution_count": 21,
      "outputs": [
        {
          "output_type": "execute_result",
          "data": {
            "text/plain": [
              "식전혈당(공복혈당)    float64\n",
              "혈색소           float64\n",
              "요단백           float64\n",
              "혈청크레아티닌       float64\n",
              "(혈청지오티)AST    float64\n",
              "(혈청지오티)ALT    float64\n",
              "감마 지티피        float64\n",
              "흡연상태          float64\n",
              "음주여부          float64\n",
              "성별             object\n",
              "연령대            object\n",
              "bmi           float64\n",
              "나이              int64\n",
              "dtype: object"
            ]
          },
          "metadata": {},
          "execution_count": 21
        }
      ]
    },
    {
      "cell_type": "code",
      "source": [
        "df.head()"
      ],
      "metadata": {
        "colab": {
          "base_uri": "https://localhost:8080/",
          "height": 302
        },
        "id": "J1oW7azJ-C_i",
        "outputId": "5505b141-0123-4f05-ce57-0fce7c9cddb1"
      },
      "execution_count": 22,
      "outputs": [
        {
          "output_type": "execute_result",
          "data": {
            "text/plain": [
              "   식전혈당(공복혈당)   혈색소  요단백  혈청크레아티닌  (혈청지오티)AST  (혈청지오티)ALT  감마 지티피  흡연상태  음주여부  \\\n",
              "0        90.0  15.0  1.0      1.1        21.0        27.0    21.0   1.0   0.0   \n",
              "1        87.0  12.7  1.0      0.5        18.0        15.0    15.0   1.0   0.0   \n",
              "2       102.0  12.8  1.0      0.7        27.0        25.0     7.0   1.0   0.0   \n",
              "3       146.0  16.4  1.0      1.2        65.0        97.0    72.0   1.0   0.0   \n",
              "4       110.0  12.4  1.0      0.7        18.0        17.0    14.0   1.0   0.0   \n",
              "\n",
              "  성별 연령대   bmi  나이  \n",
              "0  0   9  22.0  40  \n",
              "1  1  13  28.9  60  \n",
              "2  1  12  22.9  50  \n",
              "3  0  13  27.3  60  \n",
              "4  1  12  20.8  50  "
            ],
            "text/html": [
              "\n",
              "  <div id=\"df-86994eea-9856-47c7-9d58-2ea61ffcba1b\">\n",
              "    <div class=\"colab-df-container\">\n",
              "      <div>\n",
              "<style scoped>\n",
              "    .dataframe tbody tr th:only-of-type {\n",
              "        vertical-align: middle;\n",
              "    }\n",
              "\n",
              "    .dataframe tbody tr th {\n",
              "        vertical-align: top;\n",
              "    }\n",
              "\n",
              "    .dataframe thead th {\n",
              "        text-align: right;\n",
              "    }\n",
              "</style>\n",
              "<table border=\"1\" class=\"dataframe\">\n",
              "  <thead>\n",
              "    <tr style=\"text-align: right;\">\n",
              "      <th></th>\n",
              "      <th>식전혈당(공복혈당)</th>\n",
              "      <th>혈색소</th>\n",
              "      <th>요단백</th>\n",
              "      <th>혈청크레아티닌</th>\n",
              "      <th>(혈청지오티)AST</th>\n",
              "      <th>(혈청지오티)ALT</th>\n",
              "      <th>감마 지티피</th>\n",
              "      <th>흡연상태</th>\n",
              "      <th>음주여부</th>\n",
              "      <th>성별</th>\n",
              "      <th>연령대</th>\n",
              "      <th>bmi</th>\n",
              "      <th>나이</th>\n",
              "    </tr>\n",
              "  </thead>\n",
              "  <tbody>\n",
              "    <tr>\n",
              "      <th>0</th>\n",
              "      <td>90.0</td>\n",
              "      <td>15.0</td>\n",
              "      <td>1.0</td>\n",
              "      <td>1.1</td>\n",
              "      <td>21.0</td>\n",
              "      <td>27.0</td>\n",
              "      <td>21.0</td>\n",
              "      <td>1.0</td>\n",
              "      <td>0.0</td>\n",
              "      <td>0</td>\n",
              "      <td>9</td>\n",
              "      <td>22.0</td>\n",
              "      <td>40</td>\n",
              "    </tr>\n",
              "    <tr>\n",
              "      <th>1</th>\n",
              "      <td>87.0</td>\n",
              "      <td>12.7</td>\n",
              "      <td>1.0</td>\n",
              "      <td>0.5</td>\n",
              "      <td>18.0</td>\n",
              "      <td>15.0</td>\n",
              "      <td>15.0</td>\n",
              "      <td>1.0</td>\n",
              "      <td>0.0</td>\n",
              "      <td>1</td>\n",
              "      <td>13</td>\n",
              "      <td>28.9</td>\n",
              "      <td>60</td>\n",
              "    </tr>\n",
              "    <tr>\n",
              "      <th>2</th>\n",
              "      <td>102.0</td>\n",
              "      <td>12.8</td>\n",
              "      <td>1.0</td>\n",
              "      <td>0.7</td>\n",
              "      <td>27.0</td>\n",
              "      <td>25.0</td>\n",
              "      <td>7.0</td>\n",
              "      <td>1.0</td>\n",
              "      <td>0.0</td>\n",
              "      <td>1</td>\n",
              "      <td>12</td>\n",
              "      <td>22.9</td>\n",
              "      <td>50</td>\n",
              "    </tr>\n",
              "    <tr>\n",
              "      <th>3</th>\n",
              "      <td>146.0</td>\n",
              "      <td>16.4</td>\n",
              "      <td>1.0</td>\n",
              "      <td>1.2</td>\n",
              "      <td>65.0</td>\n",
              "      <td>97.0</td>\n",
              "      <td>72.0</td>\n",
              "      <td>1.0</td>\n",
              "      <td>0.0</td>\n",
              "      <td>0</td>\n",
              "      <td>13</td>\n",
              "      <td>27.3</td>\n",
              "      <td>60</td>\n",
              "    </tr>\n",
              "    <tr>\n",
              "      <th>4</th>\n",
              "      <td>110.0</td>\n",
              "      <td>12.4</td>\n",
              "      <td>1.0</td>\n",
              "      <td>0.7</td>\n",
              "      <td>18.0</td>\n",
              "      <td>17.0</td>\n",
              "      <td>14.0</td>\n",
              "      <td>1.0</td>\n",
              "      <td>0.0</td>\n",
              "      <td>1</td>\n",
              "      <td>12</td>\n",
              "      <td>20.8</td>\n",
              "      <td>50</td>\n",
              "    </tr>\n",
              "  </tbody>\n",
              "</table>\n",
              "</div>\n",
              "      <button class=\"colab-df-convert\" onclick=\"convertToInteractive('df-86994eea-9856-47c7-9d58-2ea61ffcba1b')\"\n",
              "              title=\"Convert this dataframe to an interactive table.\"\n",
              "              style=\"display:none;\">\n",
              "        \n",
              "  <svg xmlns=\"http://www.w3.org/2000/svg\" height=\"24px\"viewBox=\"0 0 24 24\"\n",
              "       width=\"24px\">\n",
              "    <path d=\"M0 0h24v24H0V0z\" fill=\"none\"/>\n",
              "    <path d=\"M18.56 5.44l.94 2.06.94-2.06 2.06-.94-2.06-.94-.94-2.06-.94 2.06-2.06.94zm-11 1L8.5 8.5l.94-2.06 2.06-.94-2.06-.94L8.5 2.5l-.94 2.06-2.06.94zm10 10l.94 2.06.94-2.06 2.06-.94-2.06-.94-.94-2.06-.94 2.06-2.06.94z\"/><path d=\"M17.41 7.96l-1.37-1.37c-.4-.4-.92-.59-1.43-.59-.52 0-1.04.2-1.43.59L10.3 9.45l-7.72 7.72c-.78.78-.78 2.05 0 2.83L4 21.41c.39.39.9.59 1.41.59.51 0 1.02-.2 1.41-.59l7.78-7.78 2.81-2.81c.8-.78.8-2.07 0-2.86zM5.41 20L4 18.59l7.72-7.72 1.47 1.35L5.41 20z\"/>\n",
              "  </svg>\n",
              "      </button>\n",
              "      \n",
              "  <style>\n",
              "    .colab-df-container {\n",
              "      display:flex;\n",
              "      flex-wrap:wrap;\n",
              "      gap: 12px;\n",
              "    }\n",
              "\n",
              "    .colab-df-convert {\n",
              "      background-color: #E8F0FE;\n",
              "      border: none;\n",
              "      border-radius: 50%;\n",
              "      cursor: pointer;\n",
              "      display: none;\n",
              "      fill: #1967D2;\n",
              "      height: 32px;\n",
              "      padding: 0 0 0 0;\n",
              "      width: 32px;\n",
              "    }\n",
              "\n",
              "    .colab-df-convert:hover {\n",
              "      background-color: #E2EBFA;\n",
              "      box-shadow: 0px 1px 2px rgba(60, 64, 67, 0.3), 0px 1px 3px 1px rgba(60, 64, 67, 0.15);\n",
              "      fill: #174EA6;\n",
              "    }\n",
              "\n",
              "    [theme=dark] .colab-df-convert {\n",
              "      background-color: #3B4455;\n",
              "      fill: #D2E3FC;\n",
              "    }\n",
              "\n",
              "    [theme=dark] .colab-df-convert:hover {\n",
              "      background-color: #434B5C;\n",
              "      box-shadow: 0px 1px 3px 1px rgba(0, 0, 0, 0.15);\n",
              "      filter: drop-shadow(0px 1px 2px rgba(0, 0, 0, 0.3));\n",
              "      fill: #FFFFFF;\n",
              "    }\n",
              "  </style>\n",
              "\n",
              "      <script>\n",
              "        const buttonEl =\n",
              "          document.querySelector('#df-86994eea-9856-47c7-9d58-2ea61ffcba1b button.colab-df-convert');\n",
              "        buttonEl.style.display =\n",
              "          google.colab.kernel.accessAllowed ? 'block' : 'none';\n",
              "\n",
              "        async function convertToInteractive(key) {\n",
              "          const element = document.querySelector('#df-86994eea-9856-47c7-9d58-2ea61ffcba1b');\n",
              "          const dataTable =\n",
              "            await google.colab.kernel.invokeFunction('convertToInteractive',\n",
              "                                                     [key], {});\n",
              "          if (!dataTable) return;\n",
              "\n",
              "          const docLinkHtml = 'Like what you see? Visit the ' +\n",
              "            '<a target=\"_blank\" href=https://colab.research.google.com/notebooks/data_table.ipynb>data table notebook</a>'\n",
              "            + ' to learn more about interactive tables.';\n",
              "          element.innerHTML = '';\n",
              "          dataTable['output_type'] = 'display_data';\n",
              "          await google.colab.output.renderOutput(dataTable, element);\n",
              "          const docLink = document.createElement('div');\n",
              "          docLink.innerHTML = docLinkHtml;\n",
              "          element.appendChild(docLink);\n",
              "        }\n",
              "      </script>\n",
              "    </div>\n",
              "  </div>\n",
              "  "
            ]
          },
          "metadata": {},
          "execution_count": 22
        }
      ]
    },
    {
      "cell_type": "markdown",
      "source": [
        "---"
      ],
      "metadata": {
        "id": "B2Is8QEuh-OP"
      }
    },
    {
      "cell_type": "code",
      "source": [
        "# 연령대(5세 단위), 나이(10세 단위) 중복이므로 연령대 컬럼 삭제\n",
        "df.drop('연령대', axis=1, inplace=True)"
      ],
      "metadata": {
        "id": "X21mDsfZHO12"
      },
      "execution_count": 23,
      "outputs": []
    },
    {
      "cell_type": "code",
      "source": [
        "# 먼저 상관계수 계산을 위해 텍스트 형식의 데이터를 숫자로 변환\n",
        "corr_df = df.copy()\n",
        "# corr_df[corr_df.columns[corr_df.dtypes=='O']] = corr_df[corr_df.columns[corr_df.dtypes=='O']].astype(str).apply(df().fit_transform)\n",
        "\n",
        "#상관관계 분석도\n",
        "plt.figure(figsize=(10,10))\n",
        "\n",
        "heat_table = corr_df.corr()\n",
        "mask = np.zeros_like(heat_table)\n",
        "mask[np.triu_indices_from(mask)] = True\n",
        "heatmap_ax = sns.heatmap(heat_table, annot=True, mask = mask, cmap='coolwarm')\n",
        "heatmap_ax.set_xticklabels(heatmap_ax.get_xticklabels(), fontsize=10, rotation=20)\n",
        "heatmap_ax.set_yticklabels(heatmap_ax.get_yticklabels(), fontsize=10)\n",
        "plt.title('correlation between features', fontsize=10)\n",
        "plt.show()"
      ],
      "metadata": {
        "colab": {
          "base_uri": "https://localhost:8080/",
          "height": 726
        },
        "id": "Agd5yd-dhURu",
        "outputId": "c1c0c5f1-ee59-43ed-e7cd-10c20f1efb42"
      },
      "execution_count": 24,
      "outputs": [
        {
          "output_type": "stream",
          "name": "stderr",
          "text": [
            "/usr/local/lib/python3.7/dist-packages/matplotlib/backends/backend_agg.py:214: RuntimeWarning: Glyph 8722 missing from current font.\n",
            "  font.set_text(s, 0.0, flags=flags)\n",
            "/usr/local/lib/python3.7/dist-packages/matplotlib/backends/backend_agg.py:183: RuntimeWarning: Glyph 8722 missing from current font.\n",
            "  font.set_text(s, 0, flags=flags)\n"
          ]
        },
        {
          "output_type": "display_data",
          "data": {
            "text/plain": [
              "<Figure size 720x720 with 2 Axes>"
            ],
            "image/png": "[encoded data removed]"
          },
          "metadata": {
            "image/png": {
              "width": 627,
              "height": 616
            },
            "needs_background": "light"
          }
        }
      ]
    },
    {
      "cell_type": "markdown",
      "source": [
        "**간 수치 : 정상/비정상 판단 여부**\n",
        "\n",
        "- AST와 ALT : 양의 상관관계 (74%)\n",
        "- AST와 감마 지티피 : 양의 상관관계 (32%)\n",
        "- ALT와 감마 지티피 : 양의 상관관계 (36%)\n",
        "\n",
        "\n",
        "감마 지티피와 AST, 감마 지티피와 ALT와의 양의 상관관계가 30% 대이긴 하지만 상대적으로 AST와 ALT의 상관관계가 더 높으므로 두 가지를 가지고 간 수치의 정상, 비정상 여부 판단\n",
        "\n",
        "+ 감마 지티피, AST, ATL : 알코올성 간질환 확인\n",
        "+ 이상치 다루기 위해 음주여부 남겨두기\n",
        "\n",
        "**음주여부, 흡연상태**\n",
        "- 음주여부와 흡연상태가 밀접한 상관관계를 가진 항목이 없어보임\n",
        "(흡연상태와 혈색소의 양의 상관관계가 43%이지만 빈혈 판단에 있어서 수치에 대하여 판단함)"
      ],
      "metadata": {
        "id": "aaOJuQJht0dE"
      }
    },
    {
      "cell_type": "code",
      "source": [
        "df.head()"
      ],
      "metadata": {
        "colab": {
          "base_uri": "https://localhost:8080/",
          "height": 302
        },
        "id": "iCKhlpvQM7T7",
        "outputId": "23f6e5dc-92db-40f8-8256-239cc143b51a"
      },
      "execution_count": 25,
      "outputs": [
        {
          "output_type": "execute_result",
          "data": {
            "text/plain": [
              "   식전혈당(공복혈당)   혈색소  요단백  혈청크레아티닌  (혈청지오티)AST  (혈청지오티)ALT  감마 지티피  흡연상태  음주여부  \\\n",
              "0        90.0  15.0  1.0      1.1        21.0        27.0    21.0   1.0   0.0   \n",
              "1        87.0  12.7  1.0      0.5        18.0        15.0    15.0   1.0   0.0   \n",
              "2       102.0  12.8  1.0      0.7        27.0        25.0     7.0   1.0   0.0   \n",
              "3       146.0  16.4  1.0      1.2        65.0        97.0    72.0   1.0   0.0   \n",
              "4       110.0  12.4  1.0      0.7        18.0        17.0    14.0   1.0   0.0   \n",
              "\n",
              "  성별   bmi  나이  \n",
              "0  0  22.0  40  \n",
              "1  1  28.9  60  \n",
              "2  1  22.9  50  \n",
              "3  0  27.3  60  \n",
              "4  1  20.8  50  "
            ],
            "text/html": [
              "\n",
              "  <div id=\"df-4db46eca-d577-46f8-afe4-b24955b81f28\">\n",
              "    <div class=\"colab-df-container\">\n",
              "      <div>\n",
              "<style scoped>\n",
              "    .dataframe tbody tr th:only-of-type {\n",
              "        vertical-align: middle;\n",
              "    }\n",
              "\n",
              "    .dataframe tbody tr th {\n",
              "        vertical-align: top;\n",
              "    }\n",
              "\n",
              "    .dataframe thead th {\n",
              "        text-align: right;\n",
              "    }\n",
              "</style>\n",
              "<table border=\"1\" class=\"dataframe\">\n",
              "  <thead>\n",
              "    <tr style=\"text-align: right;\">\n",
              "      <th></th>\n",
              "      <th>식전혈당(공복혈당)</th>\n",
              "      <th>혈색소</th>\n",
              "      <th>요단백</th>\n",
              "      <th>혈청크레아티닌</th>\n",
              "      <th>(혈청지오티)AST</th>\n",
              "      <th>(혈청지오티)ALT</th>\n",
              "      <th>감마 지티피</th>\n",
              "      <th>흡연상태</th>\n",
              "      <th>음주여부</th>\n",
              "      <th>성별</th>\n",
              "      <th>bmi</th>\n",
              "      <th>나이</th>\n",
              "    </tr>\n",
              "  </thead>\n",
              "  <tbody>\n",
              "    <tr>\n",
              "      <th>0</th>\n",
              "      <td>90.0</td>\n",
              "      <td>15.0</td>\n",
              "      <td>1.0</td>\n",
              "      <td>1.1</td>\n",
              "      <td>21.0</td>\n",
              "      <td>27.0</td>\n",
              "      <td>21.0</td>\n",
              "      <td>1.0</td>\n",
              "      <td>0.0</td>\n",
              "      <td>0</td>\n",
              "      <td>22.0</td>\n",
              "      <td>40</td>\n",
              "    </tr>\n",
              "    <tr>\n",
              "      <th>1</th>\n",
              "      <td>87.0</td>\n",
              "      <td>12.7</td>\n",
              "      <td>1.0</td>\n",
              "      <td>0.5</td>\n",
              "      <td>18.0</td>\n",
              "      <td>15.0</td>\n",
              "      <td>15.0</td>\n",
              "      <td>1.0</td>\n",
              "      <td>0.0</td>\n",
              "      <td>1</td>\n",
              "      <td>28.9</td>\n",
              "      <td>60</td>\n",
              "    </tr>\n",
              "    <tr>\n",
              "      <th>2</th>\n",
              "      <td>102.0</td>\n",
              "      <td>12.8</td>\n",
              "      <td>1.0</td>\n",
              "      <td>0.7</td>\n",
              "      <td>27.0</td>\n",
              "      <td>25.0</td>\n",
              "      <td>7.0</td>\n",
              "      <td>1.0</td>\n",
              "      <td>0.0</td>\n",
              "      <td>1</td>\n",
              "      <td>22.9</td>\n",
              "      <td>50</td>\n",
              "    </tr>\n",
              "    <tr>\n",
              "      <th>3</th>\n",
              "      <td>146.0</td>\n",
              "      <td>16.4</td>\n",
              "      <td>1.0</td>\n",
              "      <td>1.2</td>\n",
              "      <td>65.0</td>\n",
              "      <td>97.0</td>\n",
              "      <td>72.0</td>\n",
              "      <td>1.0</td>\n",
              "      <td>0.0</td>\n",
              "      <td>0</td>\n",
              "      <td>27.3</td>\n",
              "      <td>60</td>\n",
              "    </tr>\n",
              "    <tr>\n",
              "      <th>4</th>\n",
              "      <td>110.0</td>\n",
              "      <td>12.4</td>\n",
              "      <td>1.0</td>\n",
              "      <td>0.7</td>\n",
              "      <td>18.0</td>\n",
              "      <td>17.0</td>\n",
              "      <td>14.0</td>\n",
              "      <td>1.0</td>\n",
              "      <td>0.0</td>\n",
              "      <td>1</td>\n",
              "      <td>20.8</td>\n",
              "      <td>50</td>\n",
              "    </tr>\n",
              "  </tbody>\n",
              "</table>\n",
              "</div>\n",
              "      <button class=\"colab-df-convert\" onclick=\"convertToInteractive('df-4db46eca-d577-46f8-afe4-b24955b81f28')\"\n",
              "              title=\"Convert this dataframe to an interactive table.\"\n",
              "              style=\"display:none;\">\n",
              "        \n",
              "  <svg xmlns=\"http://www.w3.org/2000/svg\" height=\"24px\"viewBox=\"0 0 24 24\"\n",
              "       width=\"24px\">\n",
              "    <path d=\"M0 0h24v24H0V0z\" fill=\"none\"/>\n",
              "    <path d=\"M18.56 5.44l.94 2.06.94-2.06 2.06-.94-2.06-.94-.94-2.06-.94 2.06-2.06.94zm-11 1L8.5 8.5l.94-2.06 2.06-.94-2.06-.94L8.5 2.5l-.94 2.06-2.06.94zm10 10l.94 2.06.94-2.06 2.06-.94-2.06-.94-.94-2.06-.94 2.06-2.06.94z\"/><path d=\"M17.41 7.96l-1.37-1.37c-.4-.4-.92-.59-1.43-.59-.52 0-1.04.2-1.43.59L10.3 9.45l-7.72 7.72c-.78.78-.78 2.05 0 2.83L4 21.41c.39.39.9.59 1.41.59.51 0 1.02-.2 1.41-.59l7.78-7.78 2.81-2.81c.8-.78.8-2.07 0-2.86zM5.41 20L4 18.59l7.72-7.72 1.47 1.35L5.41 20z\"/>\n",
              "  </svg>\n",
              "      </button>\n",
              "      \n",
              "  <style>\n",
              "    .colab-df-container {\n",
              "      display:flex;\n",
              "      flex-wrap:wrap;\n",
              "      gap: 12px;\n",
              "    }\n",
              "\n",
              "    .colab-df-convert {\n",
              "      background-color: #E8F0FE;\n",
              "      border: none;\n",
              "      border-radius: 50%;\n",
              "      cursor: pointer;\n",
              "      display: none;\n",
              "      fill: #1967D2;\n",
              "      height: 32px;\n",
              "      padding: 0 0 0 0;\n",
              "      width: 32px;\n",
              "    }\n",
              "\n",
              "    .colab-df-convert:hover {\n",
              "      background-color: #E2EBFA;\n",
              "      box-shadow: 0px 1px 2px rgba(60, 64, 67, 0.3), 0px 1px 3px 1px rgba(60, 64, 67, 0.15);\n",
              "      fill: #174EA6;\n",
              "    }\n",
              "\n",
              "    [theme=dark] .colab-df-convert {\n",
              "      background-color: #3B4455;\n",
              "      fill: #D2E3FC;\n",
              "    }\n",
              "\n",
              "    [theme=dark] .colab-df-convert:hover {\n",
              "      background-color: #434B5C;\n",
              "      box-shadow: 0px 1px 3px 1px rgba(0, 0, 0, 0.15);\n",
              "      filter: drop-shadow(0px 1px 2px rgba(0, 0, 0, 0.3));\n",
              "      fill: #FFFFFF;\n",
              "    }\n",
              "  </style>\n",
              "\n",
              "      <script>\n",
              "        const buttonEl =\n",
              "          document.querySelector('#df-4db46eca-d577-46f8-afe4-b24955b81f28 button.colab-df-convert');\n",
              "        buttonEl.style.display =\n",
              "          google.colab.kernel.accessAllowed ? 'block' : 'none';\n",
              "\n",
              "        async function convertToInteractive(key) {\n",
              "          const element = document.querySelector('#df-4db46eca-d577-46f8-afe4-b24955b81f28');\n",
              "          const dataTable =\n",
              "            await google.colab.kernel.invokeFunction('convertToInteractive',\n",
              "                                                     [key], {});\n",
              "          if (!dataTable) return;\n",
              "\n",
              "          const docLinkHtml = 'Like what you see? Visit the ' +\n",
              "            '<a target=\"_blank\" href=https://colab.research.google.com/notebooks/data_table.ipynb>data table notebook</a>'\n",
              "            + ' to learn more about interactive tables.';\n",
              "          element.innerHTML = '';\n",
              "          dataTable['output_type'] = 'display_data';\n",
              "          await google.colab.output.renderOutput(dataTable, element);\n",
              "          const docLink = document.createElement('div');\n",
              "          docLink.innerHTML = docLinkHtml;\n",
              "          element.appendChild(docLink);\n",
              "        }\n",
              "      </script>\n",
              "    </div>\n",
              "  </div>\n",
              "  "
            ]
          },
          "metadata": {},
          "execution_count": 25
        }
      ]
    },
    {
      "cell_type": "code",
      "source": [
        "## 2차 가공 : 사용하지 않는 데이터 삭제\n",
        "df.drop(['요단백','혈청크레아티닌','흡연상태'], axis=1, inplace=True)  # - '감마 지티피', '음주여부'\n",
        "df.head()"
      ],
      "metadata": {
        "colab": {
          "base_uri": "https://localhost:8080/",
          "height": 268
        },
        "id": "M6o7E0xqg755",
        "outputId": "29de709d-f6dd-42de-befc-f93c11ffed09"
      },
      "execution_count": 26,
      "outputs": [
        {
          "output_type": "execute_result",
          "data": {
            "text/plain": [
              "   식전혈당(공복혈당)   혈색소  (혈청지오티)AST  (혈청지오티)ALT  감마 지티피  음주여부 성별   bmi  나이\n",
              "0        90.0  15.0        21.0        27.0    21.0   0.0  0  22.0  40\n",
              "1        87.0  12.7        18.0        15.0    15.0   0.0  1  28.9  60\n",
              "2       102.0  12.8        27.0        25.0     7.0   0.0  1  22.9  50\n",
              "3       146.0  16.4        65.0        97.0    72.0   0.0  0  27.3  60\n",
              "4       110.0  12.4        18.0        17.0    14.0   0.0  1  20.8  50"
            ],
            "text/html": [
              "\n",
              "  <div id=\"df-7f4ded1d-a397-4315-839e-d49f7c26c8f8\">\n",
              "    <div class=\"colab-df-container\">\n",
              "      <div>\n",
              "<style scoped>\n",
              "    .dataframe tbody tr th:only-of-type {\n",
              "        vertical-align: middle;\n",
              "    }\n",
              "\n",
              "    .dataframe tbody tr th {\n",
              "        vertical-align: top;\n",
              "    }\n",
              "\n",
              "    .dataframe thead th {\n",
              "        text-align: right;\n",
              "    }\n",
              "</style>\n",
              "<table border=\"1\" class=\"dataframe\">\n",
              "  <thead>\n",
              "    <tr style=\"text-align: right;\">\n",
              "      <th></th>\n",
              "      <th>식전혈당(공복혈당)</th>\n",
              "      <th>혈색소</th>\n",
              "      <th>(혈청지오티)AST</th>\n",
              "      <th>(혈청지오티)ALT</th>\n",
              "      <th>감마 지티피</th>\n",
              "      <th>음주여부</th>\n",
              "      <th>성별</th>\n",
              "      <th>bmi</th>\n",
              "      <th>나이</th>\n",
              "    </tr>\n",
              "  </thead>\n",
              "  <tbody>\n",
              "    <tr>\n",
              "      <th>0</th>\n",
              "      <td>90.0</td>\n",
              "      <td>15.0</td>\n",
              "      <td>21.0</td>\n",
              "      <td>27.0</td>\n",
              "      <td>21.0</td>\n",
              "      <td>0.0</td>\n",
              "      <td>0</td>\n",
              "      <td>22.0</td>\n",
              "      <td>40</td>\n",
              "    </tr>\n",
              "    <tr>\n",
              "      <th>1</th>\n",
              "      <td>87.0</td>\n",
              "      <td>12.7</td>\n",
              "      <td>18.0</td>\n",
              "      <td>15.0</td>\n",
              "      <td>15.0</td>\n",
              "      <td>0.0</td>\n",
              "      <td>1</td>\n",
              "      <td>28.9</td>\n",
              "      <td>60</td>\n",
              "    </tr>\n",
              "    <tr>\n",
              "      <th>2</th>\n",
              "      <td>102.0</td>\n",
              "      <td>12.8</td>\n",
              "      <td>27.0</td>\n",
              "      <td>25.0</td>\n",
              "      <td>7.0</td>\n",
              "      <td>0.0</td>\n",
              "      <td>1</td>\n",
              "      <td>22.9</td>\n",
              "      <td>50</td>\n",
              "    </tr>\n",
              "    <tr>\n",
              "      <th>3</th>\n",
              "      <td>146.0</td>\n",
              "      <td>16.4</td>\n",
              "      <td>65.0</td>\n",
              "      <td>97.0</td>\n",
              "      <td>72.0</td>\n",
              "      <td>0.0</td>\n",
              "      <td>0</td>\n",
              "      <td>27.3</td>\n",
              "      <td>60</td>\n",
              "    </tr>\n",
              "    <tr>\n",
              "      <th>4</th>\n",
              "      <td>110.0</td>\n",
              "      <td>12.4</td>\n",
              "      <td>18.0</td>\n",
              "      <td>17.0</td>\n",
              "      <td>14.0</td>\n",
              "      <td>0.0</td>\n",
              "      <td>1</td>\n",
              "      <td>20.8</td>\n",
              "      <td>50</td>\n",
              "    </tr>\n",
              "  </tbody>\n",
              "</table>\n",
              "</div>\n",
              "      <button class=\"colab-df-convert\" onclick=\"convertToInteractive('df-7f4ded1d-a397-4315-839e-d49f7c26c8f8')\"\n",
              "              title=\"Convert this dataframe to an interactive table.\"\n",
              "              style=\"display:none;\">\n",
              "        \n",
              "  <svg xmlns=\"http://www.w3.org/2000/svg\" height=\"24px\"viewBox=\"0 0 24 24\"\n",
              "       width=\"24px\">\n",
              "    <path d=\"M0 0h24v24H0V0z\" fill=\"none\"/>\n",
              "    <path d=\"M18.56 5.44l.94 2.06.94-2.06 2.06-.94-2.06-.94-.94-2.06-.94 2.06-2.06.94zm-11 1L8.5 8.5l.94-2.06 2.06-.94-2.06-.94L8.5 2.5l-.94 2.06-2.06.94zm10 10l.94 2.06.94-2.06 2.06-.94-2.06-.94-.94-2.06-.94 2.06-2.06.94z\"/><path d=\"M17.41 7.96l-1.37-1.37c-.4-.4-.92-.59-1.43-.59-.52 0-1.04.2-1.43.59L10.3 9.45l-7.72 7.72c-.78.78-.78 2.05 0 2.83L4 21.41c.39.39.9.59 1.41.59.51 0 1.02-.2 1.41-.59l7.78-7.78 2.81-2.81c.8-.78.8-2.07 0-2.86zM5.41 20L4 18.59l7.72-7.72 1.47 1.35L5.41 20z\"/>\n",
              "  </svg>\n",
              "      </button>\n",
              "      \n",
              "  <style>\n",
              "    .colab-df-container {\n",
              "      display:flex;\n",
              "      flex-wrap:wrap;\n",
              "      gap: 12px;\n",
              "    }\n",
              "\n",
              "    .colab-df-convert {\n",
              "      background-color: #E8F0FE;\n",
              "      border: none;\n",
              "      border-radius: 50%;\n",
              "      cursor: pointer;\n",
              "      display: none;\n",
              "      fill: #1967D2;\n",
              "      height: 32px;\n",
              "      padding: 0 0 0 0;\n",
              "      width: 32px;\n",
              "    }\n",
              "\n",
              "    .colab-df-convert:hover {\n",
              "      background-color: #E2EBFA;\n",
              "      box-shadow: 0px 1px 2px rgba(60, 64, 67, 0.3), 0px 1px 3px 1px rgba(60, 64, 67, 0.15);\n",
              "      fill: #174EA6;\n",
              "    }\n",
              "\n",
              "    [theme=dark] .colab-df-convert {\n",
              "      background-color: #3B4455;\n",
              "      fill: #D2E3FC;\n",
              "    }\n",
              "\n",
              "    [theme=dark] .colab-df-convert:hover {\n",
              "      background-color: #434B5C;\n",
              "      box-shadow: 0px 1px 3px 1px rgba(0, 0, 0, 0.15);\n",
              "      filter: drop-shadow(0px 1px 2px rgba(0, 0, 0, 0.3));\n",
              "      fill: #FFFFFF;\n",
              "    }\n",
              "  </style>\n",
              "\n",
              "      <script>\n",
              "        const buttonEl =\n",
              "          document.querySelector('#df-7f4ded1d-a397-4315-839e-d49f7c26c8f8 button.colab-df-convert');\n",
              "        buttonEl.style.display =\n",
              "          google.colab.kernel.accessAllowed ? 'block' : 'none';\n",
              "\n",
              "        async function convertToInteractive(key) {\n",
              "          const element = document.querySelector('#df-7f4ded1d-a397-4315-839e-d49f7c26c8f8');\n",
              "          const dataTable =\n",
              "            await google.colab.kernel.invokeFunction('convertToInteractive',\n",
              "                                                     [key], {});\n",
              "          if (!dataTable) return;\n",
              "\n",
              "          const docLinkHtml = 'Like what you see? Visit the ' +\n",
              "            '<a target=\"_blank\" href=https://colab.research.google.com/notebooks/data_table.ipynb>data table notebook</a>'\n",
              "            + ' to learn more about interactive tables.';\n",
              "          element.innerHTML = '';\n",
              "          dataTable['output_type'] = 'display_data';\n",
              "          await google.colab.output.renderOutput(dataTable, element);\n",
              "          const docLink = document.createElement('div');\n",
              "          docLink.innerHTML = docLinkHtml;\n",
              "          element.appendChild(docLink);\n",
              "        }\n",
              "      </script>\n",
              "    </div>\n",
              "  </div>\n",
              "  "
            ]
          },
          "metadata": {},
          "execution_count": 26
        }
      ]
    },
    {
      "cell_type": "code",
      "source": [
        "df.tail()"
      ],
      "metadata": {
        "colab": {
          "base_uri": "https://localhost:8080/",
          "height": 268
        },
        "id": "kuPr8SVCNxIs",
        "outputId": "4b702572-21f2-4e02-b74c-78690bd76063"
      },
      "execution_count": 27,
      "outputs": [
        {
          "output_type": "execute_result",
          "data": {
            "text/plain": [
              "        식전혈당(공복혈당)   혈색소  (혈청지오티)AST  (혈청지오티)ALT  감마 지티피  음주여부 성별   bmi  나이\n",
              "999995       124.0  13.6        21.0        25.0    18.0   0.0  1  26.2  60\n",
              "999996        98.0  14.0        21.0        14.0    19.0   1.0  1  21.5  50\n",
              "999997        83.0  16.0        26.0        20.0    17.0   1.0  0  22.9  40\n",
              "999998       111.0  11.9        25.0        29.0    13.0   0.0  1  27.3  40\n",
              "999999       121.0  14.9        17.0        13.0    24.0   0.0  0  21.5  50"
            ],
            "text/html": [
              "\n",
              "  <div id=\"df-e5e2ebe7-3563-4533-9f15-c61c57364d77\">\n",
              "    <div class=\"colab-df-container\">\n",
              "      <div>\n",
              "<style scoped>\n",
              "    .dataframe tbody tr th:only-of-type {\n",
              "        vertical-align: middle;\n",
              "    }\n",
              "\n",
              "    .dataframe tbody tr th {\n",
              "        vertical-align: top;\n",
              "    }\n",
              "\n",
              "    .dataframe thead th {\n",
              "        text-align: right;\n",
              "    }\n",
              "</style>\n",
              "<table border=\"1\" class=\"dataframe\">\n",
              "  <thead>\n",
              "    <tr style=\"text-align: right;\">\n",
              "      <th></th>\n",
              "      <th>식전혈당(공복혈당)</th>\n",
              "      <th>혈색소</th>\n",
              "      <th>(혈청지오티)AST</th>\n",
              "      <th>(혈청지오티)ALT</th>\n",
              "      <th>감마 지티피</th>\n",
              "      <th>음주여부</th>\n",
              "      <th>성별</th>\n",
              "      <th>bmi</th>\n",
              "      <th>나이</th>\n",
              "    </tr>\n",
              "  </thead>\n",
              "  <tbody>\n",
              "    <tr>\n",
              "      <th>999995</th>\n",
              "      <td>124.0</td>\n",
              "      <td>13.6</td>\n",
              "      <td>21.0</td>\n",
              "      <td>25.0</td>\n",
              "      <td>18.0</td>\n",
              "      <td>0.0</td>\n",
              "      <td>1</td>\n",
              "      <td>26.2</td>\n",
              "      <td>60</td>\n",
              "    </tr>\n",
              "    <tr>\n",
              "      <th>999996</th>\n",
              "      <td>98.0</td>\n",
              "      <td>14.0</td>\n",
              "      <td>21.0</td>\n",
              "      <td>14.0</td>\n",
              "      <td>19.0</td>\n",
              "      <td>1.0</td>\n",
              "      <td>1</td>\n",
              "      <td>21.5</td>\n",
              "      <td>50</td>\n",
              "    </tr>\n",
              "    <tr>\n",
              "      <th>999997</th>\n",
              "      <td>83.0</td>\n",
              "      <td>16.0</td>\n",
              "      <td>26.0</td>\n",
              "      <td>20.0</td>\n",
              "      <td>17.0</td>\n",
              "      <td>1.0</td>\n",
              "      <td>0</td>\n",
              "      <td>22.9</td>\n",
              "      <td>40</td>\n",
              "    </tr>\n",
              "    <tr>\n",
              "      <th>999998</th>\n",
              "      <td>111.0</td>\n",
              "      <td>11.9</td>\n",
              "      <td>25.0</td>\n",
              "      <td>29.0</td>\n",
              "      <td>13.0</td>\n",
              "      <td>0.0</td>\n",
              "      <td>1</td>\n",
              "      <td>27.3</td>\n",
              "      <td>40</td>\n",
              "    </tr>\n",
              "    <tr>\n",
              "      <th>999999</th>\n",
              "      <td>121.0</td>\n",
              "      <td>14.9</td>\n",
              "      <td>17.0</td>\n",
              "      <td>13.0</td>\n",
              "      <td>24.0</td>\n",
              "      <td>0.0</td>\n",
              "      <td>0</td>\n",
              "      <td>21.5</td>\n",
              "      <td>50</td>\n",
              "    </tr>\n",
              "  </tbody>\n",
              "</table>\n",
              "</div>\n",
              "      <button class=\"colab-df-convert\" onclick=\"convertToInteractive('df-e5e2ebe7-3563-4533-9f15-c61c57364d77')\"\n",
              "              title=\"Convert this dataframe to an interactive table.\"\n",
              "              style=\"display:none;\">\n",
              "        \n",
              "  <svg xmlns=\"http://www.w3.org/2000/svg\" height=\"24px\"viewBox=\"0 0 24 24\"\n",
              "       width=\"24px\">\n",
              "    <path d=\"M0 0h24v24H0V0z\" fill=\"none\"/>\n",
              "    <path d=\"M18.56 5.44l.94 2.06.94-2.06 2.06-.94-2.06-.94-.94-2.06-.94 2.06-2.06.94zm-11 1L8.5 8.5l.94-2.06 2.06-.94-2.06-.94L8.5 2.5l-.94 2.06-2.06.94zm10 10l.94 2.06.94-2.06 2.06-.94-2.06-.94-.94-2.06-.94 2.06-2.06.94z\"/><path d=\"M17.41 7.96l-1.37-1.37c-.4-.4-.92-.59-1.43-.59-.52 0-1.04.2-1.43.59L10.3 9.45l-7.72 7.72c-.78.78-.78 2.05 0 2.83L4 21.41c.39.39.9.59 1.41.59.51 0 1.02-.2 1.41-.59l7.78-7.78 2.81-2.81c.8-.78.8-2.07 0-2.86zM5.41 20L4 18.59l7.72-7.72 1.47 1.35L5.41 20z\"/>\n",
              "  </svg>\n",
              "      </button>\n",
              "      \n",
              "  <style>\n",
              "    .colab-df-container {\n",
              "      display:flex;\n",
              "      flex-wrap:wrap;\n",
              "      gap: 12px;\n",
              "    }\n",
              "\n",
              "    .colab-df-convert {\n",
              "      background-color: #E8F0FE;\n",
              "      border: none;\n",
              "      border-radius: 50%;\n",
              "      cursor: pointer;\n",
              "      display: none;\n",
              "      fill: #1967D2;\n",
              "      height: 32px;\n",
              "      padding: 0 0 0 0;\n",
              "      width: 32px;\n",
              "    }\n",
              "\n",
              "    .colab-df-convert:hover {\n",
              "      background-color: #E2EBFA;\n",
              "      box-shadow: 0px 1px 2px rgba(60, 64, 67, 0.3), 0px 1px 3px 1px rgba(60, 64, 67, 0.15);\n",
              "      fill: #174EA6;\n",
              "    }\n",
              "\n",
              "    [theme=dark] .colab-df-convert {\n",
              "      background-color: #3B4455;\n",
              "      fill: #D2E3FC;\n",
              "    }\n",
              "\n",
              "    [theme=dark] .colab-df-convert:hover {\n",
              "      background-color: #434B5C;\n",
              "      box-shadow: 0px 1px 3px 1px rgba(0, 0, 0, 0.15);\n",
              "      filter: drop-shadow(0px 1px 2px rgba(0, 0, 0, 0.3));\n",
              "      fill: #FFFFFF;\n",
              "    }\n",
              "  </style>\n",
              "\n",
              "      <script>\n",
              "        const buttonEl =\n",
              "          document.querySelector('#df-e5e2ebe7-3563-4533-9f15-c61c57364d77 button.colab-df-convert');\n",
              "        buttonEl.style.display =\n",
              "          google.colab.kernel.accessAllowed ? 'block' : 'none';\n",
              "\n",
              "        async function convertToInteractive(key) {\n",
              "          const element = document.querySelector('#df-e5e2ebe7-3563-4533-9f15-c61c57364d77');\n",
              "          const dataTable =\n",
              "            await google.colab.kernel.invokeFunction('convertToInteractive',\n",
              "                                                     [key], {});\n",
              "          if (!dataTable) return;\n",
              "\n",
              "          const docLinkHtml = 'Like what you see? Visit the ' +\n",
              "            '<a target=\"_blank\" href=https://colab.research.google.com/notebooks/data_table.ipynb>data table notebook</a>'\n",
              "            + ' to learn more about interactive tables.';\n",
              "          element.innerHTML = '';\n",
              "          dataTable['output_type'] = 'display_data';\n",
              "          await google.colab.output.renderOutput(dataTable, element);\n",
              "          const docLink = document.createElement('div');\n",
              "          docLink.innerHTML = docLinkHtml;\n",
              "          element.appendChild(docLink);\n",
              "        }\n",
              "      </script>\n",
              "    </div>\n",
              "  </div>\n",
              "  "
            ]
          },
          "metadata": {},
          "execution_count": 27
        }
      ]
    },
    {
      "cell_type": "markdown",
      "source": [
        "### 정답레이블 생성"
      ],
      "metadata": {
        "id": "EYx8Vcsqhxwe"
      }
    },
    {
      "cell_type": "markdown",
      "source": [
        "**BMI(비만여부)**"
      ],
      "metadata": {
        "id": "3SmVoyxm4kMX"
      }
    },
    {
      "cell_type": "code",
      "source": [
        "def class_bmi_div (bmi) :\n",
        "    if bmi < 18.5 :  # 18.5 미만\n",
        "        return \"정상\" # 저체중\n",
        "    elif 18.5 <= bmi < 23 :\n",
        "        return \"정상\" # 정상체중\n",
        "    elif 23 <= bmi < 25 :\n",
        "        return \"비만\" # 과체중\n",
        "    elif 25 <= bmi < 30 :  # 질환의심: 30 이상\n",
        "        return \"비만\" # 경도비만\n",
        "    elif 30 <= bmi < 35 :\n",
        "        return \"비만\" # 중정도비만\n",
        "    elif 35 <= bmi :\n",
        "        return \"비만\" # 고도비만\n",
        "\n",
        "df['비만여부']=df['bmi'].apply(class_bmi_div)"
      ],
      "metadata": {
        "id": "p0Unoxqv4nU4"
      },
      "execution_count": 28,
      "outputs": []
    },
    {
      "cell_type": "code",
      "source": [
        "(df['비만여부']=='비만').sum() # 과체중 포함 4가지 항목 -> '비만'으로 분류 (정상 : 저체중, 정상체중)"
      ],
      "metadata": {
        "colab": {
          "base_uri": "https://localhost:8080/"
        },
        "id": "gDSrIpcj4vIx",
        "outputId": "40f5f4d4-cedb-4fa1-9797-70f3d1834e8e"
      },
      "execution_count": 29,
      "outputs": [
        {
          "output_type": "execute_result",
          "data": {
            "text/plain": [
              "591520"
            ]
          },
          "metadata": {},
          "execution_count": 29
        }
      ]
    },
    {
      "cell_type": "code",
      "source": [
        "(df['비만여부']=='정상').sum()"
      ],
      "metadata": {
        "colab": {
          "base_uri": "https://localhost:8080/"
        },
        "id": "BbK3kDdD4umg",
        "outputId": "e9d5523d-0e4c-436d-c86f-62f43eb832de"
      },
      "execution_count": 30,
      "outputs": [
        {
          "output_type": "execute_result",
          "data": {
            "text/plain": [
              "395812"
            ]
          },
          "metadata": {},
          "execution_count": 30
        }
      ]
    },
    {
      "cell_type": "markdown",
      "source": [
        "**빈혈**"
      ],
      "metadata": {
        "id": "vXShLsRunkiR"
      }
    },
    {
      "cell_type": "code",
      "source": [
        "cond1 = (df['성별'] == '1')\n",
        "cond2 = (df['혈색소'] < 12)\n",
        "cond3 = (df['혈색소'] < 13)\n",
        "\n",
        "df.loc[cond1&cond2, '빈혈여부'] = \"빈혈\" # 여자 and 혈색소 < 12 : 빈혈\n",
        "df.loc[~cond1&~cond2, '빈혈여부'] = \"빈혈 아님\" # 여자 and 혈색소 >= 12 : 빈혈 아님\n",
        "df.loc[~cond1&cond3, '빈혈여부'] = \"빈혈\" # 남자 and 혈색소 < 13 : 빈혈\n",
        "df.loc[~cond1&~cond3, '빈혈여부'] = \"빈혈 아님\" # 남자 and 혈색소 >= 13 : 빈혈 아님 \n",
        "\n",
        "df['빈혈여부']=df['빈혈여부'].astype('object')"
      ],
      "metadata": {
        "id": "60dnMOMQntRr"
      },
      "execution_count": 31,
      "outputs": []
    },
    {
      "cell_type": "code",
      "source": [
        "# cond1 = (df['성별'] == '1') \n",
        "# cond2 = (df['혈색소'] < 12)\n",
        "# cond3 = (df['혈색소'] < 13)\n",
        "\n",
        "# df.loc[cond1&cond2, '빈혈여부'] = \"빈혈\" # 여자 and 혈색소 < 12 : 빈혈\n",
        "# df.loc[~cond1&~cond2, '빈혈여부'] = \"빈혈 아님\" # 여자 and 혈색소 >= 12 : 빈혈 아님\n",
        "# df.loc[~cond1&cond3, '빈혈여부'] = \"빈혈\" # 남자 and 혈색소 < 13 : 빈혈\n",
        "# df.loc[~cond1&~cond3, '빈혈여부'] = \"빈혈 아님\" # 남자 and 혈색소 >= 13 : 빈혈 아님"
      ],
      "metadata": {
        "id": "Gcb_RpLVnwsU"
      },
      "execution_count": 32,
      "outputs": []
    },
    {
      "cell_type": "code",
      "source": [
        "(df['빈혈여부']=='빈혈').sum()"
      ],
      "metadata": {
        "colab": {
          "base_uri": "https://localhost:8080/"
        },
        "id": "okbOMlkUT-WI",
        "outputId": "53f958c4-a35d-4719-a62f-2c27503d4576"
      },
      "execution_count": 33,
      "outputs": [
        {
          "output_type": "execute_result",
          "data": {
            "text/plain": [
              "192724"
            ]
          },
          "metadata": {},
          "execution_count": 33
        }
      ]
    },
    {
      "cell_type": "code",
      "source": [
        "(df['빈혈여부']=='빈혈 아님').sum()"
      ],
      "metadata": {
        "colab": {
          "base_uri": "https://localhost:8080/"
        },
        "id": "o5INlfsyUAA9",
        "outputId": "7dfd3db8-c0bb-4724-c879-a28635b44730"
      },
      "execution_count": 34,
      "outputs": [
        {
          "output_type": "execute_result",
          "data": {
            "text/plain": [
              "794608"
            ]
          },
          "metadata": {},
          "execution_count": 34
        }
      ]
    },
    {
      "cell_type": "markdown",
      "source": [
        "**당뇨**"
      ],
      "metadata": {
        "id": "2TOv9K2xnmi2"
      }
    },
    {
      "cell_type": "code",
      "source": [
        "# def trans(tr) :\n",
        "#     if tr < 70 :\n",
        "#         return 0 # 저혈당\n",
        "#     elif 70 <= tr < 100 :\n",
        "#         return 1 # 이상없음\n",
        "#     elif 100 <= tr < 126 :\n",
        "#         return 2 # 공복혈당장애\n",
        "#                  # 100 ~ 110 : 100 미만 대비 당뇨병 위험도가 3.17배, 110 ~ 126 : 100 미만 대비 당뇨병 위험도가 7.42배\n",
        "#     else :\n",
        "#         return 3 # 당뇨병\n",
        "\n",
        "# def trans_han(tr) :\n",
        "#     if tr < 70 :\n",
        "#         return \"저혈당\" # 저혈당\n",
        "#     elif 70 <= tr < 100 :\n",
        "#         return \"정상\" # 이상없음\n",
        "#     elif 100 <= tr < 126 :\n",
        "#         return \"공복혈당장애\" # 공복혈당장애\n",
        "#                  # 100 ~ 110 : 100 미만 대비 당뇨병 위험도가 3.17배, 110 ~ 126 : 100 미만 대비 당뇨병 위험도가 7.42배\n",
        "#     else :\n",
        "#         return \"당뇨병\" # 당뇨병"
      ],
      "metadata": {
        "id": "PbTcZDmanj6y"
      },
      "execution_count": 35,
      "outputs": []
    },
    {
      "cell_type": "code",
      "source": [
        "def trans(tr) :\n",
        "    if 70 <= tr < 100 :\n",
        "        return \"당뇨 없음\" # 정상\n",
        "    elif 100 <= tr < 126 :\n",
        "        return \"당뇨\" # 비정상(공복혈당장애)\n",
        "                 # 100 ~ 110 : 100 미만 대비 당뇨병 위험도가 3.17배, 110 ~ 126 : 100 미만 대비 당뇨병 위험도가 7.42배\n",
        "    else :\n",
        "        return \"당뇨\" # 당뇨병\n",
        "        # 정상(저혈당, 정상) / 비정상(공복혈당장애, 당뇨병)"
      ],
      "metadata": {
        "id": "wglGOA5CviS1"
      },
      "execution_count": 36,
      "outputs": []
    },
    {
      "cell_type": "code",
      "source": [
        "df['당뇨여부']=df['식전혈당(공복혈당)'].apply(trans).astype('object')"
      ],
      "metadata": {
        "id": "IfoV2Kygnry_"
      },
      "execution_count": 37,
      "outputs": []
    },
    {
      "cell_type": "code",
      "source": [
        "(df['당뇨여부']=='당뇨').sum()"
      ],
      "metadata": {
        "colab": {
          "base_uri": "https://localhost:8080/"
        },
        "id": "9I8rsR_8UD8C",
        "outputId": "6a1c7fd1-1a76-4d6d-c9c6-8c408a730e66"
      },
      "execution_count": 38,
      "outputs": [
        {
          "output_type": "execute_result",
          "data": {
            "text/plain": [
              "472916"
            ]
          },
          "metadata": {},
          "execution_count": 38
        }
      ]
    },
    {
      "cell_type": "code",
      "source": [
        "(df['당뇨여부']=='당뇨 없음').sum()"
      ],
      "metadata": {
        "colab": {
          "base_uri": "https://localhost:8080/"
        },
        "id": "5KaD6OC7UEzc",
        "outputId": "fa76d01e-a940-4afa-f2a8-e0e1601a0e2d"
      },
      "execution_count": 39,
      "outputs": [
        {
          "output_type": "execute_result",
          "data": {
            "text/plain": [
              "514416"
            ]
          },
          "metadata": {},
          "execution_count": 39
        }
      ]
    },
    {
      "cell_type": "code",
      "source": [
        "# df.reset_index(drop=True,inplace=True)"
      ],
      "metadata": {
        "id": "yX05SW8MOcaH"
      },
      "execution_count": 40,
      "outputs": []
    },
    {
      "cell_type": "code",
      "source": [
        "# import warnings\n",
        "# warnings.filterwarnings('ignore')"
      ],
      "metadata": {
        "id": "QL81SpgPOfUw"
      },
      "execution_count": 41,
      "outputs": []
    },
    {
      "cell_type": "code",
      "source": [
        "# for x in range(len(df['bmi'])):\n",
        "#   if df['bmi'][x] < 18.5:\n",
        "#     df['비만여부'][x] = '정상' # 저체중\n",
        "#   elif 18.5 <= df['bmi'][x] <= 22.9:\n",
        "#     df['비만여부'][x] = '정상' # 정상\n",
        "#   elif 23 <= df['bmi'][x] <= 24.9: \n",
        "#     df['비만여부'][x] = '비만' # 비만전단계\n",
        "#   elif 25 <= df['bmi'][x] <= 29.9:\n",
        "#     df['비만여부'][x] = '비만' # 1단계 비만\n",
        "#   elif 30 <= df['bmi'][x] <= 34.9:\n",
        "#     df['비만여부'][x] = '비만' # 2단계 비만\n",
        "#   elif df['bmi'][x] >= 35:\n",
        "#     df['비만여부'][x] = '비만' # 3단계 미만\n",
        "# df"
      ],
      "metadata": {
        "id": "TO9dGT-rOgxs"
      },
      "execution_count": 42,
      "outputs": []
    },
    {
      "cell_type": "code",
      "source": [
        "df.tail()"
      ],
      "metadata": {
        "colab": {
          "base_uri": "https://localhost:8080/",
          "height": 528
        },
        "id": "SJbqiFVucJ6u",
        "outputId": "48ac293e-9b09-4f64-c536-9185db297f2e"
      },
      "execution_count": 43,
      "outputs": [
        {
          "output_type": "execute_result",
          "data": {
            "text/plain": [
              "        식전혈당(공복혈당)   혈색소  (혈청지오티)AST  (혈청지오티)ALT  감마 지티피  음주여부 성별   bmi  나이  \\\n",
              "999995       124.0  13.6        21.0        25.0    18.0   0.0  1  26.2  60   \n",
              "999996        98.0  14.0        21.0        14.0    19.0   1.0  1  21.5  50   \n",
              "999997        83.0  16.0        26.0        20.0    17.0   1.0  0  22.9  40   \n",
              "999998       111.0  11.9        25.0        29.0    13.0   0.0  1  27.3  40   \n",
              "999999       121.0  14.9        17.0        13.0    24.0   0.0  0  21.5  50   \n",
              "\n",
              "       비만여부   빈혈여부   당뇨여부  \n",
              "999995   비만  빈혈 아님     당뇨  \n",
              "999996   정상  빈혈 아님  당뇨 없음  \n",
              "999997   정상  빈혈 아님  당뇨 없음  \n",
              "999998   비만     빈혈     당뇨  \n",
              "999999   정상  빈혈 아님     당뇨  "
            ],
            "text/html": [
              "\n",
              "  <div id=\"df-27f000f1-53cf-409f-8500-3d7ab906ecb0\">\n",
              "    <div class=\"colab-df-container\">\n",
              "      <div>\n",
              "<style scoped>\n",
              "    .dataframe tbody tr th:only-of-type {\n",
              "        vertical-align: middle;\n",
              "    }\n",
              "\n",
              "    .dataframe tbody tr th {\n",
              "        vertical-align: top;\n",
              "    }\n",
              "\n",
              "    .dataframe thead th {\n",
              "        text-align: right;\n",
              "    }\n",
              "</style>\n",
              "<table border=\"1\" class=\"dataframe\">\n",
              "  <thead>\n",
              "    <tr style=\"text-align: right;\">\n",
              "      <th></th>\n",
              "      <th>식전혈당(공복혈당)</th>\n",
              "      <th>혈색소</th>\n",
              "      <th>(혈청지오티)AST</th>\n",
              "      <th>(혈청지오티)ALT</th>\n",
              "      <th>감마 지티피</th>\n",
              "      <th>음주여부</th>\n",
              "      <th>성별</th>\n",
              "      <th>bmi</th>\n",
              "      <th>나이</th>\n",
              "      <th>비만여부</th>\n",
              "      <th>빈혈여부</th>\n",
              "      <th>당뇨여부</th>\n",
              "    </tr>\n",
              "  </thead>\n",
              "  <tbody>\n",
              "    <tr>\n",
              "      <th>999995</th>\n",
              "      <td>124.0</td>\n",
              "      <td>13.6</td>\n",
              "      <td>21.0</td>\n",
              "      <td>25.0</td>\n",
              "      <td>18.0</td>\n",
              "      <td>0.0</td>\n",
              "      <td>1</td>\n",
              "      <td>26.2</td>\n",
              "      <td>60</td>\n",
              "      <td>비만</td>\n",
              "      <td>빈혈 아님</td>\n",
              "      <td>당뇨</td>\n",
              "    </tr>\n",
              "    <tr>\n",
              "      <th>999996</th>\n",
              "      <td>98.0</td>\n",
              "      <td>14.0</td>\n",
              "      <td>21.0</td>\n",
              "      <td>14.0</td>\n",
              "      <td>19.0</td>\n",
              "      <td>1.0</td>\n",
              "      <td>1</td>\n",
              "      <td>21.5</td>\n",
              "      <td>50</td>\n",
              "      <td>정상</td>\n",
              "      <td>빈혈 아님</td>\n",
              "      <td>당뇨 없음</td>\n",
              "    </tr>\n",
              "    <tr>\n",
              "      <th>999997</th>\n",
              "      <td>83.0</td>\n",
              "      <td>16.0</td>\n",
              "      <td>26.0</td>\n",
              "      <td>20.0</td>\n",
              "      <td>17.0</td>\n",
              "      <td>1.0</td>\n",
              "      <td>0</td>\n",
              "      <td>22.9</td>\n",
              "      <td>40</td>\n",
              "      <td>정상</td>\n",
              "      <td>빈혈 아님</td>\n",
              "      <td>당뇨 없음</td>\n",
              "    </tr>\n",
              "    <tr>\n",
              "      <th>999998</th>\n",
              "      <td>111.0</td>\n",
              "      <td>11.9</td>\n",
              "      <td>25.0</td>\n",
              "      <td>29.0</td>\n",
              "      <td>13.0</td>\n",
              "      <td>0.0</td>\n",
              "      <td>1</td>\n",
              "      <td>27.3</td>\n",
              "      <td>40</td>\n",
              "      <td>비만</td>\n",
              "      <td>빈혈</td>\n",
              "      <td>당뇨</td>\n",
              "    </tr>\n",
              "    <tr>\n",
              "      <th>999999</th>\n",
              "      <td>121.0</td>\n",
              "      <td>14.9</td>\n",
              "      <td>17.0</td>\n",
              "      <td>13.0</td>\n",
              "      <td>24.0</td>\n",
              "      <td>0.0</td>\n",
              "      <td>0</td>\n",
              "      <td>21.5</td>\n",
              "      <td>50</td>\n",
              "      <td>정상</td>\n",
              "      <td>빈혈 아님</td>\n",
              "      <td>당뇨</td>\n",
              "    </tr>\n",
              "  </tbody>\n",
              "</table>\n",
              "</div>\n",
              "      <button class=\"colab-df-convert\" onclick=\"convertToInteractive('df-27f000f1-53cf-409f-8500-3d7ab906ecb0')\"\n",
              "              title=\"Convert this dataframe to an interactive table.\"\n",
              "              style=\"display:none;\">\n",
              "        \n",
              "  <svg xmlns=\"http://www.w3.org/2000/svg\" height=\"24px\"viewBox=\"0 0 24 24\"\n",
              "       width=\"24px\">\n",
              "    <path d=\"M0 0h24v24H0V0z\" fill=\"none\"/>\n",
              "    <path d=\"M18.56 5.44l.94 2.06.94-2.06 2.06-.94-2.06-.94-.94-2.06-.94 2.06-2.06.94zm-11 1L8.5 8.5l.94-2.06 2.06-.94-2.06-.94L8.5 2.5l-.94 2.06-2.06.94zm10 10l.94 2.06.94-2.06 2.06-.94-2.06-.94-.94-2.06-.94 2.06-2.06.94z\"/><path d=\"M17.41 7.96l-1.37-1.37c-.4-.4-.92-.59-1.43-.59-.52 0-1.04.2-1.43.59L10.3 9.45l-7.72 7.72c-.78.78-.78 2.05 0 2.83L4 21.41c.39.39.9.59 1.41.59.51 0 1.02-.2 1.41-.59l7.78-7.78 2.81-2.81c.8-.78.8-2.07 0-2.86zM5.41 20L4 18.59l7.72-7.72 1.47 1.35L5.41 20z\"/>\n",
              "  </svg>\n",
              "      </button>\n",
              "      \n",
              "  <style>\n",
              "    .colab-df-container {\n",
              "      display:flex;\n",
              "      flex-wrap:wrap;\n",
              "      gap: 12px;\n",
              "    }\n",
              "\n",
              "    .colab-df-convert {\n",
              "      background-color: #E8F0FE;\n",
              "      border: none;\n",
              "      border-radius: 50%;\n",
              "      cursor: pointer;\n",
              "      display: none;\n",
              "      fill: #1967D2;\n",
              "      height: 32px;\n",
              "      padding: 0 0 0 0;\n",
              "      width: 32px;\n",
              "    }\n",
              "\n",
              "    .colab-df-convert:hover {\n",
              "      background-color: #E2EBFA;\n",
              "      box-shadow: 0px 1px 2px rgba(60, 64, 67, 0.3), 0px 1px 3px 1px rgba(60, 64, 67, 0.15);\n",
              "      fill: #174EA6;\n",
              "    }\n",
              "\n",
              "    [theme=dark] .colab-df-convert {\n",
              "      background-color: #3B4455;\n",
              "      fill: #D2E3FC;\n",
              "    }\n",
              "\n",
              "    [theme=dark] .colab-df-convert:hover {\n",
              "      background-color: #434B5C;\n",
              "      box-shadow: 0px 1px 3px 1px rgba(0, 0, 0, 0.15);\n",
              "      filter: drop-shadow(0px 1px 2px rgba(0, 0, 0, 0.3));\n",
              "      fill: #FFFFFF;\n",
              "    }\n",
              "  </style>\n",
              "\n",
              "      <script>\n",
              "        const buttonEl =\n",
              "          document.querySelector('#df-27f000f1-53cf-409f-8500-3d7ab906ecb0 button.colab-df-convert');\n",
              "        buttonEl.style.display =\n",
              "          google.colab.kernel.accessAllowed ? 'block' : 'none';\n",
              "\n",
              "        async function convertToInteractive(key) {\n",
              "          const element = document.querySelector('#df-27f000f1-53cf-409f-8500-3d7ab906ecb0');\n",
              "          const dataTable =\n",
              "            await google.colab.kernel.invokeFunction('convertToInteractive',\n",
              "                                                     [key], {});\n",
              "          if (!dataTable) return;\n",
              "\n",
              "          const docLinkHtml = 'Like what you see? Visit the ' +\n",
              "            '<a target=\"_blank\" href=https://colab.research.google.com/notebooks/data_table.ipynb>data table notebook</a>'\n",
              "            + ' to learn more about interactive tables.';\n",
              "          element.innerHTML = '';\n",
              "          dataTable['output_type'] = 'display_data';\n",
              "          await google.colab.output.renderOutput(dataTable, element);\n",
              "          const docLink = document.createElement('div');\n",
              "          docLink.innerHTML = docLinkHtml;\n",
              "          element.appendChild(docLink);\n",
              "        }\n",
              "      </script>\n",
              "    </div>\n",
              "  </div>\n",
              "  "
            ]
          },
          "metadata": {},
          "execution_count": 43
        }
      ]
    },
    {
      "cell_type": "markdown",
      "source": [
        "**ALT**"
      ],
      "metadata": {
        "id": "k5FaIiRloDWG"
      }
    },
    {
      "cell_type": "code",
      "source": [
        "cond1 = (df['(혈청지오티)ALT']<=40)\n",
        "cond2 = ((df['(혈청지오티)ALT']>40)&(df['(혈청지오티)ALT']<=200))\n",
        "cond3 = ((df['(혈청지오티)ALT']>200)&(df['(혈청지오티)ALT']<=400))\n",
        "cond4 = (df['(혈청지오티)ALT']>400)\n",
        "\n",
        "df.loc[cond1, 'ALT구분'] = '정상' # 정상\n",
        "df.loc[cond2, 'ALT구분'] = '비정상' # 경도\n",
        "df.loc[cond3, 'ALT구분'] = '비정상' # 중등도\n",
        "df.loc[cond4, 'ALT구분'] = '비정상' # 중증"
      ],
      "metadata": {
        "id": "MstZhomroFh8"
      },
      "execution_count": 44,
      "outputs": []
    },
    {
      "cell_type": "markdown",
      "source": [
        "**AST**"
      ],
      "metadata": {
        "id": "EbBWxYt6oH6r"
      }
    },
    {
      "cell_type": "code",
      "source": [
        "cond1 = (df['(혈청지오티)AST']<=40)\n",
        "cond2 = ((df['(혈청지오티)AST']>40)&(df['(혈청지오티)AST']<=200))\n",
        "cond3 = ((df['(혈청지오티)AST']>200)&(df['(혈청지오티)AST']<=400))\n",
        "cond4 = (df['(혈청지오티)AST']>400)\n",
        "\n",
        "df.loc[cond1, 'AST구분'] = '정상'\n",
        "df.loc[cond2, 'AST구분'] = '비정상'\n",
        "df.loc[cond3, 'AST구분'] = '비정상'\n",
        "df.loc[cond4, 'AST구분'] = '비정상'"
      ],
      "metadata": {
        "id": "61cavRS3oJ5B"
      },
      "execution_count": 45,
      "outputs": []
    },
    {
      "cell_type": "markdown",
      "source": [
        "**AST/ALT 비율**"
      ],
      "metadata": {
        "id": "rjKS5jkYoPh7"
      }
    },
    {
      "cell_type": "code",
      "source": [
        "df['AST/ALT비율'] = df['(혈청지오티)AST']/df['(혈청지오티)ALT'] # AST/ALT비율"
      ],
      "metadata": {
        "id": "wH4FwN0foSG7"
      },
      "execution_count": 46,
      "outputs": []
    },
    {
      "cell_type": "markdown",
      "source": [
        "**감마지티피/ALT비율**"
      ],
      "metadata": {
        "id": "w0coBUHpVmis"
      }
    },
    {
      "cell_type": "code",
      "source": [
        "df['GTP/ALT비율'] = df['감마 지티피']/df['(혈청지오티)ALT']"
      ],
      "metadata": {
        "id": "yfTYlBZ2VjLT"
      },
      "execution_count": 47,
      "outputs": []
    },
    {
      "cell_type": "markdown",
      "source": [
        "**알코올성 간질환 여부**"
      ],
      "metadata": {
        "id": "20eFZVjZV7pr"
      }
    },
    {
      "cell_type": "code",
      "source": [
        "# AST/ALT비율 > 1\n",
        "# 감마지티피/ALT > 2.5\n",
        "# AST는 300을 넘지 않음\n",
        "# ALT는 종종 정상\n",
        "# AST/ALT비율이 2~3 이상인 경우 알코올성 간질환을 강하게 시사한다.\n",
        "\n",
        "cond1 = ((df['AST/ALT비율']>1)&(df['GTP/ALT비율']>2.5)&(df['(혈청지오티)AST']<=300))\n",
        "\n",
        "df.loc[cond1, '간 수치'] = '간 수치 높음'\n",
        "df.loc[~cond1, '간 수치'] = '정상'"
      ],
      "metadata": {
        "id": "SgAcHL55WBJU"
      },
      "execution_count": 48,
      "outputs": []
    },
    {
      "cell_type": "code",
      "source": [
        "import seaborn as sns\n",
        "ax = sns.lmplot(x=\"(혈청지오티)AST\",y=\"(혈청지오티)ALT\", data = df)"
      ],
      "metadata": {
        "id": "ndSndP3NOLF-",
        "colab": {
          "base_uri": "https://localhost:8080/",
          "height": 371
        },
        "outputId": "7d628fa5-ec90-4133-c287-8b8c9b4b48ec"
      },
      "execution_count": 49,
      "outputs": [
        {
          "output_type": "display_data",
          "data": {
            "text/plain": [
              "<Figure size 360x360 with 1 Axes>"
            ],
            "image/png": "[encoded data removed]"
          },
          "metadata": {
            "image/png": {
              "width": 353,
              "height": 354
            },
            "needs_background": "light"
          }
        }
      ]
    },
    {
      "cell_type": "code",
      "source": [
        "# scatterplot 으로 \"(혈청지오티)AST\", \"(혈청지오티)ALT\" 을 그리고 성별에 따라 다른 색상으로 표현되게 합니다.\n",
        "\n",
        "plt.figure(figsize=(8, 7))\n",
        "sns.scatterplot(data=df, x=\"(혈청지오티)AST\", y=\"(혈청지오티)ALT\", hue=\"성별\", \n",
        "                size=\"나이\")"
      ],
      "metadata": {
        "colab": {
          "base_uri": "https://localhost:8080/",
          "height": 462
        },
        "id": "gFIvppBhON8S",
        "outputId": "9e72b08a-3114-4fbb-8467-4c9de9841929"
      },
      "execution_count": 50,
      "outputs": [
        {
          "output_type": "execute_result",
          "data": {
            "text/plain": [
              "<matplotlib.axes._subplots.AxesSubplot at 0x7f2258b9e590>"
            ]
          },
          "metadata": {},
          "execution_count": 50
        },
        {
          "output_type": "display_data",
          "data": {
            "text/plain": [
              "<Figure size 576x504 with 1 Axes>"
            ],
            "image/png": "[encoded data removed]"
          },
          "metadata": {
            "image/png": {
              "width": 506,
              "height": 427
            },
            "needs_background": "light"
          }
        }
      ]
    },
    {
      "cell_type": "markdown",
      "source": [
        "### 이상치 다루기 - AST, ALT에 관해서 이상치 처리 필요"
      ],
      "metadata": {
        "id": "EqrAnl4U-k9o"
      }
    },
    {
      "cell_type": "code",
      "source": [
        "# \"(혈청지오티)AST\" 와 \"(혈청지오티)ALT\" 가 400 이하인 값만 데이터프레임 형태로 추출해서 \n",
        "# df_ASLT 라는 변수에 담습니다.\n",
        "df_ASLT = df[(df[\"(혈청지오티)AST\"] < 400) & (df[\"(혈청지오티)ALT\"] < 400)]"
      ],
      "metadata": {
        "id": "JhEBzyFt-nUZ"
      },
      "execution_count": 51,
      "outputs": []
    },
    {
      "cell_type": "code",
      "source": [
        "# 이상치를 제거한 \"(혈청지오티)AST\" 와 \"(혈청지오티)ALT\" 를 lmplot으로 그리며 \n",
        "# 음주여부에 따라 다른 색으로 표현합니다.\n",
        "\n",
        "sns.lmplot(data=df_ASLT,  x=\"(혈청지오티)AST\", y=\"(혈청지오티)ALT\", hue=\"성별\", ci=None)"
      ],
      "metadata": {
        "id": "PSL7VRVc-pSE",
        "colab": {
          "base_uri": "https://localhost:8080/",
          "height": 389
        },
        "outputId": "c6c30955-3a2a-4641-f97f-73929708f961"
      },
      "execution_count": 52,
      "outputs": [
        {
          "output_type": "execute_result",
          "data": {
            "text/plain": [
              "<seaborn.axisgrid.FacetGrid at 0x7f22534dd290>"
            ]
          },
          "metadata": {},
          "execution_count": 52
        },
        {
          "output_type": "display_data",
          "data": {
            "text/plain": [
              "<Figure size 401.875x360 with 1 Axes>"
            ],
            "image/png": "[encoded data removed]"
          },
          "metadata": {
            "image/png": {
              "width": 395,
              "height": 354
            },
            "needs_background": "light"
          }
        }
      ]
    },
    {
      "cell_type": "code",
      "source": [
        "# \"(혈청지오티)AST\" 와 \"(혈청지오티)ALT\" 가 400 이상인 값만 데이터프레임 형태로 추출해서 \n",
        "# df_ASLT_high 라는 변수에 담습니다.\n",
        "\n",
        "df_ASLT_high = df[(df[\"(혈청지오티)AST\"] > 400) |\n",
        "                         (df[\"(혈청지오티)ALT\"] > 400)]"
      ],
      "metadata": {
        "id": "pcy02ew1-u67"
      },
      "execution_count": 53,
      "outputs": []
    },
    {
      "cell_type": "code",
      "source": [
        "# 위에서 구한 df_ASLT_high 데이터 프레임에 담겨진 혈청지오티가 높은 데이터만 따로 봅니다.\n",
        "\n",
        "sns.lmplot(data=df_ASLT_high,  x=\"(혈청지오티)AST\", y=\"(혈청지오티)ALT\", hue=\"음주여부\", ci=None)"
      ],
      "metadata": {
        "id": "B_KJziTx-vrx",
        "colab": {
          "base_uri": "https://localhost:8080/",
          "height": 389
        },
        "outputId": "9f818bbf-96bc-482e-e46e-0b75e631b30a"
      },
      "execution_count": 54,
      "outputs": [
        {
          "output_type": "execute_result",
          "data": {
            "text/plain": [
              "<seaborn.axisgrid.FacetGrid at 0x7f22535c7150>"
            ]
          },
          "metadata": {},
          "execution_count": 54
        },
        {
          "output_type": "display_data",
          "data": {
            "text/plain": [
              "<Figure size 410.75x360 with 1 Axes>"
            ],
            "image/png": "[encoded data removed]"
          },
          "metadata": {
            "image/png": {
              "width": 402,
              "height": 354
            },
            "needs_background": "light"
          }
        }
      ]
    },
    {
      "cell_type": "code",
      "source": [
        "df_ASLT_high_8000 = df_ASLT_high[df_ASLT_high[\"(혈청지오티)AST\"] > 8000]\n",
        "df_ASLT_high_8000.iloc[:, 10:21]"
      ],
      "metadata": {
        "id": "_x61OPoN-w29",
        "colab": {
          "base_uri": "https://localhost:8080/",
          "height": 156
        },
        "outputId": "b6f2acd2-bd0d-43f7-ea81-6b3e45adbbde"
      },
      "execution_count": 55,
      "outputs": [
        {
          "output_type": "execute_result",
          "data": {
            "text/plain": [
              "         빈혈여부   당뇨여부 ALT구분 AST구분    AST/ALT비율  GTP/ALT비율 간 수치\n",
              "113014  빈혈 아님     당뇨    정상   비정상  1452.000000  11.833333   정상\n",
              "310369  빈혈 아님  당뇨 없음   비정상   비정상     1.380634   0.059265   정상"
            ],
            "text/html": [
              "\n",
              "  <div id=\"df-74f234f0-6978-494e-ab2f-a82624f208ca\">\n",
              "    <div class=\"colab-df-container\">\n",
              "      <div>\n",
              "<style scoped>\n",
              "    .dataframe tbody tr th:only-of-type {\n",
              "        vertical-align: middle;\n",
              "    }\n",
              "\n",
              "    .dataframe tbody tr th {\n",
              "        vertical-align: top;\n",
              "    }\n",
              "\n",
              "    .dataframe thead th {\n",
              "        text-align: right;\n",
              "    }\n",
              "</style>\n",
              "<table border=\"1\" class=\"dataframe\">\n",
              "  <thead>\n",
              "    <tr style=\"text-align: right;\">\n",
              "      <th></th>\n",
              "      <th>빈혈여부</th>\n",
              "      <th>당뇨여부</th>\n",
              "      <th>ALT구분</th>\n",
              "      <th>AST구분</th>\n",
              "      <th>AST/ALT비율</th>\n",
              "      <th>GTP/ALT비율</th>\n",
              "      <th>간 수치</th>\n",
              "    </tr>\n",
              "  </thead>\n",
              "  <tbody>\n",
              "    <tr>\n",
              "      <th>113014</th>\n",
              "      <td>빈혈 아님</td>\n",
              "      <td>당뇨</td>\n",
              "      <td>정상</td>\n",
              "      <td>비정상</td>\n",
              "      <td>1452.000000</td>\n",
              "      <td>11.833333</td>\n",
              "      <td>정상</td>\n",
              "    </tr>\n",
              "    <tr>\n",
              "      <th>310369</th>\n",
              "      <td>빈혈 아님</td>\n",
              "      <td>당뇨 없음</td>\n",
              "      <td>비정상</td>\n",
              "      <td>비정상</td>\n",
              "      <td>1.380634</td>\n",
              "      <td>0.059265</td>\n",
              "      <td>정상</td>\n",
              "    </tr>\n",
              "  </tbody>\n",
              "</table>\n",
              "</div>\n",
              "      <button class=\"colab-df-convert\" onclick=\"convertToInteractive('df-74f234f0-6978-494e-ab2f-a82624f208ca')\"\n",
              "              title=\"Convert this dataframe to an interactive table.\"\n",
              "              style=\"display:none;\">\n",
              "        \n",
              "  <svg xmlns=\"http://www.w3.org/2000/svg\" height=\"24px\"viewBox=\"0 0 24 24\"\n",
              "       width=\"24px\">\n",
              "    <path d=\"M0 0h24v24H0V0z\" fill=\"none\"/>\n",
              "    <path d=\"M18.56 5.44l.94 2.06.94-2.06 2.06-.94-2.06-.94-.94-2.06-.94 2.06-2.06.94zm-11 1L8.5 8.5l.94-2.06 2.06-.94-2.06-.94L8.5 2.5l-.94 2.06-2.06.94zm10 10l.94 2.06.94-2.06 2.06-.94-2.06-.94-.94-2.06-.94 2.06-2.06.94z\"/><path d=\"M17.41 7.96l-1.37-1.37c-.4-.4-.92-.59-1.43-.59-.52 0-1.04.2-1.43.59L10.3 9.45l-7.72 7.72c-.78.78-.78 2.05 0 2.83L4 21.41c.39.39.9.59 1.41.59.51 0 1.02-.2 1.41-.59l7.78-7.78 2.81-2.81c.8-.78.8-2.07 0-2.86zM5.41 20L4 18.59l7.72-7.72 1.47 1.35L5.41 20z\"/>\n",
              "  </svg>\n",
              "      </button>\n",
              "      \n",
              "  <style>\n",
              "    .colab-df-container {\n",
              "      display:flex;\n",
              "      flex-wrap:wrap;\n",
              "      gap: 12px;\n",
              "    }\n",
              "\n",
              "    .colab-df-convert {\n",
              "      background-color: #E8F0FE;\n",
              "      border: none;\n",
              "      border-radius: 50%;\n",
              "      cursor: pointer;\n",
              "      display: none;\n",
              "      fill: #1967D2;\n",
              "      height: 32px;\n",
              "      padding: 0 0 0 0;\n",
              "      width: 32px;\n",
              "    }\n",
              "\n",
              "    .colab-df-convert:hover {\n",
              "      background-color: #E2EBFA;\n",
              "      box-shadow: 0px 1px 2px rgba(60, 64, 67, 0.3), 0px 1px 3px 1px rgba(60, 64, 67, 0.15);\n",
              "      fill: #174EA6;\n",
              "    }\n",
              "\n",
              "    [theme=dark] .colab-df-convert {\n",
              "      background-color: #3B4455;\n",
              "      fill: #D2E3FC;\n",
              "    }\n",
              "\n",
              "    [theme=dark] .colab-df-convert:hover {\n",
              "      background-color: #434B5C;\n",
              "      box-shadow: 0px 1px 3px 1px rgba(0, 0, 0, 0.15);\n",
              "      filter: drop-shadow(0px 1px 2px rgba(0, 0, 0, 0.3));\n",
              "      fill: #FFFFFF;\n",
              "    }\n",
              "  </style>\n",
              "\n",
              "      <script>\n",
              "        const buttonEl =\n",
              "          document.querySelector('#df-74f234f0-6978-494e-ab2f-a82624f208ca button.colab-df-convert');\n",
              "        buttonEl.style.display =\n",
              "          google.colab.kernel.accessAllowed ? 'block' : 'none';\n",
              "\n",
              "        async function convertToInteractive(key) {\n",
              "          const element = document.querySelector('#df-74f234f0-6978-494e-ab2f-a82624f208ca');\n",
              "          const dataTable =\n",
              "            await google.colab.kernel.invokeFunction('convertToInteractive',\n",
              "                                                     [key], {});\n",
              "          if (!dataTable) return;\n",
              "\n",
              "          const docLinkHtml = 'Like what you see? Visit the ' +\n",
              "            '<a target=\"_blank\" href=https://colab.research.google.com/notebooks/data_table.ipynb>data table notebook</a>'\n",
              "            + ' to learn more about interactive tables.';\n",
              "          element.innerHTML = '';\n",
              "          dataTable['output_type'] = 'display_data';\n",
              "          await google.colab.output.renderOutput(dataTable, element);\n",
              "          const docLink = document.createElement('div');\n",
              "          docLink.innerHTML = docLinkHtml;\n",
              "          element.appendChild(docLink);\n",
              "        }\n",
              "      </script>\n",
              "    </div>\n",
              "  </div>\n",
              "  "
            ]
          },
          "metadata": {},
          "execution_count": 55
        }
      ]
    },
    {
      "cell_type": "code",
      "source": [
        "# 수치형 데이터로 된 컬럼을 찾기 위해 컬럼명만 따로 출력합니다.\n",
        "\n",
        "df.columns"
      ],
      "metadata": {
        "id": "k3E0wooK-9gY",
        "colab": {
          "base_uri": "https://localhost:8080/"
        },
        "outputId": "5229a791-227a-4860-e201-ed5243e81397"
      },
      "execution_count": 56,
      "outputs": [
        {
          "output_type": "execute_result",
          "data": {
            "text/plain": [
              "Index(['식전혈당(공복혈당)', '혈색소', '(혈청지오티)AST', '(혈청지오티)ALT', '감마 지티피', '음주여부', '성별',\n",
              "       'bmi', '나이', '비만여부', '빈혈여부', '당뇨여부', 'ALT구분', 'AST구분', 'AST/ALT비율',\n",
              "       'GTP/ALT비율', '간 수치'],\n",
              "      dtype='object')"
            ]
          },
          "metadata": {},
          "execution_count": 56
        }
      ]
    },
    {
      "cell_type": "code",
      "source": [
        "(df['AST구분']=='정상').sum()"
      ],
      "metadata": {
        "colab": {
          "base_uri": "https://localhost:8080/"
        },
        "id": "cIEqpYpOUGk2",
        "outputId": "e1076fa8-346d-40a9-dc8d-acdf58a83c61"
      },
      "execution_count": 57,
      "outputs": [
        {
          "output_type": "execute_result",
          "data": {
            "text/plain": [
              "896179"
            ]
          },
          "metadata": {},
          "execution_count": 57
        }
      ]
    },
    {
      "cell_type": "code",
      "source": [
        "(df['AST구분']=='비정상').sum()"
      ],
      "metadata": {
        "colab": {
          "base_uri": "https://localhost:8080/"
        },
        "id": "4OVQWljSUHkL",
        "outputId": "4a3e0223-1e5f-4ae7-fec4-3dc6eb32eb88"
      },
      "execution_count": 58,
      "outputs": [
        {
          "output_type": "execute_result",
          "data": {
            "text/plain": [
              "91153"
            ]
          },
          "metadata": {},
          "execution_count": 58
        }
      ]
    },
    {
      "cell_type": "code",
      "source": [
        "(df['ALT구분']=='정상').sum()"
      ],
      "metadata": {
        "colab": {
          "base_uri": "https://localhost:8080/"
        },
        "id": "bnpKn2ndUIeO",
        "outputId": "b09deb03-9463-4050-e22c-013dfa17a189"
      },
      "execution_count": 59,
      "outputs": [
        {
          "output_type": "execute_result",
          "data": {
            "text/plain": [
              "856167"
            ]
          },
          "metadata": {},
          "execution_count": 59
        }
      ]
    },
    {
      "cell_type": "code",
      "source": [
        "(df['ALT구분']=='비정상').sum()"
      ],
      "metadata": {
        "colab": {
          "base_uri": "https://localhost:8080/"
        },
        "id": "mU4e6wYRUJhZ",
        "outputId": "6eb21b1c-dc12-4b4c-9d30-306d6204fd88"
      },
      "execution_count": 60,
      "outputs": [
        {
          "output_type": "execute_result",
          "data": {
            "text/plain": [
              "131165"
            ]
          },
          "metadata": {},
          "execution_count": 60
        }
      ]
    },
    {
      "cell_type": "code",
      "source": [
        "((df['AST구분'] == '정상') ^ (df['ALT구분']== '정상')).sum()"
      ],
      "metadata": {
        "colab": {
          "base_uri": "https://localhost:8080/"
        },
        "id": "9Z6Qh6E2UKaM",
        "outputId": "3c5c6cb9-1c9f-4957-8131-f9e52d1d6df2"
      },
      "execution_count": 61,
      "outputs": [
        {
          "output_type": "execute_result",
          "data": {
            "text/plain": [
              "91984"
            ]
          },
          "metadata": {},
          "execution_count": 61
        }
      ]
    },
    {
      "cell_type": "code",
      "source": [
        "((df['AST구분'] == '정상') & (df['ALT구분']== '정상')).sum()"
      ],
      "metadata": {
        "colab": {
          "base_uri": "https://localhost:8080/"
        },
        "id": "98QRTXXuULUn",
        "outputId": "d2fdd312-8607-43ef-d36f-ad26d9c0695e"
      },
      "execution_count": 62,
      "outputs": [
        {
          "output_type": "execute_result",
          "data": {
            "text/plain": [
              "830181"
            ]
          },
          "metadata": {},
          "execution_count": 62
        }
      ]
    },
    {
      "cell_type": "code",
      "source": [
        "((df['AST구분'] == '비정상') & (df['ALT구분']== '비정상')).sum()"
      ],
      "metadata": {
        "colab": {
          "base_uri": "https://localhost:8080/"
        },
        "id": "b2htp1C7UL9k",
        "outputId": "847ba2bd-1bb4-4a4e-a8a9-4eb7707d3e09"
      },
      "execution_count": 63,
      "outputs": [
        {
          "output_type": "execute_result",
          "data": {
            "text/plain": [
              "65167"
            ]
          },
          "metadata": {},
          "execution_count": 63
        }
      ]
    },
    {
      "cell_type": "code",
      "source": [
        "df.tail()"
      ],
      "metadata": {
        "colab": {
          "base_uri": "https://localhost:8080/",
          "height": 565
        },
        "id": "B54C9SrIIjXy",
        "outputId": "053b0c74-9f27-4969-fedf-9d81fecf6314"
      },
      "execution_count": 64,
      "outputs": [
        {
          "output_type": "execute_result",
          "data": {
            "text/plain": [
              "        식전혈당(공복혈당)   혈색소  (혈청지오티)AST  (혈청지오티)ALT  감마 지티피  음주여부 성별   bmi  나이  \\\n",
              "999995       124.0  13.6        21.0        25.0    18.0   0.0  1  26.2  60   \n",
              "999996        98.0  14.0        21.0        14.0    19.0   1.0  1  21.5  50   \n",
              "999997        83.0  16.0        26.0        20.0    17.0   1.0  0  22.9  40   \n",
              "999998       111.0  11.9        25.0        29.0    13.0   0.0  1  27.3  40   \n",
              "999999       121.0  14.9        17.0        13.0    24.0   0.0  0  21.5  50   \n",
              "\n",
              "       비만여부   빈혈여부   당뇨여부 ALT구분 AST구분  AST/ALT비율  GTP/ALT비율 간 수치  \n",
              "999995   비만  빈혈 아님     당뇨    정상    정상   0.840000   0.720000   정상  \n",
              "999996   정상  빈혈 아님  당뇨 없음    정상    정상   1.500000   1.357143   정상  \n",
              "999997   정상  빈혈 아님  당뇨 없음    정상    정상   1.300000   0.850000   정상  \n",
              "999998   비만     빈혈     당뇨    정상    정상   0.862069   0.448276   정상  \n",
              "999999   정상  빈혈 아님     당뇨    정상    정상   1.307692   1.846154   정상  "
            ],
            "text/html": [
              "\n",
              "  <div id=\"df-9677368b-c238-44d0-a8fb-640f1d14d5bc\">\n",
              "    <div class=\"colab-df-container\">\n",
              "      <div>\n",
              "<style scoped>\n",
              "    .dataframe tbody tr th:only-of-type {\n",
              "        vertical-align: middle;\n",
              "    }\n",
              "\n",
              "    .dataframe tbody tr th {\n",
              "        vertical-align: top;\n",
              "    }\n",
              "\n",
              "    .dataframe thead th {\n",
              "        text-align: right;\n",
              "    }\n",
              "</style>\n",
              "<table border=\"1\" class=\"dataframe\">\n",
              "  <thead>\n",
              "    <tr style=\"text-align: right;\">\n",
              "      <th></th>\n",
              "      <th>식전혈당(공복혈당)</th>\n",
              "      <th>혈색소</th>\n",
              "      <th>(혈청지오티)AST</th>\n",
              "      <th>(혈청지오티)ALT</th>\n",
              "      <th>감마 지티피</th>\n",
              "      <th>음주여부</th>\n",
              "      <th>성별</th>\n",
              "      <th>bmi</th>\n",
              "      <th>나이</th>\n",
              "      <th>비만여부</th>\n",
              "      <th>빈혈여부</th>\n",
              "      <th>당뇨여부</th>\n",
              "      <th>ALT구분</th>\n",
              "      <th>AST구분</th>\n",
              "      <th>AST/ALT비율</th>\n",
              "      <th>GTP/ALT비율</th>\n",
              "      <th>간 수치</th>\n",
              "    </tr>\n",
              "  </thead>\n",
              "  <tbody>\n",
              "    <tr>\n",
              "      <th>999995</th>\n",
              "      <td>124.0</td>\n",
              "      <td>13.6</td>\n",
              "      <td>21.0</td>\n",
              "      <td>25.0</td>\n",
              "      <td>18.0</td>\n",
              "      <td>0.0</td>\n",
              "      <td>1</td>\n",
              "      <td>26.2</td>\n",
              "      <td>60</td>\n",
              "      <td>비만</td>\n",
              "      <td>빈혈 아님</td>\n",
              "      <td>당뇨</td>\n",
              "      <td>정상</td>\n",
              "      <td>정상</td>\n",
              "      <td>0.840000</td>\n",
              "      <td>0.720000</td>\n",
              "      <td>정상</td>\n",
              "    </tr>\n",
              "    <tr>\n",
              "      <th>999996</th>\n",
              "      <td>98.0</td>\n",
              "      <td>14.0</td>\n",
              "      <td>21.0</td>\n",
              "      <td>14.0</td>\n",
              "      <td>19.0</td>\n",
              "      <td>1.0</td>\n",
              "      <td>1</td>\n",
              "      <td>21.5</td>\n",
              "      <td>50</td>\n",
              "      <td>정상</td>\n",
              "      <td>빈혈 아님</td>\n",
              "      <td>당뇨 없음</td>\n",
              "      <td>정상</td>\n",
              "      <td>정상</td>\n",
              "      <td>1.500000</td>\n",
              "      <td>1.357143</td>\n",
              "      <td>정상</td>\n",
              "    </tr>\n",
              "    <tr>\n",
              "      <th>999997</th>\n",
              "      <td>83.0</td>\n",
              "      <td>16.0</td>\n",
              "      <td>26.0</td>\n",
              "      <td>20.0</td>\n",
              "      <td>17.0</td>\n",
              "      <td>1.0</td>\n",
              "      <td>0</td>\n",
              "      <td>22.9</td>\n",
              "      <td>40</td>\n",
              "      <td>정상</td>\n",
              "      <td>빈혈 아님</td>\n",
              "      <td>당뇨 없음</td>\n",
              "      <td>정상</td>\n",
              "      <td>정상</td>\n",
              "      <td>1.300000</td>\n",
              "      <td>0.850000</td>\n",
              "      <td>정상</td>\n",
              "    </tr>\n",
              "    <tr>\n",
              "      <th>999998</th>\n",
              "      <td>111.0</td>\n",
              "      <td>11.9</td>\n",
              "      <td>25.0</td>\n",
              "      <td>29.0</td>\n",
              "      <td>13.0</td>\n",
              "      <td>0.0</td>\n",
              "      <td>1</td>\n",
              "      <td>27.3</td>\n",
              "      <td>40</td>\n",
              "      <td>비만</td>\n",
              "      <td>빈혈</td>\n",
              "      <td>당뇨</td>\n",
              "      <td>정상</td>\n",
              "      <td>정상</td>\n",
              "      <td>0.862069</td>\n",
              "      <td>0.448276</td>\n",
              "      <td>정상</td>\n",
              "    </tr>\n",
              "    <tr>\n",
              "      <th>999999</th>\n",
              "      <td>121.0</td>\n",
              "      <td>14.9</td>\n",
              "      <td>17.0</td>\n",
              "      <td>13.0</td>\n",
              "      <td>24.0</td>\n",
              "      <td>0.0</td>\n",
              "      <td>0</td>\n",
              "      <td>21.5</td>\n",
              "      <td>50</td>\n",
              "      <td>정상</td>\n",
              "      <td>빈혈 아님</td>\n",
              "      <td>당뇨</td>\n",
              "      <td>정상</td>\n",
              "      <td>정상</td>\n",
              "      <td>1.307692</td>\n",
              "      <td>1.846154</td>\n",
              "      <td>정상</td>\n",
              "    </tr>\n",
              "  </tbody>\n",
              "</table>\n",
              "</div>\n",
              "      <button class=\"colab-df-convert\" onclick=\"convertToInteractive('df-9677368b-c238-44d0-a8fb-640f1d14d5bc')\"\n",
              "              title=\"Convert this dataframe to an interactive table.\"\n",
              "              style=\"display:none;\">\n",
              "        \n",
              "  <svg xmlns=\"http://www.w3.org/2000/svg\" height=\"24px\"viewBox=\"0 0 24 24\"\n",
              "       width=\"24px\">\n",
              "    <path d=\"M0 0h24v24H0V0z\" fill=\"none\"/>\n",
              "    <path d=\"M18.56 5.44l.94 2.06.94-2.06 2.06-.94-2.06-.94-.94-2.06-.94 2.06-2.06.94zm-11 1L8.5 8.5l.94-2.06 2.06-.94-2.06-.94L8.5 2.5l-.94 2.06-2.06.94zm10 10l.94 2.06.94-2.06 2.06-.94-2.06-.94-.94-2.06-.94 2.06-2.06.94z\"/><path d=\"M17.41 7.96l-1.37-1.37c-.4-.4-.92-.59-1.43-.59-.52 0-1.04.2-1.43.59L10.3 9.45l-7.72 7.72c-.78.78-.78 2.05 0 2.83L4 21.41c.39.39.9.59 1.41.59.51 0 1.02-.2 1.41-.59l7.78-7.78 2.81-2.81c.8-.78.8-2.07 0-2.86zM5.41 20L4 18.59l7.72-7.72 1.47 1.35L5.41 20z\"/>\n",
              "  </svg>\n",
              "      </button>\n",
              "      \n",
              "  <style>\n",
              "    .colab-df-container {\n",
              "      display:flex;\n",
              "      flex-wrap:wrap;\n",
              "      gap: 12px;\n",
              "    }\n",
              "\n",
              "    .colab-df-convert {\n",
              "      background-color: #E8F0FE;\n",
              "      border: none;\n",
              "      border-radius: 50%;\n",
              "      cursor: pointer;\n",
              "      display: none;\n",
              "      fill: #1967D2;\n",
              "      height: 32px;\n",
              "      padding: 0 0 0 0;\n",
              "      width: 32px;\n",
              "    }\n",
              "\n",
              "    .colab-df-convert:hover {\n",
              "      background-color: #E2EBFA;\n",
              "      box-shadow: 0px 1px 2px rgba(60, 64, 67, 0.3), 0px 1px 3px 1px rgba(60, 64, 67, 0.15);\n",
              "      fill: #174EA6;\n",
              "    }\n",
              "\n",
              "    [theme=dark] .colab-df-convert {\n",
              "      background-color: #3B4455;\n",
              "      fill: #D2E3FC;\n",
              "    }\n",
              "\n",
              "    [theme=dark] .colab-df-convert:hover {\n",
              "      background-color: #434B5C;\n",
              "      box-shadow: 0px 1px 3px 1px rgba(0, 0, 0, 0.15);\n",
              "      filter: drop-shadow(0px 1px 2px rgba(0, 0, 0, 0.3));\n",
              "      fill: #FFFFFF;\n",
              "    }\n",
              "  </style>\n",
              "\n",
              "      <script>\n",
              "        const buttonEl =\n",
              "          document.querySelector('#df-9677368b-c238-44d0-a8fb-640f1d14d5bc button.colab-df-convert');\n",
              "        buttonEl.style.display =\n",
              "          google.colab.kernel.accessAllowed ? 'block' : 'none';\n",
              "\n",
              "        async function convertToInteractive(key) {\n",
              "          const element = document.querySelector('#df-9677368b-c238-44d0-a8fb-640f1d14d5bc');\n",
              "          const dataTable =\n",
              "            await google.colab.kernel.invokeFunction('convertToInteractive',\n",
              "                                                     [key], {});\n",
              "          if (!dataTable) return;\n",
              "\n",
              "          const docLinkHtml = 'Like what you see? Visit the ' +\n",
              "            '<a target=\"_blank\" href=https://colab.research.google.com/notebooks/data_table.ipynb>data table notebook</a>'\n",
              "            + ' to learn more about interactive tables.';\n",
              "          element.innerHTML = '';\n",
              "          dataTable['output_type'] = 'display_data';\n",
              "          await google.colab.output.renderOutput(dataTable, element);\n",
              "          const docLink = document.createElement('div');\n",
              "          docLink.innerHTML = docLinkHtml;\n",
              "          element.appendChild(docLink);\n",
              "        }\n",
              "      </script>\n",
              "    </div>\n",
              "  </div>\n",
              "  "
            ]
          },
          "metadata": {},
          "execution_count": 64
        }
      ]
    },
    {
      "cell_type": "code",
      "source": [
        "# df.drop(['(혈청지오티)AST','(혈청지오티)ALT','감마 지티피','음주여부','ALT구분','AST구분','GTP/ALT비율'], axis=1, inplace=True)\n",
        "# df.head()"
      ],
      "metadata": {
        "id": "7ncoNnxK-bo8"
      },
      "execution_count": 65,
      "outputs": []
    },
    {
      "cell_type": "markdown",
      "source": [
        "---"
      ],
      "metadata": {
        "id": "bBssVmopirg4"
      }
    },
    {
      "cell_type": "code",
      "source": [
        "df = df[['성별','나이','bmi','비만여부','혈색소','빈혈여부','식전혈당(공복혈당)','당뇨여부','(혈청지오티)AST','AST구분','(혈청지오티)ALT','ALT구분','AST/ALT비율','감마 지티피','GTP/ALT비율','음주여부','간 수치']]\n",
        "df"
      ],
      "metadata": {
        "colab": {
          "base_uri": "https://localhost:8080/",
          "height": 974
        },
        "id": "S5z9iqc9kiTl",
        "outputId": "5bcda32a-138e-43f6-aad6-af4a13e4b6f7"
      },
      "execution_count": 67,
      "outputs": [
        {
          "output_type": "execute_result",
          "data": {
            "text/plain": [
              "       성별  나이   bmi 비만여부   혈색소   빈혈여부  식전혈당(공복혈당)   당뇨여부  (혈청지오티)AST AST구분  \\\n",
              "0       0  40  22.0   정상  15.0  빈혈 아님        90.0  당뇨 없음        21.0    정상   \n",
              "1       1  60  28.9   비만  12.7     빈혈        87.0  당뇨 없음        18.0    정상   \n",
              "2       1  50  22.9   정상  12.8     빈혈       102.0     당뇨        27.0    정상   \n",
              "3       0  60  27.3   비만  16.4  빈혈 아님       146.0     당뇨        65.0   비정상   \n",
              "4       1  50  20.8   정상  12.4     빈혈       110.0     당뇨        18.0    정상   \n",
              "...    ..  ..   ...  ...   ...    ...         ...    ...         ...   ...   \n",
              "999995  1  60  26.2   비만  13.6  빈혈 아님       124.0     당뇨        21.0    정상   \n",
              "999996  1  50  21.5   정상  14.0  빈혈 아님        98.0  당뇨 없음        21.0    정상   \n",
              "999997  0  40  22.9   정상  16.0  빈혈 아님        83.0  당뇨 없음        26.0    정상   \n",
              "999998  1  40  27.3   비만  11.9     빈혈       111.0     당뇨        25.0    정상   \n",
              "999999  0  50  21.5   정상  14.9  빈혈 아님       121.0     당뇨        17.0    정상   \n",
              "\n",
              "        (혈청지오티)ALT ALT구분  AST/ALT비율  감마 지티피  GTP/ALT비율  음주여부 간 수치  \n",
              "0             27.0    정상   0.777778    21.0   0.777778   0.0   정상  \n",
              "1             15.0    정상   1.200000    15.0   1.000000   0.0   정상  \n",
              "2             25.0    정상   1.080000     7.0   0.280000   0.0   정상  \n",
              "3             97.0   비정상   0.670103    72.0   0.742268   0.0   정상  \n",
              "4             17.0    정상   1.058824    14.0   0.823529   0.0   정상  \n",
              "...            ...   ...        ...     ...        ...   ...  ...  \n",
              "999995        25.0    정상   0.840000    18.0   0.720000   0.0   정상  \n",
              "999996        14.0    정상   1.500000    19.0   1.357143   1.0   정상  \n",
              "999997        20.0    정상   1.300000    17.0   0.850000   1.0   정상  \n",
              "999998        29.0    정상   0.862069    13.0   0.448276   0.0   정상  \n",
              "999999        13.0    정상   1.307692    24.0   1.846154   0.0   정상  \n",
              "\n",
              "[987332 rows x 17 columns]"
            ],
            "text/html": [
              "\n",
              "  <div id=\"df-11c9dae7-bb3e-40f9-a127-6eeb7608df8f\">\n",
              "    <div class=\"colab-df-container\">\n",
              "      <div>\n",
              "<style scoped>\n",
              "    .dataframe tbody tr th:only-of-type {\n",
              "        vertical-align: middle;\n",
              "    }\n",
              "\n",
              "    .dataframe tbody tr th {\n",
              "        vertical-align: top;\n",
              "    }\n",
              "\n",
              "    .dataframe thead th {\n",
              "        text-align: right;\n",
              "    }\n",
              "</style>\n",
              "<table border=\"1\" class=\"dataframe\">\n",
              "  <thead>\n",
              "    <tr style=\"text-align: right;\">\n",
              "      <th></th>\n",
              "      <th>성별</th>\n",
              "      <th>나이</th>\n",
              "      <th>bmi</th>\n",
              "      <th>비만여부</th>\n",
              "      <th>혈색소</th>\n",
              "      <th>빈혈여부</th>\n",
              "      <th>식전혈당(공복혈당)</th>\n",
              "      <th>당뇨여부</th>\n",
              "      <th>(혈청지오티)AST</th>\n",
              "      <th>AST구분</th>\n",
              "      <th>(혈청지오티)ALT</th>\n",
              "      <th>ALT구분</th>\n",
              "      <th>AST/ALT비율</th>\n",
              "      <th>감마 지티피</th>\n",
              "      <th>GTP/ALT비율</th>\n",
              "      <th>음주여부</th>\n",
              "      <th>간 수치</th>\n",
              "    </tr>\n",
              "  </thead>\n",
              "  <tbody>\n",
              "    <tr>\n",
              "      <th>0</th>\n",
              "      <td>0</td>\n",
              "      <td>40</td>\n",
              "      <td>22.0</td>\n",
              "      <td>정상</td>\n",
              "      <td>15.0</td>\n",
              "      <td>빈혈 아님</td>\n",
              "      <td>90.0</td>\n",
              "      <td>당뇨 없음</td>\n",
              "      <td>21.0</td>\n",
              "      <td>정상</td>\n",
              "      <td>27.0</td>\n",
              "      <td>정상</td>\n",
              "      <td>0.777778</td>\n",
              "      <td>21.0</td>\n",
              "      <td>0.777778</td>\n",
              "      <td>0.0</td>\n",
              "      <td>정상</td>\n",
              "    </tr>\n",
              "    <tr>\n",
              "      <th>1</th>\n",
              "      <td>1</td>\n",
              "      <td>60</td>\n",
              "      <td>28.9</td>\n",
              "      <td>비만</td>\n",
              "      <td>12.7</td>\n",
              "      <td>빈혈</td>\n",
              "      <td>87.0</td>\n",
              "      <td>당뇨 없음</td>\n",
              "      <td>18.0</td>\n",
              "      <td>정상</td>\n",
              "      <td>15.0</td>\n",
              "      <td>정상</td>\n",
              "      <td>1.200000</td>\n",
              "      <td>15.0</td>\n",
              "      <td>1.000000</td>\n",
              "      <td>0.0</td>\n",
              "      <td>정상</td>\n",
              "    </tr>\n",
              "    <tr>\n",
              "      <th>2</th>\n",
              "      <td>1</td>\n",
              "      <td>50</td>\n",
              "      <td>22.9</td>\n",
              "      <td>정상</td>\n",
              "      <td>12.8</td>\n",
              "      <td>빈혈</td>\n",
              "      <td>102.0</td>\n",
              "      <td>당뇨</td>\n",
              "      <td>27.0</td>\n",
              "      <td>정상</td>\n",
              "      <td>25.0</td>\n",
              "      <td>정상</td>\n",
              "      <td>1.080000</td>\n",
              "      <td>7.0</td>\n",
              "      <td>0.280000</td>\n",
              "      <td>0.0</td>\n",
              "      <td>정상</td>\n",
              "    </tr>\n",
              "    <tr>\n",
              "      <th>3</th>\n",
              "      <td>0</td>\n",
              "      <td>60</td>\n",
              "      <td>27.3</td>\n",
              "      <td>비만</td>\n",
              "      <td>16.4</td>\n",
              "      <td>빈혈 아님</td>\n",
              "      <td>146.0</td>\n",
              "      <td>당뇨</td>\n",
              "      <td>65.0</td>\n",
              "      <td>비정상</td>\n",
              "      <td>97.0</td>\n",
              "      <td>비정상</td>\n",
              "      <td>0.670103</td>\n",
              "      <td>72.0</td>\n",
              "      <td>0.742268</td>\n",
              "      <td>0.0</td>\n",
              "      <td>정상</td>\n",
              "    </tr>\n",
              "    <tr>\n",
              "      <th>4</th>\n",
              "      <td>1</td>\n",
              "      <td>50</td>\n",
              "      <td>20.8</td>\n",
              "      <td>정상</td>\n",
              "      <td>12.4</td>\n",
              "      <td>빈혈</td>\n",
              "      <td>110.0</td>\n",
              "      <td>당뇨</td>\n",
              "      <td>18.0</td>\n",
              "      <td>정상</td>\n",
              "      <td>17.0</td>\n",
              "      <td>정상</td>\n",
              "      <td>1.058824</td>\n",
              "      <td>14.0</td>\n",
              "      <td>0.823529</td>\n",
              "      <td>0.0</td>\n",
              "      <td>정상</td>\n",
              "    </tr>\n",
              "    <tr>\n",
              "      <th>...</th>\n",
              "      <td>...</td>\n",
              "      <td>...</td>\n",
              "      <td>...</td>\n",
              "      <td>...</td>\n",
              "      <td>...</td>\n",
              "      <td>...</td>\n",
              "      <td>...</td>\n",
              "      <td>...</td>\n",
              "      <td>...</td>\n",
              "      <td>...</td>\n",
              "      <td>...</td>\n",
              "      <td>...</td>\n",
              "      <td>...</td>\n",
              "      <td>...</td>\n",
              "      <td>...</td>\n",
              "      <td>...</td>\n",
              "      <td>...</td>\n",
              "    </tr>\n",
              "    <tr>\n",
              "      <th>999995</th>\n",
              "      <td>1</td>\n",
              "      <td>60</td>\n",
              "      <td>26.2</td>\n",
              "      <td>비만</td>\n",
              "      <td>13.6</td>\n",
              "      <td>빈혈 아님</td>\n",
              "      <td>124.0</td>\n",
              "      <td>당뇨</td>\n",
              "      <td>21.0</td>\n",
              "      <td>정상</td>\n",
              "      <td>25.0</td>\n",
              "      <td>정상</td>\n",
              "      <td>0.840000</td>\n",
              "      <td>18.0</td>\n",
              "      <td>0.720000</td>\n",
              "      <td>0.0</td>\n",
              "      <td>정상</td>\n",
              "    </tr>\n",
              "    <tr>\n",
              "      <th>999996</th>\n",
              "      <td>1</td>\n",
              "      <td>50</td>\n",
              "      <td>21.5</td>\n",
              "      <td>정상</td>\n",
              "      <td>14.0</td>\n",
              "      <td>빈혈 아님</td>\n",
              "      <td>98.0</td>\n",
              "      <td>당뇨 없음</td>\n",
              "      <td>21.0</td>\n",
              "      <td>정상</td>\n",
              "      <td>14.0</td>\n",
              "      <td>정상</td>\n",
              "      <td>1.500000</td>\n",
              "      <td>19.0</td>\n",
              "      <td>1.357143</td>\n",
              "      <td>1.0</td>\n",
              "      <td>정상</td>\n",
              "    </tr>\n",
              "    <tr>\n",
              "      <th>999997</th>\n",
              "      <td>0</td>\n",
              "      <td>40</td>\n",
              "      <td>22.9</td>\n",
              "      <td>정상</td>\n",
              "      <td>16.0</td>\n",
              "      <td>빈혈 아님</td>\n",
              "      <td>83.0</td>\n",
              "      <td>당뇨 없음</td>\n",
              "      <td>26.0</td>\n",
              "      <td>정상</td>\n",
              "      <td>20.0</td>\n",
              "      <td>정상</td>\n",
              "      <td>1.300000</td>\n",
              "      <td>17.0</td>\n",
              "      <td>0.850000</td>\n",
              "      <td>1.0</td>\n",
              "      <td>정상</td>\n",
              "    </tr>\n",
              "    <tr>\n",
              "      <th>999998</th>\n",
              "      <td>1</td>\n",
              "      <td>40</td>\n",
              "      <td>27.3</td>\n",
              "      <td>비만</td>\n",
              "      <td>11.9</td>\n",
              "      <td>빈혈</td>\n",
              "      <td>111.0</td>\n",
              "      <td>당뇨</td>\n",
              "      <td>25.0</td>\n",
              "      <td>정상</td>\n",
              "      <td>29.0</td>\n",
              "      <td>정상</td>\n",
              "      <td>0.862069</td>\n",
              "      <td>13.0</td>\n",
              "      <td>0.448276</td>\n",
              "      <td>0.0</td>\n",
              "      <td>정상</td>\n",
              "    </tr>\n",
              "    <tr>\n",
              "      <th>999999</th>\n",
              "      <td>0</td>\n",
              "      <td>50</td>\n",
              "      <td>21.5</td>\n",
              "      <td>정상</td>\n",
              "      <td>14.9</td>\n",
              "      <td>빈혈 아님</td>\n",
              "      <td>121.0</td>\n",
              "      <td>당뇨</td>\n",
              "      <td>17.0</td>\n",
              "      <td>정상</td>\n",
              "      <td>13.0</td>\n",
              "      <td>정상</td>\n",
              "      <td>1.307692</td>\n",
              "      <td>24.0</td>\n",
              "      <td>1.846154</td>\n",
              "      <td>0.0</td>\n",
              "      <td>정상</td>\n",
              "    </tr>\n",
              "  </tbody>\n",
              "</table>\n",
              "<p>987332 rows × 17 columns</p>\n",
              "</div>\n",
              "      <button class=\"colab-df-convert\" onclick=\"convertToInteractive('df-11c9dae7-bb3e-40f9-a127-6eeb7608df8f')\"\n",
              "              title=\"Convert this dataframe to an interactive table.\"\n",
              "              style=\"display:none;\">\n",
              "        \n",
              "  <svg xmlns=\"http://www.w3.org/2000/svg\" height=\"24px\"viewBox=\"0 0 24 24\"\n",
              "       width=\"24px\">\n",
              "    <path d=\"M0 0h24v24H0V0z\" fill=\"none\"/>\n",
              "    <path d=\"M18.56 5.44l.94 2.06.94-2.06 2.06-.94-2.06-.94-.94-2.06-.94 2.06-2.06.94zm-11 1L8.5 8.5l.94-2.06 2.06-.94-2.06-.94L8.5 2.5l-.94 2.06-2.06.94zm10 10l.94 2.06.94-2.06 2.06-.94-2.06-.94-.94-2.06-.94 2.06-2.06.94z\"/><path d=\"M17.41 7.96l-1.37-1.37c-.4-.4-.92-.59-1.43-.59-.52 0-1.04.2-1.43.59L10.3 9.45l-7.72 7.72c-.78.78-.78 2.05 0 2.83L4 21.41c.39.39.9.59 1.41.59.51 0 1.02-.2 1.41-.59l7.78-7.78 2.81-2.81c.8-.78.8-2.07 0-2.86zM5.41 20L4 18.59l7.72-7.72 1.47 1.35L5.41 20z\"/>\n",
              "  </svg>\n",
              "      </button>\n",
              "      \n",
              "  <style>\n",
              "    .colab-df-container {\n",
              "      display:flex;\n",
              "      flex-wrap:wrap;\n",
              "      gap: 12px;\n",
              "    }\n",
              "\n",
              "    .colab-df-convert {\n",
              "      background-color: #E8F0FE;\n",
              "      border: none;\n",
              "      border-radius: 50%;\n",
              "      cursor: pointer;\n",
              "      display: none;\n",
              "      fill: #1967D2;\n",
              "      height: 32px;\n",
              "      padding: 0 0 0 0;\n",
              "      width: 32px;\n",
              "    }\n",
              "\n",
              "    .colab-df-convert:hover {\n",
              "      background-color: #E2EBFA;\n",
              "      box-shadow: 0px 1px 2px rgba(60, 64, 67, 0.3), 0px 1px 3px 1px rgba(60, 64, 67, 0.15);\n",
              "      fill: #174EA6;\n",
              "    }\n",
              "\n",
              "    [theme=dark] .colab-df-convert {\n",
              "      background-color: #3B4455;\n",
              "      fill: #D2E3FC;\n",
              "    }\n",
              "\n",
              "    [theme=dark] .colab-df-convert:hover {\n",
              "      background-color: #434B5C;\n",
              "      box-shadow: 0px 1px 3px 1px rgba(0, 0, 0, 0.15);\n",
              "      filter: drop-shadow(0px 1px 2px rgba(0, 0, 0, 0.3));\n",
              "      fill: #FFFFFF;\n",
              "    }\n",
              "  </style>\n",
              "\n",
              "      <script>\n",
              "        const buttonEl =\n",
              "          document.querySelector('#df-11c9dae7-bb3e-40f9-a127-6eeb7608df8f button.colab-df-convert');\n",
              "        buttonEl.style.display =\n",
              "          google.colab.kernel.accessAllowed ? 'block' : 'none';\n",
              "\n",
              "        async function convertToInteractive(key) {\n",
              "          const element = document.querySelector('#df-11c9dae7-bb3e-40f9-a127-6eeb7608df8f');\n",
              "          const dataTable =\n",
              "            await google.colab.kernel.invokeFunction('convertToInteractive',\n",
              "                                                     [key], {});\n",
              "          if (!dataTable) return;\n",
              "\n",
              "          const docLinkHtml = 'Like what you see? Visit the ' +\n",
              "            '<a target=\"_blank\" href=https://colab.research.google.com/notebooks/data_table.ipynb>data table notebook</a>'\n",
              "            + ' to learn more about interactive tables.';\n",
              "          element.innerHTML = '';\n",
              "          dataTable['output_type'] = 'display_data';\n",
              "          await google.colab.output.renderOutput(dataTable, element);\n",
              "          const docLink = document.createElement('div');\n",
              "          docLink.innerHTML = docLinkHtml;\n",
              "          element.appendChild(docLink);\n",
              "        }\n",
              "      </script>\n",
              "    </div>\n",
              "  </div>\n",
              "  "
            ]
          },
          "metadata": {},
          "execution_count": 67
        }
      ]
    },
    {
      "cell_type": "code",
      "source": [
        "df.to_csv('health_data.csv',index=False)"
      ],
      "metadata": {
        "id": "NfwaIuU3EXJO"
      },
      "execution_count": 69,
      "outputs": []
    },
    {
      "cell_type": "markdown",
      "source": [
        "---"
      ],
      "metadata": {
        "id": "qu4sSC0tmtSU"
      }
    },
    {
      "cell_type": "markdown",
      "source": [
        "### 성별 분류(남성/여성)"
      ],
      "metadata": {
        "id": "5RdAghN2ZHxN"
      }
    },
    {
      "cell_type": "code",
      "source": [
        "# # 성별로 분류(남성)\n",
        "# man = df[df[\"성별\"] == 0].reset_index(drop=True)\n",
        "# print(man.shape)\n",
        "# man.head()"
      ],
      "metadata": {
        "id": "ncBuz_eC9YN2"
      },
      "execution_count": null,
      "outputs": []
    },
    {
      "cell_type": "code",
      "source": [
        "# # 성별로 분류(여성)\n",
        "# woman = df[df[\"성별\"] == 1].reset_index(drop=True)\n",
        "# print(woman.shape)\n",
        "# woman.head()"
      ],
      "metadata": {
        "id": "rXWKiKtI9nQE"
      },
      "execution_count": null,
      "outputs": []
    }
  ]
}