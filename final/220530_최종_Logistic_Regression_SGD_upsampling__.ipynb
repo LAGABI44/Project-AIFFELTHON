{
  "nbformat": 4,
  "nbformat_minor": 0,
  "metadata": {
    "colab": {
      "name": "220530_Logistic_Regression_SGD_upsampling__.ipynb",
      "provenance": [],
      "collapsed_sections": [],
      "machine_shape": "hm"
    },
    "kernelspec": {
      "name": "python3",
      "display_name": "Python 3"
    },
    "language_info": {
      "name": "python"
    }
  },
  "cells": [
    {
      "cell_type": "code",
      "execution_count": 2,
      "metadata": {
        "id": "fs-ZWJnV6-7T"
      },
      "outputs": [],
      "source": [
        "%matplotlib inline\n",
        "import missingno as msno\n",
        "import numpy as np\n",
        "import pandas as pd\n",
        "import matplotlib.pyplot as plt\n",
        "import seaborn as sns\n",
        "from sklearn.model_selection import train_test_split\n",
        "from sklearn import metrics\n",
        "from sklearn.metrics import classification_report, confusion_matrix\n",
        "from sklearn.metrics import accuracy_score, precision_score, recall_score, roc_auc_score\n",
        "from sklearn.metrics import f1_score, confusion_matrix, precision_recall_curve, roc_curve"
      ]
    },
    {
      "cell_type": "code",
      "source": [
        "from google.colab import drive # gdrive 연동\n",
        "drive.mount('/content/drive')"
      ],
      "metadata": {
        "colab": {
          "base_uri": "https://localhost:8080/"
        },
        "id": "RhPzYd_g8QZk",
        "outputId": "8cce24ce-23e8-4994-cdc9-35fcf4d0e14c"
      },
      "execution_count": 3,
      "outputs": [
        {
          "output_type": "stream",
          "name": "stdout",
          "text": [
            "Drive already mounted at /content/drive; to attempt to forcibly remount, call drive.mount(\"/content/drive\", force_remount=True).\n"
          ]
        }
      ]
    },
    {
      "cell_type": "markdown",
      "source": [
        "## 100만개 데이터"
      ],
      "metadata": {
        "id": "uwoqX2qE_dJm"
      }
    },
    {
      "cell_type": "code",
      "source": [
        "# Disease \n",
        "\n",
        "df = pd.read_csv('/content/drive/MyDrive/Colab_Notebooks/aiffel_data/Hackerton_2/data_dis_vs_nor.csv', encoding='cp949') # upsampling 안된 것!\n",
        "df"
      ],
      "metadata": {
        "colab": {
          "base_uri": "https://localhost:8080/",
          "height": 424
        },
        "id": "1n0zEHLd8QSt",
        "outputId": "933d63c5-7d1e-476a-bdcd-f424dfa2c886"
      },
      "execution_count": 4,
      "outputs": [
        {
          "output_type": "execute_result",
          "data": {
            "text/plain": [
              "        SEX  BTH_G  SBP  DBP  FBS   BMI  Dis\n",
              "0         0      1  116   78   94  16.6    0\n",
              "1         0      1  100   60   79  22.3    0\n",
              "2         0      1  100   60   87  21.9    0\n",
              "3         0      1  111   70   72  20.2    0\n",
              "4         0      1  120   80   98  20.0    0\n",
              "...     ...    ...  ...  ...  ...   ...  ...\n",
              "999995    1     27  120   70   81  23.1    1\n",
              "999996    1     27  110   70  104  27.2    1\n",
              "999997    1     27  115   53  110  25.2    1\n",
              "999998    1     27  120   70   90  19.7    1\n",
              "999999    1     27  116   73   92  17.6    0\n",
              "\n",
              "[1000000 rows x 7 columns]"
            ],
            "text/html": [
              "\n",
              "  <div id=\"df-b6cd7e3e-e5c1-4356-80d0-d8c4fb8c1773\">\n",
              "    <div class=\"colab-df-container\">\n",
              "      <div>\n",
              "<style scoped>\n",
              "    .dataframe tbody tr th:only-of-type {\n",
              "        vertical-align: middle;\n",
              "    }\n",
              "\n",
              "    .dataframe tbody tr th {\n",
              "        vertical-align: top;\n",
              "    }\n",
              "\n",
              "    .dataframe thead th {\n",
              "        text-align: right;\n",
              "    }\n",
              "</style>\n",
              "<table border=\"1\" class=\"dataframe\">\n",
              "  <thead>\n",
              "    <tr style=\"text-align: right;\">\n",
              "      <th></th>\n",
              "      <th>SEX</th>\n",
              "      <th>BTH_G</th>\n",
              "      <th>SBP</th>\n",
              "      <th>DBP</th>\n",
              "      <th>FBS</th>\n",
              "      <th>BMI</th>\n",
              "      <th>Dis</th>\n",
              "    </tr>\n",
              "  </thead>\n",
              "  <tbody>\n",
              "    <tr>\n",
              "      <th>0</th>\n",
              "      <td>0</td>\n",
              "      <td>1</td>\n",
              "      <td>116</td>\n",
              "      <td>78</td>\n",
              "      <td>94</td>\n",
              "      <td>16.6</td>\n",
              "      <td>0</td>\n",
              "    </tr>\n",
              "    <tr>\n",
              "      <th>1</th>\n",
              "      <td>0</td>\n",
              "      <td>1</td>\n",
              "      <td>100</td>\n",
              "      <td>60</td>\n",
              "      <td>79</td>\n",
              "      <td>22.3</td>\n",
              "      <td>0</td>\n",
              "    </tr>\n",
              "    <tr>\n",
              "      <th>2</th>\n",
              "      <td>0</td>\n",
              "      <td>1</td>\n",
              "      <td>100</td>\n",
              "      <td>60</td>\n",
              "      <td>87</td>\n",
              "      <td>21.9</td>\n",
              "      <td>0</td>\n",
              "    </tr>\n",
              "    <tr>\n",
              "      <th>3</th>\n",
              "      <td>0</td>\n",
              "      <td>1</td>\n",
              "      <td>111</td>\n",
              "      <td>70</td>\n",
              "      <td>72</td>\n",
              "      <td>20.2</td>\n",
              "      <td>0</td>\n",
              "    </tr>\n",
              "    <tr>\n",
              "      <th>4</th>\n",
              "      <td>0</td>\n",
              "      <td>1</td>\n",
              "      <td>120</td>\n",
              "      <td>80</td>\n",
              "      <td>98</td>\n",
              "      <td>20.0</td>\n",
              "      <td>0</td>\n",
              "    </tr>\n",
              "    <tr>\n",
              "      <th>...</th>\n",
              "      <td>...</td>\n",
              "      <td>...</td>\n",
              "      <td>...</td>\n",
              "      <td>...</td>\n",
              "      <td>...</td>\n",
              "      <td>...</td>\n",
              "      <td>...</td>\n",
              "    </tr>\n",
              "    <tr>\n",
              "      <th>999995</th>\n",
              "      <td>1</td>\n",
              "      <td>27</td>\n",
              "      <td>120</td>\n",
              "      <td>70</td>\n",
              "      <td>81</td>\n",
              "      <td>23.1</td>\n",
              "      <td>1</td>\n",
              "    </tr>\n",
              "    <tr>\n",
              "      <th>999996</th>\n",
              "      <td>1</td>\n",
              "      <td>27</td>\n",
              "      <td>110</td>\n",
              "      <td>70</td>\n",
              "      <td>104</td>\n",
              "      <td>27.2</td>\n",
              "      <td>1</td>\n",
              "    </tr>\n",
              "    <tr>\n",
              "      <th>999997</th>\n",
              "      <td>1</td>\n",
              "      <td>27</td>\n",
              "      <td>115</td>\n",
              "      <td>53</td>\n",
              "      <td>110</td>\n",
              "      <td>25.2</td>\n",
              "      <td>1</td>\n",
              "    </tr>\n",
              "    <tr>\n",
              "      <th>999998</th>\n",
              "      <td>1</td>\n",
              "      <td>27</td>\n",
              "      <td>120</td>\n",
              "      <td>70</td>\n",
              "      <td>90</td>\n",
              "      <td>19.7</td>\n",
              "      <td>1</td>\n",
              "    </tr>\n",
              "    <tr>\n",
              "      <th>999999</th>\n",
              "      <td>1</td>\n",
              "      <td>27</td>\n",
              "      <td>116</td>\n",
              "      <td>73</td>\n",
              "      <td>92</td>\n",
              "      <td>17.6</td>\n",
              "      <td>0</td>\n",
              "    </tr>\n",
              "  </tbody>\n",
              "</table>\n",
              "<p>1000000 rows × 7 columns</p>\n",
              "</div>\n",
              "      <button class=\"colab-df-convert\" onclick=\"convertToInteractive('df-b6cd7e3e-e5c1-4356-80d0-d8c4fb8c1773')\"\n",
              "              title=\"Convert this dataframe to an interactive table.\"\n",
              "              style=\"display:none;\">\n",
              "        \n",
              "  <svg xmlns=\"http://www.w3.org/2000/svg\" height=\"24px\"viewBox=\"0 0 24 24\"\n",
              "       width=\"24px\">\n",
              "    <path d=\"M0 0h24v24H0V0z\" fill=\"none\"/>\n",
              "    <path d=\"M18.56 5.44l.94 2.06.94-2.06 2.06-.94-2.06-.94-.94-2.06-.94 2.06-2.06.94zm-11 1L8.5 8.5l.94-2.06 2.06-.94-2.06-.94L8.5 2.5l-.94 2.06-2.06.94zm10 10l.94 2.06.94-2.06 2.06-.94-2.06-.94-.94-2.06-.94 2.06-2.06.94z\"/><path d=\"M17.41 7.96l-1.37-1.37c-.4-.4-.92-.59-1.43-.59-.52 0-1.04.2-1.43.59L10.3 9.45l-7.72 7.72c-.78.78-.78 2.05 0 2.83L4 21.41c.39.39.9.59 1.41.59.51 0 1.02-.2 1.41-.59l7.78-7.78 2.81-2.81c.8-.78.8-2.07 0-2.86zM5.41 20L4 18.59l7.72-7.72 1.47 1.35L5.41 20z\"/>\n",
              "  </svg>\n",
              "      </button>\n",
              "      \n",
              "  <style>\n",
              "    .colab-df-container {\n",
              "      display:flex;\n",
              "      flex-wrap:wrap;\n",
              "      gap: 12px;\n",
              "    }\n",
              "\n",
              "    .colab-df-convert {\n",
              "      background-color: #E8F0FE;\n",
              "      border: none;\n",
              "      border-radius: 50%;\n",
              "      cursor: pointer;\n",
              "      display: none;\n",
              "      fill: #1967D2;\n",
              "      height: 32px;\n",
              "      padding: 0 0 0 0;\n",
              "      width: 32px;\n",
              "    }\n",
              "\n",
              "    .colab-df-convert:hover {\n",
              "      background-color: #E2EBFA;\n",
              "      box-shadow: 0px 1px 2px rgba(60, 64, 67, 0.3), 0px 1px 3px 1px rgba(60, 64, 67, 0.15);\n",
              "      fill: #174EA6;\n",
              "    }\n",
              "\n",
              "    [theme=dark] .colab-df-convert {\n",
              "      background-color: #3B4455;\n",
              "      fill: #D2E3FC;\n",
              "    }\n",
              "\n",
              "    [theme=dark] .colab-df-convert:hover {\n",
              "      background-color: #434B5C;\n",
              "      box-shadow: 0px 1px 3px 1px rgba(0, 0, 0, 0.15);\n",
              "      filter: drop-shadow(0px 1px 2px rgba(0, 0, 0, 0.3));\n",
              "      fill: #FFFFFF;\n",
              "    }\n",
              "  </style>\n",
              "\n",
              "      <script>\n",
              "        const buttonEl =\n",
              "          document.querySelector('#df-b6cd7e3e-e5c1-4356-80d0-d8c4fb8c1773 button.colab-df-convert');\n",
              "        buttonEl.style.display =\n",
              "          google.colab.kernel.accessAllowed ? 'block' : 'none';\n",
              "\n",
              "        async function convertToInteractive(key) {\n",
              "          const element = document.querySelector('#df-b6cd7e3e-e5c1-4356-80d0-d8c4fb8c1773');\n",
              "          const dataTable =\n",
              "            await google.colab.kernel.invokeFunction('convertToInteractive',\n",
              "                                                     [key], {});\n",
              "          if (!dataTable) return;\n",
              "\n",
              "          const docLinkHtml = 'Like what you see? Visit the ' +\n",
              "            '<a target=\"_blank\" href=https://colab.research.google.com/notebooks/data_table.ipynb>data table notebook</a>'\n",
              "            + ' to learn more about interactive tables.';\n",
              "          element.innerHTML = '';\n",
              "          dataTable['output_type'] = 'display_data';\n",
              "          await google.colab.output.renderOutput(dataTable, element);\n",
              "          const docLink = document.createElement('div');\n",
              "          docLink.innerHTML = docLinkHtml;\n",
              "          element.appendChild(docLink);\n",
              "        }\n",
              "      </script>\n",
              "    </div>\n",
              "  </div>\n",
              "  "
            ]
          },
          "metadata": {},
          "execution_count": 4
        }
      ]
    },
    {
      "cell_type": "code",
      "source": [
        "df.notnull().sum()"
      ],
      "metadata": {
        "colab": {
          "base_uri": "https://localhost:8080/"
        },
        "id": "tEMba2zU8Sfm",
        "outputId": "a9dbc757-fc0c-42d8-aa09-74e59377ba9c"
      },
      "execution_count": 5,
      "outputs": [
        {
          "output_type": "execute_result",
          "data": {
            "text/plain": [
              "SEX      1000000\n",
              "BTH_G    1000000\n",
              "SBP      1000000\n",
              "DBP      1000000\n",
              "FBS      1000000\n",
              "BMI      1000000\n",
              "Dis      1000000\n",
              "dtype: int64"
            ]
          },
          "metadata": {},
          "execution_count": 5
        }
      ]
    },
    {
      "cell_type": "code",
      "source": [
        "df.info()"
      ],
      "metadata": {
        "colab": {
          "base_uri": "https://localhost:8080/"
        },
        "id": "QqHvFnmj8W8F",
        "outputId": "212f276d-9db9-4fdd-92e4-2c868008782d"
      },
      "execution_count": 6,
      "outputs": [
        {
          "output_type": "stream",
          "name": "stdout",
          "text": [
            "<class 'pandas.core.frame.DataFrame'>\n",
            "RangeIndex: 1000000 entries, 0 to 999999\n",
            "Data columns (total 7 columns):\n",
            " #   Column  Non-Null Count    Dtype  \n",
            "---  ------  --------------    -----  \n",
            " 0   SEX     1000000 non-null  int64  \n",
            " 1   BTH_G   1000000 non-null  int64  \n",
            " 2   SBP     1000000 non-null  int64  \n",
            " 3   DBP     1000000 non-null  int64  \n",
            " 4   FBS     1000000 non-null  int64  \n",
            " 5   BMI     1000000 non-null  float64\n",
            " 6   Dis     1000000 non-null  int64  \n",
            "dtypes: float64(1), int64(6)\n",
            "memory usage: 53.4 MB\n"
          ]
        }
      ]
    },
    {
      "cell_type": "code",
      "source": [
        "colormap = plt.cm.viridis # pearson 상관 계수 확인 ---> heatmap\n",
        "plt.figure(figsize=(15,15))\n",
        "plt.title(\"Pearson Corrrelation of features\")\n",
        "sns.heatmap(df.corr(), cmap=colormap, annot=True, linewidths=0.1, vmax=1.0, \n",
        "            square=True, linecolor='white')"
      ],
      "metadata": {
        "colab": {
          "base_uri": "https://localhost:8080/",
          "height": 869
        },
        "id": "YvYTca3A8YU9",
        "outputId": "c1f53b8b-29e0-4694-cadf-179e6a2ac255"
      },
      "execution_count": 7,
      "outputs": [
        {
          "output_type": "execute_result",
          "data": {
            "text/plain": [
              "<matplotlib.axes._subplots.AxesSubplot at 0x7f12b61bc510>"
            ]
          },
          "metadata": {},
          "execution_count": 7
        },
        {
          "output_type": "display_data",
          "data": {
            "text/plain": [
              "<Figure size 1080x1080 with 2 Axes>"
            ],
            "image/png": "[encoded data removed]"
          },
          "metadata": {
            "needs_background": "light"
          }
        }
      ]
    },
    {
      "cell_type": "code",
      "source": [
        "# feature와 target 분리(설명변수 및 목표변수 분리)\n",
        "x = df.drop(['Dis'], axis=1) # df[df.columns.difference(['target'])]\n",
        "y = np.array(df['Dis']) # y = df['target']\n",
        "\n",
        "\n",
        "x_train,x_test,y_train,y_test=train_test_split(x,y,test_size=0.25, random_state = 42) # 기본 0.25\n",
        "\n",
        "# # 표준 스케일러(평균 0, 분산 1)\n",
        "# scaler = StandardScaler()\n",
        "# Feature Scaling\n",
        "from sklearn.preprocessing import StandardScaler\n",
        "sc = StandardScaler()\n",
        "x_train = sc.fit_transform(x_train)\n",
        "x_test = sc.transform(x_test)\n",
        "\n",
        "\n",
        "\n",
        "print(x_train.shape)\n",
        "print(y_train.shape)\n",
        "print(x_test.shape)\n",
        "print(y_test.shape)"
      ],
      "metadata": {
        "colab": {
          "base_uri": "https://localhost:8080/"
        },
        "id": "I1gIJTV-8gSt",
        "outputId": "f76ba34a-8190-4990-fb84-8de1ada58c38"
      },
      "execution_count": 8,
      "outputs": [
        {
          "output_type": "stream",
          "name": "stdout",
          "text": [
            "(750000, 6)\n",
            "(750000,)\n",
            "(250000, 6)\n",
            "(250000,)\n"
          ]
        }
      ]
    },
    {
      "cell_type": "code",
      "source": [
        "x_train.shape"
      ],
      "metadata": {
        "id": "z9J6rz4J8t4m",
        "colab": {
          "base_uri": "https://localhost:8080/"
        },
        "outputId": "54ecf1c6-c801-401b-a38d-0c414c29614d"
      },
      "execution_count": 9,
      "outputs": [
        {
          "output_type": "execute_result",
          "data": {
            "text/plain": [
              "(750000, 6)"
            ]
          },
          "metadata": {},
          "execution_count": 9
        }
      ]
    },
    {
      "cell_type": "code",
      "source": [
        "x_test.shape"
      ],
      "metadata": {
        "id": "FaP4loQ9_2le",
        "colab": {
          "base_uri": "https://localhost:8080/"
        },
        "outputId": "6a4367f7-22fb-4225-b108-856d859faf9d"
      },
      "execution_count": 10,
      "outputs": [
        {
          "output_type": "execute_result",
          "data": {
            "text/plain": [
              "(250000, 6)"
            ]
          },
          "metadata": {},
          "execution_count": 10
        }
      ]
    },
    {
      "cell_type": "code",
      "source": [
        "y_train.shape"
      ],
      "metadata": {
        "id": "8rVN0UcF_5U-",
        "colab": {
          "base_uri": "https://localhost:8080/"
        },
        "outputId": "8244198c-7020-4e8f-e59e-1218e3631b5e"
      },
      "execution_count": 11,
      "outputs": [
        {
          "output_type": "execute_result",
          "data": {
            "text/plain": [
              "(750000,)"
            ]
          },
          "metadata": {},
          "execution_count": 11
        }
      ]
    },
    {
      "cell_type": "code",
      "source": [
        "y_test.shape"
      ],
      "metadata": {
        "id": "AaTD7rLY_6tb",
        "colab": {
          "base_uri": "https://localhost:8080/"
        },
        "outputId": "d8d7dec1-8c3e-4319-fefe-d38f5ddb624f"
      },
      "execution_count": 12,
      "outputs": [
        {
          "output_type": "execute_result",
          "data": {
            "text/plain": [
              "(250000,)"
            ]
          },
          "metadata": {},
          "execution_count": 12
        }
      ]
    },
    {
      "cell_type": "markdown",
      "source": [
        "**Logistic Regression**"
      ],
      "metadata": {
        "id": "em3D-1UIo3uJ"
      }
    },
    {
      "cell_type": "code",
      "source": [
        "from sklearn.linear_model import LogisticRegression # 로지스틱 회귀\n",
        "\n",
        "\n",
        "LR = LogisticRegression() # 로지스틱 회귀 분석\n",
        "LR.fit(x_train,y_train)\n",
        "\n",
        "print(\"train score : {}\".format(LR.score(x_train, y_train)))\n",
        "\n",
        "predict_y = LR.predict(x_test)\n",
        "\n",
        "from sklearn.metrics import classification_report\n",
        "print(classification_report(y_test, LR.predict(x_test)))\n",
        "print(\"test score : {}\".format(LR.score(x_test, y_test)))"
      ],
      "metadata": {
        "colab": {
          "base_uri": "https://localhost:8080/"
        },
        "id": "2Yt8QUWr_842",
        "outputId": "495fff3f-fd56-4754-a9a6-706634f1e3cc"
      },
      "execution_count": 13,
      "outputs": [
        {
          "output_type": "stream",
          "name": "stdout",
          "text": [
            "train score : 0.8179706666666666\n",
            "              precision    recall  f1-score   support\n",
            "\n",
            "           0       0.85      0.92      0.88    184997\n",
            "           1       0.69      0.54      0.61     65003\n",
            "\n",
            "    accuracy                           0.82    250000\n",
            "   macro avg       0.77      0.73      0.74    250000\n",
            "weighted avg       0.81      0.82      0.81    250000\n",
            "\n",
            "test score : 0.817968\n"
          ]
        }
      ]
    },
    {
      "cell_type": "markdown",
      "source": [
        "## Upsampling 데이터"
      ],
      "metadata": {
        "id": "mjKG3X5x_hS0"
      }
    },
    {
      "cell_type": "code",
      "source": [
        "# Disease \n",
        "\n",
        "df2 = pd.read_csv('/content/drive/MyDrive/Colab_Notebooks/aiffel_data/Hackerton_2/data_over_sampling.csv', encoding='cp949') # upsampling 안된 것!\n",
        "df2"
      ],
      "metadata": {
        "colab": {
          "base_uri": "https://localhost:8080/",
          "height": 424
        },
        "id": "b_E6ofBl6LzK",
        "outputId": "24611f7c-f399-4731-dc96-81918438b873"
      },
      "execution_count": 14,
      "outputs": [
        {
          "output_type": "execute_result",
          "data": {
            "text/plain": [
              "         SEX  BTH_G  SBP  DBP  FBS   BMI  Dis\n",
              "0          1      1  116   78   94  16.6    0\n",
              "1          1      1  100   60   79  22.3    0\n",
              "2          1      1  100   60   87  21.9    0\n",
              "3          1      1  111   70   72  20.2    0\n",
              "4          1      1  120   80   98  20.0    0\n",
              "...      ...    ...  ...  ...  ...   ...  ...\n",
              "1481319    0     25  120   80   78  27.9    1\n",
              "1481320    0     27  150   74  133  32.0    1\n",
              "1481321    1     25  120   70  118  26.9    1\n",
              "1481322    0     20  136   68   93  21.5    1\n",
              "1481323    1     19  125   84  130  24.8    1\n",
              "\n",
              "[1481324 rows x 7 columns]"
            ],
            "text/html": [
              "\n",
              "  <div id=\"df-339a4bf8-de79-49fb-b06e-6f43e1cc9a23\">\n",
              "    <div class=\"colab-df-container\">\n",
              "      <div>\n",
              "<style scoped>\n",
              "    .dataframe tbody tr th:only-of-type {\n",
              "        vertical-align: middle;\n",
              "    }\n",
              "\n",
              "    .dataframe tbody tr th {\n",
              "        vertical-align: top;\n",
              "    }\n",
              "\n",
              "    .dataframe thead th {\n",
              "        text-align: right;\n",
              "    }\n",
              "</style>\n",
              "<table border=\"1\" class=\"dataframe\">\n",
              "  <thead>\n",
              "    <tr style=\"text-align: right;\">\n",
              "      <th></th>\n",
              "      <th>SEX</th>\n",
              "      <th>BTH_G</th>\n",
              "      <th>SBP</th>\n",
              "      <th>DBP</th>\n",
              "      <th>FBS</th>\n",
              "      <th>BMI</th>\n",
              "      <th>Dis</th>\n",
              "    </tr>\n",
              "  </thead>\n",
              "  <tbody>\n",
              "    <tr>\n",
              "      <th>0</th>\n",
              "      <td>1</td>\n",
              "      <td>1</td>\n",
              "      <td>116</td>\n",
              "      <td>78</td>\n",
              "      <td>94</td>\n",
              "      <td>16.6</td>\n",
              "      <td>0</td>\n",
              "    </tr>\n",
              "    <tr>\n",
              "      <th>1</th>\n",
              "      <td>1</td>\n",
              "      <td>1</td>\n",
              "      <td>100</td>\n",
              "      <td>60</td>\n",
              "      <td>79</td>\n",
              "      <td>22.3</td>\n",
              "      <td>0</td>\n",
              "    </tr>\n",
              "    <tr>\n",
              "      <th>2</th>\n",
              "      <td>1</td>\n",
              "      <td>1</td>\n",
              "      <td>100</td>\n",
              "      <td>60</td>\n",
              "      <td>87</td>\n",
              "      <td>21.9</td>\n",
              "      <td>0</td>\n",
              "    </tr>\n",
              "    <tr>\n",
              "      <th>3</th>\n",
              "      <td>1</td>\n",
              "      <td>1</td>\n",
              "      <td>111</td>\n",
              "      <td>70</td>\n",
              "      <td>72</td>\n",
              "      <td>20.2</td>\n",
              "      <td>0</td>\n",
              "    </tr>\n",
              "    <tr>\n",
              "      <th>4</th>\n",
              "      <td>1</td>\n",
              "      <td>1</td>\n",
              "      <td>120</td>\n",
              "      <td>80</td>\n",
              "      <td>98</td>\n",
              "      <td>20.0</td>\n",
              "      <td>0</td>\n",
              "    </tr>\n",
              "    <tr>\n",
              "      <th>...</th>\n",
              "      <td>...</td>\n",
              "      <td>...</td>\n",
              "      <td>...</td>\n",
              "      <td>...</td>\n",
              "      <td>...</td>\n",
              "      <td>...</td>\n",
              "      <td>...</td>\n",
              "    </tr>\n",
              "    <tr>\n",
              "      <th>1481319</th>\n",
              "      <td>0</td>\n",
              "      <td>25</td>\n",
              "      <td>120</td>\n",
              "      <td>80</td>\n",
              "      <td>78</td>\n",
              "      <td>27.9</td>\n",
              "      <td>1</td>\n",
              "    </tr>\n",
              "    <tr>\n",
              "      <th>1481320</th>\n",
              "      <td>0</td>\n",
              "      <td>27</td>\n",
              "      <td>150</td>\n",
              "      <td>74</td>\n",
              "      <td>133</td>\n",
              "      <td>32.0</td>\n",
              "      <td>1</td>\n",
              "    </tr>\n",
              "    <tr>\n",
              "      <th>1481321</th>\n",
              "      <td>1</td>\n",
              "      <td>25</td>\n",
              "      <td>120</td>\n",
              "      <td>70</td>\n",
              "      <td>118</td>\n",
              "      <td>26.9</td>\n",
              "      <td>1</td>\n",
              "    </tr>\n",
              "    <tr>\n",
              "      <th>1481322</th>\n",
              "      <td>0</td>\n",
              "      <td>20</td>\n",
              "      <td>136</td>\n",
              "      <td>68</td>\n",
              "      <td>93</td>\n",
              "      <td>21.5</td>\n",
              "      <td>1</td>\n",
              "    </tr>\n",
              "    <tr>\n",
              "      <th>1481323</th>\n",
              "      <td>1</td>\n",
              "      <td>19</td>\n",
              "      <td>125</td>\n",
              "      <td>84</td>\n",
              "      <td>130</td>\n",
              "      <td>24.8</td>\n",
              "      <td>1</td>\n",
              "    </tr>\n",
              "  </tbody>\n",
              "</table>\n",
              "<p>1481324 rows × 7 columns</p>\n",
              "</div>\n",
              "      <button class=\"colab-df-convert\" onclick=\"convertToInteractive('df-339a4bf8-de79-49fb-b06e-6f43e1cc9a23')\"\n",
              "              title=\"Convert this dataframe to an interactive table.\"\n",
              "              style=\"display:none;\">\n",
              "        \n",
              "  <svg xmlns=\"http://www.w3.org/2000/svg\" height=\"24px\"viewBox=\"0 0 24 24\"\n",
              "       width=\"24px\">\n",
              "    <path d=\"M0 0h24v24H0V0z\" fill=\"none\"/>\n",
              "    <path d=\"M18.56 5.44l.94 2.06.94-2.06 2.06-.94-2.06-.94-.94-2.06-.94 2.06-2.06.94zm-11 1L8.5 8.5l.94-2.06 2.06-.94-2.06-.94L8.5 2.5l-.94 2.06-2.06.94zm10 10l.94 2.06.94-2.06 2.06-.94-2.06-.94-.94-2.06-.94 2.06-2.06.94z\"/><path d=\"M17.41 7.96l-1.37-1.37c-.4-.4-.92-.59-1.43-.59-.52 0-1.04.2-1.43.59L10.3 9.45l-7.72 7.72c-.78.78-.78 2.05 0 2.83L4 21.41c.39.39.9.59 1.41.59.51 0 1.02-.2 1.41-.59l7.78-7.78 2.81-2.81c.8-.78.8-2.07 0-2.86zM5.41 20L4 18.59l7.72-7.72 1.47 1.35L5.41 20z\"/>\n",
              "  </svg>\n",
              "      </button>\n",
              "      \n",
              "  <style>\n",
              "    .colab-df-container {\n",
              "      display:flex;\n",
              "      flex-wrap:wrap;\n",
              "      gap: 12px;\n",
              "    }\n",
              "\n",
              "    .colab-df-convert {\n",
              "      background-color: #E8F0FE;\n",
              "      border: none;\n",
              "      border-radius: 50%;\n",
              "      cursor: pointer;\n",
              "      display: none;\n",
              "      fill: #1967D2;\n",
              "      height: 32px;\n",
              "      padding: 0 0 0 0;\n",
              "      width: 32px;\n",
              "    }\n",
              "\n",
              "    .colab-df-convert:hover {\n",
              "      background-color: #E2EBFA;\n",
              "      box-shadow: 0px 1px 2px rgba(60, 64, 67, 0.3), 0px 1px 3px 1px rgba(60, 64, 67, 0.15);\n",
              "      fill: #174EA6;\n",
              "    }\n",
              "\n",
              "    [theme=dark] .colab-df-convert {\n",
              "      background-color: #3B4455;\n",
              "      fill: #D2E3FC;\n",
              "    }\n",
              "\n",
              "    [theme=dark] .colab-df-convert:hover {\n",
              "      background-color: #434B5C;\n",
              "      box-shadow: 0px 1px 3px 1px rgba(0, 0, 0, 0.15);\n",
              "      filter: drop-shadow(0px 1px 2px rgba(0, 0, 0, 0.3));\n",
              "      fill: #FFFFFF;\n",
              "    }\n",
              "  </style>\n",
              "\n",
              "      <script>\n",
              "        const buttonEl =\n",
              "          document.querySelector('#df-339a4bf8-de79-49fb-b06e-6f43e1cc9a23 button.colab-df-convert');\n",
              "        buttonEl.style.display =\n",
              "          google.colab.kernel.accessAllowed ? 'block' : 'none';\n",
              "\n",
              "        async function convertToInteractive(key) {\n",
              "          const element = document.querySelector('#df-339a4bf8-de79-49fb-b06e-6f43e1cc9a23');\n",
              "          const dataTable =\n",
              "            await google.colab.kernel.invokeFunction('convertToInteractive',\n",
              "                                                     [key], {});\n",
              "          if (!dataTable) return;\n",
              "\n",
              "          const docLinkHtml = 'Like what you see? Visit the ' +\n",
              "            '<a target=\"_blank\" href=https://colab.research.google.com/notebooks/data_table.ipynb>data table notebook</a>'\n",
              "            + ' to learn more about interactive tables.';\n",
              "          element.innerHTML = '';\n",
              "          dataTable['output_type'] = 'display_data';\n",
              "          await google.colab.output.renderOutput(dataTable, element);\n",
              "          const docLink = document.createElement('div');\n",
              "          docLink.innerHTML = docLinkHtml;\n",
              "          element.appendChild(docLink);\n",
              "        }\n",
              "      </script>\n",
              "    </div>\n",
              "  </div>\n",
              "  "
            ]
          },
          "metadata": {},
          "execution_count": 14
        }
      ]
    },
    {
      "cell_type": "code",
      "source": [
        "df2.notnull().sum()"
      ],
      "metadata": {
        "colab": {
          "base_uri": "https://localhost:8080/"
        },
        "id": "Gaeqqkwx6cao",
        "outputId": "e880f41d-de30-4067-fe03-d88004d6c969"
      },
      "execution_count": 15,
      "outputs": [
        {
          "output_type": "execute_result",
          "data": {
            "text/plain": [
              "SEX      1481324\n",
              "BTH_G    1481324\n",
              "SBP      1481324\n",
              "DBP      1481324\n",
              "FBS      1481324\n",
              "BMI      1481324\n",
              "Dis      1481324\n",
              "dtype: int64"
            ]
          },
          "metadata": {},
          "execution_count": 15
        }
      ]
    },
    {
      "cell_type": "code",
      "source": [
        "df2.info()"
      ],
      "metadata": {
        "colab": {
          "base_uri": "https://localhost:8080/"
        },
        "id": "0Ku1_D866cX9",
        "outputId": "be13724e-be7f-43c5-b430-7c3947fa36ec"
      },
      "execution_count": 16,
      "outputs": [
        {
          "output_type": "stream",
          "name": "stdout",
          "text": [
            "<class 'pandas.core.frame.DataFrame'>\n",
            "RangeIndex: 1481324 entries, 0 to 1481323\n",
            "Data columns (total 7 columns):\n",
            " #   Column  Non-Null Count    Dtype  \n",
            "---  ------  --------------    -----  \n",
            " 0   SEX     1481324 non-null  int64  \n",
            " 1   BTH_G   1481324 non-null  int64  \n",
            " 2   SBP     1481324 non-null  int64  \n",
            " 3   DBP     1481324 non-null  int64  \n",
            " 4   FBS     1481324 non-null  int64  \n",
            " 5   BMI     1481324 non-null  float64\n",
            " 6   Dis     1481324 non-null  int64  \n",
            "dtypes: float64(1), int64(6)\n",
            "memory usage: 79.1 MB\n"
          ]
        }
      ]
    },
    {
      "cell_type": "code",
      "source": [
        "colormap = plt.cm.viridis # pearson 상관 계수 확인 ---> heatmap\n",
        "plt.figure(figsize=(15,15))\n",
        "plt.title(\"Pearson Corrrelation of features\")\n",
        "sns.heatmap(df2.corr(), cmap=colormap, annot=True, linewidths=0.1, vmax=1.0, \n",
        "            square=True, linecolor='white')"
      ],
      "metadata": {
        "colab": {
          "base_uri": "https://localhost:8080/",
          "height": 869
        },
        "id": "N2UMEoen6cVZ",
        "outputId": "178e30d8-3dc8-4daa-c326-d8a078fb3871"
      },
      "execution_count": 17,
      "outputs": [
        {
          "output_type": "execute_result",
          "data": {
            "text/plain": [
              "<matplotlib.axes._subplots.AxesSubplot at 0x7f12b1fa3a90>"
            ]
          },
          "metadata": {},
          "execution_count": 17
        },
        {
          "output_type": "display_data",
          "data": {
            "text/plain": [
              "<Figure size 1080x1080 with 2 Axes>"
            ],
            "image/png": "[encoded data removed]"
          },
          "metadata": {
            "needs_background": "light"
          }
        }
      ]
    },
    {
      "cell_type": "code",
      "source": [
        "# Upsampling한 데이터로 train, test 나누기\n",
        "\n",
        "# feature와 target 분리(설명변수 및 목표변수 분리)\n",
        "\n",
        "x = df2.drop(['Dis'], axis=1) # df[df.columns.difference(['target'])]\n",
        "y = np.array(df2['Dis']) # y = df['target']\n",
        "\n",
        "\n",
        "x_up_train,x_up_test,y_up_train,y_up_test=train_test_split(x,y,test_size=0.25, random_state = 42) # 기본 0.25\n",
        "\n",
        "# # 표준 스케일러(평균 0, 분산 1)\n",
        "# scaler = StandardScaler()\n",
        "# Feature Scaling\n",
        "from sklearn.preprocessing import StandardScaler\n",
        "sc = StandardScaler()\n",
        "x_up_train = sc.fit_transform(x_up_train)\n",
        "x_up_test = sc.transform(x_up_test)\n",
        "\n",
        "\n",
        "\n",
        "print(x_up_train.shape)\n",
        "print(y_up_train.shape)\n",
        "print(x_up_test.shape)\n",
        "print(y_up_test.shape)"
      ],
      "metadata": {
        "colab": {
          "base_uri": "https://localhost:8080/"
        },
        "id": "WYtd2Bk76cS6",
        "outputId": "68e0c7f3-1d6c-45a1-ed9e-7662cd8aa8a0"
      },
      "execution_count": 53,
      "outputs": [
        {
          "output_type": "stream",
          "name": "stdout",
          "text": [
            "(1110993, 6)\n",
            "(1110993,)\n",
            "(370331, 6)\n",
            "(370331,)\n"
          ]
        }
      ]
    },
    {
      "cell_type": "code",
      "source": [
        "|from sklearn.linear_model import LogisticRegression # 로지스틱 회귀\n",
        "\n",
        "LR = LogisticRegression() # 로지스틱 회귀 분석\n",
        "LR.fit(x_up_train,y_up_train)\n",
        "\n",
        "print(\"train score : {}\".format(LR.score(x_up_train, y_up_train)))\n",
        "\n",
        "predict_y = LR.predict(x_up_test)\n",
        "\n",
        "from sklearn.metrics import classification_report\n",
        "print(classification_report(y_up_test, LR.predict(x_up_test)))\n",
        "print(\"test score : {}\".format(LR.score(x_up_test, y_up_test)))"
      ],
      "metadata": {
        "colab": {
          "base_uri": "https://localhost:8080/"
        },
        "id": "Y9ClcHCh6cP5",
        "outputId": "16c7f4ed-0353-4483-ce4a-8d2f1d324544"
      },
      "execution_count": 19,
      "outputs": [
        {
          "output_type": "stream",
          "name": "stdout",
          "text": [
            "train score : 0.7901327911156956\n",
            "              precision    recall  f1-score   support\n",
            "\n",
            "           0       0.79      0.78      0.79    184754\n",
            "           1       0.78      0.80      0.79    185577\n",
            "\n",
            "    accuracy                           0.79    370331\n",
            "   macro avg       0.79      0.79      0.79    370331\n",
            "weighted avg       0.79      0.79      0.79    370331\n",
            "\n",
            "test score : 0.7885648244408381\n"
          ]
        }
      ]
    },
    {
      "cell_type": "markdown",
      "source": [
        "-----------------------------------------------------------------------------------------------------------------------------------------------------------------"
      ],
      "metadata": {
        "id": "_eLI2Xq4A8ra"
      }
    },
    {
      "cell_type": "markdown",
      "source": [
        "하이퍼 파라미터 튜닝"
      ],
      "metadata": {
        "id": "EJgJkEw7zFwc"
      }
    },
    {
      "cell_type": "code",
      "source": [
        "# 참조 해야할 값들\n",
        "\n",
        "# LogisticRegression(C=1.0, class_weight=None, dual=False, fit_intercept=True,\n",
        "#                    intercept_scaling=1, l1_ratio=None, max_iter=100,\n",
        "#                    multi_class='auto', n_jobs=None, penalty='l2',\n",
        "#                    random_state=0, solver='lbfgs', tol=0.0001, verbose=0,\n",
        "#                    warm_start=False)"
      ],
      "metadata": {
        "id": "c8iSEnKxAq6U"
      },
      "execution_count": 20,
      "outputs": []
    },
    {
      "cell_type": "markdown",
      "source": [
        "![image.png](data:image/png;base64,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)"
      ],
      "metadata": {
        "id": "tNDtw-eqz4CN"
      }
    },
    {
      "cell_type": "code",
      "source": [
        "solvers = ['lbfgs', 'liblinear', 'newton-cg', 'sag', 'saga']\n",
        "\n",
        "# 여러개의 solver 값별로 LogisticRegression 학습 후 성능 평가\n",
        "for solver in solvers:\n",
        "    lr_clf = LogisticRegression(solver=solver, max_iter=600)\n",
        "    lr_clf.fit(x_up_train, y_up_train)\n",
        "    lr_preds = lr_clf.predict(x_up_test)\n",
        "    \n",
        "    # accuracy와 roc_auc 측정\n",
        "    print('solver:{0}, accuracy: {1:.3f}, roc_auc:{2:.3f}'.format(solver,\n",
        "                                                                  accuracy_score(y_up_test, lr_preds),\n",
        "                                                                  roc_auc_score(y_up_test , lr_preds)))"
      ],
      "metadata": {
        "colab": {
          "base_uri": "https://localhost:8080/"
        },
        "id": "cRxQmx8JzmsN",
        "outputId": "70fc7744-a551-4d70-b4d2-ed13b30f4226"
      },
      "execution_count": 21,
      "outputs": [
        {
          "output_type": "stream",
          "name": "stdout",
          "text": [
            "solver:lbfgs, accuracy: 0.789, roc_auc:0.789\n",
            "solver:liblinear, accuracy: 0.789, roc_auc:0.789\n",
            "solver:newton-cg, accuracy: 0.789, roc_auc:0.789\n",
            "solver:sag, accuracy: 0.789, roc_auc:0.789\n",
            "solver:saga, accuracy: 0.789, roc_auc:0.789\n"
          ]
        }
      ]
    },
    {
      "cell_type": "markdown",
      "source": [
        "solver 에서의 값들은 전부 동일하게 나왔다. \n",
        "\n",
        "Liblinear, saga의 경우 L1, L2 규제가 모두 가능하지만 Ibfgs, newton-cg, sag의 경우 L2 규제만 가능."
      ],
      "metadata": {
        "id": "gnkqJlKT0-yy"
      }
    },
    {
      "cell_type": "code",
      "source": [
        "from sklearn.model_selection import GridSearchCV\n",
        "\n",
        "params={'solver':['liblinear', 'lbfgs'],\n",
        "        'penalty':['l2', 'l1'],\n",
        "        'C':[0.01, 0.1, 1, 1, 5, 10]} # C값은 규제 강도를 조절하는 alpha값의 역수이다. C값이 작을수록 규제 강도가 크다.\n",
        "\n",
        "lr_clf = LogisticRegression()\n",
        "\n",
        "grid_clf = GridSearchCV(lr_clf, param_grid=params, scoring='accuracy', cv=3 )\n",
        "grid_clf.fit(x_up_train, y_up_train)\n",
        "print('최적 하이퍼 파라미터:{0}, 최적 평균 정확도:{1:.3f}'.format(grid_clf.best_params_,\n",
        "                                                  grid_clf.best_score_))"
      ],
      "metadata": {
        "colab": {
          "base_uri": "https://localhost:8080/"
        },
        "id": "8xmn2GvI1OkO",
        "outputId": "466446e6-a0b7-41ae-8608-1be059636e49"
      },
      "execution_count": 22,
      "outputs": [
        {
          "output_type": "stream",
          "name": "stderr",
          "text": [
            "/usr/local/lib/python3.7/dist-packages/sklearn/model_selection/_validation.py:372: FitFailedWarning: \n",
            "18 fits failed out of a total of 72.\n",
            "The score on these train-test partitions for these parameters will be set to nan.\n",
            "If these failures are not expected, you can try to debug them by setting error_score='raise'.\n",
            "\n",
            "Below are more details about the failures:\n",
            "--------------------------------------------------------------------------------\n",
            "18 fits failed with the following error:\n",
            "Traceback (most recent call last):\n",
            "  File \"/usr/local/lib/python3.7/dist-packages/sklearn/model_selection/_validation.py\", line 680, in _fit_and_score\n",
            "    estimator.fit(X_train, y_train, **fit_params)\n",
            "  File \"/usr/local/lib/python3.7/dist-packages/sklearn/linear_model/_logistic.py\", line 1461, in fit\n",
            "    solver = _check_solver(self.solver, self.penalty, self.dual)\n",
            "  File \"/usr/local/lib/python3.7/dist-packages/sklearn/linear_model/_logistic.py\", line 449, in _check_solver\n",
            "    % (solver, penalty)\n",
            "ValueError: Solver lbfgs supports only 'l2' or 'none' penalties, got l1 penalty.\n",
            "\n",
            "  warnings.warn(some_fits_failed_message, FitFailedWarning)\n",
            "/usr/local/lib/python3.7/dist-packages/sklearn/model_selection/_search.py:972: UserWarning: One or more of the test scores are non-finite: [0.79014179 0.79014539 0.79015259        nan 0.79013009 0.79013189\n",
            " 0.79013729        nan 0.79012739 0.79013099 0.79013099        nan\n",
            " 0.79012739 0.79013099 0.79013189        nan 0.79012829 0.79013099\n",
            " 0.79013009        nan 0.79012829 0.79013099 0.79013099        nan]\n",
            "  category=UserWarning,\n"
          ]
        },
        {
          "output_type": "stream",
          "name": "stdout",
          "text": [
            "최적 하이퍼 파라미터:{'C': 0.01, 'penalty': 'l1', 'solver': 'liblinear'}, 최적 평균 정확도:0.790\n"
          ]
        }
      ]
    },
    {
      "cell_type": "markdown",
      "source": [
        "최적 하이퍼 파라미터:{'C': 0.01, 'penalty': 'l1', 'solver': 'liblinear'}, 최적 평균 정확도:0.790\n"
      ],
      "metadata": {
        "id": "1YBJ5PC92e7q"
      }
    },
    {
      "cell_type": "markdown",
      "source": [
        "**최적 Hyperparameter 나옴**"
      ],
      "metadata": {
        "id": "vSS0AZyY3Mno"
      }
    },
    {
      "cell_type": "code",
      "source": [
        "# 예제가 이진분류이므로 목적함수(objective)는 binary:logistic(이진 로지스틱)\n",
        "# 오류함수의 평가성능지표는 logloss\n",
        "# 부스팅 반복횟수는 400\n",
        "# 조기중단을 위한 최소 반복횟수는 100\n",
        "\n",
        "# params = {'C' : 0.01,\n",
        "#          'penalty' : 'L1', \n",
        "#          'solver' : 'liblinear' }\n"
      ],
      "metadata": {
        "id": "9s_exO8G3IJ0"
      },
      "execution_count": 23,
      "outputs": []
    },
    {
      "cell_type": "markdown",
      "source": [
        "early_stopping_rounds 파라미터 : 조기 중단을 위한 라운드를 설정합니다. 조기 중단 기능 수행을 위해서는 반드시 eval_set과 eval_metric이 함께 설정되어야 한다.\n",
        "\n",
        "eval_set : 성능평가를 위한 평가용 데이터 세트를 설정 eval_metric : 평가 세트에 적용할 성능 평가 방법 (반복마다 eval_set으로 지정된 데이터 세트에서 eval_metric의 지정된 평가 지표로 예측 오류를 측정) train() 함수를 호출하면 xgboost가 반복 시마다 evals에 표시된 데이터 세트에 대해 평가 지표를 출력한다. 그 후 학습이 완료된 모델 객체를 반환한다."
      ],
      "metadata": {
        "id": "plIh-AXb3hZg"
      }
    },
    {
      "cell_type": "code",
      "source": [
        "# 평가지표 출력하는 함수 설정\n",
        "def get_clf_eval(y_up_test, y_up_pred):\n",
        "    confusion = confusion_matrix(y_up_test, y_up_pred)\n",
        "    accuracy = accuracy_score(y_up_test, y_up_pred)\n",
        "    precision = precision_score(y_up_test, y_up_pred)\n",
        "    recall = recall_score(y_up_test, y_up_pred)\n",
        "    F1 = f1_score(y_up_test, y_up_pred)\n",
        "    AUC = roc_auc_score(y_up_test, y_up_pred)\n",
        "    \n",
        "    print('오차행렬:\\n', confusion)\n",
        "    print('\\n정확도: {:.4f}'.format(accuracy))\n",
        "    print('정밀도: {:.4f}'.format(precision))\n",
        "    print('재현율: {:.4f}'.format(recall))\n",
        "    print('F1: {:.4f}'.format(F1))\n",
        "    print('AUC: {:.4f}'.format(AUC))"
      ],
      "metadata": {
        "id": "-iqt5IRR6vEC"
      },
      "execution_count": 24,
      "outputs": []
    },
    {
      "cell_type": "code",
      "source": [
        "# Precision-Recall Curve Plot 그리기\n",
        "def precision_recall_curve_plot(y_up_test, pred_proba):\n",
        "    # threshold ndarray와 이 threshold에 따른 정밀도, 재현율 ndarray 추출\n",
        "    precisions, recalls, thresholds = precision_recall_curve(y_up_test, pred_proba)\n",
        "    \n",
        "    # x축을 threshold, y축을 정밀도, 재현율로 그래프 그리기\n",
        "    plt.figure(figsize=(8, 6))\n",
        "    thresholds_boundary = thresholds.shape[0]\n",
        "    plt.plot(thresholds, precisions[:thresholds_boundary], linestyle='--', label='precision')\n",
        "    plt.plot(thresholds, recalls[:thresholds_boundary], linestyle=':', label='recall')\n",
        "    \n",
        "    # threshold의 값 X축의 scale을 0.1 단위로 변경\n",
        "    stard, end = plt.xlim()\n",
        "    plt.xticks(np.round(np.arange(stard, end, 0.1), 2))\n",
        "    \n",
        "    plt.xlim()\n",
        "    plt.xlabel('thresholds')\n",
        "    plt.ylabel('precision & recall value')\n",
        "    plt.legend()\n",
        "    plt.grid()"
      ],
      "metadata": {
        "id": "O1kQYWmZ6vBM"
      },
      "execution_count": 25,
      "outputs": []
    },
    {
      "cell_type": "markdown",
      "source": [
        "params = {'C' : 0.01,\n",
        "         'penalty' : 'L1', \n",
        "         'solver' : 'liblinear' }"
      ],
      "metadata": {
        "id": "fA8R-FL78O9H"
      }
    },
    {
      "cell_type": "code",
      "source": [
        "# 피쳐 데이터 세트 X, 레이블 데이터 세트 y 를 추출\n",
        "x = df2.drop(['Dis'], axis=1) # df[df.columns.difference(['target'])]\n",
        "y = np.array(df2['Dis']) # y = df['target']\n",
        "\n",
        "# 데이터를 훈련과 테스트 데이터 셋으로 분리\n",
        "x_up_train, x_up_test, y_up_train, y_up_test = train_test_split(x, y, test_size = 0.2, random_state = 42, stratify=y)\n",
        "\n",
        "# 로지스틱 회귀로 학습, 예측 및 평가 수행 (그리드 서치로 찾은 최적의 하이퍼 파라미터로 진행)\n",
        "lr_clf = LogisticRegression(C = 0.01, penalty = 'l1', solver = 'liblinear')\n",
        "\n",
        "lr_clf.fit(x_up_train, y_up_train)\n",
        "pred = lr_clf.predict(x_up_test)\n",
        "get_clf_eval(y_up_test, pred)"
      ],
      "metadata": {
        "colab": {
          "base_uri": "https://localhost:8080/"
        },
        "id": "YPcVa7dh780K",
        "outputId": "ab47bee7-c122-41fc-aa2f-341391bb80c3"
      },
      "execution_count": 26,
      "outputs": [
        {
          "output_type": "stream",
          "name": "stdout",
          "text": [
            "오차행렬:\n",
            " [[115345  32788]\n",
            " [ 29712 118420]]\n",
            "\n",
            "정확도: 0.7890\n",
            "정밀도: 0.7832\n",
            "재현율: 0.7994\n",
            "F1: 0.7912\n",
            "AUC: 0.7890\n"
          ]
        }
      ]
    },
    {
      "cell_type": "markdown",
      "source": [
        "![image.png](data:image/png;base64,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)"
      ],
      "metadata": {
        "id": "2NmLMpgsDHiX"
      }
    },
    {
      "cell_type": "code",
      "source": [
        "# 임계값별로 정밀도-재현율 출력\n",
        "pred_proba = lr_clf.predict_proba(x_up_test)[:, 1]\n",
        "precision_recall_curve_plot(y_up_test, pred_proba)"
      ],
      "metadata": {
        "colab": {
          "base_uri": "https://localhost:8080/",
          "height": 388
        },
        "id": "AOaMHtIg7H7l",
        "outputId": "914f3541-7d46-49cd-cf4d-d394015322cf"
      },
      "execution_count": 27,
      "outputs": [
        {
          "output_type": "display_data",
          "data": {
            "text/plain": [
              "<Figure size 576x432 with 1 Axes>"
            ],
            "image/png": "[encoded data removed]"
          },
          "metadata": {
            "needs_background": "light"
          }
        }
      ]
    },
    {
      "cell_type": "markdown",
      "source": [
        "ROC 곡선 \n",
        "\n",
        "X축인 FPR을 0부터 1까지 변경하면서 TPR의 변화 값을 구하는 것"
      ],
      "metadata": {
        "id": "aLWnsGmXFjjG"
      }
    },
    {
      "cell_type": "code",
      "source": [
        "from sklearn.metrics import roc_curve\n",
        "fprs, tprs, thresholds = roc_curve(y_up_test, predict_y)\n",
        "thr_index = np.arange(1, thresholds.shape[0], 5)\n",
        "\n",
        "print('샘플 추출을 위한 임곗값 배열의 index:', thr_index)\n",
        "print('샘플 index로 추출한 임곗값: ', np.round(thresholds[thr_index], 2))\n",
        "\n",
        "# 5 step 단위로 추출된 임계값에 따른 FPR, TPR 값\n",
        "print('샘플 임곗값별 FPR: ', np.round(fprs[thr_index], 3))\n",
        "print('샘플 임곗값별 TPR: ', np.round(tprs[thr_index], 3))"
      ],
      "metadata": {
        "colab": {
          "base_uri": "https://localhost:8080/"
        },
        "id": "Py3CrIi8Dci8",
        "outputId": "db4e10f7-df51-432f-d182-a4815fc63c3e"
      },
      "execution_count": 30,
      "outputs": [
        {
          "output_type": "stream",
          "name": "stdout",
          "text": [
            "샘플 추출을 위한 임곗값 배열의 index: [1]\n",
            "샘플 index로 추출한 임곗값:  [1]\n",
            "샘플 임곗값별 FPR:  [0.222]\n",
            "샘플 임곗값별 TPR:  [0.799]\n"
          ]
        }
      ]
    },
    {
      "cell_type": "code",
      "source": [
        "from sklearn.metrics import roc_auc_score\n",
        "pred_proba = lr_clf.predict_proba(x_up_test)[:, 1]\n",
        "roc_score = roc_auc_score(y_up_test, pred_proba)\n",
        "print('ROC AUC 값: {0:.4f}'.format(roc_score))"
      ],
      "metadata": {
        "colab": {
          "base_uri": "https://localhost:8080/"
        },
        "id": "PzXLMKxuG2hu",
        "outputId": "05a8e477-5fc3-4559-c9c9-2dc94e70ca57"
      },
      "execution_count": 31,
      "outputs": [
        {
          "output_type": "stream",
          "name": "stderr",
          "text": [
            "/usr/local/lib/python3.7/dist-packages/sklearn/base.py:451: UserWarning: X does not have valid feature names, but LogisticRegression was fitted with feature names\n",
            "  \"X does not have valid feature names, but\"\n"
          ]
        },
        {
          "output_type": "stream",
          "name": "stdout",
          "text": [
            "ROC AUC 값: 0.8502\n"
          ]
        }
      ]
    },
    {
      "cell_type": "code",
      "source": [
        "def roc_curve_plot(y_up_test , pred_proba_c1):\n",
        "    # 임곗값에 따른 FPR, TPR 값을 반환 받음. \n",
        "    fprs , tprs , thresholds = roc_curve(y_up_test ,pred_proba_c1)\n",
        "\n",
        "    # ROC Curve를 plot 곡선으로 그림. \n",
        "    plt.plot(fprs , tprs, label='ROC')\n",
        "    # 가운데 대각선 직선을 그림. \n",
        "    plt.plot([0, 1], [0, 1], 'k--', label='Random')\n",
        "    \n",
        "    # FPR X 축의 Scale을 0.1 단위로 변경, X,Y 축명 설정등   \n",
        "    start, end = plt.xlim()\n",
        "    plt.xticks(np.round(np.arange(start, end, 0.1),2))\n",
        "    plt.xlim(0,1); plt.ylim(0,1)\n",
        "    plt.xlabel('FPR( 1 - Sensitivity )'); plt.ylabel('TPR( Recall )')\n",
        "    plt.legend()\n",
        "    plt.show()\n",
        "    \n",
        "roc_curve_plot(y_up_test, lr_clf.predict_proba(x_up_test)[:, 1] )"
      ],
      "metadata": {
        "colab": {
          "base_uri": "https://localhost:8080/",
          "height": 340
        },
        "id": "SMMGc9_xG_ZW",
        "outputId": "2a5105d2-6d2d-44d9-b2e5-13ef0420c9c6"
      },
      "execution_count": 33,
      "outputs": [
        {
          "output_type": "stream",
          "name": "stderr",
          "text": [
            "/usr/local/lib/python3.7/dist-packages/sklearn/base.py:451: UserWarning: X does not have valid feature names, but LogisticRegression was fitted with feature names\n",
            "  \"X does not have valid feature names, but\"\n"
          ]
        },
        {
          "output_type": "display_data",
          "data": {
            "text/plain": [
              "<Figure size 432x288 with 1 Axes>"
            ],
            "image/png": "[encoded data removed]"
          },
          "metadata": {
            "needs_background": "light"
          }
        }
      ]
    },
    {
      "cell_type": "code",
      "source": [
        "def get_clf_eval(y_up_test, pred=None, pred_proba=None):\n",
        "    confusion = confusion_matrix( y_up_test, pred)\n",
        "    accuracy = accuracy_score(y_up_test , pred)\n",
        "    precision = precision_score(y_up_test , pred)\n",
        "    recall = recall_score(y_up_test , pred)\n",
        "    f1 = f1_score(y_up_test,pred)\n",
        "    # ROC-AUC 추가 \n",
        "    roc_auc = roc_auc_score(y_up_test, pred_proba)\n",
        "    print('오차 행렬')\n",
        "    print(confusion)\n",
        "    # ROC-AUC print 추가\n",
        "    print('정확도: {0:.4f}, 정밀도: {1:.4f}, 재현율: {2:.4f},\\\n",
        "          F1: {3:.4f}, AUC:{4:.4f}'.format(accuracy, precision, recall, f1, roc_auc))"
      ],
      "metadata": {
        "id": "EtwzOyzHDccz"
      },
      "execution_count": 34,
      "outputs": []
    },
    {
      "cell_type": "markdown",
      "source": [
        "모델 합치기 위한 pkl 파일 생성"
      ],
      "metadata": {
        "id": "AyM9tpSAJpsb"
      }
    },
    {
      "cell_type": "code",
      "source": [
        "import joblib # joblib import\n",
        "\n",
        "# 학습시킨 모델을 현재 경로에 knn_model.pkl 파일로 저장합니다.\n",
        "joblib.dump(lr_clf,'./LR_model.pkl')"
      ],
      "metadata": {
        "colab": {
          "base_uri": "https://localhost:8080/"
        },
        "id": "zeibMqfSI-pp",
        "outputId": "5abf0cbb-1b22-44c7-8916-b4734593f86b"
      },
      "execution_count": 35,
      "outputs": [
        {
          "output_type": "execute_result",
          "data": {
            "text/plain": [
              "['./LR_model.pkl']"
            ]
          },
          "metadata": {},
          "execution_count": 35
        }
      ]
    },
    {
      "cell_type": "code",
      "source": [
        "# 저장된 모델 출력\n",
        "\n",
        "loaded_model = joblib.load('./LR_model.pkl')\n",
        "\n",
        "score = loaded_model.score(x_up_test,y_up_test)\n",
        "print('정확도: {score:.3f}'.format(score=score))"
      ],
      "metadata": {
        "colab": {
          "base_uri": "https://localhost:8080/"
        },
        "id": "M4erAd7NI-m0",
        "outputId": "ad2bd083-e8c9-459d-a9ae-d072fa8f2aac"
      },
      "execution_count": 36,
      "outputs": [
        {
          "output_type": "stream",
          "name": "stdout",
          "text": [
            "정확도: 0.499\n"
          ]
        },
        {
          "output_type": "stream",
          "name": "stderr",
          "text": [
            "/usr/local/lib/python3.7/dist-packages/sklearn/base.py:451: UserWarning: X does not have valid feature names, but LogisticRegression was fitted with feature names\n",
            "  \"X does not have valid feature names, but\"\n"
          ]
        }
      ]
    },
    {
      "cell_type": "markdown",
      "source": [
        "다운로드 받음 ----> Gdrive에 업로드함"
      ],
      "metadata": {
        "id": "Z3sXZS0AMTxd"
      }
    },
    {
      "cell_type": "markdown",
      "source": [
        "# SGDclassifier"
      ],
      "metadata": {
        "id": "DkkYHXY2oWTi"
      }
    },
    {
      "cell_type": "markdown",
      "source": [
        "**전체 Upsampling Data**"
      ],
      "metadata": {
        "id": "rilhhLImp2_O"
      }
    },
    {
      "cell_type": "code",
      "source": [
        "from sklearn.linear_model import SGDClassifier\n",
        "\n",
        "sgd_clf = SGDClassifier()\n",
        "sgd_clf.fit(x_up_train, y_up_train)\n",
        "\n",
        "print(\"train score : {}\".format(sgd_clf.score(x_up_train, y_up_train)))\n",
        "\n",
        "predict_y = sgd_clf.predict(x_up_test)\n",
        "\n",
        "from sklearn.metrics import classification_report\n",
        "print(classification_report(y_up_test, sgd_clf.predict(x_up_test)))\n",
        "print(\"test score : {}\".format(sgd_clf.score(x_up_test, y_up_test)))"
      ],
      "metadata": {
        "colab": {
          "base_uri": "https://localhost:8080/"
        },
        "id": "2iO1SNHygQKO",
        "outputId": "9e5fd519-45c8-43cb-9821-7fbba3744cfd"
      },
      "execution_count": 37,
      "outputs": [
        {
          "output_type": "stream",
          "name": "stdout",
          "text": [
            "train score : 0.7906269436441093\n",
            "              precision    recall  f1-score   support\n",
            "\n",
            "           0       0.80      0.76      0.78    184754\n",
            "           1       0.78      0.81      0.79    185577\n",
            "\n",
            "    accuracy                           0.79    370331\n",
            "   macro avg       0.79      0.79      0.79    370331\n",
            "weighted avg       0.79      0.79      0.79    370331\n",
            "\n",
            "test score : 0.7889941700802795\n"
          ]
        }
      ]
    },
    {
      "cell_type": "code",
      "source": [
        "print(confusion_matrix(y_up_test, predict_y))"
      ],
      "metadata": {
        "id": "vzDUR3FW-0nK",
        "colab": {
          "base_uri": "https://localhost:8080/"
        },
        "outputId": "bc87d3ad-5d71-4774-a259-5578b8d07c13"
      },
      "execution_count": 38,
      "outputs": [
        {
          "output_type": "stream",
          "name": "stdout",
          "text": [
            "[[141159  43595]\n",
            " [ 34547 151030]]\n"
          ]
        }
      ]
    },
    {
      "cell_type": "markdown",
      "source": [
        "# sgd 하이퍼 파라미터 튜닝"
      ],
      "metadata": {
        "id": "yHRe4KDoM6HN"
      }
    },
    {
      "cell_type": "code",
      "source": [
        "# SGDClassifier(alpha=0.0001, average=False, class_weight=None,\n",
        "#               early_stopping=False, epsilon=0.1, eta0=0.0, fit_intercept=True,\n",
        "#               l1_ratio=0.15, learning_rate='optimal', loss='hinge',\n",
        "#               max_iter=1000, n_iter_no_change=5, n_jobs=None, penalty='l2',\n",
        "#               power_t=0.5, random_state=0, shuffle=True, tol=0.001,\n",
        "#               validation_fraction=0.1, verbose=0, warm_start=False)"
      ],
      "metadata": {
        "id": "YrkSjCuJNwIM"
      },
      "execution_count": null,
      "outputs": []
    },
    {
      "cell_type": "code",
      "source": [
        "from sklearn.model_selection import GridSearchCV\n",
        "\n",
        "params = {\n",
        "    \"loss\" : [\"hinge\", \"log\", \"squared_hinge\", \"modified_huber\"],\n",
        "    \"alpha\" : [0.0001, 0.001, 0.01, 0.1],\n",
        "    \"penalty\" : [\"l2\", \"l1\", \"none\"],\n",
        "}\n",
        "\n",
        "sgd_clf = SGDClassifier(max_iter=5000, tol=1e-5)  # max_iter : 최대반복수 (default값 : 1000, Maximum number of iteration reached before convergence. Consider increasing max_iter to improve the fit. 에러로 값 높임  ),   tol : max_iter에 도달하지 않더라도 작업 중단\n",
        "\n",
        "grid_clf = GridSearchCV(sgd_clf, param_grid=params, scoring='accuracy', cv=3 )\n",
        "grid_clf.fit(x_up_train, y_up_train)\n",
        "print('최적 하이퍼 파라미터:{0}, 최적 평균 정확도:{1:.3f}'.format(grid_clf.best_params_,\n",
        "                                                  grid_clf.best_score_))"
      ],
      "metadata": {
        "colab": {
          "base_uri": "https://localhost:8080/"
        },
        "id": "TVJn4fthSVNN",
        "outputId": "52ba3d73-abe7-4d98-f06b-438eba6f4ae6"
      },
      "execution_count": 39,
      "outputs": [
        {
          "output_type": "stream",
          "name": "stdout",
          "text": [
            "최적 하이퍼 파라미터:{'alpha': 0.001, 'loss': 'hinge', 'penalty': 'l2'}, 최적 평균 정확도:0.791\n"
          ]
        }
      ]
    },
    {
      "cell_type": "code",
      "source": [
        "# 평가지표 출력하는 함수 설정\n",
        "def get_clf_eval(y_up_test, y_up_pred):\n",
        "    confusion = confusion_matrix(y_up_test, y_up_pred)\n",
        "    accuracy = accuracy_score(y_up_test, y_up_pred)\n",
        "    precision = precision_score(y_up_test, y_up_pred)\n",
        "    recall = recall_score(y_up_test, y_up_pred)\n",
        "    F1 = f1_score(y_up_test, y_up_pred)\n",
        "    AUC = roc_auc_score(y_up_test, y_up_pred)\n",
        "    \n",
        "    print('오차행렬:\\n', confusion)\n",
        "    print('\\n정확도: {:.4f}'.format(accuracy))\n",
        "    print('정밀도: {:.4f}'.format(precision))\n",
        "    print('재현율: {:.4f}'.format(recall))\n",
        "    print('F1: {:.4f}'.format(F1))\n",
        "    print('AUC: {:.4f}'.format(AUC))"
      ],
      "metadata": {
        "id": "ECXGheHlSYiK"
      },
      "execution_count": 40,
      "outputs": []
    },
    {
      "cell_type": "code",
      "source": [
        "# Precision-Recall Curve Plot 그리기\n",
        "def precision_recall_curve_plot(y_up_test, pred_proba):\n",
        "    # threshold ndarray와 이 threshold에 따른 정밀도, 재현율 ndarray 추출\n",
        "    precisions, recalls, thresholds = precision_recall_curve(y_up_test, pred_proba)\n",
        "    \n",
        "    # x축을 threshold, y축을 정밀도, 재현율로 그래프 그리기\n",
        "    plt.figure(figsize=(8, 6))\n",
        "    thresholds_boundary = thresholds.shape[0]\n",
        "    plt.plot(thresholds, precisions[:thresholds_boundary], linestyle='--', label='precision')\n",
        "    plt.plot(thresholds, recalls[:thresholds_boundary], linestyle=':', label='recall')\n",
        "    \n",
        "    # threshold의 값 X축의 scale을 0.1 단위로 변경\n",
        "    stard, end = plt.xlim()\n",
        "    plt.xticks(np.round(np.arange(stard, end, 0.1), 2))\n",
        "    \n",
        "    plt.xlim()\n",
        "    plt.xlabel('thresholds')\n",
        "    plt.ylabel('precision & recall value')\n",
        "    plt.legend()\n",
        "    plt.grid()"
      ],
      "metadata": {
        "id": "FGzQJpNfSaR9"
      },
      "execution_count": 41,
      "outputs": []
    },
    {
      "cell_type": "code",
      "source": [
        "# 피쳐 데이터 세트 X, 레이블 데이터 세트 y 를 추출\n",
        "x = df2.drop(['Dis'], axis=1) # df[df.columns.difference(['target'])]\n",
        "y = np.array(df2['Dis']) # y = df['target']\n",
        "\n",
        "# 데이터를 훈련과 테스트 데이터 셋으로 분리\n",
        "x_up_train, x_up_test, y_up_train, y_up_test = train_test_split(x, y, test_size = 0.2, random_state = 42, stratify=y)\n",
        "\n",
        "# 로지스틱 회귀로 학습, 예측 및 평가 수행 (그리드 서치로 찾은 최적의 하이퍼 파라미터로 진행)\n",
        "# 최적 하이퍼 파라미터:{'alpha': 0.001, 'loss': 'hinge', 'penalty': 'l2'}\n",
        "sgd_clf = SGDClassifier(alpha = 0.01, penalty = 'l2', loss = 'hinge', class_weight='balanced') \n",
        "\n",
        "sgd_clf.fit(x_up_train, y_up_train)\n",
        "\n",
        "from sklearn.calibration import CalibratedClassifierCV\n",
        "\n",
        "calibrator = CalibratedClassifierCV(sgd_clf, cv='prefit')\n",
        "model=calibrator.fit(x_up_train, y_up_train)\n",
        "\n",
        "y_train_pred = model.predict_proba(x_up_train)\n",
        "\n",
        "pred = sgd_clf.predict(x_up_test)\n",
        "get_clf_eval(y_up_test, pred)"
      ],
      "metadata": {
        "colab": {
          "base_uri": "https://localhost:8080/"
        },
        "id": "4IkBKxg0SfQ4",
        "outputId": "b4a96ce7-0635-4b38-c24a-3d8eacb87911"
      },
      "execution_count": 49,
      "outputs": [
        {
          "output_type": "stream",
          "name": "stdout",
          "text": [
            "오차행렬:\n",
            " [[113952  34181]\n",
            " [ 28868 119264]]\n",
            "\n",
            "정확도: 0.7872\n",
            "정밀도: 0.7772\n",
            "재현율: 0.8051\n",
            "F1: 0.7909\n",
            "AUC: 0.7872\n"
          ]
        }
      ]
    },
    {
      "cell_type": "code",
      "source": [
        "# 임계값별로 정밀도-재현율 출력\n",
        "decision_function = model.predict_proba(x_up_test)[:, 1]\n",
        "precision_recall_curve_plot(y_up_test, decision_function)"
      ],
      "metadata": {
        "colab": {
          "base_uri": "https://localhost:8080/",
          "height": 388
        },
        "id": "Qu52AOdQSiRX",
        "outputId": "86108c3e-6dc9-4782-9ebc-16c953334785"
      },
      "execution_count": 51,
      "outputs": [
        {
          "output_type": "display_data",
          "data": {
            "text/plain": [
              "<Figure size 576x432 with 1 Axes>"
            ],
            "image/png": "[encoded data removed]"
          },
          "metadata": {
            "needs_background": "light"
          }
        }
      ]
    },
    {
      "cell_type": "code",
      "source": [
        "from sklearn.metrics import roc_curve\n",
        "fprs, tprs, thresholds = roc_curve(y_up_test, predict_y)\n",
        "thr_index = np.arange(1, thresholds.shape[0], 5)\n",
        "\n",
        "print('샘플 추출을 위한 임곗값 배열의 index:', thr_index)\n",
        "print('샘플 index로 추출한 임곗값: ', np.round(thresholds[thr_index], 2))\n",
        "\n",
        "# 5 step 단위로 추출된 임계값에 따른 FPR, TPR 값\n",
        "print('샘플 임곗값별 FPR: ', np.round(fprs[thr_index], 3))\n",
        "print('샘플 임곗값별 TPR: ', np.round(tprs[thr_index], 3))"
      ],
      "metadata": {
        "colab": {
          "base_uri": "https://localhost:8080/"
        },
        "id": "HtRdDDFTSiON",
        "outputId": "e46e3067-58b8-4be9-c8d1-eed39cbc8fd0"
      },
      "execution_count": 57,
      "outputs": [
        {
          "output_type": "stream",
          "name": "stdout",
          "text": [
            "샘플 추출을 위한 임곗값 배열의 index: [1]\n",
            "샘플 index로 추출한 임곗값:  [1]\n",
            "샘플 임곗값별 FPR:  [0.236]\n",
            "샘플 임곗값별 TPR:  [0.814]\n"
          ]
        }
      ]
    },
    {
      "cell_type": "code",
      "source": [
        "from sklearn.metrics import roc_auc_score\n",
        "pred_proba = model.predict_proba(x_up_test)[:, 1]\n",
        "roc_score = roc_auc_score(y_up_test, pred_proba)\n",
        "print('ROC AUC 값: {0:.4f}'.format(roc_score))"
      ],
      "metadata": {
        "colab": {
          "base_uri": "https://localhost:8080/"
        },
        "id": "kaQH127nSiKo",
        "outputId": "910bd4cc-3f83-4a10-851d-7b3f5637e83e"
      },
      "execution_count": 60,
      "outputs": [
        {
          "output_type": "stream",
          "name": "stderr",
          "text": [
            "/usr/local/lib/python3.7/dist-packages/sklearn/base.py:451: UserWarning: X does not have valid feature names, but SGDClassifier was fitted with feature names\n",
            "  \"X does not have valid feature names, but\"\n"
          ]
        },
        {
          "output_type": "stream",
          "name": "stdout",
          "text": [
            "ROC AUC 값: 0.8384\n"
          ]
        }
      ]
    },
    {
      "cell_type": "code",
      "source": [
        "def roc_curve_plot(y_up_test , pred_proba_c1):\n",
        "    # 임곗값에 따른 FPR, TPR 값을 반환 받음. \n",
        "    fprs , tprs , thresholds = roc_curve(y_up_test ,pred_proba_c1)\n",
        "\n",
        "    # ROC Curve를 plot 곡선으로 그림. \n",
        "    plt.plot(fprs , tprs, label='ROC')\n",
        "    # 가운데 대각선 직선을 그림. \n",
        "    plt.plot([0, 1], [0, 1], 'k--', label='Random')\n",
        "    \n",
        "    # FPR X 축의 Scale을 0.1 단위로 변경, X,Y 축명 설정등   \n",
        "    start, end = plt.xlim()\n",
        "    plt.xticks(np.round(np.arange(start, end, 0.1),2))\n",
        "    plt.xlim(0,1); plt.ylim(0,1)\n",
        "    plt.xlabel('FPR( 1 - Sensitivity )'); plt.ylabel('TPR( Recall )')\n",
        "    plt.legend()\n",
        "    plt.show()\n",
        "    \n",
        "roc_curve_plot(y_up_test, lr_clf.predict_proba(x_up_test)[:, 1] )"
      ],
      "metadata": {
        "colab": {
          "base_uri": "https://localhost:8080/",
          "height": 340
        },
        "id": "IWtfOLaJSx5U",
        "outputId": "43a942bc-465b-43ba-c92d-205ac9e3e79b"
      },
      "execution_count": 61,
      "outputs": [
        {
          "output_type": "stream",
          "name": "stderr",
          "text": [
            "/usr/local/lib/python3.7/dist-packages/sklearn/base.py:451: UserWarning: X does not have valid feature names, but LogisticRegression was fitted with feature names\n",
            "  \"X does not have valid feature names, but\"\n"
          ]
        },
        {
          "output_type": "display_data",
          "data": {
            "text/plain": [
              "<Figure size 432x288 with 1 Axes>"
            ],
            "image/png": "[encoded data removed]"
          },
          "metadata": {
            "needs_background": "light"
          }
        }
      ]
    },
    {
      "cell_type": "markdown",
      "source": [
        "모델 합치기 위한 pkl 파일 생성"
      ],
      "metadata": {
        "id": "zjjOelT9S3QQ"
      }
    },
    {
      "cell_type": "code",
      "source": [
        "import joblib # joblib import\n",
        "\n",
        "# 학습시킨 모델을 현재 경로에 knn_model.pkl 파일로 저장합니다.\n",
        "joblib.dump(model,'./sgd_model.pkl')"
      ],
      "metadata": {
        "colab": {
          "base_uri": "https://localhost:8080/"
        },
        "id": "FJzBkdmYSx21",
        "outputId": "31818abf-fc7e-4e71-cac8-b7251a38a49c"
      },
      "execution_count": 64,
      "outputs": [
        {
          "output_type": "execute_result",
          "data": {
            "text/plain": [
              "['./sgd_model.pkl']"
            ]
          },
          "metadata": {},
          "execution_count": 64
        }
      ]
    },
    {
      "cell_type": "code",
      "source": [
        "# 저장된 모델 출력\n",
        "\n",
        "loaded_model = joblib.load('./sgd_model.pkl')\n",
        "\n",
        "score = loaded_model.score(x_up_test,y_up_test)\n",
        "print('정확도: {score:.3f}'.format(score=score))"
      ],
      "metadata": {
        "colab": {
          "base_uri": "https://localhost:8080/"
        },
        "id": "4FItlLGcS1Sq",
        "outputId": "8e98cdbb-2da8-4b7c-ea98-667790614ca9"
      },
      "execution_count": 65,
      "outputs": [
        {
          "output_type": "stream",
          "name": "stdout",
          "text": [
            "정확도: 0.499\n"
          ]
        },
        {
          "output_type": "stream",
          "name": "stderr",
          "text": [
            "/usr/local/lib/python3.7/dist-packages/sklearn/base.py:451: UserWarning: X does not have valid feature names, but SGDClassifier was fitted with feature names\n",
            "  \"X does not have valid feature names, but\"\n"
          ]
        }
      ]
    },
    {
      "cell_type": "markdown",
      "source": [
        "Logistic regression 값 : 0.8502"
      ],
      "metadata": {
        "id": "djKRwQpM4Xj_"
      }
    },
    {
      "cell_type": "markdown",
      "source": [
        "![image.png](data:image/png;base64,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)"
      ],
      "metadata": {
        "id": "yd0-qJBf4XVU"
      }
    },
    {
      "cell_type": "markdown",
      "source": [
        "SGD 값 : 0.8384"
      ],
      "metadata": {
        "id": "x2sK2he74Vpb"
      }
    },
    {
      "cell_type": "markdown",
      "source": [
        "![image.png](data:image/png;base64,iVBORw0KGgoAAAANSUhEUgAABwAAAAEQCAYAAAC3EWC+AAAgAElEQVR4nO3dPY8kx5kg4ORc4wQuhIF0kCBAAwqQtPoB5yzaLo9t0aUMOe1wbS3WbuC8hWSvnHZkiC6tptc/4H6CeJQsDnBY4rQYSSdQ4GnOGNSoJic/IjIjMiMinwdozHRVVNSb8ZFZlW9H5jvX19cvOwAAAAAAAKAJT/YOAAAAAAAAAEhHAhAAAAAAAAAaIgEIAAAAAAAADZEABAAAAAAAgIZIAAIAAAAAAEBDJAABAAAAAACgIRKAAAAAAAAA0BAJQAAAAAAAAGiIBCAAAAAAAAA0RAIQAAAAAAAAGiIBCAAAAAAAAA2RAAQAAAAAAICGSAACAAAAAABAQyQAAQAAAAAAoCESgAAAAAAAANAQCUAAAAAAAABoiAQgAAAAAAAANEQCEAAAAAAAABoiAQgAAAAAAAANkQAEAAAAAACAhkgAAgAAAAAAQEOuUlb2/PnzlNUBAAAAAAAAkawABAAAAAAAgIZIAAIAAAAAAEBDJAABAAAAAACgIRKAAAAAAAAA0BAJQAAAAAAAAGiIBCAAAAAAAAA0RAIQAAAAAAAAGiIBCAAAAAAAAA2RAAQAAAAAAICGSAACAAAAAABAQyQAAQAAAAAAoCESgAAAAAAAANAQCUAAAAAAAABoiAQgAAAAAAAANEQCEAAAAAAAABoiAQgAAAAAAAANkQAEAAAAAACAhkgAAgAAAAAAQEMkAAEAAAAAAKAhV6EF/+Of/qF78eP/2v344/9MGsCnn376xu/vv/9+0vpLeU8AAAAAAADYQlAC8D/+6R+6zz/8VveN//P/sgQxl4CLTdhdlh8qe/lYv+5S3d3ddXd3d8nq+/ijX7/+/4e/+lmyemvw8PDQ3dzcbPY69lVbv3380a8PNycBAAAAAEhrNgF4mfz77//jf28R0xs+/fTTt5J4Q4+NPTdV9qgkGChNbUk64tnvAAAAAABsZ/IegCUm/7ru1Qq+oZV7Q+XHytYi9co/AAAAAAAA2jaaANw7+TfnKKv6JABhndpWFlolBwAAAADAWoMJwNKTf0OmLvVZ+ypAAAAAAAAACPXWPQBrTP4x7+OPfj36+9iKo/M9u/qvHSofWuayvn7da1c+PTw8vPF7zMqvVPegi4khtuzNzc3sa0LLxejX2a9/qO7Q978sN1fnUCxz5S9fMyVXvy0xda+8mDkUM38vXxNTNqT+y+dTzveuixsPJfRxaJxz439JvUvk3J/FlM3RxwAAAADQuqsX//iN7un/+qrrunKTf/3Ve0e5/GdKQ4mBECFlh8qMve7y8X6ZmLj6hk6Mhyb1Uib/QmNYEu+a7Vm7jZev79c19/vU+4/VGRpLCrn7LbWYObR0bs6VDX2+67rRWFMJTfDu3cct11vCvq+EuQkAAAAAJXny+Yff6l784zeKTv69//77b/y4nOd2liT/zq/rrwwKqW+JqeRSf0VI6GtzxrA03tA4c5zwXpucC+mL1LGE2KLfUouZQ6FzM3YeL4kllyWJofPrturjlustYd9XytwEAAAAgJI8+eq//Zfu8w+/VWTyr+uGV/tJAnJp6iRvihV1qVmRUod+Py0dZ7RhTR/Xtp9JNdbNCwAAAADYz9WPP/7PYpN/ECrkvnSXciT/YleatLoypdXt6rr4cQaXapobtY31mtoWAAAAALZw9d3/+X+7ruu6879Qq/596PqP9cumTgLG1DV1f6zalZ4oWCtmnMFZjXO+prFealwAAAAAsJcnXddG8m/qsqDn+whyHDc3N0H3ldrj5Ptelx4lvZBxBi3MeWMdAAAAAOryZO8AYK01J6S3OKHthPkrtbVDP97a4iet2vp/TbyptrWENishBgAAAADYQ9EJwLFVfWMr+obKW/2X14e/+ln38Ue/fuvxjz/6dffhr362SQxjSbzQVTcpkoAxMUyV3Uuq917bF1tL1W8lblvXdcFzs4R5nEsJfRwz51OVzRXvmjYrIV4AAAAAOIqrvQOYM5TUm0ro9ctL/uU3lDzYOmkwdAI45sRvinsCxsQwVbb2k9ZL+qL/mi23P1W/lShmbuaex/36t9xHlNDHMXN+rGxoEjB3vFuVjVHb3AQAAACA3N65vr5+maqy58+fR78mJrmXyh7vCbClFlbvAQAAAACwzO4rAPdIvkn4AbBGyGVzS1qBVlu8AAAAAMA6oysAnz171n311Vfdl19+GVzZkhWAAAAAAAAAQDpXXdd1T58+7Z49ezZY4Lvf/e7r/3/99dfd73//++7rr7/eJjoAAAAAAAAgylXXdd2LFy+6Fy9evH7wyZMn3Q9+8IPuT3/6U9QKQAAAAAAAAGBfT4Ye/OY3v9m9++673be//e3u6mr32wQCAAAAAAAAgd5KAH7nO9/pvve973WfffZZ94c//KH70Y9+1L377rt7xAYAAAAAAABEer2879133+3ee++97q9//Wv3+eefd3/729+6L7/8svvzn//cvffee93Lly/d/w8AAAAAAAAKd3V1ddX98Ic/7Lqu6373u9+9leD7y1/+0v32t7/tnj592v3kJz/pXrx40X3xxRd7xAoAAAAAAADMuPr666+7zz777K0nnj171v3xj3/sXrx40XVd17148eL1/wEAAAAAAIAyvXUPQAAAAAAAAKBeEoAAAAAAAADQkKtnz551T58+HXzy6dOn3bNnz956/IsvvnA5UABY4fHxsTudTnuHwQR9BAAAAECt3rm+vn6ZqrLnz5+nqgoAmiWxVI8lffX4+PjG7zX3dUvbAgAAAHAkLgFauLu7uzd+WvXw8LB3CKvUHn9pUrbnUfpmbjuP0g5rbNVGkn91OZ1ObyXBQl93/indv3/yb6PP1bQdAAAAAPzd1d4BMG4o6dd6IhCox8PDQ3dzc7N3GFSohLFTQgwAAAAAkIsVgIUaS/RJAALUy+q/Oi1dBVi6f//k3yZX/wEAAABQLwlAgAOw0gnKtGdi8Z8/+Nfunz/4193eHwAAAIB8JAABYANW/9Wt1VWAAAAAALTJPQALlfoyn+d7HT08PLzx+NSqoJjXxNYbWjZErduWuh1y6bdVv92O0ma1jrN+LHNlQuq9LDc3FkLV2r659mdLn1/yuv5zS/oiJo6h/4eMtbkY9hy/a0gKAwAAAJCDBGBl1twDcOgEcIqTzTH1jpVdq+RtW1s2VEg7Lq3/MraxZMHY72OPTZWdi2Gu3lxKHmdrxcQwNha2jCH0+dh6957H58Rb6Pvlkmu+xYydXH2Ra/wCAAAAQElcArQia5J/XTec/Bla5TH3mktTJ1j79c6djF1j722LiSG23lA3NzezP2vqDpFrPORqs1h7j7Ncc0j7xseQs81i3i+XvcdDqnmx5fgFAAAAgJJIAFbgnPhLfVlQ9mHFCTUxXoflbpfL5JWVatOmEn3aDQAAAICjcgnQwtWQ+LPCYhntFqfl9mp521qXs++mLgd6BDFt208CHrXNAAAAAOBMArBgNST/us6J1iWm7mO1ps45NfdVzbHPaXnbWpZjHvN3sfOify/SJXUAAAAAQCskAGFjuVb0ONEN21kyj0+nU/f4+NidTqeo9zjyKsClzu2Vsu1i+q6EegEAAAA4NvcALFQtq/+mWAXDFloeZyVsWwkxHNFl4mrqHndH1G8LbQMAAAAAb5MAPJChk6RrV0eMnZgeqneq7Fp7b1tMDDnbYW+5xkNsXyw11wd7j7NcY2er9p2zd/vGxLC0L86rAKfEvF+o2Hj3Hg+p5kXpq/+6rouqd27sAAAAAMCZS4AWbGoF4JLVgUMnSVOcHI2pd6xsjgRGKdsWW7b2y/3lGg+5+jhGyeNsjznUf83atii5fWPLLp3HU69beznQkuZbyNjJ1W8xMQAAAABArd65vr5+maqy58+fp6qKxGpPKk1pedsoh3GW19Hat+T7vh2tL+Ys6av+Sr1Ufb3HuMm1LQAAAADkZQUgRQpZzeQENZTNPB53vhTommRKCe1bQgw5Le2jHEmyvZLGEn4AAAAAdbICEAAAAAAAABryZO8AAAAAAAAAgHQkAAEAAAAAAKAhEoAAAAAAAADQEAlAAAAAAAAAaIgEIAAAAAAAADREAhAAAAAAAAAaIgEIAAAAAAAADZEABAAAAAAAgIZIAAKw2uPj494hABHMWQAAAIC2SQACsMrj42N3Op32DgOIcDqdJAEBAAAAGna1dwBMu7u7m/wdYE+Sf5Ts4eGhu7m52TuMxXLHf04CmsMAAAAA7ZEALNjd3d1gAlASEKAcJSSZSogBAAAAACiHS4AWaizRJwEIlMLKIaifS4ECAAAAtEkCEAAAAAAAABoiAVgoq/yAkln9B+2wChAAAACgPe4BWJm1lwA93yfq4eHhjceH7h0VUmZJ2Ri5Yogtm6PNStDieJi6F9rYc8ZvfL0h5u5Lt/S+dTF9HLP9S+IY+v9UbKExhJaNjSG1Je1by36n1m2r7TgEAAAAQB4SgIXrJ/tSrAwMOek+VGYqeRJadm2cKWJYEm/qNgvVP5E7JHeSZqxMyeOhtnpbHb+lyLVt59fvOYdiYsilhDE5Vnatkrdty/0vAAAAAPVxCdDCnVf8Xf6steTE5Pl1/ROqMWVj5Iphabwp2yzGzc3N7M9arY2H2uptffyOvX7LpESObYtRwhzKae8xOZccXWPvbYuJocaxAwAAAEA+EoCVSZUE3MKak69TJyxj6rXqoRxrx8PWjF/2kGrscDzGBwAAAACXXAKUYvVPhJd+ctMKi/xqamPj95VzO1xu/xEvSRjTvrWNnVxqmu8l0W4AAAAAdJ0EIIXrJw36j5UkR1xb3AOwFlP3vCrV0ccvfxfbvjWNnVyOtr0p1LifBAAAACAPCcBC1XSpz62cT2oeafXQUbZzTgt93tr4PZ1O3ePjY3c6nWbLXq4CbGX7t9Ta2CGPNeMjdC4DAAAAUA/3ACSbNSsOUq1WKGHVQwkxlKC2djB+y4mhZf321d7ztBEAAAAAzJMALNTYCsAtVgb27z91NrS6IKZsCTGUEG9tSm/fXGWN3/l6z6sAY94jxXyI6eOxx7ecmyX0cV9ov4XYe0zGjocYe29bTAxL28HqPwAAAIA2uQRowYaSfVtdFnToROLYCc+YsiXEUEK8tSm9ffsnw8fKhiYBjd909eZSQh+P1T9Ud+4+DokhlxLGZMx4yBVDrnpTlW3hD1IAAAAACPfO9fX1y1SVPX/+PFVVAFQiZAXRXskHSY9hqVZ9tdy+LW/bmdV/AAAAAO2yApDNhKzEaP1kK39X23ioLd4tnS8F2k8kxKxIK6F9S4hhC0dO+hylj0MceRwAAAAAHIEVgAAAAAAAANCQJ3sHAAAAAAAAAKQjAQgAAAAAAAANkQAEAAAAAACAhkgAAgAAAAAAQEMkAAEAAAAAAKAhEoAAAAAAAADQEAlAAAAAAAAAaIgEIAAAAAAAADREAhAAAAAAAAAaIgFIsx4fH/cOAWBz9n3li+kj/QkAAADAEhKANOnx8bE7nU57h0EGn/z8p3uH8IZPfv7T4mLK6WjbWxv7vjqcTqfgxF5MWQAAAAA4u9o7AOLc3d11d3d3e4cx6vHxF93p9C87xxB+AvyTn/+0++CXvxl9bszYa/qvmyo39B5z5WPMbdvcNgw9nzreuURSyvbIYa4dz2XOStietTGffw+pZ8l7L/H4+IvX/997/7Mnyb+6nBN7IX0WUxYAAAAAuk4CsColJ/5y2jOpGJtA6z8em4TLlSBJIUe8IYmoUtsjRMx42CqekDI1tXkJf3SQS8vbBgAAAADk5RKgNGWrFRIf/PI3byVThhInQ+XGyk6Vj3WuP9WlGnPH26KY8QBrWR1WJ5cCBQAAACAXCcBKlH7pzzOrVUgl1Uq02hJuueKtbWUfAAAAAADLSQDSjCUrYFIlRKaSK/1VX3OJmNKSNCXG+8nPf/r6p0Qx4+FIShvbrbD6r25WAQIAAACQg3sAViDF6r/zvaQeH3/xxuNTK/bWvCZFnZdlLv9vleG0y+TTOdlUW+IlZdKxtm3PEe9cew5dzjZnPGv19x8h+4fU+75+mX75uX1aaKyp930PDw/dzc1N9/Dw8MbjNzc3g2XnyiwpGyNXDLFlc7QZAAAAAOQkAXggQ8m50ITdHnGcf88Rw1o1JtVqoW23d9neNbT/UCJuSq5932WZfvm536feI/e+75zQii0z9rqYsmvjTBHDknhTtxkAAAAA5OYSoIVLee+/sRPN/VUpc6/JEUepLi81eflTeoKkRjW1bW2x5ojzvLq09MuZTiXZ1u77QvdlS2PIZUki6/y6/gq3mLIxcsWwNN6UbQYAAAAAW7ACECaMJU5KTf4MxVXqZUD7iaPS4ptyjrXEdt3Kkbc9Vk1/9JDSmpVv58TZWFJtixgAAAAAoGYSgAVLufqPtEpNqnXd24m1Ui1tuxLbvFSljtGj2mO1X836q+dKT+ZZ6QcAAABASSQAoTFDCZ+Sk4JjSaqhxyW0qNXYZUAlBaddJv3OCbZSE4GlxgUAAADAMbkHYKHOK//OqwAvVwNaGTjsdDp1j4+Pu7z3eUXgkH7SaqrsuXxJaou3b4/4YsbD0PMpnOvp37/y8jG2MZb8S2XPfd+Wbm5umryn3uPjY3c6nZKXBQAAAODYrAAs1FiCT/KPMVOJpZIvWdp15ScRa1Tb/Stpz9g9/HK/Nkc9tccAAAAAwPFYAXggQ5eay70yZWulrQIcS7aMrRDbKjkTu0Itd7wf/PI3b/2ksleyK2Y89F8XquXEaapVXqfTv+y+75uKId17pNv3ja2yG0pkxZQtIYYS4r1k9R8AAAAAuVgBeCBDJ6FrSP714y455n7SZyqZM5Qg2jJZNZbUm1tFGFI2h3PyrKYVbDHjgXxK2PdNxTCWjNxz3zeU0BpLZMWULSGGEuIFAAAAgNzeub6+fpmqsufPn6eqisRaW+k3x0qJeowl9C4f75cpJQlYShx7OPK2l8y+rx5W/wEAAACQkwTgQRwtAdh1TpjWZGwl4vnxsQTh2HNbKiWOrRxte2tU6r4v5LKuR1kxJ/kHAAAAQG4SgAAAAAAAANCQJ3sHAAAAAAAAAKQjAQgAAAAAAAANkQAEAAAAAACAhkgAAgAAAAAAQEMkAAEAAAAAAKAhEoAAAAAAAADQEAlAAAAAAAAAaIgEIAAAAAAAADREAhAAAAAAAAAaIgEIAAAAAAAADZEABAAAAAAAgIZIAAIAAAAAAEBDJAABAAAAAACgIRKAAAAAAAAA0BAJQAAAAAAAAGiIBCAAAAAAAAA0RAIQAAAAAAAAGiIBCAAAAAAAAA2RAAQAAAAAAICGXKWs7Pvf/37K6gAAAAAAAIBIVgACAAAAAABAQyQAAQAAAAAAoCESgAAAAAAAANAQCUAAAAAAAABoiAQgAAAAAAAANEQCEAAAAAAAABoiAQgAAAAAAAANkQAEAAAAAACAhkgAAgAAAAAAQEMkAAEAAAAAAKAhEoAAAAAAAADQEAlAAAAAAAAAaIgEIAAAAAAAADREAhAAAAAAAAAaIgG4s/v7+71DiFJbvLnU1g61xcsr+o0tGGd5aV8AAAAA9iABCAAAAAAAAA2RANzR/f19d3t7u3cYwebirW2Vw9J4U7bDVNlU7VniOCtprNzf37/xk7q+pfXH9NtcvSW1d8mO2E5r9w9r9qNH0G/fo2x3acbafem+eo9+LDGmKf145n4vTenxxdhj7LTUfjXQ3uul+v6W43VjdaX67gJL1Dr2lnzmmyq79Dv/kvI1id2nttoOtTlKX+wVe8pzvFvwWaMtV3sHALSnxKTjkKE418beUpJ8Si19DBzb3H7XfgzYg89RLFXC2CkhBtqXepyN1Rfz+NBjMXXG1HsER93uEuXqi9g/bDceymgHMbTHCsCd1DaQa4s3l9raobZ4tzTWNre3t7sn6vQbWzDO8tK+7fEXkNRo6nON/RQARzB1vBs6Tq49VzBWruRzEAC0SwIQduSky3HseZLNOANaketSyiFub2+j63Myp04lHDdTjp2Yk5vANPMGYFqu/aT9bzn0RTxtxp4kAHdQ2xfu2uLNpbZ2qC3erZXaNvqNLRhneWlfAACoQ/+e3VOf40M/4/f/+CZVvQAQyz0ACxJ7nfDz45fm7j829BfAW37QiI03R9mShJwkTr1tMeNgLr7+8/0PuFN198tMlYspu3acl37ifsl2pRxnsX0cYkmfbbV/mNsvr4kh1X49tGyMXG2WK4Ycx8Kcx8wSxnpNx5YlcZayL98zhr3nUKyS5nHoGF1y7DyX2/pE4OV7ppwfJeyjcu2n1/bxXLlUn6NiYwgtu2RfnevYsmcMsTHliGFoBe9c3bm+Z4XEsPS8RszniJB4Y+SY8/06+/WX+j0gxtp9ydwcTrWfTH3sK1FJx9iY79AxfZx6/5v6M23uY1YJx5bLsqGxxuz39jq+hVrzPTZlm/XLTJUL5bPGsnhj7PlZQwJwY6m/cMdMgCXvv1e8ucoutdeHxaXbtvSDx9ptPL9+aYyp+ji27qFtSCm0bVN8YEwV31gsMX2cK4at9g8px1hov22xbTn3D6nGRe52WLM9a+suYaznOgZscTxObWgulhxvqL3n0NSJttD323Meh1izHSmO3UukPgFawvEt535nbR+38DkqVwy5lBzDGpf17fk9K9f4nXvfuTIlz/nLx/tl5n4PrXeubC4lnFOIrfdyLrbwee+spmNs7P4sRs7Pk6nimXu+lb6ImccxZXOdh1kqZbvlaofY988Rg88a8XWn/qzhEqCVmpooUzu0vT7kxMSbq2yNcm1baL1T75Xy4DL1fkv6OCau29vbN35KHTdzB8cc9a5pi/v7+9mf/vuFxLDV/mFqfKeKIVe9a/stR5vliiH3sTDHMXPvsZ7zuFnCsSW2jv4xoOTjQKiS5tDle8T2ecnzOLTeXMfuEpRwfMv9PWBtH2+5L8nRZjHzNlc7lBBDjBLmfElzKNaSE3Ln15U650P7vsZ+KyGGWP3PeyGxzn2P3Vutx9jUnCNtX67zMDXaezzUPH6P+llDAnBDqU6Odl265MeUlPGm0o9ni/hKbIcptcVbmr0OQnv1W659ydBJ9f7P0npTmKpnri9KmF9L+y1k23LUm0sJfXEp9XE+pmzuzwQtGmub2r9M1zYeSoyJOtQ21kvQcru0vG25aLN4JbSZfV8al4nAkHJrvsPmlOs7g3GWl+96HIUxGi9Hm7kEaMX6B4EjT6qaT9SV7jzOQv7ClrfV0FY17ktyzfmY/soRQ0ydufottt4cYzy2bVs+BoRuW0y/ldBeuY4tNexzt1DbeOi6cuJo2eVqzJLnSQnHwtbFHltC9tW55nDs8cK+pO3PUaXE2ur3gCOq4bgYIsd3htrG2d77h8uxNPZvX45+a1mNfdwqnzXySxmHBOBGcu0I+l+E+o8tVdOOK+eX0Jraoevqi5dXSui3XPuSHHLO+dAPbrliiG3zmH6LGWcx9eb4sBtT19YnImPjyFFnyF+ATvVbqXObtGoaD6XM45ZdtnHpJylyHgsp5zNMDvYlr9T4OSpUy+PMvi+fko95KeT6zhBbdm+lxjUmZ7+16mjbWzKfNfJK3WYuAdqQ8yUJSp1AObT+Qa4Ul+OqlTY/0jyJVfK+ZIvxN7ftsYm0obpytG2ufgupd6/x0sr+aMjabSt5Hp8tObbMzc3zv5c/l49trZT232M89JNMY0mnlufxmmNAKWOnNjXs+/a0ZL6V8D0gJIaW9yW5aLN4pbaZfV86qdqxP1ZCvmOmeJ9YMWPHOEvnCN/1oOvKPW6WLEebSQBuINeqgFxKnpxbHtxKbochtcXLK3v321E/MM5td8oP0+e6Ln9i+7wfy5LLLaxNrszZ4gtIqeO1lXlcavuGOn8R7v9cPnep9u0dYzyUJcUxYK2h96zxpNHaYyH70E/laLkvjrRtLW9r6Wpv+5j4a9/WSyX+AVyMlvoil9r7uCUtj9eat00CsCAxfyU8VbbEnU5MvKnKtiBXHy+pd6+DWq6xvqbePcZXrrFeyr4kx5xfu21jr1/SF0MJiTXxljgvpl6fK4YajwF7j/Wc+74tji0p90tb7P9S1jPW/qF/Yb7lviRGjfM4VsgxYOg1KUz15Zp9dgn7qNLHb23fyUJel+IzzFJrYthK6TFs9Tmq5e8tJWxbKd9j9x5nMWI+R42VjxlnY2VzjOESjsclaCnemLIlblsuJRzfeKWEvijheJxLjm1zD8DMYgfIUCfHnIROkRjKNaBj4k1Vdun2lHIgDW2HVOMslX79a+vOFW/udpiTc/8QY0k77NnHMXN+bR+PnWwKjSHn3Cx1/zB3gi51DDmOATH26uM1Y73VfeoSNcU89XkwpOzW4yHG3vM4l5pjD5Hre0tL4zf0NVvGnGu+ld4XW83HXJ/XU8QQWzY0iRFzHNrje0tqJcyh0tshtOzUeNji++ZUvaHvH1PnWBw5v0uX+J0hl5biTX1eYy8x83jNsSWkvrHHSrPnZ8QYPmvklfqzxjvX19cvk0XHW2r74l9bvLnU1g4x8daeFG2JNn2l9XYY2r4tt7n19t2b9n3FsQWG7X0MAIAzxx8AOB4JQDiY2GThmS8K5HKEL6J7//UQ5ObYAuMcAwDY2xG+cwEAb5MABAAAAAAAgIY82TsAAAAAAAAAIB0JQAAAAAAAAGiIBCAAAAAAAAA0RAIQAAAAAAAAGiIBCAAAAAAAAA2RAAQAAAAAAICGSAACAAAAAABAQyQAAQAAAAAAoCESgJW7v7+f/H3ssZjnl8hRJ+O093oxbbi0vVP20/39/esf2ENJYy/kWAgAAAAARyIBCDtxgpql7u/vu9vb29c/e8UAuRlnAAAAALCMBOAB3N7ejp5EPScSAAAAAAAAaIME4EEMJQEl/2AZ8wYAAAAAgJJJAFaun4iQmADgaBwLAQAAAOBNV3sHwHbOqwAv/02hv7Jwqt4Syoa6bKuQupeUu/x/qphDYggtOzdOhp5P3YWLzwsAAAXLSURBVBclxBAbU44YhlbwztWdYw6Fjt+pNhp7LmbO1TLn+3X261+7bbnHeoi1+5K5OZx6PwkAAAAARyABeDA5kn9zyZe5sqEni1OUjRVad0wM58dSX4K1hDbL2RctxLDGZX2hCcgc4yHX+J1737kyJc/5y8f7ZeZ+D613rmwuuWLIPc4AAAAAoHUuAcpicwmC0LKh9yZcW3aJkBPPuWMIlaPNprYhJHExV0eIEmKIETMv9ohh6zkUa0ny7/y6Uud8aN/X2G8lxAAAAAAAvE0CkKpNnWi2amRYy+3S8rblos3ildBm9n0AAAAAwBSXAD2YHPcAzCFm9UjIPbV4W2gbD42XqUsS5hATQ844ahLbBjW1WSmx5ojDvg8AAAAASEEC8EAuEyalJwFj4+onhpbUcSS5EngltPnWyclSxfRFbW3W8jiz7wMAAAAAUnAJUJpze3vrHlQTliR+L9tzr8RxSAwlJ7VLpc3ildpm9n0AAAAAwJkE4EEMnbCu8URxP97a4j8q/VSOlvviSNvW8rYCAAAAAOtJAB7A1GqVNUnAsdcOPTZVNjQxubZsLiXEECOm34ZeFzuWUrbDmhi2UnoMMXMoVwy56i1hzueqN+W+L+VY3HucAQAAAADD3AOQVYZO6o6d6B0rG1Pv2rK5LImh/5otY56Kd00ipfS+2CpJFDMvto4htuxYm4WM31zt0PI4a3nft2Q87LmfBAAAAICavXN9ff1y7yAAgG2UujoZAAAAAEjHJUAB4CAk/wAAAADgGKwABAAAAAAAgIZYAQgAAAAAAAANkQAEAAAAAACAhkgAAgAAAAAAQEMkAAEAAAAAAKAhEoAAAAAAAADQEAlAAAAAAAAAaIgEIAAAAAAAADREApBDur+/3zsEAAAAAACALK72DqB1U4mm29vboNdNlRt6j7nyMe7v70frm3pu6vnU8c4l81K2R0oxfbykzrl6c5Udem2pfQAAAAAAAC2SANxAbAKt/3hsEq7khEuOeEMSpKW1R0wfL61zqt5cZYdeCwAAAAAAbMslQHd0e3v7VoJkKLEyVG6s7FT5WOf6UyVxcsdbi5g+XlPnWL25ygIAAAAAAGWQAKRpqVb/SXbFK3HlJQAAAAAAHIEEYEGmEib9FVdzyZXSEi8lxnt/f//6Z8v3DO3jXEobGwAAAAAAQFoSgAy6TFTVernHkKTj+WdO6Umz2MvEDklx+dkl7wsAAAAAAKR1tXcARyZJks8R23YoWTeXpAspG1svAAAAAACwLwnADYytnpNESe/c1kds26Gk59wlR0PKxtZ7xOQrAAAAAACURAJwA7UlSqYuBVlavFamvTLWNzH9NlQ2Rb0AAAAAAMC2JAB3VHISpZZ7/i1tuxLbvAWljmcAAAAAADiSJ3sHQJlub2/f+inZWMJy6PFakpsAAAAAAABLSAAW5LwicEh/ZdVU2XP5ktQWb1+q+GL6OJdcbX2u9/7+/o2fy8cAAAAAAID8XAKUN0wloUq+ZGnXlZ9EbF1t97oEAAAAAIBWWQFYmKEVYmMJlLHVZFslXGJXs+WON+dlS1PXFdrH/TIxdY7Vm6ssAAAAAABQBisAC9RPukwlWoYSNFsmZsYSRHOrCEPK5nBOXO2dwIrp46V1TtWbqywAAAAAALC/d66vr1/uHQSsNZbQu3y8X2bvJCAAAAAAAEAOEoA0Y2wl4vnxsQTh2HMAAAAAAAA1kgAEAAAAAACAhjzZOwAAAAAAAAAgHQlAAAAAAAAAaIgEIAAAAAAAADREAhAAAAAAAAAaIgEIAAAAAAAADZEABAAAAAAAgIZIAAIAAAAAAEBDJAABAAAAAACgIRKAAAAAAAAA0BAJQAAAAAAAAGiIBCAAAAAAAAA0RAIQAAAAAAAAGiIBCAAAAAAAAA2RAAQAAAAAAICGSAACAAAAAABAQyQAAQAAAAAAoCESgAAAAAAAANAQCUAAAAAAAABoiAQgAAAAAAAANOT/A8bJeEGCdC+YAAAAAElFTkSuQmCC)"
      ],
      "metadata": {
        "id": "93mYhOhR4UdE"
      }
    },
    {
      "cell_type": "markdown",
      "source": [
        "[Hyperparameter 정보들](https://machinelearningmastery.com/hyperparameters-for-classification-machine-learning-algorithms/)\n",
        "\n",
        "[Hyperparameter 정보들2](https://machinelearningmastery.com/hyperparameter-optimization-with-random-search-and-grid-search/)\n",
        "\n",
        "[Hyperparameter 정보들3](https://hyemin-kim.github.io/2020/07/26/S-Python-sklearn2/)"
      ],
      "metadata": {
        "id": "KVwzxJRj0Htl"
      }
    },
    {
      "cell_type": "markdown",
      "source": [
        "[Hyperparameter tuning baseline code](https://www.kaggle.com/code/funxexcel/p2-logistic-regression-hyperparameter-tuning/notebook)"
      ],
      "metadata": {
        "id": "piPhW9DxASA2"
      }
    }
  ]
}