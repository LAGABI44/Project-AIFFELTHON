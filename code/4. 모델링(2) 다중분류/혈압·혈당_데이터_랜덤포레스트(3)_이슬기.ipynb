{
  "nbformat": 4,
  "nbformat_minor": 0,
  "metadata": {
    "colab": {
      "name": "혈압·혈당 데이터_랜덤포레스트(3)_이슬기.ipynb",
      "provenance": []
    },
    "kernelspec": {
      "name": "python3",
      "display_name": "Python 3"
    },
    "language_info": {
      "name": "python"
    },
    "accelerator": "GPU"
  },
  "cells": [
    {
      "cell_type": "code",
      "execution_count": null,
      "metadata": {
        "colab": {
          "base_uri": "https://localhost:8080/"
        },
        "id": "VGE91IRLJHku",
        "outputId": "c3f609bc-c7ed-41d6-f9bf-7832b9a7ba1d"
      },
      "outputs": [
        {
          "output_type": "stream",
          "name": "stdout",
          "text": [
            "Mounted at /content/drive\n"
          ]
        }
      ],
      "source": [
        "from google.colab import drive\n",
        "drive.mount('/content/drive')"
      ]
    },
    {
      "cell_type": "code",
      "source": [
        "import pandas as pd\n",
        "import numpy as np\n",
        "import sklearn\n",
        "from sklearn.preprocessing import StandardScaler\n",
        "from sklearn.ensemble import RandomForestClassifier\n",
        "from sklearn.metrics import accuracy_score\n",
        "from sklearn.model_selection import train_test_split\n",
        "from sklearn.preprocessing import MinMaxScaler\n",
        "\n",
        "import warnings\n",
        "warnings.filterwarnings('ignore')"
      ],
      "metadata": {
        "id": "DaiU29JzJe2_"
      },
      "execution_count": null,
      "outputs": []
    },
    {
      "cell_type": "code",
      "source": [
        "df = pd.read_csv('/content/drive/MyDrive/슬기로운 건강생활/data/국가건강검진_혈압혈당데이터.csv', encoding='cp949')\n",
        "df"
      ],
      "metadata": {
        "colab": {
          "base_uri": "https://localhost:8080/",
          "height": 424
        },
        "id": "95E062sIJnwD",
        "outputId": "b740b924-12fa-4891-d8b6-2cc4c9f86dde"
      },
      "execution_count": null,
      "outputs": [
        {
          "output_type": "execute_result",
          "data": {
            "text/plain": [
              "        SEX  BTH_G  SBP  DBP  FBS  DIS   BMI\n",
              "0         1      1  116   78   94    4  16.6\n",
              "1         1      1  100   60   79    4  22.3\n",
              "2         1      1  100   60   87    4  21.9\n",
              "3         1      1  111   70   72    4  20.2\n",
              "4         1      1  120   80   98    4  20.0\n",
              "...     ...    ...  ...  ...  ...  ...   ...\n",
              "999995    2     27  120   70   81    2  23.1\n",
              "999996    2     27  110   70  104    2  27.2\n",
              "999997    2     27  115   53  110    1  25.2\n",
              "999998    2     27  120   70   90    2  19.7\n",
              "999999    2     27  116   73   92    4  17.6\n",
              "\n",
              "[1000000 rows x 7 columns]"
            ],
            "text/html": [
              "\n",
              "  <div id=\"df-bc212d59-bce6-42fc-932d-d453583500f2\">\n",
              "    <div class=\"colab-df-container\">\n",
              "      <div>\n",
              "<style scoped>\n",
              "    .dataframe tbody tr th:only-of-type {\n",
              "        vertical-align: middle;\n",
              "    }\n",
              "\n",
              "    .dataframe tbody tr th {\n",
              "        vertical-align: top;\n",
              "    }\n",
              "\n",
              "    .dataframe thead th {\n",
              "        text-align: right;\n",
              "    }\n",
              "</style>\n",
              "<table border=\"1\" class=\"dataframe\">\n",
              "  <thead>\n",
              "    <tr style=\"text-align: right;\">\n",
              "      <th></th>\n",
              "      <th>SEX</th>\n",
              "      <th>BTH_G</th>\n",
              "      <th>SBP</th>\n",
              "      <th>DBP</th>\n",
              "      <th>FBS</th>\n",
              "      <th>DIS</th>\n",
              "      <th>BMI</th>\n",
              "    </tr>\n",
              "  </thead>\n",
              "  <tbody>\n",
              "    <tr>\n",
              "      <th>0</th>\n",
              "      <td>1</td>\n",
              "      <td>1</td>\n",
              "      <td>116</td>\n",
              "      <td>78</td>\n",
              "      <td>94</td>\n",
              "      <td>4</td>\n",
              "      <td>16.6</td>\n",
              "    </tr>\n",
              "    <tr>\n",
              "      <th>1</th>\n",
              "      <td>1</td>\n",
              "      <td>1</td>\n",
              "      <td>100</td>\n",
              "      <td>60</td>\n",
              "      <td>79</td>\n",
              "      <td>4</td>\n",
              "      <td>22.3</td>\n",
              "    </tr>\n",
              "    <tr>\n",
              "      <th>2</th>\n",
              "      <td>1</td>\n",
              "      <td>1</td>\n",
              "      <td>100</td>\n",
              "      <td>60</td>\n",
              "      <td>87</td>\n",
              "      <td>4</td>\n",
              "      <td>21.9</td>\n",
              "    </tr>\n",
              "    <tr>\n",
              "      <th>3</th>\n",
              "      <td>1</td>\n",
              "      <td>1</td>\n",
              "      <td>111</td>\n",
              "      <td>70</td>\n",
              "      <td>72</td>\n",
              "      <td>4</td>\n",
              "      <td>20.2</td>\n",
              "    </tr>\n",
              "    <tr>\n",
              "      <th>4</th>\n",
              "      <td>1</td>\n",
              "      <td>1</td>\n",
              "      <td>120</td>\n",
              "      <td>80</td>\n",
              "      <td>98</td>\n",
              "      <td>4</td>\n",
              "      <td>20.0</td>\n",
              "    </tr>\n",
              "    <tr>\n",
              "      <th>...</th>\n",
              "      <td>...</td>\n",
              "      <td>...</td>\n",
              "      <td>...</td>\n",
              "      <td>...</td>\n",
              "      <td>...</td>\n",
              "      <td>...</td>\n",
              "      <td>...</td>\n",
              "    </tr>\n",
              "    <tr>\n",
              "      <th>999995</th>\n",
              "      <td>2</td>\n",
              "      <td>27</td>\n",
              "      <td>120</td>\n",
              "      <td>70</td>\n",
              "      <td>81</td>\n",
              "      <td>2</td>\n",
              "      <td>23.1</td>\n",
              "    </tr>\n",
              "    <tr>\n",
              "      <th>999996</th>\n",
              "      <td>2</td>\n",
              "      <td>27</td>\n",
              "      <td>110</td>\n",
              "      <td>70</td>\n",
              "      <td>104</td>\n",
              "      <td>2</td>\n",
              "      <td>27.2</td>\n",
              "    </tr>\n",
              "    <tr>\n",
              "      <th>999997</th>\n",
              "      <td>2</td>\n",
              "      <td>27</td>\n",
              "      <td>115</td>\n",
              "      <td>53</td>\n",
              "      <td>110</td>\n",
              "      <td>1</td>\n",
              "      <td>25.2</td>\n",
              "    </tr>\n",
              "    <tr>\n",
              "      <th>999998</th>\n",
              "      <td>2</td>\n",
              "      <td>27</td>\n",
              "      <td>120</td>\n",
              "      <td>70</td>\n",
              "      <td>90</td>\n",
              "      <td>2</td>\n",
              "      <td>19.7</td>\n",
              "    </tr>\n",
              "    <tr>\n",
              "      <th>999999</th>\n",
              "      <td>2</td>\n",
              "      <td>27</td>\n",
              "      <td>116</td>\n",
              "      <td>73</td>\n",
              "      <td>92</td>\n",
              "      <td>4</td>\n",
              "      <td>17.6</td>\n",
              "    </tr>\n",
              "  </tbody>\n",
              "</table>\n",
              "<p>1000000 rows × 7 columns</p>\n",
              "</div>\n",
              "      <button class=\"colab-df-convert\" onclick=\"convertToInteractive('df-bc212d59-bce6-42fc-932d-d453583500f2')\"\n",
              "              title=\"Convert this dataframe to an interactive table.\"\n",
              "              style=\"display:none;\">\n",
              "        \n",
              "  <svg xmlns=\"http://www.w3.org/2000/svg\" height=\"24px\"viewBox=\"0 0 24 24\"\n",
              "       width=\"24px\">\n",
              "    <path d=\"M0 0h24v24H0V0z\" fill=\"none\"/>\n",
              "    <path d=\"M18.56 5.44l.94 2.06.94-2.06 2.06-.94-2.06-.94-.94-2.06-.94 2.06-2.06.94zm-11 1L8.5 8.5l.94-2.06 2.06-.94-2.06-.94L8.5 2.5l-.94 2.06-2.06.94zm10 10l.94 2.06.94-2.06 2.06-.94-2.06-.94-.94-2.06-.94 2.06-2.06.94z\"/><path d=\"M17.41 7.96l-1.37-1.37c-.4-.4-.92-.59-1.43-.59-.52 0-1.04.2-1.43.59L10.3 9.45l-7.72 7.72c-.78.78-.78 2.05 0 2.83L4 21.41c.39.39.9.59 1.41.59.51 0 1.02-.2 1.41-.59l7.78-7.78 2.81-2.81c.8-.78.8-2.07 0-2.86zM5.41 20L4 18.59l7.72-7.72 1.47 1.35L5.41 20z\"/>\n",
              "  </svg>\n",
              "      </button>\n",
              "      \n",
              "  <style>\n",
              "    .colab-df-container {\n",
              "      display:flex;\n",
              "      flex-wrap:wrap;\n",
              "      gap: 12px;\n",
              "    }\n",
              "\n",
              "    .colab-df-convert {\n",
              "      background-color: #E8F0FE;\n",
              "      border: none;\n",
              "      border-radius: 50%;\n",
              "      cursor: pointer;\n",
              "      display: none;\n",
              "      fill: #1967D2;\n",
              "      height: 32px;\n",
              "      padding: 0 0 0 0;\n",
              "      width: 32px;\n",
              "    }\n",
              "\n",
              "    .colab-df-convert:hover {\n",
              "      background-color: #E2EBFA;\n",
              "      box-shadow: 0px 1px 2px rgba(60, 64, 67, 0.3), 0px 1px 3px 1px rgba(60, 64, 67, 0.15);\n",
              "      fill: #174EA6;\n",
              "    }\n",
              "\n",
              "    [theme=dark] .colab-df-convert {\n",
              "      background-color: #3B4455;\n",
              "      fill: #D2E3FC;\n",
              "    }\n",
              "\n",
              "    [theme=dark] .colab-df-convert:hover {\n",
              "      background-color: #434B5C;\n",
              "      box-shadow: 0px 1px 3px 1px rgba(0, 0, 0, 0.15);\n",
              "      filter: drop-shadow(0px 1px 2px rgba(0, 0, 0, 0.3));\n",
              "      fill: #FFFFFF;\n",
              "    }\n",
              "  </style>\n",
              "\n",
              "      <script>\n",
              "        const buttonEl =\n",
              "          document.querySelector('#df-bc212d59-bce6-42fc-932d-d453583500f2 button.colab-df-convert');\n",
              "        buttonEl.style.display =\n",
              "          google.colab.kernel.accessAllowed ? 'block' : 'none';\n",
              "\n",
              "        async function convertToInteractive(key) {\n",
              "          const element = document.querySelector('#df-bc212d59-bce6-42fc-932d-d453583500f2');\n",
              "          const dataTable =\n",
              "            await google.colab.kernel.invokeFunction('convertToInteractive',\n",
              "                                                     [key], {});\n",
              "          if (!dataTable) return;\n",
              "\n",
              "          const docLinkHtml = 'Like what you see? Visit the ' +\n",
              "            '<a target=\"_blank\" href=https://colab.research.google.com/notebooks/data_table.ipynb>data table notebook</a>'\n",
              "            + ' to learn more about interactive tables.';\n",
              "          element.innerHTML = '';\n",
              "          dataTable['output_type'] = 'display_data';\n",
              "          await google.colab.output.renderOutput(dataTable, element);\n",
              "          const docLink = document.createElement('div');\n",
              "          docLink.innerHTML = docLinkHtml;\n",
              "          element.appendChild(docLink);\n",
              "        }\n",
              "      </script>\n",
              "    </div>\n",
              "  </div>\n",
              "  "
            ]
          },
          "metadata": {},
          "execution_count": 3
        }
      ]
    },
    {
      "cell_type": "code",
      "source": [
        "df.isnull().sum()"
      ],
      "metadata": {
        "colab": {
          "base_uri": "https://localhost:8080/"
        },
        "id": "1e32UfIUJrlG",
        "outputId": "71f6f4de-aba3-4ce7-f158-ec8f5dede3a3"
      },
      "execution_count": null,
      "outputs": [
        {
          "output_type": "execute_result",
          "data": {
            "text/plain": [
              "SEX      0\n",
              "BTH_G    0\n",
              "SBP      0\n",
              "DBP      0\n",
              "FBS      0\n",
              "DIS      0\n",
              "BMI      0\n",
              "dtype: int64"
            ]
          },
          "metadata": {},
          "execution_count": 4
        }
      ]
    },
    {
      "cell_type": "code",
      "source": [
        "df.info()"
      ],
      "metadata": {
        "colab": {
          "base_uri": "https://localhost:8080/"
        },
        "id": "VMYpTmQqJ2X0",
        "outputId": "7a4d17f5-f51f-418c-dc69-d5bc757923f3"
      },
      "execution_count": null,
      "outputs": [
        {
          "output_type": "stream",
          "name": "stdout",
          "text": [
            "<class 'pandas.core.frame.DataFrame'>\n",
            "RangeIndex: 1000000 entries, 0 to 999999\n",
            "Data columns (total 7 columns):\n",
            " #   Column  Non-Null Count    Dtype  \n",
            "---  ------  --------------    -----  \n",
            " 0   SEX     1000000 non-null  int64  \n",
            " 1   BTH_G   1000000 non-null  int64  \n",
            " 2   SBP     1000000 non-null  int64  \n",
            " 3   DBP     1000000 non-null  int64  \n",
            " 4   FBS     1000000 non-null  int64  \n",
            " 5   DIS     1000000 non-null  int64  \n",
            " 6   BMI     1000000 non-null  float64\n",
            "dtypes: float64(1), int64(6)\n",
            "memory usage: 53.4 MB\n"
          ]
        }
      ]
    },
    {
      "cell_type": "code",
      "source": [
        "# 정수 변환\n",
        "df = df.round(0).astype(int)\n",
        "\n",
        "# 반올림\n",
        "df = df.astype(int)"
      ],
      "metadata": {
        "id": "K42ZZZHb4_xF"
      },
      "execution_count": null,
      "outputs": []
    },
    {
      "cell_type": "code",
      "source": [
        "train=df"
      ],
      "metadata": {
        "id": "aG3f8OcoKK94"
      },
      "execution_count": null,
      "outputs": []
    },
    {
      "cell_type": "code",
      "source": [
        "# 정답 4 모두 제거\n",
        "train = df.loc[df['DIS']!=4]"
      ],
      "metadata": {
        "id": "g2hA_mzGjEY_"
      },
      "execution_count": null,
      "outputs": []
    },
    {
      "cell_type": "code",
      "source": [
        "# feature와 target 분리\n",
        "yt=np.array(train['DIS'])\n",
        "xt=train.drop(['DIS'], axis=1)\n",
        "xt=np.array(xt)\n",
        "\n",
        "# 데이터 정규화\n",
        "scaler=MinMaxScaler()\n",
        "xt=scaler.fit_transform(xt)\n",
        "\n",
        "# train test 데이터 split\n",
        "xtrain,xtest,ytrain,ytest=train_test_split(xt, yt, test_size=0.2, random_state=42)"
      ],
      "metadata": {
        "id": "OCWIyGAEKA4k"
      },
      "execution_count": null,
      "outputs": []
    },
    {
      "cell_type": "code",
      "source": [
        "# 랜덤포레스트 without tuning\n",
        "rf = RandomForestClassifier(random_state=17)\n",
        "rf.fit(xtrain, ytrain)\n",
        "forest_predictions = rf.predict(xtest)\n",
        "\n",
        "accuracy_score(ytest, forest_predictions)\n",
        "forest_predictions = rf.predict(xtest)"
      ],
      "metadata": {
        "id": "kZzUmd5sKFHG"
      },
      "execution_count": null,
      "outputs": []
    },
    {
      "cell_type": "code",
      "source": [
        "from sklearn.metrics import confusion_matrix\n",
        "from sklearn.metrics import classification_report"
      ],
      "metadata": {
        "id": "bIWHAqWVKOhP"
      },
      "execution_count": null,
      "outputs": []
    },
    {
      "cell_type": "code",
      "source": [
        "# 데이터 100만 개 사용\n",
        "\n",
        "print(confusion_matrix(ytest, forest_predictions))"
      ],
      "metadata": {
        "colab": {
          "base_uri": "https://localhost:8080/"
        },
        "id": "yjMtAMuBKPDq",
        "outputId": "a0f26d55-9578-470e-fb68-09063d1ccf63"
      },
      "execution_count": null,
      "outputs": [
        {
          "output_type": "stream",
          "name": "stdout",
          "text": [
            "[[  3271   2793   1301   3471]\n",
            " [  1530  10915    506  19409]\n",
            " [  1743   1124   1758   3965]\n",
            " [  1382   9550   1285 135997]]\n"
          ]
        }
      ]
    },
    {
      "cell_type": "code",
      "source": [
        "print(classification_report(ytest, forest_predictions))"
      ],
      "metadata": {
        "colab": {
          "base_uri": "https://localhost:8080/"
        },
        "id": "ONtPvLiZKTJ0",
        "outputId": "88d2392f-bd5f-4dae-8b55-a5d87e2c1c0c"
      },
      "execution_count": null,
      "outputs": [
        {
          "output_type": "stream",
          "name": "stdout",
          "text": [
            "              precision    recall  f1-score   support\n",
            "\n",
            "           1       0.41      0.30      0.35     10836\n",
            "           2       0.45      0.34      0.38     32360\n",
            "           3       0.36      0.20      0.26      8590\n",
            "           4       0.84      0.92      0.87    148214\n",
            "\n",
            "    accuracy                           0.76    200000\n",
            "   macro avg       0.51      0.44      0.47    200000\n",
            "weighted avg       0.73      0.76      0.74    200000\n",
            "\n"
          ]
        }
      ]
    },
    {
      "cell_type": "markdown",
      "source": [
        "# 하이퍼파라미터 튜닝"
      ],
      "metadata": {
        "id": "BNZb9t3N5h47"
      }
    },
    {
      "cell_type": "code",
      "source": [
        "# RandomForest의 하이퍼 파라미터 default 상태\n",
        "model = RandomForestClassifier()\n",
        "model"
      ],
      "metadata": {
        "id": "YnHVRjJ7LKFT",
        "colab": {
          "base_uri": "https://localhost:8080/"
        },
        "outputId": "3200f288-38b7-4bac-d751-2c325541673e"
      },
      "execution_count": null,
      "outputs": [
        {
          "output_type": "execute_result",
          "data": {
            "text/plain": [
              "RandomForestClassifier()"
            ]
          },
          "metadata": {},
          "execution_count": 11
        }
      ]
    },
    {
      "cell_type": "code",
      "source": [
        "from sklearn.model_selection import GridSearchCV\n",
        "\n",
        "params = {'n_estimators' : [10],  #100\n",
        "          'max_depth' : [6],   #8, 10, 12\n",
        "          'min_samples_leaf' : [8, 12, 18],\n",
        "          'min_samples_split' : [8, 16, 20]\n",
        "          }\n",
        "\n",
        "# RandomForestClassifier 객체 생성 후 GridSearchCV 수행\n",
        "rf_clf = RandomForestClassifier(random_state = 2022, n_jobs = -1)\n",
        "grid_cv = GridSearchCV(rf_clf,\n",
        "                       param_grid = params,\n",
        "                       cv = 3, \n",
        "                       n_jobs = -1)\n",
        "grid_cv.fit(xtrain, ytrain)\n",
        "\n",
        "print('최적 하이퍼 파라미터: ', grid_cv.best_params_)\n",
        "print('최고 예측 정확도: {:.4f}'.format(grid_cv.best_score_))"
      ],
      "metadata": {
        "colab": {
          "base_uri": "https://localhost:8080/"
        },
        "id": "n4nNLwym_J7T",
        "outputId": "a9bfa260-4434-4f40-db6a-30ddce1cc4b8"
      },
      "execution_count": null,
      "outputs": [
        {
          "output_type": "stream",
          "name": "stdout",
          "text": [
            "최적 하이퍼 파라미터:  {'max_depth': 6, 'min_samples_leaf': 18, 'min_samples_split': 8, 'n_estimators': 10}\n",
            "최고 예측 정확도: 0.7699\n"
          ]
        }
      ]
    },
    {
      "cell_type": "code",
      "source": [
        "from sklearn.model_selection import GridSearchCV\n",
        "\n",
        "params = {'n_estimators' : [10],  #100\n",
        "          'max_depth' : [6],   #8, 10, 12\n",
        "          'min_samples_leaf' : [18, 24, 32],\n",
        "          'min_samples_split' : [2, 5, 8]\n",
        "          }\n",
        "\n",
        "# RandomForestClassifier 객체 생성 후 GridSearchCV 수행\n",
        "rf_clf = RandomForestClassifier(random_state = 2022, n_jobs = -1)\n",
        "grid_cv = GridSearchCV(rf_clf,\n",
        "                       param_grid = params,\n",
        "                       cv = 3, \n",
        "                       n_jobs = -1)\n",
        "grid_cv.fit(xtrain, ytrain)\n",
        "\n",
        "print('최적 하이퍼 파라미터: ', grid_cv.best_params_)\n",
        "print('최고 예측 정확도: {:.4f}'.format(grid_cv.best_score_))"
      ],
      "metadata": {
        "colab": {
          "base_uri": "https://localhost:8080/"
        },
        "id": "CEqzl0Q2FnZ2",
        "outputId": "82e27b1d-d2b0-477e-f71d-731223eb05cc"
      },
      "execution_count": null,
      "outputs": [
        {
          "output_type": "stream",
          "name": "stdout",
          "text": [
            "최적 하이퍼 파라미터:  {'max_depth': 6, 'min_samples_leaf': 32, 'min_samples_split': 2, 'n_estimators': 10}\n",
            "최고 예측 정확도: 0.7700\n"
          ]
        }
      ]
    },
    {
      "cell_type": "code",
      "source": [
        "from sklearn.model_selection import GridSearchCV\n",
        "\n",
        "params = {'n_estimators' : [10],  #100\n",
        "          'max_depth' : [6],   #8, 10, 12\n",
        "          'min_samples_leaf' : [32, 64, 128],\n",
        "          'min_samples_split' : [0.5, 1, 2]\n",
        "          }\n",
        "\n",
        "# RandomForestClassifier 객체 생성 후 GridSearchCV 수행\n",
        "rf_clf = RandomForestClassifier(random_state = 2022, n_jobs = -1)\n",
        "grid_cv = GridSearchCV(rf_clf,\n",
        "                       param_grid = params,\n",
        "                       cv = 3, \n",
        "                       n_jobs = -1)\n",
        "grid_cv.fit(xtrain, ytrain)\n",
        "\n",
        "print('최적 하이퍼 파라미터: ', grid_cv.best_params_)\n",
        "print('최고 예측 정확도: {:.4f}'.format(grid_cv.best_score_))"
      ],
      "metadata": {
        "colab": {
          "base_uri": "https://localhost:8080/"
        },
        "id": "ZioGtNbLGWlD",
        "outputId": "e5d4c165-004a-4c8c-b802-1734442cb26c"
      },
      "execution_count": null,
      "outputs": [
        {
          "output_type": "stream",
          "name": "stdout",
          "text": [
            "최적 하이퍼 파라미터:  {'max_depth': 6, 'min_samples_leaf': 32, 'min_samples_split': 2, 'n_estimators': 10}\n",
            "최고 예측 정확도: 0.7700\n"
          ]
        }
      ]
    },
    {
      "cell_type": "code",
      "source": [
        "from sklearn.model_selection import GridSearchCV\n",
        "\n",
        "params = {'n_estimators' : [10, 20],  #100\n",
        "          'max_depth' : [6, 8],   #8, 10, 12\n",
        "          'min_samples_leaf' : [32, 35],\n",
        "          'min_samples_split' : [ 2]\n",
        "          }\n",
        "\n",
        "# RandomForestClassifier 객체 생성 후 GridSearchCV 수행\n",
        "rf_clf = RandomForestClassifier(random_state = 2022, n_jobs = -1)\n",
        "grid_cv = GridSearchCV(rf_clf,\n",
        "                       param_grid = params,\n",
        "                       cv = 3, \n",
        "                       n_jobs = -1)\n",
        "grid_cv.fit(xtrain, ytrain)\n",
        "\n",
        "print('최적 하이퍼 파라미터: ', grid_cv.best_params_)\n",
        "print('최고 예측 정확도: {:.4f}'.format(grid_cv.best_score_))"
      ],
      "metadata": {
        "colab": {
          "base_uri": "https://localhost:8080/"
        },
        "id": "VzVURmyTHAmy",
        "outputId": "e61ed9eb-4599-43a7-d318-2e027d7245c6"
      },
      "execution_count": null,
      "outputs": [
        {
          "output_type": "stream",
          "name": "stdout",
          "text": [
            "최적 하이퍼 파라미터:  {'max_depth': 8, 'min_samples_leaf': 35, 'min_samples_split': 2, 'n_estimators': 20}\n",
            "최고 예측 정확도: 0.7758\n"
          ]
        }
      ]
    },
    {
      "cell_type": "code",
      "source": [
        "from sklearn.model_selection import GridSearchCV\n",
        "\n",
        "params = {'n_estimators' : [20, 30],  #100\n",
        "          'max_depth' : [7, 8],   #8, 10, 12\n",
        "          'min_samples_leaf' : [35, 40],\n",
        "          'min_samples_split' : [2]\n",
        "          }\n",
        "\n",
        "# RandomForestClassifier 객체 생성 후 GridSearchCV 수행\n",
        "rf_clf = RandomForestClassifier(random_state = 2022, n_jobs = -1)\n",
        "grid_cv = GridSearchCV(rf_clf,\n",
        "                       param_grid = params,\n",
        "                       cv = 3, \n",
        "                       n_jobs = -1)\n",
        "grid_cv.fit(xtrain, ytrain)\n",
        "\n",
        "print('최적 하이퍼 파라미터: ', grid_cv.best_params_)\n",
        "print('최고 예측 정확도: {:.4f}'.format(grid_cv.best_score_))"
      ],
      "metadata": {
        "colab": {
          "base_uri": "https://localhost:8080/"
        },
        "id": "dmPPVn_OHpx6",
        "outputId": "a713a805-6b3f-4b6b-da04-762119476d07"
      },
      "execution_count": null,
      "outputs": [
        {
          "output_type": "stream",
          "name": "stdout",
          "text": [
            "최적 하이퍼 파라미터:  {'max_depth': 8, 'min_samples_leaf': 35, 'min_samples_split': 2, 'n_estimators': 30}\n",
            "최고 예측 정확도: 0.7761\n"
          ]
        }
      ]
    },
    {
      "cell_type": "code",
      "source": [
        "from sklearn.model_selection import GridSearchCV\n",
        "\n",
        "params = {'n_estimators' : [30, 40, 50],  #100\n",
        "          'max_depth' : [8, 9],   #8, 10, 12\n",
        "          'min_samples_leaf' : [35],\n",
        "          'min_samples_split' : [2]\n",
        "          }\n",
        "\n",
        "# RandomForestClassifier 객체 생성 후 GridSearchCV 수행\n",
        "rf_clf = RandomForestClassifier(random_state = 2022, n_jobs = -1)\n",
        "grid_cv = GridSearchCV(rf_clf,\n",
        "                       param_grid = params,\n",
        "                       cv = 3, \n",
        "                       n_jobs = -1)\n",
        "grid_cv.fit(xtrain, ytrain)\n",
        "\n",
        "print('최적 하이퍼 파라미터: ', grid_cv.best_params_)\n",
        "print('최고 예측 정확도: {:.4f}'.format(grid_cv.best_score_))"
      ],
      "metadata": {
        "colab": {
          "base_uri": "https://localhost:8080/"
        },
        "id": "U61riiUTIvc4",
        "outputId": "bbf8ea35-2bb6-4ea2-9a23-92240ee70209"
      },
      "execution_count": null,
      "outputs": [
        {
          "output_type": "stream",
          "name": "stdout",
          "text": [
            "최적 하이퍼 파라미터:  {'max_depth': 9, 'min_samples_leaf': 35, 'min_samples_split': 2, 'n_estimators': 50}\n",
            "최고 예측 정확도: 0.7769\n"
          ]
        }
      ]
    },
    {
      "cell_type": "code",
      "source": [
        "from sklearn.model_selection import GridSearchCV\n",
        "\n",
        "params = {'n_estimators' : [30, 40, 50],  #100\n",
        "          'max_depth' : [8, 9],   #8, 10, 12\n",
        "          'min_samples_leaf' : [35],\n",
        "          'min_samples_split' : [2]\n",
        "          }\n",
        "\n",
        "# RandomForestClassifier 객체 생성 후 GridSearchCV 수행\n",
        "rf_clf = RandomForestClassifier(random_state = 2022, n_jobs = -1)\n",
        "grid_cv = GridSearchCV(rf_clf,\n",
        "                       param_grid = params,\n",
        "                       cv = 3, \n",
        "                       n_jobs = -1)\n",
        "grid_cv.fit(xtrain, ytrain)\n",
        "\n",
        "print('최적 하이퍼 파라미터: ', grid_cv.best_params_)\n",
        "print('최고 예측 정확도: {:.4f}'.format(grid_cv.best_score_))"
      ],
      "metadata": {
        "id": "7tmHawdeKBaY"
      },
      "execution_count": null,
      "outputs": []
    },
    {
      "cell_type": "code",
      "source": [
        "# 위의 결과로 나온 최적 하이퍼 파라미터로 다시 모델을 학습하여 \n",
        "# 테스트 세트 데이터에서 예측 성능을 측정\n",
        "rf_clf1 = RandomForestClassifier(n_estimators = 50, \n",
        "                                max_depth = 9,\n",
        "                                min_samples_leaf = 35,\n",
        "                                min_samples_split = 2,\n",
        "                                random_state = 0,\n",
        "                                n_jobs = -1)\n",
        "rf_clf1.fit(xtrain, ytrain)\n",
        "pred = rf_clf1.predict(xtest)\n",
        "print('예측 정확도: {:.4f}'.format(accuracy_score(ytest,forest_predictions)))"
      ],
      "metadata": {
        "colab": {
          "base_uri": "https://localhost:8080/"
        },
        "id": "aSqXgBN0BhIr",
        "outputId": "5065fa6f-fd56-4dba-eb28-5353fff592e6"
      },
      "execution_count": null,
      "outputs": [
        {
          "output_type": "stream",
          "name": "stdout",
          "text": [
            "예측 정확도: 0.7509\n"
          ]
        }
      ]
    },
    {
      "cell_type": "code",
      "source": [
        "print(classification_report(ytest, forest_predictions))"
      ],
      "metadata": {
        "colab": {
          "base_uri": "https://localhost:8080/"
        },
        "id": "PTW7R1AtKNlA",
        "outputId": "073fb0fe-3169-4eba-d7a7-5f33420721f4"
      },
      "execution_count": null,
      "outputs": [
        {
          "output_type": "stream",
          "name": "stdout",
          "text": [
            "              precision    recall  f1-score   support\n",
            "\n",
            "           1       0.39      0.30      0.34     10847\n",
            "           2       0.43      0.34      0.38     32647\n",
            "           3       0.33      0.20      0.25      8514\n",
            "           4       0.83      0.91      0.87    147992\n",
            "\n",
            "    accuracy                           0.75    200000\n",
            "   macro avg       0.50      0.43      0.46    200000\n",
            "weighted avg       0.72      0.75      0.73    200000\n",
            "\n"
          ]
        }
      ]
    },
    {
      "cell_type": "code",
      "source": [
        "print('최고 예측 정확도: '{0:.4f}'.format(grid_cv.best_score_))\n",
        "'{0:.4f}'.format(f1)"
      ],
      "metadata": {
        "id": "n1SY0n0dAKHr"
      },
      "execution_count": null,
      "outputs": []
    },
    {
      "cell_type": "code",
      "source": [
        "# 각 피처 중요도 시각화\n",
        "import matplotlib.pyplot as plt\n",
        "import seaborn as sns\n",
        "%matplotlib inline\n",
        "\n",
        "ftr_importances_values = rf_clf1.feature_importances_\n",
        "ftr_importances = pd.Series(ftr_importances_values, index = X_train.columns)\n",
        "ftr_top20 = ftr_importances.sort_values(ascending=False)[:20]\n",
        "\n",
        "plt.figure(figsize=(8,6))\n",
        "plt.title('Top 20 Feature Importances')\n",
        "sns.barplot(x=ftr_top20, y=ftr_top20.index)\n",
        "plt.show()"
      ],
      "metadata": {
        "id": "aNPA3yua_Oa3"
      },
      "execution_count": null,
      "outputs": []
    },
    {
      "cell_type": "code",
      "source": [
        "from sklearn.tree import export_graphviz\n",
        "export_graphviz(tree, out_file =\"tree.dot\", class_names = [\"악성\",\"양성\"], feature_names = cancer.feature_names , \n",
        "                impurity=False, filled=True)\n",
        "                \n",
        "import os\n",
        "os.environ[\"PATH\"] += os.pathsep + 'C:/Program Files (x86)/Graphviz2.38/bin/'\n",
        "\n",
        "import graphviz \n",
        "\n",
        "with open(\"tree.dot\" ,encoding=\"UTF-8\") as f:\n",
        "    dot_graph = f.read()\n",
        "display(graphviz.Source(dot_graph))\n",
        "\n",
        "# 이미지로 저장 \n",
        "graphviz.Source(dot_graph).render('tree', format=\"png\")"
      ],
      "metadata": {
        "id": "VaF16OiuCutA"
      },
      "execution_count": null,
      "outputs": []
    },
    {
      "cell_type": "markdown",
      "source": [
        "# 정답 4 제외"
      ],
      "metadata": {
        "id": "-uUxG5FqjQ9A"
      }
    },
    {
      "cell_type": "code",
      "source": [
        "# 데이터 100만 개 사용\n",
        "\n",
        "print(confusion_matrix(ytest, forest_predictions))"
      ],
      "metadata": {
        "colab": {
          "base_uri": "https://localhost:8080/"
        },
        "id": "vuD73baAiycs",
        "outputId": "ef3072ce-726e-42f6-93f0-03bf4f618727"
      },
      "execution_count": null,
      "outputs": [
        {
          "output_type": "stream",
          "name": "stdout",
          "text": [
            "[[ 3668  5281  1815]\n",
            " [ 2194 28997  1261]\n",
            " [ 2112  3726  2814]]\n"
          ]
        }
      ]
    },
    {
      "cell_type": "code",
      "source": [
        "print(classification_report(ytest, forest_predictions))"
      ],
      "metadata": {
        "id": "iXdyRKMgjZsZ",
        "outputId": "c51e060a-c8ac-404c-b66a-bb23d7da06bf",
        "colab": {
          "base_uri": "https://localhost:8080/"
        }
      },
      "execution_count": null,
      "outputs": [
        {
          "output_type": "stream",
          "name": "stdout",
          "text": [
            "              precision    recall  f1-score   support\n",
            "\n",
            "           1       0.46      0.34      0.39     10764\n",
            "           2       0.76      0.89      0.82     32452\n",
            "           3       0.48      0.33      0.39      8652\n",
            "\n",
            "    accuracy                           0.68     51868\n",
            "   macro avg       0.57      0.52      0.53     51868\n",
            "weighted avg       0.65      0.68      0.66     51868\n",
            "\n"
          ]
        }
      ]
    },
    {
      "cell_type": "code",
      "source": [
        ""
      ],
      "metadata": {
        "id": "DB-Zdpvfjb_I"
      },
      "execution_count": null,
      "outputs": []
    }
  ]
}