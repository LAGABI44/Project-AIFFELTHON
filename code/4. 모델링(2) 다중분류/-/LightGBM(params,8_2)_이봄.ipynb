{
  "nbformat": 4,
  "nbformat_minor": 0,
  "metadata": {
    "colab": {
      "name": "LightGBM(params,8:2)_이봄",
      "provenance": [],
      "collapsed_sections": [
        "Yrp4q-tbMotq"
      ],
      "machine_shape": "hm"
    },
    "kernelspec": {
      "name": "python3",
      "display_name": "Python 3"
    },
    "language_info": {
      "name": "python"
    },
    "accelerator": "GPU"
  },
  "cells": [
    {
      "cell_type": "markdown",
      "source": [
        "# 당뇨와 고혈압 질병 예측\n",
        "- BTH_G : 연령(그룹)\n",
        "- SBP : 수축기혈압\n",
        "- DBP : 이완기혈압\n",
        "- FBS : 공복혈당\n",
        "- SEX : 성별(남성:1, 여성:2)\n",
        "- DIS : 고혈압/당뇨병 진료여부\n",
        "  - 고혈압/당뇨병 진료내역 있음: 1\n",
        "  - 고혈압 진료내역 있음: 2\n",
        "  - 당뇨병 진료내역 있음: 3\n",
        "  - 고혈압/당뇨병 진료내역 없음: 4\n",
        "- BMI : 체질량지수"
      ],
      "metadata": {
        "id": "R6hKlk_V5vLA"
      }
    },
    {
      "cell_type": "markdown",
      "source": [
        "## 정상 vs 비정상\n",
        "- 4(정상) : 0\n",
        "- 1 / 2 / 3(비정상) : 1\n",
        "\n",
        "- 0(정상) 기준으로 1(비정상) 오버샘플링 : RandomOversampling\n",
        "- 1(비정상) : 1 / 2 / 3 각각 레이블링 됨\n",
        "\n",
        "1 / 2 / 3 = 비율) 1 : 3 : 1\n",
        "=> 1 : 1 : 1 비율로 오버샘플링\n",
        "\n",
        "1 / 0 = 비율) 1 : 3\n",
        "=> 1 : 1 비율로 오버샘플링"
      ],
      "metadata": {
        "id": "ZZlFP2bw5smf"
      }
    },
    {
      "cell_type": "markdown",
      "source": [
        "# LightGBM\n",
        "+\n",
        "## RandomOversampling + 질병 1, 2, 3 비율 => 1 : 1 : 1"
      ],
      "metadata": {
        "id": "5JCjh9xAnd2U"
      }
    },
    {
      "cell_type": "markdown",
      "source": [
        "### LightGBM 설치:\n",
        "\n",
        "```\n",
        "pip3 install lightgbm\n",
        "\n",
        "```\n",
        "\n"
      ],
      "metadata": {
        "id": "RWuq6mkoI8RL"
      }
    },
    {
      "cell_type": "code",
      "source": [
        "from google.colab import drive\n",
        "drive.mount('/content/drive')"
      ],
      "metadata": {
        "colab": {
          "base_uri": "https://localhost:8080/"
        },
        "id": "_Z5qv0TyJQsL",
        "outputId": "097db6ee-3c55-4959-e1f4-05bba189a46a"
      },
      "execution_count": null,
      "outputs": [
        {
          "output_type": "stream",
          "name": "stdout",
          "text": [
            "Drive already mounted at /content/drive; to attempt to forcibly remount, call drive.mount(\"/content/drive\", force_remount=True).\n"
          ]
        }
      ]
    },
    {
      "cell_type": "code",
      "execution_count": null,
      "metadata": {
        "id": "tED8Vi11S3Ly"
      },
      "outputs": [],
      "source": [
        "import numpy as np \n",
        "import pandas as pd # 시리즈, 데이터프레임 포맷 데이터 처리를 위한 라이브러리\n",
        "import warnings; warnings.filterwarnings(action='ignore') # 경고 메시지 무시\n",
        "import matplotlib.pyplot as plt # 데이터 시각화 라이브러리\n",
        "import pickle # 객체 입출력을 위한 라이브러리\n",
        "\n",
        "from sklearn.model_selection import train_test_split # 훈련 데이터, 테스트 데이터 분리\n",
        "from sklearn.preprocessing import StandardScaler # 정규화\n",
        "\n",
        "from sklearn.linear_model import LinearRegression\n",
        "from sklearn.preprocessing import OneHotEncoder\n",
        "from sklearn.metrics import mean_squared_error, r2_score\n",
        "\n",
        "\n",
        "# LightGBM 임포트\n",
        "from lightgbm import LGBMClassifier # LightGBM 불러오기\n",
        "\n",
        "from pandas.core.common import random_state\n",
        "from sklearn.ensemble import RandomForestClassifier # 랜덤포레스트 분류 알고리즘\n",
        "from sklearn.tree import DecisionTreeClassifier # 의사결정나무 분류 알고리즘\n",
        "\n",
        "import matplotlib.pyplot as plt\n",
        "import seaborn as sns\n",
        "\n",
        "# 모델 평가를 위한 metrics\n",
        "from sklearn.metrics import accuracy_score, precision_score, recall_score, f1_score, plot_confusion_matrix\n",
        "from sklearn.metrics import roc_auc_score\n",
        "from sklearn.preprocessing import MinMaxScaler\n",
        "from sklearn.metrics import confusion_matrix\n",
        "from sklearn.metrics import classification_report"
      ]
    },
    {
      "cell_type": "markdown",
      "source": [
        "## 데이터 불러오기"
      ],
      "metadata": {
        "id": "epgm766FiPAz"
      }
    },
    {
      "cell_type": "code",
      "source": [
        "# Disease \n",
        "\n",
        "df = pd.read_csv('/content/drive/MyDrive/health/data/data(over_dis_vs_nor).csv', encoding='cp949')\n",
        "df"
      ],
      "metadata": {
        "colab": {
          "base_uri": "https://localhost:8080/",
          "height": 424
        },
        "id": "cRcV4UQqIsJh",
        "outputId": "7629dc34-5964-4c80-a50c-9e69342653f4"
      },
      "execution_count": null,
      "outputs": [
        {
          "output_type": "execute_result",
          "data": {
            "text/plain": [
              "         SEX  BTH_G  SBP  DBP  FBS   BMI  DIS  Dis\n",
              "0          0      1   90   50   86  20.1    2    1\n",
              "1          0      1  120   80   90  27.0    3    1\n",
              "2          0      1  100   60  112  31.8    2    1\n",
              "3          0      1  170  120   86  23.3    2    1\n",
              "4          0      1  135   80  104  35.0    2    1\n",
              "...      ...    ...  ...  ...  ...   ...  ...  ...\n",
              "1481319    1     21  130   90  185  26.3    3    1\n",
              "1481320    1     18  140  100  120  28.8    2    1\n",
              "1481321    0     12  100   60  101  23.0    3    1\n",
              "1481322    1     20  134   72  168  23.1    3    1\n",
              "1481323    1     23  140   90  116  23.7    2    1\n",
              "\n",
              "[1481324 rows x 8 columns]"
            ],
            "text/html": [
              "\n",
              "  <div id=\"df-bfea5811-eccc-4428-9100-ea55e6dfad57\">\n",
              "    <div class=\"colab-df-container\">\n",
              "      <div>\n",
              "<style scoped>\n",
              "    .dataframe tbody tr th:only-of-type {\n",
              "        vertical-align: middle;\n",
              "    }\n",
              "\n",
              "    .dataframe tbody tr th {\n",
              "        vertical-align: top;\n",
              "    }\n",
              "\n",
              "    .dataframe thead th {\n",
              "        text-align: right;\n",
              "    }\n",
              "</style>\n",
              "<table border=\"1\" class=\"dataframe\">\n",
              "  <thead>\n",
              "    <tr style=\"text-align: right;\">\n",
              "      <th></th>\n",
              "      <th>SEX</th>\n",
              "      <th>BTH_G</th>\n",
              "      <th>SBP</th>\n",
              "      <th>DBP</th>\n",
              "      <th>FBS</th>\n",
              "      <th>BMI</th>\n",
              "      <th>DIS</th>\n",
              "      <th>Dis</th>\n",
              "    </tr>\n",
              "  </thead>\n",
              "  <tbody>\n",
              "    <tr>\n",
              "      <th>0</th>\n",
              "      <td>0</td>\n",
              "      <td>1</td>\n",
              "      <td>90</td>\n",
              "      <td>50</td>\n",
              "      <td>86</td>\n",
              "      <td>20.1</td>\n",
              "      <td>2</td>\n",
              "      <td>1</td>\n",
              "    </tr>\n",
              "    <tr>\n",
              "      <th>1</th>\n",
              "      <td>0</td>\n",
              "      <td>1</td>\n",
              "      <td>120</td>\n",
              "      <td>80</td>\n",
              "      <td>90</td>\n",
              "      <td>27.0</td>\n",
              "      <td>3</td>\n",
              "      <td>1</td>\n",
              "    </tr>\n",
              "    <tr>\n",
              "      <th>2</th>\n",
              "      <td>0</td>\n",
              "      <td>1</td>\n",
              "      <td>100</td>\n",
              "      <td>60</td>\n",
              "      <td>112</td>\n",
              "      <td>31.8</td>\n",
              "      <td>2</td>\n",
              "      <td>1</td>\n",
              "    </tr>\n",
              "    <tr>\n",
              "      <th>3</th>\n",
              "      <td>0</td>\n",
              "      <td>1</td>\n",
              "      <td>170</td>\n",
              "      <td>120</td>\n",
              "      <td>86</td>\n",
              "      <td>23.3</td>\n",
              "      <td>2</td>\n",
              "      <td>1</td>\n",
              "    </tr>\n",
              "    <tr>\n",
              "      <th>4</th>\n",
              "      <td>0</td>\n",
              "      <td>1</td>\n",
              "      <td>135</td>\n",
              "      <td>80</td>\n",
              "      <td>104</td>\n",
              "      <td>35.0</td>\n",
              "      <td>2</td>\n",
              "      <td>1</td>\n",
              "    </tr>\n",
              "    <tr>\n",
              "      <th>...</th>\n",
              "      <td>...</td>\n",
              "      <td>...</td>\n",
              "      <td>...</td>\n",
              "      <td>...</td>\n",
              "      <td>...</td>\n",
              "      <td>...</td>\n",
              "      <td>...</td>\n",
              "      <td>...</td>\n",
              "    </tr>\n",
              "    <tr>\n",
              "      <th>1481319</th>\n",
              "      <td>1</td>\n",
              "      <td>21</td>\n",
              "      <td>130</td>\n",
              "      <td>90</td>\n",
              "      <td>185</td>\n",
              "      <td>26.3</td>\n",
              "      <td>3</td>\n",
              "      <td>1</td>\n",
              "    </tr>\n",
              "    <tr>\n",
              "      <th>1481320</th>\n",
              "      <td>1</td>\n",
              "      <td>18</td>\n",
              "      <td>140</td>\n",
              "      <td>100</td>\n",
              "      <td>120</td>\n",
              "      <td>28.8</td>\n",
              "      <td>2</td>\n",
              "      <td>1</td>\n",
              "    </tr>\n",
              "    <tr>\n",
              "      <th>1481321</th>\n",
              "      <td>0</td>\n",
              "      <td>12</td>\n",
              "      <td>100</td>\n",
              "      <td>60</td>\n",
              "      <td>101</td>\n",
              "      <td>23.0</td>\n",
              "      <td>3</td>\n",
              "      <td>1</td>\n",
              "    </tr>\n",
              "    <tr>\n",
              "      <th>1481322</th>\n",
              "      <td>1</td>\n",
              "      <td>20</td>\n",
              "      <td>134</td>\n",
              "      <td>72</td>\n",
              "      <td>168</td>\n",
              "      <td>23.1</td>\n",
              "      <td>3</td>\n",
              "      <td>1</td>\n",
              "    </tr>\n",
              "    <tr>\n",
              "      <th>1481323</th>\n",
              "      <td>1</td>\n",
              "      <td>23</td>\n",
              "      <td>140</td>\n",
              "      <td>90</td>\n",
              "      <td>116</td>\n",
              "      <td>23.7</td>\n",
              "      <td>2</td>\n",
              "      <td>1</td>\n",
              "    </tr>\n",
              "  </tbody>\n",
              "</table>\n",
              "<p>1481324 rows × 8 columns</p>\n",
              "</div>\n",
              "      <button class=\"colab-df-convert\" onclick=\"convertToInteractive('df-bfea5811-eccc-4428-9100-ea55e6dfad57')\"\n",
              "              title=\"Convert this dataframe to an interactive table.\"\n",
              "              style=\"display:none;\">\n",
              "        \n",
              "  <svg xmlns=\"http://www.w3.org/2000/svg\" height=\"24px\"viewBox=\"0 0 24 24\"\n",
              "       width=\"24px\">\n",
              "    <path d=\"M0 0h24v24H0V0z\" fill=\"none\"/>\n",
              "    <path d=\"M18.56 5.44l.94 2.06.94-2.06 2.06-.94-2.06-.94-.94-2.06-.94 2.06-2.06.94zm-11 1L8.5 8.5l.94-2.06 2.06-.94-2.06-.94L8.5 2.5l-.94 2.06-2.06.94zm10 10l.94 2.06.94-2.06 2.06-.94-2.06-.94-.94-2.06-.94 2.06-2.06.94z\"/><path d=\"M17.41 7.96l-1.37-1.37c-.4-.4-.92-.59-1.43-.59-.52 0-1.04.2-1.43.59L10.3 9.45l-7.72 7.72c-.78.78-.78 2.05 0 2.83L4 21.41c.39.39.9.59 1.41.59.51 0 1.02-.2 1.41-.59l7.78-7.78 2.81-2.81c.8-.78.8-2.07 0-2.86zM5.41 20L4 18.59l7.72-7.72 1.47 1.35L5.41 20z\"/>\n",
              "  </svg>\n",
              "      </button>\n",
              "      \n",
              "  <style>\n",
              "    .colab-df-container {\n",
              "      display:flex;\n",
              "      flex-wrap:wrap;\n",
              "      gap: 12px;\n",
              "    }\n",
              "\n",
              "    .colab-df-convert {\n",
              "      background-color: #E8F0FE;\n",
              "      border: none;\n",
              "      border-radius: 50%;\n",
              "      cursor: pointer;\n",
              "      display: none;\n",
              "      fill: #1967D2;\n",
              "      height: 32px;\n",
              "      padding: 0 0 0 0;\n",
              "      width: 32px;\n",
              "    }\n",
              "\n",
              "    .colab-df-convert:hover {\n",
              "      background-color: #E2EBFA;\n",
              "      box-shadow: 0px 1px 2px rgba(60, 64, 67, 0.3), 0px 1px 3px 1px rgba(60, 64, 67, 0.15);\n",
              "      fill: #174EA6;\n",
              "    }\n",
              "\n",
              "    [theme=dark] .colab-df-convert {\n",
              "      background-color: #3B4455;\n",
              "      fill: #D2E3FC;\n",
              "    }\n",
              "\n",
              "    [theme=dark] .colab-df-convert:hover {\n",
              "      background-color: #434B5C;\n",
              "      box-shadow: 0px 1px 3px 1px rgba(0, 0, 0, 0.15);\n",
              "      filter: drop-shadow(0px 1px 2px rgba(0, 0, 0, 0.3));\n",
              "      fill: #FFFFFF;\n",
              "    }\n",
              "  </style>\n",
              "\n",
              "      <script>\n",
              "        const buttonEl =\n",
              "          document.querySelector('#df-bfea5811-eccc-4428-9100-ea55e6dfad57 button.colab-df-convert');\n",
              "        buttonEl.style.display =\n",
              "          google.colab.kernel.accessAllowed ? 'block' : 'none';\n",
              "\n",
              "        async function convertToInteractive(key) {\n",
              "          const element = document.querySelector('#df-bfea5811-eccc-4428-9100-ea55e6dfad57');\n",
              "          const dataTable =\n",
              "            await google.colab.kernel.invokeFunction('convertToInteractive',\n",
              "                                                     [key], {});\n",
              "          if (!dataTable) return;\n",
              "\n",
              "          const docLinkHtml = 'Like what you see? Visit the ' +\n",
              "            '<a target=\"_blank\" href=https://colab.research.google.com/notebooks/data_table.ipynb>data table notebook</a>'\n",
              "            + ' to learn more about interactive tables.';\n",
              "          element.innerHTML = '';\n",
              "          dataTable['output_type'] = 'display_data';\n",
              "          await google.colab.output.renderOutput(dataTable, element);\n",
              "          const docLink = document.createElement('div');\n",
              "          docLink.innerHTML = docLinkHtml;\n",
              "          element.appendChild(docLink);\n",
              "        }\n",
              "      </script>\n",
              "    </div>\n",
              "  </div>\n",
              "  "
            ]
          },
          "metadata": {},
          "execution_count": 3
        }
      ]
    },
    {
      "cell_type": "code",
      "source": [
        "df.drop(df[df['Dis']==0].index, inplace=True)\n",
        "df"
      ],
      "metadata": {
        "colab": {
          "base_uri": "https://localhost:8080/",
          "height": 424
        },
        "id": "yPuRIQ5KY0bs",
        "outputId": "10b6f9d0-507b-4b7a-ac7b-ec692f4fad75"
      },
      "execution_count": null,
      "outputs": [
        {
          "output_type": "execute_result",
          "data": {
            "text/plain": [
              "         SEX  BTH_G  SBP  DBP  FBS   BMI  DIS  Dis\n",
              "0          0      1   90   50   86  20.1    2    1\n",
              "1          0      1  120   80   90  27.0    3    1\n",
              "2          0      1  100   60  112  31.8    2    1\n",
              "3          0      1  170  120   86  23.3    2    1\n",
              "4          0      1  135   80  104  35.0    2    1\n",
              "...      ...    ...  ...  ...  ...   ...  ...  ...\n",
              "1481319    1     21  130   90  185  26.3    3    1\n",
              "1481320    1     18  140  100  120  28.8    2    1\n",
              "1481321    0     12  100   60  101  23.0    3    1\n",
              "1481322    1     20  134   72  168  23.1    3    1\n",
              "1481323    1     23  140   90  116  23.7    2    1\n",
              "\n",
              "[740662 rows x 8 columns]"
            ],
            "text/html": [
              "\n",
              "  <div id=\"df-73b0c37f-3725-45e1-bcf4-9720ec27e83e\">\n",
              "    <div class=\"colab-df-container\">\n",
              "      <div>\n",
              "<style scoped>\n",
              "    .dataframe tbody tr th:only-of-type {\n",
              "        vertical-align: middle;\n",
              "    }\n",
              "\n",
              "    .dataframe tbody tr th {\n",
              "        vertical-align: top;\n",
              "    }\n",
              "\n",
              "    .dataframe thead th {\n",
              "        text-align: right;\n",
              "    }\n",
              "</style>\n",
              "<table border=\"1\" class=\"dataframe\">\n",
              "  <thead>\n",
              "    <tr style=\"text-align: right;\">\n",
              "      <th></th>\n",
              "      <th>SEX</th>\n",
              "      <th>BTH_G</th>\n",
              "      <th>SBP</th>\n",
              "      <th>DBP</th>\n",
              "      <th>FBS</th>\n",
              "      <th>BMI</th>\n",
              "      <th>DIS</th>\n",
              "      <th>Dis</th>\n",
              "    </tr>\n",
              "  </thead>\n",
              "  <tbody>\n",
              "    <tr>\n",
              "      <th>0</th>\n",
              "      <td>0</td>\n",
              "      <td>1</td>\n",
              "      <td>90</td>\n",
              "      <td>50</td>\n",
              "      <td>86</td>\n",
              "      <td>20.1</td>\n",
              "      <td>2</td>\n",
              "      <td>1</td>\n",
              "    </tr>\n",
              "    <tr>\n",
              "      <th>1</th>\n",
              "      <td>0</td>\n",
              "      <td>1</td>\n",
              "      <td>120</td>\n",
              "      <td>80</td>\n",
              "      <td>90</td>\n",
              "      <td>27.0</td>\n",
              "      <td>3</td>\n",
              "      <td>1</td>\n",
              "    </tr>\n",
              "    <tr>\n",
              "      <th>2</th>\n",
              "      <td>0</td>\n",
              "      <td>1</td>\n",
              "      <td>100</td>\n",
              "      <td>60</td>\n",
              "      <td>112</td>\n",
              "      <td>31.8</td>\n",
              "      <td>2</td>\n",
              "      <td>1</td>\n",
              "    </tr>\n",
              "    <tr>\n",
              "      <th>3</th>\n",
              "      <td>0</td>\n",
              "      <td>1</td>\n",
              "      <td>170</td>\n",
              "      <td>120</td>\n",
              "      <td>86</td>\n",
              "      <td>23.3</td>\n",
              "      <td>2</td>\n",
              "      <td>1</td>\n",
              "    </tr>\n",
              "    <tr>\n",
              "      <th>4</th>\n",
              "      <td>0</td>\n",
              "      <td>1</td>\n",
              "      <td>135</td>\n",
              "      <td>80</td>\n",
              "      <td>104</td>\n",
              "      <td>35.0</td>\n",
              "      <td>2</td>\n",
              "      <td>1</td>\n",
              "    </tr>\n",
              "    <tr>\n",
              "      <th>...</th>\n",
              "      <td>...</td>\n",
              "      <td>...</td>\n",
              "      <td>...</td>\n",
              "      <td>...</td>\n",
              "      <td>...</td>\n",
              "      <td>...</td>\n",
              "      <td>...</td>\n",
              "      <td>...</td>\n",
              "    </tr>\n",
              "    <tr>\n",
              "      <th>1481319</th>\n",
              "      <td>1</td>\n",
              "      <td>21</td>\n",
              "      <td>130</td>\n",
              "      <td>90</td>\n",
              "      <td>185</td>\n",
              "      <td>26.3</td>\n",
              "      <td>3</td>\n",
              "      <td>1</td>\n",
              "    </tr>\n",
              "    <tr>\n",
              "      <th>1481320</th>\n",
              "      <td>1</td>\n",
              "      <td>18</td>\n",
              "      <td>140</td>\n",
              "      <td>100</td>\n",
              "      <td>120</td>\n",
              "      <td>28.8</td>\n",
              "      <td>2</td>\n",
              "      <td>1</td>\n",
              "    </tr>\n",
              "    <tr>\n",
              "      <th>1481321</th>\n",
              "      <td>0</td>\n",
              "      <td>12</td>\n",
              "      <td>100</td>\n",
              "      <td>60</td>\n",
              "      <td>101</td>\n",
              "      <td>23.0</td>\n",
              "      <td>3</td>\n",
              "      <td>1</td>\n",
              "    </tr>\n",
              "    <tr>\n",
              "      <th>1481322</th>\n",
              "      <td>1</td>\n",
              "      <td>20</td>\n",
              "      <td>134</td>\n",
              "      <td>72</td>\n",
              "      <td>168</td>\n",
              "      <td>23.1</td>\n",
              "      <td>3</td>\n",
              "      <td>1</td>\n",
              "    </tr>\n",
              "    <tr>\n",
              "      <th>1481323</th>\n",
              "      <td>1</td>\n",
              "      <td>23</td>\n",
              "      <td>140</td>\n",
              "      <td>90</td>\n",
              "      <td>116</td>\n",
              "      <td>23.7</td>\n",
              "      <td>2</td>\n",
              "      <td>1</td>\n",
              "    </tr>\n",
              "  </tbody>\n",
              "</table>\n",
              "<p>740662 rows × 8 columns</p>\n",
              "</div>\n",
              "      <button class=\"colab-df-convert\" onclick=\"convertToInteractive('df-73b0c37f-3725-45e1-bcf4-9720ec27e83e')\"\n",
              "              title=\"Convert this dataframe to an interactive table.\"\n",
              "              style=\"display:none;\">\n",
              "        \n",
              "  <svg xmlns=\"http://www.w3.org/2000/svg\" height=\"24px\"viewBox=\"0 0 24 24\"\n",
              "       width=\"24px\">\n",
              "    <path d=\"M0 0h24v24H0V0z\" fill=\"none\"/>\n",
              "    <path d=\"M18.56 5.44l.94 2.06.94-2.06 2.06-.94-2.06-.94-.94-2.06-.94 2.06-2.06.94zm-11 1L8.5 8.5l.94-2.06 2.06-.94-2.06-.94L8.5 2.5l-.94 2.06-2.06.94zm10 10l.94 2.06.94-2.06 2.06-.94-2.06-.94-.94-2.06-.94 2.06-2.06.94z\"/><path d=\"M17.41 7.96l-1.37-1.37c-.4-.4-.92-.59-1.43-.59-.52 0-1.04.2-1.43.59L10.3 9.45l-7.72 7.72c-.78.78-.78 2.05 0 2.83L4 21.41c.39.39.9.59 1.41.59.51 0 1.02-.2 1.41-.59l7.78-7.78 2.81-2.81c.8-.78.8-2.07 0-2.86zM5.41 20L4 18.59l7.72-7.72 1.47 1.35L5.41 20z\"/>\n",
              "  </svg>\n",
              "      </button>\n",
              "      \n",
              "  <style>\n",
              "    .colab-df-container {\n",
              "      display:flex;\n",
              "      flex-wrap:wrap;\n",
              "      gap: 12px;\n",
              "    }\n",
              "\n",
              "    .colab-df-convert {\n",
              "      background-color: #E8F0FE;\n",
              "      border: none;\n",
              "      border-radius: 50%;\n",
              "      cursor: pointer;\n",
              "      display: none;\n",
              "      fill: #1967D2;\n",
              "      height: 32px;\n",
              "      padding: 0 0 0 0;\n",
              "      width: 32px;\n",
              "    }\n",
              "\n",
              "    .colab-df-convert:hover {\n",
              "      background-color: #E2EBFA;\n",
              "      box-shadow: 0px 1px 2px rgba(60, 64, 67, 0.3), 0px 1px 3px 1px rgba(60, 64, 67, 0.15);\n",
              "      fill: #174EA6;\n",
              "    }\n",
              "\n",
              "    [theme=dark] .colab-df-convert {\n",
              "      background-color: #3B4455;\n",
              "      fill: #D2E3FC;\n",
              "    }\n",
              "\n",
              "    [theme=dark] .colab-df-convert:hover {\n",
              "      background-color: #434B5C;\n",
              "      box-shadow: 0px 1px 3px 1px rgba(0, 0, 0, 0.15);\n",
              "      filter: drop-shadow(0px 1px 2px rgba(0, 0, 0, 0.3));\n",
              "      fill: #FFFFFF;\n",
              "    }\n",
              "  </style>\n",
              "\n",
              "      <script>\n",
              "        const buttonEl =\n",
              "          document.querySelector('#df-73b0c37f-3725-45e1-bcf4-9720ec27e83e button.colab-df-convert');\n",
              "        buttonEl.style.display =\n",
              "          google.colab.kernel.accessAllowed ? 'block' : 'none';\n",
              "\n",
              "        async function convertToInteractive(key) {\n",
              "          const element = document.querySelector('#df-73b0c37f-3725-45e1-bcf4-9720ec27e83e');\n",
              "          const dataTable =\n",
              "            await google.colab.kernel.invokeFunction('convertToInteractive',\n",
              "                                                     [key], {});\n",
              "          if (!dataTable) return;\n",
              "\n",
              "          const docLinkHtml = 'Like what you see? Visit the ' +\n",
              "            '<a target=\"_blank\" href=https://colab.research.google.com/notebooks/data_table.ipynb>data table notebook</a>'\n",
              "            + ' to learn more about interactive tables.';\n",
              "          element.innerHTML = '';\n",
              "          dataTable['output_type'] = 'display_data';\n",
              "          await google.colab.output.renderOutput(dataTable, element);\n",
              "          const docLink = document.createElement('div');\n",
              "          docLink.innerHTML = docLinkHtml;\n",
              "          element.appendChild(docLink);\n",
              "        }\n",
              "      </script>\n",
              "    </div>\n",
              "  </div>\n",
              "  "
            ]
          },
          "metadata": {},
          "execution_count": 4
        }
      ]
    },
    {
      "cell_type": "code",
      "source": [
        "# 1,0 정답 레이블 삭제\n",
        "df.drop(['Dis'], axis=1, inplace=True)\n",
        "df"
      ],
      "metadata": {
        "colab": {
          "base_uri": "https://localhost:8080/",
          "height": 424
        },
        "id": "rs2MmJdGMIA9",
        "outputId": "3baebbfa-93d9-471a-cad4-94c318be66e4"
      },
      "execution_count": null,
      "outputs": [
        {
          "output_type": "execute_result",
          "data": {
            "text/plain": [
              "         SEX  BTH_G  SBP  DBP  FBS   BMI  DIS\n",
              "0          0      1   90   50   86  20.1    2\n",
              "1          0      1  120   80   90  27.0    3\n",
              "2          0      1  100   60  112  31.8    2\n",
              "3          0      1  170  120   86  23.3    2\n",
              "4          0      1  135   80  104  35.0    2\n",
              "...      ...    ...  ...  ...  ...   ...  ...\n",
              "1481319    1     21  130   90  185  26.3    3\n",
              "1481320    1     18  140  100  120  28.8    2\n",
              "1481321    0     12  100   60  101  23.0    3\n",
              "1481322    1     20  134   72  168  23.1    3\n",
              "1481323    1     23  140   90  116  23.7    2\n",
              "\n",
              "[740662 rows x 7 columns]"
            ],
            "text/html": [
              "\n",
              "  <div id=\"df-c2b258ea-2eaf-4cc3-bd4c-a05c6e27c486\">\n",
              "    <div class=\"colab-df-container\">\n",
              "      <div>\n",
              "<style scoped>\n",
              "    .dataframe tbody tr th:only-of-type {\n",
              "        vertical-align: middle;\n",
              "    }\n",
              "\n",
              "    .dataframe tbody tr th {\n",
              "        vertical-align: top;\n",
              "    }\n",
              "\n",
              "    .dataframe thead th {\n",
              "        text-align: right;\n",
              "    }\n",
              "</style>\n",
              "<table border=\"1\" class=\"dataframe\">\n",
              "  <thead>\n",
              "    <tr style=\"text-align: right;\">\n",
              "      <th></th>\n",
              "      <th>SEX</th>\n",
              "      <th>BTH_G</th>\n",
              "      <th>SBP</th>\n",
              "      <th>DBP</th>\n",
              "      <th>FBS</th>\n",
              "      <th>BMI</th>\n",
              "      <th>DIS</th>\n",
              "    </tr>\n",
              "  </thead>\n",
              "  <tbody>\n",
              "    <tr>\n",
              "      <th>0</th>\n",
              "      <td>0</td>\n",
              "      <td>1</td>\n",
              "      <td>90</td>\n",
              "      <td>50</td>\n",
              "      <td>86</td>\n",
              "      <td>20.1</td>\n",
              "      <td>2</td>\n",
              "    </tr>\n",
              "    <tr>\n",
              "      <th>1</th>\n",
              "      <td>0</td>\n",
              "      <td>1</td>\n",
              "      <td>120</td>\n",
              "      <td>80</td>\n",
              "      <td>90</td>\n",
              "      <td>27.0</td>\n",
              "      <td>3</td>\n",
              "    </tr>\n",
              "    <tr>\n",
              "      <th>2</th>\n",
              "      <td>0</td>\n",
              "      <td>1</td>\n",
              "      <td>100</td>\n",
              "      <td>60</td>\n",
              "      <td>112</td>\n",
              "      <td>31.8</td>\n",
              "      <td>2</td>\n",
              "    </tr>\n",
              "    <tr>\n",
              "      <th>3</th>\n",
              "      <td>0</td>\n",
              "      <td>1</td>\n",
              "      <td>170</td>\n",
              "      <td>120</td>\n",
              "      <td>86</td>\n",
              "      <td>23.3</td>\n",
              "      <td>2</td>\n",
              "    </tr>\n",
              "    <tr>\n",
              "      <th>4</th>\n",
              "      <td>0</td>\n",
              "      <td>1</td>\n",
              "      <td>135</td>\n",
              "      <td>80</td>\n",
              "      <td>104</td>\n",
              "      <td>35.0</td>\n",
              "      <td>2</td>\n",
              "    </tr>\n",
              "    <tr>\n",
              "      <th>...</th>\n",
              "      <td>...</td>\n",
              "      <td>...</td>\n",
              "      <td>...</td>\n",
              "      <td>...</td>\n",
              "      <td>...</td>\n",
              "      <td>...</td>\n",
              "      <td>...</td>\n",
              "    </tr>\n",
              "    <tr>\n",
              "      <th>1481319</th>\n",
              "      <td>1</td>\n",
              "      <td>21</td>\n",
              "      <td>130</td>\n",
              "      <td>90</td>\n",
              "      <td>185</td>\n",
              "      <td>26.3</td>\n",
              "      <td>3</td>\n",
              "    </tr>\n",
              "    <tr>\n",
              "      <th>1481320</th>\n",
              "      <td>1</td>\n",
              "      <td>18</td>\n",
              "      <td>140</td>\n",
              "      <td>100</td>\n",
              "      <td>120</td>\n",
              "      <td>28.8</td>\n",
              "      <td>2</td>\n",
              "    </tr>\n",
              "    <tr>\n",
              "      <th>1481321</th>\n",
              "      <td>0</td>\n",
              "      <td>12</td>\n",
              "      <td>100</td>\n",
              "      <td>60</td>\n",
              "      <td>101</td>\n",
              "      <td>23.0</td>\n",
              "      <td>3</td>\n",
              "    </tr>\n",
              "    <tr>\n",
              "      <th>1481322</th>\n",
              "      <td>1</td>\n",
              "      <td>20</td>\n",
              "      <td>134</td>\n",
              "      <td>72</td>\n",
              "      <td>168</td>\n",
              "      <td>23.1</td>\n",
              "      <td>3</td>\n",
              "    </tr>\n",
              "    <tr>\n",
              "      <th>1481323</th>\n",
              "      <td>1</td>\n",
              "      <td>23</td>\n",
              "      <td>140</td>\n",
              "      <td>90</td>\n",
              "      <td>116</td>\n",
              "      <td>23.7</td>\n",
              "      <td>2</td>\n",
              "    </tr>\n",
              "  </tbody>\n",
              "</table>\n",
              "<p>740662 rows × 7 columns</p>\n",
              "</div>\n",
              "      <button class=\"colab-df-convert\" onclick=\"convertToInteractive('df-c2b258ea-2eaf-4cc3-bd4c-a05c6e27c486')\"\n",
              "              title=\"Convert this dataframe to an interactive table.\"\n",
              "              style=\"display:none;\">\n",
              "        \n",
              "  <svg xmlns=\"http://www.w3.org/2000/svg\" height=\"24px\"viewBox=\"0 0 24 24\"\n",
              "       width=\"24px\">\n",
              "    <path d=\"M0 0h24v24H0V0z\" fill=\"none\"/>\n",
              "    <path d=\"M18.56 5.44l.94 2.06.94-2.06 2.06-.94-2.06-.94-.94-2.06-.94 2.06-2.06.94zm-11 1L8.5 8.5l.94-2.06 2.06-.94-2.06-.94L8.5 2.5l-.94 2.06-2.06.94zm10 10l.94 2.06.94-2.06 2.06-.94-2.06-.94-.94-2.06-.94 2.06-2.06.94z\"/><path d=\"M17.41 7.96l-1.37-1.37c-.4-.4-.92-.59-1.43-.59-.52 0-1.04.2-1.43.59L10.3 9.45l-7.72 7.72c-.78.78-.78 2.05 0 2.83L4 21.41c.39.39.9.59 1.41.59.51 0 1.02-.2 1.41-.59l7.78-7.78 2.81-2.81c.8-.78.8-2.07 0-2.86zM5.41 20L4 18.59l7.72-7.72 1.47 1.35L5.41 20z\"/>\n",
              "  </svg>\n",
              "      </button>\n",
              "      \n",
              "  <style>\n",
              "    .colab-df-container {\n",
              "      display:flex;\n",
              "      flex-wrap:wrap;\n",
              "      gap: 12px;\n",
              "    }\n",
              "\n",
              "    .colab-df-convert {\n",
              "      background-color: #E8F0FE;\n",
              "      border: none;\n",
              "      border-radius: 50%;\n",
              "      cursor: pointer;\n",
              "      display: none;\n",
              "      fill: #1967D2;\n",
              "      height: 32px;\n",
              "      padding: 0 0 0 0;\n",
              "      width: 32px;\n",
              "    }\n",
              "\n",
              "    .colab-df-convert:hover {\n",
              "      background-color: #E2EBFA;\n",
              "      box-shadow: 0px 1px 2px rgba(60, 64, 67, 0.3), 0px 1px 3px 1px rgba(60, 64, 67, 0.15);\n",
              "      fill: #174EA6;\n",
              "    }\n",
              "\n",
              "    [theme=dark] .colab-df-convert {\n",
              "      background-color: #3B4455;\n",
              "      fill: #D2E3FC;\n",
              "    }\n",
              "\n",
              "    [theme=dark] .colab-df-convert:hover {\n",
              "      background-color: #434B5C;\n",
              "      box-shadow: 0px 1px 3px 1px rgba(0, 0, 0, 0.15);\n",
              "      filter: drop-shadow(0px 1px 2px rgba(0, 0, 0, 0.3));\n",
              "      fill: #FFFFFF;\n",
              "    }\n",
              "  </style>\n",
              "\n",
              "      <script>\n",
              "        const buttonEl =\n",
              "          document.querySelector('#df-c2b258ea-2eaf-4cc3-bd4c-a05c6e27c486 button.colab-df-convert');\n",
              "        buttonEl.style.display =\n",
              "          google.colab.kernel.accessAllowed ? 'block' : 'none';\n",
              "\n",
              "        async function convertToInteractive(key) {\n",
              "          const element = document.querySelector('#df-c2b258ea-2eaf-4cc3-bd4c-a05c6e27c486');\n",
              "          const dataTable =\n",
              "            await google.colab.kernel.invokeFunction('convertToInteractive',\n",
              "                                                     [key], {});\n",
              "          if (!dataTable) return;\n",
              "\n",
              "          const docLinkHtml = 'Like what you see? Visit the ' +\n",
              "            '<a target=\"_blank\" href=https://colab.research.google.com/notebooks/data_table.ipynb>data table notebook</a>'\n",
              "            + ' to learn more about interactive tables.';\n",
              "          element.innerHTML = '';\n",
              "          dataTable['output_type'] = 'display_data';\n",
              "          await google.colab.output.renderOutput(dataTable, element);\n",
              "          const docLink = document.createElement('div');\n",
              "          docLink.innerHTML = docLinkHtml;\n",
              "          element.appendChild(docLink);\n",
              "        }\n",
              "      </script>\n",
              "    </div>\n",
              "  </div>\n",
              "  "
            ]
          },
          "metadata": {},
          "execution_count": 5
        }
      ]
    },
    {
      "cell_type": "code",
      "source": [
        "df.notnull().sum()"
      ],
      "metadata": {
        "id": "1E62oD8CMw7P",
        "colab": {
          "base_uri": "https://localhost:8080/"
        },
        "outputId": "663c8da1-e7eb-4a97-86cc-4b69e8d13763"
      },
      "execution_count": null,
      "outputs": [
        {
          "output_type": "execute_result",
          "data": {
            "text/plain": [
              "SEX      740662\n",
              "BTH_G    740662\n",
              "SBP      740662\n",
              "DBP      740662\n",
              "FBS      740662\n",
              "BMI      740662\n",
              "DIS      740662\n",
              "dtype: int64"
            ]
          },
          "metadata": {},
          "execution_count": 6
        }
      ]
    },
    {
      "cell_type": "code",
      "source": [
        "df.info()"
      ],
      "metadata": {
        "colab": {
          "base_uri": "https://localhost:8080/"
        },
        "id": "n6hpurnLMH-3",
        "outputId": "5c8defa6-c333-44af-a5df-20f83205f360"
      },
      "execution_count": null,
      "outputs": [
        {
          "output_type": "stream",
          "name": "stdout",
          "text": [
            "<class 'pandas.core.frame.DataFrame'>\n",
            "Int64Index: 740662 entries, 0 to 1481323\n",
            "Data columns (total 7 columns):\n",
            " #   Column  Non-Null Count   Dtype  \n",
            "---  ------  --------------   -----  \n",
            " 0   SEX     740662 non-null  int64  \n",
            " 1   BTH_G   740662 non-null  int64  \n",
            " 2   SBP     740662 non-null  int64  \n",
            " 3   DBP     740662 non-null  int64  \n",
            " 4   FBS     740662 non-null  int64  \n",
            " 5   BMI     740662 non-null  float64\n",
            " 6   DIS     740662 non-null  int64  \n",
            "dtypes: float64(1), int64(6)\n",
            "memory usage: 45.2 MB\n"
          ]
        }
      ]
    },
    {
      "cell_type": "code",
      "source": [
        "# feature와 target 분리(설명변수 및 목표변수 분리)\n",
        "x = df.drop(['DIS'], axis=1) # df[df.columns.difference(['target'])]\n",
        "y = np.array(df['DIS']) # y = df['target']"
      ],
      "metadata": {
        "id": "n39rTFx_KmWt"
      },
      "execution_count": null,
      "outputs": []
    },
    {
      "cell_type": "code",
      "source": [
        "# 전체 데이터에서 학습데이터셋과 테스트셋을 나눔\n",
        "x_train,x_test,y_train,y_test=train_test_split(x,y,test_size=0.2, shuffle=True, random_state = 42) # 기본 0.25\n",
        "\n",
        "# Feature Scaling\n",
        "from sklearn.preprocessing import StandardScaler\n",
        "sc = StandardScaler()\n",
        "x_train = sc.fit_transform(x_train)\n",
        "x_test = sc.transform(x_test)\n",
        "\n",
        "# train과 test데이터의 비율을 6:4로 나누어주고\n",
        "# 0.4비율이 된 test데이터를 다시 각 0.5 비율로 validation과 test를 나누어 줌\n",
        "# 최종 결과가 train : test : validation = 6 : 2 : 2 비율\n",
        "\n",
        "# train set에서 train과 validation set를 나눔 # x,y,test_size=0.4\n",
        "# x_test,x_val,y_test,y_val=train_test_split(x_test,y_test,test_size=0.5, shuffle=True)\n",
        "\n",
        "print(x_train.shape)\n",
        "print(y_train.shape)\n",
        "# print(x_val.shape)\n",
        "# print(y_val.shape)\n",
        "print(x_test.shape)\n",
        "print(y_test.shape)"
      ],
      "metadata": {
        "colab": {
          "base_uri": "https://localhost:8080/"
        },
        "id": "txpXUwCoNhwc",
        "outputId": "24bd97e7-17c7-4187-86e4-66428f192cf4"
      },
      "execution_count": null,
      "outputs": [
        {
          "output_type": "stream",
          "name": "stdout",
          "text": [
            "(592529, 6)\n",
            "(592529,)\n",
            "(148133, 6)\n",
            "(148133,)\n"
          ]
        }
      ]
    },
    {
      "cell_type": "markdown",
      "source": [
        "### 파라미터 세팅\n",
        "![img](https://img1.daumcdn.net/thumb/R1280x0/?scode=mtistory2&fname=https%3A%2F%2Fblog.kakaocdn.net%2Fdn%2F1PyOG%2FbtqzusXhcyY%2FwijjRmggTpggOpi4GKMEQ1%2Fimg.png)\n",
        "\n",
        "- [LightGBM](https://injo.tistory.com/48)\n",
        "\n",
        "- [lightGBM / XGBoost 파라미터 설명](http://machinelearningkorea.com/2019/09/29/lightgbm-%ED%8C%8C%EB%9D%BC%EB%AF%B8%ED%84%B0/)\n",
        "\n",
        "- [파라미터 설명과 코드 실습](https://for-my-wealthy-life.tistory.com/24)"
      ],
      "metadata": {
        "id": "Ik3xMcS9MvqH"
      }
    },
    {
      "cell_type": "markdown",
      "source": [
        "### lightgbm 데이터셋으로 변환"
      ],
      "metadata": {
        "id": "iBEZE-5-Myj4"
      }
    },
    {
      "cell_type": "code",
      "source": [
        "# 라이트GBM without tuning\n",
        "import lightgbm as lgb\n",
        "from lightgbm import LGBMClassifier as lgbm\n",
        "\n",
        "train_ds = lgb.Dataset(x_train, label = y_train)\n",
        "test_ds = lgb.Dataset(x_test, label = y_test)\n",
        "# val_ds = lgb.Dataset(x_val, label = y_val)"
      ],
      "metadata": {
        "id": "8V41u9r06pSf"
      },
      "execution_count": null,
      "outputs": []
    },
    {
      "cell_type": "code",
      "source": [
        "# 트리 개수는 100개로 지정\n",
        "lgbm_wrapper = lgbm(n_estinators=100, learning_rate=0.1, max_depth=-1, min_data=20, num_leaves=15, bagging_fraction=1, feature_fraction=0.5, application= 'multiclass') # boosting_type='gbdt', max_bin=255"
      ],
      "metadata": {
        "id": "E2WMKyyjnRaK"
      },
      "execution_count": 117,
      "outputs": []
    },
    {
      "cell_type": "markdown",
      "source": [
        "\n",
        "```\n",
        "params = {'num_iterations': 1000, # 1000이상\n",
        "           'objective': 'binary', # multi:softmax\n",
        "           'learning_rate': 0.1, # 0.05~0.1\n",
        "           'max_depth': -1,\n",
        "            # default는 -1로 제한없이 분기 \n",
        "           'min_data': 20,\n",
        "           'num_leaves' : 15,\n",
        "            # depth가 4라면 (2의 4제곱 – 1) = 15 / 31\n",
        "           'boosting': 'gbdt', \n",
        "           'bagging_fraction': 1.0,\n",
        "           'feature_fraction': 0.9,\n",
        "            # 1이 기본값이나, 0.7~0.9 정도로 세팅하는 편이 일반적\n",
        "            'early_stopping_round': 100,\n",
        "            # validation셋이 없으면 무용지물\n",
        "           'metric': 'mse'} # regression_l2(MSE)\n",
        "          \n",
        "            # L1/L2 규제 : 정확도에 어떻게 영향을 줄지 예측하기가 힘들어 default인 0으로 놔두는 편\n",
        "           'lambda_l1': 0.0,\n",
        "           'lambda_l2': 0.0, \n",
        "           'max_bin' : 255 # default\n",
        "\n",
        "           'is_training_metric': True, # 회귀?\n",
        "           'num_leaves': 144, # 회귀?\n",
        "\n",
        "           'bagging_freq': 1, \n",
        "           'seed':2018}\n",
        "```\n",
        "\n",
        "\n",
        "\n",
        "\n",
        "\n",
        "- Metric / Loss 관련 파라미터 (★★★)\n",
        "당연히, 학습하려는 목적에 따라 다음의 metric을 설정하여야 하며, lightGBM에서 제공하는 파라미터는 다음과 같다.\n",
        "  - binary(Cross Entropy)\n",
        "  - multiclass(Cross Entropy)\n",
        "  - regression_l2(MSE)\n",
        "  - regression_l1 (MAE)\n",
        "  - mape (MAPE)\n",
        "  - poisson (Log Transformation)\n",
        "  - quantile (Quantile)\n",
        "  - huber (Huber loss, MAE approx)\n",
        "  - fair (Fair loss, MAE approx)\n",
        "  - gamma (Residual Deviance)\n",
        "  - lambdarank\n",
        "  - tweedie"
      ],
      "metadata": {
        "id": "HIvyxmUERmaC"
      }
    },
    {
      "cell_type": "markdown",
      "source": [
        "### 훈련"
      ],
      "metadata": {
        "id": "7K-qNIhJMqyx"
      }
    },
    {
      "cell_type": "code",
      "source": [
        "# LGMB도 XGBoost처럼 early stopping 가능\n",
        "\n",
        "evals = [(x_test, y_test)]\n",
        "lgbm_wrapper.fit(x_train, y_train, eval_metric='logloss', eval_set = evals, verbose = True) # early_stopping_rounds = 100\n",
        "# lgbm_roc_score = roc_auc_score(y_val, lgbm_wrapper.predict_proba(x_val), average = 'macro', multi_class='ovo')\n",
        "\n",
        "preds = lgbm_wrapper.predict(x_test)"
      ],
      "metadata": {
        "colab": {
          "base_uri": "https://localhost:8080/"
        },
        "id": "Y49HvVxunlHC",
        "outputId": "8877bee5-3d18-4637-811d-c56d7e8c5b63"
      },
      "execution_count": 118,
      "outputs": [
        {
          "output_type": "stream",
          "name": "stdout",
          "text": [
            "[1]\tvalid_0's multi_logloss: 1.09152\tvalid_0's multi_logloss: 1.09152\n",
            "[2]\tvalid_0's multi_logloss: 1.08692\tvalid_0's multi_logloss: 1.08692\n",
            "[3]\tvalid_0's multi_logloss: 1.0664\tvalid_0's multi_logloss: 1.0664\n",
            "[4]\tvalid_0's multi_logloss: 1.04916\tvalid_0's multi_logloss: 1.04916\n",
            "[5]\tvalid_0's multi_logloss: 1.04296\tvalid_0's multi_logloss: 1.04296\n",
            "[6]\tvalid_0's multi_logloss: 1.03508\tvalid_0's multi_logloss: 1.03508\n",
            "[7]\tvalid_0's multi_logloss: 1.02222\tvalid_0's multi_logloss: 1.02222\n",
            "[8]\tvalid_0's multi_logloss: 1.01104\tvalid_0's multi_logloss: 1.01104\n",
            "[9]\tvalid_0's multi_logloss: 1.00506\tvalid_0's multi_logloss: 1.00506\n",
            "[10]\tvalid_0's multi_logloss: 1.00086\tvalid_0's multi_logloss: 1.00086\n",
            "[11]\tvalid_0's multi_logloss: 0.996187\tvalid_0's multi_logloss: 0.996187\n",
            "[12]\tvalid_0's multi_logloss: 0.991433\tvalid_0's multi_logloss: 0.991433\n",
            "[13]\tvalid_0's multi_logloss: 0.986919\tvalid_0's multi_logloss: 0.986919\n",
            "[14]\tvalid_0's multi_logloss: 0.977298\tvalid_0's multi_logloss: 0.977298\n",
            "[15]\tvalid_0's multi_logloss: 0.975201\tvalid_0's multi_logloss: 0.975201\n",
            "[16]\tvalid_0's multi_logloss: 0.973922\tvalid_0's multi_logloss: 0.973922\n",
            "[17]\tvalid_0's multi_logloss: 0.970478\tvalid_0's multi_logloss: 0.970478\n",
            "[18]\tvalid_0's multi_logloss: 0.963886\tvalid_0's multi_logloss: 0.963886\n",
            "[19]\tvalid_0's multi_logloss: 0.960895\tvalid_0's multi_logloss: 0.960895\n",
            "[20]\tvalid_0's multi_logloss: 0.958043\tvalid_0's multi_logloss: 0.958043\n",
            "[21]\tvalid_0's multi_logloss: 0.951675\tvalid_0's multi_logloss: 0.951675\n",
            "[22]\tvalid_0's multi_logloss: 0.95024\tvalid_0's multi_logloss: 0.95024\n",
            "[23]\tvalid_0's multi_logloss: 0.948772\tvalid_0's multi_logloss: 0.948772\n",
            "[24]\tvalid_0's multi_logloss: 0.94364\tvalid_0's multi_logloss: 0.94364\n",
            "[25]\tvalid_0's multi_logloss: 0.939816\tvalid_0's multi_logloss: 0.939816\n",
            "[26]\tvalid_0's multi_logloss: 0.939238\tvalid_0's multi_logloss: 0.939238\n",
            "[27]\tvalid_0's multi_logloss: 0.937704\tvalid_0's multi_logloss: 0.937704\n",
            "[28]\tvalid_0's multi_logloss: 0.935997\tvalid_0's multi_logloss: 0.935997\n",
            "[29]\tvalid_0's multi_logloss: 0.932616\tvalid_0's multi_logloss: 0.932616\n",
            "[30]\tvalid_0's multi_logloss: 0.931486\tvalid_0's multi_logloss: 0.931486\n",
            "[31]\tvalid_0's multi_logloss: 0.929881\tvalid_0's multi_logloss: 0.929881\n",
            "[32]\tvalid_0's multi_logloss: 0.926387\tvalid_0's multi_logloss: 0.926387\n",
            "[33]\tvalid_0's multi_logloss: 0.923599\tvalid_0's multi_logloss: 0.923599\n",
            "[34]\tvalid_0's multi_logloss: 0.920772\tvalid_0's multi_logloss: 0.920772\n",
            "[35]\tvalid_0's multi_logloss: 0.919732\tvalid_0's multi_logloss: 0.919732\n",
            "[36]\tvalid_0's multi_logloss: 0.917575\tvalid_0's multi_logloss: 0.917575\n",
            "[37]\tvalid_0's multi_logloss: 0.916949\tvalid_0's multi_logloss: 0.916949\n",
            "[38]\tvalid_0's multi_logloss: 0.916606\tvalid_0's multi_logloss: 0.916606\n",
            "[39]\tvalid_0's multi_logloss: 0.914715\tvalid_0's multi_logloss: 0.914715\n",
            "[40]\tvalid_0's multi_logloss: 0.913979\tvalid_0's multi_logloss: 0.913979\n",
            "[41]\tvalid_0's multi_logloss: 0.912318\tvalid_0's multi_logloss: 0.912318\n",
            "[42]\tvalid_0's multi_logloss: 0.910604\tvalid_0's multi_logloss: 0.910604\n",
            "[43]\tvalid_0's multi_logloss: 0.910237\tvalid_0's multi_logloss: 0.910237\n",
            "[44]\tvalid_0's multi_logloss: 0.909903\tvalid_0's multi_logloss: 0.909903\n",
            "[45]\tvalid_0's multi_logloss: 0.90926\tvalid_0's multi_logloss: 0.90926\n",
            "[46]\tvalid_0's multi_logloss: 0.907896\tvalid_0's multi_logloss: 0.907896\n",
            "[47]\tvalid_0's multi_logloss: 0.907625\tvalid_0's multi_logloss: 0.907625\n",
            "[48]\tvalid_0's multi_logloss: 0.907447\tvalid_0's multi_logloss: 0.907447\n",
            "[49]\tvalid_0's multi_logloss: 0.90698\tvalid_0's multi_logloss: 0.90698\n",
            "[50]\tvalid_0's multi_logloss: 0.906752\tvalid_0's multi_logloss: 0.906752\n",
            "[51]\tvalid_0's multi_logloss: 0.90633\tvalid_0's multi_logloss: 0.90633\n",
            "[52]\tvalid_0's multi_logloss: 0.905072\tvalid_0's multi_logloss: 0.905072\n",
            "[53]\tvalid_0's multi_logloss: 0.904888\tvalid_0's multi_logloss: 0.904888\n",
            "[54]\tvalid_0's multi_logloss: 0.903837\tvalid_0's multi_logloss: 0.903837\n",
            "[55]\tvalid_0's multi_logloss: 0.902776\tvalid_0's multi_logloss: 0.902776\n",
            "[56]\tvalid_0's multi_logloss: 0.902395\tvalid_0's multi_logloss: 0.902395\n",
            "[57]\tvalid_0's multi_logloss: 0.902231\tvalid_0's multi_logloss: 0.902231\n",
            "[58]\tvalid_0's multi_logloss: 0.901447\tvalid_0's multi_logloss: 0.901447\n",
            "[59]\tvalid_0's multi_logloss: 0.900495\tvalid_0's multi_logloss: 0.900495\n",
            "[60]\tvalid_0's multi_logloss: 0.900221\tvalid_0's multi_logloss: 0.900221\n",
            "[61]\tvalid_0's multi_logloss: 0.900024\tvalid_0's multi_logloss: 0.900024\n",
            "[62]\tvalid_0's multi_logloss: 0.899284\tvalid_0's multi_logloss: 0.899284\n",
            "[63]\tvalid_0's multi_logloss: 0.898461\tvalid_0's multi_logloss: 0.898461\n",
            "[64]\tvalid_0's multi_logloss: 0.898183\tvalid_0's multi_logloss: 0.898183\n",
            "[65]\tvalid_0's multi_logloss: 0.897582\tvalid_0's multi_logloss: 0.897582\n",
            "[66]\tvalid_0's multi_logloss: 0.897431\tvalid_0's multi_logloss: 0.897431\n",
            "[67]\tvalid_0's multi_logloss: 0.89677\tvalid_0's multi_logloss: 0.89677\n",
            "[68]\tvalid_0's multi_logloss: 0.89657\tvalid_0's multi_logloss: 0.89657\n",
            "[69]\tvalid_0's multi_logloss: 0.896345\tvalid_0's multi_logloss: 0.896345\n",
            "[70]\tvalid_0's multi_logloss: 0.896213\tvalid_0's multi_logloss: 0.896213\n",
            "[71]\tvalid_0's multi_logloss: 0.895674\tvalid_0's multi_logloss: 0.895674\n",
            "[72]\tvalid_0's multi_logloss: 0.895567\tvalid_0's multi_logloss: 0.895567\n",
            "[73]\tvalid_0's multi_logloss: 0.895053\tvalid_0's multi_logloss: 0.895053\n",
            "[74]\tvalid_0's multi_logloss: 0.894587\tvalid_0's multi_logloss: 0.894587\n",
            "[75]\tvalid_0's multi_logloss: 0.894456\tvalid_0's multi_logloss: 0.894456\n",
            "[76]\tvalid_0's multi_logloss: 0.894323\tvalid_0's multi_logloss: 0.894323\n",
            "[77]\tvalid_0's multi_logloss: 0.893915\tvalid_0's multi_logloss: 0.893915\n",
            "[78]\tvalid_0's multi_logloss: 0.893512\tvalid_0's multi_logloss: 0.893512\n",
            "[79]\tvalid_0's multi_logloss: 0.893365\tvalid_0's multi_logloss: 0.893365\n",
            "[80]\tvalid_0's multi_logloss: 0.893224\tvalid_0's multi_logloss: 0.893224\n",
            "[81]\tvalid_0's multi_logloss: 0.893125\tvalid_0's multi_logloss: 0.893125\n",
            "[82]\tvalid_0's multi_logloss: 0.892974\tvalid_0's multi_logloss: 0.892974\n",
            "[83]\tvalid_0's multi_logloss: 0.892846\tvalid_0's multi_logloss: 0.892846\n",
            "[84]\tvalid_0's multi_logloss: 0.892763\tvalid_0's multi_logloss: 0.892763\n",
            "[85]\tvalid_0's multi_logloss: 0.892456\tvalid_0's multi_logloss: 0.892456\n",
            "[86]\tvalid_0's multi_logloss: 0.892191\tvalid_0's multi_logloss: 0.892191\n",
            "[87]\tvalid_0's multi_logloss: 0.891885\tvalid_0's multi_logloss: 0.891885\n",
            "[88]\tvalid_0's multi_logloss: 0.891803\tvalid_0's multi_logloss: 0.891803\n",
            "[89]\tvalid_0's multi_logloss: 0.891723\tvalid_0's multi_logloss: 0.891723\n",
            "[90]\tvalid_0's multi_logloss: 0.891438\tvalid_0's multi_logloss: 0.891438\n",
            "[91]\tvalid_0's multi_logloss: 0.891178\tvalid_0's multi_logloss: 0.891178\n",
            "[92]\tvalid_0's multi_logloss: 0.890939\tvalid_0's multi_logloss: 0.890939\n",
            "[93]\tvalid_0's multi_logloss: 0.890883\tvalid_0's multi_logloss: 0.890883\n",
            "[94]\tvalid_0's multi_logloss: 0.890804\tvalid_0's multi_logloss: 0.890804\n",
            "[95]\tvalid_0's multi_logloss: 0.890598\tvalid_0's multi_logloss: 0.890598\n",
            "[96]\tvalid_0's multi_logloss: 0.890401\tvalid_0's multi_logloss: 0.890401\n",
            "[97]\tvalid_0's multi_logloss: 0.890228\tvalid_0's multi_logloss: 0.890228\n",
            "[98]\tvalid_0's multi_logloss: 0.890183\tvalid_0's multi_logloss: 0.890183\n",
            "[99]\tvalid_0's multi_logloss: 0.89011\tvalid_0's multi_logloss: 0.89011\n",
            "[100]\tvalid_0's multi_logloss: 0.890042\tvalid_0's multi_logloss: 0.890042\n"
          ]
        }
      ]
    },
    {
      "cell_type": "markdown",
      "source": [
        "[다중분류](https://wikidocs.net/84190)\n",
        "[ovo, ovr 에러](https://magicode.tistory.com/38)"
      ],
      "metadata": {
        "id": "il1z0T08vtn7"
      }
    },
    {
      "cell_type": "code",
      "source": [
        "predict_train = lgbm_wrapper.predict(x_train)\n",
        "print(\"train score : {}\".format(lgbm_wrapper.score(x_train, y_train)))\n",
        "predict_test = lgbm_wrapper.predict(x_test)\n",
        "\n",
        "from sklearn.metrics import classification_report\n",
        "print(classification_report(y_test, lgbm_wrapper.predict(x_test)))\n",
        "print(\"test score : {}\".format(lgbm_wrapper.score(x_test, y_test)))"
      ],
      "metadata": {
        "id": "Qnl-q7HMMlvr",
        "colab": {
          "base_uri": "https://localhost:8080/"
        },
        "outputId": "a47f10fb-976a-48b4-ec28-131e2337a268"
      },
      "execution_count": 124,
      "outputs": [
        {
          "output_type": "stream",
          "name": "stdout",
          "text": [
            "train score : 0.5806095566630494\n",
            "              precision    recall  f1-score   support\n",
            "\n",
            "           1       0.55      0.46      0.50     49446\n",
            "           2       0.58      0.78      0.66     49064\n",
            "           3       0.60      0.49      0.54     49623\n",
            "\n",
            "    accuracy                           0.58    148133\n",
            "   macro avg       0.58      0.58      0.57    148133\n",
            "weighted avg       0.58      0.58      0.57    148133\n",
            "\n",
            "test score : 0.5755908541648384\n"
          ]
        }
      ]
    },
    {
      "cell_type": "markdown",
      "source": [
        "---"
      ],
      "metadata": {
        "id": "u0rgm4I-nAYX"
      }
    },
    {
      "cell_type": "code",
      "source": [
        "# model = lgb.train(params, train_ds, 1000, verbose_eval=100, early_stopping_rounds=100, valid_sets = val_ds)"
      ],
      "metadata": {
        "id": "tulsoavZMgur"
      },
      "execution_count": 119,
      "outputs": []
    },
    {
      "cell_type": "code",
      "source": [
        "def get_clf_eval(y_test, y_pred):\n",
        "    confusion = confusion_matrix(y_test, y_pred)\n",
        "    accuracy = accuracy_score(y_test, y_pred)\n",
        "    precision = precision_score(y_test, y_pred, average = 'macro')\n",
        "    recall = recall_score(y_test, y_pred, average = 'macro')\n",
        "    F1 = f1_score(y_test, y_pred, average = 'macro')\n",
        "    # AUC = roc_auc_score(y_test, y_pred, multi_class='ovo')\n",
        "    print('오차행렬:\\n', confusion)\n",
        "    print('\\n정확도:{:.4f}'.format(accuracy))\n",
        "    print('정밀도:{:.4f}'.format(precision))\n",
        "    print('재현율:{:.4f}'.format(recall))\n",
        "    print('F1:{:.4f}'.format(F1))\n",
        "    # print('AUC:{:.4f}'.format(AUC))"
      ],
      "metadata": {
        "id": "-XgRo0MRKV0s"
      },
      "execution_count": 120,
      "outputs": []
    },
    {
      "cell_type": "code",
      "source": [
        "get_clf_eval(y_test, preds)"
      ],
      "metadata": {
        "colab": {
          "base_uri": "https://localhost:8080/"
        },
        "id": "iXTaweR2obKW",
        "outputId": "eefe66e3-f2dd-4a96-d5be-b87dd6263f6c"
      },
      "execution_count": 121,
      "outputs": [
        {
          "output_type": "stream",
          "name": "stdout",
          "text": [
            "오차행렬:\n",
            " [[22840 15201 11405]\n",
            " [ 6439 38074  4551]\n",
            " [12537 12736 24350]]\n",
            "\n",
            "정확도:0.5756\n",
            "정밀도:0.5757\n",
            "재현율:0.5762\n",
            "F1:0.5679\n"
          ]
        }
      ]
    },
    {
      "cell_type": "markdown",
      "source": [
        "---"
      ],
      "metadata": {
        "id": "tQwca_YgbnZ7"
      }
    },
    {
      "cell_type": "code",
      "source": [
        "# plot_importance()를 이용한 피처 중요도 시각화\n",
        "\n",
        "from lightgbm import plot_importance\n",
        "import matplotlib.pyplot as plt\n",
        "%matplotlib inline\n",
        "\n",
        "fig, ax = plt.subplots(figsize=(6, 6))\n",
        "plot_importance(lgbm_wrapper, max_num_features=6, ax=ax) # 상위 6개만"
      ],
      "metadata": {
        "colab": {
          "base_uri": "https://localhost:8080/",
          "height": 422
        },
        "id": "Cc5xG0suq66S",
        "outputId": "6f689d06-13e8-454a-d723-427955dd281c"
      },
      "execution_count": null,
      "outputs": [
        {
          "output_type": "execute_result",
          "data": {
            "text/plain": [
              "<matplotlib.axes._subplots.AxesSubplot at 0x7fb9ee3060d0>"
            ]
          },
          "metadata": {},
          "execution_count": 47
        },
        {
          "output_type": "display_data",
          "data": {
            "text/plain": [
              "<Figure size 432x432 with 1 Axes>"
            ],
            "image/png": "[encoded data removed]"
          },
          "metadata": {
            "needs_background": "light"
          }
        }
      ]
    },
    {
      "cell_type": "markdown",
      "source": [
        "### 에러 측정"
      ],
      "metadata": {
        "id": "Yrp4q-tbMotq"
      }
    },
    {
      "cell_type": "code",
      "source": [
        "# mse = mean_squared_error(y_test, predict_test)\n",
        "# r2 = r2_score(y_test, predict_test)"
      ],
      "metadata": {
        "id": "mvVLOSGxMnGe"
      },
      "execution_count": null,
      "outputs": []
    },
    {
      "cell_type": "code",
      "source": [
        "# print('Mean squared error: ', mse)\n",
        "# print('R2 score: ', r2)"
      ],
      "metadata": {
        "colab": {
          "base_uri": "https://localhost:8080/"
        },
        "id": "61yVKpWBINj9",
        "outputId": "904fffa5-336c-4be8-a79a-a5a133519f1f"
      },
      "execution_count": null,
      "outputs": [
        {
          "output_type": "stream",
          "name": "stdout",
          "text": [
            "Mean squared error:  1.666438942459584\n",
            "R2 score:  -1.5003302010237398\n"
          ]
        }
      ]
    },
    {
      "cell_type": "code",
      "source": [
        "# final_result = pd.concat([y_test.reset_index(drop=True), pd.DataFrame(predict_test)], axis = 1)"
      ],
      "metadata": {
        "id": "0lyPAIoXUoFy"
      },
      "execution_count": null,
      "outputs": []
    },
    {
      "cell_type": "code",
      "source": [
        "# final_result.columns = ['label','predict']"
      ],
      "metadata": {
        "id": "AjcYdagKUvK7"
      },
      "execution_count": null,
      "outputs": []
    },
    {
      "cell_type": "code",
      "source": [
        "# sns.regplot(x = 'label', y = 'predict', data = final_result)"
      ],
      "metadata": {
        "id": "HXe55Z5uUvFB"
      },
      "execution_count": null,
      "outputs": []
    },
    {
      "cell_type": "markdown",
      "source": [
        "----"
      ],
      "metadata": {
        "id": "LkjrNwQ0MmQK"
      }
    },
    {
      "cell_type": "markdown",
      "source": [
        "### LGBMClassifier 상위 모델(?) -> HistGradientBoostingClassifier"
      ],
      "metadata": {
        "id": "jpnkvJDFbC5S"
      }
    },
    {
      "cell_type": "code",
      "source": [
        "# lgb_clf = lgb.LGBMClassifier(num_leaves=31, objective='binary')\n",
        "# lgb_clf.fit(x_train, y_train)\n",
        "# y_pred = lgb_clf.predict(x_test)\n",
        "# accuracy_score(y_test, y_pred)\n",
        "\n",
        "# d_train = lgb.Dataset(x_train, label=y_train)\n",
        "# param = {'num_iterations': 100, 'learning_rate' : 0.1, 'max_depth' : -1, 'objective': 'binary', 'metric':'auc'}"
      ],
      "metadata": {
        "id": "Sl5W9cVCMbek"
      },
      "execution_count": null,
      "outputs": []
    },
    {
      "cell_type": "code",
      "source": [
        "# from sklearn.ensemble import HistGradientBoostingClassifier as hgbc"
      ],
      "metadata": {
        "id": "-FsGRpYbqgN6"
      },
      "execution_count": null,
      "outputs": []
    },
    {
      "cell_type": "code",
      "source": [
        "# hgbc.score(x_train)"
      ],
      "metadata": {
        "id": "WdU7TrsRq9US"
      },
      "execution_count": null,
      "outputs": []
    },
    {
      "cell_type": "markdown",
      "source": [
        "### 그리드 서치"
      ],
      "metadata": {
        "id": "GvnTaIribYfE"
      }
    },
    {
      "cell_type": "code",
      "source": [
        "# g_lgbm = GridSearchCV(estimator=lgb_estimator, param_grid=gridParams, n_jobs = 3, cv= 3)\n",
        "\n",
        "# lgb_model = g_lgbm.fit(X=X_train, y=y_train, eval_set = (X_valid, y_valid))"
      ],
      "metadata": {
        "colab": {
          "base_uri": "https://localhost:8080/",
          "height": 211
        },
        "id": "dRRmF27dKK6g",
        "outputId": "1bababf1-49b8-4e3e-f277-d0f2a1dec632"
      },
      "execution_count": null,
      "outputs": [
        {
          "output_type": "error",
          "ename": "NameError",
          "evalue": "ignored",
          "traceback": [
            "\u001b[0;31m---------------------------------------------------------------------------\u001b[0m",
            "\u001b[0;31mNameError\u001b[0m                                 Traceback (most recent call last)",
            "\u001b[0;32m<ipython-input-22-455464b3c778>\u001b[0m in \u001b[0;36m<module>\u001b[0;34m()\u001b[0m\n\u001b[0;32m----> 1\u001b[0;31m \u001b[0mg_lgbm\u001b[0m \u001b[0;34m=\u001b[0m \u001b[0mGridSearchCV\u001b[0m\u001b[0;34m(\u001b[0m\u001b[0mestimator\u001b[0m\u001b[0;34m=\u001b[0m\u001b[0mlgb_estimator\u001b[0m\u001b[0;34m,\u001b[0m \u001b[0mparam_grid\u001b[0m\u001b[0;34m=\u001b[0m\u001b[0mgridParams\u001b[0m\u001b[0;34m,\u001b[0m \u001b[0mn_jobs\u001b[0m \u001b[0;34m=\u001b[0m \u001b[0;36m3\u001b[0m\u001b[0;34m,\u001b[0m \u001b[0mcv\u001b[0m\u001b[0;34m=\u001b[0m \u001b[0;36m3\u001b[0m\u001b[0;34m)\u001b[0m\u001b[0;34m\u001b[0m\u001b[0;34m\u001b[0m\u001b[0m\n\u001b[0m\u001b[1;32m      2\u001b[0m \u001b[0;34m\u001b[0m\u001b[0m\n\u001b[1;32m      3\u001b[0m \u001b[0mlgb_model\u001b[0m \u001b[0;34m=\u001b[0m \u001b[0mg_lgbm\u001b[0m\u001b[0;34m.\u001b[0m\u001b[0mfit\u001b[0m\u001b[0;34m(\u001b[0m\u001b[0mX\u001b[0m\u001b[0;34m=\u001b[0m\u001b[0mX_train\u001b[0m\u001b[0;34m,\u001b[0m \u001b[0my\u001b[0m\u001b[0;34m=\u001b[0m\u001b[0my_train\u001b[0m\u001b[0;34m,\u001b[0m \u001b[0meval_set\u001b[0m \u001b[0;34m=\u001b[0m \u001b[0;34m(\u001b[0m\u001b[0mX_valid\u001b[0m\u001b[0;34m,\u001b[0m \u001b[0my_valid\u001b[0m\u001b[0;34m)\u001b[0m\u001b[0;34m)\u001b[0m\u001b[0;34m\u001b[0m\u001b[0;34m\u001b[0m\u001b[0m\n",
            "\u001b[0;31mNameError\u001b[0m: name 'GridSearchCV' is not defined"
          ]
        }
      ]
    }
  ]
}