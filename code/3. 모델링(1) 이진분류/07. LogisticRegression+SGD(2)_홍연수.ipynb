{
  "nbformat": 4,
  "nbformat_minor": 0,
  "metadata": {
    "colab": {
      "name": "220519_Logistic_Regression_SGD_upsampling.ipynb",
      "provenance": [],
      "collapsed_sections": [],
      "machine_shape": "hm"
    },
    "kernelspec": {
      "name": "python3",
      "display_name": "Python 3"
    },
    "language_info": {
      "name": "python"
    },
    "accelerator": "GPU"
  },
  "cells": [
    {
      "cell_type": "code",
      "execution_count": 2,
      "metadata": {
        "id": "fs-ZWJnV6-7T"
      },
      "outputs": [],
      "source": [
        "%matplotlib inline\n",
        "import missingno as msno\n",
        "import numpy as np\n",
        "import pandas as pd\n",
        "import matplotlib.pyplot as plt\n",
        "import seaborn as sns\n",
        "from sklearn.model_selection import train_test_split\n",
        "from sklearn import svm\n",
        "from sklearn import metrics\n",
        "from sklearn.svm import SVC \n",
        "from sklearn.metrics import classification_report, confusion_matrix"
      ]
    },
    {
      "cell_type": "code",
      "source": [
        "from google.colab import drive # gdrive 연동\n",
        "drive.mount('/content/drive')"
      ],
      "metadata": {
        "colab": {
          "base_uri": "https://localhost:8080/"
        },
        "id": "RhPzYd_g8QZk",
        "outputId": "29db3646-4595-46f0-b106-e68dd0e4bad7"
      },
      "execution_count": 3,
      "outputs": [
        {
          "output_type": "stream",
          "name": "stdout",
          "text": [
            "Drive already mounted at /content/drive; to attempt to forcibly remount, call drive.mount(\"/content/drive\", force_remount=True).\n"
          ]
        }
      ]
    },
    {
      "cell_type": "markdown",
      "source": [
        "## 10만개 데이터"
      ],
      "metadata": {
        "id": "uwoqX2qE_dJm"
      }
    },
    {
      "cell_type": "code",
      "source": [
        "# Disease \n",
        "\n",
        "df = pd.read_csv('/content/drive/MyDrive/Colab_Notebooks/aiffel_data/Hackerton_2/data_dis_vs_nor.csv', encoding='cp949') # upsampling 안된 것!\n",
        "df"
      ],
      "metadata": {
        "colab": {
          "base_uri": "https://localhost:8080/",
          "height": 423
        },
        "id": "1n0zEHLd8QSt",
        "outputId": "e557a043-a620-4675-b547-e357ba476575"
      },
      "execution_count": 4,
      "outputs": [
        {
          "output_type": "execute_result",
          "data": {
            "text/plain": [
              "        SEX  BTH_G  SBP  DBP  FBS   BMI  Dis\n",
              "0         0      1  116   78   94  16.6    0\n",
              "1         0      1  100   60   79  22.3    0\n",
              "2         0      1  100   60   87  21.9    0\n",
              "3         0      1  111   70   72  20.2    0\n",
              "4         0      1  120   80   98  20.0    0\n",
              "...     ...    ...  ...  ...  ...   ...  ...\n",
              "999995    1     27  120   70   81  23.1    1\n",
              "999996    1     27  110   70  104  27.2    1\n",
              "999997    1     27  115   53  110  25.2    1\n",
              "999998    1     27  120   70   90  19.7    1\n",
              "999999    1     27  116   73   92  17.6    0\n",
              "\n",
              "[1000000 rows x 7 columns]"
            ],
            "text/html": [
              "\n",
              "  <div id=\"df-b5644536-0f57-4b5d-b9a7-89b37967c3f4\">\n",
              "    <div class=\"colab-df-container\">\n",
              "      <div>\n",
              "<style scoped>\n",
              "    .dataframe tbody tr th:only-of-type {\n",
              "        vertical-align: middle;\n",
              "    }\n",
              "\n",
              "    .dataframe tbody tr th {\n",
              "        vertical-align: top;\n",
              "    }\n",
              "\n",
              "    .dataframe thead th {\n",
              "        text-align: right;\n",
              "    }\n",
              "</style>\n",
              "<table border=\"1\" class=\"dataframe\">\n",
              "  <thead>\n",
              "    <tr style=\"text-align: right;\">\n",
              "      <th></th>\n",
              "      <th>SEX</th>\n",
              "      <th>BTH_G</th>\n",
              "      <th>SBP</th>\n",
              "      <th>DBP</th>\n",
              "      <th>FBS</th>\n",
              "      <th>BMI</th>\n",
              "      <th>Dis</th>\n",
              "    </tr>\n",
              "  </thead>\n",
              "  <tbody>\n",
              "    <tr>\n",
              "      <th>0</th>\n",
              "      <td>0</td>\n",
              "      <td>1</td>\n",
              "      <td>116</td>\n",
              "      <td>78</td>\n",
              "      <td>94</td>\n",
              "      <td>16.6</td>\n",
              "      <td>0</td>\n",
              "    </tr>\n",
              "    <tr>\n",
              "      <th>1</th>\n",
              "      <td>0</td>\n",
              "      <td>1</td>\n",
              "      <td>100</td>\n",
              "      <td>60</td>\n",
              "      <td>79</td>\n",
              "      <td>22.3</td>\n",
              "      <td>0</td>\n",
              "    </tr>\n",
              "    <tr>\n",
              "      <th>2</th>\n",
              "      <td>0</td>\n",
              "      <td>1</td>\n",
              "      <td>100</td>\n",
              "      <td>60</td>\n",
              "      <td>87</td>\n",
              "      <td>21.9</td>\n",
              "      <td>0</td>\n",
              "    </tr>\n",
              "    <tr>\n",
              "      <th>3</th>\n",
              "      <td>0</td>\n",
              "      <td>1</td>\n",
              "      <td>111</td>\n",
              "      <td>70</td>\n",
              "      <td>72</td>\n",
              "      <td>20.2</td>\n",
              "      <td>0</td>\n",
              "    </tr>\n",
              "    <tr>\n",
              "      <th>4</th>\n",
              "      <td>0</td>\n",
              "      <td>1</td>\n",
              "      <td>120</td>\n",
              "      <td>80</td>\n",
              "      <td>98</td>\n",
              "      <td>20.0</td>\n",
              "      <td>0</td>\n",
              "    </tr>\n",
              "    <tr>\n",
              "      <th>...</th>\n",
              "      <td>...</td>\n",
              "      <td>...</td>\n",
              "      <td>...</td>\n",
              "      <td>...</td>\n",
              "      <td>...</td>\n",
              "      <td>...</td>\n",
              "      <td>...</td>\n",
              "    </tr>\n",
              "    <tr>\n",
              "      <th>999995</th>\n",
              "      <td>1</td>\n",
              "      <td>27</td>\n",
              "      <td>120</td>\n",
              "      <td>70</td>\n",
              "      <td>81</td>\n",
              "      <td>23.1</td>\n",
              "      <td>1</td>\n",
              "    </tr>\n",
              "    <tr>\n",
              "      <th>999996</th>\n",
              "      <td>1</td>\n",
              "      <td>27</td>\n",
              "      <td>110</td>\n",
              "      <td>70</td>\n",
              "      <td>104</td>\n",
              "      <td>27.2</td>\n",
              "      <td>1</td>\n",
              "    </tr>\n",
              "    <tr>\n",
              "      <th>999997</th>\n",
              "      <td>1</td>\n",
              "      <td>27</td>\n",
              "      <td>115</td>\n",
              "      <td>53</td>\n",
              "      <td>110</td>\n",
              "      <td>25.2</td>\n",
              "      <td>1</td>\n",
              "    </tr>\n",
              "    <tr>\n",
              "      <th>999998</th>\n",
              "      <td>1</td>\n",
              "      <td>27</td>\n",
              "      <td>120</td>\n",
              "      <td>70</td>\n",
              "      <td>90</td>\n",
              "      <td>19.7</td>\n",
              "      <td>1</td>\n",
              "    </tr>\n",
              "    <tr>\n",
              "      <th>999999</th>\n",
              "      <td>1</td>\n",
              "      <td>27</td>\n",
              "      <td>116</td>\n",
              "      <td>73</td>\n",
              "      <td>92</td>\n",
              "      <td>17.6</td>\n",
              "      <td>0</td>\n",
              "    </tr>\n",
              "  </tbody>\n",
              "</table>\n",
              "<p>1000000 rows × 7 columns</p>\n",
              "</div>\n",
              "      <button class=\"colab-df-convert\" onclick=\"convertToInteractive('df-b5644536-0f57-4b5d-b9a7-89b37967c3f4')\"\n",
              "              title=\"Convert this dataframe to an interactive table.\"\n",
              "              style=\"display:none;\">\n",
              "        \n",
              "  <svg xmlns=\"http://www.w3.org/2000/svg\" height=\"24px\"viewBox=\"0 0 24 24\"\n",
              "       width=\"24px\">\n",
              "    <path d=\"M0 0h24v24H0V0z\" fill=\"none\"/>\n",
              "    <path d=\"M18.56 5.44l.94 2.06.94-2.06 2.06-.94-2.06-.94-.94-2.06-.94 2.06-2.06.94zm-11 1L8.5 8.5l.94-2.06 2.06-.94-2.06-.94L8.5 2.5l-.94 2.06-2.06.94zm10 10l.94 2.06.94-2.06 2.06-.94-2.06-.94-.94-2.06-.94 2.06-2.06.94z\"/><path d=\"M17.41 7.96l-1.37-1.37c-.4-.4-.92-.59-1.43-.59-.52 0-1.04.2-1.43.59L10.3 9.45l-7.72 7.72c-.78.78-.78 2.05 0 2.83L4 21.41c.39.39.9.59 1.41.59.51 0 1.02-.2 1.41-.59l7.78-7.78 2.81-2.81c.8-.78.8-2.07 0-2.86zM5.41 20L4 18.59l7.72-7.72 1.47 1.35L5.41 20z\"/>\n",
              "  </svg>\n",
              "      </button>\n",
              "      \n",
              "  <style>\n",
              "    .colab-df-container {\n",
              "      display:flex;\n",
              "      flex-wrap:wrap;\n",
              "      gap: 12px;\n",
              "    }\n",
              "\n",
              "    .colab-df-convert {\n",
              "      background-color: #E8F0FE;\n",
              "      border: none;\n",
              "      border-radius: 50%;\n",
              "      cursor: pointer;\n",
              "      display: none;\n",
              "      fill: #1967D2;\n",
              "      height: 32px;\n",
              "      padding: 0 0 0 0;\n",
              "      width: 32px;\n",
              "    }\n",
              "\n",
              "    .colab-df-convert:hover {\n",
              "      background-color: #E2EBFA;\n",
              "      box-shadow: 0px 1px 2px rgba(60, 64, 67, 0.3), 0px 1px 3px 1px rgba(60, 64, 67, 0.15);\n",
              "      fill: #174EA6;\n",
              "    }\n",
              "\n",
              "    [theme=dark] .colab-df-convert {\n",
              "      background-color: #3B4455;\n",
              "      fill: #D2E3FC;\n",
              "    }\n",
              "\n",
              "    [theme=dark] .colab-df-convert:hover {\n",
              "      background-color: #434B5C;\n",
              "      box-shadow: 0px 1px 3px 1px rgba(0, 0, 0, 0.15);\n",
              "      filter: drop-shadow(0px 1px 2px rgba(0, 0, 0, 0.3));\n",
              "      fill: #FFFFFF;\n",
              "    }\n",
              "  </style>\n",
              "\n",
              "      <script>\n",
              "        const buttonEl =\n",
              "          document.querySelector('#df-b5644536-0f57-4b5d-b9a7-89b37967c3f4 button.colab-df-convert');\n",
              "        buttonEl.style.display =\n",
              "          google.colab.kernel.accessAllowed ? 'block' : 'none';\n",
              "\n",
              "        async function convertToInteractive(key) {\n",
              "          const element = document.querySelector('#df-b5644536-0f57-4b5d-b9a7-89b37967c3f4');\n",
              "          const dataTable =\n",
              "            await google.colab.kernel.invokeFunction('convertToInteractive',\n",
              "                                                     [key], {});\n",
              "          if (!dataTable) return;\n",
              "\n",
              "          const docLinkHtml = 'Like what you see? Visit the ' +\n",
              "            '<a target=\"_blank\" href=https://colab.research.google.com/notebooks/data_table.ipynb>data table notebook</a>'\n",
              "            + ' to learn more about interactive tables.';\n",
              "          element.innerHTML = '';\n",
              "          dataTable['output_type'] = 'display_data';\n",
              "          await google.colab.output.renderOutput(dataTable, element);\n",
              "          const docLink = document.createElement('div');\n",
              "          docLink.innerHTML = docLinkHtml;\n",
              "          element.appendChild(docLink);\n",
              "        }\n",
              "      </script>\n",
              "    </div>\n",
              "  </div>\n",
              "  "
            ]
          },
          "metadata": {},
          "execution_count": 4
        }
      ]
    },
    {
      "cell_type": "code",
      "source": [
        "df.notnull().sum()"
      ],
      "metadata": {
        "colab": {
          "base_uri": "https://localhost:8080/"
        },
        "id": "tEMba2zU8Sfm",
        "outputId": "986af136-2231-481a-b28f-680f7279f2e8"
      },
      "execution_count": 6,
      "outputs": [
        {
          "output_type": "execute_result",
          "data": {
            "text/plain": [
              "SEX      1000000\n",
              "BTH_G    1000000\n",
              "SBP      1000000\n",
              "DBP      1000000\n",
              "FBS      1000000\n",
              "BMI      1000000\n",
              "Dis      1000000\n",
              "dtype: int64"
            ]
          },
          "metadata": {},
          "execution_count": 6
        }
      ]
    },
    {
      "cell_type": "code",
      "source": [
        "df.info()"
      ],
      "metadata": {
        "colab": {
          "base_uri": "https://localhost:8080/"
        },
        "id": "QqHvFnmj8W8F",
        "outputId": "2084ec77-2dae-4c37-e193-2fc21530c610"
      },
      "execution_count": 7,
      "outputs": [
        {
          "output_type": "stream",
          "name": "stdout",
          "text": [
            "<class 'pandas.core.frame.DataFrame'>\n",
            "RangeIndex: 1000000 entries, 0 to 999999\n",
            "Data columns (total 7 columns):\n",
            " #   Column  Non-Null Count    Dtype  \n",
            "---  ------  --------------    -----  \n",
            " 0   SEX     1000000 non-null  int64  \n",
            " 1   BTH_G   1000000 non-null  int64  \n",
            " 2   SBP     1000000 non-null  int64  \n",
            " 3   DBP     1000000 non-null  int64  \n",
            " 4   FBS     1000000 non-null  int64  \n",
            " 5   BMI     1000000 non-null  float64\n",
            " 6   Dis     1000000 non-null  int64  \n",
            "dtypes: float64(1), int64(6)\n",
            "memory usage: 53.4 MB\n"
          ]
        }
      ]
    },
    {
      "cell_type": "code",
      "source": [
        "colormap = plt.cm.viridis # pearson 상관 계수 확인 ---> heatmap\n",
        "plt.figure(figsize=(15,15))\n",
        "plt.title(\"Pearson Corrrelation of features\")\n",
        "sns.heatmap(df.corr(), cmap=colormap, annot=True, linewidths=0.1, vmax=1.0, \n",
        "            square=True, linecolor='white')"
      ],
      "metadata": {
        "colab": {
          "base_uri": "https://localhost:8080/",
          "height": 868
        },
        "id": "YvYTca3A8YU9",
        "outputId": "b4062613-424d-47b3-d2f7-1e8a48789c17"
      },
      "execution_count": 8,
      "outputs": [
        {
          "output_type": "execute_result",
          "data": {
            "text/plain": [
              "<matplotlib.axes._subplots.AxesSubplot at 0x7f81ff23a850>"
            ]
          },
          "metadata": {},
          "execution_count": 8
        },
        {
          "output_type": "display_data",
          "data": {
            "text/plain": [
              "<Figure size 1080x1080 with 2 Axes>"
            ],
            "image/png": "[encoded data removed]"
          },
          "metadata": {
            "needs_background": "light"
          }
        }
      ]
    },
    {
      "cell_type": "code",
      "source": [
        "# split data\n",
        "\n",
        "from sklearn.model_selection import train_test_split\n",
        "\n",
        "# 전체 데이터 split\n",
        "X_train, X_test, y_train, y_test = train_test_split(df.loc[:, df.columns != 'Dis'],df['Dis'],  stratify=df['Dis'], shuffle=True, test_size=0.9, random_state=11)\n",
        "\n",
        "X_test,X_val,y_test,y_val=train_test_split(X_test,y_test,test_size=0.88, shuffle=True) # validation은 사용하지 않음\n",
        "\n",
        "\n",
        "print(X_train.shape)\n",
        "print(y_train.shape)\n",
        "print(X_val.shape) # validation set은 사용하지 않음\n",
        "print(y_val.shape) # 역시\n",
        "print(X_test.shape)\n",
        "print(y_test.shape)"
      ],
      "metadata": {
        "colab": {
          "base_uri": "https://localhost:8080/"
        },
        "id": "I1gIJTV-8gSt",
        "outputId": "51737d41-a9db-45ae-fecf-b566420b3f1d"
      },
      "execution_count": 9,
      "outputs": [
        {
          "output_type": "stream",
          "name": "stdout",
          "text": [
            "(100000, 6)\n",
            "(100000,)\n",
            "(792000, 6)\n",
            "(792000,)\n",
            "(108000, 6)\n",
            "(108000,)\n"
          ]
        }
      ]
    },
    {
      "cell_type": "code",
      "source": [
        "X_train.shape"
      ],
      "metadata": {
        "id": "z9J6rz4J8t4m",
        "colab": {
          "base_uri": "https://localhost:8080/"
        },
        "outputId": "f7db112b-584f-47ab-e6a6-adff482c3c40"
      },
      "execution_count": 10,
      "outputs": [
        {
          "output_type": "execute_result",
          "data": {
            "text/plain": [
              "(100000, 6)"
            ]
          },
          "metadata": {},
          "execution_count": 10
        }
      ]
    },
    {
      "cell_type": "code",
      "source": [
        "X_test.shape"
      ],
      "metadata": {
        "id": "FaP4loQ9_2le",
        "colab": {
          "base_uri": "https://localhost:8080/"
        },
        "outputId": "f51667ee-0dfc-4585-9e19-85b7ae20a0cf"
      },
      "execution_count": 11,
      "outputs": [
        {
          "output_type": "execute_result",
          "data": {
            "text/plain": [
              "(108000, 6)"
            ]
          },
          "metadata": {},
          "execution_count": 11
        }
      ]
    },
    {
      "cell_type": "code",
      "source": [
        "y_train.shape"
      ],
      "metadata": {
        "id": "8rVN0UcF_5U-",
        "colab": {
          "base_uri": "https://localhost:8080/"
        },
        "outputId": "cb3834b8-f8d3-4fc4-c3cb-7e33dc52887a"
      },
      "execution_count": 12,
      "outputs": [
        {
          "output_type": "execute_result",
          "data": {
            "text/plain": [
              "(100000,)"
            ]
          },
          "metadata": {},
          "execution_count": 12
        }
      ]
    },
    {
      "cell_type": "code",
      "source": [
        "y_test.shape"
      ],
      "metadata": {
        "id": "AaTD7rLY_6tb",
        "colab": {
          "base_uri": "https://localhost:8080/"
        },
        "outputId": "87779a64-6245-496c-cba2-2265149df94f"
      },
      "execution_count": 13,
      "outputs": [
        {
          "output_type": "execute_result",
          "data": {
            "text/plain": [
              "(108000,)"
            ]
          },
          "metadata": {},
          "execution_count": 13
        }
      ]
    },
    {
      "cell_type": "markdown",
      "source": [
        "**Logistic Regression**"
      ],
      "metadata": {
        "id": "em3D-1UIo3uJ"
      }
    },
    {
      "cell_type": "code",
      "source": [
        "from sklearn.linear_model import LogisticRegression # 로지스틱 회귀\n",
        "\n",
        "\n",
        "LR = LogisticRegression() # 로지스틱 회귀 분석\n",
        "LR.fit(X_train,y_train)\n",
        "\n",
        "print(\"train score : {}\".format(LR.score(X_train, y_train)))\n",
        "\n",
        "predict_y = LR.predict(X_test)\n",
        "\n",
        "from sklearn.metrics import classification_report\n",
        "print(classification_report(y_test, LR.predict(X_test)))\n",
        "print(\"test score : {}\".format(LR.score(X_test, y_test)))"
      ],
      "metadata": {
        "colab": {
          "base_uri": "https://localhost:8080/"
        },
        "id": "2Yt8QUWr_842",
        "outputId": "e3d7440e-3799-4664-f35e-2fccb18ade4d"
      },
      "execution_count": 14,
      "outputs": [
        {
          "output_type": "stream",
          "name": "stdout",
          "text": [
            "train score : 0.8193\n",
            "              precision    recall  f1-score   support\n",
            "\n",
            "           0       0.85      0.92      0.88     80159\n",
            "           1       0.69      0.53      0.60     27841\n",
            "\n",
            "    accuracy                           0.82    108000\n",
            "   macro avg       0.77      0.72      0.74    108000\n",
            "weighted avg       0.81      0.82      0.81    108000\n",
            "\n",
            "test score : 0.8170925925925926\n"
          ]
        }
      ]
    },
    {
      "cell_type": "markdown",
      "source": [
        "## Upsampling 데이터"
      ],
      "metadata": {
        "id": "mjKG3X5x_hS0"
      }
    },
    {
      "cell_type": "code",
      "source": [
        "# Disease \n",
        "\n",
        "df2 = pd.read_csv('/content/drive/MyDrive/Colab_Notebooks/aiffel_data/Hackerton_2/data_over_sampling.csv', encoding='cp949') # upsampling 안된 것!\n",
        "df2"
      ],
      "metadata": {
        "colab": {
          "base_uri": "https://localhost:8080/",
          "height": 423
        },
        "id": "b_E6ofBl6LzK",
        "outputId": "aff186df-55d5-49d0-d3b6-25b6d3206052"
      },
      "execution_count": 22,
      "outputs": [
        {
          "output_type": "execute_result",
          "data": {
            "text/plain": [
              "         SEX  BTH_G  SBP  DBP  FBS   BMI  Dis\n",
              "0          1      1  116   78   94  16.6    0\n",
              "1          1      1  100   60   79  22.3    0\n",
              "2          1      1  100   60   87  21.9    0\n",
              "3          1      1  111   70   72  20.2    0\n",
              "4          1      1  120   80   98  20.0    0\n",
              "...      ...    ...  ...  ...  ...   ...  ...\n",
              "1481319    0     25  120   80   78  27.9    1\n",
              "1481320    0     27  150   74  133  32.0    1\n",
              "1481321    1     25  120   70  118  26.9    1\n",
              "1481322    0     20  136   68   93  21.5    1\n",
              "1481323    1     19  125   84  130  24.8    1\n",
              "\n",
              "[1481324 rows x 7 columns]"
            ],
            "text/html": [
              "\n",
              "  <div id=\"df-a621cf67-5831-487a-aef6-7e46033c23b1\">\n",
              "    <div class=\"colab-df-container\">\n",
              "      <div>\n",
              "<style scoped>\n",
              "    .dataframe tbody tr th:only-of-type {\n",
              "        vertical-align: middle;\n",
              "    }\n",
              "\n",
              "    .dataframe tbody tr th {\n",
              "        vertical-align: top;\n",
              "    }\n",
              "\n",
              "    .dataframe thead th {\n",
              "        text-align: right;\n",
              "    }\n",
              "</style>\n",
              "<table border=\"1\" class=\"dataframe\">\n",
              "  <thead>\n",
              "    <tr style=\"text-align: right;\">\n",
              "      <th></th>\n",
              "      <th>SEX</th>\n",
              "      <th>BTH_G</th>\n",
              "      <th>SBP</th>\n",
              "      <th>DBP</th>\n",
              "      <th>FBS</th>\n",
              "      <th>BMI</th>\n",
              "      <th>Dis</th>\n",
              "    </tr>\n",
              "  </thead>\n",
              "  <tbody>\n",
              "    <tr>\n",
              "      <th>0</th>\n",
              "      <td>1</td>\n",
              "      <td>1</td>\n",
              "      <td>116</td>\n",
              "      <td>78</td>\n",
              "      <td>94</td>\n",
              "      <td>16.6</td>\n",
              "      <td>0</td>\n",
              "    </tr>\n",
              "    <tr>\n",
              "      <th>1</th>\n",
              "      <td>1</td>\n",
              "      <td>1</td>\n",
              "      <td>100</td>\n",
              "      <td>60</td>\n",
              "      <td>79</td>\n",
              "      <td>22.3</td>\n",
              "      <td>0</td>\n",
              "    </tr>\n",
              "    <tr>\n",
              "      <th>2</th>\n",
              "      <td>1</td>\n",
              "      <td>1</td>\n",
              "      <td>100</td>\n",
              "      <td>60</td>\n",
              "      <td>87</td>\n",
              "      <td>21.9</td>\n",
              "      <td>0</td>\n",
              "    </tr>\n",
              "    <tr>\n",
              "      <th>3</th>\n",
              "      <td>1</td>\n",
              "      <td>1</td>\n",
              "      <td>111</td>\n",
              "      <td>70</td>\n",
              "      <td>72</td>\n",
              "      <td>20.2</td>\n",
              "      <td>0</td>\n",
              "    </tr>\n",
              "    <tr>\n",
              "      <th>4</th>\n",
              "      <td>1</td>\n",
              "      <td>1</td>\n",
              "      <td>120</td>\n",
              "      <td>80</td>\n",
              "      <td>98</td>\n",
              "      <td>20.0</td>\n",
              "      <td>0</td>\n",
              "    </tr>\n",
              "    <tr>\n",
              "      <th>...</th>\n",
              "      <td>...</td>\n",
              "      <td>...</td>\n",
              "      <td>...</td>\n",
              "      <td>...</td>\n",
              "      <td>...</td>\n",
              "      <td>...</td>\n",
              "      <td>...</td>\n",
              "    </tr>\n",
              "    <tr>\n",
              "      <th>1481319</th>\n",
              "      <td>0</td>\n",
              "      <td>25</td>\n",
              "      <td>120</td>\n",
              "      <td>80</td>\n",
              "      <td>78</td>\n",
              "      <td>27.9</td>\n",
              "      <td>1</td>\n",
              "    </tr>\n",
              "    <tr>\n",
              "      <th>1481320</th>\n",
              "      <td>0</td>\n",
              "      <td>27</td>\n",
              "      <td>150</td>\n",
              "      <td>74</td>\n",
              "      <td>133</td>\n",
              "      <td>32.0</td>\n",
              "      <td>1</td>\n",
              "    </tr>\n",
              "    <tr>\n",
              "      <th>1481321</th>\n",
              "      <td>1</td>\n",
              "      <td>25</td>\n",
              "      <td>120</td>\n",
              "      <td>70</td>\n",
              "      <td>118</td>\n",
              "      <td>26.9</td>\n",
              "      <td>1</td>\n",
              "    </tr>\n",
              "    <tr>\n",
              "      <th>1481322</th>\n",
              "      <td>0</td>\n",
              "      <td>20</td>\n",
              "      <td>136</td>\n",
              "      <td>68</td>\n",
              "      <td>93</td>\n",
              "      <td>21.5</td>\n",
              "      <td>1</td>\n",
              "    </tr>\n",
              "    <tr>\n",
              "      <th>1481323</th>\n",
              "      <td>1</td>\n",
              "      <td>19</td>\n",
              "      <td>125</td>\n",
              "      <td>84</td>\n",
              "      <td>130</td>\n",
              "      <td>24.8</td>\n",
              "      <td>1</td>\n",
              "    </tr>\n",
              "  </tbody>\n",
              "</table>\n",
              "<p>1481324 rows × 7 columns</p>\n",
              "</div>\n",
              "      <button class=\"colab-df-convert\" onclick=\"convertToInteractive('df-a621cf67-5831-487a-aef6-7e46033c23b1')\"\n",
              "              title=\"Convert this dataframe to an interactive table.\"\n",
              "              style=\"display:none;\">\n",
              "        \n",
              "  <svg xmlns=\"http://www.w3.org/2000/svg\" height=\"24px\"viewBox=\"0 0 24 24\"\n",
              "       width=\"24px\">\n",
              "    <path d=\"M0 0h24v24H0V0z\" fill=\"none\"/>\n",
              "    <path d=\"M18.56 5.44l.94 2.06.94-2.06 2.06-.94-2.06-.94-.94-2.06-.94 2.06-2.06.94zm-11 1L8.5 8.5l.94-2.06 2.06-.94-2.06-.94L8.5 2.5l-.94 2.06-2.06.94zm10 10l.94 2.06.94-2.06 2.06-.94-2.06-.94-.94-2.06-.94 2.06-2.06.94z\"/><path d=\"M17.41 7.96l-1.37-1.37c-.4-.4-.92-.59-1.43-.59-.52 0-1.04.2-1.43.59L10.3 9.45l-7.72 7.72c-.78.78-.78 2.05 0 2.83L4 21.41c.39.39.9.59 1.41.59.51 0 1.02-.2 1.41-.59l7.78-7.78 2.81-2.81c.8-.78.8-2.07 0-2.86zM5.41 20L4 18.59l7.72-7.72 1.47 1.35L5.41 20z\"/>\n",
              "  </svg>\n",
              "      </button>\n",
              "      \n",
              "  <style>\n",
              "    .colab-df-container {\n",
              "      display:flex;\n",
              "      flex-wrap:wrap;\n",
              "      gap: 12px;\n",
              "    }\n",
              "\n",
              "    .colab-df-convert {\n",
              "      background-color: #E8F0FE;\n",
              "      border: none;\n",
              "      border-radius: 50%;\n",
              "      cursor: pointer;\n",
              "      display: none;\n",
              "      fill: #1967D2;\n",
              "      height: 32px;\n",
              "      padding: 0 0 0 0;\n",
              "      width: 32px;\n",
              "    }\n",
              "\n",
              "    .colab-df-convert:hover {\n",
              "      background-color: #E2EBFA;\n",
              "      box-shadow: 0px 1px 2px rgba(60, 64, 67, 0.3), 0px 1px 3px 1px rgba(60, 64, 67, 0.15);\n",
              "      fill: #174EA6;\n",
              "    }\n",
              "\n",
              "    [theme=dark] .colab-df-convert {\n",
              "      background-color: #3B4455;\n",
              "      fill: #D2E3FC;\n",
              "    }\n",
              "\n",
              "    [theme=dark] .colab-df-convert:hover {\n",
              "      background-color: #434B5C;\n",
              "      box-shadow: 0px 1px 3px 1px rgba(0, 0, 0, 0.15);\n",
              "      filter: drop-shadow(0px 1px 2px rgba(0, 0, 0, 0.3));\n",
              "      fill: #FFFFFF;\n",
              "    }\n",
              "  </style>\n",
              "\n",
              "      <script>\n",
              "        const buttonEl =\n",
              "          document.querySelector('#df-a621cf67-5831-487a-aef6-7e46033c23b1 button.colab-df-convert');\n",
              "        buttonEl.style.display =\n",
              "          google.colab.kernel.accessAllowed ? 'block' : 'none';\n",
              "\n",
              "        async function convertToInteractive(key) {\n",
              "          const element = document.querySelector('#df-a621cf67-5831-487a-aef6-7e46033c23b1');\n",
              "          const dataTable =\n",
              "            await google.colab.kernel.invokeFunction('convertToInteractive',\n",
              "                                                     [key], {});\n",
              "          if (!dataTable) return;\n",
              "\n",
              "          const docLinkHtml = 'Like what you see? Visit the ' +\n",
              "            '<a target=\"_blank\" href=https://colab.research.google.com/notebooks/data_table.ipynb>data table notebook</a>'\n",
              "            + ' to learn more about interactive tables.';\n",
              "          element.innerHTML = '';\n",
              "          dataTable['output_type'] = 'display_data';\n",
              "          await google.colab.output.renderOutput(dataTable, element);\n",
              "          const docLink = document.createElement('div');\n",
              "          docLink.innerHTML = docLinkHtml;\n",
              "          element.appendChild(docLink);\n",
              "        }\n",
              "      </script>\n",
              "    </div>\n",
              "  </div>\n",
              "  "
            ]
          },
          "metadata": {},
          "execution_count": 22
        }
      ]
    },
    {
      "cell_type": "code",
      "source": [
        "df2.notnull().sum()"
      ],
      "metadata": {
        "colab": {
          "base_uri": "https://localhost:8080/"
        },
        "id": "Gaeqqkwx6cao",
        "outputId": "cca424bf-43a0-4704-bbc9-9adb49132750"
      },
      "execution_count": 16,
      "outputs": [
        {
          "output_type": "execute_result",
          "data": {
            "text/plain": [
              "SEX      1481324\n",
              "BTH_G    1481324\n",
              "SBP      1481324\n",
              "DBP      1481324\n",
              "FBS      1481324\n",
              "BMI      1481324\n",
              "Dis      1481324\n",
              "dtype: int64"
            ]
          },
          "metadata": {},
          "execution_count": 16
        }
      ]
    },
    {
      "cell_type": "code",
      "source": [
        "df2.info()"
      ],
      "metadata": {
        "colab": {
          "base_uri": "https://localhost:8080/"
        },
        "id": "0Ku1_D866cX9",
        "outputId": "3dc35887-369d-45a0-8675-23cc357bdf7b"
      },
      "execution_count": 17,
      "outputs": [
        {
          "output_type": "stream",
          "name": "stdout",
          "text": [
            "<class 'pandas.core.frame.DataFrame'>\n",
            "RangeIndex: 1481324 entries, 0 to 1481323\n",
            "Data columns (total 7 columns):\n",
            " #   Column  Non-Null Count    Dtype  \n",
            "---  ------  --------------    -----  \n",
            " 0   SEX     1481324 non-null  int64  \n",
            " 1   BTH_G   1481324 non-null  int64  \n",
            " 2   SBP     1481324 non-null  int64  \n",
            " 3   DBP     1481324 non-null  int64  \n",
            " 4   FBS     1481324 non-null  int64  \n",
            " 5   BMI     1481324 non-null  float64\n",
            " 6   Dis     1481324 non-null  int64  \n",
            "dtypes: float64(1), int64(6)\n",
            "memory usage: 79.1 MB\n"
          ]
        }
      ]
    },
    {
      "cell_type": "code",
      "source": [
        "colormap = plt.cm.viridis # pearson 상관 계수 확인 ---> heatmap\n",
        "plt.figure(figsize=(15,15))\n",
        "plt.title(\"Pearson Corrrelation of features\")\n",
        "sns.heatmap(df2.corr(), cmap=colormap, annot=True, linewidths=0.1, vmax=1.0, \n",
        "            square=True, linecolor='white')"
      ],
      "metadata": {
        "colab": {
          "base_uri": "https://localhost:8080/",
          "height": 868
        },
        "id": "N2UMEoen6cVZ",
        "outputId": "524cd994-c99d-4c5c-8f40-69188c48b4a8"
      },
      "execution_count": 18,
      "outputs": [
        {
          "output_type": "execute_result",
          "data": {
            "text/plain": [
              "<matplotlib.axes._subplots.AxesSubplot at 0x7f81fbf4ee50>"
            ]
          },
          "metadata": {},
          "execution_count": 18
        },
        {
          "output_type": "display_data",
          "data": {
            "text/plain": [
              "<Figure size 1080x1080 with 2 Axes>"
            ],
            "image/png": "[encoded data removed]"
          },
          "metadata": {
            "needs_background": "light"
          }
        }
      ]
    },
    {
      "cell_type": "code",
      "source": [
        "# Over sampling data\n",
        "# split data\n",
        "\n",
        "from sklearn.model_selection import train_test_split\n",
        "\n",
        "# 전체 데이터 split\n",
        "X_up_train, X_up_test, y_up_train, y_up_test = train_test_split(df2.loc[:, df2.columns != 'Dis'],df2['Dis'],  stratify=df2['Dis'], shuffle=True, test_size=0.9, random_state=11)\n",
        "\n",
        "X_up_test,X_up_val,y_up_test,y_up_val=train_test_split(X_up_test,y_up_test,test_size=0.88, shuffle=True) # validation은 사용하지 않음\n",
        "\n",
        "\n",
        "print(X_up_train.shape)\n",
        "print(y_up_train.shape)\n",
        "# print(X_up_val.shape) # validation set은 사용하지 않음\n",
        "# print(y_up_val.shape) # 역시\n",
        "print(X_up_test.shape)\n",
        "print(y_up_test.shape)"
      ],
      "metadata": {
        "colab": {
          "base_uri": "https://localhost:8080/"
        },
        "id": "WYtd2Bk76cS6",
        "outputId": "f4c7341e-ff7b-4661-b090-5b431c622ff2"
      },
      "execution_count": 19,
      "outputs": [
        {
          "output_type": "stream",
          "name": "stdout",
          "text": [
            "(148132, 6)\n",
            "(148132,)\n",
            "(1173209, 6)\n",
            "(1173209,)\n",
            "(159983, 6)\n",
            "(159983,)\n"
          ]
        }
      ]
    },
    {
      "cell_type": "code",
      "source": [
        "from sklearn.linear_model import LogisticRegression # 로지스틱 회귀\n",
        "\n",
        "LR = LogisticRegression() # 로지스틱 회귀 분석\n",
        "LR.fit(X_up_train,y_up_train)\n",
        "\n",
        "print(\"train score : {}\".format(LR.score(X_up_train, y_up_train)))\n",
        "\n",
        "predict_y = LR.predict(X_up_test)\n",
        "\n",
        "from sklearn.metrics import classification_report\n",
        "print(classification_report(y_up_test, LR.predict(X_up_test)))\n",
        "print(\"test score : {}\".format(LR.score(X_up_test, y_up_test)))"
      ],
      "metadata": {
        "colab": {
          "base_uri": "https://localhost:8080/"
        },
        "id": "Y9ClcHCh6cP5",
        "outputId": "62d03890-23a1-47f5-c7a6-d1327bfa5f66"
      },
      "execution_count": 20,
      "outputs": [
        {
          "output_type": "stream",
          "name": "stdout",
          "text": [
            "train score : 0.7903558987929684\n",
            "              precision    recall  f1-score   support\n",
            "\n",
            "           0       0.80      0.78      0.79     79911\n",
            "           1       0.78      0.80      0.79     80072\n",
            "\n",
            "    accuracy                           0.79    159983\n",
            "   macro avg       0.79      0.79      0.79    159983\n",
            "weighted avg       0.79      0.79      0.79    159983\n",
            "\n",
            "test score : 0.7903839782976941\n"
          ]
        }
      ]
    },
    {
      "cell_type": "markdown",
      "source": [
        "-----------------------------------------------------------------------------------------------------------------------------------------------------------------"
      ],
      "metadata": {
        "id": "_eLI2Xq4A8ra"
      }
    },
    {
      "cell_type": "markdown",
      "source": [
        "## 전체 데이터"
      ],
      "metadata": {
        "id": "znlojxWb_W8z"
      }
    },
    {
      "cell_type": "code",
      "source": [
        "# split data\n",
        "\n",
        "from sklearn.model_selection import train_test_split\n",
        "\n",
        "# 전체 데이터 split\n",
        "X_train, X_test, y_train, y_test = train_test_split(df.loc[:, df.columns != 'Dis'],df['Dis'],  stratify=df['Dis'], shuffle=True, test_size=0.9, random_state=11)\n",
        "\n",
        "print(X_train.shape)\n",
        "print(y_train.shape)\n",
        "# print(X_val.shape) # validation set은 사용하지 않음\n",
        "# print(y_val.shape) # 역시\n",
        "print(X_test.shape)\n",
        "print(y_test.shape)"
      ],
      "metadata": {
        "colab": {
          "base_uri": "https://localhost:8080/"
        },
        "id": "C7BQtMv9-m9W",
        "outputId": "a5b5bdaf-99d7-475b-835a-4a0204aea467"
      },
      "execution_count": 7,
      "outputs": [
        {
          "output_type": "stream",
          "name": "stdout",
          "text": [
            "(100000, 6)\n",
            "(100000,)\n",
            "(900000, 6)\n",
            "(900000,)\n"
          ]
        }
      ]
    },
    {
      "cell_type": "code",
      "source": [
        "# LogisticRegression(C=1.0, class_weight=None, dual=False, fit_intercept=True,\n",
        "#                    intercept_scaling=1, l1_ratio=None, max_iter=100,\n",
        "#                    multi_class='auto', n_jobs=None, penalty='l2',\n",
        "#                    random_state=0, solver='lbfgs', tol=0.0001, verbose=0,\n",
        "#                    warm_start=False)"
      ],
      "metadata": {
        "id": "c8iSEnKxAq6U"
      },
      "execution_count": 22,
      "outputs": []
    },
    {
      "cell_type": "code",
      "source": [
        "from sklearn.linear_model import LogisticRegression # 로지스틱 회귀\n",
        "\n",
        "LR = LogisticRegression() # 로지스틱 회귀 분석\n",
        "LR.fit(X_train,y_train)\n",
        "\n",
        "print(\"train score : {}\".format(LR.score(X_train, y_train)))\n",
        "\n",
        "predict_y = LR.predict(X_test)\n",
        "\n",
        "from sklearn.metrics import classification_report\n",
        "print(classification_report(y_test, LR.predict(X_test)))\n",
        "print(\"test score : {}\".format(LR.score(X_test, y_test)))"
      ],
      "metadata": {
        "colab": {
          "base_uri": "https://localhost:8080/"
        },
        "id": "F_yIKIyo-m5q",
        "outputId": "e0e3f935-7bda-40a8-e1a9-49d435b1c44a"
      },
      "execution_count": 29,
      "outputs": [
        {
          "output_type": "stream",
          "name": "stdout",
          "text": [
            "train score : 0.8193\n",
            "              precision    recall  f1-score   support\n",
            "\n",
            "           0       0.85      0.92      0.88    666596\n",
            "           1       0.69      0.54      0.60    233404\n",
            "\n",
            "    accuracy                           0.82    900000\n",
            "   macro avg       0.77      0.73      0.74    900000\n",
            "weighted avg       0.81      0.82      0.81    900000\n",
            "\n",
            "test score : 0.8177177777777778\n"
          ]
        }
      ]
    },
    {
      "cell_type": "code",
      "source": [
        "param_grid = [    \n",
        "    {'penalty' : ['l1', 'l2', 'elasticnet', 'none'],\n",
        "    'C' : np.logspace(-4, 4, 20),\n",
        "    'solver' : ['lbfgs','newton-cg','liblinear','sag','saga'],\n",
        "    'max_iter' : [100, 1000,2500, 5000]\n",
        "    }\n",
        "]"
      ],
      "metadata": {
        "id": "pLcC-p9ZAwDs"
      },
      "execution_count": 30,
      "outputs": []
    },
    {
      "cell_type": "code",
      "source": [
        "from sklearn.model_selection import GridSearchCV\n"
      ],
      "metadata": {
        "id": "_MgHT-uIAyYt"
      },
      "execution_count": 31,
      "outputs": []
    },
    {
      "cell_type": "code",
      "source": [
        "clf = GridSearchCV(LR, param_grid = param_grid, cv = 3, verbose=True, n_jobs=-1)"
      ],
      "metadata": {
        "id": "eYUDYv1OAzoQ"
      },
      "execution_count": 32,
      "outputs": []
    },
    {
      "cell_type": "code",
      "source": [
        "best_clf = clf.fit(X_train,y_train)"
      ],
      "metadata": {
        "colab": {
          "base_uri": "https://localhost:8080/"
        },
        "id": "oVzbnQ_0A0qB",
        "outputId": "d3f0cf44-877e-4c62-bf73-a296cbbab97c"
      },
      "execution_count": 33,
      "outputs": [
        {
          "output_type": "stream",
          "name": "stdout",
          "text": [
            "Fitting 3 folds for each of 1600 candidates, totalling 4800 fits\n"
          ]
        },
        {
          "output_type": "stream",
          "name": "stderr",
          "text": [
            "/usr/local/lib/python3.7/dist-packages/sklearn/model_selection/_validation.py:372: FitFailedWarning: \n",
            "2160 fits failed out of a total of 4800.\n",
            "The score on these train-test partitions for these parameters will be set to nan.\n",
            "If these failures are not expected, you can try to debug them by setting error_score='raise'.\n",
            "\n",
            "Below are more details about the failures:\n",
            "--------------------------------------------------------------------------------\n",
            "240 fits failed with the following error:\n",
            "Traceback (most recent call last):\n",
            "  File \"/usr/local/lib/python3.7/dist-packages/sklearn/model_selection/_validation.py\", line 680, in _fit_and_score\n",
            "    estimator.fit(X_train, y_train, **fit_params)\n",
            "  File \"/usr/local/lib/python3.7/dist-packages/sklearn/linear_model/_logistic.py\", line 1461, in fit\n",
            "    solver = _check_solver(self.solver, self.penalty, self.dual)\n",
            "  File \"/usr/local/lib/python3.7/dist-packages/sklearn/linear_model/_logistic.py\", line 449, in _check_solver\n",
            "    % (solver, penalty)\n",
            "ValueError: Solver lbfgs supports only 'l2' or 'none' penalties, got l1 penalty.\n",
            "\n",
            "--------------------------------------------------------------------------------\n",
            "240 fits failed with the following error:\n",
            "Traceback (most recent call last):\n",
            "  File \"/usr/local/lib/python3.7/dist-packages/sklearn/model_selection/_validation.py\", line 680, in _fit_and_score\n",
            "    estimator.fit(X_train, y_train, **fit_params)\n",
            "  File \"/usr/local/lib/python3.7/dist-packages/sklearn/linear_model/_logistic.py\", line 1461, in fit\n",
            "    solver = _check_solver(self.solver, self.penalty, self.dual)\n",
            "  File \"/usr/local/lib/python3.7/dist-packages/sklearn/linear_model/_logistic.py\", line 449, in _check_solver\n",
            "    % (solver, penalty)\n",
            "ValueError: Solver newton-cg supports only 'l2' or 'none' penalties, got l1 penalty.\n",
            "\n",
            "--------------------------------------------------------------------------------\n",
            "240 fits failed with the following error:\n",
            "Traceback (most recent call last):\n",
            "  File \"/usr/local/lib/python3.7/dist-packages/sklearn/model_selection/_validation.py\", line 680, in _fit_and_score\n",
            "    estimator.fit(X_train, y_train, **fit_params)\n",
            "  File \"/usr/local/lib/python3.7/dist-packages/sklearn/linear_model/_logistic.py\", line 1461, in fit\n",
            "    solver = _check_solver(self.solver, self.penalty, self.dual)\n",
            "  File \"/usr/local/lib/python3.7/dist-packages/sklearn/linear_model/_logistic.py\", line 449, in _check_solver\n",
            "    % (solver, penalty)\n",
            "ValueError: Solver sag supports only 'l2' or 'none' penalties, got l1 penalty.\n",
            "\n",
            "--------------------------------------------------------------------------------\n",
            "240 fits failed with the following error:\n",
            "Traceback (most recent call last):\n",
            "  File \"/usr/local/lib/python3.7/dist-packages/sklearn/model_selection/_validation.py\", line 680, in _fit_and_score\n",
            "    estimator.fit(X_train, y_train, **fit_params)\n",
            "  File \"/usr/local/lib/python3.7/dist-packages/sklearn/linear_model/_logistic.py\", line 1461, in fit\n",
            "    solver = _check_solver(self.solver, self.penalty, self.dual)\n",
            "  File \"/usr/local/lib/python3.7/dist-packages/sklearn/linear_model/_logistic.py\", line 449, in _check_solver\n",
            "    % (solver, penalty)\n",
            "ValueError: Solver lbfgs supports only 'l2' or 'none' penalties, got elasticnet penalty.\n",
            "\n",
            "--------------------------------------------------------------------------------\n",
            "240 fits failed with the following error:\n",
            "Traceback (most recent call last):\n",
            "  File \"/usr/local/lib/python3.7/dist-packages/sklearn/model_selection/_validation.py\", line 680, in _fit_and_score\n",
            "    estimator.fit(X_train, y_train, **fit_params)\n",
            "  File \"/usr/local/lib/python3.7/dist-packages/sklearn/linear_model/_logistic.py\", line 1461, in fit\n",
            "    solver = _check_solver(self.solver, self.penalty, self.dual)\n",
            "  File \"/usr/local/lib/python3.7/dist-packages/sklearn/linear_model/_logistic.py\", line 449, in _check_solver\n",
            "    % (solver, penalty)\n",
            "ValueError: Solver newton-cg supports only 'l2' or 'none' penalties, got elasticnet penalty.\n",
            "\n",
            "--------------------------------------------------------------------------------\n",
            "240 fits failed with the following error:\n",
            "Traceback (most recent call last):\n",
            "  File \"/usr/local/lib/python3.7/dist-packages/sklearn/model_selection/_validation.py\", line 680, in _fit_and_score\n",
            "    estimator.fit(X_train, y_train, **fit_params)\n",
            "  File \"/usr/local/lib/python3.7/dist-packages/sklearn/linear_model/_logistic.py\", line 1461, in fit\n",
            "    solver = _check_solver(self.solver, self.penalty, self.dual)\n",
            "  File \"/usr/local/lib/python3.7/dist-packages/sklearn/linear_model/_logistic.py\", line 459, in _check_solver\n",
            "    solver\n",
            "ValueError: Only 'saga' solver supports elasticnet penalty, got solver=liblinear.\n",
            "\n",
            "--------------------------------------------------------------------------------\n",
            "240 fits failed with the following error:\n",
            "Traceback (most recent call last):\n",
            "  File \"/usr/local/lib/python3.7/dist-packages/sklearn/model_selection/_validation.py\", line 680, in _fit_and_score\n",
            "    estimator.fit(X_train, y_train, **fit_params)\n",
            "  File \"/usr/local/lib/python3.7/dist-packages/sklearn/linear_model/_logistic.py\", line 1461, in fit\n",
            "    solver = _check_solver(self.solver, self.penalty, self.dual)\n",
            "  File \"/usr/local/lib/python3.7/dist-packages/sklearn/linear_model/_logistic.py\", line 449, in _check_solver\n",
            "    % (solver, penalty)\n",
            "ValueError: Solver sag supports only 'l2' or 'none' penalties, got elasticnet penalty.\n",
            "\n",
            "--------------------------------------------------------------------------------\n",
            "240 fits failed with the following error:\n",
            "Traceback (most recent call last):\n",
            "  File \"/usr/local/lib/python3.7/dist-packages/sklearn/model_selection/_validation.py\", line 680, in _fit_and_score\n",
            "    estimator.fit(X_train, y_train, **fit_params)\n",
            "  File \"/usr/local/lib/python3.7/dist-packages/sklearn/linear_model/_logistic.py\", line 1473, in fit\n",
            "    % self.l1_ratio\n",
            "ValueError: l1_ratio must be between 0 and 1; got (l1_ratio=None)\n",
            "\n",
            "--------------------------------------------------------------------------------\n",
            "240 fits failed with the following error:\n",
            "Traceback (most recent call last):\n",
            "  File \"/usr/local/lib/python3.7/dist-packages/sklearn/model_selection/_validation.py\", line 680, in _fit_and_score\n",
            "    estimator.fit(X_train, y_train, **fit_params)\n",
            "  File \"/usr/local/lib/python3.7/dist-packages/sklearn/linear_model/_logistic.py\", line 1461, in fit\n",
            "    solver = _check_solver(self.solver, self.penalty, self.dual)\n",
            "  File \"/usr/local/lib/python3.7/dist-packages/sklearn/linear_model/_logistic.py\", line 464, in _check_solver\n",
            "    raise ValueError(\"penalty='none' is not supported for the liblinear solver\")\n",
            "ValueError: penalty='none' is not supported for the liblinear solver\n",
            "\n",
            "  warnings.warn(some_fits_failed_message, FitFailedWarning)\n",
            "/usr/local/lib/python3.7/dist-packages/sklearn/model_selection/_search.py:972: UserWarning: One or more of the test scores are non-finite: [       nan        nan 0.76883002 ...        nan 0.81894001 0.81833002]\n",
            "  category=UserWarning,\n"
          ]
        }
      ]
    },
    {
      "cell_type": "code",
      "source": [
        "best_clf.best_estimator_"
      ],
      "metadata": {
        "colab": {
          "base_uri": "https://localhost:8080/"
        },
        "id": "u7ia73sxA21h",
        "outputId": "ca7ff817-0582-4458-9e5f-63b59ac8e5e3"
      },
      "execution_count": 34,
      "outputs": [
        {
          "output_type": "execute_result",
          "data": {
            "text/plain": [
              "LogisticRegression(C=3792.690190732246, solver='liblinear')"
            ]
          },
          "metadata": {},
          "execution_count": 34
        }
      ]
    },
    {
      "cell_type": "markdown",
      "source": [
        "**Hyperparameter 나옴**"
      ],
      "metadata": {
        "id": "vSS0AZyY3Mno"
      }
    },
    {
      "cell_type": "markdown",
      "source": [
        "![image.png](data:image/png;base64,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)"
      ],
      "metadata": {
        "id": "9fwnFpoDA05k"
      }
    },
    {
      "cell_type": "markdown",
      "source": [
        "![image.png](data:image/png;base64,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)"
      ],
      "metadata": {
        "id": "0FDNa3SwBALi"
      }
    },
    {
      "cell_type": "markdown",
      "source": [
        "LogisticRegression(C=3792.690190732246, solver='liblinear')"
      ],
      "metadata": {
        "id": "b3DyVQ8TBE_o"
      }
    },
    {
      "cell_type": "code",
      "source": [
        "print (f'Accuracy - : {best_clf.score(X_train,y_train):.3f}')"
      ],
      "metadata": {
        "colab": {
          "base_uri": "https://localhost:8080/"
        },
        "id": "MWmOMOFnA4x3",
        "outputId": "82959b25-fcc4-4289-8baf-ef0ea32f3759"
      },
      "execution_count": 36,
      "outputs": [
        {
          "output_type": "stream",
          "name": "stdout",
          "text": [
            "Accuracy - : 0.819\n"
          ]
        }
      ]
    },
    {
      "cell_type": "markdown",
      "source": [
        "**Hyperparameter tunning**"
      ],
      "metadata": {
        "id": "sqEYRyF510Ol"
      }
    },
    {
      "cell_type": "markdown",
      "source": [
        "## 전체 Upsampling 데이터 "
      ],
      "metadata": {
        "id": "P1NZWaFr_s-B"
      }
    },
    {
      "cell_type": "code",
      "source": [
        "# Over sampling data\n",
        "# split data\n",
        "\n",
        "from sklearn.model_selection import train_test_split\n",
        "\n",
        "# 전체 데이터 split\n",
        "X_up_train, X_up_test, y_up_train, y_up_test = train_test_split(df2.loc[:, df2.columns != 'Dis'],df2['Dis'],  stratify=df2['Dis'], shuffle=True, test_size=0.2, random_state=11)\n",
        "\n",
        "# X_up_test,X_up_val,y_up_test,y_up_val=train_test_split(X_up_test,y_up_test,test_size=0.88, shuffle=True) # validation은 사용하지 않음\n",
        "\n",
        "\n",
        "print(X_up_train.shape)\n",
        "print(y_up_train.shape)\n",
        "# print(X_up_val.shape) # validation set은 사용하지 않음\n",
        "# print(y_up_val.shape) # 역시\n",
        "print(X_up_test.shape)\n",
        "print(y_up_test.shape)"
      ],
      "metadata": {
        "colab": {
          "base_uri": "https://localhost:8080/"
        },
        "id": "-UQ9QZi1-m24",
        "outputId": "ec361a5c-d9b0-4a41-d617-9c2d1a16c7c7"
      },
      "execution_count": 23,
      "outputs": [
        {
          "output_type": "stream",
          "name": "stdout",
          "text": [
            "(1185059, 6)\n",
            "(1185059,)\n",
            "(296265, 6)\n",
            "(296265,)\n"
          ]
        }
      ]
    },
    {
      "cell_type": "code",
      "source": [
        "from sklearn.linear_model import LogisticRegression # 로지스틱 회귀\n",
        "\n",
        "LR = LogisticRegression() # 로지스틱 회귀 분석\n",
        "LR.fit(X_up_train,y_up_train)\n",
        "\n",
        "print(\"train score : {}\".format(LR.score(X_up_train, y_up_train)))\n",
        "\n",
        "predict_y = LR.predict(X_up_test)\n",
        "\n",
        "from sklearn.metrics import classification_report\n",
        "print(classification_report(y_up_test, LR.predict(X_up_test)))\n",
        "print(\"test score : {}\".format(LR.score(X_up_test, y_up_test)))"
      ],
      "metadata": {
        "colab": {
          "base_uri": "https://localhost:8080/"
        },
        "id": "FZeMTSbj-mz3",
        "outputId": "285cb7d5-3389-4a56-c0d5-d48f8ac3b8a9"
      },
      "execution_count": 24,
      "outputs": [
        {
          "output_type": "stream",
          "name": "stdout",
          "text": [
            "train score : 0.7899049751953279\n",
            "              precision    recall  f1-score   support\n",
            "\n",
            "           0       0.80      0.78      0.79    148132\n",
            "           1       0.78      0.80      0.79    148133\n",
            "\n",
            "    accuracy                           0.79    296265\n",
            "   macro avg       0.79      0.79      0.79    296265\n",
            "weighted avg       0.79      0.79      0.79    296265\n",
            "\n",
            "test score : 0.7895195179990887\n"
          ]
        }
      ]
    },
    {
      "cell_type": "markdown",
      "source": [
        "# SGDclassifier"
      ],
      "metadata": {
        "id": "DkkYHXY2oWTi"
      }
    },
    {
      "cell_type": "markdown",
      "source": [
        "**전체 Upsampling Data**"
      ],
      "metadata": {
        "id": "rilhhLImp2_O"
      }
    },
    {
      "cell_type": "code",
      "source": [
        "from sklearn.linear_model import SGDClassifier\n",
        "\n",
        "sgd_clf = SGDClassifier()\n",
        "sgd_clf.fit(X_up_train, y_up_train)\n",
        "\n",
        "print(\"train score : {}\".format(sgd_clf.score(X_up_train, y_up_train)))\n",
        "\n",
        "predict_y = sgd_clf.predict(X_up_test)\n",
        "\n",
        "from sklearn.metrics import classification_report\n",
        "print(classification_report(y_up_test, sgd_clf.predict(X_up_test)))\n",
        "print(\"test score : {}\".format(sgd_clf.score(X_up_test, y_up_test)))"
      ],
      "metadata": {
        "colab": {
          "base_uri": "https://localhost:8080/"
        },
        "id": "2iO1SNHygQKO",
        "outputId": "67628ebb-4759-442b-c982-c7cbe92b82ed"
      },
      "execution_count": 31,
      "outputs": [
        {
          "output_type": "stream",
          "name": "stderr",
          "text": [
            "/usr/local/lib/python3.7/dist-packages/sklearn/linear_model/_stochastic_gradient.py:700: ConvergenceWarning: Maximum number of iteration reached before convergence. Consider increasing max_iter to improve the fit.\n",
            "  ConvergenceWarning,\n"
          ]
        },
        {
          "output_type": "stream",
          "name": "stdout",
          "text": [
            "train score : 0.7757166520823013\n",
            "              precision    recall  f1-score   support\n",
            "\n",
            "           0       0.77      0.78      0.78    148132\n",
            "           1       0.78      0.77      0.78    148133\n",
            "\n",
            "    accuracy                           0.78    296265\n",
            "   macro avg       0.78      0.78      0.78    296265\n",
            "weighted avg       0.78      0.78      0.78    296265\n",
            "\n",
            "test score : 0.7754611580848227\n"
          ]
        }
      ]
    },
    {
      "cell_type": "code",
      "source": [
        "print(confusion_matrix(y_up_test, predict_y))"
      ],
      "metadata": {
        "id": "vzDUR3FW-0nK",
        "colab": {
          "base_uri": "https://localhost:8080/"
        },
        "outputId": "36b59f4e-0f07-4267-8d23-241a3e71624b"
      },
      "execution_count": 26,
      "outputs": [
        {
          "output_type": "stream",
          "name": "stdout",
          "text": [
            "[[116514  31618]\n",
            " [ 35304 112829]]\n"
          ]
        }
      ]
    },
    {
      "cell_type": "code",
      "source": [
        "from sklearn.linear_model import SGDClassifier\n",
        "\n",
        "sgd_clf = SGDClassifier()\n",
        "sgd_clf.fit(X_train, y_train)\n",
        "\n",
        "print(\"train score : {}\".format(sgd_clf.score(X_train, y_train)))\n",
        "\n",
        "predict_y = sgd_clf.predict(X_test)\n",
        "\n",
        "from sklearn.metrics import classification_report\n",
        "print(classification_report(y_test, sgd_clf.predict(X_test)))\n",
        "print(\"test score : {}\".format(sgd_clf.score(X_test, y_test)))"
      ],
      "metadata": {
        "colab": {
          "base_uri": "https://localhost:8080/"
        },
        "id": "UGGwBpjDEo1h",
        "outputId": "7a76c724-af0f-4fa4-c179-00c3bf89ab3a"
      },
      "execution_count": 27,
      "outputs": [
        {
          "output_type": "stream",
          "name": "stdout",
          "text": [
            "train score : 0.81089\n",
            "              precision    recall  f1-score   support\n",
            "\n",
            "           0       0.86      0.88      0.87    666596\n",
            "           1       0.64      0.60      0.62    233404\n",
            "\n",
            "    accuracy                           0.81    900000\n",
            "   macro avg       0.75      0.74      0.75    900000\n",
            "weighted avg       0.81      0.81      0.81    900000\n",
            "\n",
            "test score : 0.8092766666666666\n"
          ]
        }
      ]
    },
    {
      "cell_type": "code",
      "source": [
        "model = SGDClassifier(loss=\"hinge\", penalty=\"l2\")"
      ],
      "metadata": {
        "id": "56FOZ7RAHRXz"
      },
      "execution_count": 28,
      "outputs": []
    },
    {
      "cell_type": "code",
      "source": [
        "model.fit(X_train, y_train)"
      ],
      "metadata": {
        "colab": {
          "base_uri": "https://localhost:8080/"
        },
        "id": "0Y1Kik1NHRU7",
        "outputId": "5e2b143b-5504-4f27-c528-20eb021b3702"
      },
      "execution_count": 11,
      "outputs": [
        {
          "output_type": "execute_result",
          "data": {
            "text/plain": [
              "SGDClassifier()"
            ]
          },
          "metadata": {},
          "execution_count": 11
        }
      ]
    },
    {
      "cell_type": "code",
      "source": [
        "model.score(X_test, y_test)\n"
      ],
      "metadata": {
        "colab": {
          "base_uri": "https://localhost:8080/"
        },
        "id": "eNITSKncHRSA",
        "outputId": "abf9aeff-75c3-4f48-90d7-4904bed4315d"
      },
      "execution_count": 12,
      "outputs": [
        {
          "output_type": "execute_result",
          "data": {
            "text/plain": [
              "0.8016311111111111"
            ]
          },
          "metadata": {},
          "execution_count": 12
        }
      ]
    },
    {
      "cell_type": "code",
      "source": [
        "n_iters = [5, 10, 20, 50, 100, 1000]\n",
        "scores = []\n",
        "for n_iter in n_iters:\n",
        "    model = SGDClassifier(loss=\"hinge\", penalty=\"l2\", max_iter=n_iter)\n",
        "    model.fit(X_train, y_train)\n",
        "    scores.append(model.score(X_test, y_test))\n",
        "  \n",
        "plt.title(\"Effect of n_iter\")\n",
        "plt.xlabel(\"n_iter\")\n",
        "plt.ylabel(\"score\")\n",
        "plt.plot(n_iters, scores) "
      ],
      "metadata": {
        "colab": {
          "base_uri": "https://localhost:8080/",
          "height": 513
        },
        "id": "Ur5sVg4qHZ3G",
        "outputId": "8ff95404-1f41-4815-f5e4-cb57b8b988d2"
      },
      "execution_count": 13,
      "outputs": [
        {
          "output_type": "stream",
          "name": "stderr",
          "text": [
            "/usr/local/lib/python3.7/dist-packages/sklearn/linear_model/_stochastic_gradient.py:700: ConvergenceWarning: Maximum number of iteration reached before convergence. Consider increasing max_iter to improve the fit.\n",
            "  ConvergenceWarning,\n",
            "/usr/local/lib/python3.7/dist-packages/sklearn/linear_model/_stochastic_gradient.py:700: ConvergenceWarning: Maximum number of iteration reached before convergence. Consider increasing max_iter to improve the fit.\n",
            "  ConvergenceWarning,\n",
            "/usr/local/lib/python3.7/dist-packages/sklearn/linear_model/_stochastic_gradient.py:700: ConvergenceWarning: Maximum number of iteration reached before convergence. Consider increasing max_iter to improve the fit.\n",
            "  ConvergenceWarning,\n",
            "/usr/local/lib/python3.7/dist-packages/sklearn/linear_model/_stochastic_gradient.py:700: ConvergenceWarning: Maximum number of iteration reached before convergence. Consider increasing max_iter to improve the fit.\n",
            "  ConvergenceWarning,\n",
            "/usr/local/lib/python3.7/dist-packages/sklearn/linear_model/_stochastic_gradient.py:700: ConvergenceWarning: Maximum number of iteration reached before convergence. Consider increasing max_iter to improve the fit.\n",
            "  ConvergenceWarning,\n"
          ]
        },
        {
          "output_type": "execute_result",
          "data": {
            "text/plain": [
              "[<matplotlib.lines.Line2D at 0x7fb6e88e5d50>]"
            ]
          },
          "metadata": {},
          "execution_count": 13
        },
        {
          "output_type": "display_data",
          "data": {
            "text/plain": [
              "<Figure size 432x288 with 1 Axes>"
            ],
            "image/png": "[encoded data removed]"
          },
          "metadata": {
            "needs_background": "light"
          }
        }
      ]
    },
    {
      "cell_type": "code",
      "source": [
        "# losses\n",
        "losses = [\"hinge\", \"log\", \"modified_huber\", \"perceptron\", \"squared_hinge\"]\n",
        "scores = []\n",
        "for loss in losses:\n",
        "    model = SGDClassifier(loss=loss, penalty=\"l2\", max_iter=1000)\n",
        "    model.fit(X_train, y_train)\n",
        "    scores.append(model.score(X_test, y_test))\n",
        "  \n",
        "plt.title(\"Effect of loss\")\n",
        "plt.xlabel(\"loss\")\n",
        "plt.ylabel(\"score\")\n",
        "x = np.arange(len(losses))\n",
        "plt.xticks(x, losses)\n",
        "plt.plot(x, scores) "
      ],
      "metadata": {
        "colab": {
          "base_uri": "https://localhost:8080/",
          "height": 314
        },
        "id": "l5ODsdq6Hlxa",
        "outputId": "c5a9e456-cabc-4e6d-e6ba-7b0372b0a199"
      },
      "execution_count": 14,
      "outputs": [
        {
          "output_type": "execute_result",
          "data": {
            "text/plain": [
              "[<matplotlib.lines.Line2D at 0x7fb6e4b70410>]"
            ]
          },
          "metadata": {},
          "execution_count": 14
        },
        {
          "output_type": "display_data",
          "data": {
            "text/plain": [
              "<Figure size 432x288 with 1 Axes>"
            ],
            "image/png": "[encoded data removed]"
          },
          "metadata": {
            "needs_background": "light"
          }
        }
      ]
    },
    {
      "cell_type": "code",
      "source": [
        "data = df.values"
      ],
      "metadata": {
        "id": "mXILqs96H7Ho"
      },
      "execution_count": 15,
      "outputs": []
    },
    {
      "cell_type": "code",
      "source": [
        "np.random.shuffle(data)\n",
        "from sklearn.model_selection import GridSearchCV\n",
        "\n",
        "params = {\n",
        "    \"loss\" : [\"hinge\", \"log\", \"squared_hinge\", \"modified_huber\"],\n",
        "    \"alpha\" : [0.0001, 0.001, 0.01, 0.1],\n",
        "    \"penalty\" : [\"l2\", \"l1\", \"none\"],\n",
        "}\n",
        "\n",
        "model = SGDClassifier(max_iter=1000)\n",
        "clf = GridSearchCV(model, param_grid=params)"
      ],
      "metadata": {
        "id": "xYwDGK_0Hrcp"
      },
      "execution_count": 16,
      "outputs": []
    },
    {
      "cell_type": "code",
      "source": [
        "clf.fit(X_train, y_train)\n",
        "print(clf.best_score_)"
      ],
      "metadata": {
        "colab": {
          "base_uri": "https://localhost:8080/"
        },
        "id": "Xme7emz-IBXJ",
        "outputId": "589d525c-196a-4fa4-d24f-c43316ffe8ec"
      },
      "execution_count": 17,
      "outputs": [
        {
          "output_type": "stream",
          "name": "stdout",
          "text": [
            "0.812\n"
          ]
        }
      ]
    },
    {
      "cell_type": "code",
      "source": [
        "print(clf.best_estimator_)"
      ],
      "metadata": {
        "colab": {
          "base_uri": "https://localhost:8080/"
        },
        "id": "G0z3T0YjIEqb",
        "outputId": "138d617a-283e-4c0e-c773-1ae8d3957c4b"
      },
      "execution_count": 18,
      "outputs": [
        {
          "output_type": "stream",
          "name": "stdout",
          "text": [
            "SGDClassifier(alpha=0.01, loss='modified_huber')\n"
          ]
        }
      ]
    },
    {
      "cell_type": "markdown",
      "source": [
        "![image.png](data:image/png;base64,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)"
      ],
      "metadata": {
        "id": "PAqud3E0tX_V"
      }
    },
    {
      "cell_type": "code",
      "source": [
        "from sklearn.metrics import precision_score, recall_score\n",
        "# 정밀도 값\n",
        "# 스팸메일 필터에서 많이 쓰인다. 정상 메일을 스팸처리해서 삭제해버리면 안되기 때문 FP값: 실제 음성(정상)인데 양성(스팸)이라고 판별\n",
        "precision_score(y_up_test, predict_y)"
      ],
      "metadata": {
        "id": "gjKkRE4I-0kj",
        "colab": {
          "base_uri": "https://localhost:8080/"
        },
        "outputId": "5e1a5f6f-d0aa-4075-96e2-6116e965a5cc"
      },
      "execution_count": 32,
      "outputs": [
        {
          "output_type": "execute_result",
          "data": {
            "text/plain": [
              "0.7761086977115559"
            ]
          },
          "metadata": {},
          "execution_count": 32
        }
      ]
    },
    {
      "cell_type": "code",
      "source": [
        "# 재현율 값 \n",
        "# 진단 분야에서는 재현율 값이 중요! 왜냐하면 환자를 정상으로 판별하면 안되기 때문이다. FN값 : 양성(환자)을 음성(정상)으로 판단\n",
        "recall_score(y_up_test, predict_y)"
      ],
      "metadata": {
        "id": "0KX9npWo-0h_",
        "colab": {
          "base_uri": "https://localhost:8080/"
        },
        "outputId": "25e0a803-20da-42bb-d4ff-68a130ec7753"
      },
      "execution_count": 33,
      "outputs": [
        {
          "output_type": "execute_result",
          "data": {
            "text/plain": [
              "0.7742906712211324"
            ]
          },
          "metadata": {},
          "execution_count": 33
        }
      ]
    },
    {
      "cell_type": "code",
      "source": [
        "from sklearn.metrics import precision_recall_curve\n",
        "\n",
        "precisions, recalls, thresholds = precision_recall_curve(y_up_test, predict_y)"
      ],
      "metadata": {
        "id": "OVQexmkvxeyd"
      },
      "execution_count": 34,
      "outputs": []
    },
    {
      "cell_type": "markdown",
      "source": [
        "정밀도와 재현율의 조화 평균으로 나타낸 F1 score"
      ],
      "metadata": {
        "id": "vkzaoXKJuJ67"
      }
    },
    {
      "cell_type": "code",
      "source": [
        "from sklearn.metrics import f1_score\n",
        "f1_score(y_up_test, predict_y)"
      ],
      "metadata": {
        "id": "TuR1wST0AEjl",
        "colab": {
          "base_uri": "https://localhost:8080/"
        },
        "outputId": "8ad68e34-539d-4f73-c9db-10e645fc6676"
      },
      "execution_count": 35,
      "outputs": [
        {
          "output_type": "execute_result",
          "data": {
            "text/plain": [
              "0.7751986185408845"
            ]
          },
          "metadata": {},
          "execution_count": 35
        }
      ]
    },
    {
      "cell_type": "code",
      "source": [
        "from sklearn.metrics import roc_curve\n",
        "fpr, tpr, thresholds = roc_curve(y_up_test, predict_y)"
      ],
      "metadata": {
        "id": "R1RS1K-TufAo"
      },
      "execution_count": 36,
      "outputs": []
    },
    {
      "cell_type": "code",
      "source": [
        "fpr, tpr, threshold = roc_curve(y_up_test, predict_y)\n",
        "print(\"FPR:\\n\\n\", fpr)\n",
        "\n",
        "\n",
        "print(\"-\"*100)\n",
        "\n",
        "print(\"TPR:\\n\\n\", tpr)"
      ],
      "metadata": {
        "colab": {
          "base_uri": "https://localhost:8080/"
        },
        "id": "eW2qSPSQyi2e",
        "outputId": "f6330973-5b60-4a20-9ae2-8dfd56020dda"
      },
      "execution_count": 37,
      "outputs": [
        {
          "output_type": "stream",
          "name": "stdout",
          "text": [
            "FPR:\n",
            "\n",
            " [0.         0.22336835 1.        ]\n",
            "----------------------------------------------------------------------------------------------------\n",
            "TPR:\n",
            "\n",
            " [0.         0.77429067 1.        ]\n"
          ]
        }
      ]
    },
    {
      "cell_type": "markdown",
      "source": [
        "ROC curve plot"
      ],
      "metadata": {
        "id": "cV7z8S9lzIMG"
      }
    },
    {
      "cell_type": "code",
      "source": [
        "plt.plot([0, 1], [0, 1], \"k--\", label = '50% AUC')\n",
        "plt.plot(fpr, tpr, label = \"SGD_classifier\")\n",
        "plt.xlabel(\"FPR\")\n",
        "plt.ylabel(\"TPR\")\n",
        "plt.title(\"ROC Curve - SGD_classifier\")\n",
        "plt.show()"
      ],
      "metadata": {
        "colab": {
          "base_uri": "https://localhost:8080/",
          "height": 295
        },
        "id": "tn5egWW4yp6v",
        "outputId": "54f70d7d-34d0-45ec-fa17-fbcf2c7ae50b"
      },
      "execution_count": 38,
      "outputs": [
        {
          "output_type": "display_data",
          "data": {
            "text/plain": [
              "<Figure size 432x288 with 1 Axes>"
            ],
            "image/png": "[encoded data removed]"
          },
          "metadata": {
            "needs_background": "light"
          }
        }
      ]
    },
    {
      "cell_type": "markdown",
      "source": [
        "[Hyperparameter 정보들](https://machinelearningmastery.com/hyperparameters-for-classification-machine-learning-algorithms/)\n",
        "\n",
        "[Hyperparameter 정보들2](https://machinelearningmastery.com/hyperparameter-optimization-with-random-search-and-grid-search/)\n",
        "\n",
        "[Hyperparameter 정보들3](https://hyemin-kim.github.io/2020/07/26/S-Python-sklearn2/)"
      ],
      "metadata": {
        "id": "KVwzxJRj0Htl"
      }
    },
    {
      "cell_type": "markdown",
      "source": [
        "[Hyperparameter tuning baseline code](https://www.kaggle.com/code/funxexcel/p2-logistic-regression-hyperparameter-tuning/notebook)"
      ],
      "metadata": {
        "id": "piPhW9DxASA2"
      }
    },
    {
      "cell_type": "code",
      "source": [
        "# LogisticRegression(C=1.0, class_weight=None, dual=False, fit_intercept=True,\n",
        "#                    intercept_scaling=1, l1_ratio=None, max_iter=100,\n",
        "#                    multi_class='auto', n_jobs=None, penalty='l2',\n",
        "#                    random_state=0, solver='lbfgs', tol=0.0001, verbose=0,\n",
        "#                    warm_start=False)"
      ],
      "metadata": {
        "id": "JWPIo9yn-Zat"
      },
      "execution_count": null,
      "outputs": []
    },
    {
      "cell_type": "code",
      "source": [
        "# SGDClassifier(alpha=0.0001, average=False, class_weight=None,\n",
        "#               early_stopping=False, epsilon=0.1, eta0=0.0, fit_intercept=True,\n",
        "#               l1_ratio=0.15, learning_rate='optimal', loss='hinge',\n",
        "#               max_iter=1000, n_iter_no_change=5, n_jobs=None, penalty='l2',\n",
        "#               power_t=0.5, random_state=0, shuffle=True, tol=0.001,\n",
        "#               validation_fraction=0.1, verbose=0, warm_start=False)"
      ],
      "metadata": {
        "id": "J63FkxAj-hjT"
      },
      "execution_count": null,
      "outputs": []
    }
  ]
}