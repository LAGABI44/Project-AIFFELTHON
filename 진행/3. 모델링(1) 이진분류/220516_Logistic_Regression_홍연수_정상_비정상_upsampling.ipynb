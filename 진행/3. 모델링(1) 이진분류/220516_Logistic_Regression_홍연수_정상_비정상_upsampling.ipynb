{
  "nbformat": 4,
  "nbformat_minor": 0,
  "metadata": {
    "colab": {
      "name": "220516_Logistic_Regression_홍연수_정상_비정상_upsampling.ipynb",
      "provenance": [],
      "collapsed_sections": []
    },
    "kernelspec": {
      "name": "python3",
      "display_name": "Python 3"
    },
    "language_info": {
      "name": "python"
    }
  },
  "cells": [
    {
      "cell_type": "code",
      "execution_count": 24,
      "metadata": {
        "id": "fs-ZWJnV6-7T"
      },
      "outputs": [],
      "source": [
        "%matplotlib inline\n",
        "import missingno as msno\n",
        "import numpy as np\n",
        "import pandas as pd\n",
        "import matplotlib.pyplot as plt\n",
        "import seaborn as sns\n",
        "from sklearn.model_selection import train_test_split\n",
        "from sklearn import svm\n",
        "from sklearn import metrics\n",
        "from sklearn.svm import SVC \n",
        "from sklearn.metrics import classification_report, confusion_matrix"
      ]
    },
    {
      "cell_type": "code",
      "source": [
        "from google.colab import drive # gdrive 연동\n",
        "drive.mount('/content/drive')"
      ],
      "metadata": {
        "colab": {
          "base_uri": "https://localhost:8080/"
        },
        "id": "RhPzYd_g8QZk",
        "outputId": "d517fe5f-aaf3-4d0f-f0ae-7b118a23ec32"
      },
      "execution_count": 3,
      "outputs": [
        {
          "output_type": "stream",
          "name": "stdout",
          "text": [
            "Mounted at /content/drive\n"
          ]
        }
      ]
    },
    {
      "cell_type": "markdown",
      "source": [
        "## 10만개 데이터"
      ],
      "metadata": {
        "id": "uwoqX2qE_dJm"
      }
    },
    {
      "cell_type": "code",
      "source": [
        "# Disease \n",
        "\n",
        "df = pd.read_csv('/content/drive/MyDrive/Colab_Notebooks/aiffel_data/Hackerton_2/data_dis_vs_nor.csv', encoding='cp949') # upsampling 안된 것!\n",
        "df"
      ],
      "metadata": {
        "colab": {
          "base_uri": "https://localhost:8080/",
          "height": 424
        },
        "id": "1n0zEHLd8QSt",
        "outputId": "fc4e709a-a866-4400-876d-503a39dd9c86"
      },
      "execution_count": 25,
      "outputs": [
        {
          "output_type": "execute_result",
          "data": {
            "text/plain": [
              "        SEX  BTH_G  SBP  DBP  FBS   BMI  Dis\n",
              "0         0      1  116   78   94  16.6    0\n",
              "1         0      1  100   60   79  22.3    0\n",
              "2         0      1  100   60   87  21.9    0\n",
              "3         0      1  111   70   72  20.2    0\n",
              "4         0      1  120   80   98  20.0    0\n",
              "...     ...    ...  ...  ...  ...   ...  ...\n",
              "999995    1     27  120   70   81  23.1    1\n",
              "999996    1     27  110   70  104  27.2    1\n",
              "999997    1     27  115   53  110  25.2    1\n",
              "999998    1     27  120   70   90  19.7    1\n",
              "999999    1     27  116   73   92  17.6    0\n",
              "\n",
              "[1000000 rows x 7 columns]"
            ],
            "text/html": [
              "\n",
              "  <div id=\"df-c31a64a4-9f2e-4bb9-a54d-668baecafab0\">\n",
              "    <div class=\"colab-df-container\">\n",
              "      <div>\n",
              "<style scoped>\n",
              "    .dataframe tbody tr th:only-of-type {\n",
              "        vertical-align: middle;\n",
              "    }\n",
              "\n",
              "    .dataframe tbody tr th {\n",
              "        vertical-align: top;\n",
              "    }\n",
              "\n",
              "    .dataframe thead th {\n",
              "        text-align: right;\n",
              "    }\n",
              "</style>\n",
              "<table border=\"1\" class=\"dataframe\">\n",
              "  <thead>\n",
              "    <tr style=\"text-align: right;\">\n",
              "      <th></th>\n",
              "      <th>SEX</th>\n",
              "      <th>BTH_G</th>\n",
              "      <th>SBP</th>\n",
              "      <th>DBP</th>\n",
              "      <th>FBS</th>\n",
              "      <th>BMI</th>\n",
              "      <th>Dis</th>\n",
              "    </tr>\n",
              "  </thead>\n",
              "  <tbody>\n",
              "    <tr>\n",
              "      <th>0</th>\n",
              "      <td>0</td>\n",
              "      <td>1</td>\n",
              "      <td>116</td>\n",
              "      <td>78</td>\n",
              "      <td>94</td>\n",
              "      <td>16.6</td>\n",
              "      <td>0</td>\n",
              "    </tr>\n",
              "    <tr>\n",
              "      <th>1</th>\n",
              "      <td>0</td>\n",
              "      <td>1</td>\n",
              "      <td>100</td>\n",
              "      <td>60</td>\n",
              "      <td>79</td>\n",
              "      <td>22.3</td>\n",
              "      <td>0</td>\n",
              "    </tr>\n",
              "    <tr>\n",
              "      <th>2</th>\n",
              "      <td>0</td>\n",
              "      <td>1</td>\n",
              "      <td>100</td>\n",
              "      <td>60</td>\n",
              "      <td>87</td>\n",
              "      <td>21.9</td>\n",
              "      <td>0</td>\n",
              "    </tr>\n",
              "    <tr>\n",
              "      <th>3</th>\n",
              "      <td>0</td>\n",
              "      <td>1</td>\n",
              "      <td>111</td>\n",
              "      <td>70</td>\n",
              "      <td>72</td>\n",
              "      <td>20.2</td>\n",
              "      <td>0</td>\n",
              "    </tr>\n",
              "    <tr>\n",
              "      <th>4</th>\n",
              "      <td>0</td>\n",
              "      <td>1</td>\n",
              "      <td>120</td>\n",
              "      <td>80</td>\n",
              "      <td>98</td>\n",
              "      <td>20.0</td>\n",
              "      <td>0</td>\n",
              "    </tr>\n",
              "    <tr>\n",
              "      <th>...</th>\n",
              "      <td>...</td>\n",
              "      <td>...</td>\n",
              "      <td>...</td>\n",
              "      <td>...</td>\n",
              "      <td>...</td>\n",
              "      <td>...</td>\n",
              "      <td>...</td>\n",
              "    </tr>\n",
              "    <tr>\n",
              "      <th>999995</th>\n",
              "      <td>1</td>\n",
              "      <td>27</td>\n",
              "      <td>120</td>\n",
              "      <td>70</td>\n",
              "      <td>81</td>\n",
              "      <td>23.1</td>\n",
              "      <td>1</td>\n",
              "    </tr>\n",
              "    <tr>\n",
              "      <th>999996</th>\n",
              "      <td>1</td>\n",
              "      <td>27</td>\n",
              "      <td>110</td>\n",
              "      <td>70</td>\n",
              "      <td>104</td>\n",
              "      <td>27.2</td>\n",
              "      <td>1</td>\n",
              "    </tr>\n",
              "    <tr>\n",
              "      <th>999997</th>\n",
              "      <td>1</td>\n",
              "      <td>27</td>\n",
              "      <td>115</td>\n",
              "      <td>53</td>\n",
              "      <td>110</td>\n",
              "      <td>25.2</td>\n",
              "      <td>1</td>\n",
              "    </tr>\n",
              "    <tr>\n",
              "      <th>999998</th>\n",
              "      <td>1</td>\n",
              "      <td>27</td>\n",
              "      <td>120</td>\n",
              "      <td>70</td>\n",
              "      <td>90</td>\n",
              "      <td>19.7</td>\n",
              "      <td>1</td>\n",
              "    </tr>\n",
              "    <tr>\n",
              "      <th>999999</th>\n",
              "      <td>1</td>\n",
              "      <td>27</td>\n",
              "      <td>116</td>\n",
              "      <td>73</td>\n",
              "      <td>92</td>\n",
              "      <td>17.6</td>\n",
              "      <td>0</td>\n",
              "    </tr>\n",
              "  </tbody>\n",
              "</table>\n",
              "<p>1000000 rows × 7 columns</p>\n",
              "</div>\n",
              "      <button class=\"colab-df-convert\" onclick=\"convertToInteractive('df-c31a64a4-9f2e-4bb9-a54d-668baecafab0')\"\n",
              "              title=\"Convert this dataframe to an interactive table.\"\n",
              "              style=\"display:none;\">\n",
              "        \n",
              "  <svg xmlns=\"http://www.w3.org/2000/svg\" height=\"24px\"viewBox=\"0 0 24 24\"\n",
              "       width=\"24px\">\n",
              "    <path d=\"M0 0h24v24H0V0z\" fill=\"none\"/>\n",
              "    <path d=\"M18.56 5.44l.94 2.06.94-2.06 2.06-.94-2.06-.94-.94-2.06-.94 2.06-2.06.94zm-11 1L8.5 8.5l.94-2.06 2.06-.94-2.06-.94L8.5 2.5l-.94 2.06-2.06.94zm10 10l.94 2.06.94-2.06 2.06-.94-2.06-.94-.94-2.06-.94 2.06-2.06.94z\"/><path d=\"M17.41 7.96l-1.37-1.37c-.4-.4-.92-.59-1.43-.59-.52 0-1.04.2-1.43.59L10.3 9.45l-7.72 7.72c-.78.78-.78 2.05 0 2.83L4 21.41c.39.39.9.59 1.41.59.51 0 1.02-.2 1.41-.59l7.78-7.78 2.81-2.81c.8-.78.8-2.07 0-2.86zM5.41 20L4 18.59l7.72-7.72 1.47 1.35L5.41 20z\"/>\n",
              "  </svg>\n",
              "      </button>\n",
              "      \n",
              "  <style>\n",
              "    .colab-df-container {\n",
              "      display:flex;\n",
              "      flex-wrap:wrap;\n",
              "      gap: 12px;\n",
              "    }\n",
              "\n",
              "    .colab-df-convert {\n",
              "      background-color: #E8F0FE;\n",
              "      border: none;\n",
              "      border-radius: 50%;\n",
              "      cursor: pointer;\n",
              "      display: none;\n",
              "      fill: #1967D2;\n",
              "      height: 32px;\n",
              "      padding: 0 0 0 0;\n",
              "      width: 32px;\n",
              "    }\n",
              "\n",
              "    .colab-df-convert:hover {\n",
              "      background-color: #E2EBFA;\n",
              "      box-shadow: 0px 1px 2px rgba(60, 64, 67, 0.3), 0px 1px 3px 1px rgba(60, 64, 67, 0.15);\n",
              "      fill: #174EA6;\n",
              "    }\n",
              "\n",
              "    [theme=dark] .colab-df-convert {\n",
              "      background-color: #3B4455;\n",
              "      fill: #D2E3FC;\n",
              "    }\n",
              "\n",
              "    [theme=dark] .colab-df-convert:hover {\n",
              "      background-color: #434B5C;\n",
              "      box-shadow: 0px 1px 3px 1px rgba(0, 0, 0, 0.15);\n",
              "      filter: drop-shadow(0px 1px 2px rgba(0, 0, 0, 0.3));\n",
              "      fill: #FFFFFF;\n",
              "    }\n",
              "  </style>\n",
              "\n",
              "      <script>\n",
              "        const buttonEl =\n",
              "          document.querySelector('#df-c31a64a4-9f2e-4bb9-a54d-668baecafab0 button.colab-df-convert');\n",
              "        buttonEl.style.display =\n",
              "          google.colab.kernel.accessAllowed ? 'block' : 'none';\n",
              "\n",
              "        async function convertToInteractive(key) {\n",
              "          const element = document.querySelector('#df-c31a64a4-9f2e-4bb9-a54d-668baecafab0');\n",
              "          const dataTable =\n",
              "            await google.colab.kernel.invokeFunction('convertToInteractive',\n",
              "                                                     [key], {});\n",
              "          if (!dataTable) return;\n",
              "\n",
              "          const docLinkHtml = 'Like what you see? Visit the ' +\n",
              "            '<a target=\"_blank\" href=https://colab.research.google.com/notebooks/data_table.ipynb>data table notebook</a>'\n",
              "            + ' to learn more about interactive tables.';\n",
              "          element.innerHTML = '';\n",
              "          dataTable['output_type'] = 'display_data';\n",
              "          await google.colab.output.renderOutput(dataTable, element);\n",
              "          const docLink = document.createElement('div');\n",
              "          docLink.innerHTML = docLinkHtml;\n",
              "          element.appendChild(docLink);\n",
              "        }\n",
              "      </script>\n",
              "    </div>\n",
              "  </div>\n",
              "  "
            ]
          },
          "metadata": {},
          "execution_count": 25
        }
      ]
    },
    {
      "cell_type": "code",
      "source": [
        "df.notnull().sum()"
      ],
      "metadata": {
        "colab": {
          "base_uri": "https://localhost:8080/"
        },
        "id": "tEMba2zU8Sfm",
        "outputId": "692775e9-29ad-4fd9-aa5e-11f5b45f6901"
      },
      "execution_count": 26,
      "outputs": [
        {
          "output_type": "execute_result",
          "data": {
            "text/plain": [
              "SEX      1000000\n",
              "BTH_G    1000000\n",
              "SBP      1000000\n",
              "DBP      1000000\n",
              "FBS      1000000\n",
              "BMI      1000000\n",
              "Dis      1000000\n",
              "dtype: int64"
            ]
          },
          "metadata": {},
          "execution_count": 26
        }
      ]
    },
    {
      "cell_type": "code",
      "source": [
        "df.info()"
      ],
      "metadata": {
        "colab": {
          "base_uri": "https://localhost:8080/"
        },
        "id": "QqHvFnmj8W8F",
        "outputId": "07619294-26d6-46d2-8af2-47103b5eae8b"
      },
      "execution_count": 27,
      "outputs": [
        {
          "output_type": "stream",
          "name": "stdout",
          "text": [
            "<class 'pandas.core.frame.DataFrame'>\n",
            "RangeIndex: 1000000 entries, 0 to 999999\n",
            "Data columns (total 7 columns):\n",
            " #   Column  Non-Null Count    Dtype  \n",
            "---  ------  --------------    -----  \n",
            " 0   SEX     1000000 non-null  int64  \n",
            " 1   BTH_G   1000000 non-null  int64  \n",
            " 2   SBP     1000000 non-null  int64  \n",
            " 3   DBP     1000000 non-null  int64  \n",
            " 4   FBS     1000000 non-null  int64  \n",
            " 5   BMI     1000000 non-null  float64\n",
            " 6   Dis     1000000 non-null  int64  \n",
            "dtypes: float64(1), int64(6)\n",
            "memory usage: 53.4 MB\n"
          ]
        }
      ]
    },
    {
      "cell_type": "code",
      "source": [
        "colormap = plt.cm.viridis # pearson 상관 계수 확인 ---> heatmap\n",
        "plt.figure(figsize=(15,15))\n",
        "plt.title(\"Pearson Corrrelation of features\")\n",
        "sns.heatmap(df.corr(), cmap=colormap, annot=True, linewidths=0.1, vmax=1.0, \n",
        "            square=True, linecolor='white')"
      ],
      "metadata": {
        "colab": {
          "base_uri": "https://localhost:8080/",
          "height": 869
        },
        "id": "YvYTca3A8YU9",
        "outputId": "8511ffde-1580-448c-d912-dacb657fa2f0"
      },
      "execution_count": 28,
      "outputs": [
        {
          "output_type": "execute_result",
          "data": {
            "text/plain": [
              "<matplotlib.axes._subplots.AxesSubplot at 0x7fd02b975cd0>"
            ]
          },
          "metadata": {},
          "execution_count": 28
        },
        {
          "output_type": "display_data",
          "data": {
            "text/plain": [
              "<Figure size 1080x1080 with 2 Axes>"
            ],
            "image/png": "[encoded data removed]"
          },
          "metadata": {
            "needs_background": "light"
          }
        }
      ]
    },
    {
      "cell_type": "code",
      "source": [
        "# split data\n",
        "\n",
        "from sklearn.model_selection import train_test_split\n",
        "\n",
        "# 전체 데이터 split\n",
        "X_train, X_test, y_train, y_test = train_test_split(df.loc[:, df.columns != 'Dis'],df['Dis'],  stratify=df['Dis'], shuffle=True, test_size=0.9, random_state=11)\n",
        "\n",
        "X_test,X_val,y_test,y_val=train_test_split(X_test,y_test,test_size=0.88, shuffle=True) # validation은 사용하지 않음\n",
        "\n",
        "\n",
        "print(X_train.shape)\n",
        "print(y_train.shape)\n",
        "print(X_val.shape) # validation set은 사용하지 않음\n",
        "print(y_val.shape) # 역시\n",
        "print(X_test.shape)\n",
        "print(y_test.shape)"
      ],
      "metadata": {
        "colab": {
          "base_uri": "https://localhost:8080/"
        },
        "id": "I1gIJTV-8gSt",
        "outputId": "581eeed0-350d-44b1-bd5b-08f0896dfc35"
      },
      "execution_count": 29,
      "outputs": [
        {
          "output_type": "stream",
          "name": "stdout",
          "text": [
            "(100000, 6)\n",
            "(100000,)\n",
            "(792000, 6)\n",
            "(792000,)\n",
            "(108000, 6)\n",
            "(108000,)\n"
          ]
        }
      ]
    },
    {
      "cell_type": "code",
      "source": [
        "X_train.shape"
      ],
      "metadata": {
        "id": "z9J6rz4J8t4m",
        "colab": {
          "base_uri": "https://localhost:8080/"
        },
        "outputId": "7c8e2367-5865-4fd3-8444-3334e3ea4456"
      },
      "execution_count": 30,
      "outputs": [
        {
          "output_type": "execute_result",
          "data": {
            "text/plain": [
              "(100000, 6)"
            ]
          },
          "metadata": {},
          "execution_count": 30
        }
      ]
    },
    {
      "cell_type": "code",
      "source": [
        "X_test.shape"
      ],
      "metadata": {
        "id": "FaP4loQ9_2le",
        "colab": {
          "base_uri": "https://localhost:8080/"
        },
        "outputId": "5a883696-815b-4d0d-a886-4fa0dcf4267f"
      },
      "execution_count": 31,
      "outputs": [
        {
          "output_type": "execute_result",
          "data": {
            "text/plain": [
              "(108000, 6)"
            ]
          },
          "metadata": {},
          "execution_count": 31
        }
      ]
    },
    {
      "cell_type": "code",
      "source": [
        "y_train.shape"
      ],
      "metadata": {
        "id": "8rVN0UcF_5U-",
        "colab": {
          "base_uri": "https://localhost:8080/"
        },
        "outputId": "c5a39b5b-705e-4b01-e7c7-21000b29e8b3"
      },
      "execution_count": 32,
      "outputs": [
        {
          "output_type": "execute_result",
          "data": {
            "text/plain": [
              "(100000,)"
            ]
          },
          "metadata": {},
          "execution_count": 32
        }
      ]
    },
    {
      "cell_type": "code",
      "source": [
        "y_test.shape"
      ],
      "metadata": {
        "id": "AaTD7rLY_6tb",
        "colab": {
          "base_uri": "https://localhost:8080/"
        },
        "outputId": "ee412f61-9369-48f0-b728-30123f4c9013"
      },
      "execution_count": 33,
      "outputs": [
        {
          "output_type": "execute_result",
          "data": {
            "text/plain": [
              "(108000,)"
            ]
          },
          "metadata": {},
          "execution_count": 33
        }
      ]
    },
    {
      "cell_type": "code",
      "source": [
        "from sklearn.linear_model import LogisticRegression # 로지스틱 회귀\n",
        "\n",
        "\n",
        "LR = LogisticRegression() # 로지스틱 회귀 분석\n",
        "LR.fit(X_train,y_train)\n",
        "\n",
        "print(\"train score : {}\".format(LR.score(X_train, y_train)))\n",
        "\n",
        "predict_y = LR.predict(X_test)\n",
        "\n",
        "from sklearn.metrics import classification_report\n",
        "print(classification_report(y_test, LR.predict(X_test)))\n",
        "print(\"test score : {}\".format(LR.score(X_test, y_test)))"
      ],
      "metadata": {
        "colab": {
          "base_uri": "https://localhost:8080/"
        },
        "id": "2Yt8QUWr_842",
        "outputId": "2a99bc9c-3efd-441e-ab0b-1fb59e6df805"
      },
      "execution_count": 34,
      "outputs": [
        {
          "output_type": "stream",
          "name": "stdout",
          "text": [
            "train score : 0.8193\n",
            "              precision    recall  f1-score   support\n",
            "\n",
            "           0       0.85      0.92      0.88     79992\n",
            "           1       0.69      0.54      0.60     28008\n",
            "\n",
            "    accuracy                           0.82    108000\n",
            "   macro avg       0.77      0.73      0.74    108000\n",
            "weighted avg       0.81      0.82      0.81    108000\n",
            "\n",
            "test score : 0.8175462962962963\n"
          ]
        }
      ]
    },
    {
      "cell_type": "markdown",
      "source": [
        "## Upsampling 데이터"
      ],
      "metadata": {
        "id": "mjKG3X5x_hS0"
      }
    },
    {
      "cell_type": "code",
      "source": [
        "# Disease \n",
        "\n",
        "df2 = pd.read_csv('/content/drive/MyDrive/Colab_Notebooks/aiffel_data/Hackerton_2/data_over_sampling.csv', encoding='cp949') # upsampling 안된 것!\n",
        "df2"
      ],
      "metadata": {
        "colab": {
          "base_uri": "https://localhost:8080/",
          "height": 424
        },
        "id": "b_E6ofBl6LzK",
        "outputId": "97ddd9be-852b-4c5f-c876-98c32b366cee"
      },
      "execution_count": 42,
      "outputs": [
        {
          "output_type": "execute_result",
          "data": {
            "text/plain": [
              "         SEX  BTH_G  SBP  DBP  FBS   BMI  Dis\n",
              "0          1      1  116   78   94  16.6    0\n",
              "1          1      1  100   60   79  22.3    0\n",
              "2          1      1  100   60   87  21.9    0\n",
              "3          1      1  111   70   72  20.2    0\n",
              "4          1      1  120   80   98  20.0    0\n",
              "...      ...    ...  ...  ...  ...   ...  ...\n",
              "1481319    0     25  120   80   78  27.9    1\n",
              "1481320    0     27  150   74  133  32.0    1\n",
              "1481321    1     25  120   70  118  26.9    1\n",
              "1481322    0     20  136   68   93  21.5    1\n",
              "1481323    1     19  125   84  130  24.8    1\n",
              "\n",
              "[1481324 rows x 7 columns]"
            ],
            "text/html": [
              "\n",
              "  <div id=\"df-3e3e8d4d-97e5-4e10-8e68-41c22f953880\">\n",
              "    <div class=\"colab-df-container\">\n",
              "      <div>\n",
              "<style scoped>\n",
              "    .dataframe tbody tr th:only-of-type {\n",
              "        vertical-align: middle;\n",
              "    }\n",
              "\n",
              "    .dataframe tbody tr th {\n",
              "        vertical-align: top;\n",
              "    }\n",
              "\n",
              "    .dataframe thead th {\n",
              "        text-align: right;\n",
              "    }\n",
              "</style>\n",
              "<table border=\"1\" class=\"dataframe\">\n",
              "  <thead>\n",
              "    <tr style=\"text-align: right;\">\n",
              "      <th></th>\n",
              "      <th>SEX</th>\n",
              "      <th>BTH_G</th>\n",
              "      <th>SBP</th>\n",
              "      <th>DBP</th>\n",
              "      <th>FBS</th>\n",
              "      <th>BMI</th>\n",
              "      <th>Dis</th>\n",
              "    </tr>\n",
              "  </thead>\n",
              "  <tbody>\n",
              "    <tr>\n",
              "      <th>0</th>\n",
              "      <td>1</td>\n",
              "      <td>1</td>\n",
              "      <td>116</td>\n",
              "      <td>78</td>\n",
              "      <td>94</td>\n",
              "      <td>16.6</td>\n",
              "      <td>0</td>\n",
              "    </tr>\n",
              "    <tr>\n",
              "      <th>1</th>\n",
              "      <td>1</td>\n",
              "      <td>1</td>\n",
              "      <td>100</td>\n",
              "      <td>60</td>\n",
              "      <td>79</td>\n",
              "      <td>22.3</td>\n",
              "      <td>0</td>\n",
              "    </tr>\n",
              "    <tr>\n",
              "      <th>2</th>\n",
              "      <td>1</td>\n",
              "      <td>1</td>\n",
              "      <td>100</td>\n",
              "      <td>60</td>\n",
              "      <td>87</td>\n",
              "      <td>21.9</td>\n",
              "      <td>0</td>\n",
              "    </tr>\n",
              "    <tr>\n",
              "      <th>3</th>\n",
              "      <td>1</td>\n",
              "      <td>1</td>\n",
              "      <td>111</td>\n",
              "      <td>70</td>\n",
              "      <td>72</td>\n",
              "      <td>20.2</td>\n",
              "      <td>0</td>\n",
              "    </tr>\n",
              "    <tr>\n",
              "      <th>4</th>\n",
              "      <td>1</td>\n",
              "      <td>1</td>\n",
              "      <td>120</td>\n",
              "      <td>80</td>\n",
              "      <td>98</td>\n",
              "      <td>20.0</td>\n",
              "      <td>0</td>\n",
              "    </tr>\n",
              "    <tr>\n",
              "      <th>...</th>\n",
              "      <td>...</td>\n",
              "      <td>...</td>\n",
              "      <td>...</td>\n",
              "      <td>...</td>\n",
              "      <td>...</td>\n",
              "      <td>...</td>\n",
              "      <td>...</td>\n",
              "    </tr>\n",
              "    <tr>\n",
              "      <th>1481319</th>\n",
              "      <td>0</td>\n",
              "      <td>25</td>\n",
              "      <td>120</td>\n",
              "      <td>80</td>\n",
              "      <td>78</td>\n",
              "      <td>27.9</td>\n",
              "      <td>1</td>\n",
              "    </tr>\n",
              "    <tr>\n",
              "      <th>1481320</th>\n",
              "      <td>0</td>\n",
              "      <td>27</td>\n",
              "      <td>150</td>\n",
              "      <td>74</td>\n",
              "      <td>133</td>\n",
              "      <td>32.0</td>\n",
              "      <td>1</td>\n",
              "    </tr>\n",
              "    <tr>\n",
              "      <th>1481321</th>\n",
              "      <td>1</td>\n",
              "      <td>25</td>\n",
              "      <td>120</td>\n",
              "      <td>70</td>\n",
              "      <td>118</td>\n",
              "      <td>26.9</td>\n",
              "      <td>1</td>\n",
              "    </tr>\n",
              "    <tr>\n",
              "      <th>1481322</th>\n",
              "      <td>0</td>\n",
              "      <td>20</td>\n",
              "      <td>136</td>\n",
              "      <td>68</td>\n",
              "      <td>93</td>\n",
              "      <td>21.5</td>\n",
              "      <td>1</td>\n",
              "    </tr>\n",
              "    <tr>\n",
              "      <th>1481323</th>\n",
              "      <td>1</td>\n",
              "      <td>19</td>\n",
              "      <td>125</td>\n",
              "      <td>84</td>\n",
              "      <td>130</td>\n",
              "      <td>24.8</td>\n",
              "      <td>1</td>\n",
              "    </tr>\n",
              "  </tbody>\n",
              "</table>\n",
              "<p>1481324 rows × 7 columns</p>\n",
              "</div>\n",
              "      <button class=\"colab-df-convert\" onclick=\"convertToInteractive('df-3e3e8d4d-97e5-4e10-8e68-41c22f953880')\"\n",
              "              title=\"Convert this dataframe to an interactive table.\"\n",
              "              style=\"display:none;\">\n",
              "        \n",
              "  <svg xmlns=\"http://www.w3.org/2000/svg\" height=\"24px\"viewBox=\"0 0 24 24\"\n",
              "       width=\"24px\">\n",
              "    <path d=\"M0 0h24v24H0V0z\" fill=\"none\"/>\n",
              "    <path d=\"M18.56 5.44l.94 2.06.94-2.06 2.06-.94-2.06-.94-.94-2.06-.94 2.06-2.06.94zm-11 1L8.5 8.5l.94-2.06 2.06-.94-2.06-.94L8.5 2.5l-.94 2.06-2.06.94zm10 10l.94 2.06.94-2.06 2.06-.94-2.06-.94-.94-2.06-.94 2.06-2.06.94z\"/><path d=\"M17.41 7.96l-1.37-1.37c-.4-.4-.92-.59-1.43-.59-.52 0-1.04.2-1.43.59L10.3 9.45l-7.72 7.72c-.78.78-.78 2.05 0 2.83L4 21.41c.39.39.9.59 1.41.59.51 0 1.02-.2 1.41-.59l7.78-7.78 2.81-2.81c.8-.78.8-2.07 0-2.86zM5.41 20L4 18.59l7.72-7.72 1.47 1.35L5.41 20z\"/>\n",
              "  </svg>\n",
              "      </button>\n",
              "      \n",
              "  <style>\n",
              "    .colab-df-container {\n",
              "      display:flex;\n",
              "      flex-wrap:wrap;\n",
              "      gap: 12px;\n",
              "    }\n",
              "\n",
              "    .colab-df-convert {\n",
              "      background-color: #E8F0FE;\n",
              "      border: none;\n",
              "      border-radius: 50%;\n",
              "      cursor: pointer;\n",
              "      display: none;\n",
              "      fill: #1967D2;\n",
              "      height: 32px;\n",
              "      padding: 0 0 0 0;\n",
              "      width: 32px;\n",
              "    }\n",
              "\n",
              "    .colab-df-convert:hover {\n",
              "      background-color: #E2EBFA;\n",
              "      box-shadow: 0px 1px 2px rgba(60, 64, 67, 0.3), 0px 1px 3px 1px rgba(60, 64, 67, 0.15);\n",
              "      fill: #174EA6;\n",
              "    }\n",
              "\n",
              "    [theme=dark] .colab-df-convert {\n",
              "      background-color: #3B4455;\n",
              "      fill: #D2E3FC;\n",
              "    }\n",
              "\n",
              "    [theme=dark] .colab-df-convert:hover {\n",
              "      background-color: #434B5C;\n",
              "      box-shadow: 0px 1px 3px 1px rgba(0, 0, 0, 0.15);\n",
              "      filter: drop-shadow(0px 1px 2px rgba(0, 0, 0, 0.3));\n",
              "      fill: #FFFFFF;\n",
              "    }\n",
              "  </style>\n",
              "\n",
              "      <script>\n",
              "        const buttonEl =\n",
              "          document.querySelector('#df-3e3e8d4d-97e5-4e10-8e68-41c22f953880 button.colab-df-convert');\n",
              "        buttonEl.style.display =\n",
              "          google.colab.kernel.accessAllowed ? 'block' : 'none';\n",
              "\n",
              "        async function convertToInteractive(key) {\n",
              "          const element = document.querySelector('#df-3e3e8d4d-97e5-4e10-8e68-41c22f953880');\n",
              "          const dataTable =\n",
              "            await google.colab.kernel.invokeFunction('convertToInteractive',\n",
              "                                                     [key], {});\n",
              "          if (!dataTable) return;\n",
              "\n",
              "          const docLinkHtml = 'Like what you see? Visit the ' +\n",
              "            '<a target=\"_blank\" href=https://colab.research.google.com/notebooks/data_table.ipynb>data table notebook</a>'\n",
              "            + ' to learn more about interactive tables.';\n",
              "          element.innerHTML = '';\n",
              "          dataTable['output_type'] = 'display_data';\n",
              "          await google.colab.output.renderOutput(dataTable, element);\n",
              "          const docLink = document.createElement('div');\n",
              "          docLink.innerHTML = docLinkHtml;\n",
              "          element.appendChild(docLink);\n",
              "        }\n",
              "      </script>\n",
              "    </div>\n",
              "  </div>\n",
              "  "
            ]
          },
          "metadata": {},
          "execution_count": 42
        }
      ]
    },
    {
      "cell_type": "code",
      "source": [
        "df2.notnull().sum()"
      ],
      "metadata": {
        "colab": {
          "base_uri": "https://localhost:8080/"
        },
        "id": "Gaeqqkwx6cao",
        "outputId": "4da474e4-34dd-40a0-e3b9-1b5af819659e"
      },
      "execution_count": 43,
      "outputs": [
        {
          "output_type": "execute_result",
          "data": {
            "text/plain": [
              "SEX      1481324\n",
              "BTH_G    1481324\n",
              "SBP      1481324\n",
              "DBP      1481324\n",
              "FBS      1481324\n",
              "BMI      1481324\n",
              "Dis      1481324\n",
              "dtype: int64"
            ]
          },
          "metadata": {},
          "execution_count": 43
        }
      ]
    },
    {
      "cell_type": "code",
      "source": [
        "df2.info()"
      ],
      "metadata": {
        "colab": {
          "base_uri": "https://localhost:8080/"
        },
        "id": "0Ku1_D866cX9",
        "outputId": "a9d31e30-0cd0-4128-c8e3-4beeb681100a"
      },
      "execution_count": 44,
      "outputs": [
        {
          "output_type": "stream",
          "name": "stdout",
          "text": [
            "<class 'pandas.core.frame.DataFrame'>\n",
            "RangeIndex: 1481324 entries, 0 to 1481323\n",
            "Data columns (total 7 columns):\n",
            " #   Column  Non-Null Count    Dtype  \n",
            "---  ------  --------------    -----  \n",
            " 0   SEX     1481324 non-null  int64  \n",
            " 1   BTH_G   1481324 non-null  int64  \n",
            " 2   SBP     1481324 non-null  int64  \n",
            " 3   DBP     1481324 non-null  int64  \n",
            " 4   FBS     1481324 non-null  int64  \n",
            " 5   BMI     1481324 non-null  float64\n",
            " 6   Dis     1481324 non-null  int64  \n",
            "dtypes: float64(1), int64(6)\n",
            "memory usage: 79.1 MB\n"
          ]
        }
      ]
    },
    {
      "cell_type": "code",
      "source": [
        "colormap = plt.cm.viridis # pearson 상관 계수 확인 ---> heatmap\n",
        "plt.figure(figsize=(15,15))\n",
        "plt.title(\"Pearson Corrrelation of features\")\n",
        "sns.heatmap(df2.corr(), cmap=colormap, annot=True, linewidths=0.1, vmax=1.0, \n",
        "            square=True, linecolor='white')"
      ],
      "metadata": {
        "colab": {
          "base_uri": "https://localhost:8080/",
          "height": 869
        },
        "id": "N2UMEoen6cVZ",
        "outputId": "e6d58ead-83ad-4362-b468-0696ba18ad48"
      },
      "execution_count": 45,
      "outputs": [
        {
          "output_type": "execute_result",
          "data": {
            "text/plain": [
              "<matplotlib.axes._subplots.AxesSubplot at 0x7fd02eb14b10>"
            ]
          },
          "metadata": {},
          "execution_count": 45
        },
        {
          "output_type": "display_data",
          "data": {
            "text/plain": [
              "<Figure size 1080x1080 with 2 Axes>"
            ],
            "image/png": "[encoded data removed]"
          },
          "metadata": {
            "needs_background": "light"
          }
        }
      ]
    },
    {
      "cell_type": "code",
      "source": [
        "# Over sampling data\n",
        "# split data\n",
        "\n",
        "from sklearn.model_selection import train_test_split\n",
        "\n",
        "# 전체 데이터 split\n",
        "X_up_train, X_up_test, y_up_train, y_up_test = train_test_split(df2.loc[:, df2.columns != 'Dis'],df2['Dis'],  stratify=df2['Dis'], shuffle=True, test_size=0.9, random_state=11)\n",
        "\n",
        "X_up_test,X_up_val,y_up_test,y_up_val=train_test_split(X_up_test,y_up_test,test_size=0.88, shuffle=True) # validation은 사용하지 않음\n",
        "\n",
        "\n",
        "print(X_up_train.shape)\n",
        "print(y_up_train.shape)\n",
        "print(X_up_val.shape) # validation set은 사용하지 않음\n",
        "print(y_up_val.shape) # 역시\n",
        "print(X_up_test.shape)\n",
        "print(y_up_test.shape)"
      ],
      "metadata": {
        "colab": {
          "base_uri": "https://localhost:8080/"
        },
        "id": "WYtd2Bk76cS6",
        "outputId": "42b6ed8f-6229-442e-8cba-c4831b675744"
      },
      "execution_count": 46,
      "outputs": [
        {
          "output_type": "stream",
          "name": "stdout",
          "text": [
            "(148132, 6)\n",
            "(148132,)\n",
            "(1173209, 6)\n",
            "(1173209,)\n",
            "(159983, 6)\n",
            "(159983,)\n"
          ]
        }
      ]
    },
    {
      "cell_type": "code",
      "source": [
        "from sklearn.linear_model import LogisticRegression # 로지스틱 회귀\n",
        "\n",
        "LR = LogisticRegression() # 로지스틱 회귀 분석\n",
        "LR.fit(X_up_train,y_up_train)\n",
        "\n",
        "print(\"train score : {}\".format(LR.score(X_up_train, y_up_train)))\n",
        "\n",
        "predict_y = LR.predict(X_up_test)\n",
        "\n",
        "from sklearn.metrics import classification_report\n",
        "print(classification_report(y_up_test, LR.predict(X_up_test)))\n",
        "print(\"test score : {}\".format(LR.score(X_up_test, y_up_test)))"
      ],
      "metadata": {
        "colab": {
          "base_uri": "https://localhost:8080/"
        },
        "id": "Y9ClcHCh6cP5",
        "outputId": "6d282201-44e1-4ffb-d651-abbe5ed9fcd4"
      },
      "execution_count": 47,
      "outputs": [
        {
          "output_type": "stream",
          "name": "stdout",
          "text": [
            "train score : 0.7903694002646289\n",
            "              precision    recall  f1-score   support\n",
            "\n",
            "           0       0.79      0.78      0.79     79720\n",
            "           1       0.78      0.80      0.79     80263\n",
            "\n",
            "    accuracy                           0.79    159983\n",
            "   macro avg       0.79      0.79      0.79    159983\n",
            "weighted avg       0.79      0.79      0.79    159983\n",
            "\n",
            "test score : 0.7896213972734603\n"
          ]
        }
      ]
    },
    {
      "cell_type": "markdown",
      "source": [
        "## 전체 데이터"
      ],
      "metadata": {
        "id": "znlojxWb_W8z"
      }
    },
    {
      "cell_type": "code",
      "source": [
        "# split data\n",
        "\n",
        "from sklearn.model_selection import train_test_split\n",
        "\n",
        "# 전체 데이터 split\n",
        "X_train, X_test, y_train, y_test = train_test_split(df.loc[:, df.columns != 'Dis'],df['Dis'],  stratify=df['Dis'], shuffle=True, test_size=0.2, random_state=11)\n",
        "\n",
        "print(X_train.shape)\n",
        "print(y_train.shape)\n",
        "# print(X_val.shape) # validation set은 사용하지 않음\n",
        "# print(y_val.shape) # 역시\n",
        "print(X_test.shape)\n",
        "print(y_test.shape)"
      ],
      "metadata": {
        "colab": {
          "base_uri": "https://localhost:8080/"
        },
        "id": "C7BQtMv9-m9W",
        "outputId": "e352ec8b-c987-4dfb-f858-df1f868227e2"
      },
      "execution_count": 48,
      "outputs": [
        {
          "output_type": "stream",
          "name": "stdout",
          "text": [
            "(800000, 6)\n",
            "(800000,)\n",
            "(200000, 6)\n",
            "(200000,)\n"
          ]
        }
      ]
    },
    {
      "cell_type": "code",
      "source": [
        "from sklearn.linear_model import LogisticRegression # 로지스틱 회귀\n",
        "\n",
        "LR = LogisticRegression() # 로지스틱 회귀 분석\n",
        "LR.fit(X_up_train,y_up_train)\n",
        "\n",
        "print(\"train score : {}\".format(LR.score(X_up_train, y_up_train)))\n",
        "\n",
        "predict_y = LR.predict(X_up_test)\n",
        "\n",
        "from sklearn.metrics import classification_report\n",
        "print(classification_report(y_up_test, LR.predict(X_up_test)))\n",
        "print(\"test score : {}\".format(LR.score(X_up_test, y_up_test)))"
      ],
      "metadata": {
        "colab": {
          "base_uri": "https://localhost:8080/"
        },
        "id": "F_yIKIyo-m5q",
        "outputId": "540f77d0-a2a5-4c03-b0c2-a5025eb3f687"
      },
      "execution_count": 49,
      "outputs": [
        {
          "output_type": "stream",
          "name": "stdout",
          "text": [
            "train score : 0.7903694002646289\n",
            "              precision    recall  f1-score   support\n",
            "\n",
            "           0       0.79      0.78      0.79     79720\n",
            "           1       0.78      0.80      0.79     80263\n",
            "\n",
            "    accuracy                           0.79    159983\n",
            "   macro avg       0.79      0.79      0.79    159983\n",
            "weighted avg       0.79      0.79      0.79    159983\n",
            "\n",
            "test score : 0.7896213972734603\n"
          ]
        }
      ]
    },
    {
      "cell_type": "markdown",
      "source": [
        "## 전체 Upsampling 데이터 "
      ],
      "metadata": {
        "id": "P1NZWaFr_s-B"
      }
    },
    {
      "cell_type": "code",
      "source": [
        "# Over sampling data\n",
        "# split data\n",
        "\n",
        "from sklearn.model_selection import train_test_split\n",
        "\n",
        "# 전체 데이터 split\n",
        "X_up_train, X_up_test, y_up_train, y_up_test = train_test_split(df2.loc[:, df2.columns != 'Dis'],df2['Dis'],  stratify=df2['Dis'], shuffle=True, test_size=0.2, random_state=11)\n",
        "\n",
        "# X_up_test,X_up_val,y_up_test,y_up_val=train_test_split(X_up_test,y_up_test,test_size=0.88, shuffle=True) # validation은 사용하지 않음\n",
        "\n",
        "\n",
        "print(X_up_train.shape)\n",
        "print(y_up_train.shape)\n",
        "# print(X_up_val.shape) # validation set은 사용하지 않음\n",
        "# print(y_up_val.shape) # 역시\n",
        "print(X_up_test.shape)\n",
        "print(y_up_test.shape)"
      ],
      "metadata": {
        "colab": {
          "base_uri": "https://localhost:8080/"
        },
        "id": "-UQ9QZi1-m24",
        "outputId": "8844ddba-bd20-449b-e8e5-b20dfe1a733d"
      },
      "execution_count": 51,
      "outputs": [
        {
          "output_type": "stream",
          "name": "stdout",
          "text": [
            "(1185059, 6)\n",
            "(1185059,)\n",
            "(296265, 6)\n",
            "(296265,)\n"
          ]
        }
      ]
    },
    {
      "cell_type": "code",
      "source": [
        "from sklearn.linear_model import LogisticRegression # 로지스틱 회귀\n",
        "\n",
        "LR = LogisticRegression() # 로지스틱 회귀 분석\n",
        "LR.fit(X_up_train,y_up_train)\n",
        "\n",
        "print(\"train score : {}\".format(LR.score(X_up_train, y_up_train)))\n",
        "\n",
        "predict_y = LR.predict(X_up_test)\n",
        "\n",
        "from sklearn.metrics import classification_report\n",
        "print(classification_report(y_up_test, LR.predict(X_up_test)))\n",
        "print(\"test score : {}\".format(LR.score(X_up_test, y_up_test)))"
      ],
      "metadata": {
        "colab": {
          "base_uri": "https://localhost:8080/"
        },
        "id": "FZeMTSbj-mz3",
        "outputId": "49dbf9d8-5423-479f-da51-90d7029d8a3e"
      },
      "execution_count": 52,
      "outputs": [
        {
          "output_type": "stream",
          "name": "stdout",
          "text": [
            "train score : 0.789912569753911\n",
            "              precision    recall  f1-score   support\n",
            "\n",
            "           0       0.80      0.78      0.79    148132\n",
            "           1       0.78      0.80      0.79    148133\n",
            "\n",
            "    accuracy                           0.79    296265\n",
            "   macro avg       0.79      0.79      0.79    296265\n",
            "weighted avg       0.79      0.79      0.79    296265\n",
            "\n",
            "test score : 0.7895330194251767\n"
          ]
        }
      ]
    },
    {
      "cell_type": "code",
      "source": [
        ""
      ],
      "metadata": {
        "id": "A24pE1Ll-0sN"
      },
      "execution_count": null,
      "outputs": []
    },
    {
      "cell_type": "code",
      "source": [
        ""
      ],
      "metadata": {
        "id": "NQbphsEB-0pp"
      },
      "execution_count": null,
      "outputs": []
    },
    {
      "cell_type": "code",
      "source": [
        ""
      ],
      "metadata": {
        "id": "vzDUR3FW-0nK"
      },
      "execution_count": null,
      "outputs": []
    },
    {
      "cell_type": "code",
      "source": [
        ""
      ],
      "metadata": {
        "id": "gjKkRE4I-0kj"
      },
      "execution_count": null,
      "outputs": []
    },
    {
      "cell_type": "code",
      "source": [
        ""
      ],
      "metadata": {
        "id": "0KX9npWo-0h_"
      },
      "execution_count": null,
      "outputs": []
    },
    {
      "cell_type": "code",
      "source": [
        ""
      ],
      "metadata": {
        "id": "TuR1wST0AEjl"
      },
      "execution_count": null,
      "outputs": []
    }
  ]
}