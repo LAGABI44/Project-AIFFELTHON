{
  "nbformat": 4,
  "nbformat_minor": 0,
  "metadata": {
    "colab": {
      "name": "220524_joblib 사용.ipynb",
      "provenance": [],
      "collapsed_sections": []
    },
    "kernelspec": {
      "name": "python3",
      "display_name": "Python 3"
    },
    "language_info": {
      "name": "python"
    }
  },
  "cells": [
    {
      "cell_type": "code",
      "execution_count": 23,
      "metadata": {
        "id": "ohjEF9XuxlZP"
      },
      "outputs": [],
      "source": [
        "import numpy as np \n",
        "import pandas as pd # 시리즈, 데이터프레임 포맷 데이터 처리를 위한 라이브러리\n",
        "import warnings; warnings.filterwarnings(action='ignore') # 경고 메시지 무시\n",
        "import matplotlib.pyplot as plt # 데이터 시각화 라이브러리\n",
        "import pickle # 객체 입출력을 위한 라이브러리\n",
        "\n",
        "from sklearn.model_selection import train_test_split # 훈련 데이터, 테스트 데이터 분리\n",
        "from sklearn.preprocessing import StandardScaler # 정규화\n",
        "\n",
        "\n",
        "# xgboost\n",
        "import xgboost as xgb\n",
        "\n",
        "from pandas.core.common import random_state\n",
        "from sklearn.ensemble import RandomForestClassifier # 랜덤포레스트 분류 알고리즘\n",
        "from sklearn.tree import DecisionTreeClassifier # 의사결정나무 분류 알고리즘\n",
        "\n",
        "import matplotlib.pyplot as plt\n",
        "import seaborn as sns\n",
        "\n",
        "# 모델 평가를 위한 metrics\n",
        "from sklearn.metrics import accuracy_score, precision_score, recall_score, f1_score, plot_confusion_matrix\n",
        "from sklearn.preprocessing import MinMaxScaler\n",
        "from sklearn.metrics import confusion_matrix\n",
        "from sklearn.metrics import classification_report"
      ]
    },
    {
      "cell_type": "code",
      "source": [
        "from google.colab import drive\n",
        "drive.mount('/content/drive')"
      ],
      "metadata": {
        "colab": {
          "base_uri": "https://localhost:8080/"
        },
        "id": "h8jQMhwwxpbY",
        "outputId": "e807add5-741b-49bf-8742-9a0cd2ebe9ce"
      },
      "execution_count": 24,
      "outputs": [
        {
          "output_type": "stream",
          "name": "stdout",
          "text": [
            "Drive already mounted at /content/drive; to attempt to forcibly remount, call drive.mount(\"/content/drive\", force_remount=True).\n"
          ]
        }
      ]
    },
    {
      "cell_type": "code",
      "source": [
        "# Disease \n",
        "\n",
        "df2 = pd.read_csv('/content/drive/MyDrive/Colab_Notebooks/aiffel_data/Hackerton_2/data_over_sampling.csv', encoding='cp949') # upsampling 안된 것!\n",
        "df2"
      ],
      "metadata": {
        "colab": {
          "base_uri": "https://localhost:8080/",
          "height": 424
        },
        "id": "GDNSEDvyxqsf",
        "outputId": "a01c3d13-511b-4670-c579-d5913f58efb5"
      },
      "execution_count": 25,
      "outputs": [
        {
          "output_type": "execute_result",
          "data": {
            "text/plain": [
              "         SEX  BTH_G  SBP  DBP  FBS   BMI  Dis\n",
              "0          1      1  116   78   94  16.6    0\n",
              "1          1      1  100   60   79  22.3    0\n",
              "2          1      1  100   60   87  21.9    0\n",
              "3          1      1  111   70   72  20.2    0\n",
              "4          1      1  120   80   98  20.0    0\n",
              "...      ...    ...  ...  ...  ...   ...  ...\n",
              "1481319    0     25  120   80   78  27.9    1\n",
              "1481320    0     27  150   74  133  32.0    1\n",
              "1481321    1     25  120   70  118  26.9    1\n",
              "1481322    0     20  136   68   93  21.5    1\n",
              "1481323    1     19  125   84  130  24.8    1\n",
              "\n",
              "[1481324 rows x 7 columns]"
            ],
            "text/html": [
              "\n",
              "  <div id=\"df-1146d67d-cf7c-4675-a44f-155255611ae1\">\n",
              "    <div class=\"colab-df-container\">\n",
              "      <div>\n",
              "<style scoped>\n",
              "    .dataframe tbody tr th:only-of-type {\n",
              "        vertical-align: middle;\n",
              "    }\n",
              "\n",
              "    .dataframe tbody tr th {\n",
              "        vertical-align: top;\n",
              "    }\n",
              "\n",
              "    .dataframe thead th {\n",
              "        text-align: right;\n",
              "    }\n",
              "</style>\n",
              "<table border=\"1\" class=\"dataframe\">\n",
              "  <thead>\n",
              "    <tr style=\"text-align: right;\">\n",
              "      <th></th>\n",
              "      <th>SEX</th>\n",
              "      <th>BTH_G</th>\n",
              "      <th>SBP</th>\n",
              "      <th>DBP</th>\n",
              "      <th>FBS</th>\n",
              "      <th>BMI</th>\n",
              "      <th>Dis</th>\n",
              "    </tr>\n",
              "  </thead>\n",
              "  <tbody>\n",
              "    <tr>\n",
              "      <th>0</th>\n",
              "      <td>1</td>\n",
              "      <td>1</td>\n",
              "      <td>116</td>\n",
              "      <td>78</td>\n",
              "      <td>94</td>\n",
              "      <td>16.6</td>\n",
              "      <td>0</td>\n",
              "    </tr>\n",
              "    <tr>\n",
              "      <th>1</th>\n",
              "      <td>1</td>\n",
              "      <td>1</td>\n",
              "      <td>100</td>\n",
              "      <td>60</td>\n",
              "      <td>79</td>\n",
              "      <td>22.3</td>\n",
              "      <td>0</td>\n",
              "    </tr>\n",
              "    <tr>\n",
              "      <th>2</th>\n",
              "      <td>1</td>\n",
              "      <td>1</td>\n",
              "      <td>100</td>\n",
              "      <td>60</td>\n",
              "      <td>87</td>\n",
              "      <td>21.9</td>\n",
              "      <td>0</td>\n",
              "    </tr>\n",
              "    <tr>\n",
              "      <th>3</th>\n",
              "      <td>1</td>\n",
              "      <td>1</td>\n",
              "      <td>111</td>\n",
              "      <td>70</td>\n",
              "      <td>72</td>\n",
              "      <td>20.2</td>\n",
              "      <td>0</td>\n",
              "    </tr>\n",
              "    <tr>\n",
              "      <th>4</th>\n",
              "      <td>1</td>\n",
              "      <td>1</td>\n",
              "      <td>120</td>\n",
              "      <td>80</td>\n",
              "      <td>98</td>\n",
              "      <td>20.0</td>\n",
              "      <td>0</td>\n",
              "    </tr>\n",
              "    <tr>\n",
              "      <th>...</th>\n",
              "      <td>...</td>\n",
              "      <td>...</td>\n",
              "      <td>...</td>\n",
              "      <td>...</td>\n",
              "      <td>...</td>\n",
              "      <td>...</td>\n",
              "      <td>...</td>\n",
              "    </tr>\n",
              "    <tr>\n",
              "      <th>1481319</th>\n",
              "      <td>0</td>\n",
              "      <td>25</td>\n",
              "      <td>120</td>\n",
              "      <td>80</td>\n",
              "      <td>78</td>\n",
              "      <td>27.9</td>\n",
              "      <td>1</td>\n",
              "    </tr>\n",
              "    <tr>\n",
              "      <th>1481320</th>\n",
              "      <td>0</td>\n",
              "      <td>27</td>\n",
              "      <td>150</td>\n",
              "      <td>74</td>\n",
              "      <td>133</td>\n",
              "      <td>32.0</td>\n",
              "      <td>1</td>\n",
              "    </tr>\n",
              "    <tr>\n",
              "      <th>1481321</th>\n",
              "      <td>1</td>\n",
              "      <td>25</td>\n",
              "      <td>120</td>\n",
              "      <td>70</td>\n",
              "      <td>118</td>\n",
              "      <td>26.9</td>\n",
              "      <td>1</td>\n",
              "    </tr>\n",
              "    <tr>\n",
              "      <th>1481322</th>\n",
              "      <td>0</td>\n",
              "      <td>20</td>\n",
              "      <td>136</td>\n",
              "      <td>68</td>\n",
              "      <td>93</td>\n",
              "      <td>21.5</td>\n",
              "      <td>1</td>\n",
              "    </tr>\n",
              "    <tr>\n",
              "      <th>1481323</th>\n",
              "      <td>1</td>\n",
              "      <td>19</td>\n",
              "      <td>125</td>\n",
              "      <td>84</td>\n",
              "      <td>130</td>\n",
              "      <td>24.8</td>\n",
              "      <td>1</td>\n",
              "    </tr>\n",
              "  </tbody>\n",
              "</table>\n",
              "<p>1481324 rows × 7 columns</p>\n",
              "</div>\n",
              "      <button class=\"colab-df-convert\" onclick=\"convertToInteractive('df-1146d67d-cf7c-4675-a44f-155255611ae1')\"\n",
              "              title=\"Convert this dataframe to an interactive table.\"\n",
              "              style=\"display:none;\">\n",
              "        \n",
              "  <svg xmlns=\"http://www.w3.org/2000/svg\" height=\"24px\"viewBox=\"0 0 24 24\"\n",
              "       width=\"24px\">\n",
              "    <path d=\"M0 0h24v24H0V0z\" fill=\"none\"/>\n",
              "    <path d=\"M18.56 5.44l.94 2.06.94-2.06 2.06-.94-2.06-.94-.94-2.06-.94 2.06-2.06.94zm-11 1L8.5 8.5l.94-2.06 2.06-.94-2.06-.94L8.5 2.5l-.94 2.06-2.06.94zm10 10l.94 2.06.94-2.06 2.06-.94-2.06-.94-.94-2.06-.94 2.06-2.06.94z\"/><path d=\"M17.41 7.96l-1.37-1.37c-.4-.4-.92-.59-1.43-.59-.52 0-1.04.2-1.43.59L10.3 9.45l-7.72 7.72c-.78.78-.78 2.05 0 2.83L4 21.41c.39.39.9.59 1.41.59.51 0 1.02-.2 1.41-.59l7.78-7.78 2.81-2.81c.8-.78.8-2.07 0-2.86zM5.41 20L4 18.59l7.72-7.72 1.47 1.35L5.41 20z\"/>\n",
              "  </svg>\n",
              "      </button>\n",
              "      \n",
              "  <style>\n",
              "    .colab-df-container {\n",
              "      display:flex;\n",
              "      flex-wrap:wrap;\n",
              "      gap: 12px;\n",
              "    }\n",
              "\n",
              "    .colab-df-convert {\n",
              "      background-color: #E8F0FE;\n",
              "      border: none;\n",
              "      border-radius: 50%;\n",
              "      cursor: pointer;\n",
              "      display: none;\n",
              "      fill: #1967D2;\n",
              "      height: 32px;\n",
              "      padding: 0 0 0 0;\n",
              "      width: 32px;\n",
              "    }\n",
              "\n",
              "    .colab-df-convert:hover {\n",
              "      background-color: #E2EBFA;\n",
              "      box-shadow: 0px 1px 2px rgba(60, 64, 67, 0.3), 0px 1px 3px 1px rgba(60, 64, 67, 0.15);\n",
              "      fill: #174EA6;\n",
              "    }\n",
              "\n",
              "    [theme=dark] .colab-df-convert {\n",
              "      background-color: #3B4455;\n",
              "      fill: #D2E3FC;\n",
              "    }\n",
              "\n",
              "    [theme=dark] .colab-df-convert:hover {\n",
              "      background-color: #434B5C;\n",
              "      box-shadow: 0px 1px 3px 1px rgba(0, 0, 0, 0.15);\n",
              "      filter: drop-shadow(0px 1px 2px rgba(0, 0, 0, 0.3));\n",
              "      fill: #FFFFFF;\n",
              "    }\n",
              "  </style>\n",
              "\n",
              "      <script>\n",
              "        const buttonEl =\n",
              "          document.querySelector('#df-1146d67d-cf7c-4675-a44f-155255611ae1 button.colab-df-convert');\n",
              "        buttonEl.style.display =\n",
              "          google.colab.kernel.accessAllowed ? 'block' : 'none';\n",
              "\n",
              "        async function convertToInteractive(key) {\n",
              "          const element = document.querySelector('#df-1146d67d-cf7c-4675-a44f-155255611ae1');\n",
              "          const dataTable =\n",
              "            await google.colab.kernel.invokeFunction('convertToInteractive',\n",
              "                                                     [key], {});\n",
              "          if (!dataTable) return;\n",
              "\n",
              "          const docLinkHtml = 'Like what you see? Visit the ' +\n",
              "            '<a target=\"_blank\" href=https://colab.research.google.com/notebooks/data_table.ipynb>data table notebook</a>'\n",
              "            + ' to learn more about interactive tables.';\n",
              "          element.innerHTML = '';\n",
              "          dataTable['output_type'] = 'display_data';\n",
              "          await google.colab.output.renderOutput(dataTable, element);\n",
              "          const docLink = document.createElement('div');\n",
              "          docLink.innerHTML = docLinkHtml;\n",
              "          element.appendChild(docLink);\n",
              "        }\n",
              "      </script>\n",
              "    </div>\n",
              "  </div>\n",
              "  "
            ]
          },
          "metadata": {},
          "execution_count": 25
        }
      ]
    },
    {
      "cell_type": "code",
      "source": [
        "# xgboost\n",
        "import xgboost as xgb\n",
        "\n",
        "\n",
        "# feature와 target 분리(설명변수 및 목표변수 분리)\n",
        "x = df2.drop(['Dis'], axis=1) # df[df.columns.difference(['target'])]\n",
        "y = np.array(df2['Dis']) # y = df['target']\n",
        "\n",
        "# # 설명변수 데이터 스케일링\n",
        "# x_train = scaler.fit_transform(x) # x_scaled = scaler.fit_transform(x)\n",
        "# 전체 데이터에서 학습데이터셋과 테스트셋을 나눔 # 1:1 (5:5) \n",
        "\n",
        "x_up_train,x_up_test,y_up_train,y_up_test=train_test_split(x,y,test_size=0.9, random_state = 42) # 기본 0.25\n",
        "x_up_train,x_up_val,y_up_train,y_up_val=train_test_split(x,y,test_size=0.5, random_state = 42) # val 나누기\n",
        "\n",
        "# x,y,test_size=0.2, shuffle=True\n",
        "\n",
        "\n",
        "\n",
        "\n",
        "# train과 test데이터의 비율을 6:4로 나누어주고\n",
        "# 0.4비율이 된 test데이터를 다시 각 0.5 비율로 validation과 test를 나누어 줌\n",
        "# 최종 결과가 train : test : validation = 6 : 2 : 2 비율\n",
        "\n",
        "# # train set에서 train과 validation set를 나눔 # x,y,test_size=0.4\n",
        "# x_test,x_val,y_test,y_val=train_test_split(x_test,y_test,test_size=0.5, shuffle=True)\n",
        "\n",
        "print(x_up_train.shape)\n",
        "print(y_up_train.shape)\n",
        "print(x_up_val.shape)\n",
        "print(y_up_val.shape)\n",
        "print(x_up_test.shape)\n",
        "print(y_up_test.shape)"
      ],
      "metadata": {
        "id": "fCrnp_c9x3Fo",
        "colab": {
          "base_uri": "https://localhost:8080/"
        },
        "outputId": "72464d6e-38b4-4983-f541-f8356249fc33"
      },
      "execution_count": 26,
      "outputs": [
        {
          "output_type": "stream",
          "name": "stdout",
          "text": [
            "(740662, 6)\n",
            "(740662,)\n",
            "(740662, 6)\n",
            "(740662,)\n",
            "(1333192, 6)\n",
            "(1333192,)\n"
          ]
        }
      ]
    },
    {
      "cell_type": "code",
      "source": [
        "# xgboost\n",
        "import xgboost as xgb\n",
        "\n",
        "\n",
        "\n",
        "# feature와 target 분리(설명변수 및 목표변수 분리)\n",
        "x = df2.drop(['Dis'], axis=1) # df[df.columns.difference(['target'])]\n",
        "y = np.array(df2['Dis']) # y = df['target']\n",
        "\n",
        "# # 설명변수 데이터 스케일링\n",
        "# x_train = scaler.fit_transform(x) # x_scaled = scaler.fit_transform(x)\n",
        "# 전체 데이터에서 학습데이터셋과 테스트셋을 나눔 # 1:1 (5:5) \n",
        "\n",
        "# Feature Scaling\n",
        "from sklearn.preprocessing import StandardScaler\n",
        "sc = StandardScaler()\n",
        "x_up_train = sc.fit_transform(x_up_train)\n",
        "x_up_test = sc.transform(x_up_test)\n",
        "\n",
        "x_up_train,x_up_test,y_up_train,y_up_test=train_test_split(x,y,test_size=0.2, random_state = 42) # 기본 0.25\n",
        "x_up_train,x_up_val,y_up_train,y_up_val=train_test_split(x,y,test_size=0.1, random_state = 42) # val 나누기\n",
        "\n",
        "# x,y,test_size=0.2, shuffle=True\n",
        "\n",
        "# train과 test데이터의 비율을 6:4로 나누어주고\n",
        "# 0.4비율이 된 test데이터를 다시 각 0.5 비율로 validation과 test를 나누어 줌\n",
        "# 최종 결과가 train : test : validation = 6 : 2 : 2 비율\n",
        "\n",
        "# # train set에서 train과 validation set를 나눔 # x,y,test_size=0.4\n",
        "# x_test,x_val,y_test,y_val=train_test_split(x_test,y_test,test_size=0.5, shuffle=True)\n",
        "\n",
        "print(x_up_train.shape)\n",
        "print(y_up_train.shape)\n",
        "print(x_up_val.shape)\n",
        "print(y_up_val.shape)\n",
        "print(x_up_test.shape)\n",
        "print(y_up_test.shape)"
      ],
      "metadata": {
        "colab": {
          "base_uri": "https://localhost:8080/"
        },
        "id": "gFn8kK5ndC-6",
        "outputId": "c46c9c13-22cd-4e72-c387-7a7ee282ab81"
      },
      "execution_count": 27,
      "outputs": [
        {
          "output_type": "stream",
          "name": "stdout",
          "text": [
            "(1333191, 6)\n",
            "(1333191,)\n",
            "(148133, 6)\n",
            "(148133,)\n",
            "(296265, 6)\n",
            "(296265,)\n"
          ]
        }
      ]
    },
    {
      "cell_type": "code",
      "source": [
        "xgb_c = xgb.XGBClassifier(n_estimators=300,learning_rate = 0.1,max_depth = 3).fit(x_up_train,y_up_train)\n",
        "print(\"train score : {}\".format(xgb_c.score(x_up_train, y_up_train)))\n",
        "# print(\"val score : {}\".format(lgb.score(x_val, y_val)))\n",
        "\n",
        "#print(\"test score : {}\".format(lgb.score(x_test,y_test)))\n",
        "predict_y = xgb_c.predict(x_up_test)\n",
        "\n",
        "from sklearn.metrics import classification_report\n",
        "print(classification_report(y_up_test, xgb_c.predict(x_up_test)))\n",
        "print(\"test score : {}\".format(xgb_c.score(x_up_test, y_up_test)))"
      ],
      "metadata": {
        "colab": {
          "base_uri": "https://localhost:8080/"
        },
        "id": "fx0XbWuQutB1",
        "outputId": "569959b8-430d-42eb-846c-acfb389c3c11"
      },
      "execution_count": 28,
      "outputs": [
        {
          "output_type": "stream",
          "name": "stdout",
          "text": [
            "train score : 0.7963900146340622\n",
            "              precision    recall  f1-score   support\n",
            "\n",
            "           0       0.82      0.76      0.79    147712\n",
            "           1       0.78      0.83      0.80    148553\n",
            "\n",
            "    accuracy                           0.79    296265\n",
            "   macro avg       0.80      0.79      0.79    296265\n",
            "weighted avg       0.80      0.79      0.79    296265\n",
            "\n",
            "test score : 0.7948762087995545\n"
          ]
        }
      ]
    },
    {
      "cell_type": "code",
      "source": [
        "import joblib\n",
        "\n",
        "# 입력 데이터와 타깃을 준비합니다.\n",
        "x = df2.drop(['Dis'], axis=1) # df[df.columns.difference(['target'])]\n",
        "y = np.array(df2['Dis']) # y = df['target']\n",
        "\n",
        "# K 최근접 이웃 모델에 입력 데이터와 타깃을 입력하고 학습시킨다.\n",
        "xgb_c.fit(x,y)\n",
        "\n",
        "# 학습시킨 모델을 현재 경로에 knn_model.pkl 파일로 저장합니다.\n",
        "joblib.dump(xgb_c, './xgb_model.pkl')"
      ],
      "metadata": {
        "colab": {
          "base_uri": "https://localhost:8080/"
        },
        "id": "riC3GUxtsUui",
        "outputId": "18f2ef19-6105-4a19-840b-86e4265f6b2d"
      },
      "execution_count": 29,
      "outputs": [
        {
          "output_type": "execute_result",
          "data": {
            "text/plain": [
              "['./xgb_model.pkl']"
            ]
          },
          "metadata": {},
          "execution_count": 29
        }
      ]
    },
    {
      "cell_type": "code",
      "source": [
        "import joblib\n",
        "\n",
        "loaded_model = joblib.load('./knn_model.pkl')\n",
        "\n",
        "score = loaded_model.score(x,y)\n",
        "print('정확도: {score:.3f}'.format(score=score))"
      ],
      "metadata": {
        "colab": {
          "base_uri": "https://localhost:8080/"
        },
        "id": "XA8x72et146o",
        "outputId": "7195dabb-083e-4731-ebc7-36b1273e5185"
      },
      "execution_count": 31,
      "outputs": [
        {
          "output_type": "stream",
          "name": "stdout",
          "text": [
            "정확도: 0.796\n"
          ]
        }
      ]
    }
  ]
}