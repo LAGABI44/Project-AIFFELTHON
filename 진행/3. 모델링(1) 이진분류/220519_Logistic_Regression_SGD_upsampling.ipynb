{
  "nbformat": 4,
  "nbformat_minor": 0,
  "metadata": {
    "colab": {
      "name": "220519_Logistic_Regression_SGD_upsampling.ipynb",
      "provenance": [],
      "collapsed_sections": []
    },
    "kernelspec": {
      "name": "python3",
      "display_name": "Python 3"
    },
    "language_info": {
      "name": "python"
    }
  },
  "cells": [
    {
      "cell_type": "code",
      "execution_count": 1,
      "metadata": {
        "id": "fs-ZWJnV6-7T"
      },
      "outputs": [],
      "source": [
        "%matplotlib inline\n",
        "import missingno as msno\n",
        "import numpy as np\n",
        "import pandas as pd\n",
        "import matplotlib.pyplot as plt\n",
        "import seaborn as sns\n",
        "from sklearn.model_selection import train_test_split\n",
        "from sklearn import svm\n",
        "from sklearn import metrics\n",
        "from sklearn.svm import SVC \n",
        "from sklearn.metrics import classification_report, confusion_matrix"
      ]
    },
    {
      "cell_type": "code",
      "source": [
        "from google.colab import drive # gdrive 연동\n",
        "drive.mount('/content/drive')"
      ],
      "metadata": {
        "colab": {
          "base_uri": "https://localhost:8080/"
        },
        "id": "RhPzYd_g8QZk",
        "outputId": "f9a31df8-367c-45d1-ab59-c9bb9ab8d520"
      },
      "execution_count": 2,
      "outputs": [
        {
          "output_type": "stream",
          "name": "stdout",
          "text": [
            "Mounted at /content/drive\n"
          ]
        }
      ]
    },
    {
      "cell_type": "markdown",
      "source": [
        "## 10만개 데이터"
      ],
      "metadata": {
        "id": "uwoqX2qE_dJm"
      }
    },
    {
      "cell_type": "code",
      "source": [
        "# Disease \n",
        "\n",
        "df = pd.read_csv('/content/drive/MyDrive/Colab_Notebooks/aiffel_data/Hackerton_2/data_dis_vs_nor.csv', encoding='cp949') # upsampling 안된 것!\n",
        "df"
      ],
      "metadata": {
        "colab": {
          "base_uri": "https://localhost:8080/",
          "height": 423
        },
        "id": "1n0zEHLd8QSt",
        "outputId": "d3d9bbe5-35d6-4e16-97db-3363b797f634"
      },
      "execution_count": 3,
      "outputs": [
        {
          "output_type": "execute_result",
          "data": {
            "text/plain": [
              "        SEX  BTH_G  SBP  DBP  FBS   BMI  Dis\n",
              "0         0      1  116   78   94  16.6    0\n",
              "1         0      1  100   60   79  22.3    0\n",
              "2         0      1  100   60   87  21.9    0\n",
              "3         0      1  111   70   72  20.2    0\n",
              "4         0      1  120   80   98  20.0    0\n",
              "...     ...    ...  ...  ...  ...   ...  ...\n",
              "999995    1     27  120   70   81  23.1    1\n",
              "999996    1     27  110   70  104  27.2    1\n",
              "999997    1     27  115   53  110  25.2    1\n",
              "999998    1     27  120   70   90  19.7    1\n",
              "999999    1     27  116   73   92  17.6    0\n",
              "\n",
              "[1000000 rows x 7 columns]"
            ],
            "text/html": [
              "\n",
              "  <div id=\"df-b2291c48-6eb7-4e28-8930-143457d6bb90\">\n",
              "    <div class=\"colab-df-container\">\n",
              "      <div>\n",
              "<style scoped>\n",
              "    .dataframe tbody tr th:only-of-type {\n",
              "        vertical-align: middle;\n",
              "    }\n",
              "\n",
              "    .dataframe tbody tr th {\n",
              "        vertical-align: top;\n",
              "    }\n",
              "\n",
              "    .dataframe thead th {\n",
              "        text-align: right;\n",
              "    }\n",
              "</style>\n",
              "<table border=\"1\" class=\"dataframe\">\n",
              "  <thead>\n",
              "    <tr style=\"text-align: right;\">\n",
              "      <th></th>\n",
              "      <th>SEX</th>\n",
              "      <th>BTH_G</th>\n",
              "      <th>SBP</th>\n",
              "      <th>DBP</th>\n",
              "      <th>FBS</th>\n",
              "      <th>BMI</th>\n",
              "      <th>Dis</th>\n",
              "    </tr>\n",
              "  </thead>\n",
              "  <tbody>\n",
              "    <tr>\n",
              "      <th>0</th>\n",
              "      <td>0</td>\n",
              "      <td>1</td>\n",
              "      <td>116</td>\n",
              "      <td>78</td>\n",
              "      <td>94</td>\n",
              "      <td>16.6</td>\n",
              "      <td>0</td>\n",
              "    </tr>\n",
              "    <tr>\n",
              "      <th>1</th>\n",
              "      <td>0</td>\n",
              "      <td>1</td>\n",
              "      <td>100</td>\n",
              "      <td>60</td>\n",
              "      <td>79</td>\n",
              "      <td>22.3</td>\n",
              "      <td>0</td>\n",
              "    </tr>\n",
              "    <tr>\n",
              "      <th>2</th>\n",
              "      <td>0</td>\n",
              "      <td>1</td>\n",
              "      <td>100</td>\n",
              "      <td>60</td>\n",
              "      <td>87</td>\n",
              "      <td>21.9</td>\n",
              "      <td>0</td>\n",
              "    </tr>\n",
              "    <tr>\n",
              "      <th>3</th>\n",
              "      <td>0</td>\n",
              "      <td>1</td>\n",
              "      <td>111</td>\n",
              "      <td>70</td>\n",
              "      <td>72</td>\n",
              "      <td>20.2</td>\n",
              "      <td>0</td>\n",
              "    </tr>\n",
              "    <tr>\n",
              "      <th>4</th>\n",
              "      <td>0</td>\n",
              "      <td>1</td>\n",
              "      <td>120</td>\n",
              "      <td>80</td>\n",
              "      <td>98</td>\n",
              "      <td>20.0</td>\n",
              "      <td>0</td>\n",
              "    </tr>\n",
              "    <tr>\n",
              "      <th>...</th>\n",
              "      <td>...</td>\n",
              "      <td>...</td>\n",
              "      <td>...</td>\n",
              "      <td>...</td>\n",
              "      <td>...</td>\n",
              "      <td>...</td>\n",
              "      <td>...</td>\n",
              "    </tr>\n",
              "    <tr>\n",
              "      <th>999995</th>\n",
              "      <td>1</td>\n",
              "      <td>27</td>\n",
              "      <td>120</td>\n",
              "      <td>70</td>\n",
              "      <td>81</td>\n",
              "      <td>23.1</td>\n",
              "      <td>1</td>\n",
              "    </tr>\n",
              "    <tr>\n",
              "      <th>999996</th>\n",
              "      <td>1</td>\n",
              "      <td>27</td>\n",
              "      <td>110</td>\n",
              "      <td>70</td>\n",
              "      <td>104</td>\n",
              "      <td>27.2</td>\n",
              "      <td>1</td>\n",
              "    </tr>\n",
              "    <tr>\n",
              "      <th>999997</th>\n",
              "      <td>1</td>\n",
              "      <td>27</td>\n",
              "      <td>115</td>\n",
              "      <td>53</td>\n",
              "      <td>110</td>\n",
              "      <td>25.2</td>\n",
              "      <td>1</td>\n",
              "    </tr>\n",
              "    <tr>\n",
              "      <th>999998</th>\n",
              "      <td>1</td>\n",
              "      <td>27</td>\n",
              "      <td>120</td>\n",
              "      <td>70</td>\n",
              "      <td>90</td>\n",
              "      <td>19.7</td>\n",
              "      <td>1</td>\n",
              "    </tr>\n",
              "    <tr>\n",
              "      <th>999999</th>\n",
              "      <td>1</td>\n",
              "      <td>27</td>\n",
              "      <td>116</td>\n",
              "      <td>73</td>\n",
              "      <td>92</td>\n",
              "      <td>17.6</td>\n",
              "      <td>0</td>\n",
              "    </tr>\n",
              "  </tbody>\n",
              "</table>\n",
              "<p>1000000 rows × 7 columns</p>\n",
              "</div>\n",
              "      <button class=\"colab-df-convert\" onclick=\"convertToInteractive('df-b2291c48-6eb7-4e28-8930-143457d6bb90')\"\n",
              "              title=\"Convert this dataframe to an interactive table.\"\n",
              "              style=\"display:none;\">\n",
              "        \n",
              "  <svg xmlns=\"http://www.w3.org/2000/svg\" height=\"24px\"viewBox=\"0 0 24 24\"\n",
              "       width=\"24px\">\n",
              "    <path d=\"M0 0h24v24H0V0z\" fill=\"none\"/>\n",
              "    <path d=\"M18.56 5.44l.94 2.06.94-2.06 2.06-.94-2.06-.94-.94-2.06-.94 2.06-2.06.94zm-11 1L8.5 8.5l.94-2.06 2.06-.94-2.06-.94L8.5 2.5l-.94 2.06-2.06.94zm10 10l.94 2.06.94-2.06 2.06-.94-2.06-.94-.94-2.06-.94 2.06-2.06.94z\"/><path d=\"M17.41 7.96l-1.37-1.37c-.4-.4-.92-.59-1.43-.59-.52 0-1.04.2-1.43.59L10.3 9.45l-7.72 7.72c-.78.78-.78 2.05 0 2.83L4 21.41c.39.39.9.59 1.41.59.51 0 1.02-.2 1.41-.59l7.78-7.78 2.81-2.81c.8-.78.8-2.07 0-2.86zM5.41 20L4 18.59l7.72-7.72 1.47 1.35L5.41 20z\"/>\n",
              "  </svg>\n",
              "      </button>\n",
              "      \n",
              "  <style>\n",
              "    .colab-df-container {\n",
              "      display:flex;\n",
              "      flex-wrap:wrap;\n",
              "      gap: 12px;\n",
              "    }\n",
              "\n",
              "    .colab-df-convert {\n",
              "      background-color: #E8F0FE;\n",
              "      border: none;\n",
              "      border-radius: 50%;\n",
              "      cursor: pointer;\n",
              "      display: none;\n",
              "      fill: #1967D2;\n",
              "      height: 32px;\n",
              "      padding: 0 0 0 0;\n",
              "      width: 32px;\n",
              "    }\n",
              "\n",
              "    .colab-df-convert:hover {\n",
              "      background-color: #E2EBFA;\n",
              "      box-shadow: 0px 1px 2px rgba(60, 64, 67, 0.3), 0px 1px 3px 1px rgba(60, 64, 67, 0.15);\n",
              "      fill: #174EA6;\n",
              "    }\n",
              "\n",
              "    [theme=dark] .colab-df-convert {\n",
              "      background-color: #3B4455;\n",
              "      fill: #D2E3FC;\n",
              "    }\n",
              "\n",
              "    [theme=dark] .colab-df-convert:hover {\n",
              "      background-color: #434B5C;\n",
              "      box-shadow: 0px 1px 3px 1px rgba(0, 0, 0, 0.15);\n",
              "      filter: drop-shadow(0px 1px 2px rgba(0, 0, 0, 0.3));\n",
              "      fill: #FFFFFF;\n",
              "    }\n",
              "  </style>\n",
              "\n",
              "      <script>\n",
              "        const buttonEl =\n",
              "          document.querySelector('#df-b2291c48-6eb7-4e28-8930-143457d6bb90 button.colab-df-convert');\n",
              "        buttonEl.style.display =\n",
              "          google.colab.kernel.accessAllowed ? 'block' : 'none';\n",
              "\n",
              "        async function convertToInteractive(key) {\n",
              "          const element = document.querySelector('#df-b2291c48-6eb7-4e28-8930-143457d6bb90');\n",
              "          const dataTable =\n",
              "            await google.colab.kernel.invokeFunction('convertToInteractive',\n",
              "                                                     [key], {});\n",
              "          if (!dataTable) return;\n",
              "\n",
              "          const docLinkHtml = 'Like what you see? Visit the ' +\n",
              "            '<a target=\"_blank\" href=https://colab.research.google.com/notebooks/data_table.ipynb>data table notebook</a>'\n",
              "            + ' to learn more about interactive tables.';\n",
              "          element.innerHTML = '';\n",
              "          dataTable['output_type'] = 'display_data';\n",
              "          await google.colab.output.renderOutput(dataTable, element);\n",
              "          const docLink = document.createElement('div');\n",
              "          docLink.innerHTML = docLinkHtml;\n",
              "          element.appendChild(docLink);\n",
              "        }\n",
              "      </script>\n",
              "    </div>\n",
              "  </div>\n",
              "  "
            ]
          },
          "metadata": {},
          "execution_count": 3
        }
      ]
    },
    {
      "cell_type": "code",
      "source": [
        "df.notnull().sum()"
      ],
      "metadata": {
        "colab": {
          "base_uri": "https://localhost:8080/"
        },
        "id": "tEMba2zU8Sfm",
        "outputId": "eef07dba-98a0-4208-f07c-cdc794235b10"
      },
      "execution_count": 4,
      "outputs": [
        {
          "output_type": "execute_result",
          "data": {
            "text/plain": [
              "SEX      1000000\n",
              "BTH_G    1000000\n",
              "SBP      1000000\n",
              "DBP      1000000\n",
              "FBS      1000000\n",
              "BMI      1000000\n",
              "Dis      1000000\n",
              "dtype: int64"
            ]
          },
          "metadata": {},
          "execution_count": 4
        }
      ]
    },
    {
      "cell_type": "code",
      "source": [
        "df.info()"
      ],
      "metadata": {
        "colab": {
          "base_uri": "https://localhost:8080/"
        },
        "id": "QqHvFnmj8W8F",
        "outputId": "0fd626a2-d557-4192-c26e-ee45cabc6bca"
      },
      "execution_count": 5,
      "outputs": [
        {
          "output_type": "stream",
          "name": "stdout",
          "text": [
            "<class 'pandas.core.frame.DataFrame'>\n",
            "RangeIndex: 1000000 entries, 0 to 999999\n",
            "Data columns (total 7 columns):\n",
            " #   Column  Non-Null Count    Dtype  \n",
            "---  ------  --------------    -----  \n",
            " 0   SEX     1000000 non-null  int64  \n",
            " 1   BTH_G   1000000 non-null  int64  \n",
            " 2   SBP     1000000 non-null  int64  \n",
            " 3   DBP     1000000 non-null  int64  \n",
            " 4   FBS     1000000 non-null  int64  \n",
            " 5   BMI     1000000 non-null  float64\n",
            " 6   Dis     1000000 non-null  int64  \n",
            "dtypes: float64(1), int64(6)\n",
            "memory usage: 53.4 MB\n"
          ]
        }
      ]
    },
    {
      "cell_type": "code",
      "source": [
        "colormap = plt.cm.viridis # pearson 상관 계수 확인 ---> heatmap\n",
        "plt.figure(figsize=(15,15))\n",
        "plt.title(\"Pearson Corrrelation of features\")\n",
        "sns.heatmap(df.corr(), cmap=colormap, annot=True, linewidths=0.1, vmax=1.0, \n",
        "            square=True, linecolor='white')"
      ],
      "metadata": {
        "colab": {
          "base_uri": "https://localhost:8080/",
          "height": 809
        },
        "id": "YvYTca3A8YU9",
        "outputId": "b16d89ab-53c9-4523-94a3-e08a14c152ab"
      },
      "execution_count": 6,
      "outputs": [
        {
          "output_type": "execute_result",
          "data": {
            "text/plain": [
              "<matplotlib.axes._subplots.AxesSubplot at 0x7f5caebc1190>"
            ]
          },
          "metadata": {},
          "execution_count": 6
        },
        {
          "output_type": "display_data",
          "data": {
            "text/plain": [
              "<Figure size 1080x1080 with 2 Axes>"
            ],
            "image/png": "[encoded data removed]"
          },
          "metadata": {
            "needs_background": "light"
          }
        }
      ]
    },
    {
      "cell_type": "code",
      "source": [
        "# split data\n",
        "\n",
        "from sklearn.model_selection import train_test_split\n",
        "\n",
        "# 전체 데이터 split\n",
        "X_train, X_test, y_train, y_test = train_test_split(df.loc[:, df.columns != 'Dis'],df['Dis'],  stratify=df['Dis'], shuffle=True, test_size=0.9, random_state=11)\n",
        "\n",
        "X_test,X_val,y_test,y_val=train_test_split(X_test,y_test,test_size=0.88, shuffle=True) # validation은 사용하지 않음\n",
        "\n",
        "\n",
        "print(X_train.shape)\n",
        "print(y_train.shape)\n",
        "print(X_val.shape) # validation set은 사용하지 않음\n",
        "print(y_val.shape) # 역시\n",
        "print(X_test.shape)\n",
        "print(y_test.shape)"
      ],
      "metadata": {
        "colab": {
          "base_uri": "https://localhost:8080/"
        },
        "id": "I1gIJTV-8gSt",
        "outputId": "f7356953-f254-41f0-ba4a-2c1744fed5b5"
      },
      "execution_count": 7,
      "outputs": [
        {
          "output_type": "stream",
          "name": "stdout",
          "text": [
            "(100000, 6)\n",
            "(100000,)\n",
            "(792000, 6)\n",
            "(792000,)\n",
            "(108000, 6)\n",
            "(108000,)\n"
          ]
        }
      ]
    },
    {
      "cell_type": "code",
      "source": [
        "X_train.shape"
      ],
      "metadata": {
        "id": "z9J6rz4J8t4m",
        "colab": {
          "base_uri": "https://localhost:8080/"
        },
        "outputId": "eb872c23-a229-4d64-89cd-b6e7ce27fa58"
      },
      "execution_count": 8,
      "outputs": [
        {
          "output_type": "execute_result",
          "data": {
            "text/plain": [
              "(100000, 6)"
            ]
          },
          "metadata": {},
          "execution_count": 8
        }
      ]
    },
    {
      "cell_type": "code",
      "source": [
        "X_test.shape"
      ],
      "metadata": {
        "id": "FaP4loQ9_2le",
        "colab": {
          "base_uri": "https://localhost:8080/"
        },
        "outputId": "472a0f60-f74d-420c-b334-131b81f07d64"
      },
      "execution_count": 9,
      "outputs": [
        {
          "output_type": "execute_result",
          "data": {
            "text/plain": [
              "(108000, 6)"
            ]
          },
          "metadata": {},
          "execution_count": 9
        }
      ]
    },
    {
      "cell_type": "code",
      "source": [
        "y_train.shape"
      ],
      "metadata": {
        "id": "8rVN0UcF_5U-",
        "colab": {
          "base_uri": "https://localhost:8080/"
        },
        "outputId": "90c548aa-e59f-4fad-f6bb-28d74d136b0a"
      },
      "execution_count": 10,
      "outputs": [
        {
          "output_type": "execute_result",
          "data": {
            "text/plain": [
              "(100000,)"
            ]
          },
          "metadata": {},
          "execution_count": 10
        }
      ]
    },
    {
      "cell_type": "code",
      "source": [
        "y_test.shape"
      ],
      "metadata": {
        "id": "AaTD7rLY_6tb",
        "colab": {
          "base_uri": "https://localhost:8080/"
        },
        "outputId": "fb23251d-1c06-4501-e003-d8b776beac82"
      },
      "execution_count": 11,
      "outputs": [
        {
          "output_type": "execute_result",
          "data": {
            "text/plain": [
              "(108000,)"
            ]
          },
          "metadata": {},
          "execution_count": 11
        }
      ]
    },
    {
      "cell_type": "markdown",
      "source": [
        "**Logistic Regression**"
      ],
      "metadata": {
        "id": "em3D-1UIo3uJ"
      }
    },
    {
      "cell_type": "code",
      "source": [
        "from sklearn.linear_model import LogisticRegression # 로지스틱 회귀\n",
        "\n",
        "\n",
        "LR = LogisticRegression() # 로지스틱 회귀 분석\n",
        "LR.fit(X_train,y_train)\n",
        "\n",
        "print(\"train score : {}\".format(LR.score(X_train, y_train)))\n",
        "\n",
        "predict_y = LR.predict(X_test)\n",
        "\n",
        "from sklearn.metrics import classification_report\n",
        "print(classification_report(y_test, LR.predict(X_test)))\n",
        "print(\"test score : {}\".format(LR.score(X_test, y_test)))"
      ],
      "metadata": {
        "colab": {
          "base_uri": "https://localhost:8080/"
        },
        "id": "2Yt8QUWr_842",
        "outputId": "ce3e0cc4-c3a1-443a-fd5b-9f08f331acd1"
      },
      "execution_count": 12,
      "outputs": [
        {
          "output_type": "stream",
          "name": "stdout",
          "text": [
            "train score : 0.8193\n",
            "              precision    recall  f1-score   support\n",
            "\n",
            "           0       0.85      0.92      0.88     79880\n",
            "           1       0.69      0.54      0.61     28120\n",
            "\n",
            "    accuracy                           0.82    108000\n",
            "   macro avg       0.77      0.73      0.74    108000\n",
            "weighted avg       0.81      0.82      0.81    108000\n",
            "\n",
            "test score : 0.8173796296296296\n"
          ]
        }
      ]
    },
    {
      "cell_type": "markdown",
      "source": [
        "## Upsampling 데이터"
      ],
      "metadata": {
        "id": "mjKG3X5x_hS0"
      }
    },
    {
      "cell_type": "code",
      "source": [
        "# Disease \n",
        "\n",
        "df2 = pd.read_csv('/content/drive/MyDrive/Colab_Notebooks/aiffel_data/Hackerton_2/data_over_sampling.csv', encoding='cp949') # upsampling 안된 것!\n",
        "df2"
      ],
      "metadata": {
        "colab": {
          "base_uri": "https://localhost:8080/",
          "height": 423
        },
        "id": "b_E6ofBl6LzK",
        "outputId": "1db66057-b5c9-4be4-ab33-800c7e3cfca9"
      },
      "execution_count": 13,
      "outputs": [
        {
          "output_type": "execute_result",
          "data": {
            "text/plain": [
              "         SEX  BTH_G  SBP  DBP  FBS   BMI  Dis\n",
              "0          1      1  116   78   94  16.6    0\n",
              "1          1      1  100   60   79  22.3    0\n",
              "2          1      1  100   60   87  21.9    0\n",
              "3          1      1  111   70   72  20.2    0\n",
              "4          1      1  120   80   98  20.0    0\n",
              "...      ...    ...  ...  ...  ...   ...  ...\n",
              "1481319    0     25  120   80   78  27.9    1\n",
              "1481320    0     27  150   74  133  32.0    1\n",
              "1481321    1     25  120   70  118  26.9    1\n",
              "1481322    0     20  136   68   93  21.5    1\n",
              "1481323    1     19  125   84  130  24.8    1\n",
              "\n",
              "[1481324 rows x 7 columns]"
            ],
            "text/html": [
              "\n",
              "  <div id=\"df-a96833f3-ccc4-41e4-a846-ea386b514ede\">\n",
              "    <div class=\"colab-df-container\">\n",
              "      <div>\n",
              "<style scoped>\n",
              "    .dataframe tbody tr th:only-of-type {\n",
              "        vertical-align: middle;\n",
              "    }\n",
              "\n",
              "    .dataframe tbody tr th {\n",
              "        vertical-align: top;\n",
              "    }\n",
              "\n",
              "    .dataframe thead th {\n",
              "        text-align: right;\n",
              "    }\n",
              "</style>\n",
              "<table border=\"1\" class=\"dataframe\">\n",
              "  <thead>\n",
              "    <tr style=\"text-align: right;\">\n",
              "      <th></th>\n",
              "      <th>SEX</th>\n",
              "      <th>BTH_G</th>\n",
              "      <th>SBP</th>\n",
              "      <th>DBP</th>\n",
              "      <th>FBS</th>\n",
              "      <th>BMI</th>\n",
              "      <th>Dis</th>\n",
              "    </tr>\n",
              "  </thead>\n",
              "  <tbody>\n",
              "    <tr>\n",
              "      <th>0</th>\n",
              "      <td>1</td>\n",
              "      <td>1</td>\n",
              "      <td>116</td>\n",
              "      <td>78</td>\n",
              "      <td>94</td>\n",
              "      <td>16.6</td>\n",
              "      <td>0</td>\n",
              "    </tr>\n",
              "    <tr>\n",
              "      <th>1</th>\n",
              "      <td>1</td>\n",
              "      <td>1</td>\n",
              "      <td>100</td>\n",
              "      <td>60</td>\n",
              "      <td>79</td>\n",
              "      <td>22.3</td>\n",
              "      <td>0</td>\n",
              "    </tr>\n",
              "    <tr>\n",
              "      <th>2</th>\n",
              "      <td>1</td>\n",
              "      <td>1</td>\n",
              "      <td>100</td>\n",
              "      <td>60</td>\n",
              "      <td>87</td>\n",
              "      <td>21.9</td>\n",
              "      <td>0</td>\n",
              "    </tr>\n",
              "    <tr>\n",
              "      <th>3</th>\n",
              "      <td>1</td>\n",
              "      <td>1</td>\n",
              "      <td>111</td>\n",
              "      <td>70</td>\n",
              "      <td>72</td>\n",
              "      <td>20.2</td>\n",
              "      <td>0</td>\n",
              "    </tr>\n",
              "    <tr>\n",
              "      <th>4</th>\n",
              "      <td>1</td>\n",
              "      <td>1</td>\n",
              "      <td>120</td>\n",
              "      <td>80</td>\n",
              "      <td>98</td>\n",
              "      <td>20.0</td>\n",
              "      <td>0</td>\n",
              "    </tr>\n",
              "    <tr>\n",
              "      <th>...</th>\n",
              "      <td>...</td>\n",
              "      <td>...</td>\n",
              "      <td>...</td>\n",
              "      <td>...</td>\n",
              "      <td>...</td>\n",
              "      <td>...</td>\n",
              "      <td>...</td>\n",
              "    </tr>\n",
              "    <tr>\n",
              "      <th>1481319</th>\n",
              "      <td>0</td>\n",
              "      <td>25</td>\n",
              "      <td>120</td>\n",
              "      <td>80</td>\n",
              "      <td>78</td>\n",
              "      <td>27.9</td>\n",
              "      <td>1</td>\n",
              "    </tr>\n",
              "    <tr>\n",
              "      <th>1481320</th>\n",
              "      <td>0</td>\n",
              "      <td>27</td>\n",
              "      <td>150</td>\n",
              "      <td>74</td>\n",
              "      <td>133</td>\n",
              "      <td>32.0</td>\n",
              "      <td>1</td>\n",
              "    </tr>\n",
              "    <tr>\n",
              "      <th>1481321</th>\n",
              "      <td>1</td>\n",
              "      <td>25</td>\n",
              "      <td>120</td>\n",
              "      <td>70</td>\n",
              "      <td>118</td>\n",
              "      <td>26.9</td>\n",
              "      <td>1</td>\n",
              "    </tr>\n",
              "    <tr>\n",
              "      <th>1481322</th>\n",
              "      <td>0</td>\n",
              "      <td>20</td>\n",
              "      <td>136</td>\n",
              "      <td>68</td>\n",
              "      <td>93</td>\n",
              "      <td>21.5</td>\n",
              "      <td>1</td>\n",
              "    </tr>\n",
              "    <tr>\n",
              "      <th>1481323</th>\n",
              "      <td>1</td>\n",
              "      <td>19</td>\n",
              "      <td>125</td>\n",
              "      <td>84</td>\n",
              "      <td>130</td>\n",
              "      <td>24.8</td>\n",
              "      <td>1</td>\n",
              "    </tr>\n",
              "  </tbody>\n",
              "</table>\n",
              "<p>1481324 rows × 7 columns</p>\n",
              "</div>\n",
              "      <button class=\"colab-df-convert\" onclick=\"convertToInteractive('df-a96833f3-ccc4-41e4-a846-ea386b514ede')\"\n",
              "              title=\"Convert this dataframe to an interactive table.\"\n",
              "              style=\"display:none;\">\n",
              "        \n",
              "  <svg xmlns=\"http://www.w3.org/2000/svg\" height=\"24px\"viewBox=\"0 0 24 24\"\n",
              "       width=\"24px\">\n",
              "    <path d=\"M0 0h24v24H0V0z\" fill=\"none\"/>\n",
              "    <path d=\"M18.56 5.44l.94 2.06.94-2.06 2.06-.94-2.06-.94-.94-2.06-.94 2.06-2.06.94zm-11 1L8.5 8.5l.94-2.06 2.06-.94-2.06-.94L8.5 2.5l-.94 2.06-2.06.94zm10 10l.94 2.06.94-2.06 2.06-.94-2.06-.94-.94-2.06-.94 2.06-2.06.94z\"/><path d=\"M17.41 7.96l-1.37-1.37c-.4-.4-.92-.59-1.43-.59-.52 0-1.04.2-1.43.59L10.3 9.45l-7.72 7.72c-.78.78-.78 2.05 0 2.83L4 21.41c.39.39.9.59 1.41.59.51 0 1.02-.2 1.41-.59l7.78-7.78 2.81-2.81c.8-.78.8-2.07 0-2.86zM5.41 20L4 18.59l7.72-7.72 1.47 1.35L5.41 20z\"/>\n",
              "  </svg>\n",
              "      </button>\n",
              "      \n",
              "  <style>\n",
              "    .colab-df-container {\n",
              "      display:flex;\n",
              "      flex-wrap:wrap;\n",
              "      gap: 12px;\n",
              "    }\n",
              "\n",
              "    .colab-df-convert {\n",
              "      background-color: #E8F0FE;\n",
              "      border: none;\n",
              "      border-radius: 50%;\n",
              "      cursor: pointer;\n",
              "      display: none;\n",
              "      fill: #1967D2;\n",
              "      height: 32px;\n",
              "      padding: 0 0 0 0;\n",
              "      width: 32px;\n",
              "    }\n",
              "\n",
              "    .colab-df-convert:hover {\n",
              "      background-color: #E2EBFA;\n",
              "      box-shadow: 0px 1px 2px rgba(60, 64, 67, 0.3), 0px 1px 3px 1px rgba(60, 64, 67, 0.15);\n",
              "      fill: #174EA6;\n",
              "    }\n",
              "\n",
              "    [theme=dark] .colab-df-convert {\n",
              "      background-color: #3B4455;\n",
              "      fill: #D2E3FC;\n",
              "    }\n",
              "\n",
              "    [theme=dark] .colab-df-convert:hover {\n",
              "      background-color: #434B5C;\n",
              "      box-shadow: 0px 1px 3px 1px rgba(0, 0, 0, 0.15);\n",
              "      filter: drop-shadow(0px 1px 2px rgba(0, 0, 0, 0.3));\n",
              "      fill: #FFFFFF;\n",
              "    }\n",
              "  </style>\n",
              "\n",
              "      <script>\n",
              "        const buttonEl =\n",
              "          document.querySelector('#df-a96833f3-ccc4-41e4-a846-ea386b514ede button.colab-df-convert');\n",
              "        buttonEl.style.display =\n",
              "          google.colab.kernel.accessAllowed ? 'block' : 'none';\n",
              "\n",
              "        async function convertToInteractive(key) {\n",
              "          const element = document.querySelector('#df-a96833f3-ccc4-41e4-a846-ea386b514ede');\n",
              "          const dataTable =\n",
              "            await google.colab.kernel.invokeFunction('convertToInteractive',\n",
              "                                                     [key], {});\n",
              "          if (!dataTable) return;\n",
              "\n",
              "          const docLinkHtml = 'Like what you see? Visit the ' +\n",
              "            '<a target=\"_blank\" href=https://colab.research.google.com/notebooks/data_table.ipynb>data table notebook</a>'\n",
              "            + ' to learn more about interactive tables.';\n",
              "          element.innerHTML = '';\n",
              "          dataTable['output_type'] = 'display_data';\n",
              "          await google.colab.output.renderOutput(dataTable, element);\n",
              "          const docLink = document.createElement('div');\n",
              "          docLink.innerHTML = docLinkHtml;\n",
              "          element.appendChild(docLink);\n",
              "        }\n",
              "      </script>\n",
              "    </div>\n",
              "  </div>\n",
              "  "
            ]
          },
          "metadata": {},
          "execution_count": 13
        }
      ]
    },
    {
      "cell_type": "code",
      "source": [
        "df2.notnull().sum()"
      ],
      "metadata": {
        "colab": {
          "base_uri": "https://localhost:8080/"
        },
        "id": "Gaeqqkwx6cao",
        "outputId": "403e6722-f6dd-4b01-c772-4ff4e0b2f344"
      },
      "execution_count": 14,
      "outputs": [
        {
          "output_type": "execute_result",
          "data": {
            "text/plain": [
              "SEX      1481324\n",
              "BTH_G    1481324\n",
              "SBP      1481324\n",
              "DBP      1481324\n",
              "FBS      1481324\n",
              "BMI      1481324\n",
              "Dis      1481324\n",
              "dtype: int64"
            ]
          },
          "metadata": {},
          "execution_count": 14
        }
      ]
    },
    {
      "cell_type": "code",
      "source": [
        "df2.info()"
      ],
      "metadata": {
        "colab": {
          "base_uri": "https://localhost:8080/"
        },
        "id": "0Ku1_D866cX9",
        "outputId": "c0fae769-6356-41d4-95bd-eb3151fe542a"
      },
      "execution_count": 15,
      "outputs": [
        {
          "output_type": "stream",
          "name": "stdout",
          "text": [
            "<class 'pandas.core.frame.DataFrame'>\n",
            "RangeIndex: 1481324 entries, 0 to 1481323\n",
            "Data columns (total 7 columns):\n",
            " #   Column  Non-Null Count    Dtype  \n",
            "---  ------  --------------    -----  \n",
            " 0   SEX     1481324 non-null  int64  \n",
            " 1   BTH_G   1481324 non-null  int64  \n",
            " 2   SBP     1481324 non-null  int64  \n",
            " 3   DBP     1481324 non-null  int64  \n",
            " 4   FBS     1481324 non-null  int64  \n",
            " 5   BMI     1481324 non-null  float64\n",
            " 6   Dis     1481324 non-null  int64  \n",
            "dtypes: float64(1), int64(6)\n",
            "memory usage: 79.1 MB\n"
          ]
        }
      ]
    },
    {
      "cell_type": "code",
      "source": [
        "colormap = plt.cm.viridis # pearson 상관 계수 확인 ---> heatmap\n",
        "plt.figure(figsize=(15,15))\n",
        "plt.title(\"Pearson Corrrelation of features\")\n",
        "sns.heatmap(df2.corr(), cmap=colormap, annot=True, linewidths=0.1, vmax=1.0, \n",
        "            square=True, linecolor='white')"
      ],
      "metadata": {
        "colab": {
          "base_uri": "https://localhost:8080/",
          "height": 809
        },
        "id": "N2UMEoen6cVZ",
        "outputId": "eb736690-46b6-4cec-98e7-bd0e05f11cba"
      },
      "execution_count": 16,
      "outputs": [
        {
          "output_type": "execute_result",
          "data": {
            "text/plain": [
              "<matplotlib.axes._subplots.AxesSubplot at 0x7f5caeb2e550>"
            ]
          },
          "metadata": {},
          "execution_count": 16
        },
        {
          "output_type": "display_data",
          "data": {
            "text/plain": [
              "<Figure size 1080x1080 with 2 Axes>"
            ],
            "image/png": "[encoded data removed]"
          },
          "metadata": {
            "needs_background": "light"
          }
        }
      ]
    },
    {
      "cell_type": "code",
      "source": [
        "# Over sampling data\n",
        "# split data\n",
        "\n",
        "from sklearn.model_selection import train_test_split\n",
        "\n",
        "# 전체 데이터 split\n",
        "X_up_train, X_up_test, y_up_train, y_up_test = train_test_split(df2.loc[:, df2.columns != 'Dis'],df2['Dis'],  stratify=df2['Dis'], shuffle=True, test_size=0.9, random_state=11)\n",
        "\n",
        "X_up_test,X_up_val,y_up_test,y_up_val=train_test_split(X_up_test,y_up_test,test_size=0.88, shuffle=True) # validation은 사용하지 않음\n",
        "\n",
        "\n",
        "print(X_up_train.shape)\n",
        "print(y_up_train.shape)\n",
        "print(X_up_val.shape) # validation set은 사용하지 않음\n",
        "print(y_up_val.shape) # 역시\n",
        "print(X_up_test.shape)\n",
        "print(y_up_test.shape)"
      ],
      "metadata": {
        "colab": {
          "base_uri": "https://localhost:8080/"
        },
        "id": "WYtd2Bk76cS6",
        "outputId": "fd34b6a7-8711-42bd-fd17-644a39e4d180"
      },
      "execution_count": 17,
      "outputs": [
        {
          "output_type": "stream",
          "name": "stdout",
          "text": [
            "(148132, 6)\n",
            "(148132,)\n",
            "(1173209, 6)\n",
            "(1173209,)\n",
            "(159983, 6)\n",
            "(159983,)\n"
          ]
        }
      ]
    },
    {
      "cell_type": "code",
      "source": [
        "from sklearn.linear_model import LogisticRegression # 로지스틱 회귀\n",
        "\n",
        "LR = LogisticRegression() # 로지스틱 회귀 분석\n",
        "LR.fit(X_up_train,y_up_train)\n",
        "\n",
        "print(\"train score : {}\".format(LR.score(X_up_train, y_up_train)))\n",
        "\n",
        "predict_y = LR.predict(X_up_test)\n",
        "\n",
        "from sklearn.metrics import classification_report\n",
        "print(classification_report(y_up_test, LR.predict(X_up_test)))\n",
        "print(\"test score : {}\".format(LR.score(X_up_test, y_up_test)))"
      ],
      "metadata": {
        "colab": {
          "base_uri": "https://localhost:8080/"
        },
        "id": "Y9ClcHCh6cP5",
        "outputId": "507734e3-7311-44a5-bdbc-55a20e8d4b81"
      },
      "execution_count": 18,
      "outputs": [
        {
          "output_type": "stream",
          "name": "stdout",
          "text": [
            "train score : 0.7903694002646289\n",
            "              precision    recall  f1-score   support\n",
            "\n",
            "           0       0.79      0.78      0.79     80101\n",
            "           1       0.79      0.80      0.79     79882\n",
            "\n",
            "    accuracy                           0.79    159983\n",
            "   macro avg       0.79      0.79      0.79    159983\n",
            "weighted avg       0.79      0.79      0.79    159983\n",
            "\n",
            "test score : 0.7901652050530369\n"
          ]
        }
      ]
    },
    {
      "cell_type": "markdown",
      "source": [
        "## 전체 데이터"
      ],
      "metadata": {
        "id": "znlojxWb_W8z"
      }
    },
    {
      "cell_type": "code",
      "source": [
        "# split data\n",
        "\n",
        "from sklearn.model_selection import train_test_split\n",
        "\n",
        "# 전체 데이터 split\n",
        "X_train, X_test, y_train, y_test = train_test_split(df.loc[:, df.columns != 'Dis'],df['Dis'],  stratify=df['Dis'], shuffle=True, test_size=0.2, random_state=11)\n",
        "\n",
        "print(X_train.shape)\n",
        "print(y_train.shape)\n",
        "# print(X_val.shape) # validation set은 사용하지 않음\n",
        "# print(y_val.shape) # 역시\n",
        "print(X_test.shape)\n",
        "print(y_test.shape)"
      ],
      "metadata": {
        "colab": {
          "base_uri": "https://localhost:8080/"
        },
        "id": "C7BQtMv9-m9W",
        "outputId": "b8a58755-c25e-4606-dd0d-ee8e7cbb55d0"
      },
      "execution_count": 19,
      "outputs": [
        {
          "output_type": "stream",
          "name": "stdout",
          "text": [
            "(800000, 6)\n",
            "(800000,)\n",
            "(200000, 6)\n",
            "(200000,)\n"
          ]
        }
      ]
    },
    {
      "cell_type": "code",
      "source": [
        "from sklearn.linear_model import LogisticRegression # 로지스틱 회귀\n",
        "\n",
        "LR = LogisticRegression() # 로지스틱 회귀 분석\n",
        "LR.fit(X_train,y_train)\n",
        "\n",
        "print(\"train score : {}\".format(LR.score(X_train, y_train)))\n",
        "\n",
        "predict_y = LR.predict(X_test)\n",
        "\n",
        "from sklearn.metrics import classification_report\n",
        "print(classification_report(y_test, LR.predict(X_test)))\n",
        "print(\"test score : {}\".format(LR.score(X_test, y_test)))"
      ],
      "metadata": {
        "colab": {
          "base_uri": "https://localhost:8080/"
        },
        "id": "F_yIKIyo-m5q",
        "outputId": "b0510417-3533-4055-d834-6c6fc6fe7716"
      },
      "execution_count": 20,
      "outputs": [
        {
          "output_type": "stream",
          "name": "stdout",
          "text": [
            "train score : 0.81836625\n",
            "              precision    recall  f1-score   support\n",
            "\n",
            "           0       0.85      0.91      0.88    148132\n",
            "           1       0.69      0.54      0.60     51868\n",
            "\n",
            "    accuracy                           0.82    200000\n",
            "   macro avg       0.77      0.73      0.74    200000\n",
            "weighted avg       0.81      0.82      0.81    200000\n",
            "\n",
            "test score : 0.816305\n"
          ]
        }
      ]
    },
    {
      "cell_type": "markdown",
      "source": [
        "## 전체 Upsampling 데이터 "
      ],
      "metadata": {
        "id": "P1NZWaFr_s-B"
      }
    },
    {
      "cell_type": "code",
      "source": [
        "# Over sampling data\n",
        "# split data\n",
        "\n",
        "from sklearn.model_selection import train_test_split\n",
        "\n",
        "# 전체 데이터 split\n",
        "X_up_train, X_up_test, y_up_train, y_up_test = train_test_split(df2.loc[:, df2.columns != 'Dis'],df2['Dis'],  stratify=df2['Dis'], shuffle=True, test_size=0.2, random_state=11)\n",
        "\n",
        "# X_up_test,X_up_val,y_up_test,y_up_val=train_test_split(X_up_test,y_up_test,test_size=0.88, shuffle=True) # validation은 사용하지 않음\n",
        "\n",
        "\n",
        "print(X_up_train.shape)\n",
        "print(y_up_train.shape)\n",
        "# print(X_up_val.shape) # validation set은 사용하지 않음\n",
        "# print(y_up_val.shape) # 역시\n",
        "print(X_up_test.shape)\n",
        "print(y_up_test.shape)"
      ],
      "metadata": {
        "colab": {
          "base_uri": "https://localhost:8080/"
        },
        "id": "-UQ9QZi1-m24",
        "outputId": "1eae5dec-d102-4abe-e71e-57336e686cff"
      },
      "execution_count": 21,
      "outputs": [
        {
          "output_type": "stream",
          "name": "stdout",
          "text": [
            "(1185059, 6)\n",
            "(1185059,)\n",
            "(296265, 6)\n",
            "(296265,)\n"
          ]
        }
      ]
    },
    {
      "cell_type": "code",
      "source": [
        "from sklearn.linear_model import LogisticRegression # 로지스틱 회귀\n",
        "\n",
        "LR = LogisticRegression() # 로지스틱 회귀 분석\n",
        "LR.fit(X_up_train,y_up_train)\n",
        "\n",
        "print(\"train score : {}\".format(LR.score(X_up_train, y_up_train)))\n",
        "\n",
        "predict_y = LR.predict(X_up_test)\n",
        "\n",
        "from sklearn.metrics import classification_report\n",
        "print(classification_report(y_up_test, LR.predict(X_up_test)))\n",
        "print(\"test score : {}\".format(LR.score(X_up_test, y_up_test)))"
      ],
      "metadata": {
        "colab": {
          "base_uri": "https://localhost:8080/"
        },
        "id": "FZeMTSbj-mz3",
        "outputId": "e4254526-553e-4520-84da-fca647f0602a"
      },
      "execution_count": 22,
      "outputs": [
        {
          "output_type": "stream",
          "name": "stdout",
          "text": [
            "train score : 0.789912569753911\n",
            "              precision    recall  f1-score   support\n",
            "\n",
            "           0       0.80      0.78      0.79    148132\n",
            "           1       0.78      0.80      0.79    148133\n",
            "\n",
            "    accuracy                           0.79    296265\n",
            "   macro avg       0.79      0.79      0.79    296265\n",
            "weighted avg       0.79      0.79      0.79    296265\n",
            "\n",
            "test score : 0.7895330194251767\n"
          ]
        }
      ]
    },
    {
      "cell_type": "markdown",
      "source": [
        "SGDclassifier"
      ],
      "metadata": {
        "id": "DkkYHXY2oWTi"
      }
    },
    {
      "cell_type": "markdown",
      "source": [
        "**전체 Upsampling Data**"
      ],
      "metadata": {
        "id": "rilhhLImp2_O"
      }
    },
    {
      "cell_type": "code",
      "source": [
        "from sklearn.linear_model import SGDClassifier\n",
        "\n",
        "sgd_clf = SGDClassifier()\n",
        "sgd_clf.fit(X_up_train, y_up_train)\n",
        "\n",
        "print(\"train score : {}\".format(sgd_clf.score(X_up_train, y_up_train)))\n",
        "\n",
        "predict_y = sgd_clf.predict(X_up_test)\n",
        "\n",
        "from sklearn.metrics import classification_report\n",
        "print(classification_report(y_up_test, sgd_clf.predict(X_up_test)))\n",
        "print(\"test score : {}\".format(sgd_clf.score(X_up_test, y_up_test)))"
      ],
      "metadata": {
        "colab": {
          "base_uri": "https://localhost:8080/"
        },
        "id": "2iO1SNHygQKO",
        "outputId": "8648db9e-382a-419c-bec9-15fd09b4c9ae"
      },
      "execution_count": 23,
      "outputs": [
        {
          "output_type": "stream",
          "name": "stderr",
          "text": [
            "/usr/local/lib/python3.7/dist-packages/sklearn/linear_model/_stochastic_gradient.py:700: ConvergenceWarning: Maximum number of iteration reached before convergence. Consider increasing max_iter to improve the fit.\n",
            "  ConvergenceWarning,\n"
          ]
        },
        {
          "output_type": "stream",
          "name": "stdout",
          "text": [
            "train score : 0.7728248129418029\n",
            "              precision    recall  f1-score   support\n",
            "\n",
            "           0       0.76      0.80      0.78    148132\n",
            "           1       0.79      0.75      0.77    148133\n",
            "\n",
            "    accuracy                           0.77    296265\n",
            "   macro avg       0.77      0.77      0.77    296265\n",
            "weighted avg       0.77      0.77      0.77    296265\n",
            "\n",
            "test score : 0.7726089818237051\n"
          ]
        }
      ]
    },
    {
      "cell_type": "code",
      "source": [
        "print(confusion_matrix(y_up_test, predict_y))"
      ],
      "metadata": {
        "id": "vzDUR3FW-0nK",
        "colab": {
          "base_uri": "https://localhost:8080/"
        },
        "outputId": "5d475346-5f26-44fc-f5a0-fbf042a36c5a"
      },
      "execution_count": 25,
      "outputs": [
        {
          "output_type": "stream",
          "name": "stdout",
          "text": [
            "[[118243  29889]\n",
            " [ 37479 110654]]\n"
          ]
        }
      ]
    },
    {
      "cell_type": "markdown",
      "source": [
        "![image.png](data:image/png;base64,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)"
      ],
      "metadata": {
        "id": "PAqud3E0tX_V"
      }
    },
    {
      "cell_type": "code",
      "source": [
        "from sklearn.metrics import precision_score, recall_score\n",
        "# 정밀도 값\n",
        "# 스팸메일 필터에서 많이 쓰인다. 정상 메일을 스팸처리해서 삭제해버리면 안되기 때문 FP값: 실제 음성(정상)인데 양성(스팸)이라고 판별\n",
        "precision_score(y_up_test, predict_y)"
      ],
      "metadata": {
        "id": "gjKkRE4I-0kj",
        "colab": {
          "base_uri": "https://localhost:8080/"
        },
        "outputId": "acc8a7c5-3c39-4f5b-802d-bc46c6c3c146"
      },
      "execution_count": 30,
      "outputs": [
        {
          "output_type": "execute_result",
          "data": {
            "text/plain": [
              "0.7873319909209281"
            ]
          },
          "metadata": {},
          "execution_count": 30
        }
      ]
    },
    {
      "cell_type": "code",
      "source": [
        "# 재현율 값 \n",
        "# 진단 분야에서는 재현율 값이 중요! 왜냐하면 환자를 정상으로 판별하면 안되기 때문이다. FN값 : 양성(환자)을 음성(정상)으로 판단\n",
        "recall_score(y_up_test, predict_y)"
      ],
      "metadata": {
        "id": "0KX9npWo-0h_",
        "colab": {
          "base_uri": "https://localhost:8080/"
        },
        "outputId": "c375f4ce-3c16-4053-d0b1-c4b68eb1c1bd"
      },
      "execution_count": 29,
      "outputs": [
        {
          "output_type": "execute_result",
          "data": {
            "text/plain": [
              "0.7469908798174614"
            ]
          },
          "metadata": {},
          "execution_count": 29
        }
      ]
    },
    {
      "cell_type": "code",
      "source": [
        "from sklearn.metrics import precision_recall_curve\n",
        "\n",
        "precisions, recalls, thresholds = precision_recall_curve(y_up_test, predict_y)"
      ],
      "metadata": {
        "id": "OVQexmkvxeyd"
      },
      "execution_count": 36,
      "outputs": []
    },
    {
      "cell_type": "markdown",
      "source": [
        "정밀도와 재현율의 조화 평균으로 나타낸 F1 score"
      ],
      "metadata": {
        "id": "vkzaoXKJuJ67"
      }
    },
    {
      "cell_type": "code",
      "source": [
        "from sklearn.metrics import f1_score\n",
        "f1_score(y_up_test, predict_y)"
      ],
      "metadata": {
        "id": "TuR1wST0AEjl",
        "colab": {
          "base_uri": "https://localhost:8080/"
        },
        "outputId": "787b5fcf-8dd0-46b8-ebb5-b7043b1763c6"
      },
      "execution_count": 31,
      "outputs": [
        {
          "output_type": "execute_result",
          "data": {
            "text/plain": [
              "0.7666311019967023"
            ]
          },
          "metadata": {},
          "execution_count": 31
        }
      ]
    },
    {
      "cell_type": "code",
      "source": [
        "from sklearn.metrics import roc_curve\n",
        "fpr, tpr, thresholds = roc_curve(y_up_test, predict_y)"
      ],
      "metadata": {
        "id": "R1RS1K-TufAo"
      },
      "execution_count": 32,
      "outputs": []
    },
    {
      "cell_type": "code",
      "source": [
        "fpr, tpr, threshold = roc_curve(y_up_test, predict_y)\n",
        "print(\"FPR:\\n\\n\", fpr)\n",
        "\n",
        "\n",
        "print(\"-\"*100)\n",
        "\n",
        "print(\"TPR:\\n\\n\", tpr)"
      ],
      "metadata": {
        "colab": {
          "base_uri": "https://localhost:8080/"
        },
        "id": "eW2qSPSQyi2e",
        "outputId": "13ef5e09-9f57-4888-911c-0d134872ef1b"
      },
      "execution_count": 39,
      "outputs": [
        {
          "output_type": "stream",
          "name": "stdout",
          "text": [
            "FPR:\n",
            "\n",
            " [0.         0.20177274 1.        ]\n",
            "----------------------------------------------------------------------------------------------------\n",
            "TPR:\n",
            "\n",
            " [0.         0.74699088 1.        ]\n"
          ]
        }
      ]
    },
    {
      "cell_type": "markdown",
      "source": [
        "ROC curve plot"
      ],
      "metadata": {
        "id": "cV7z8S9lzIMG"
      }
    },
    {
      "cell_type": "code",
      "source": [
        "plt.plot([0, 1], [0, 1], \"k--\", label = '50% AUC')\n",
        "plt.plot(fpr, tpr, label = \"SGD_classifier\")\n",
        "plt.xlabel(\"FPR\")\n",
        "plt.ylabel(\"TPR\")\n",
        "plt.title(\"ROC Curve - SGD_classifier\")\n",
        "plt.show()"
      ],
      "metadata": {
        "colab": {
          "base_uri": "https://localhost:8080/",
          "height": 295
        },
        "id": "tn5egWW4yp6v",
        "outputId": "576b9156-82c7-4ddd-925c-b3876a02669d"
      },
      "execution_count": 40,
      "outputs": [
        {
          "output_type": "display_data",
          "data": {
            "text/plain": [
              "<Figure size 432x288 with 1 Axes>"
            ],
            "image/png": "[encoded data removed]"
          },
          "metadata": {
            "needs_background": "light"
          }
        }
      ]
    },
    {
      "cell_type": "markdown",
      "source": [
        "[Hyperparameter 정보들](https://machinelearningmastery.com/hyperparameters-for-classification-machine-learning-algorithms/)\n",
        "\n",
        "[Hyperparameter 정보들2](https://machinelearningmastery.com/hyperparameter-optimization-with-random-search-and-grid-search/)"
      ],
      "metadata": {
        "id": "KVwzxJRj0Htl"
      }
    }
  ]
}