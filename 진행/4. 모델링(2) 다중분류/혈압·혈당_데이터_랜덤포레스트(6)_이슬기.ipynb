{
  "nbformat": 4,
  "nbformat_minor": 0,
  "metadata": {
    "colab": {
      "name": "혈압·혈당_데이터_랜덤포레스트(6).ipynb",
      "provenance": []
    },
    "kernelspec": {
      "name": "python3",
      "display_name": "Python 3"
    },
    "language_info": {
      "name": "python"
    }
  },
  "cells": [
    {
      "cell_type": "code",
      "execution_count": 1,
      "metadata": {
        "colab": {
          "base_uri": "https://localhost:8080/"
        },
        "id": "6CTwTx521vYJ",
        "outputId": "3e599659-ba81-414d-9275-b9aa0fc1b6ee"
      },
      "outputs": [
        {
          "output_type": "stream",
          "name": "stdout",
          "text": [
            "Mounted at /content/drive\n"
          ]
        }
      ],
      "source": [
        "from google.colab import drive\n",
        "drive.mount('/content/drive')"
      ]
    },
    {
      "cell_type": "code",
      "source": [
        "import pandas as pd\n",
        "import numpy as np\n",
        "import tensorflow as tf\n",
        "import matplotlib.pyplot as plt\n",
        "import sklearn\n",
        "import pickle # 객체 입출력을 위한 라이브러리\n",
        "from sklearn.preprocessing import StandardScaler\n",
        "from sklearn.ensemble import RandomForestClassifier as RFC # 랜덤포레스트 분류 알고리즘\n",
        "from sklearn.tree import DecisionTreeClassifier as DTC # 의사결정나무 분류 알고리즘\n",
        "from sklearn.metrics import accuracy_score\n",
        "from sklearn.model_selection import train_test_split\n",
        "from sklearn.preprocessing import MinMaxScaler\n",
        "from sklearn.metrics import accuracy_score\n",
        "\n",
        "# 모델 평가를 위한 metrics\n",
        "from sklearn.metrics import accuracy_score, precision_score, recall_score, f1_score, plot_confusion_matrix\n",
        "from sklearn.metrics import confusion_matrix\n",
        "from sklearn.metrics import classification_report\n",
        "\n",
        "from sklearn.metrics import roc_curve"
      ],
      "metadata": {
        "id": "iwtsYWyO1_S-"
      },
      "execution_count": 80,
      "outputs": []
    },
    {
      "cell_type": "code",
      "source": [
        "df = pd.read_csv('/content/drive/MyDrive/슬기로운 건강생활/data(over_dis_vs_nor).csv', encoding='cp949')\n",
        "df"
      ],
      "metadata": {
        "colab": {
          "base_uri": "https://localhost:8080/",
          "height": 424
        },
        "id": "3JribKjQ2BYu",
        "outputId": "3e39a2b1-fffb-498a-c6b5-9880d6035057"
      },
      "execution_count": 50,
      "outputs": [
        {
          "output_type": "execute_result",
          "data": {
            "text/plain": [
              "         SEX  BTH_G  SBP  DBP  FBS   BMI  DIS  Dis\n",
              "0          0      1   90   50   86  20.1    2    1\n",
              "1          0      1  120   80   90  27.0    3    1\n",
              "2          0      1  100   60  112  31.8    2    1\n",
              "3          0      1  170  120   86  23.3    2    1\n",
              "4          0      1  135   80  104  35.0    2    1\n",
              "...      ...    ...  ...  ...  ...   ...  ...  ...\n",
              "1481319    1     21  130   90  185  26.3    3    1\n",
              "1481320    1     18  140  100  120  28.8    2    1\n",
              "1481321    0     12  100   60  101  23.0    3    1\n",
              "1481322    1     20  134   72  168  23.1    3    1\n",
              "1481323    1     23  140   90  116  23.7    2    1\n",
              "\n",
              "[1481324 rows x 8 columns]"
            ],
            "text/html": [
              "\n",
              "  <div id=\"df-bd6fcc94-d593-4359-8efe-78a252183c14\">\n",
              "    <div class=\"colab-df-container\">\n",
              "      <div>\n",
              "<style scoped>\n",
              "    .dataframe tbody tr th:only-of-type {\n",
              "        vertical-align: middle;\n",
              "    }\n",
              "\n",
              "    .dataframe tbody tr th {\n",
              "        vertical-align: top;\n",
              "    }\n",
              "\n",
              "    .dataframe thead th {\n",
              "        text-align: right;\n",
              "    }\n",
              "</style>\n",
              "<table border=\"1\" class=\"dataframe\">\n",
              "  <thead>\n",
              "    <tr style=\"text-align: right;\">\n",
              "      <th></th>\n",
              "      <th>SEX</th>\n",
              "      <th>BTH_G</th>\n",
              "      <th>SBP</th>\n",
              "      <th>DBP</th>\n",
              "      <th>FBS</th>\n",
              "      <th>BMI</th>\n",
              "      <th>DIS</th>\n",
              "      <th>Dis</th>\n",
              "    </tr>\n",
              "  </thead>\n",
              "  <tbody>\n",
              "    <tr>\n",
              "      <th>0</th>\n",
              "      <td>0</td>\n",
              "      <td>1</td>\n",
              "      <td>90</td>\n",
              "      <td>50</td>\n",
              "      <td>86</td>\n",
              "      <td>20.1</td>\n",
              "      <td>2</td>\n",
              "      <td>1</td>\n",
              "    </tr>\n",
              "    <tr>\n",
              "      <th>1</th>\n",
              "      <td>0</td>\n",
              "      <td>1</td>\n",
              "      <td>120</td>\n",
              "      <td>80</td>\n",
              "      <td>90</td>\n",
              "      <td>27.0</td>\n",
              "      <td>3</td>\n",
              "      <td>1</td>\n",
              "    </tr>\n",
              "    <tr>\n",
              "      <th>2</th>\n",
              "      <td>0</td>\n",
              "      <td>1</td>\n",
              "      <td>100</td>\n",
              "      <td>60</td>\n",
              "      <td>112</td>\n",
              "      <td>31.8</td>\n",
              "      <td>2</td>\n",
              "      <td>1</td>\n",
              "    </tr>\n",
              "    <tr>\n",
              "      <th>3</th>\n",
              "      <td>0</td>\n",
              "      <td>1</td>\n",
              "      <td>170</td>\n",
              "      <td>120</td>\n",
              "      <td>86</td>\n",
              "      <td>23.3</td>\n",
              "      <td>2</td>\n",
              "      <td>1</td>\n",
              "    </tr>\n",
              "    <tr>\n",
              "      <th>4</th>\n",
              "      <td>0</td>\n",
              "      <td>1</td>\n",
              "      <td>135</td>\n",
              "      <td>80</td>\n",
              "      <td>104</td>\n",
              "      <td>35.0</td>\n",
              "      <td>2</td>\n",
              "      <td>1</td>\n",
              "    </tr>\n",
              "    <tr>\n",
              "      <th>...</th>\n",
              "      <td>...</td>\n",
              "      <td>...</td>\n",
              "      <td>...</td>\n",
              "      <td>...</td>\n",
              "      <td>...</td>\n",
              "      <td>...</td>\n",
              "      <td>...</td>\n",
              "      <td>...</td>\n",
              "    </tr>\n",
              "    <tr>\n",
              "      <th>1481319</th>\n",
              "      <td>1</td>\n",
              "      <td>21</td>\n",
              "      <td>130</td>\n",
              "      <td>90</td>\n",
              "      <td>185</td>\n",
              "      <td>26.3</td>\n",
              "      <td>3</td>\n",
              "      <td>1</td>\n",
              "    </tr>\n",
              "    <tr>\n",
              "      <th>1481320</th>\n",
              "      <td>1</td>\n",
              "      <td>18</td>\n",
              "      <td>140</td>\n",
              "      <td>100</td>\n",
              "      <td>120</td>\n",
              "      <td>28.8</td>\n",
              "      <td>2</td>\n",
              "      <td>1</td>\n",
              "    </tr>\n",
              "    <tr>\n",
              "      <th>1481321</th>\n",
              "      <td>0</td>\n",
              "      <td>12</td>\n",
              "      <td>100</td>\n",
              "      <td>60</td>\n",
              "      <td>101</td>\n",
              "      <td>23.0</td>\n",
              "      <td>3</td>\n",
              "      <td>1</td>\n",
              "    </tr>\n",
              "    <tr>\n",
              "      <th>1481322</th>\n",
              "      <td>1</td>\n",
              "      <td>20</td>\n",
              "      <td>134</td>\n",
              "      <td>72</td>\n",
              "      <td>168</td>\n",
              "      <td>23.1</td>\n",
              "      <td>3</td>\n",
              "      <td>1</td>\n",
              "    </tr>\n",
              "    <tr>\n",
              "      <th>1481323</th>\n",
              "      <td>1</td>\n",
              "      <td>23</td>\n",
              "      <td>140</td>\n",
              "      <td>90</td>\n",
              "      <td>116</td>\n",
              "      <td>23.7</td>\n",
              "      <td>2</td>\n",
              "      <td>1</td>\n",
              "    </tr>\n",
              "  </tbody>\n",
              "</table>\n",
              "<p>1481324 rows × 8 columns</p>\n",
              "</div>\n",
              "      <button class=\"colab-df-convert\" onclick=\"convertToInteractive('df-bd6fcc94-d593-4359-8efe-78a252183c14')\"\n",
              "              title=\"Convert this dataframe to an interactive table.\"\n",
              "              style=\"display:none;\">\n",
              "        \n",
              "  <svg xmlns=\"http://www.w3.org/2000/svg\" height=\"24px\"viewBox=\"0 0 24 24\"\n",
              "       width=\"24px\">\n",
              "    <path d=\"M0 0h24v24H0V0z\" fill=\"none\"/>\n",
              "    <path d=\"M18.56 5.44l.94 2.06.94-2.06 2.06-.94-2.06-.94-.94-2.06-.94 2.06-2.06.94zm-11 1L8.5 8.5l.94-2.06 2.06-.94-2.06-.94L8.5 2.5l-.94 2.06-2.06.94zm10 10l.94 2.06.94-2.06 2.06-.94-2.06-.94-.94-2.06-.94 2.06-2.06.94z\"/><path d=\"M17.41 7.96l-1.37-1.37c-.4-.4-.92-.59-1.43-.59-.52 0-1.04.2-1.43.59L10.3 9.45l-7.72 7.72c-.78.78-.78 2.05 0 2.83L4 21.41c.39.39.9.59 1.41.59.51 0 1.02-.2 1.41-.59l7.78-7.78 2.81-2.81c.8-.78.8-2.07 0-2.86zM5.41 20L4 18.59l7.72-7.72 1.47 1.35L5.41 20z\"/>\n",
              "  </svg>\n",
              "      </button>\n",
              "      \n",
              "  <style>\n",
              "    .colab-df-container {\n",
              "      display:flex;\n",
              "      flex-wrap:wrap;\n",
              "      gap: 12px;\n",
              "    }\n",
              "\n",
              "    .colab-df-convert {\n",
              "      background-color: #E8F0FE;\n",
              "      border: none;\n",
              "      border-radius: 50%;\n",
              "      cursor: pointer;\n",
              "      display: none;\n",
              "      fill: #1967D2;\n",
              "      height: 32px;\n",
              "      padding: 0 0 0 0;\n",
              "      width: 32px;\n",
              "    }\n",
              "\n",
              "    .colab-df-convert:hover {\n",
              "      background-color: #E2EBFA;\n",
              "      box-shadow: 0px 1px 2px rgba(60, 64, 67, 0.3), 0px 1px 3px 1px rgba(60, 64, 67, 0.15);\n",
              "      fill: #174EA6;\n",
              "    }\n",
              "\n",
              "    [theme=dark] .colab-df-convert {\n",
              "      background-color: #3B4455;\n",
              "      fill: #D2E3FC;\n",
              "    }\n",
              "\n",
              "    [theme=dark] .colab-df-convert:hover {\n",
              "      background-color: #434B5C;\n",
              "      box-shadow: 0px 1px 3px 1px rgba(0, 0, 0, 0.15);\n",
              "      filter: drop-shadow(0px 1px 2px rgba(0, 0, 0, 0.3));\n",
              "      fill: #FFFFFF;\n",
              "    }\n",
              "  </style>\n",
              "\n",
              "      <script>\n",
              "        const buttonEl =\n",
              "          document.querySelector('#df-bd6fcc94-d593-4359-8efe-78a252183c14 button.colab-df-convert');\n",
              "        buttonEl.style.display =\n",
              "          google.colab.kernel.accessAllowed ? 'block' : 'none';\n",
              "\n",
              "        async function convertToInteractive(key) {\n",
              "          const element = document.querySelector('#df-bd6fcc94-d593-4359-8efe-78a252183c14');\n",
              "          const dataTable =\n",
              "            await google.colab.kernel.invokeFunction('convertToInteractive',\n",
              "                                                     [key], {});\n",
              "          if (!dataTable) return;\n",
              "\n",
              "          const docLinkHtml = 'Like what you see? Visit the ' +\n",
              "            '<a target=\"_blank\" href=https://colab.research.google.com/notebooks/data_table.ipynb>data table notebook</a>'\n",
              "            + ' to learn more about interactive tables.';\n",
              "          element.innerHTML = '';\n",
              "          dataTable['output_type'] = 'display_data';\n",
              "          await google.colab.output.renderOutput(dataTable, element);\n",
              "          const docLink = document.createElement('div');\n",
              "          docLink.innerHTML = docLinkHtml;\n",
              "          element.appendChild(docLink);\n",
              "        }\n",
              "      </script>\n",
              "    </div>\n",
              "  </div>\n",
              "  "
            ]
          },
          "metadata": {},
          "execution_count": 50
        }
      ]
    },
    {
      "cell_type": "code",
      "source": [
        "# 1번 모델 정답 지우기\n",
        "train=df.drop(['Dis'], axis=1)\n",
        "\n",
        "# 2번 모델 정답 중 '4' 모두 지우기\n",
        "train = train.loc[train['DIS']!=4]\n",
        "train.head()"
      ],
      "metadata": {
        "colab": {
          "base_uri": "https://localhost:8080/",
          "height": 206
        },
        "id": "HTyEzkna2H-J",
        "outputId": "96b51838-c942-45cc-9dba-e0bc4a2790d2"
      },
      "execution_count": 51,
      "outputs": [
        {
          "output_type": "execute_result",
          "data": {
            "text/plain": [
              "   SEX  BTH_G  SBP  DBP  FBS   BMI  DIS\n",
              "0    0      1   90   50   86  20.1    2\n",
              "1    0      1  120   80   90  27.0    3\n",
              "2    0      1  100   60  112  31.8    2\n",
              "3    0      1  170  120   86  23.3    2\n",
              "4    0      1  135   80  104  35.0    2"
            ],
            "text/html": [
              "\n",
              "  <div id=\"df-1727f740-8c61-4c18-b665-fb34e8882d30\">\n",
              "    <div class=\"colab-df-container\">\n",
              "      <div>\n",
              "<style scoped>\n",
              "    .dataframe tbody tr th:only-of-type {\n",
              "        vertical-align: middle;\n",
              "    }\n",
              "\n",
              "    .dataframe tbody tr th {\n",
              "        vertical-align: top;\n",
              "    }\n",
              "\n",
              "    .dataframe thead th {\n",
              "        text-align: right;\n",
              "    }\n",
              "</style>\n",
              "<table border=\"1\" class=\"dataframe\">\n",
              "  <thead>\n",
              "    <tr style=\"text-align: right;\">\n",
              "      <th></th>\n",
              "      <th>SEX</th>\n",
              "      <th>BTH_G</th>\n",
              "      <th>SBP</th>\n",
              "      <th>DBP</th>\n",
              "      <th>FBS</th>\n",
              "      <th>BMI</th>\n",
              "      <th>DIS</th>\n",
              "    </tr>\n",
              "  </thead>\n",
              "  <tbody>\n",
              "    <tr>\n",
              "      <th>0</th>\n",
              "      <td>0</td>\n",
              "      <td>1</td>\n",
              "      <td>90</td>\n",
              "      <td>50</td>\n",
              "      <td>86</td>\n",
              "      <td>20.1</td>\n",
              "      <td>2</td>\n",
              "    </tr>\n",
              "    <tr>\n",
              "      <th>1</th>\n",
              "      <td>0</td>\n",
              "      <td>1</td>\n",
              "      <td>120</td>\n",
              "      <td>80</td>\n",
              "      <td>90</td>\n",
              "      <td>27.0</td>\n",
              "      <td>3</td>\n",
              "    </tr>\n",
              "    <tr>\n",
              "      <th>2</th>\n",
              "      <td>0</td>\n",
              "      <td>1</td>\n",
              "      <td>100</td>\n",
              "      <td>60</td>\n",
              "      <td>112</td>\n",
              "      <td>31.8</td>\n",
              "      <td>2</td>\n",
              "    </tr>\n",
              "    <tr>\n",
              "      <th>3</th>\n",
              "      <td>0</td>\n",
              "      <td>1</td>\n",
              "      <td>170</td>\n",
              "      <td>120</td>\n",
              "      <td>86</td>\n",
              "      <td>23.3</td>\n",
              "      <td>2</td>\n",
              "    </tr>\n",
              "    <tr>\n",
              "      <th>4</th>\n",
              "      <td>0</td>\n",
              "      <td>1</td>\n",
              "      <td>135</td>\n",
              "      <td>80</td>\n",
              "      <td>104</td>\n",
              "      <td>35.0</td>\n",
              "      <td>2</td>\n",
              "    </tr>\n",
              "  </tbody>\n",
              "</table>\n",
              "</div>\n",
              "      <button class=\"colab-df-convert\" onclick=\"convertToInteractive('df-1727f740-8c61-4c18-b665-fb34e8882d30')\"\n",
              "              title=\"Convert this dataframe to an interactive table.\"\n",
              "              style=\"display:none;\">\n",
              "        \n",
              "  <svg xmlns=\"http://www.w3.org/2000/svg\" height=\"24px\"viewBox=\"0 0 24 24\"\n",
              "       width=\"24px\">\n",
              "    <path d=\"M0 0h24v24H0V0z\" fill=\"none\"/>\n",
              "    <path d=\"M18.56 5.44l.94 2.06.94-2.06 2.06-.94-2.06-.94-.94-2.06-.94 2.06-2.06.94zm-11 1L8.5 8.5l.94-2.06 2.06-.94-2.06-.94L8.5 2.5l-.94 2.06-2.06.94zm10 10l.94 2.06.94-2.06 2.06-.94-2.06-.94-.94-2.06-.94 2.06-2.06.94z\"/><path d=\"M17.41 7.96l-1.37-1.37c-.4-.4-.92-.59-1.43-.59-.52 0-1.04.2-1.43.59L10.3 9.45l-7.72 7.72c-.78.78-.78 2.05 0 2.83L4 21.41c.39.39.9.59 1.41.59.51 0 1.02-.2 1.41-.59l7.78-7.78 2.81-2.81c.8-.78.8-2.07 0-2.86zM5.41 20L4 18.59l7.72-7.72 1.47 1.35L5.41 20z\"/>\n",
              "  </svg>\n",
              "      </button>\n",
              "      \n",
              "  <style>\n",
              "    .colab-df-container {\n",
              "      display:flex;\n",
              "      flex-wrap:wrap;\n",
              "      gap: 12px;\n",
              "    }\n",
              "\n",
              "    .colab-df-convert {\n",
              "      background-color: #E8F0FE;\n",
              "      border: none;\n",
              "      border-radius: 50%;\n",
              "      cursor: pointer;\n",
              "      display: none;\n",
              "      fill: #1967D2;\n",
              "      height: 32px;\n",
              "      padding: 0 0 0 0;\n",
              "      width: 32px;\n",
              "    }\n",
              "\n",
              "    .colab-df-convert:hover {\n",
              "      background-color: #E2EBFA;\n",
              "      box-shadow: 0px 1px 2px rgba(60, 64, 67, 0.3), 0px 1px 3px 1px rgba(60, 64, 67, 0.15);\n",
              "      fill: #174EA6;\n",
              "    }\n",
              "\n",
              "    [theme=dark] .colab-df-convert {\n",
              "      background-color: #3B4455;\n",
              "      fill: #D2E3FC;\n",
              "    }\n",
              "\n",
              "    [theme=dark] .colab-df-convert:hover {\n",
              "      background-color: #434B5C;\n",
              "      box-shadow: 0px 1px 3px 1px rgba(0, 0, 0, 0.15);\n",
              "      filter: drop-shadow(0px 1px 2px rgba(0, 0, 0, 0.3));\n",
              "      fill: #FFFFFF;\n",
              "    }\n",
              "  </style>\n",
              "\n",
              "      <script>\n",
              "        const buttonEl =\n",
              "          document.querySelector('#df-1727f740-8c61-4c18-b665-fb34e8882d30 button.colab-df-convert');\n",
              "        buttonEl.style.display =\n",
              "          google.colab.kernel.accessAllowed ? 'block' : 'none';\n",
              "\n",
              "        async function convertToInteractive(key) {\n",
              "          const element = document.querySelector('#df-1727f740-8c61-4c18-b665-fb34e8882d30');\n",
              "          const dataTable =\n",
              "            await google.colab.kernel.invokeFunction('convertToInteractive',\n",
              "                                                     [key], {});\n",
              "          if (!dataTable) return;\n",
              "\n",
              "          const docLinkHtml = 'Like what you see? Visit the ' +\n",
              "            '<a target=\"_blank\" href=https://colab.research.google.com/notebooks/data_table.ipynb>data table notebook</a>'\n",
              "            + ' to learn more about interactive tables.';\n",
              "          element.innerHTML = '';\n",
              "          dataTable['output_type'] = 'display_data';\n",
              "          await google.colab.output.renderOutput(dataTable, element);\n",
              "          const docLink = document.createElement('div');\n",
              "          docLink.innerHTML = docLinkHtml;\n",
              "          element.appendChild(docLink);\n",
              "        }\n",
              "      </script>\n",
              "    </div>\n",
              "  </div>\n",
              "  "
            ]
          },
          "metadata": {},
          "execution_count": 51
        }
      ]
    },
    {
      "cell_type": "code",
      "source": [
        "# target 설정\n",
        "# train, test 나누기\n",
        "yt = train['DIS']\n",
        "xt = train.drop(['DIS'], axis=1)\n",
        "xt = pd.DataFrame(xt)\n",
        "\n",
        "# 데이터 정규화\n",
        "# 표준 스케일러(평균 0, 분산 1)\n",
        "scaler = MinMaxScaler()\n",
        "xt = scaler.fit_transform(xt)\n",
        "\n",
        "# train, test 데이터 분할\n",
        "x_train, x_test, y_train, y_test = train_test_split(xt, yt, test_size=0.5, random_state=42)"
      ],
      "metadata": {
        "id": "jt94xnx_2Jly"
      },
      "execution_count": 52,
      "outputs": []
    },
    {
      "cell_type": "code",
      "source": [
        "xt = pd.DataFrame(xt)"
      ],
      "metadata": {
        "id": "-IxCeC7CIfbO"
      },
      "execution_count": 53,
      "outputs": []
    },
    {
      "cell_type": "code",
      "source": [
        "type(xt)"
      ],
      "metadata": {
        "colab": {
          "base_uri": "https://localhost:8080/"
        },
        "id": "RvWQPM7QIFXy",
        "outputId": "202329cb-f642-4fca-871e-bcc219222be0"
      },
      "execution_count": 54,
      "outputs": [
        {
          "output_type": "execute_result",
          "data": {
            "text/plain": [
              "pandas.core.frame.DataFrame"
            ]
          },
          "metadata": {},
          "execution_count": 54
        }
      ]
    },
    {
      "cell_type": "code",
      "source": [
        "feature_name = xt.columns"
      ],
      "metadata": {
        "id": "WjcvX4SeJdio"
      },
      "execution_count": 56,
      "outputs": []
    },
    {
      "cell_type": "code",
      "source": [
        "feature_name"
      ],
      "metadata": {
        "colab": {
          "base_uri": "https://localhost:8080/"
        },
        "id": "AFmYf84nNrVg",
        "outputId": "b8969526-9f89-4414-d958-2a5b84d18116"
      },
      "execution_count": 73,
      "outputs": [
        {
          "output_type": "execute_result",
          "data": {
            "text/plain": [
              "RangeIndex(start=0, stop=6, step=1)"
            ]
          },
          "metadata": {},
          "execution_count": 73
        }
      ]
    },
    {
      "cell_type": "code",
      "source": [
        "# 설명변수명 리스트\n",
        "feature_name = xt.columns\n",
        "plt.figure(figsize=(30, 30))\n",
        "for col_idx in range(len(feature_name)):\n",
        "    # 6행 2열 서브플롯에 각 feature 박스플롯 시각화\n",
        "    plt.subplot(6, 2, col_idx+1)\n",
        "    # 레드 와인에 해당하는 데이터 histogram 시각화\n",
        "    plt.hist(df[df[\"target\"] == 0][feature_name[col_idx]], label = \"Red wine\", alpha = 0.5)\n",
        "    # 화이트 와인에 해당하는 데이터 histogram 시각화\n",
        "    plt.hist(df[df[\"target\"] == 1][feature_name[col_idx]], label = \"White wine\", alpha = 0.5)\n",
        "    plt.legend()\n",
        "    # 그래프 타이틀: feature name\n",
        "    plt.title(\"Feature: \"+ feature_name[col_idx], fontsize = 20)\n",
        "plt.savefig('/content/drive/MyDrive/슬기로운 건강생활/relationship.png')\n",
        "plt.show()"
      ],
      "metadata": {
        "id": "bb7t8eIAH7mY"
      },
      "execution_count": null,
      "outputs": []
    },
    {
      "cell_type": "code",
      "source": [
        "# 기본 모델 구성\n",
        "def modeling_uncustomized (algorithm, x_train, y_train, x_test, y_test):\n",
        "    # 하이퍼파라미터 조정 없이 모델 학습\n",
        "    uncustomized = algorithm(random_state=1234)\n",
        "    uncustomized.fit(x_train, y_train)\n",
        "    # Train Data 설명력\n",
        "    train_score_before = uncustomized.score(x_train, y_train).round(3)\n",
        "    print(f\"학습 데이터셋 정확도: {train_score_before}\")\n",
        "    # Test Data 설명력\n",
        "    test_score_before = uncustomized.score(x_test, y_test).round(3)\n",
        "    print(f\"테스트 데이터셋 정확도: {test_score_before}\")\n",
        "\n",
        "    y_pred = uncustomized.predict(x_test)\n",
        "    print(f\"Accuracy: {accuracy_score(y_test, y_pred):.3f}\") # 정확도\n",
        "    print(f\"Precision: {precision_score(y_test, y_pred,average='micro'):.3f}\") # 정밀도\n",
        "    print(f\"Recall: {recall_score(y_test, y_pred,average='micro'):.3f}\") # 재현율\n",
        "    print(f\"F1-score: {f1_score(y_test, y_pred,average='micro'):.3f}\") # F1 스코어\n",
        "    print(classification_report(y_test, y_pred))\n",
        "\n",
        "\n",
        "#    return train_score_before, test_score_before\n",
        "\n",
        "        # 최종 모델의 성능 평가\n",
        "\n",
        "    # 혼동행렬 시각화\n",
        "    plt.figure(figsize =(30, 30))\n",
        "    plot_confusion_matrix(uncustomized, \n",
        "                         x_test, y_test,\n",
        "                         include_values = True,\n",
        "                         display_labels = ['1', '2','3'], # 목표변수 이름\n",
        "                         values_format='d',\n",
        "                         cmap = 'Pastel1') # 컬러맵\n",
        "    plt.savefig('/content/drive/MyDrive/슬기로운 건강생활/' + algorithm_name + '_confusion_matrix(1).png') # 혼동행렬 자료 저장\n",
        "    plt.show()"
      ],
      "metadata": {
        "id": "a8_PJzEw2LNp"
      },
      "execution_count": 76,
      "outputs": []
    },
    {
      "cell_type": "code",
      "source": [
        "# 하이퍼 파라미터별 성능 시각화\n",
        "def optimi_visualization(algorithm_name, x_values, train_score, test_score, xlabel, filename):\n",
        "    # 하이퍼파라미터 조정에 따른 학습 데이터셋 기반 모델 성능 추이 시각화\n",
        "    plt.plot(x_values, train_score, linestyle = '-', label = 'train score')\n",
        "    # 하이퍼파라미터 조정에 따른 테스트 데이터셋 기반 모델 성능 추이 시각화\n",
        "    plt.plot(x_values, test_score, linestyle = '--', label = 'test score')\n",
        "    plt.ylabel('Accuracy(%)') # y축 라벨\n",
        "    plt.xlabel(xlabel) # x축 라벨\n",
        "    plt.legend() # 범례표시\n",
        "    plt.savefig('/content/drive/MyDrive/슬기로운 건강생활/' + algorithm_name + '_' + filename + '.png') # 시각화한 그래프는 로컬에 저장"
      ],
      "metadata": {
        "id": "ZM0fg7QV2PqF"
      },
      "execution_count": 26,
      "outputs": []
    },
    {
      "cell_type": "markdown",
      "source": [
        "# 모델 최적화 함수\n",
        "## (1) 학습할 트리 모델 개수 선정"
      ],
      "metadata": {
        "id": "QWY_p_UE3fAw"
      }
    },
    {
      "cell_type": "code",
      "source": [
        "def optimi_estimator(algorithm, algorithm_name, x_train, y_train, x_test, y_test, n_estimator_min, n_estimator_max):\n",
        "    train_score = []; test_score =[]\n",
        "    para_n_tree = [n_tree*5 for n_tree in range(n_estimator_min, n_estimator_max)]\n",
        "\n",
        "    for v_n_estimators in para_n_tree:\n",
        "        model = algorithm(n_estimators = v_n_estimators, random_state=1234)\n",
        "        model.fit(x_train, y_train)\n",
        "        train_score.append(model.score(x_train, y_train))\n",
        "        test_score.append(model.score(x_test, y_test))\n",
        "\n",
        "    # 트리 개수에 따른 모델 성능 저장\n",
        "    df_score_n = pd.DataFrame({'n_estimators': para_n_tree, 'TrainScore': train_score, 'TestScore': test_score})\n",
        "    # 트리 개수에 따른 모델 성능 추이 시각화 함수 호출\n",
        "    optimi_visualization(algorithm_name, para_n_tree, train_score, test_score, \"The number of estimator\", \"n_estimator\")\n",
        "    print(round(df_score_n, 4))"
      ],
      "metadata": {
        "id": "fkteMG2b3hSo"
      },
      "execution_count": 12,
      "outputs": []
    },
    {
      "cell_type": "markdown",
      "source": [
        "## (2) 최대 깊이 선정"
      ],
      "metadata": {
        "id": "6TJXqdO33q-5"
      }
    },
    {
      "cell_type": "code",
      "source": [
        "def optimi_maxdepth (algorithm, algorithm_name, x_train, y_train, x_test, y_test, depth_min, depth_max, n_estimator):\n",
        "    train_score = []; test_score = []\n",
        "    para_depth = [depth for depth in range(depth_min, depth_max)]\n",
        "\n",
        "    for v_max_depth in para_depth:\n",
        "        # 의사결정나무 모델의 경우 트리 개수를 따로 설정하지 않기 때문에 RFC, GBC와 분리하여 모델링\n",
        "        if algorithm == DTC:\n",
        "            model = algorithm(max_depth = v_max_depth,\n",
        "                              random_state=1234)\n",
        "        else:\n",
        "            model = algorithm(max_depth = v_max_depth,\n",
        "                              n_estimators = n_estimator,\n",
        "                              random_state=1234)\n",
        "        \n",
        "        model.fit(x_train, y_train)\n",
        "        train_score.append(model.score(x_train, y_train))\n",
        "        test_score.append(model.score(x_test, y_test))\n",
        "\n",
        "    # 최대 깊이에 따른 모델 성능 저장\n",
        "    df_score_n = pd.DataFrame({'depth': para_depth, 'TrainScore': train_score, 'TestScore': test_score})\n",
        "    # 최대 깊이에 따른 모델 성능 추이 시각화 함수 호출\n",
        "    optimi_visualization(algorithm_name, para_depth, train_score, test_score, \"The number of depth\", \"n_depth\")\n",
        "    print(round(df_score_n, 4))"
      ],
      "metadata": {
        "id": "umWfNIdL3w1D"
      },
      "execution_count": 13,
      "outputs": []
    },
    {
      "cell_type": "markdown",
      "source": [
        "## (3) 분리 노드의 최소 자료 수 선정\n"
      ],
      "metadata": {
        "id": "Gdz_dujh31CP"
      }
    },
    {
      "cell_type": "code",
      "source": [
        "def optimi_minsplit (algorithm, algorithm_name, x_train, y_train, x_test, y_test, n_split_min, n_split_max, n_estimator, n_depth):\n",
        "    train_score = []; test_score = []\n",
        "    para_split = [n_split*2 for n_split in range(n_split_min, n_split_max)]\n",
        "    for v_min_samples_split in para_split:\n",
        "        # 의사결정나무 모델의 경우 트리 개수를 따로 설정하지 않기 때문에 RFC, GBC와 분리하여 모델링\n",
        "        if algorithm == DTC:\n",
        "            model = algorithm(min_samples_split = v_min_samples_split,\n",
        "                              max_depth = n_depth,\n",
        "                              random_state = 1234)\n",
        "        else:\n",
        "            model = algorithm(min_samples_split = v_min_samples_split,\n",
        "                              n_estimators = n_estimator,\n",
        "                              max_depth = n_depth,\n",
        "                              random_state = 1234)\n",
        "        model.fit(x_train, y_train)\n",
        "        train_score.append(model.score(x_train, y_train))\n",
        "        test_score.append(model.score(x_test, y_test))\n",
        "\n",
        "    # 분리 노드의 최소 자료 수에 따른 모델 성능 저장\n",
        "    df_score_n = pd.DataFrame({'min_samples_split': para_split, 'TrainScore': train_score, 'TestScore': test_score})\n",
        "    # 분리 노드의 최소 자료 수에 따른 모델 성능 추이 시각화 함수 호출\n",
        "    optimi_visualization(algorithm_name, para_split, train_score, test_score, \"The minimum number of samples required to split an internal node\", \"min_samples_split\")\n",
        "    print(round(df_score_n, 4))"
      ],
      "metadata": {
        "id": "B_hRGNeM3zgL"
      },
      "execution_count": 14,
      "outputs": []
    },
    {
      "cell_type": "markdown",
      "source": [
        "## (4) 잎사귀 노드의 최소 자료 수 선정\n"
      ],
      "metadata": {
        "id": "MQcuXzMN37uk"
      }
    },
    {
      "cell_type": "code",
      "source": [
        "def optimi_minleaf(algorithm, algorithm_name, x_train, y_train, x_test, y_test, n_leaf_min, n_leaf_max, n_estimator, n_depth, n_split):\n",
        "    train_score = []; test_score = []\n",
        "    para_leaf = [n_leaf*2 for n_leaf in range(n_leaf_min, n_leaf_max)]\n",
        "\n",
        "    for v_min_samples_leaf in para_leaf:\n",
        "        # 의사결정나무 모델의 경우 트리 개수를 따로 설정하지 않기 때문에 RFC, GBC와 분리하여 모델링\n",
        "        if algorithm == DTC:\n",
        "            model = algorithm(min_samples_leaf = v_min_samples_leaf,\n",
        "                                        max_depth = n_depth,\n",
        "                                        min_samples_split = n_split,\n",
        "                                        random_state=1234)\n",
        "        else:\n",
        "            model = algorithm(min_samples_leaf = v_min_samples_leaf,\n",
        "                                n_estimators = n_estimator,\n",
        "                                max_depth = n_depth,\n",
        "                                min_samples_split = n_split,\n",
        "                                random_state=1234)\n",
        "        model.fit(x_train, y_train)\n",
        "        train_score.append(model.score(x_train, y_train))\n",
        "        test_score.append(model.score(x_test, y_test))\n",
        "\n",
        "    # 잎사귀 노드의 최소 자료 수에 따른 모델 성능 저장\n",
        "    df_score_n = pd.DataFrame({'min_samples_leaf': para_leaf, 'TrainScore': train_score, 'TestScore': test_score})\n",
        "    # 잎사귀 노드의 최소 자료 수에 따른 모델 성능 추이 시각화 함수 호출\n",
        "    optimi_visualization(algorithm_name, para_leaf, train_score, test_score, \"The minimum number of samples required to be at a leaf node\", \"min_samples_leaf\")\n",
        "    print(round(df_score_n, 4))"
      ],
      "metadata": {
        "id": "BXWAW9EB3-RB"
      },
      "execution_count": 15,
      "outputs": []
    },
    {
      "cell_type": "markdown",
      "source": [
        "# 최종 모델 학습"
      ],
      "metadata": {
        "id": "6A0yjDcJ4DDG"
      }
    },
    {
      "cell_type": "code",
      "source": [
        "def model_final(algorithm, algorithm_name, feature_name, x_train, y_train, x_test, y_test, n_estimator, n_depth, n_split, n_leaf):\n",
        "    # 의사결정나무 모델의 경우 트리 개수를 따로 설정하지 않기 때문에 RFC, GBC와 분리하여 모델링\n",
        "    if algorithm == DTC:\n",
        "        model = algorithm(random_state=1234, \n",
        "                          min_samples_leaf = n_leaf,\n",
        "                          min_samples_split = n_split, \n",
        "                          max_depth = n_depth)\n",
        "    else:\n",
        "        model = algorithm(random_state = 1234, \n",
        "                          n_estimators = n_estimator, \n",
        "                          min_samples_leaf = n_leaf,\n",
        "                          min_samples_split = n_split, \n",
        "                          max_depth = n_depth)\n",
        "    # 모델 학습\n",
        "    model.fit(x_train, y_train)\n",
        "    # 모델 저장\n",
        "    model_path = '/content/drive/MyDrive/슬기로운 건강생활/'\n",
        "    model_filename = 'wine_classification_' + algorithm_name + '.pkl'\n",
        "    with open(model_path + model_filename, 'wb') as f:\n",
        "        pickle.dump(model, f)\n",
        "    print(f\"최종 모델 저장 완료! 파일 경로: {model_path + model_filename}\\n\")\n",
        "    \n",
        "    # 최종 모델의 성능 평가\n",
        "    train_acc = model.score(x_train, y_train)\n",
        "    test_acc = model.score(x_test, y_test)\n",
        "    y_pred = model.predict(x_test)\n",
        "    print(f\"Accuracy: {accuracy_score(y_test, y_pred):.3f}\") # 정확도\n",
        "    print(f\"Precision: {precision_score(y_test, y_pred,average='micro'):.3f}\") # 정밀도\n",
        "    print(f\"Recall: {recall_score(y_test, y_pred,average='micro'):.3f}\") # 재현율\n",
        "    print(f\"F1-score: {f1_score(y_test, y_pred,average='micro'):.3f}\") # F1 스코어\n",
        "    print(classification_report(y_test, y_pred))\n",
        "    \n",
        "    # 혼동행렬 시각화\n",
        "    plt.figure(figsize =(30, 30))\n",
        "    plot_confusion_matrix(model, \n",
        "                         x_test, y_test,\n",
        "                         include_values = True,\n",
        "                         display_labels = ['1', '2','3'], # 목표변수 이름\n",
        "                         values_format='d',\n",
        "                         cmap = 'Pastel1') # 컬러맵\n",
        "    plt.savefig('/content/drive/MyDrive/슬기로운 건강생활/' + algorithm_name + '_confusion_matrix.png') # 혼동행렬 자료 저장\n",
        "    plt.show()\n",
        "    \n",
        "    # 변수 중요도 산출\n",
        "    dt_importance = pd.DataFrame()\n",
        "    dt_importance['Feature'] = feature_name # 설명변수 이름\n",
        "    dt_importance['Importance'] = model.feature_importances_ # 설명변수 중요도 산출\n",
        "\n",
        "    # 변수 중요도 내림차순 정렬\n",
        "    dt_importance.sort_values(\"Importance\", ascending = False, inplace = True)\n",
        "    print(dt_importance.round(3))\n",
        "    # 변수 중요도 오름차순 정렬\n",
        "    dt_importance.sort_values(\"Importance\", ascending = True, inplace = True)\n",
        "    # 변수 중요도 시각화\n",
        "    coordinates = range(len(dt_importance)) # 설명변수 개수만큼 bar 시각화\n",
        "    plt.barh(y = coordinates, width = dt_importance[\"Importance\"])\n",
        "    plt.yticks(coordinates, dt_importance[\"Feature\"]) # y축 눈금별 설명변수 이름 기입\n",
        "    plt.xlabel(\"Feature Importance\") # x축 이름\n",
        "    plt.ylabel(\"Features\") # y축 이름\n",
        "    plt.savefig('/content/drive/MyDrive/슬기로운 건강생활/' + algorithm_name + '_feature_importance.png') # 변수 중요도 그래프 저장\n",
        "\n",
        "\n",
        "    # #ROC 그래프\n",
        "    \n",
        "    # fpr, tpr, thresholds = roc_curve(y_test, y_pred)\n",
        "    # plt.plot([0, 1], [0, 1], \"k--\", label = '50% AUC')\n",
        "    # plt.plot(fpr, tpr, label = \"Random_classifier\")\n",
        "    # plt.xlabel(\"FPR\")\n",
        "    # plt.ylabel(\"TPR\")\n",
        "    # plt.title(\"ROC Curve - SGD_classifier\")\n",
        "    # plt.show()"
      ],
      "metadata": {
        "id": "dZKv2pQI4Cmo"
      },
      "execution_count": 83,
      "outputs": []
    },
    {
      "cell_type": "markdown",
      "source": [
        "# 기본 모델 학습"
      ],
      "metadata": {
        "id": "7kbdky9u2YMr"
      }
    },
    {
      "cell_type": "code",
      "source": [
        "# 랜덤포레스트 분류 알고리즘\n",
        "algorithm = RFC\n",
        "algorithm_name = 'rfc'"
      ],
      "metadata": {
        "id": "jdPo2uPl2Ss7"
      },
      "execution_count": 10,
      "outputs": []
    },
    {
      "cell_type": "code",
      "source": [
        "train_acc_before, test_acc_before = modeling_uncustomized(algorithm, \n",
        "                                                          x_train,\n",
        "                                                          y_train,\n",
        "                                                          x_test,\n",
        "                                                          y_test)"
      ],
      "metadata": {
        "colab": {
          "base_uri": "https://localhost:8080/"
        },
        "id": "uJesWTTn2Z3A",
        "outputId": "5cd7c2a9-d185-439d-e16b-a606500c5219"
      },
      "execution_count": 11,
      "outputs": [
        {
          "output_type": "stream",
          "name": "stdout",
          "text": [
            "학습 데이터셋 정확도: 0.999\n",
            "테스트 데이터셋 정확도: 0.915\n"
          ]
        }
      ]
    },
    {
      "cell_type": "code",
      "source": [
        "train_acc_before, test_acc_before = modeling_uncustomized(algorithm, \n",
        "                                                          x_train,\n",
        "                                                          y_train,\n",
        "                                                          x_test,\n",
        "                                                          y_test)"
      ],
      "metadata": {
        "colab": {
          "base_uri": "https://localhost:8080/",
          "height": 835
        },
        "id": "jNhJ-qW-Oiio",
        "outputId": "e114a438-2167-422c-9369-511416accc2b"
      },
      "execution_count": 77,
      "outputs": [
        {
          "output_type": "stream",
          "name": "stdout",
          "text": [
            "학습 데이터셋 정확도: 0.999\n",
            "테스트 데이터셋 정확도: 0.915\n",
            "Accuracy: 0.915\n",
            "Precision: 0.915\n",
            "Recall: 0.915\n",
            "F1-score: 0.915\n",
            "              precision    recall  f1-score   support\n",
            "\n",
            "           1       0.90      0.92      0.91    123415\n",
            "           2       0.92      0.87      0.90    123510\n",
            "           3       0.93      0.95      0.94    123406\n",
            "\n",
            "    accuracy                           0.92    370331\n",
            "   macro avg       0.92      0.92      0.91    370331\n",
            "weighted avg       0.92      0.92      0.91    370331\n",
            "\n"
          ]
        },
        {
          "output_type": "stream",
          "name": "stderr",
          "text": [
            "/usr/local/lib/python3.7/dist-packages/sklearn/utils/deprecation.py:87: FutureWarning: Function plot_confusion_matrix is deprecated; Function `plot_confusion_matrix` is deprecated in 1.0 and will be removed in 1.2. Use one of the class methods: ConfusionMatrixDisplay.from_predictions or ConfusionMatrixDisplay.from_estimator.\n",
            "  warnings.warn(msg, category=FutureWarning)\n"
          ]
        },
        {
          "output_type": "display_data",
          "data": {
            "text/plain": [
              "<Figure size 2160x2160 with 0 Axes>"
            ]
          },
          "metadata": {}
        },
        {
          "output_type": "display_data",
          "data": {
            "text/plain": [
              "<Figure size 432x288 with 2 Axes>"
            ],
            "image/png": "[encoded data removed]"
          },
          "metadata": {
            "needs_background": "light"
          }
        },
        {
          "output_type": "error",
          "ename": "TypeError",
          "evalue": "ignored",
          "traceback": [
            "\u001b[0;31m---------------------------------------------------------------------------\u001b[0m",
            "\u001b[0;31mTypeError\u001b[0m                                 Traceback (most recent call last)",
            "\u001b[0;32m<ipython-input-77-48f60cbfd29f>\u001b[0m in \u001b[0;36m<module>\u001b[0;34m()\u001b[0m\n\u001b[1;32m      3\u001b[0m                                                           \u001b[0my_train\u001b[0m\u001b[0;34m,\u001b[0m\u001b[0;34m\u001b[0m\u001b[0;34m\u001b[0m\u001b[0m\n\u001b[1;32m      4\u001b[0m                                                           \u001b[0mx_test\u001b[0m\u001b[0;34m,\u001b[0m\u001b[0;34m\u001b[0m\u001b[0;34m\u001b[0m\u001b[0m\n\u001b[0;32m----> 5\u001b[0;31m                                                           y_test)\n\u001b[0m",
            "\u001b[0;31mTypeError\u001b[0m: cannot unpack non-iterable NoneType object"
          ]
        }
      ]
    },
    {
      "cell_type": "markdown",
      "source": [
        "# 최적화 모델 학습\n",
        "## 그리드서치"
      ],
      "metadata": {
        "id": "ibBtq9AM4ZSH"
      }
    },
    {
      "cell_type": "code",
      "source": [
        "from sklearn.ensemble import RandomForestClassifier\n",
        "from sklearn.model_selection import GridSearchCV\n",
        "\n",
        "params = {'n_estimators' : [30, 40, 50],  #100\n",
        "          'max_depth' : [8, 9],   #8, 10, 12\n",
        "          'min_samples_leaf' : [35],\n",
        "          'min_samples_split' : [2]\n",
        "          }\n",
        "\n",
        "# RandomForestClassifier 객체 생성 후 GridSearchCV 수행\n",
        "rf_clf = RandomForestClassifier(n_jobs = -1) #random_state = 2022\n",
        "#algorithm\n",
        "grid_cv = GridSearchCV(rf_clf,\n",
        "                       param_grid = params,\n",
        "                       cv = 3, \n",
        "                       n_jobs = -1)\n",
        "grid_cv.fit(x_train, y_train)\n",
        "\n",
        "print('최적 하이퍼 파라미터: ', grid_cv.best_params_)\n",
        "print('최고 예측 정확도: {:.4f}'.format(grid_cv.best_score_))"
      ],
      "metadata": {
        "colab": {
          "base_uri": "https://localhost:8080/"
        },
        "id": "C1TbdXbt7B9L",
        "outputId": "841ef699-d422-41a2-8b16-24c4b533c8a5"
      },
      "execution_count": 20,
      "outputs": [
        {
          "output_type": "stream",
          "name": "stdout",
          "text": [
            "최적 하이퍼 파라미터:  {'max_depth': 9, 'min_samples_leaf': 35, 'min_samples_split': 2, 'n_estimators': 50}\n",
            "최고 예측 정확도: 0.5824\n"
          ]
        }
      ]
    },
    {
      "cell_type": "markdown",
      "source": [
        "## (1) 트리 개수\n",
        "- 트리 개수는 많을수록 과적합 방지에 유리"
      ],
      "metadata": {
        "id": "l6J1QE427Dma"
      }
    },
    {
      "cell_type": "code",
      "source": [
        "n_estimator_min = 1\n",
        "n_estimator_max = 10\n",
        "optimi_estimator(algorithm, algorithm_name, \n",
        "                 x_train, y_train, x_test, y_test, \n",
        "                 n_estimator_min, n_estimator_max)"
      ],
      "metadata": {
        "colab": {
          "base_uri": "https://localhost:8080/",
          "height": 461
        },
        "id": "a5tZv-RH4dVt",
        "outputId": "285a34f1-fadc-4409-eb76-82783755d242"
      },
      "execution_count": 30,
      "outputs": [
        {
          "output_type": "stream",
          "name": "stdout",
          "text": [
            "   n_estimators  TrainScore  TestScore\n",
            "0             5      0.9882     0.8842\n",
            "1            10      0.9951     0.8999\n",
            "2            15      0.9970     0.9057\n",
            "3            20      0.9977     0.9085\n",
            "4            25      0.9981     0.9104\n",
            "5            30      0.9983     0.9116\n",
            "6            35      0.9984     0.9123\n",
            "7            40      0.9984     0.9129\n",
            "8            45      0.9985     0.9135\n"
          ]
        },
        {
          "output_type": "display_data",
          "data": {
            "text/plain": [
              "<Figure size 432x288 with 1 Axes>"
            ],
            "image/png": "[encoded data removed]"
          },
          "metadata": {
            "needs_background": "light"
          }
        }
      ]
    },
    {
      "cell_type": "code",
      "source": [
        "n_estimator = 15"
      ],
      "metadata": {
        "id": "Kf5gw1g74e92"
      },
      "execution_count": 32,
      "outputs": []
    },
    {
      "cell_type": "markdown",
      "source": [
        "## (2) 최대 깊이\n",
        "- 최대 깊이는 적을수록 과적합 방지에 유리"
      ],
      "metadata": {
        "id": "mrCYeaPh6vcI"
      }
    },
    {
      "cell_type": "code",
      "source": [
        "depth_min = 10\n",
        "depth_max = 30\n",
        "optimi_maxdepth(algorithm, algorithm_name, \n",
        "                x_train, y_train, x_test, y_test, \n",
        "                depth_min, depth_max, n_estimator)"
      ],
      "metadata": {
        "colab": {
          "base_uri": "https://localhost:8080/",
          "height": 660
        },
        "id": "uJh7SOy_6u-A",
        "outputId": "fbfbe36a-ce0a-41f4-8bd1-5d422f98b8fc"
      },
      "execution_count": 33,
      "outputs": [
        {
          "output_type": "stream",
          "name": "stdout",
          "text": [
            "    depth  TrainScore  TestScore\n",
            "0      10      0.5990     0.5897\n",
            "1      11      0.6177     0.6018\n",
            "2      12      0.6429     0.6187\n",
            "3      13      0.6777     0.6427\n",
            "4      14      0.7227     0.6747\n",
            "5      15      0.7694     0.7091\n",
            "6      16      0.8136     0.7433\n",
            "7      17      0.8607     0.7812\n",
            "8      18      0.8988     0.8122\n",
            "9      19      0.9279     0.8386\n",
            "10     20      0.9513     0.8603\n",
            "11     21      0.9684     0.8772\n",
            "12     22      0.9794     0.8873\n",
            "13     23      0.9870     0.8947\n",
            "14     24      0.9910     0.8991\n",
            "15     25      0.9939     0.9022\n",
            "16     26      0.9952     0.9043\n",
            "17     27      0.9959     0.9046\n",
            "18     28      0.9963     0.9055\n",
            "19     29      0.9966     0.9062\n"
          ]
        },
        {
          "output_type": "display_data",
          "data": {
            "text/plain": [
              "<Figure size 432x288 with 1 Axes>"
            ],
            "image/png": "[encoded data removed]"
          },
          "metadata": {
            "needs_background": "light"
          }
        }
      ]
    },
    {
      "cell_type": "code",
      "source": [
        "n_depth = 25"
      ],
      "metadata": {
        "id": "yLVGJGIqAx9T"
      },
      "execution_count": 34,
      "outputs": []
    },
    {
      "cell_type": "markdown",
      "source": [
        "## (3) 분리 노드의 최소 자료 수\n",
        "- 분리 노드의 최소 자료 수는 많을수록 과적합 방지에 유리"
      ],
      "metadata": {
        "id": "ekK_m7SvA0_l"
      }
    },
    {
      "cell_type": "code",
      "source": [
        "n_split_min = 1\n",
        "n_split_max = 10\n",
        "# 데이터프레임 행 최대 100개까지 반드시 출력\n",
        "pd.set_option('display.max_row', 100)\n",
        "optimi_minsplit (algorithm, algorithm_name,\n",
        "                 x_train, y_train, x_test, y_test,\n",
        "                 n_split_min, n_split_max, n_estimator, n_depth)"
      ],
      "metadata": {
        "colab": {
          "base_uri": "https://localhost:8080/",
          "height": 461
        },
        "id": "25t3x-P9AyeO",
        "outputId": "5b564a8d-59c4-4364-a97a-5db1430b683b"
      },
      "execution_count": 35,
      "outputs": [
        {
          "output_type": "stream",
          "name": "stdout",
          "text": [
            "   min_samples_split  TrainScore  TestScore\n",
            "0                  2      0.9939     0.9022\n",
            "1                  4      0.9858     0.8908\n",
            "2                  6      0.9721     0.8740\n",
            "3                  8      0.9578     0.8574\n",
            "4                 10      0.9441     0.8437\n",
            "5                 12      0.9311     0.8309\n",
            "6                 14      0.9167     0.8172\n",
            "7                 16      0.9030     0.8054\n",
            "8                 18      0.8908     0.7953\n"
          ]
        },
        {
          "output_type": "display_data",
          "data": {
            "text/plain": [
              "<Figure size 432x288 with 1 Axes>"
            ],
            "image/png": "[encoded data removed]"
          },
          "metadata": {
            "needs_background": "light"
          }
        }
      ]
    },
    {
      "cell_type": "code",
      "source": [
        "n_split = 2"
      ],
      "metadata": {
        "id": "B9XhEoKm9Vl1"
      },
      "execution_count": 36,
      "outputs": []
    },
    {
      "cell_type": "markdown",
      "source": [
        "## (4) 잎사귀 노드의 최소 자료 수\n",
        "- 잎사귀 노드의 최소 자료 수는 많을수록 과적합 방지에 유리"
      ],
      "metadata": {
        "id": "U43-qAwRGtyL"
      }
    },
    {
      "cell_type": "code",
      "source": [
        "n_leaf_min = 1\n",
        "n_leaf_max = 10\n",
        "optimi_minleaf(algorithm, algorithm_name, \n",
        "               x_train, y_train, x_test, y_test, \n",
        "               n_leaf_min, n_leaf_max, n_estimator, n_depth, n_split)"
      ],
      "metadata": {
        "colab": {
          "base_uri": "https://localhost:8080/",
          "height": 461
        },
        "id": "sjwq-Uh9Gw9x",
        "outputId": "630a48f0-597d-4a27-927c-4a252ed3712e"
      },
      "execution_count": 37,
      "outputs": [
        {
          "output_type": "stream",
          "name": "stdout",
          "text": [
            "   min_samples_leaf  TrainScore  TestScore\n",
            "0                 2      0.9669     0.8661\n",
            "1                 4      0.9160     0.8163\n",
            "2                 6      0.8740     0.7800\n",
            "3                 8      0.8374     0.7503\n",
            "4                10      0.8074     0.7276\n",
            "5                12      0.7811     0.7093\n",
            "6                14      0.7603     0.6943\n",
            "7                16      0.7416     0.6818\n",
            "8                18      0.7269     0.6722\n"
          ]
        },
        {
          "output_type": "display_data",
          "data": {
            "text/plain": [
              "<Figure size 432x288 with 1 Axes>"
            ],
            "image/png": "[encoded data removed]"
          },
          "metadata": {
            "needs_background": "light"
          }
        }
      ]
    },
    {
      "cell_type": "code",
      "source": [
        "n_leaf = 2"
      ],
      "metadata": {
        "id": "6FK6mdgIHTc_"
      },
      "execution_count": 38,
      "outputs": []
    },
    {
      "cell_type": "markdown",
      "source": [
        "# 최종모델 학습\n",
        "- 다중 분류는 ROC 곡선 시각화 불가능"
      ],
      "metadata": {
        "id": "F9f14e_QHdAU"
      }
    },
    {
      "cell_type": "code",
      "source": [
        "model_final(algorithm, algorithm_name, feature_name,\n",
        "            x_train, y_train, x_test, y_test,\n",
        "            n_estimator, n_depth, n_split, n_leaf)"
      ],
      "metadata": {
        "colab": {
          "base_uri": "https://localhost:8080/",
          "height": 1000
        },
        "id": "k50_2gJ9HgUd",
        "outputId": "94d1f183-cc50-4f21-aed3-619b9abef5df"
      },
      "execution_count": 84,
      "outputs": [
        {
          "output_type": "stream",
          "name": "stdout",
          "text": [
            "최종 모델 저장 완료! 파일 경로: /content/drive/MyDrive/슬기로운 건강생활/wine_classification_rfc.pkl\n",
            "\n",
            "Accuracy: 0.866\n",
            "Precision: 0.866\n",
            "Recall: 0.866\n",
            "F1-score: 0.866\n",
            "              precision    recall  f1-score   support\n",
            "\n",
            "           1       0.86      0.86      0.86    123415\n",
            "           2       0.84      0.84      0.84    123510\n",
            "           3       0.89      0.90      0.89    123406\n",
            "\n",
            "    accuracy                           0.87    370331\n",
            "   macro avg       0.87      0.87      0.87    370331\n",
            "weighted avg       0.87      0.87      0.87    370331\n",
            "\n"
          ]
        },
        {
          "output_type": "stream",
          "name": "stderr",
          "text": [
            "/usr/local/lib/python3.7/dist-packages/sklearn/utils/deprecation.py:87: FutureWarning: Function plot_confusion_matrix is deprecated; Function `plot_confusion_matrix` is deprecated in 1.0 and will be removed in 1.2. Use one of the class methods: ConfusionMatrixDisplay.from_predictions or ConfusionMatrixDisplay.from_estimator.\n",
            "  warnings.warn(msg, category=FutureWarning)\n"
          ]
        },
        {
          "output_type": "display_data",
          "data": {
            "text/plain": [
              "<Figure size 2160x2160 with 0 Axes>"
            ]
          },
          "metadata": {}
        },
        {
          "output_type": "display_data",
          "data": {
            "text/plain": [
              "<Figure size 432x288 with 2 Axes>"
            ],
            "image/png": "[encoded data removed]"
          },
          "metadata": {
            "needs_background": "light"
          }
        },
        {
          "output_type": "stream",
          "name": "stdout",
          "text": [
            "   Feature  Importance\n",
            "4        4       0.329\n",
            "5        5       0.228\n",
            "2        2       0.152\n",
            "3        3       0.135\n",
            "1        1       0.129\n",
            "0        0       0.027\n"
          ]
        },
        {
          "output_type": "display_data",
          "data": {
            "text/plain": [
              "<Figure size 432x288 with 1 Axes>"
            ],
            "image/png": "[encoded data removed]"
          },
          "metadata": {
            "needs_background": "light"
          }
        }
      ]
    },
    {
      "cell_type": "code",
      "source": [
        ""
      ],
      "metadata": {
        "id": "maxB5pgyLuSf"
      },
      "execution_count": null,
      "outputs": []
    },
    {
      "cell_type": "markdown",
      "source": [
        "# Reference\n",
        "1. [시각화 부동소수점 변경](https://stackoverflow.com/questions/59990375/plot-confusioin-matrix-plot-is-not-showing-integer-value-instead-it-is-showing-s)\n",
        "2. [ValueError: Target is multiclass but average='binary'. Please choose another average setting, one of [None, 'micro', 'macro', 'weighted'].](https://magicode.tistory.com/38)"
      ],
      "metadata": {
        "id": "glnxU7b9NaZQ"
      }
    }
  ]
}