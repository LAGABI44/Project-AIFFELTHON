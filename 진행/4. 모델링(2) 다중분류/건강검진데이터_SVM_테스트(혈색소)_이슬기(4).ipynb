{
  "nbformat": 4,
  "nbformat_minor": 0,
  "metadata": {
    "colab": {
      "name": "건강검진데이터_SVM_테스트(혈색소)_이슬기(5).ipynb",
      "provenance": []
    },
    "kernelspec": {
      "name": "python3",
      "display_name": "Python 3"
    },
    "language_info": {
      "name": "python"
    },
    "accelerator": "GPU"
  },
  "cells": [
    {
      "cell_type": "markdown",
      "source": [
        "# SVM 모델\n",
        "### (1) 코드 사용 예시\n",
        "1. SVC(kernel=\"linear\", C=1)과 같이 SVC모델을 사용할 수 있습니다. 하지만 큰 데이터에서는 속도가 느려권장하지 않습니다. \n",
        "2. SGDClassifier(loss=\"hinge\", alpha=1/(m*c))와 같이 SGDClassifier 모델을 사용하는 것 입니다. 속도가 많이 빠르진 않지만 데이터가 크고 특성이 많아서 메모리에 적재시켜줄 수 없을 때 이용하면 좋습니다. \n",
        "3. LinearSVC(C=1 ,loss=\"hinge\")\n",
        "\n",
        "\n",
        "출처: [후니의 컴퓨터](https://hoony-gunputer.tistory.com/142)\n",
        "\n",
        "\n",
        "👉 가장 기본적인 ' SVC(kernel=\"linear\", C=1)' 형태의 코드를 사용하였음. 하지만 설명과 같이 큰 데이터에서는 추천하지 않는 방식이라고 함.   \n",
        "👉 'SGDClassifier(loss=\"hinge\", alpha=1/(m*c))' 에 대한 모델 구현 방식도 공부 필요"
      ],
      "metadata": {
        "id": "Lsxjgj6rdGaH"
      }
    },
    {
      "cell_type": "code",
      "execution_count": null,
      "metadata": {
        "colab": {
          "base_uri": "https://localhost:8080/"
        },
        "id": "6Au5WNuuw9G8",
        "outputId": "996c00bf-fa8b-4eda-dc32-9118d069419e"
      },
      "outputs": [
        {
          "output_type": "stream",
          "name": "stdout",
          "text": [
            "Mounted at /content/drive\n"
          ]
        }
      ],
      "source": [
        "from google.colab import drive\n",
        "drive.mount('/content/drive')"
      ]
    },
    {
      "cell_type": "code",
      "source": [
        "import pandas as pd\n",
        "import numpy as np\n",
        "import seaborn as sns\n",
        "import matplotlib\n",
        "import matplotlib.pyplot as plt\n",
        "%matplotlib inline\n",
        "\n",
        "import missingno as msno"
      ],
      "metadata": {
        "id": "6Htxdo6t4ZWB"
      },
      "execution_count": 15,
      "outputs": []
    },
    {
      "cell_type": "code",
      "source": [
        "df = pd.read_csv('/content/drive/MyDrive/슬기로운 건강생활/data/health_data_01.csv', encoding='utf-8')\n",
        "df"
      ],
      "metadata": {
        "colab": {
          "base_uri": "https://localhost:8080/",
          "height": 485
        },
        "id": "66FUrCX44blK",
        "outputId": "42a9caaa-6b62-4071-8a94-dc79027248bf"
      },
      "execution_count": 16,
      "outputs": [
        {
          "output_type": "execute_result",
          "data": {
            "text/plain": [
              "        성별  나이   bmi  비만여부   혈색소  빈혈여부  식전혈당(공복혈당)  당뇨여부  (혈청지오티)AST  AST구분  \\\n",
              "0        0  40  22.0     0  15.0     0        90.0     0        21.0      0   \n",
              "1        1  60  28.9     1  12.7     1        87.0     0        18.0      0   \n",
              "2        1  50  22.9     0  12.8     1       102.0     1        27.0      0   \n",
              "3        0  60  27.3     1  16.4     0       146.0     1        65.0      1   \n",
              "4        1  50  20.8     0  12.4     1       110.0     1        18.0      0   \n",
              "...     ..  ..   ...   ...   ...   ...         ...   ...         ...    ...   \n",
              "987327   1  60  26.2     1  13.6     0       124.0     1        21.0      0   \n",
              "987328   1  50  21.5     0  14.0     0        98.0     0        21.0      0   \n",
              "987329   0  40  22.9     0  16.0     0        83.0     0        26.0      0   \n",
              "987330   1  40  27.3     1  11.9     1       111.0     1        25.0      0   \n",
              "987331   0  50  21.5     0  14.9     0       121.0     1        17.0      0   \n",
              "\n",
              "        (혈청지오티)ALT  ALT구분  AST/ALT비율  감마 지티피  GTP/ALT비율  음주여부  간 수치  \n",
              "0             27.0      0   0.777778    21.0   0.777778   0.0     0  \n",
              "1             15.0      0   1.200000    15.0   1.000000   0.0     0  \n",
              "2             25.0      0   1.080000     7.0   0.280000   0.0     0  \n",
              "3             97.0      1   0.670103    72.0   0.742268   0.0     0  \n",
              "4             17.0      0   1.058824    14.0   0.823529   0.0     0  \n",
              "...            ...    ...        ...     ...        ...   ...   ...  \n",
              "987327        25.0      0   0.840000    18.0   0.720000   0.0     0  \n",
              "987328        14.0      0   1.500000    19.0   1.357143   1.0     0  \n",
              "987329        20.0      0   1.300000    17.0   0.850000   1.0     0  \n",
              "987330        29.0      0   0.862069    13.0   0.448276   0.0     0  \n",
              "987331        13.0      0   1.307692    24.0   1.846154   0.0     0  \n",
              "\n",
              "[987332 rows x 17 columns]"
            ],
            "text/html": [
              "\n",
              "  <div id=\"df-81679831-194e-4420-baa6-ea239d221535\">\n",
              "    <div class=\"colab-df-container\">\n",
              "      <div>\n",
              "<style scoped>\n",
              "    .dataframe tbody tr th:only-of-type {\n",
              "        vertical-align: middle;\n",
              "    }\n",
              "\n",
              "    .dataframe tbody tr th {\n",
              "        vertical-align: top;\n",
              "    }\n",
              "\n",
              "    .dataframe thead th {\n",
              "        text-align: right;\n",
              "    }\n",
              "</style>\n",
              "<table border=\"1\" class=\"dataframe\">\n",
              "  <thead>\n",
              "    <tr style=\"text-align: right;\">\n",
              "      <th></th>\n",
              "      <th>성별</th>\n",
              "      <th>나이</th>\n",
              "      <th>bmi</th>\n",
              "      <th>비만여부</th>\n",
              "      <th>혈색소</th>\n",
              "      <th>빈혈여부</th>\n",
              "      <th>식전혈당(공복혈당)</th>\n",
              "      <th>당뇨여부</th>\n",
              "      <th>(혈청지오티)AST</th>\n",
              "      <th>AST구분</th>\n",
              "      <th>(혈청지오티)ALT</th>\n",
              "      <th>ALT구분</th>\n",
              "      <th>AST/ALT비율</th>\n",
              "      <th>감마 지티피</th>\n",
              "      <th>GTP/ALT비율</th>\n",
              "      <th>음주여부</th>\n",
              "      <th>간 수치</th>\n",
              "    </tr>\n",
              "  </thead>\n",
              "  <tbody>\n",
              "    <tr>\n",
              "      <th>0</th>\n",
              "      <td>0</td>\n",
              "      <td>40</td>\n",
              "      <td>22.0</td>\n",
              "      <td>0</td>\n",
              "      <td>15.0</td>\n",
              "      <td>0</td>\n",
              "      <td>90.0</td>\n",
              "      <td>0</td>\n",
              "      <td>21.0</td>\n",
              "      <td>0</td>\n",
              "      <td>27.0</td>\n",
              "      <td>0</td>\n",
              "      <td>0.777778</td>\n",
              "      <td>21.0</td>\n",
              "      <td>0.777778</td>\n",
              "      <td>0.0</td>\n",
              "      <td>0</td>\n",
              "    </tr>\n",
              "    <tr>\n",
              "      <th>1</th>\n",
              "      <td>1</td>\n",
              "      <td>60</td>\n",
              "      <td>28.9</td>\n",
              "      <td>1</td>\n",
              "      <td>12.7</td>\n",
              "      <td>1</td>\n",
              "      <td>87.0</td>\n",
              "      <td>0</td>\n",
              "      <td>18.0</td>\n",
              "      <td>0</td>\n",
              "      <td>15.0</td>\n",
              "      <td>0</td>\n",
              "      <td>1.200000</td>\n",
              "      <td>15.0</td>\n",
              "      <td>1.000000</td>\n",
              "      <td>0.0</td>\n",
              "      <td>0</td>\n",
              "    </tr>\n",
              "    <tr>\n",
              "      <th>2</th>\n",
              "      <td>1</td>\n",
              "      <td>50</td>\n",
              "      <td>22.9</td>\n",
              "      <td>0</td>\n",
              "      <td>12.8</td>\n",
              "      <td>1</td>\n",
              "      <td>102.0</td>\n",
              "      <td>1</td>\n",
              "      <td>27.0</td>\n",
              "      <td>0</td>\n",
              "      <td>25.0</td>\n",
              "      <td>0</td>\n",
              "      <td>1.080000</td>\n",
              "      <td>7.0</td>\n",
              "      <td>0.280000</td>\n",
              "      <td>0.0</td>\n",
              "      <td>0</td>\n",
              "    </tr>\n",
              "    <tr>\n",
              "      <th>3</th>\n",
              "      <td>0</td>\n",
              "      <td>60</td>\n",
              "      <td>27.3</td>\n",
              "      <td>1</td>\n",
              "      <td>16.4</td>\n",
              "      <td>0</td>\n",
              "      <td>146.0</td>\n",
              "      <td>1</td>\n",
              "      <td>65.0</td>\n",
              "      <td>1</td>\n",
              "      <td>97.0</td>\n",
              "      <td>1</td>\n",
              "      <td>0.670103</td>\n",
              "      <td>72.0</td>\n",
              "      <td>0.742268</td>\n",
              "      <td>0.0</td>\n",
              "      <td>0</td>\n",
              "    </tr>\n",
              "    <tr>\n",
              "      <th>4</th>\n",
              "      <td>1</td>\n",
              "      <td>50</td>\n",
              "      <td>20.8</td>\n",
              "      <td>0</td>\n",
              "      <td>12.4</td>\n",
              "      <td>1</td>\n",
              "      <td>110.0</td>\n",
              "      <td>1</td>\n",
              "      <td>18.0</td>\n",
              "      <td>0</td>\n",
              "      <td>17.0</td>\n",
              "      <td>0</td>\n",
              "      <td>1.058824</td>\n",
              "      <td>14.0</td>\n",
              "      <td>0.823529</td>\n",
              "      <td>0.0</td>\n",
              "      <td>0</td>\n",
              "    </tr>\n",
              "    <tr>\n",
              "      <th>...</th>\n",
              "      <td>...</td>\n",
              "      <td>...</td>\n",
              "      <td>...</td>\n",
              "      <td>...</td>\n",
              "      <td>...</td>\n",
              "      <td>...</td>\n",
              "      <td>...</td>\n",
              "      <td>...</td>\n",
              "      <td>...</td>\n",
              "      <td>...</td>\n",
              "      <td>...</td>\n",
              "      <td>...</td>\n",
              "      <td>...</td>\n",
              "      <td>...</td>\n",
              "      <td>...</td>\n",
              "      <td>...</td>\n",
              "      <td>...</td>\n",
              "    </tr>\n",
              "    <tr>\n",
              "      <th>987327</th>\n",
              "      <td>1</td>\n",
              "      <td>60</td>\n",
              "      <td>26.2</td>\n",
              "      <td>1</td>\n",
              "      <td>13.6</td>\n",
              "      <td>0</td>\n",
              "      <td>124.0</td>\n",
              "      <td>1</td>\n",
              "      <td>21.0</td>\n",
              "      <td>0</td>\n",
              "      <td>25.0</td>\n",
              "      <td>0</td>\n",
              "      <td>0.840000</td>\n",
              "      <td>18.0</td>\n",
              "      <td>0.720000</td>\n",
              "      <td>0.0</td>\n",
              "      <td>0</td>\n",
              "    </tr>\n",
              "    <tr>\n",
              "      <th>987328</th>\n",
              "      <td>1</td>\n",
              "      <td>50</td>\n",
              "      <td>21.5</td>\n",
              "      <td>0</td>\n",
              "      <td>14.0</td>\n",
              "      <td>0</td>\n",
              "      <td>98.0</td>\n",
              "      <td>0</td>\n",
              "      <td>21.0</td>\n",
              "      <td>0</td>\n",
              "      <td>14.0</td>\n",
              "      <td>0</td>\n",
              "      <td>1.500000</td>\n",
              "      <td>19.0</td>\n",
              "      <td>1.357143</td>\n",
              "      <td>1.0</td>\n",
              "      <td>0</td>\n",
              "    </tr>\n",
              "    <tr>\n",
              "      <th>987329</th>\n",
              "      <td>0</td>\n",
              "      <td>40</td>\n",
              "      <td>22.9</td>\n",
              "      <td>0</td>\n",
              "      <td>16.0</td>\n",
              "      <td>0</td>\n",
              "      <td>83.0</td>\n",
              "      <td>0</td>\n",
              "      <td>26.0</td>\n",
              "      <td>0</td>\n",
              "      <td>20.0</td>\n",
              "      <td>0</td>\n",
              "      <td>1.300000</td>\n",
              "      <td>17.0</td>\n",
              "      <td>0.850000</td>\n",
              "      <td>1.0</td>\n",
              "      <td>0</td>\n",
              "    </tr>\n",
              "    <tr>\n",
              "      <th>987330</th>\n",
              "      <td>1</td>\n",
              "      <td>40</td>\n",
              "      <td>27.3</td>\n",
              "      <td>1</td>\n",
              "      <td>11.9</td>\n",
              "      <td>1</td>\n",
              "      <td>111.0</td>\n",
              "      <td>1</td>\n",
              "      <td>25.0</td>\n",
              "      <td>0</td>\n",
              "      <td>29.0</td>\n",
              "      <td>0</td>\n",
              "      <td>0.862069</td>\n",
              "      <td>13.0</td>\n",
              "      <td>0.448276</td>\n",
              "      <td>0.0</td>\n",
              "      <td>0</td>\n",
              "    </tr>\n",
              "    <tr>\n",
              "      <th>987331</th>\n",
              "      <td>0</td>\n",
              "      <td>50</td>\n",
              "      <td>21.5</td>\n",
              "      <td>0</td>\n",
              "      <td>14.9</td>\n",
              "      <td>0</td>\n",
              "      <td>121.0</td>\n",
              "      <td>1</td>\n",
              "      <td>17.0</td>\n",
              "      <td>0</td>\n",
              "      <td>13.0</td>\n",
              "      <td>0</td>\n",
              "      <td>1.307692</td>\n",
              "      <td>24.0</td>\n",
              "      <td>1.846154</td>\n",
              "      <td>0.0</td>\n",
              "      <td>0</td>\n",
              "    </tr>\n",
              "  </tbody>\n",
              "</table>\n",
              "<p>987332 rows × 17 columns</p>\n",
              "</div>\n",
              "      <button class=\"colab-df-convert\" onclick=\"convertToInteractive('df-81679831-194e-4420-baa6-ea239d221535')\"\n",
              "              title=\"Convert this dataframe to an interactive table.\"\n",
              "              style=\"display:none;\">\n",
              "        \n",
              "  <svg xmlns=\"http://www.w3.org/2000/svg\" height=\"24px\"viewBox=\"0 0 24 24\"\n",
              "       width=\"24px\">\n",
              "    <path d=\"M0 0h24v24H0V0z\" fill=\"none\"/>\n",
              "    <path d=\"M18.56 5.44l.94 2.06.94-2.06 2.06-.94-2.06-.94-.94-2.06-.94 2.06-2.06.94zm-11 1L8.5 8.5l.94-2.06 2.06-.94-2.06-.94L8.5 2.5l-.94 2.06-2.06.94zm10 10l.94 2.06.94-2.06 2.06-.94-2.06-.94-.94-2.06-.94 2.06-2.06.94z\"/><path d=\"M17.41 7.96l-1.37-1.37c-.4-.4-.92-.59-1.43-.59-.52 0-1.04.2-1.43.59L10.3 9.45l-7.72 7.72c-.78.78-.78 2.05 0 2.83L4 21.41c.39.39.9.59 1.41.59.51 0 1.02-.2 1.41-.59l7.78-7.78 2.81-2.81c.8-.78.8-2.07 0-2.86zM5.41 20L4 18.59l7.72-7.72 1.47 1.35L5.41 20z\"/>\n",
              "  </svg>\n",
              "      </button>\n",
              "      \n",
              "  <style>\n",
              "    .colab-df-container {\n",
              "      display:flex;\n",
              "      flex-wrap:wrap;\n",
              "      gap: 12px;\n",
              "    }\n",
              "\n",
              "    .colab-df-convert {\n",
              "      background-color: #E8F0FE;\n",
              "      border: none;\n",
              "      border-radius: 50%;\n",
              "      cursor: pointer;\n",
              "      display: none;\n",
              "      fill: #1967D2;\n",
              "      height: 32px;\n",
              "      padding: 0 0 0 0;\n",
              "      width: 32px;\n",
              "    }\n",
              "\n",
              "    .colab-df-convert:hover {\n",
              "      background-color: #E2EBFA;\n",
              "      box-shadow: 0px 1px 2px rgba(60, 64, 67, 0.3), 0px 1px 3px 1px rgba(60, 64, 67, 0.15);\n",
              "      fill: #174EA6;\n",
              "    }\n",
              "\n",
              "    [theme=dark] .colab-df-convert {\n",
              "      background-color: #3B4455;\n",
              "      fill: #D2E3FC;\n",
              "    }\n",
              "\n",
              "    [theme=dark] .colab-df-convert:hover {\n",
              "      background-color: #434B5C;\n",
              "      box-shadow: 0px 1px 3px 1px rgba(0, 0, 0, 0.15);\n",
              "      filter: drop-shadow(0px 1px 2px rgba(0, 0, 0, 0.3));\n",
              "      fill: #FFFFFF;\n",
              "    }\n",
              "  </style>\n",
              "\n",
              "      <script>\n",
              "        const buttonEl =\n",
              "          document.querySelector('#df-81679831-194e-4420-baa6-ea239d221535 button.colab-df-convert');\n",
              "        buttonEl.style.display =\n",
              "          google.colab.kernel.accessAllowed ? 'block' : 'none';\n",
              "\n",
              "        async function convertToInteractive(key) {\n",
              "          const element = document.querySelector('#df-81679831-194e-4420-baa6-ea239d221535');\n",
              "          const dataTable =\n",
              "            await google.colab.kernel.invokeFunction('convertToInteractive',\n",
              "                                                     [key], {});\n",
              "          if (!dataTable) return;\n",
              "\n",
              "          const docLinkHtml = 'Like what you see? Visit the ' +\n",
              "            '<a target=\"_blank\" href=https://colab.research.google.com/notebooks/data_table.ipynb>data table notebook</a>'\n",
              "            + ' to learn more about interactive tables.';\n",
              "          element.innerHTML = '';\n",
              "          dataTable['output_type'] = 'display_data';\n",
              "          await google.colab.output.renderOutput(dataTable, element);\n",
              "          const docLink = document.createElement('div');\n",
              "          docLink.innerHTML = docLinkHtml;\n",
              "          element.appendChild(docLink);\n",
              "        }\n",
              "      </script>\n",
              "    </div>\n",
              "  </div>\n",
              "  "
            ]
          },
          "metadata": {},
          "execution_count": 16
        }
      ]
    },
    {
      "cell_type": "code",
      "source": [
        "# train_a = train.truncate(after='100',axis=0)\n",
        "\n",
        "train = df.drop(labels=range(100000, 987332), axis=0)\n",
        "\n",
        "train"
      ],
      "metadata": {
        "colab": {
          "base_uri": "https://localhost:8080/",
          "height": 468
        },
        "id": "sRso63pM9rfd",
        "outputId": "ad8b69e2-ea36-416a-fd81-23cc6cf6a785"
      },
      "execution_count": 17,
      "outputs": [
        {
          "output_type": "execute_result",
          "data": {
            "text/plain": [
              "       성별  나이   bmi  비만여부   혈색소  빈혈여부  식전혈당(공복혈당)  당뇨여부  (혈청지오티)AST  AST구분  \\\n",
              "0       0  40  22.0     0  15.0     0        90.0     0        21.0      0   \n",
              "1       1  60  28.9     1  12.7     1        87.0     0        18.0      0   \n",
              "2       1  50  22.9     0  12.8     1       102.0     1        27.0      0   \n",
              "3       0  60  27.3     1  16.4     0       146.0     1        65.0      1   \n",
              "4       1  50  20.8     0  12.4     1       110.0     1        18.0      0   \n",
              "...    ..  ..   ...   ...   ...   ...         ...   ...         ...    ...   \n",
              "99995   0  40  22.9     0  15.1     0       117.0     1        28.0      0   \n",
              "99996   1  40  25.4     1  13.8     0        99.0     0        56.0      1   \n",
              "99997   1  60  24.4     1  12.8     1       113.0     1        34.0      0   \n",
              "99998   1  50  21.5     0  13.7     0       108.0     1        18.0      0   \n",
              "99999   0  60  27.5     1  15.7     0        81.0     0        36.0      0   \n",
              "\n",
              "       (혈청지오티)ALT  ALT구분  AST/ALT비율  감마 지티피  GTP/ALT비율  음주여부  간 수치  \n",
              "0            27.0      0   0.777778    21.0   0.777778   0.0     0  \n",
              "1            15.0      0   1.200000    15.0   1.000000   0.0     0  \n",
              "2            25.0      0   1.080000     7.0   0.280000   0.0     0  \n",
              "3            97.0      1   0.670103    72.0   0.742268   0.0     0  \n",
              "4            17.0      0   1.058824    14.0   0.823529   0.0     0  \n",
              "...           ...    ...        ...     ...        ...   ...   ...  \n",
              "99995        59.0      1   0.474576   119.0   2.016949   1.0     0  \n",
              "99996        70.0      1   0.800000    16.0   0.228571   1.0     0  \n",
              "99997        25.0      0   1.360000   148.0   5.920000   1.0     1  \n",
              "99998        17.0      0   1.058824    43.0   2.529412   1.0     1  \n",
              "99999        31.0      0   1.161290    32.0   1.032258   1.0     0  \n",
              "\n",
              "[100000 rows x 17 columns]"
            ],
            "text/html": [
              "\n",
              "  <div id=\"df-d3879a44-8f38-4692-9915-26fc7e5fcba2\">\n",
              "    <div class=\"colab-df-container\">\n",
              "      <div>\n",
              "<style scoped>\n",
              "    .dataframe tbody tr th:only-of-type {\n",
              "        vertical-align: middle;\n",
              "    }\n",
              "\n",
              "    .dataframe tbody tr th {\n",
              "        vertical-align: top;\n",
              "    }\n",
              "\n",
              "    .dataframe thead th {\n",
              "        text-align: right;\n",
              "    }\n",
              "</style>\n",
              "<table border=\"1\" class=\"dataframe\">\n",
              "  <thead>\n",
              "    <tr style=\"text-align: right;\">\n",
              "      <th></th>\n",
              "      <th>성별</th>\n",
              "      <th>나이</th>\n",
              "      <th>bmi</th>\n",
              "      <th>비만여부</th>\n",
              "      <th>혈색소</th>\n",
              "      <th>빈혈여부</th>\n",
              "      <th>식전혈당(공복혈당)</th>\n",
              "      <th>당뇨여부</th>\n",
              "      <th>(혈청지오티)AST</th>\n",
              "      <th>AST구분</th>\n",
              "      <th>(혈청지오티)ALT</th>\n",
              "      <th>ALT구분</th>\n",
              "      <th>AST/ALT비율</th>\n",
              "      <th>감마 지티피</th>\n",
              "      <th>GTP/ALT비율</th>\n",
              "      <th>음주여부</th>\n",
              "      <th>간 수치</th>\n",
              "    </tr>\n",
              "  </thead>\n",
              "  <tbody>\n",
              "    <tr>\n",
              "      <th>0</th>\n",
              "      <td>0</td>\n",
              "      <td>40</td>\n",
              "      <td>22.0</td>\n",
              "      <td>0</td>\n",
              "      <td>15.0</td>\n",
              "      <td>0</td>\n",
              "      <td>90.0</td>\n",
              "      <td>0</td>\n",
              "      <td>21.0</td>\n",
              "      <td>0</td>\n",
              "      <td>27.0</td>\n",
              "      <td>0</td>\n",
              "      <td>0.777778</td>\n",
              "      <td>21.0</td>\n",
              "      <td>0.777778</td>\n",
              "      <td>0.0</td>\n",
              "      <td>0</td>\n",
              "    </tr>\n",
              "    <tr>\n",
              "      <th>1</th>\n",
              "      <td>1</td>\n",
              "      <td>60</td>\n",
              "      <td>28.9</td>\n",
              "      <td>1</td>\n",
              "      <td>12.7</td>\n",
              "      <td>1</td>\n",
              "      <td>87.0</td>\n",
              "      <td>0</td>\n",
              "      <td>18.0</td>\n",
              "      <td>0</td>\n",
              "      <td>15.0</td>\n",
              "      <td>0</td>\n",
              "      <td>1.200000</td>\n",
              "      <td>15.0</td>\n",
              "      <td>1.000000</td>\n",
              "      <td>0.0</td>\n",
              "      <td>0</td>\n",
              "    </tr>\n",
              "    <tr>\n",
              "      <th>2</th>\n",
              "      <td>1</td>\n",
              "      <td>50</td>\n",
              "      <td>22.9</td>\n",
              "      <td>0</td>\n",
              "      <td>12.8</td>\n",
              "      <td>1</td>\n",
              "      <td>102.0</td>\n",
              "      <td>1</td>\n",
              "      <td>27.0</td>\n",
              "      <td>0</td>\n",
              "      <td>25.0</td>\n",
              "      <td>0</td>\n",
              "      <td>1.080000</td>\n",
              "      <td>7.0</td>\n",
              "      <td>0.280000</td>\n",
              "      <td>0.0</td>\n",
              "      <td>0</td>\n",
              "    </tr>\n",
              "    <tr>\n",
              "      <th>3</th>\n",
              "      <td>0</td>\n",
              "      <td>60</td>\n",
              "      <td>27.3</td>\n",
              "      <td>1</td>\n",
              "      <td>16.4</td>\n",
              "      <td>0</td>\n",
              "      <td>146.0</td>\n",
              "      <td>1</td>\n",
              "      <td>65.0</td>\n",
              "      <td>1</td>\n",
              "      <td>97.0</td>\n",
              "      <td>1</td>\n",
              "      <td>0.670103</td>\n",
              "      <td>72.0</td>\n",
              "      <td>0.742268</td>\n",
              "      <td>0.0</td>\n",
              "      <td>0</td>\n",
              "    </tr>\n",
              "    <tr>\n",
              "      <th>4</th>\n",
              "      <td>1</td>\n",
              "      <td>50</td>\n",
              "      <td>20.8</td>\n",
              "      <td>0</td>\n",
              "      <td>12.4</td>\n",
              "      <td>1</td>\n",
              "      <td>110.0</td>\n",
              "      <td>1</td>\n",
              "      <td>18.0</td>\n",
              "      <td>0</td>\n",
              "      <td>17.0</td>\n",
              "      <td>0</td>\n",
              "      <td>1.058824</td>\n",
              "      <td>14.0</td>\n",
              "      <td>0.823529</td>\n",
              "      <td>0.0</td>\n",
              "      <td>0</td>\n",
              "    </tr>\n",
              "    <tr>\n",
              "      <th>...</th>\n",
              "      <td>...</td>\n",
              "      <td>...</td>\n",
              "      <td>...</td>\n",
              "      <td>...</td>\n",
              "      <td>...</td>\n",
              "      <td>...</td>\n",
              "      <td>...</td>\n",
              "      <td>...</td>\n",
              "      <td>...</td>\n",
              "      <td>...</td>\n",
              "      <td>...</td>\n",
              "      <td>...</td>\n",
              "      <td>...</td>\n",
              "      <td>...</td>\n",
              "      <td>...</td>\n",
              "      <td>...</td>\n",
              "      <td>...</td>\n",
              "    </tr>\n",
              "    <tr>\n",
              "      <th>99995</th>\n",
              "      <td>0</td>\n",
              "      <td>40</td>\n",
              "      <td>22.9</td>\n",
              "      <td>0</td>\n",
              "      <td>15.1</td>\n",
              "      <td>0</td>\n",
              "      <td>117.0</td>\n",
              "      <td>1</td>\n",
              "      <td>28.0</td>\n",
              "      <td>0</td>\n",
              "      <td>59.0</td>\n",
              "      <td>1</td>\n",
              "      <td>0.474576</td>\n",
              "      <td>119.0</td>\n",
              "      <td>2.016949</td>\n",
              "      <td>1.0</td>\n",
              "      <td>0</td>\n",
              "    </tr>\n",
              "    <tr>\n",
              "      <th>99996</th>\n",
              "      <td>1</td>\n",
              "      <td>40</td>\n",
              "      <td>25.4</td>\n",
              "      <td>1</td>\n",
              "      <td>13.8</td>\n",
              "      <td>0</td>\n",
              "      <td>99.0</td>\n",
              "      <td>0</td>\n",
              "      <td>56.0</td>\n",
              "      <td>1</td>\n",
              "      <td>70.0</td>\n",
              "      <td>1</td>\n",
              "      <td>0.800000</td>\n",
              "      <td>16.0</td>\n",
              "      <td>0.228571</td>\n",
              "      <td>1.0</td>\n",
              "      <td>0</td>\n",
              "    </tr>\n",
              "    <tr>\n",
              "      <th>99997</th>\n",
              "      <td>1</td>\n",
              "      <td>60</td>\n",
              "      <td>24.4</td>\n",
              "      <td>1</td>\n",
              "      <td>12.8</td>\n",
              "      <td>1</td>\n",
              "      <td>113.0</td>\n",
              "      <td>1</td>\n",
              "      <td>34.0</td>\n",
              "      <td>0</td>\n",
              "      <td>25.0</td>\n",
              "      <td>0</td>\n",
              "      <td>1.360000</td>\n",
              "      <td>148.0</td>\n",
              "      <td>5.920000</td>\n",
              "      <td>1.0</td>\n",
              "      <td>1</td>\n",
              "    </tr>\n",
              "    <tr>\n",
              "      <th>99998</th>\n",
              "      <td>1</td>\n",
              "      <td>50</td>\n",
              "      <td>21.5</td>\n",
              "      <td>0</td>\n",
              "      <td>13.7</td>\n",
              "      <td>0</td>\n",
              "      <td>108.0</td>\n",
              "      <td>1</td>\n",
              "      <td>18.0</td>\n",
              "      <td>0</td>\n",
              "      <td>17.0</td>\n",
              "      <td>0</td>\n",
              "      <td>1.058824</td>\n",
              "      <td>43.0</td>\n",
              "      <td>2.529412</td>\n",
              "      <td>1.0</td>\n",
              "      <td>1</td>\n",
              "    </tr>\n",
              "    <tr>\n",
              "      <th>99999</th>\n",
              "      <td>0</td>\n",
              "      <td>60</td>\n",
              "      <td>27.5</td>\n",
              "      <td>1</td>\n",
              "      <td>15.7</td>\n",
              "      <td>0</td>\n",
              "      <td>81.0</td>\n",
              "      <td>0</td>\n",
              "      <td>36.0</td>\n",
              "      <td>0</td>\n",
              "      <td>31.0</td>\n",
              "      <td>0</td>\n",
              "      <td>1.161290</td>\n",
              "      <td>32.0</td>\n",
              "      <td>1.032258</td>\n",
              "      <td>1.0</td>\n",
              "      <td>0</td>\n",
              "    </tr>\n",
              "  </tbody>\n",
              "</table>\n",
              "<p>100000 rows × 17 columns</p>\n",
              "</div>\n",
              "      <button class=\"colab-df-convert\" onclick=\"convertToInteractive('df-d3879a44-8f38-4692-9915-26fc7e5fcba2')\"\n",
              "              title=\"Convert this dataframe to an interactive table.\"\n",
              "              style=\"display:none;\">\n",
              "        \n",
              "  <svg xmlns=\"http://www.w3.org/2000/svg\" height=\"24px\"viewBox=\"0 0 24 24\"\n",
              "       width=\"24px\">\n",
              "    <path d=\"M0 0h24v24H0V0z\" fill=\"none\"/>\n",
              "    <path d=\"M18.56 5.44l.94 2.06.94-2.06 2.06-.94-2.06-.94-.94-2.06-.94 2.06-2.06.94zm-11 1L8.5 8.5l.94-2.06 2.06-.94-2.06-.94L8.5 2.5l-.94 2.06-2.06.94zm10 10l.94 2.06.94-2.06 2.06-.94-2.06-.94-.94-2.06-.94 2.06-2.06.94z\"/><path d=\"M17.41 7.96l-1.37-1.37c-.4-.4-.92-.59-1.43-.59-.52 0-1.04.2-1.43.59L10.3 9.45l-7.72 7.72c-.78.78-.78 2.05 0 2.83L4 21.41c.39.39.9.59 1.41.59.51 0 1.02-.2 1.41-.59l7.78-7.78 2.81-2.81c.8-.78.8-2.07 0-2.86zM5.41 20L4 18.59l7.72-7.72 1.47 1.35L5.41 20z\"/>\n",
              "  </svg>\n",
              "      </button>\n",
              "      \n",
              "  <style>\n",
              "    .colab-df-container {\n",
              "      display:flex;\n",
              "      flex-wrap:wrap;\n",
              "      gap: 12px;\n",
              "    }\n",
              "\n",
              "    .colab-df-convert {\n",
              "      background-color: #E8F0FE;\n",
              "      border: none;\n",
              "      border-radius: 50%;\n",
              "      cursor: pointer;\n",
              "      display: none;\n",
              "      fill: #1967D2;\n",
              "      height: 32px;\n",
              "      padding: 0 0 0 0;\n",
              "      width: 32px;\n",
              "    }\n",
              "\n",
              "    .colab-df-convert:hover {\n",
              "      background-color: #E2EBFA;\n",
              "      box-shadow: 0px 1px 2px rgba(60, 64, 67, 0.3), 0px 1px 3px 1px rgba(60, 64, 67, 0.15);\n",
              "      fill: #174EA6;\n",
              "    }\n",
              "\n",
              "    [theme=dark] .colab-df-convert {\n",
              "      background-color: #3B4455;\n",
              "      fill: #D2E3FC;\n",
              "    }\n",
              "\n",
              "    [theme=dark] .colab-df-convert:hover {\n",
              "      background-color: #434B5C;\n",
              "      box-shadow: 0px 1px 3px 1px rgba(0, 0, 0, 0.15);\n",
              "      filter: drop-shadow(0px 1px 2px rgba(0, 0, 0, 0.3));\n",
              "      fill: #FFFFFF;\n",
              "    }\n",
              "  </style>\n",
              "\n",
              "      <script>\n",
              "        const buttonEl =\n",
              "          document.querySelector('#df-d3879a44-8f38-4692-9915-26fc7e5fcba2 button.colab-df-convert');\n",
              "        buttonEl.style.display =\n",
              "          google.colab.kernel.accessAllowed ? 'block' : 'none';\n",
              "\n",
              "        async function convertToInteractive(key) {\n",
              "          const element = document.querySelector('#df-d3879a44-8f38-4692-9915-26fc7e5fcba2');\n",
              "          const dataTable =\n",
              "            await google.colab.kernel.invokeFunction('convertToInteractive',\n",
              "                                                     [key], {});\n",
              "          if (!dataTable) return;\n",
              "\n",
              "          const docLinkHtml = 'Like what you see? Visit the ' +\n",
              "            '<a target=\"_blank\" href=https://colab.research.google.com/notebooks/data_table.ipynb>data table notebook</a>'\n",
              "            + ' to learn more about interactive tables.';\n",
              "          element.innerHTML = '';\n",
              "          dataTable['output_type'] = 'display_data';\n",
              "          await google.colab.output.renderOutput(dataTable, element);\n",
              "          const docLink = document.createElement('div');\n",
              "          docLink.innerHTML = docLinkHtml;\n",
              "          element.appendChild(docLink);\n",
              "        }\n",
              "      </script>\n",
              "    </div>\n",
              "  </div>\n",
              "  "
            ]
          },
          "metadata": {},
          "execution_count": 17
        }
      ]
    },
    {
      "cell_type": "code",
      "source": [
        "# # 빈혈\n",
        "# cond1 = (train['성별'] == '1')\n",
        "# cond2 = (train['혈색소'] < 12)\n",
        "# cond3 = (train['혈색소'] < 13)\n",
        "\n",
        "# train.loc[cond1&cond2, '빈혈여부'] = \"1\" # 여자 and 혈색소 < 12 : 빈혈\n",
        "# train.loc[~cond1&~cond2, '빈혈여부'] = \"0\" # 여자 and 혈색소 >= 12 : 빈혈 아님\n",
        "# train.loc[~cond1&cond3, '빈혈여부'] = \"1\" # 남자 and 혈색소 < 13 : 빈혈\n",
        "# train.loc[~cond1&~cond3, '빈혈여부'] = \"0\" # 남자 and 혈색소 >= 13 : 빈혈 아님"
      ],
      "metadata": {
        "id": "S0W4FMIPDkEF"
      },
      "execution_count": null,
      "outputs": []
    },
    {
      "cell_type": "code",
      "source": [
        "train['빈혈여부'].describe()"
      ],
      "metadata": {
        "colab": {
          "base_uri": "https://localhost:8080/"
        },
        "id": "nU8Jfq5X_XLE",
        "outputId": "2b64f39d-627e-429d-cc9b-331c62ac6a97"
      },
      "execution_count": null,
      "outputs": [
        {
          "output_type": "execute_result",
          "data": {
            "text/plain": [
              "count    100000.00000\n",
              "mean          0.19514\n",
              "std           0.39631\n",
              "min           0.00000\n",
              "25%           0.00000\n",
              "50%           0.00000\n",
              "75%           0.00000\n",
              "max           1.00000\n",
              "Name: 빈혈여부, dtype: float64"
            ]
          },
          "metadata": {},
          "execution_count": 6
        }
      ]
    },
    {
      "cell_type": "code",
      "source": [
        "from sklearn.svm import SVC\n",
        "from sklearn import metrics, svm\n",
        "from sklearn.model_selection import train_test_split\n",
        "from sklearn.preprocessing import MinMaxScaler\n",
        "from sklearn.metrics import accuracy_score\n",
        "# import matplotlib.pyplot as plt import numpy as np from sklearn import svm\n",
        "from sklearn import svm\n",
        "svm_model = svm.SVC()\n",
        "\n",
        "print(svm_model._estimator_type)"
      ],
      "metadata": {
        "colab": {
          "base_uri": "https://localhost:8080/"
        },
        "id": "R5Z2xFGOCFAW",
        "outputId": "9f804b18-4651-4690-83a0-dc0d9a5d764f"
      },
      "execution_count": 18,
      "outputs": [
        {
          "output_type": "stream",
          "name": "stdout",
          "text": [
            "classifier\n"
          ]
        }
      ]
    },
    {
      "cell_type": "code",
      "source": [
        "# feature와 target 분리\n",
        "yt=np.array(train['빈혈여부'])\n",
        "xt=train.drop(['빈혈여부'], axis=1)\n",
        "xt=np.array(xt)"
      ],
      "metadata": {
        "id": "oXIG1n6tCk36"
      },
      "execution_count": 19,
      "outputs": []
    },
    {
      "cell_type": "code",
      "source": [
        "# 정규화를 위해서는 데이터의 모든 문자를 숫자로 변환하기\n",
        "scaler=MinMaxScaler()\n",
        "xt=scaler.fit_transform(xt)"
      ],
      "metadata": {
        "id": "tC6O70FgEoKM"
      },
      "execution_count": 20,
      "outputs": []
    },
    {
      "cell_type": "code",
      "source": [
        "# train test 데이터 split\n",
        "xtrain,xtest,ytrain,ytest=train_test_split(xt, yt, test_size=0.2, random_state=42)"
      ],
      "metadata": {
        "id": "84TwHUqOC0HA"
      },
      "execution_count": 21,
      "outputs": []
    },
    {
      "cell_type": "markdown",
      "source": [
        "## C값 검색\n",
        "- C 값이 커지면 허용 오차의 개수가 작아짐   \n",
        " -> 가중치 값에 집중하는 경항 발생   \n",
        " -> margin 좁아짐\n"
      ],
      "metadata": {
        "id": "hgrlgxFPFWW2"
      }
    },
    {
      "cell_type": "code",
      "source": [
        "#Linear SVM을 위한 적절한 C값  검색\n",
        "#분류:SVC, 회귀(예측):SVR\n",
        "\n",
        "scores = []\n",
        "for thisC in [*range(1,10)]:\n",
        "    svc=SVC(kernel='linear',C=thisC)\n",
        "    model=svc.fit(xtrain,ytrain)\n",
        "    scoreTrain=model.score(xtrain,ytrain)\n",
        "    scoreTest=model.score(xtest,ytest)\n",
        "    print(\"선형 SVM : C:{}, training score:{:2f}, test score:{:2f}\".format\n",
        "          (thisC,scoreTrain, scoreTest))\n",
        "    scores.append([scoreTrain, scoreTest])"
      ],
      "metadata": {
        "colab": {
          "base_uri": "https://localhost:8080/"
        },
        "id": "NDr5XGGiEr2m",
        "outputId": "c7ef9a92-97fb-4532-f7a5-89196127275a"
      },
      "execution_count": null,
      "outputs": [
        {
          "output_type": "stream",
          "name": "stdout",
          "text": [
            "선형 SVM : C:1, training score:0.992175, test score:0.991850\n",
            "선형 SVM : C:2, training score:0.998200, test score:0.997400\n",
            "선형 SVM : C:3, training score:0.994012, test score:0.993550\n",
            "선형 SVM : C:4, training score:1.000000, test score:1.000000\n",
            "선형 SVM : C:5, training score:1.000000, test score:1.000000\n",
            "선형 SVM : C:6, training score:1.000000, test score:1.000000\n",
            "선형 SVM : C:7, training score:1.000000, test score:1.000000\n",
            "선형 SVM : C:8, training score:1.000000, test score:1.000000\n",
            "선형 SVM : C:9, training score:1.000000, test score:1.000000\n"
          ]
        }
      ]
    },
    {
      "cell_type": "code",
      "source": [
        "# C값에 따른 train test 정확도 비교\n",
        "pd.DataFrame(scores).plot()"
      ],
      "metadata": {
        "id": "fjQexrNjEzTJ",
        "colab": {
          "base_uri": "https://localhost:8080/",
          "height": 283
        },
        "outputId": "6ea92646-1a7a-4746-e702-3bde836e8f8d"
      },
      "execution_count": null,
      "outputs": [
        {
          "output_type": "execute_result",
          "data": {
            "text/plain": [
              "<matplotlib.axes._subplots.AxesSubplot at 0x7faf71439110>"
            ]
          },
          "metadata": {},
          "execution_count": 16
        },
        {
          "output_type": "display_data",
          "data": {
            "text/plain": [
              "<Figure size 432x288 with 1 Axes>"
            ],
            "image/png": "[encoded data removed]"
          },
          "metadata": {
            "needs_background": "light"
          }
        }
      ]
    },
    {
      "cell_type": "markdown",
      "source": [
        "# 모델 성능 평가\n",
        "- 참고 : [익스5 캐글](https://github.com/LAGABI44/AIFFEL_Study/blob/LMS/EXPLORATION/Submission/%5BE-05%5DKaggle_House_Price_Prediction.ipynb)   \n",
        "  => 해당 자료는 회귀 평가지표인 RMSE로 순위를 매긴 것인데, 분류 평가지표로 어떻게 바꿀 수 있을지 고민 좀 해봐야 할 듯...   \n",
        "  => F1-score로 비교를 하는 것이 가장 좋을 듯!\n",
        "- [성능지표에 대한 설명](https://bigdaheta.tistory.com/53?category=965501)\n",
        "- 회귀와 분류의 모델 성능 평가 기준이 다름   \n",
        "  => 회귀 : MSE, RMSE, MAE, MAPE 등(값이 작을 수록 해당 모델의 성능이 좋다는 것을 의미   \n",
        "  => 분류 : 정확도, 정밀도, 재현율, F1-score\n",
        "\n",
        "### F1-score\n",
        "- 정밀도와 재현율이 어느 한쪽으로 치우치지 않는 수치를 나타낼 때 높은 값을 가짐\n",
        "\n",
        "\n",
        "```\n",
        "F1-score=2*Precision*Recall/(Precision+Recall)\n",
        "```\n",
        "- 정확도, 정밀도, 재현율, F1-score은 모두 0~1 사이의 값을 가지며, 1에 가까워질수록 성능이 좋다는 것을 의미\n",
        "\n",
        "\n",
        "##RMSE 계산\n",
        "- 회귀 모형만 가능하고 분류 모델은 해당 방법으로 찾는게 아닐텐데,,, 일단 적용시켜 봄"
      ],
      "metadata": {
        "id": "zhGnIff2cOpT"
      }
    },
    {
      "cell_type": "code",
      "source": [
        "# from sklearn.model_selection import train_test_split\n",
        "# from sklearn.metrics import mean_squared_error\n",
        "\n",
        "# print('yea~')\n",
        "\n",
        "# def rmse(ytest, y_pred):\n",
        "#     return np.sqrt(mean_squared_error(np.expm1(ytest), np.expm1(y_pred)))\n",
        "\n",
        "# print('드디어')\n",
        "\n",
        "# from xgboost import XGBRegressor\n",
        "# from lightgbm import LGBMRegressor\n",
        "# from sklearn.ensemble import GradientBoostingRegressor, RandomForestRegressor\n",
        "# from sklearn.ensemble import RandomForestRegressor, VotingRegressor, AdaBoostRegressor\n",
        "\n",
        "# print('고지가')\n",
        "\n",
        "# # random_state는 모델초기화나 데이터셋 구성에 사용되는 랜덤 시드값입니다. \n",
        "# #random_state=None    # 이게 초기값입니다. 아무것도 지정하지 않고 None을 넘겨주면 모델 내부에서 임의로 선택합니다.  \n",
        "# random_state=2022        # 하지만 우리는 이렇게 고정값을 세팅해 두겠습니다. \n",
        "\n",
        "# gboost = GradientBoostingRegressor(random_state=random_state)\n",
        "# xgboost = XGBRegressor(random_state=random_state)\n",
        "# lightgbm = LGBMRegressor(random_state=random_state)\n",
        "# rdforest = RandomForestRegressor(random_state=random_state)\n",
        "# ada = AdaBoostRegressor(random_state=random_state)\n",
        "\n",
        "# models = [gboost, xgboost, lightgbm, rdforest, ada]\n",
        "\n",
        "# print('눈 앞이야 엉엉😭')"
      ],
      "metadata": {
        "colab": {
          "base_uri": "https://localhost:8080/"
        },
        "id": "L3LRBvekcQgz",
        "outputId": "3026b044-5140-4830-b46e-672bf9dbb2d3"
      },
      "execution_count": null,
      "outputs": [
        {
          "output_type": "stream",
          "name": "stdout",
          "text": [
            "yea~\n",
            "드디어\n",
            "고지가\n",
            "눈 앞이야 엉엉😭\n"
          ]
        }
      ]
    },
    {
      "cell_type": "code",
      "source": [
        "def get_scores(models, train, y):\n",
        "    # 답안 작성\n",
        "    df = {}\n",
        "    \n",
        "    for model in models:\n",
        "        model_name = model.__class__.__name__\n",
        "        \n",
        "#        X_train, X_test, y_train, y_test = train_test_split(train, y, random_state=random_state, test_size=0.2)\n",
        "        model.fit(xtrain, ytrain)\n",
        "        y_pred = model.predict(xtest)\n",
        "        \n",
        "        df[model_name] = rmse(ytest, y_pred)\n",
        "        score_df = pd.DataFrame(df, index=['RMSE']).T.sort_values('RMSE', ascending=True)\n",
        "            \n",
        "    return score_df\n",
        "\n",
        "get_scores(models, train, yt)"
      ],
      "metadata": {
        "colab": {
          "base_uri": "https://localhost:8080/",
          "height": 244
        },
        "id": "I65fFtZscZMT",
        "outputId": "a4cee3e8-75f8-4da9-d769-820882308274"
      },
      "execution_count": null,
      "outputs": [
        {
          "output_type": "stream",
          "name": "stdout",
          "text": [
            "[03:40:50] WARNING: /workspace/src/objective/regression_obj.cu:152: reg:linear is now deprecated in favor of reg:squarederror.\n"
          ]
        },
        {
          "output_type": "execute_result",
          "data": {
            "text/plain": [
              "                               RMSE\n",
              "RandomForestRegressor      0.000000\n",
              "AdaBoostRegressor          0.000000\n",
              "XGBRegressor               0.000020\n",
              "GradientBoostingRegressor  0.000026\n",
              "LGBMRegressor              0.000026"
            ],
            "text/html": [
              "\n",
              "  <div id=\"df-ec46efbd-4501-4690-80da-541d7c3d573f\">\n",
              "    <div class=\"colab-df-container\">\n",
              "      <div>\n",
              "<style scoped>\n",
              "    .dataframe tbody tr th:only-of-type {\n",
              "        vertical-align: middle;\n",
              "    }\n",
              "\n",
              "    .dataframe tbody tr th {\n",
              "        vertical-align: top;\n",
              "    }\n",
              "\n",
              "    .dataframe thead th {\n",
              "        text-align: right;\n",
              "    }\n",
              "</style>\n",
              "<table border=\"1\" class=\"dataframe\">\n",
              "  <thead>\n",
              "    <tr style=\"text-align: right;\">\n",
              "      <th></th>\n",
              "      <th>RMSE</th>\n",
              "    </tr>\n",
              "  </thead>\n",
              "  <tbody>\n",
              "    <tr>\n",
              "      <th>RandomForestRegressor</th>\n",
              "      <td>0.000000</td>\n",
              "    </tr>\n",
              "    <tr>\n",
              "      <th>AdaBoostRegressor</th>\n",
              "      <td>0.000000</td>\n",
              "    </tr>\n",
              "    <tr>\n",
              "      <th>XGBRegressor</th>\n",
              "      <td>0.000020</td>\n",
              "    </tr>\n",
              "    <tr>\n",
              "      <th>GradientBoostingRegressor</th>\n",
              "      <td>0.000026</td>\n",
              "    </tr>\n",
              "    <tr>\n",
              "      <th>LGBMRegressor</th>\n",
              "      <td>0.000026</td>\n",
              "    </tr>\n",
              "  </tbody>\n",
              "</table>\n",
              "</div>\n",
              "      <button class=\"colab-df-convert\" onclick=\"convertToInteractive('df-ec46efbd-4501-4690-80da-541d7c3d573f')\"\n",
              "              title=\"Convert this dataframe to an interactive table.\"\n",
              "              style=\"display:none;\">\n",
              "        \n",
              "  <svg xmlns=\"http://www.w3.org/2000/svg\" height=\"24px\"viewBox=\"0 0 24 24\"\n",
              "       width=\"24px\">\n",
              "    <path d=\"M0 0h24v24H0V0z\" fill=\"none\"/>\n",
              "    <path d=\"M18.56 5.44l.94 2.06.94-2.06 2.06-.94-2.06-.94-.94-2.06-.94 2.06-2.06.94zm-11 1L8.5 8.5l.94-2.06 2.06-.94-2.06-.94L8.5 2.5l-.94 2.06-2.06.94zm10 10l.94 2.06.94-2.06 2.06-.94-2.06-.94-.94-2.06-.94 2.06-2.06.94z\"/><path d=\"M17.41 7.96l-1.37-1.37c-.4-.4-.92-.59-1.43-.59-.52 0-1.04.2-1.43.59L10.3 9.45l-7.72 7.72c-.78.78-.78 2.05 0 2.83L4 21.41c.39.39.9.59 1.41.59.51 0 1.02-.2 1.41-.59l7.78-7.78 2.81-2.81c.8-.78.8-2.07 0-2.86zM5.41 20L4 18.59l7.72-7.72 1.47 1.35L5.41 20z\"/>\n",
              "  </svg>\n",
              "      </button>\n",
              "      \n",
              "  <style>\n",
              "    .colab-df-container {\n",
              "      display:flex;\n",
              "      flex-wrap:wrap;\n",
              "      gap: 12px;\n",
              "    }\n",
              "\n",
              "    .colab-df-convert {\n",
              "      background-color: #E8F0FE;\n",
              "      border: none;\n",
              "      border-radius: 50%;\n",
              "      cursor: pointer;\n",
              "      display: none;\n",
              "      fill: #1967D2;\n",
              "      height: 32px;\n",
              "      padding: 0 0 0 0;\n",
              "      width: 32px;\n",
              "    }\n",
              "\n",
              "    .colab-df-convert:hover {\n",
              "      background-color: #E2EBFA;\n",
              "      box-shadow: 0px 1px 2px rgba(60, 64, 67, 0.3), 0px 1px 3px 1px rgba(60, 64, 67, 0.15);\n",
              "      fill: #174EA6;\n",
              "    }\n",
              "\n",
              "    [theme=dark] .colab-df-convert {\n",
              "      background-color: #3B4455;\n",
              "      fill: #D2E3FC;\n",
              "    }\n",
              "\n",
              "    [theme=dark] .colab-df-convert:hover {\n",
              "      background-color: #434B5C;\n",
              "      box-shadow: 0px 1px 3px 1px rgba(0, 0, 0, 0.15);\n",
              "      filter: drop-shadow(0px 1px 2px rgba(0, 0, 0, 0.3));\n",
              "      fill: #FFFFFF;\n",
              "    }\n",
              "  </style>\n",
              "\n",
              "      <script>\n",
              "        const buttonEl =\n",
              "          document.querySelector('#df-ec46efbd-4501-4690-80da-541d7c3d573f button.colab-df-convert');\n",
              "        buttonEl.style.display =\n",
              "          google.colab.kernel.accessAllowed ? 'block' : 'none';\n",
              "\n",
              "        async function convertToInteractive(key) {\n",
              "          const element = document.querySelector('#df-ec46efbd-4501-4690-80da-541d7c3d573f');\n",
              "          const dataTable =\n",
              "            await google.colab.kernel.invokeFunction('convertToInteractive',\n",
              "                                                     [key], {});\n",
              "          if (!dataTable) return;\n",
              "\n",
              "          const docLinkHtml = 'Like what you see? Visit the ' +\n",
              "            '<a target=\"_blank\" href=https://colab.research.google.com/notebooks/data_table.ipynb>data table notebook</a>'\n",
              "            + ' to learn more about interactive tables.';\n",
              "          element.innerHTML = '';\n",
              "          dataTable['output_type'] = 'display_data';\n",
              "          await google.colab.output.renderOutput(dataTable, element);\n",
              "          const docLink = document.createElement('div');\n",
              "          docLink.innerHTML = docLinkHtml;\n",
              "          element.appendChild(docLink);\n",
              "        }\n",
              "      </script>\n",
              "    </div>\n",
              "  </div>\n",
              "  "
            ]
          },
          "metadata": {},
          "execution_count": 15
        }
      ]
    },
    {
      "cell_type": "markdown",
      "source": [
        "## F1-score \n",
        "- [F1-score](https://www.statology.org/f1-score-in-python/)\n",
        "- [헐 드디어 오차행렬 구하는 코드 찾음ㅠ](https://kimdingko-world.tistory.com/174)\n",
        "- 5가지 모델\n",
        "- [랜덤포레스트 구현](https://alex-blog.tistory.com/entry/Machine-Learning-Random-Forest-%EB%9E%9C%EB%8D%A4-%ED%8F%AC%EB%A0%88%EC%8A%A4%ED%8A%B8-%EC%98%88%EC%8B%9C-feat-python)\n",
        "- [np.sqrt](https://numpy.org/doc/stable/reference/generated/numpy.sqrt.html)"
      ],
      "metadata": {
        "id": "a0bnJT537dV-"
      }
    },
    {
      "cell_type": "code",
      "source": [
        "train.info()"
      ],
      "metadata": {
        "colab": {
          "base_uri": "https://localhost:8080/"
        },
        "id": "Zbq6vBOQ7tRA",
        "outputId": "42a2b59e-6a97-4f58-f946-a3f16c620a79"
      },
      "execution_count": null,
      "outputs": [
        {
          "output_type": "stream",
          "name": "stdout",
          "text": [
            "<class 'pandas.core.frame.DataFrame'>\n",
            "Int64Index: 100000 entries, 0 to 99999\n",
            "Data columns (total 17 columns):\n",
            " #   Column      Non-Null Count   Dtype  \n",
            "---  ------      --------------   -----  \n",
            " 0   성별          100000 non-null  int64  \n",
            " 1   나이          100000 non-null  int64  \n",
            " 2   bmi         100000 non-null  float64\n",
            " 3   비만여부        100000 non-null  int64  \n",
            " 4   혈색소         100000 non-null  float64\n",
            " 5   빈혈여부        100000 non-null  int64  \n",
            " 6   식전혈당(공복혈당)  100000 non-null  float64\n",
            " 7   당뇨여부        100000 non-null  int64  \n",
            " 8   (혈청지오티)AST  100000 non-null  float64\n",
            " 9   AST구분       100000 non-null  int64  \n",
            " 10  (혈청지오티)ALT  100000 non-null  float64\n",
            " 11  ALT구분       100000 non-null  int64  \n",
            " 12  AST/ALT비율   100000 non-null  float64\n",
            " 13  감마 지티피      100000 non-null  float64\n",
            " 14  GTP/ALT비율   100000 non-null  float64\n",
            " 15  음주여부        100000 non-null  float64\n",
            " 16  간 수치        100000 non-null  int64  \n",
            "dtypes: float64(9), int64(8)\n",
            "memory usage: 13.7 MB\n"
          ]
        }
      ]
    },
    {
      "cell_type": "code",
      "source": [
        "# 오차행렬, 정확도, 정밀도, 재현율을 한번에 출력하기 위한 함수 정의\n",
        "\n",
        "from sklearn.metrics import accuracy_score, precision_score, recall_score, confusion_matrix\n",
        "\n",
        "def get_clf_eval(ytest, pred):\n",
        "    confusion = confusion_matrix(ytest, y_pred)\n",
        "    accuracy = accuracy_score(ytest, y_pred)\n",
        "    precision = precision_score(ytest, y_pred)\n",
        "    recall = recall_score(ytest, y_pred)\n",
        "    print('Confusion Matrix')\n",
        "    print(confusion)\n",
        "    print('정확도:{}, 정밀도:{}, 재현율:{}'.format(accuracy, precision, recall))"
      ],
      "metadata": {
        "id": "IfgWeurZF7ze"
      },
      "execution_count": 22,
      "outputs": []
    },
    {
      "cell_type": "code",
      "source": [
        "from sklearn.model_selection import train_test_split\n",
        "from sklearn.metrics import mean_squared_error\n",
        "\n",
        "\n",
        "def get_clf_eval(ytest, y_pred):\n",
        "    confusion = confusion_matrix(ytest, y_pred)\n",
        "    accuracy = accuracy_score(ytest, y_pred)\n",
        "    precision = precision_score(ytest, y_pred)\n",
        "    recall = recall_score(ytest, y_pred)\n",
        "    return np.sqrt(mean_squared_error(np.expm1(ytest), np.expm1(y_pred)))\n",
        "\n",
        "from sklearn.linear_model import LogisticRegression\n",
        "from sklearn.svm import LinearSVC\n",
        "#from sklearn import metrics, svm\n",
        "from sklearn.ensemble import RandomForestClassifier\n",
        "from sklearn.neighbors import KNeighborsClassifier\n",
        "\n",
        "\n",
        "random_state=2022 \n",
        "\n",
        "logistic = LogisticRegression(random_state=random_state)\n",
        "svm = LinearSVC(random_state=random_state)\n",
        "forest = RandomForestClassifier(random_state=random_state) #n_estimators=100\n",
        "knn = KNeighborsClassifier()  #n_neighbors = 3\n",
        "\n",
        "\n",
        "models = [logistic, svm, forest, knn]\n",
        "\n",
        "print('OK 완료!')"
      ],
      "metadata": {
        "colab": {
          "base_uri": "https://localhost:8080/"
        },
        "id": "FDYuT6-_LUFB",
        "outputId": "7ec114fa-5606-47ee-92e9-4e1f3ec447e7"
      },
      "execution_count": 23,
      "outputs": [
        {
          "output_type": "stream",
          "name": "stdout",
          "text": [
            "OK 완료!\n"
          ]
        }
      ]
    },
    {
      "cell_type": "code",
      "source": [
        "#<<<<<<응용!!!!!!!!!>>>>>>>\n",
        "\n",
        "def get_scores(models, train, y):\n",
        "    # 답안 작성\n",
        "    df = {}\n",
        "    \n",
        "    for model in models:\n",
        "        model_name = model.__class__.__name__\n",
        "        \n",
        "#        X_train, X_test, y_train, y_test = train_test_split(train, y, random_state=random_state, test_size=0.2)\n",
        "        model.fit(xtrain, ytrain)\n",
        "        y_pred = model.predict(xtest)\n",
        "        \n",
        "        df[model_name] = get_clf_eval(ytest, y_pred)\n",
        "        score_df = pd.DataFrame(df, index=['f1-score']).T.sort_values('f1-score', ascending=True)\n",
        "            \n",
        "    return score_df\n",
        "\n",
        "get_scores(models, train, yt)"
      ],
      "metadata": {
        "colab": {
          "base_uri": "https://localhost:8080/",
          "height": 175
        },
        "id": "eBJgR87yLGUC",
        "outputId": "21c592a3-8fec-44b9-ae5c-d0ca92c7c749"
      },
      "execution_count": null,
      "outputs": [
        {
          "output_type": "execute_result",
          "data": {
            "text/plain": [
              "                        f1-score\n",
              "RandomForestClassifier  0.000000\n",
              "LinearSVC               0.060750\n",
              "LogisticRegression      0.197789\n",
              "KNeighborsClassifier    0.270322"
            ],
            "text/html": [
              "\n",
              "  <div id=\"df-2af1e50b-7f13-4e2a-ae7a-55e6e9de57a6\">\n",
              "    <div class=\"colab-df-container\">\n",
              "      <div>\n",
              "<style scoped>\n",
              "    .dataframe tbody tr th:only-of-type {\n",
              "        vertical-align: middle;\n",
              "    }\n",
              "\n",
              "    .dataframe tbody tr th {\n",
              "        vertical-align: top;\n",
              "    }\n",
              "\n",
              "    .dataframe thead th {\n",
              "        text-align: right;\n",
              "    }\n",
              "</style>\n",
              "<table border=\"1\" class=\"dataframe\">\n",
              "  <thead>\n",
              "    <tr style=\"text-align: right;\">\n",
              "      <th></th>\n",
              "      <th>f1-score</th>\n",
              "    </tr>\n",
              "  </thead>\n",
              "  <tbody>\n",
              "    <tr>\n",
              "      <th>RandomForestClassifier</th>\n",
              "      <td>0.000000</td>\n",
              "    </tr>\n",
              "    <tr>\n",
              "      <th>LinearSVC</th>\n",
              "      <td>0.060750</td>\n",
              "    </tr>\n",
              "    <tr>\n",
              "      <th>LogisticRegression</th>\n",
              "      <td>0.197789</td>\n",
              "    </tr>\n",
              "    <tr>\n",
              "      <th>KNeighborsClassifier</th>\n",
              "      <td>0.270322</td>\n",
              "    </tr>\n",
              "  </tbody>\n",
              "</table>\n",
              "</div>\n",
              "      <button class=\"colab-df-convert\" onclick=\"convertToInteractive('df-2af1e50b-7f13-4e2a-ae7a-55e6e9de57a6')\"\n",
              "              title=\"Convert this dataframe to an interactive table.\"\n",
              "              style=\"display:none;\">\n",
              "        \n",
              "  <svg xmlns=\"http://www.w3.org/2000/svg\" height=\"24px\"viewBox=\"0 0 24 24\"\n",
              "       width=\"24px\">\n",
              "    <path d=\"M0 0h24v24H0V0z\" fill=\"none\"/>\n",
              "    <path d=\"M18.56 5.44l.94 2.06.94-2.06 2.06-.94-2.06-.94-.94-2.06-.94 2.06-2.06.94zm-11 1L8.5 8.5l.94-2.06 2.06-.94-2.06-.94L8.5 2.5l-.94 2.06-2.06.94zm10 10l.94 2.06.94-2.06 2.06-.94-2.06-.94-.94-2.06-.94 2.06-2.06.94z\"/><path d=\"M17.41 7.96l-1.37-1.37c-.4-.4-.92-.59-1.43-.59-.52 0-1.04.2-1.43.59L10.3 9.45l-7.72 7.72c-.78.78-.78 2.05 0 2.83L4 21.41c.39.39.9.59 1.41.59.51 0 1.02-.2 1.41-.59l7.78-7.78 2.81-2.81c.8-.78.8-2.07 0-2.86zM5.41 20L4 18.59l7.72-7.72 1.47 1.35L5.41 20z\"/>\n",
              "  </svg>\n",
              "      </button>\n",
              "      \n",
              "  <style>\n",
              "    .colab-df-container {\n",
              "      display:flex;\n",
              "      flex-wrap:wrap;\n",
              "      gap: 12px;\n",
              "    }\n",
              "\n",
              "    .colab-df-convert {\n",
              "      background-color: #E8F0FE;\n",
              "      border: none;\n",
              "      border-radius: 50%;\n",
              "      cursor: pointer;\n",
              "      display: none;\n",
              "      fill: #1967D2;\n",
              "      height: 32px;\n",
              "      padding: 0 0 0 0;\n",
              "      width: 32px;\n",
              "    }\n",
              "\n",
              "    .colab-df-convert:hover {\n",
              "      background-color: #E2EBFA;\n",
              "      box-shadow: 0px 1px 2px rgba(60, 64, 67, 0.3), 0px 1px 3px 1px rgba(60, 64, 67, 0.15);\n",
              "      fill: #174EA6;\n",
              "    }\n",
              "\n",
              "    [theme=dark] .colab-df-convert {\n",
              "      background-color: #3B4455;\n",
              "      fill: #D2E3FC;\n",
              "    }\n",
              "\n",
              "    [theme=dark] .colab-df-convert:hover {\n",
              "      background-color: #434B5C;\n",
              "      box-shadow: 0px 1px 3px 1px rgba(0, 0, 0, 0.15);\n",
              "      filter: drop-shadow(0px 1px 2px rgba(0, 0, 0, 0.3));\n",
              "      fill: #FFFFFF;\n",
              "    }\n",
              "  </style>\n",
              "\n",
              "      <script>\n",
              "        const buttonEl =\n",
              "          document.querySelector('#df-2af1e50b-7f13-4e2a-ae7a-55e6e9de57a6 button.colab-df-convert');\n",
              "        buttonEl.style.display =\n",
              "          google.colab.kernel.accessAllowed ? 'block' : 'none';\n",
              "\n",
              "        async function convertToInteractive(key) {\n",
              "          const element = document.querySelector('#df-2af1e50b-7f13-4e2a-ae7a-55e6e9de57a6');\n",
              "          const dataTable =\n",
              "            await google.colab.kernel.invokeFunction('convertToInteractive',\n",
              "                                                     [key], {});\n",
              "          if (!dataTable) return;\n",
              "\n",
              "          const docLinkHtml = 'Like what you see? Visit the ' +\n",
              "            '<a target=\"_blank\" href=https://colab.research.google.com/notebooks/data_table.ipynb>data table notebook</a>'\n",
              "            + ' to learn more about interactive tables.';\n",
              "          element.innerHTML = '';\n",
              "          dataTable['output_type'] = 'display_data';\n",
              "          await google.colab.output.renderOutput(dataTable, element);\n",
              "          const docLink = document.createElement('div');\n",
              "          docLink.innerHTML = docLinkHtml;\n",
              "          element.appendChild(docLink);\n",
              "        }\n",
              "      </script>\n",
              "    </div>\n",
              "  </div>\n",
              "  "
            ]
          },
          "metadata": {},
          "execution_count": 15
        }
      ]
    },
    {
      "cell_type": "code",
      "source": [
        "from sklearn.model_selection import train_test_split\n",
        "from sklearn.metrics import mean_squared_error\n",
        "\n",
        "\n",
        "def get_clf_eval(ytest, y_pred):\n",
        "    confusion = confusion_matrix(ytest, y_pred)\n",
        "    accuracy = accuracy_score(ytest, y_pred)\n",
        "    precision = precision_score(ytest, y_pred)\n",
        "    recall = recall_score(ytest, y_pred)\n",
        "    return np.sqrt(mean_squared_error(np.expm1(ytest), np.expm1(y_pred)))\n",
        "\n",
        "from sklearn.linear_model import LogisticRegression\n",
        "from sklearn.svm import LinearSVC\n",
        "#from sklearn import metrics, svm\n",
        "from sklearn.ensemble import RandomForestClassifier\n",
        "from sklearn.neighbors import KNeighborsClassifier\n",
        "\n",
        "\n",
        "random_state=2022 \n",
        "\n",
        "logistic = LogisticRegression()\n",
        "svm = LinearSVC(C=4)\n",
        "forest = RandomForestClassifier(n_estimators=10) #n_estimators=100\n",
        "knn = KNeighborsClassifier(n_neighbors = 3)  #n_neighbors = 3\n",
        "\n",
        "\n",
        "models = [logistic, svm, forest, knn]\n",
        "\n",
        "print('OK 완료!')"
      ],
      "metadata": {
        "colab": {
          "base_uri": "https://localhost:8080/"
        },
        "id": "3JYVUeoBxewQ",
        "outputId": "98015a7e-3d6e-460a-f039-afa7a4858887"
      },
      "execution_count": 24,
      "outputs": [
        {
          "output_type": "stream",
          "name": "stdout",
          "text": [
            "OK 완료!\n"
          ]
        }
      ]
    },
    {
      "cell_type": "code",
      "source": [
        "#<<<<<<응용!!!!!!!!!>>>>>>>\n",
        "\n",
        "def get_scores(models, train, y):\n",
        "    # 답안 작성\n",
        "    df = {}\n",
        "    \n",
        "    for model in models:\n",
        "        model_name = model.__class__.__name__\n",
        "        \n",
        "        xtrain,xtest,ytrain,ytest=train_test_split(xt, yt, test_size=0.2, random_state=42)\n",
        "        model.fit(xtrain, ytrain)\n",
        "        y_pred = model.predict(xtest)\n",
        "        \n",
        "        df[model_name] = get_clf_eval(ytest, y_pred)\n",
        "        score_df = pd.DataFrame(df, index=['f1-score']).T.sort_values('f1-score', ascending=True)\n",
        "            \n",
        "    return score_df\n",
        "\n",
        "get_scores(models, train, yt)"
      ],
      "metadata": {
        "colab": {
          "base_uri": "https://localhost:8080/",
          "height": 175
        },
        "id": "yLNwSjtGxa-q",
        "outputId": "489edd04-ad0a-4544-edff-a4a78f417c33"
      },
      "execution_count": 25,
      "outputs": [
        {
          "output_type": "execute_result",
          "data": {
            "text/plain": [
              "                        f1-score\n",
              "LinearSVC               0.000000\n",
              "RandomForestClassifier  0.000000\n",
              "LogisticRegression      0.197789\n",
              "KNeighborsClassifier    0.274656"
            ],
            "text/html": [
              "\n",
              "  <div id=\"df-f2d5a577-1777-4e8e-bffd-36340f86eb4c\">\n",
              "    <div class=\"colab-df-container\">\n",
              "      <div>\n",
              "<style scoped>\n",
              "    .dataframe tbody tr th:only-of-type {\n",
              "        vertical-align: middle;\n",
              "    }\n",
              "\n",
              "    .dataframe tbody tr th {\n",
              "        vertical-align: top;\n",
              "    }\n",
              "\n",
              "    .dataframe thead th {\n",
              "        text-align: right;\n",
              "    }\n",
              "</style>\n",
              "<table border=\"1\" class=\"dataframe\">\n",
              "  <thead>\n",
              "    <tr style=\"text-align: right;\">\n",
              "      <th></th>\n",
              "      <th>f1-score</th>\n",
              "    </tr>\n",
              "  </thead>\n",
              "  <tbody>\n",
              "    <tr>\n",
              "      <th>LinearSVC</th>\n",
              "      <td>0.000000</td>\n",
              "    </tr>\n",
              "    <tr>\n",
              "      <th>RandomForestClassifier</th>\n",
              "      <td>0.000000</td>\n",
              "    </tr>\n",
              "    <tr>\n",
              "      <th>LogisticRegression</th>\n",
              "      <td>0.197789</td>\n",
              "    </tr>\n",
              "    <tr>\n",
              "      <th>KNeighborsClassifier</th>\n",
              "      <td>0.274656</td>\n",
              "    </tr>\n",
              "  </tbody>\n",
              "</table>\n",
              "</div>\n",
              "      <button class=\"colab-df-convert\" onclick=\"convertToInteractive('df-f2d5a577-1777-4e8e-bffd-36340f86eb4c')\"\n",
              "              title=\"Convert this dataframe to an interactive table.\"\n",
              "              style=\"display:none;\">\n",
              "        \n",
              "  <svg xmlns=\"http://www.w3.org/2000/svg\" height=\"24px\"viewBox=\"0 0 24 24\"\n",
              "       width=\"24px\">\n",
              "    <path d=\"M0 0h24v24H0V0z\" fill=\"none\"/>\n",
              "    <path d=\"M18.56 5.44l.94 2.06.94-2.06 2.06-.94-2.06-.94-.94-2.06-.94 2.06-2.06.94zm-11 1L8.5 8.5l.94-2.06 2.06-.94-2.06-.94L8.5 2.5l-.94 2.06-2.06.94zm10 10l.94 2.06.94-2.06 2.06-.94-2.06-.94-.94-2.06-.94 2.06-2.06.94z\"/><path d=\"M17.41 7.96l-1.37-1.37c-.4-.4-.92-.59-1.43-.59-.52 0-1.04.2-1.43.59L10.3 9.45l-7.72 7.72c-.78.78-.78 2.05 0 2.83L4 21.41c.39.39.9.59 1.41.59.51 0 1.02-.2 1.41-.59l7.78-7.78 2.81-2.81c.8-.78.8-2.07 0-2.86zM5.41 20L4 18.59l7.72-7.72 1.47 1.35L5.41 20z\"/>\n",
              "  </svg>\n",
              "      </button>\n",
              "      \n",
              "  <style>\n",
              "    .colab-df-container {\n",
              "      display:flex;\n",
              "      flex-wrap:wrap;\n",
              "      gap: 12px;\n",
              "    }\n",
              "\n",
              "    .colab-df-convert {\n",
              "      background-color: #E8F0FE;\n",
              "      border: none;\n",
              "      border-radius: 50%;\n",
              "      cursor: pointer;\n",
              "      display: none;\n",
              "      fill: #1967D2;\n",
              "      height: 32px;\n",
              "      padding: 0 0 0 0;\n",
              "      width: 32px;\n",
              "    }\n",
              "\n",
              "    .colab-df-convert:hover {\n",
              "      background-color: #E2EBFA;\n",
              "      box-shadow: 0px 1px 2px rgba(60, 64, 67, 0.3), 0px 1px 3px 1px rgba(60, 64, 67, 0.15);\n",
              "      fill: #174EA6;\n",
              "    }\n",
              "\n",
              "    [theme=dark] .colab-df-convert {\n",
              "      background-color: #3B4455;\n",
              "      fill: #D2E3FC;\n",
              "    }\n",
              "\n",
              "    [theme=dark] .colab-df-convert:hover {\n",
              "      background-color: #434B5C;\n",
              "      box-shadow: 0px 1px 3px 1px rgba(0, 0, 0, 0.15);\n",
              "      filter: drop-shadow(0px 1px 2px rgba(0, 0, 0, 0.3));\n",
              "      fill: #FFFFFF;\n",
              "    }\n",
              "  </style>\n",
              "\n",
              "      <script>\n",
              "        const buttonEl =\n",
              "          document.querySelector('#df-f2d5a577-1777-4e8e-bffd-36340f86eb4c button.colab-df-convert');\n",
              "        buttonEl.style.display =\n",
              "          google.colab.kernel.accessAllowed ? 'block' : 'none';\n",
              "\n",
              "        async function convertToInteractive(key) {\n",
              "          const element = document.querySelector('#df-f2d5a577-1777-4e8e-bffd-36340f86eb4c');\n",
              "          const dataTable =\n",
              "            await google.colab.kernel.invokeFunction('convertToInteractive',\n",
              "                                                     [key], {});\n",
              "          if (!dataTable) return;\n",
              "\n",
              "          const docLinkHtml = 'Like what you see? Visit the ' +\n",
              "            '<a target=\"_blank\" href=https://colab.research.google.com/notebooks/data_table.ipynb>data table notebook</a>'\n",
              "            + ' to learn more about interactive tables.';\n",
              "          element.innerHTML = '';\n",
              "          dataTable['output_type'] = 'display_data';\n",
              "          await google.colab.output.renderOutput(dataTable, element);\n",
              "          const docLink = document.createElement('div');\n",
              "          docLink.innerHTML = docLinkHtml;\n",
              "          element.appendChild(docLink);\n",
              "        }\n",
              "      </script>\n",
              "    </div>\n",
              "  </div>\n",
              "  "
            ]
          },
          "metadata": {},
          "execution_count": 25
        }
      ]
    },
    {
      "cell_type": "code",
      "source": [
        "# 로지스틱 회귀 알고리즘을 이용한 생존자 이진 분류 모델\n",
        "from sklearn.linear_model import LogisticRegression\n",
        "\n",
        "lr_clf = LogisticRegression()\n",
        "\n",
        "lr_clf.fit(xtrain, ytrain)\n",
        "pred = lr_clf.predict(xtest)\n",
        "\n",
        "get_clf_eval(ytest, pred)"
      ],
      "metadata": {
        "colab": {
          "base_uri": "https://localhost:8080/"
        },
        "id": "mzcfyT72GMAc",
        "outputId": "f574a186-1ff8-4a34-f026-935d851038a5"
      },
      "execution_count": null,
      "outputs": [
        {
          "output_type": "stream",
          "name": "stdout",
          "text": [
            "Confusion Matrix\n",
            "[[16113     0]\n",
            " [  265  3622]]\n",
            "정확도:0.98675, 정밀도:1.0, 재현율:0.9318240288139954\n"
          ]
        }
      ]
    },
    {
      "cell_type": "code",
      "source": [
        "from sklearn.metrics import f1_score\n",
        "\n",
        "f1 = f1_score(ytest, pred)\n",
        "print('f1 score :', f1)"
      ],
      "metadata": {
        "colab": {
          "base_uri": "https://localhost:8080/"
        },
        "id": "5E7UG-MbGP34",
        "outputId": "93992bb2-830b-46a0-ae26-89382c562d49"
      },
      "execution_count": null,
      "outputs": [
        {
          "output_type": "stream",
          "name": "stdout",
          "text": [
            "f1 score : 0.9647090158476495\n"
          ]
        }
      ]
    },
    {
      "cell_type": "code",
      "source": [
        "from sklearn.preprocessing import Binarizer\n",
        "import matplotlib.pyplot as plt\n",
        "\n",
        "thresholds = list(np.arange(0.1, 1, 0.01))\n",
        "pred_proba = lr_clf.predict_proba(xtest)\n",
        "\n",
        "def get_eval_by_threshold(ytest, pred_proba, thresholds):\n",
        "    for i in thresholds:\n",
        "        binarizer = Binarizer(threshold = i).fit(pred_proba)\n",
        "        pred = binarizer.transform(pred_proba)\n",
        "        \n",
        "        plt.scatter(i, precision_score(ytest, pred), color='b')\n",
        "        plt.scatter(i, recall_score(ytest, pred), color='r')\n",
        "        plt.scatter(i, f1_score(ytest, pred), color='g')\n",
        "\n",
        "get_eval_by_threshold(ytest, pred_proba[:,-1].reshape(-1, 1), thresholds)\n",
        "\n",
        "plt.grid()\n",
        "plt.show()"
      ],
      "metadata": {
        "colab": {
          "base_uri": "https://localhost:8080/",
          "height": 265
        },
        "id": "w34oXmxZGSCW",
        "outputId": "3a8a085a-1491-4711-ca6b-921202a5b75d"
      },
      "execution_count": null,
      "outputs": [
        {
          "output_type": "display_data",
          "data": {
            "text/plain": [
              "<Figure size 432x288 with 1 Axes>"
            ],
            "image/png": "[encoded data removed]"
          },
          "metadata": {
            "needs_background": "light"
          }
        }
      ]
    },
    {
      "cell_type": "code",
      "source": [
        "import numpy as np\n",
        "from sklearn.metrics import f1_score\n",
        "\n",
        "#define array of actual classes\n",
        "actual = np.repeat([1, 0], repeats=[160, 240])\n",
        "\n",
        "#define array of predicted classes\n",
        "pred = np.repeat([1, 0, 1, 0], repeats=[120, 40, 70, 170])\n",
        "\n",
        "#calculate F1 score\n",
        "f1_score(actual, pred)"
      ],
      "metadata": {
        "id": "Bd628b_e8KVr",
        "outputId": "82493b5c-544d-481b-be27-078c3d996dca",
        "colab": {
          "base_uri": "https://localhost:8080/",
          "height": 802
        }
      },
      "execution_count": null,
      "outputs": [
        {
          "output_type": "execute_result",
          "data": {
            "text/plain": [
              "               count        mean        std        min        25%        50%  \\\n",
              "성별          100000.0    0.488210   0.499863   0.000000   0.000000   0.000000   \n",
              "나이          100000.0   52.277600  10.785439  40.000000  40.000000  50.000000   \n",
              "bmi         100000.0   24.233258   3.522868  13.100000  22.000000  23.900000   \n",
              "비만여부        100000.0    0.600630   0.489771   0.000000   0.000000   1.000000   \n",
              "혈색소         100000.0   14.212699   1.555542   4.100000  13.200000  14.200000   \n",
              "빈혈여부        100000.0    0.195140   0.396310   0.000000   0.000000   0.000000   \n",
              "식전혈당(공복혈당)  100000.0  104.159110  25.169287  25.000000  91.000000  99.000000   \n",
              "당뇨여부        100000.0    0.478370   0.499534   0.000000   0.000000   0.000000   \n",
              "(혈청지오티)AST  100000.0   27.626787  22.643837   2.000000  20.000000  24.000000   \n",
              "AST구분       100000.0    0.091490   0.288306   0.000000   0.000000   0.000000   \n",
              "(혈청지오티)ALT  100000.0   26.727916  23.780255   1.000000  16.000000  21.000000   \n",
              "ALT구분       100000.0    0.134240   0.340912   0.000000   0.000000   0.000000   \n",
              "AST/ALT비율   100000.0    1.199728   1.328164   0.063830   0.888889   1.129032   \n",
              "감마 지티피      100000.0   37.702780  51.760900   1.000000  16.000000  24.000000   \n",
              "GTP/ALT비율   100000.0    1.478904   1.437348   0.041667   0.812500   1.130435   \n",
              "음주여부        100000.0    0.587670   0.492256   0.000000   0.000000   1.000000   \n",
              "간 수치        100000.0    0.069130   0.253676   0.000000   0.000000   0.000000   \n",
              "\n",
              "                   75%          max  \n",
              "성별            1.000000     1.000000  \n",
              "나이           60.000000    80.000000  \n",
              "bmi          26.200000    48.900000  \n",
              "비만여부          1.000000     1.000000  \n",
              "혈색소          15.300000    25.000000  \n",
              "빈혈여부          0.000000     1.000000  \n",
              "식전혈당(공복혈당)  109.000000   701.000000  \n",
              "당뇨여부          1.000000     1.000000  \n",
              "(혈청지오티)AST   30.000000  2993.000000  \n",
              "AST구분         0.000000     1.000000  \n",
              "(혈청지오티)ALT   31.000000  2031.000000  \n",
              "ALT구분         0.000000     1.000000  \n",
              "AST/ALT비율     1.411765   381.333333  \n",
              "감마 지티피       40.000000  2322.000000  \n",
              "GTP/ALT비율     1.654178    89.666667  \n",
              "음주여부          1.000000     1.000000  \n",
              "간 수치          0.000000     1.000000  "
            ],
            "text/html": [
              "\n",
              "  <div id=\"df-6fc88243-25eb-4506-b20f-a060ae60ceb7\">\n",
              "    <div class=\"colab-df-container\">\n",
              "      <div>\n",
              "<style scoped>\n",
              "    .dataframe tbody tr th:only-of-type {\n",
              "        vertical-align: middle;\n",
              "    }\n",
              "\n",
              "    .dataframe tbody tr th {\n",
              "        vertical-align: top;\n",
              "    }\n",
              "\n",
              "    .dataframe thead th {\n",
              "        text-align: right;\n",
              "    }\n",
              "</style>\n",
              "<table border=\"1\" class=\"dataframe\">\n",
              "  <thead>\n",
              "    <tr style=\"text-align: right;\">\n",
              "      <th></th>\n",
              "      <th>count</th>\n",
              "      <th>mean</th>\n",
              "      <th>std</th>\n",
              "      <th>min</th>\n",
              "      <th>25%</th>\n",
              "      <th>50%</th>\n",
              "      <th>75%</th>\n",
              "      <th>max</th>\n",
              "    </tr>\n",
              "  </thead>\n",
              "  <tbody>\n",
              "    <tr>\n",
              "      <th>성별</th>\n",
              "      <td>100000.0</td>\n",
              "      <td>0.488210</td>\n",
              "      <td>0.499863</td>\n",
              "      <td>0.000000</td>\n",
              "      <td>0.000000</td>\n",
              "      <td>0.000000</td>\n",
              "      <td>1.000000</td>\n",
              "      <td>1.000000</td>\n",
              "    </tr>\n",
              "    <tr>\n",
              "      <th>나이</th>\n",
              "      <td>100000.0</td>\n",
              "      <td>52.277600</td>\n",
              "      <td>10.785439</td>\n",
              "      <td>40.000000</td>\n",
              "      <td>40.000000</td>\n",
              "      <td>50.000000</td>\n",
              "      <td>60.000000</td>\n",
              "      <td>80.000000</td>\n",
              "    </tr>\n",
              "    <tr>\n",
              "      <th>bmi</th>\n",
              "      <td>100000.0</td>\n",
              "      <td>24.233258</td>\n",
              "      <td>3.522868</td>\n",
              "      <td>13.100000</td>\n",
              "      <td>22.000000</td>\n",
              "      <td>23.900000</td>\n",
              "      <td>26.200000</td>\n",
              "      <td>48.900000</td>\n",
              "    </tr>\n",
              "    <tr>\n",
              "      <th>비만여부</th>\n",
              "      <td>100000.0</td>\n",
              "      <td>0.600630</td>\n",
              "      <td>0.489771</td>\n",
              "      <td>0.000000</td>\n",
              "      <td>0.000000</td>\n",
              "      <td>1.000000</td>\n",
              "      <td>1.000000</td>\n",
              "      <td>1.000000</td>\n",
              "    </tr>\n",
              "    <tr>\n",
              "      <th>혈색소</th>\n",
              "      <td>100000.0</td>\n",
              "      <td>14.212699</td>\n",
              "      <td>1.555542</td>\n",
              "      <td>4.100000</td>\n",
              "      <td>13.200000</td>\n",
              "      <td>14.200000</td>\n",
              "      <td>15.300000</td>\n",
              "      <td>25.000000</td>\n",
              "    </tr>\n",
              "    <tr>\n",
              "      <th>빈혈여부</th>\n",
              "      <td>100000.0</td>\n",
              "      <td>0.195140</td>\n",
              "      <td>0.396310</td>\n",
              "      <td>0.000000</td>\n",
              "      <td>0.000000</td>\n",
              "      <td>0.000000</td>\n",
              "      <td>0.000000</td>\n",
              "      <td>1.000000</td>\n",
              "    </tr>\n",
              "    <tr>\n",
              "      <th>식전혈당(공복혈당)</th>\n",
              "      <td>100000.0</td>\n",
              "      <td>104.159110</td>\n",
              "      <td>25.169287</td>\n",
              "      <td>25.000000</td>\n",
              "      <td>91.000000</td>\n",
              "      <td>99.000000</td>\n",
              "      <td>109.000000</td>\n",
              "      <td>701.000000</td>\n",
              "    </tr>\n",
              "    <tr>\n",
              "      <th>당뇨여부</th>\n",
              "      <td>100000.0</td>\n",
              "      <td>0.478370</td>\n",
              "      <td>0.499534</td>\n",
              "      <td>0.000000</td>\n",
              "      <td>0.000000</td>\n",
              "      <td>0.000000</td>\n",
              "      <td>1.000000</td>\n",
              "      <td>1.000000</td>\n",
              "    </tr>\n",
              "    <tr>\n",
              "      <th>(혈청지오티)AST</th>\n",
              "      <td>100000.0</td>\n",
              "      <td>27.626787</td>\n",
              "      <td>22.643837</td>\n",
              "      <td>2.000000</td>\n",
              "      <td>20.000000</td>\n",
              "      <td>24.000000</td>\n",
              "      <td>30.000000</td>\n",
              "      <td>2993.000000</td>\n",
              "    </tr>\n",
              "    <tr>\n",
              "      <th>AST구분</th>\n",
              "      <td>100000.0</td>\n",
              "      <td>0.091490</td>\n",
              "      <td>0.288306</td>\n",
              "      <td>0.000000</td>\n",
              "      <td>0.000000</td>\n",
              "      <td>0.000000</td>\n",
              "      <td>0.000000</td>\n",
              "      <td>1.000000</td>\n",
              "    </tr>\n",
              "    <tr>\n",
              "      <th>(혈청지오티)ALT</th>\n",
              "      <td>100000.0</td>\n",
              "      <td>26.727916</td>\n",
              "      <td>23.780255</td>\n",
              "      <td>1.000000</td>\n",
              "      <td>16.000000</td>\n",
              "      <td>21.000000</td>\n",
              "      <td>31.000000</td>\n",
              "      <td>2031.000000</td>\n",
              "    </tr>\n",
              "    <tr>\n",
              "      <th>ALT구분</th>\n",
              "      <td>100000.0</td>\n",
              "      <td>0.134240</td>\n",
              "      <td>0.340912</td>\n",
              "      <td>0.000000</td>\n",
              "      <td>0.000000</td>\n",
              "      <td>0.000000</td>\n",
              "      <td>0.000000</td>\n",
              "      <td>1.000000</td>\n",
              "    </tr>\n",
              "    <tr>\n",
              "      <th>AST/ALT비율</th>\n",
              "      <td>100000.0</td>\n",
              "      <td>1.199728</td>\n",
              "      <td>1.328164</td>\n",
              "      <td>0.063830</td>\n",
              "      <td>0.888889</td>\n",
              "      <td>1.129032</td>\n",
              "      <td>1.411765</td>\n",
              "      <td>381.333333</td>\n",
              "    </tr>\n",
              "    <tr>\n",
              "      <th>감마 지티피</th>\n",
              "      <td>100000.0</td>\n",
              "      <td>37.702780</td>\n",
              "      <td>51.760900</td>\n",
              "      <td>1.000000</td>\n",
              "      <td>16.000000</td>\n",
              "      <td>24.000000</td>\n",
              "      <td>40.000000</td>\n",
              "      <td>2322.000000</td>\n",
              "    </tr>\n",
              "    <tr>\n",
              "      <th>GTP/ALT비율</th>\n",
              "      <td>100000.0</td>\n",
              "      <td>1.478904</td>\n",
              "      <td>1.437348</td>\n",
              "      <td>0.041667</td>\n",
              "      <td>0.812500</td>\n",
              "      <td>1.130435</td>\n",
              "      <td>1.654178</td>\n",
              "      <td>89.666667</td>\n",
              "    </tr>\n",
              "    <tr>\n",
              "      <th>음주여부</th>\n",
              "      <td>100000.0</td>\n",
              "      <td>0.587670</td>\n",
              "      <td>0.492256</td>\n",
              "      <td>0.000000</td>\n",
              "      <td>0.000000</td>\n",
              "      <td>1.000000</td>\n",
              "      <td>1.000000</td>\n",
              "      <td>1.000000</td>\n",
              "    </tr>\n",
              "    <tr>\n",
              "      <th>간 수치</th>\n",
              "      <td>100000.0</td>\n",
              "      <td>0.069130</td>\n",
              "      <td>0.253676</td>\n",
              "      <td>0.000000</td>\n",
              "      <td>0.000000</td>\n",
              "      <td>0.000000</td>\n",
              "      <td>0.000000</td>\n",
              "      <td>1.000000</td>\n",
              "    </tr>\n",
              "  </tbody>\n",
              "</table>\n",
              "</div>\n",
              "      <button class=\"colab-df-convert\" onclick=\"convertToInteractive('df-6fc88243-25eb-4506-b20f-a060ae60ceb7')\"\n",
              "              title=\"Convert this dataframe to an interactive table.\"\n",
              "              style=\"display:none;\">\n",
              "        \n",
              "  <svg xmlns=\"http://www.w3.org/2000/svg\" height=\"24px\"viewBox=\"0 0 24 24\"\n",
              "       width=\"24px\">\n",
              "    <path d=\"M0 0h24v24H0V0z\" fill=\"none\"/>\n",
              "    <path d=\"M18.56 5.44l.94 2.06.94-2.06 2.06-.94-2.06-.94-.94-2.06-.94 2.06-2.06.94zm-11 1L8.5 8.5l.94-2.06 2.06-.94-2.06-.94L8.5 2.5l-.94 2.06-2.06.94zm10 10l.94 2.06.94-2.06 2.06-.94-2.06-.94-.94-2.06-.94 2.06-2.06.94z\"/><path d=\"M17.41 7.96l-1.37-1.37c-.4-.4-.92-.59-1.43-.59-.52 0-1.04.2-1.43.59L10.3 9.45l-7.72 7.72c-.78.78-.78 2.05 0 2.83L4 21.41c.39.39.9.59 1.41.59.51 0 1.02-.2 1.41-.59l7.78-7.78 2.81-2.81c.8-.78.8-2.07 0-2.86zM5.41 20L4 18.59l7.72-7.72 1.47 1.35L5.41 20z\"/>\n",
              "  </svg>\n",
              "      </button>\n",
              "      \n",
              "  <style>\n",
              "    .colab-df-container {\n",
              "      display:flex;\n",
              "      flex-wrap:wrap;\n",
              "      gap: 12px;\n",
              "    }\n",
              "\n",
              "    .colab-df-convert {\n",
              "      background-color: #E8F0FE;\n",
              "      border: none;\n",
              "      border-radius: 50%;\n",
              "      cursor: pointer;\n",
              "      display: none;\n",
              "      fill: #1967D2;\n",
              "      height: 32px;\n",
              "      padding: 0 0 0 0;\n",
              "      width: 32px;\n",
              "    }\n",
              "\n",
              "    .colab-df-convert:hover {\n",
              "      background-color: #E2EBFA;\n",
              "      box-shadow: 0px 1px 2px rgba(60, 64, 67, 0.3), 0px 1px 3px 1px rgba(60, 64, 67, 0.15);\n",
              "      fill: #174EA6;\n",
              "    }\n",
              "\n",
              "    [theme=dark] .colab-df-convert {\n",
              "      background-color: #3B4455;\n",
              "      fill: #D2E3FC;\n",
              "    }\n",
              "\n",
              "    [theme=dark] .colab-df-convert:hover {\n",
              "      background-color: #434B5C;\n",
              "      box-shadow: 0px 1px 3px 1px rgba(0, 0, 0, 0.15);\n",
              "      filter: drop-shadow(0px 1px 2px rgba(0, 0, 0, 0.3));\n",
              "      fill: #FFFFFF;\n",
              "    }\n",
              "  </style>\n",
              "\n",
              "      <script>\n",
              "        const buttonEl =\n",
              "          document.querySelector('#df-6fc88243-25eb-4506-b20f-a060ae60ceb7 button.colab-df-convert');\n",
              "        buttonEl.style.display =\n",
              "          google.colab.kernel.accessAllowed ? 'block' : 'none';\n",
              "\n",
              "        async function convertToInteractive(key) {\n",
              "          const element = document.querySelector('#df-6fc88243-25eb-4506-b20f-a060ae60ceb7');\n",
              "          const dataTable =\n",
              "            await google.colab.kernel.invokeFunction('convertToInteractive',\n",
              "                                                     [key], {});\n",
              "          if (!dataTable) return;\n",
              "\n",
              "          const docLinkHtml = 'Like what you see? Visit the ' +\n",
              "            '<a target=\"_blank\" href=https://colab.research.google.com/notebooks/data_table.ipynb>data table notebook</a>'\n",
              "            + ' to learn more about interactive tables.';\n",
              "          element.innerHTML = '';\n",
              "          dataTable['output_type'] = 'display_data';\n",
              "          await google.colab.output.renderOutput(dataTable, element);\n",
              "          const docLink = document.createElement('div');\n",
              "          docLink.innerHTML = docLinkHtml;\n",
              "          element.appendChild(docLink);\n",
              "        }\n",
              "      </script>\n",
              "    </div>\n",
              "  </div>\n",
              "  "
            ]
          },
          "metadata": {},
          "execution_count": 7
        }
      ]
    },
    {
      "cell_type": "code",
      "source": [
        "from sklearn.ensemble import RandomForestClassifier\n",
        "from sklearn.metrics import classification_report"
      ],
      "metadata": {
        "id": "O-pZnYIG7jx3"
      },
      "execution_count": null,
      "outputs": []
    },
    {
      "cell_type": "markdown",
      "source": [
        "## 모델 훈련"
      ],
      "metadata": {
        "id": "a-eeLe60TX8W"
      }
    },
    {
      "cell_type": "code",
      "source": [
        "svm_model = svm.SVC(kernel='linear', C=4)\n",
        " \n",
        "svm_model.fit(xtrain, ytrain) # SVM 분류 모델 훈련"
      ],
      "metadata": {
        "id": "d0ekPVStFw0c",
        "colab": {
          "base_uri": "https://localhost:8080/"
        },
        "outputId": "4f359d25-fd76-4fda-b0bd-ccf5a86c7efa"
      },
      "execution_count": null,
      "outputs": [
        {
          "output_type": "execute_result",
          "data": {
            "text/plain": [
              "SVC(C=4, kernel='linear')"
            ]
          },
          "metadata": {},
          "execution_count": 10
        }
      ]
    },
    {
      "cell_type": "code",
      "source": [
        "y_pred = svm_model.predict(xtest) # 테스트"
      ],
      "metadata": {
        "id": "tXvegYCQTxoD"
      },
      "execution_count": null,
      "outputs": []
    },
    {
      "cell_type": "code",
      "source": [
        "score = metrics.accuracy_score(y_pred,ytest)\n",
        "report = metrics.classification_report(y_pred,ytest)\n",
        "\n",
        "print(score)\n",
        "print(report)"
      ],
      "metadata": {
        "colab": {
          "base_uri": "https://localhost:8080/"
        },
        "id": "5Dr89EqWV9XB",
        "outputId": "aa97085d-ef95-4c3e-c9bc-3d6aea0c4092"
      },
      "execution_count": null,
      "outputs": [
        {
          "output_type": "stream",
          "name": "stdout",
          "text": [
            "1.0\n",
            "              precision    recall  f1-score   support\n",
            "\n",
            "           0       1.00      1.00      1.00     16113\n",
            "           1       1.00      1.00      1.00      3887\n",
            "\n",
            "    accuracy                           1.00     20000\n",
            "   macro avg       1.00      1.00      1.00     20000\n",
            "weighted avg       1.00      1.00      1.00     20000\n",
            "\n"
          ]
        }
      ]
    },
    {
      "cell_type": "code",
      "source": [
        "print(\"예측된 라벨:\", y_pred)\n",
        "print(\"ground-truth 라벨:\", ytest)"
      ],
      "metadata": {
        "colab": {
          "base_uri": "https://localhost:8080/"
        },
        "id": "kn7aRcisT0IZ",
        "outputId": "025056bd-0d24-449f-b341-57cf2171c235"
      },
      "execution_count": null,
      "outputs": [
        {
          "output_type": "stream",
          "name": "stdout",
          "text": [
            "예측된 라벨: ['0' '0' '1' ... '1' '0' '0']\n",
            "ground-truth 라벨: ['0' '0' '1' ... '1' '0' '0']\n"
          ]
        }
      ]
    },
    {
      "cell_type": "markdown",
      "source": [
        "# Overfitting 확인\n",
        "- 성능 평가 다양하게 진행 : [참고](https://datascience.stackexchange.com/questions/26640/how-to-check-for-overfitting-with-svm-and-iris-data)\n",
        "- [SVM 과접합에 대하여](https://stats.stackexchange.com/questions/35276/svm-overfitting-curse-of-dimensionality)\n",
        "\n",
        "### (1) raw accuracy"
      ],
      "metadata": {
        "id": "2WPgpWCygw6Q"
      }
    },
    {
      "cell_type": "code",
      "source": [
        "accuracy_score(y_pred, ytest)"
      ],
      "metadata": {
        "colab": {
          "base_uri": "https://localhost:8080/"
        },
        "id": "PfLK3iBoiQLm",
        "outputId": "11ee5e64-7d1a-4d0f-839b-ea45c4cfc228"
      },
      "execution_count": null,
      "outputs": [
        {
          "output_type": "execute_result",
          "data": {
            "text/plain": [
              "1.0"
            ]
          },
          "metadata": {},
          "execution_count": 29
        }
      ]
    },
    {
      "cell_type": "markdown",
      "source": [
        "### (2) cross_val_score\n",
        "- Using the cross_val_score function, and printing the mean score and 95% confidence interval of the score estimate:"
      ],
      "metadata": {
        "id": "l05o_J7Pj6JP"
      }
    },
    {
      "cell_type": "code",
      "source": [
        "from sklearn.model_selection import cross_val_score\n",
        "\n",
        "scores = cross_val_score(svm_model, xt, yt, cv=5)\n",
        "print(\"Accuracy: %0.2f (+/- %0.2f)\" % (scores.mean(), scores.std() * 2))"
      ],
      "metadata": {
        "colab": {
          "base_uri": "https://localhost:8080/"
        },
        "id": "Qtqor6H9igce",
        "outputId": "f2970caa-3ad7-405e-9fce-c6179d993d01"
      },
      "execution_count": null,
      "outputs": [
        {
          "output_type": "stream",
          "name": "stdout",
          "text": [
            "Accuracy: 0.99 (+/- 0.00)\n"
          ]
        }
      ]
    },
    {
      "cell_type": "markdown",
      "source": [
        "=> 교차 검증을 진행할 경우 raw accuracy보다 낮은 정확도를 보여줌   \n",
        "=> overfitting 검사를 위해 KFold 검사 추천\n",
        "\n",
        "### (3) KFold 유효성 검사\n",
        "- [KFold에 대하여](https://scikit-learn.org/stable/modules/generated/sklearn.model_selection.KFold.html)"
      ],
      "metadata": {
        "id": "d1_hEtUUkmHo"
      }
    },
    {
      "cell_type": "code",
      "source": [
        "print(\"prediction accuracy: {:.2f}\".format(np.mean(y_pred == ytest))) # 예측 정확도"
      ],
      "metadata": {
        "colab": {
          "base_uri": "https://localhost:8080/"
        },
        "id": "KLtWC5DET-Ea",
        "outputId": "b0adb4a2-096a-4649-bff6-790a993b4f34"
      },
      "execution_count": null,
      "outputs": [
        {
          "output_type": "stream",
          "name": "stdout",
          "text": [
            "prediction accuracy: 1.00\n"
          ]
        }
      ]
    },
    {
      "cell_type": "code",
      "source": [
        "# from sklearn.model_selection import KFold\n",
        "# import numpy as np\n",
        "# acc_score = []\n",
        "\n",
        "# kf = KFold(n_splits=5)\n",
        "\n",
        "# # for train_index, test_index in kf.split(x):\n",
        "\n",
        "# #     xtrain, Xtest = x[train_index], X[test_index]\n",
        "# #     ytrain, ytest = y[train_index], y[test_index]\n",
        "\n",
        "# #     svm_model.fit(Xtrain,ytrain)\n",
        "# #     predictions = svm_model.predict(xtest)\n",
        "# #     acc_score.append(accuracy_score(predictions, ytest))\n",
        "\n",
        "# accuracy_score(y_pred, ytest)\n",
        "# acc_score.append(accuracy_score(y_pred, ytest))\n",
        "\n",
        "# np.mean(acc_score)"
      ],
      "metadata": {
        "colab": {
          "base_uri": "https://localhost:8080/"
        },
        "id": "9ZbUR5eRgzLe",
        "outputId": "ff631e74-1e0b-48d5-a4b1-6934a1860561"
      },
      "execution_count": null,
      "outputs": [
        {
          "output_type": "execute_result",
          "data": {
            "text/plain": [
              "1.0"
            ]
          },
          "metadata": {},
          "execution_count": 31
        }
      ]
    },
    {
      "cell_type": "markdown",
      "source": [
        "## svm 시각화...\n",
        "- [참고자료](https://ko.ilusionity.com/638-svm-machine-learning-tutorial-what-is-the-support-vector-machine-algorithm-explained-with-code-examples)"
      ],
      "metadata": {
        "id": "xypRLMxucOyM"
      }
    },
    {
      "cell_type": "code",
      "source": [
        "# # 실패\n",
        "\n",
        "# w = svm_model.coef_[0]    # get the weight values for the linear equation from the trained SVM model\n",
        "# a = -w[0] / w[1]    # get the y-offset for the linear equation \n",
        "# XX = np.linspace(0, 13)    # make the x-axis space for the data points XX\n",
        "# yy = a * XX - svm_model.intercept_[0] / w[1]    # get the y-values to plot the decision boundary y \n",
        "\n",
        "\n",
        "# plt.plot(XX, yy, 'k-')    # plot the decision boundary  \n",
        "# plt.scatter(xtrain[:, 0], xtrain[:, 1], c=ytrain)\n",
        "# plt.legend()\n",
        "# plt.show()    # show the plot visually "
      ],
      "metadata": {
        "colab": {
          "base_uri": "https://localhost:8080/",
          "height": 283
        },
        "id": "QvF3V5tAahwC",
        "outputId": "608ce58b-f86f-493d-da37-6eb926850b94"
      },
      "execution_count": null,
      "outputs": [
        {
          "output_type": "stream",
          "name": "stderr",
          "text": [
            "No handles with labels found to put in legend.\n"
          ]
        },
        {
          "output_type": "display_data",
          "data": {
            "text/plain": [
              "<Figure size 432x288 with 1 Axes>"
            ],
            "image/png": "[encoded data removed]"
          },
          "metadata": {
            "needs_background": "light"
          }
        }
      ]
    },
    {
      "cell_type": "markdown",
      "source": [
        "- [방법2](https://data-gardner.tistory.com/31)"
      ],
      "metadata": {
        "id": "5R352z_Mdtpl"
      }
    },
    {
      "cell_type": "code",
      "source": [
        "# !pip install mglearn"
      ],
      "metadata": {
        "colab": {
          "base_uri": "https://localhost:8080/"
        },
        "id": "4VLzs9A5fAm4",
        "outputId": "77ef5801-49fc-4715-e401-2129222c0c83"
      },
      "execution_count": null,
      "outputs": [
        {
          "output_type": "stream",
          "name": "stdout",
          "text": [
            "Collecting mglearn\n",
            "  Downloading mglearn-0.1.9.tar.gz (540 kB)\n",
            "\u001b[K     |████████████████████████████████| 540 kB 5.9 MB/s \n",
            "\u001b[?25hRequirement already satisfied: numpy in /usr/local/lib/python3.7/dist-packages (from mglearn) (1.21.6)\n",
            "Requirement already satisfied: matplotlib in /usr/local/lib/python3.7/dist-packages (from mglearn) (3.2.2)\n",
            "Requirement already satisfied: scikit-learn in /usr/local/lib/python3.7/dist-packages (from mglearn) (1.0.2)\n",
            "Requirement already satisfied: pandas in /usr/local/lib/python3.7/dist-packages (from mglearn) (1.3.5)\n",
            "Requirement already satisfied: pillow in /usr/local/lib/python3.7/dist-packages (from mglearn) (7.1.2)\n",
            "Requirement already satisfied: cycler in /usr/local/lib/python3.7/dist-packages (from mglearn) (0.11.0)\n",
            "Requirement already satisfied: imageio in /usr/local/lib/python3.7/dist-packages (from mglearn) (2.4.1)\n",
            "Requirement already satisfied: joblib in /usr/local/lib/python3.7/dist-packages (from mglearn) (1.1.0)\n",
            "Requirement already satisfied: python-dateutil>=2.1 in /usr/local/lib/python3.7/dist-packages (from matplotlib->mglearn) (2.8.2)\n",
            "Requirement already satisfied: kiwisolver>=1.0.1 in /usr/local/lib/python3.7/dist-packages (from matplotlib->mglearn) (1.4.2)\n",
            "Requirement already satisfied: pyparsing!=2.0.4,!=2.1.2,!=2.1.6,>=2.0.1 in /usr/local/lib/python3.7/dist-packages (from matplotlib->mglearn) (3.0.8)\n",
            "Requirement already satisfied: typing-extensions in /usr/local/lib/python3.7/dist-packages (from kiwisolver>=1.0.1->matplotlib->mglearn) (4.2.0)\n",
            "Requirement already satisfied: six>=1.5 in /usr/local/lib/python3.7/dist-packages (from python-dateutil>=2.1->matplotlib->mglearn) (1.15.0)\n",
            "Requirement already satisfied: pytz>=2017.3 in /usr/local/lib/python3.7/dist-packages (from pandas->mglearn) (2022.1)\n",
            "Requirement already satisfied: threadpoolctl>=2.0.0 in /usr/local/lib/python3.7/dist-packages (from scikit-learn->mglearn) (3.1.0)\n",
            "Requirement already satisfied: scipy>=1.1.0 in /usr/local/lib/python3.7/dist-packages (from scikit-learn->mglearn) (1.4.1)\n",
            "Building wheels for collected packages: mglearn\n",
            "  Building wheel for mglearn (setup.py) ... \u001b[?25l\u001b[?25hdone\n",
            "  Created wheel for mglearn: filename=mglearn-0.1.9-py2.py3-none-any.whl size=582639 sha256=2a9a0960c4a3f3575ecc4dd449d4764b30119b9b41631ded164a6d2af87a14d6\n",
            "  Stored in directory: /root/.cache/pip/wheels/f1/17/e1/1720d6dcd70187b6b6c3750cb3508798f2b1d57c9d3214b08b\n",
            "Successfully built mglearn\n",
            "Installing collected packages: mglearn\n",
            "Successfully installed mglearn-0.1.9\n"
          ]
        }
      ]
    },
    {
      "cell_type": "code",
      "source": [
        "import mglearn"
      ],
      "metadata": {
        "id": "HMwHB9plf2OR"
      },
      "execution_count": null,
      "outputs": []
    },
    {
      "cell_type": "code",
      "source": [
        "from sklearn.linear_model import LogisticRegression \n",
        "from sklearn.svm import LinearSVC \n",
        "xtrain, ytrain = mglearn.datasets.make_forge() \n",
        "fig, axes = plt.subplots(1, 2, figsize=(10, 3)) \n",
        "\n",
        "for model, ax in zip([LinearSVC()], axes): \n",
        "  svm_model.fit(xtrain, ytrain)\n",
        "  mglearn.plots.plot_2d_separator(svm_model, xtrain, fill=False, eps=0.5, ax=ax, alpha=.7) \n",
        "  mglearn.discrete_scatter(xtrain[:, 0], xtrain[:, 1], ytrain, ax=ax) \n",
        "  ax.set_title(\"{}\".format(svm_model.__class__.__name__)) \n",
        "  ax.set_xlabel(\"feature 0\") \n",
        "  ax.set_ylabel(\"feature 1\") \n",
        "  \n",
        "axes[0].legend()"
      ],
      "metadata": {
        "colab": {
          "base_uri": "https://localhost:8080/",
          "height": 301
        },
        "id": "1oX1U5Xzdunz",
        "outputId": "c959d1df-ce22-4d81-bb0c-ef73e1ffcd79"
      },
      "execution_count": null,
      "outputs": [
        {
          "output_type": "stream",
          "name": "stderr",
          "text": [
            "/usr/local/lib/python3.7/dist-packages/sklearn/utils/deprecation.py:87: FutureWarning: Function make_blobs is deprecated; Please import make_blobs directly from scikit-learn\n",
            "  warnings.warn(msg, category=FutureWarning)\n"
          ]
        },
        {
          "output_type": "execute_result",
          "data": {
            "text/plain": [
              "<matplotlib.legend.Legend at 0x7fd33f47b610>"
            ]
          },
          "metadata": {},
          "execution_count": 20
        },
        {
          "output_type": "display_data",
          "data": {
            "text/plain": [
              "<Figure size 720x216 with 2 Axes>"
            ],
            "image/png": "[encoded data removed]"
          },
          "metadata": {
            "needs_background": "light"
          }
        }
      ]
    },
    {
      "cell_type": "code",
      "source": [
        "mglearn.plots.plot_linear_svc_regularization()"
      ],
      "metadata": {
        "colab": {
          "base_uri": "https://localhost:8080/",
          "height": 288
        },
        "id": "vnkac5SseZAz",
        "outputId": "e1a0c413-3ddc-4aca-dc07-1e844dfd23c0"
      },
      "execution_count": null,
      "outputs": [
        {
          "output_type": "display_data",
          "data": {
            "text/plain": [
              "<Figure size 864x288 with 3 Axes>"
            ],
            "image/png": "[encoded data removed]"
          },
          "metadata": {}
        }
      ]
    },
    {
      "cell_type": "markdown",
      "source": [
        "- [방법(3)](https://tensorflow.blog/%ED%8C%8C%EC%9D%B4%EC%8D%AC-%EB%A8%B8%EC%8B%A0%EB%9F%AC%EB%8B%9D/2-3-7-%EC%BB%A4%EB%84%90-%EC%84%9C%ED%8F%AC%ED%8A%B8-%EB%B2%A1%ED%84%B0-%EB%A8%B8%EC%8B%A0/)"
      ],
      "metadata": {
        "id": "ynu87D70m1Go"
      }
    },
    {
      "cell_type": "code",
      "source": [
        "from sklearn.svm import LinearSVC\n",
        "linear_svm = svm_model.fit(xtrain, ytrain)\n",
        "\n",
        "mglearn.plots.plot_2d_separator(linear_svm, xtrain)\n",
        "mglearn.discrete_scatter(xtrain[:, 0], xtrain[:, 1], ytrain)\n",
        "plt.xlabel(\"feature 0\")\n",
        "plt.ylabel(\"feature 1\")"
      ],
      "metadata": {
        "colab": {
          "base_uri": "https://localhost:8080/",
          "height": 280
        },
        "id": "z3OD2fjKm3x3",
        "outputId": "418831d1-7b7d-47ca-e55d-8f51010a5c14"
      },
      "execution_count": null,
      "outputs": [
        {
          "output_type": "execute_result",
          "data": {
            "text/plain": [
              "Text(0, 0.5, 'feature 1')"
            ]
          },
          "metadata": {},
          "execution_count": 33
        },
        {
          "output_type": "display_data",
          "data": {
            "text/plain": [
              "<Figure size 432x288 with 1 Axes>"
            ],
            "image/png": "[encoded data removed]"
          },
          "metadata": {}
        }
      ]
    },
    {
      "cell_type": "markdown",
      "source": [
        "- 기타 시각화 : [참고](https://jfun.tistory.com/115)   \n",
        "=> 균등 비율, 정규분포, c값에 따른 그래프, fit() 결과 등고선"
      ],
      "metadata": {
        "id": "8WMlBoWlEAFf"
      }
    },
    {
      "cell_type": "markdown",
      "source": [
        "# 결과 정리\n",
        "|No.|데이터 수|변동 사항|accuracy|0_precision|0_recall|1_precision|1_recall|\n",
        "|---|---|---|---|---|---|---|---|\n",
        "|---|---|---|---|---|---|---|---|"
      ],
      "metadata": {
        "id": "z1mxefnxnXSt"
      }
    },
    {
      "cell_type": "markdown",
      "source": [
        "# Error\n",
        "(1) NameError: name 'mglearn' is not defined   \n",
        "=> !pip install mglearn [참고](https://m.blog.naver.com/lcj8390/221980377436)   \n",
        "=> import 해줘야 함⭐"
      ],
      "metadata": {
        "id": "JejBYCwZem5T"
      }
    },
    {
      "cell_type": "markdown",
      "source": [
        "#Reference\n",
        "\n",
        "1. https://bskyvision.com/851   \n",
        "2. svm에 대한 자세한 설명 : https://bskyvision.com/163\n"
      ],
      "metadata": {
        "id": "JF1UkwKhxCRn"
      }
    }
  ]
}