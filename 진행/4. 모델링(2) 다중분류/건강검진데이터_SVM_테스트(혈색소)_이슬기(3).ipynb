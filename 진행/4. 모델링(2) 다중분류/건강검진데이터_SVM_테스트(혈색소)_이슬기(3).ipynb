{
  "nbformat": 4,
  "nbformat_minor": 0,
  "metadata": {
    "colab": {
      "name": "건강검진데이터_SVM_테스트(혈색소)_이슬기(3).ipynb",
      "provenance": []
    },
    "kernelspec": {
      "name": "python3",
      "display_name": "Python 3"
    },
    "language_info": {
      "name": "python"
    },
    "accelerator": "GPU"
  },
  "cells": [
    {
      "cell_type": "markdown",
      "source": [
        "# SVM 모델\n",
        "### (1) 코드 사용 예시\n",
        "1. SVC(kernel=\"linear\", C=1)과 같이 SVC모델을 사용할 수 있습니다. 하지만 큰 데이터에서는 속도가 느려권장하지 않습니다. \n",
        "2. SGDClassifier(loss=\"hinge\", alpha=1/(m*c))와 같이 SGDClassifier 모델을 사용하는 것 입니다. 속도가 많이 빠르진 않지만 데이터가 크고 특성이 많아서 메모리에 적재시켜줄 수 없을 때 이용하면 좋습니다. \n",
        "3. LinearSVC(C=1 ,loss=\"hinge\")\n",
        "\n",
        "\n",
        "출처: [후니의 컴퓨터](https://hoony-gunputer.tistory.com/142)\n",
        "\n",
        "\n",
        "👉 가장 기본적인 ' SVC(kernel=\"linear\", C=1)' 형태의 코드를 사용하였음. 하지만 설명과 같이 큰 데이터에서는 추천하지 않는 방식이라고 함.   \n",
        "👉 'SGDClassifier(loss=\"hinge\", alpha=1/(m*c))' 에 대한 모델 구현 방식도 공부 필요"
      ],
      "metadata": {
        "id": "Lsxjgj6rdGaH"
      }
    },
    {
      "cell_type": "code",
      "execution_count": 1,
      "metadata": {
        "colab": {
          "base_uri": "https://localhost:8080/"
        },
        "id": "6Au5WNuuw9G8",
        "outputId": "15124c1c-24e4-449e-ba68-5b8ebbce97ee"
      },
      "outputs": [
        {
          "output_type": "stream",
          "name": "stdout",
          "text": [
            "Drive already mounted at /content/drive; to attempt to forcibly remount, call drive.mount(\"/content/drive\", force_remount=True).\n"
          ]
        }
      ],
      "source": [
        "from google.colab import drive\n",
        "drive.mount('/content/drive')"
      ]
    },
    {
      "cell_type": "code",
      "source": [
        "import pandas as pd\n",
        "import numpy as np\n",
        "import seaborn as sns\n",
        "import matplotlib\n",
        "import matplotlib.pyplot as plt\n",
        "%matplotlib inline\n",
        "\n",
        "import missingno as msno"
      ],
      "metadata": {
        "id": "6Htxdo6t4ZWB"
      },
      "execution_count": 2,
      "outputs": []
    },
    {
      "cell_type": "code",
      "source": [
        "df = pd.read_csv('/content/drive/MyDrive/슬기로운 건강생활/data/health_data_01.csv', encoding='utf-8')\n",
        "df"
      ],
      "metadata": {
        "colab": {
          "base_uri": "https://localhost:8080/",
          "height": 557
        },
        "id": "66FUrCX44blK",
        "outputId": "1834c828-b103-4575-95be-cc9d0a1dc9e3"
      },
      "execution_count": 3,
      "outputs": [
        {
          "output_type": "execute_result",
          "data": {
            "text/plain": [
              "        성별  나이   bmi  비만여부   혈색소  빈혈여부  식전혈당(공복혈당)  당뇨여부  (혈청지오티)AST  AST구분  \\\n",
              "0        0  40  22.0     0  15.0     0        90.0     0        21.0      0   \n",
              "1        1  60  28.9     1  12.7     1        87.0     0        18.0      0   \n",
              "2        1  50  22.9     0  12.8     1       102.0     1        27.0      0   \n",
              "3        0  60  27.3     1  16.4     0       146.0     1        65.0      1   \n",
              "4        1  50  20.8     0  12.4     1       110.0     1        18.0      0   \n",
              "...     ..  ..   ...   ...   ...   ...         ...   ...         ...    ...   \n",
              "987327   1  60  26.2     1  13.6     0       124.0     1        21.0      0   \n",
              "987328   1  50  21.5     0  14.0     0        98.0     0        21.0      0   \n",
              "987329   0  40  22.9     0  16.0     0        83.0     0        26.0      0   \n",
              "987330   1  40  27.3     1  11.9     1       111.0     1        25.0      0   \n",
              "987331   0  50  21.5     0  14.9     0       121.0     1        17.0      0   \n",
              "\n",
              "        (혈청지오티)ALT  ALT구분  AST/ALT비율  감마 지티피  GTP/ALT비율  음주여부  간 수치  \n",
              "0             27.0      0   0.777778    21.0   0.777778   0.0     0  \n",
              "1             15.0      0   1.200000    15.0   1.000000   0.0     0  \n",
              "2             25.0      0   1.080000     7.0   0.280000   0.0     0  \n",
              "3             97.0      1   0.670103    72.0   0.742268   0.0     0  \n",
              "4             17.0      0   1.058824    14.0   0.823529   0.0     0  \n",
              "...            ...    ...        ...     ...        ...   ...   ...  \n",
              "987327        25.0      0   0.840000    18.0   0.720000   0.0     0  \n",
              "987328        14.0      0   1.500000    19.0   1.357143   1.0     0  \n",
              "987329        20.0      0   1.300000    17.0   0.850000   1.0     0  \n",
              "987330        29.0      0   0.862069    13.0   0.448276   0.0     0  \n",
              "987331        13.0      0   1.307692    24.0   1.846154   0.0     0  \n",
              "\n",
              "[987332 rows x 17 columns]"
            ],
            "text/html": [
              "\n",
              "  <div id=\"df-0e2cf13a-c400-4776-a303-ed4f76988938\">\n",
              "    <div class=\"colab-df-container\">\n",
              "      <div>\n",
              "<style scoped>\n",
              "    .dataframe tbody tr th:only-of-type {\n",
              "        vertical-align: middle;\n",
              "    }\n",
              "\n",
              "    .dataframe tbody tr th {\n",
              "        vertical-align: top;\n",
              "    }\n",
              "\n",
              "    .dataframe thead th {\n",
              "        text-align: right;\n",
              "    }\n",
              "</style>\n",
              "<table border=\"1\" class=\"dataframe\">\n",
              "  <thead>\n",
              "    <tr style=\"text-align: right;\">\n",
              "      <th></th>\n",
              "      <th>성별</th>\n",
              "      <th>나이</th>\n",
              "      <th>bmi</th>\n",
              "      <th>비만여부</th>\n",
              "      <th>혈색소</th>\n",
              "      <th>빈혈여부</th>\n",
              "      <th>식전혈당(공복혈당)</th>\n",
              "      <th>당뇨여부</th>\n",
              "      <th>(혈청지오티)AST</th>\n",
              "      <th>AST구분</th>\n",
              "      <th>(혈청지오티)ALT</th>\n",
              "      <th>ALT구분</th>\n",
              "      <th>AST/ALT비율</th>\n",
              "      <th>감마 지티피</th>\n",
              "      <th>GTP/ALT비율</th>\n",
              "      <th>음주여부</th>\n",
              "      <th>간 수치</th>\n",
              "    </tr>\n",
              "  </thead>\n",
              "  <tbody>\n",
              "    <tr>\n",
              "      <th>0</th>\n",
              "      <td>0</td>\n",
              "      <td>40</td>\n",
              "      <td>22.0</td>\n",
              "      <td>0</td>\n",
              "      <td>15.0</td>\n",
              "      <td>0</td>\n",
              "      <td>90.0</td>\n",
              "      <td>0</td>\n",
              "      <td>21.0</td>\n",
              "      <td>0</td>\n",
              "      <td>27.0</td>\n",
              "      <td>0</td>\n",
              "      <td>0.777778</td>\n",
              "      <td>21.0</td>\n",
              "      <td>0.777778</td>\n",
              "      <td>0.0</td>\n",
              "      <td>0</td>\n",
              "    </tr>\n",
              "    <tr>\n",
              "      <th>1</th>\n",
              "      <td>1</td>\n",
              "      <td>60</td>\n",
              "      <td>28.9</td>\n",
              "      <td>1</td>\n",
              "      <td>12.7</td>\n",
              "      <td>1</td>\n",
              "      <td>87.0</td>\n",
              "      <td>0</td>\n",
              "      <td>18.0</td>\n",
              "      <td>0</td>\n",
              "      <td>15.0</td>\n",
              "      <td>0</td>\n",
              "      <td>1.200000</td>\n",
              "      <td>15.0</td>\n",
              "      <td>1.000000</td>\n",
              "      <td>0.0</td>\n",
              "      <td>0</td>\n",
              "    </tr>\n",
              "    <tr>\n",
              "      <th>2</th>\n",
              "      <td>1</td>\n",
              "      <td>50</td>\n",
              "      <td>22.9</td>\n",
              "      <td>0</td>\n",
              "      <td>12.8</td>\n",
              "      <td>1</td>\n",
              "      <td>102.0</td>\n",
              "      <td>1</td>\n",
              "      <td>27.0</td>\n",
              "      <td>0</td>\n",
              "      <td>25.0</td>\n",
              "      <td>0</td>\n",
              "      <td>1.080000</td>\n",
              "      <td>7.0</td>\n",
              "      <td>0.280000</td>\n",
              "      <td>0.0</td>\n",
              "      <td>0</td>\n",
              "    </tr>\n",
              "    <tr>\n",
              "      <th>3</th>\n",
              "      <td>0</td>\n",
              "      <td>60</td>\n",
              "      <td>27.3</td>\n",
              "      <td>1</td>\n",
              "      <td>16.4</td>\n",
              "      <td>0</td>\n",
              "      <td>146.0</td>\n",
              "      <td>1</td>\n",
              "      <td>65.0</td>\n",
              "      <td>1</td>\n",
              "      <td>97.0</td>\n",
              "      <td>1</td>\n",
              "      <td>0.670103</td>\n",
              "      <td>72.0</td>\n",
              "      <td>0.742268</td>\n",
              "      <td>0.0</td>\n",
              "      <td>0</td>\n",
              "    </tr>\n",
              "    <tr>\n",
              "      <th>4</th>\n",
              "      <td>1</td>\n",
              "      <td>50</td>\n",
              "      <td>20.8</td>\n",
              "      <td>0</td>\n",
              "      <td>12.4</td>\n",
              "      <td>1</td>\n",
              "      <td>110.0</td>\n",
              "      <td>1</td>\n",
              "      <td>18.0</td>\n",
              "      <td>0</td>\n",
              "      <td>17.0</td>\n",
              "      <td>0</td>\n",
              "      <td>1.058824</td>\n",
              "      <td>14.0</td>\n",
              "      <td>0.823529</td>\n",
              "      <td>0.0</td>\n",
              "      <td>0</td>\n",
              "    </tr>\n",
              "    <tr>\n",
              "      <th>...</th>\n",
              "      <td>...</td>\n",
              "      <td>...</td>\n",
              "      <td>...</td>\n",
              "      <td>...</td>\n",
              "      <td>...</td>\n",
              "      <td>...</td>\n",
              "      <td>...</td>\n",
              "      <td>...</td>\n",
              "      <td>...</td>\n",
              "      <td>...</td>\n",
              "      <td>...</td>\n",
              "      <td>...</td>\n",
              "      <td>...</td>\n",
              "      <td>...</td>\n",
              "      <td>...</td>\n",
              "      <td>...</td>\n",
              "      <td>...</td>\n",
              "    </tr>\n",
              "    <tr>\n",
              "      <th>987327</th>\n",
              "      <td>1</td>\n",
              "      <td>60</td>\n",
              "      <td>26.2</td>\n",
              "      <td>1</td>\n",
              "      <td>13.6</td>\n",
              "      <td>0</td>\n",
              "      <td>124.0</td>\n",
              "      <td>1</td>\n",
              "      <td>21.0</td>\n",
              "      <td>0</td>\n",
              "      <td>25.0</td>\n",
              "      <td>0</td>\n",
              "      <td>0.840000</td>\n",
              "      <td>18.0</td>\n",
              "      <td>0.720000</td>\n",
              "      <td>0.0</td>\n",
              "      <td>0</td>\n",
              "    </tr>\n",
              "    <tr>\n",
              "      <th>987328</th>\n",
              "      <td>1</td>\n",
              "      <td>50</td>\n",
              "      <td>21.5</td>\n",
              "      <td>0</td>\n",
              "      <td>14.0</td>\n",
              "      <td>0</td>\n",
              "      <td>98.0</td>\n",
              "      <td>0</td>\n",
              "      <td>21.0</td>\n",
              "      <td>0</td>\n",
              "      <td>14.0</td>\n",
              "      <td>0</td>\n",
              "      <td>1.500000</td>\n",
              "      <td>19.0</td>\n",
              "      <td>1.357143</td>\n",
              "      <td>1.0</td>\n",
              "      <td>0</td>\n",
              "    </tr>\n",
              "    <tr>\n",
              "      <th>987329</th>\n",
              "      <td>0</td>\n",
              "      <td>40</td>\n",
              "      <td>22.9</td>\n",
              "      <td>0</td>\n",
              "      <td>16.0</td>\n",
              "      <td>0</td>\n",
              "      <td>83.0</td>\n",
              "      <td>0</td>\n",
              "      <td>26.0</td>\n",
              "      <td>0</td>\n",
              "      <td>20.0</td>\n",
              "      <td>0</td>\n",
              "      <td>1.300000</td>\n",
              "      <td>17.0</td>\n",
              "      <td>0.850000</td>\n",
              "      <td>1.0</td>\n",
              "      <td>0</td>\n",
              "    </tr>\n",
              "    <tr>\n",
              "      <th>987330</th>\n",
              "      <td>1</td>\n",
              "      <td>40</td>\n",
              "      <td>27.3</td>\n",
              "      <td>1</td>\n",
              "      <td>11.9</td>\n",
              "      <td>1</td>\n",
              "      <td>111.0</td>\n",
              "      <td>1</td>\n",
              "      <td>25.0</td>\n",
              "      <td>0</td>\n",
              "      <td>29.0</td>\n",
              "      <td>0</td>\n",
              "      <td>0.862069</td>\n",
              "      <td>13.0</td>\n",
              "      <td>0.448276</td>\n",
              "      <td>0.0</td>\n",
              "      <td>0</td>\n",
              "    </tr>\n",
              "    <tr>\n",
              "      <th>987331</th>\n",
              "      <td>0</td>\n",
              "      <td>50</td>\n",
              "      <td>21.5</td>\n",
              "      <td>0</td>\n",
              "      <td>14.9</td>\n",
              "      <td>0</td>\n",
              "      <td>121.0</td>\n",
              "      <td>1</td>\n",
              "      <td>17.0</td>\n",
              "      <td>0</td>\n",
              "      <td>13.0</td>\n",
              "      <td>0</td>\n",
              "      <td>1.307692</td>\n",
              "      <td>24.0</td>\n",
              "      <td>1.846154</td>\n",
              "      <td>0.0</td>\n",
              "      <td>0</td>\n",
              "    </tr>\n",
              "  </tbody>\n",
              "</table>\n",
              "<p>987332 rows × 17 columns</p>\n",
              "</div>\n",
              "      <button class=\"colab-df-convert\" onclick=\"convertToInteractive('df-0e2cf13a-c400-4776-a303-ed4f76988938')\"\n",
              "              title=\"Convert this dataframe to an interactive table.\"\n",
              "              style=\"display:none;\">\n",
              "        \n",
              "  <svg xmlns=\"http://www.w3.org/2000/svg\" height=\"24px\"viewBox=\"0 0 24 24\"\n",
              "       width=\"24px\">\n",
              "    <path d=\"M0 0h24v24H0V0z\" fill=\"none\"/>\n",
              "    <path d=\"M18.56 5.44l.94 2.06.94-2.06 2.06-.94-2.06-.94-.94-2.06-.94 2.06-2.06.94zm-11 1L8.5 8.5l.94-2.06 2.06-.94-2.06-.94L8.5 2.5l-.94 2.06-2.06.94zm10 10l.94 2.06.94-2.06 2.06-.94-2.06-.94-.94-2.06-.94 2.06-2.06.94z\"/><path d=\"M17.41 7.96l-1.37-1.37c-.4-.4-.92-.59-1.43-.59-.52 0-1.04.2-1.43.59L10.3 9.45l-7.72 7.72c-.78.78-.78 2.05 0 2.83L4 21.41c.39.39.9.59 1.41.59.51 0 1.02-.2 1.41-.59l7.78-7.78 2.81-2.81c.8-.78.8-2.07 0-2.86zM5.41 20L4 18.59l7.72-7.72 1.47 1.35L5.41 20z\"/>\n",
              "  </svg>\n",
              "      </button>\n",
              "      \n",
              "  <style>\n",
              "    .colab-df-container {\n",
              "      display:flex;\n",
              "      flex-wrap:wrap;\n",
              "      gap: 12px;\n",
              "    }\n",
              "\n",
              "    .colab-df-convert {\n",
              "      background-color: #E8F0FE;\n",
              "      border: none;\n",
              "      border-radius: 50%;\n",
              "      cursor: pointer;\n",
              "      display: none;\n",
              "      fill: #1967D2;\n",
              "      height: 32px;\n",
              "      padding: 0 0 0 0;\n",
              "      width: 32px;\n",
              "    }\n",
              "\n",
              "    .colab-df-convert:hover {\n",
              "      background-color: #E2EBFA;\n",
              "      box-shadow: 0px 1px 2px rgba(60, 64, 67, 0.3), 0px 1px 3px 1px rgba(60, 64, 67, 0.15);\n",
              "      fill: #174EA6;\n",
              "    }\n",
              "\n",
              "    [theme=dark] .colab-df-convert {\n",
              "      background-color: #3B4455;\n",
              "      fill: #D2E3FC;\n",
              "    }\n",
              "\n",
              "    [theme=dark] .colab-df-convert:hover {\n",
              "      background-color: #434B5C;\n",
              "      box-shadow: 0px 1px 3px 1px rgba(0, 0, 0, 0.15);\n",
              "      filter: drop-shadow(0px 1px 2px rgba(0, 0, 0, 0.3));\n",
              "      fill: #FFFFFF;\n",
              "    }\n",
              "  </style>\n",
              "\n",
              "      <script>\n",
              "        const buttonEl =\n",
              "          document.querySelector('#df-0e2cf13a-c400-4776-a303-ed4f76988938 button.colab-df-convert');\n",
              "        buttonEl.style.display =\n",
              "          google.colab.kernel.accessAllowed ? 'block' : 'none';\n",
              "\n",
              "        async function convertToInteractive(key) {\n",
              "          const element = document.querySelector('#df-0e2cf13a-c400-4776-a303-ed4f76988938');\n",
              "          const dataTable =\n",
              "            await google.colab.kernel.invokeFunction('convertToInteractive',\n",
              "                                                     [key], {});\n",
              "          if (!dataTable) return;\n",
              "\n",
              "          const docLinkHtml = 'Like what you see? Visit the ' +\n",
              "            '<a target=\"_blank\" href=https://colab.research.google.com/notebooks/data_table.ipynb>data table notebook</a>'\n",
              "            + ' to learn more about interactive tables.';\n",
              "          element.innerHTML = '';\n",
              "          dataTable['output_type'] = 'display_data';\n",
              "          await google.colab.output.renderOutput(dataTable, element);\n",
              "          const docLink = document.createElement('div');\n",
              "          docLink.innerHTML = docLinkHtml;\n",
              "          element.appendChild(docLink);\n",
              "        }\n",
              "      </script>\n",
              "    </div>\n",
              "  </div>\n",
              "  "
            ]
          },
          "metadata": {},
          "execution_count": 3
        }
      ]
    },
    {
      "cell_type": "code",
      "source": [
        "# train_a = train.truncate(after='100',axis=0)\n",
        "\n",
        "train = df.drop(labels=range(100000, 987332), axis=0)\n",
        "\n",
        "train"
      ],
      "metadata": {
        "colab": {
          "base_uri": "https://localhost:8080/",
          "height": 557
        },
        "id": "sRso63pM9rfd",
        "outputId": "8439636d-f851-4090-b4ee-425bb2ea265d"
      },
      "execution_count": 4,
      "outputs": [
        {
          "output_type": "execute_result",
          "data": {
            "text/plain": [
              "       성별  나이   bmi  비만여부   혈색소  빈혈여부  식전혈당(공복혈당)  당뇨여부  (혈청지오티)AST  AST구분  \\\n",
              "0       0  40  22.0     0  15.0     0        90.0     0        21.0      0   \n",
              "1       1  60  28.9     1  12.7     1        87.0     0        18.0      0   \n",
              "2       1  50  22.9     0  12.8     1       102.0     1        27.0      0   \n",
              "3       0  60  27.3     1  16.4     0       146.0     1        65.0      1   \n",
              "4       1  50  20.8     0  12.4     1       110.0     1        18.0      0   \n",
              "...    ..  ..   ...   ...   ...   ...         ...   ...         ...    ...   \n",
              "99995   0  40  22.9     0  15.1     0       117.0     1        28.0      0   \n",
              "99996   1  40  25.4     1  13.8     0        99.0     0        56.0      1   \n",
              "99997   1  60  24.4     1  12.8     1       113.0     1        34.0      0   \n",
              "99998   1  50  21.5     0  13.7     0       108.0     1        18.0      0   \n",
              "99999   0  60  27.5     1  15.7     0        81.0     0        36.0      0   \n",
              "\n",
              "       (혈청지오티)ALT  ALT구분  AST/ALT비율  감마 지티피  GTP/ALT비율  음주여부  간 수치  \n",
              "0            27.0      0   0.777778    21.0   0.777778   0.0     0  \n",
              "1            15.0      0   1.200000    15.0   1.000000   0.0     0  \n",
              "2            25.0      0   1.080000     7.0   0.280000   0.0     0  \n",
              "3            97.0      1   0.670103    72.0   0.742268   0.0     0  \n",
              "4            17.0      0   1.058824    14.0   0.823529   0.0     0  \n",
              "...           ...    ...        ...     ...        ...   ...   ...  \n",
              "99995        59.0      1   0.474576   119.0   2.016949   1.0     0  \n",
              "99996        70.0      1   0.800000    16.0   0.228571   1.0     0  \n",
              "99997        25.0      0   1.360000   148.0   5.920000   1.0     1  \n",
              "99998        17.0      0   1.058824    43.0   2.529412   1.0     1  \n",
              "99999        31.0      0   1.161290    32.0   1.032258   1.0     0  \n",
              "\n",
              "[100000 rows x 17 columns]"
            ],
            "text/html": [
              "\n",
              "  <div id=\"df-e0a73992-ffdc-4429-92f0-6a6229341921\">\n",
              "    <div class=\"colab-df-container\">\n",
              "      <div>\n",
              "<style scoped>\n",
              "    .dataframe tbody tr th:only-of-type {\n",
              "        vertical-align: middle;\n",
              "    }\n",
              "\n",
              "    .dataframe tbody tr th {\n",
              "        vertical-align: top;\n",
              "    }\n",
              "\n",
              "    .dataframe thead th {\n",
              "        text-align: right;\n",
              "    }\n",
              "</style>\n",
              "<table border=\"1\" class=\"dataframe\">\n",
              "  <thead>\n",
              "    <tr style=\"text-align: right;\">\n",
              "      <th></th>\n",
              "      <th>성별</th>\n",
              "      <th>나이</th>\n",
              "      <th>bmi</th>\n",
              "      <th>비만여부</th>\n",
              "      <th>혈색소</th>\n",
              "      <th>빈혈여부</th>\n",
              "      <th>식전혈당(공복혈당)</th>\n",
              "      <th>당뇨여부</th>\n",
              "      <th>(혈청지오티)AST</th>\n",
              "      <th>AST구분</th>\n",
              "      <th>(혈청지오티)ALT</th>\n",
              "      <th>ALT구분</th>\n",
              "      <th>AST/ALT비율</th>\n",
              "      <th>감마 지티피</th>\n",
              "      <th>GTP/ALT비율</th>\n",
              "      <th>음주여부</th>\n",
              "      <th>간 수치</th>\n",
              "    </tr>\n",
              "  </thead>\n",
              "  <tbody>\n",
              "    <tr>\n",
              "      <th>0</th>\n",
              "      <td>0</td>\n",
              "      <td>40</td>\n",
              "      <td>22.0</td>\n",
              "      <td>0</td>\n",
              "      <td>15.0</td>\n",
              "      <td>0</td>\n",
              "      <td>90.0</td>\n",
              "      <td>0</td>\n",
              "      <td>21.0</td>\n",
              "      <td>0</td>\n",
              "      <td>27.0</td>\n",
              "      <td>0</td>\n",
              "      <td>0.777778</td>\n",
              "      <td>21.0</td>\n",
              "      <td>0.777778</td>\n",
              "      <td>0.0</td>\n",
              "      <td>0</td>\n",
              "    </tr>\n",
              "    <tr>\n",
              "      <th>1</th>\n",
              "      <td>1</td>\n",
              "      <td>60</td>\n",
              "      <td>28.9</td>\n",
              "      <td>1</td>\n",
              "      <td>12.7</td>\n",
              "      <td>1</td>\n",
              "      <td>87.0</td>\n",
              "      <td>0</td>\n",
              "      <td>18.0</td>\n",
              "      <td>0</td>\n",
              "      <td>15.0</td>\n",
              "      <td>0</td>\n",
              "      <td>1.200000</td>\n",
              "      <td>15.0</td>\n",
              "      <td>1.000000</td>\n",
              "      <td>0.0</td>\n",
              "      <td>0</td>\n",
              "    </tr>\n",
              "    <tr>\n",
              "      <th>2</th>\n",
              "      <td>1</td>\n",
              "      <td>50</td>\n",
              "      <td>22.9</td>\n",
              "      <td>0</td>\n",
              "      <td>12.8</td>\n",
              "      <td>1</td>\n",
              "      <td>102.0</td>\n",
              "      <td>1</td>\n",
              "      <td>27.0</td>\n",
              "      <td>0</td>\n",
              "      <td>25.0</td>\n",
              "      <td>0</td>\n",
              "      <td>1.080000</td>\n",
              "      <td>7.0</td>\n",
              "      <td>0.280000</td>\n",
              "      <td>0.0</td>\n",
              "      <td>0</td>\n",
              "    </tr>\n",
              "    <tr>\n",
              "      <th>3</th>\n",
              "      <td>0</td>\n",
              "      <td>60</td>\n",
              "      <td>27.3</td>\n",
              "      <td>1</td>\n",
              "      <td>16.4</td>\n",
              "      <td>0</td>\n",
              "      <td>146.0</td>\n",
              "      <td>1</td>\n",
              "      <td>65.0</td>\n",
              "      <td>1</td>\n",
              "      <td>97.0</td>\n",
              "      <td>1</td>\n",
              "      <td>0.670103</td>\n",
              "      <td>72.0</td>\n",
              "      <td>0.742268</td>\n",
              "      <td>0.0</td>\n",
              "      <td>0</td>\n",
              "    </tr>\n",
              "    <tr>\n",
              "      <th>4</th>\n",
              "      <td>1</td>\n",
              "      <td>50</td>\n",
              "      <td>20.8</td>\n",
              "      <td>0</td>\n",
              "      <td>12.4</td>\n",
              "      <td>1</td>\n",
              "      <td>110.0</td>\n",
              "      <td>1</td>\n",
              "      <td>18.0</td>\n",
              "      <td>0</td>\n",
              "      <td>17.0</td>\n",
              "      <td>0</td>\n",
              "      <td>1.058824</td>\n",
              "      <td>14.0</td>\n",
              "      <td>0.823529</td>\n",
              "      <td>0.0</td>\n",
              "      <td>0</td>\n",
              "    </tr>\n",
              "    <tr>\n",
              "      <th>...</th>\n",
              "      <td>...</td>\n",
              "      <td>...</td>\n",
              "      <td>...</td>\n",
              "      <td>...</td>\n",
              "      <td>...</td>\n",
              "      <td>...</td>\n",
              "      <td>...</td>\n",
              "      <td>...</td>\n",
              "      <td>...</td>\n",
              "      <td>...</td>\n",
              "      <td>...</td>\n",
              "      <td>...</td>\n",
              "      <td>...</td>\n",
              "      <td>...</td>\n",
              "      <td>...</td>\n",
              "      <td>...</td>\n",
              "      <td>...</td>\n",
              "    </tr>\n",
              "    <tr>\n",
              "      <th>99995</th>\n",
              "      <td>0</td>\n",
              "      <td>40</td>\n",
              "      <td>22.9</td>\n",
              "      <td>0</td>\n",
              "      <td>15.1</td>\n",
              "      <td>0</td>\n",
              "      <td>117.0</td>\n",
              "      <td>1</td>\n",
              "      <td>28.0</td>\n",
              "      <td>0</td>\n",
              "      <td>59.0</td>\n",
              "      <td>1</td>\n",
              "      <td>0.474576</td>\n",
              "      <td>119.0</td>\n",
              "      <td>2.016949</td>\n",
              "      <td>1.0</td>\n",
              "      <td>0</td>\n",
              "    </tr>\n",
              "    <tr>\n",
              "      <th>99996</th>\n",
              "      <td>1</td>\n",
              "      <td>40</td>\n",
              "      <td>25.4</td>\n",
              "      <td>1</td>\n",
              "      <td>13.8</td>\n",
              "      <td>0</td>\n",
              "      <td>99.0</td>\n",
              "      <td>0</td>\n",
              "      <td>56.0</td>\n",
              "      <td>1</td>\n",
              "      <td>70.0</td>\n",
              "      <td>1</td>\n",
              "      <td>0.800000</td>\n",
              "      <td>16.0</td>\n",
              "      <td>0.228571</td>\n",
              "      <td>1.0</td>\n",
              "      <td>0</td>\n",
              "    </tr>\n",
              "    <tr>\n",
              "      <th>99997</th>\n",
              "      <td>1</td>\n",
              "      <td>60</td>\n",
              "      <td>24.4</td>\n",
              "      <td>1</td>\n",
              "      <td>12.8</td>\n",
              "      <td>1</td>\n",
              "      <td>113.0</td>\n",
              "      <td>1</td>\n",
              "      <td>34.0</td>\n",
              "      <td>0</td>\n",
              "      <td>25.0</td>\n",
              "      <td>0</td>\n",
              "      <td>1.360000</td>\n",
              "      <td>148.0</td>\n",
              "      <td>5.920000</td>\n",
              "      <td>1.0</td>\n",
              "      <td>1</td>\n",
              "    </tr>\n",
              "    <tr>\n",
              "      <th>99998</th>\n",
              "      <td>1</td>\n",
              "      <td>50</td>\n",
              "      <td>21.5</td>\n",
              "      <td>0</td>\n",
              "      <td>13.7</td>\n",
              "      <td>0</td>\n",
              "      <td>108.0</td>\n",
              "      <td>1</td>\n",
              "      <td>18.0</td>\n",
              "      <td>0</td>\n",
              "      <td>17.0</td>\n",
              "      <td>0</td>\n",
              "      <td>1.058824</td>\n",
              "      <td>43.0</td>\n",
              "      <td>2.529412</td>\n",
              "      <td>1.0</td>\n",
              "      <td>1</td>\n",
              "    </tr>\n",
              "    <tr>\n",
              "      <th>99999</th>\n",
              "      <td>0</td>\n",
              "      <td>60</td>\n",
              "      <td>27.5</td>\n",
              "      <td>1</td>\n",
              "      <td>15.7</td>\n",
              "      <td>0</td>\n",
              "      <td>81.0</td>\n",
              "      <td>0</td>\n",
              "      <td>36.0</td>\n",
              "      <td>0</td>\n",
              "      <td>31.0</td>\n",
              "      <td>0</td>\n",
              "      <td>1.161290</td>\n",
              "      <td>32.0</td>\n",
              "      <td>1.032258</td>\n",
              "      <td>1.0</td>\n",
              "      <td>0</td>\n",
              "    </tr>\n",
              "  </tbody>\n",
              "</table>\n",
              "<p>100000 rows × 17 columns</p>\n",
              "</div>\n",
              "      <button class=\"colab-df-convert\" onclick=\"convertToInteractive('df-e0a73992-ffdc-4429-92f0-6a6229341921')\"\n",
              "              title=\"Convert this dataframe to an interactive table.\"\n",
              "              style=\"display:none;\">\n",
              "        \n",
              "  <svg xmlns=\"http://www.w3.org/2000/svg\" height=\"24px\"viewBox=\"0 0 24 24\"\n",
              "       width=\"24px\">\n",
              "    <path d=\"M0 0h24v24H0V0z\" fill=\"none\"/>\n",
              "    <path d=\"M18.56 5.44l.94 2.06.94-2.06 2.06-.94-2.06-.94-.94-2.06-.94 2.06-2.06.94zm-11 1L8.5 8.5l.94-2.06 2.06-.94-2.06-.94L8.5 2.5l-.94 2.06-2.06.94zm10 10l.94 2.06.94-2.06 2.06-.94-2.06-.94-.94-2.06-.94 2.06-2.06.94z\"/><path d=\"M17.41 7.96l-1.37-1.37c-.4-.4-.92-.59-1.43-.59-.52 0-1.04.2-1.43.59L10.3 9.45l-7.72 7.72c-.78.78-.78 2.05 0 2.83L4 21.41c.39.39.9.59 1.41.59.51 0 1.02-.2 1.41-.59l7.78-7.78 2.81-2.81c.8-.78.8-2.07 0-2.86zM5.41 20L4 18.59l7.72-7.72 1.47 1.35L5.41 20z\"/>\n",
              "  </svg>\n",
              "      </button>\n",
              "      \n",
              "  <style>\n",
              "    .colab-df-container {\n",
              "      display:flex;\n",
              "      flex-wrap:wrap;\n",
              "      gap: 12px;\n",
              "    }\n",
              "\n",
              "    .colab-df-convert {\n",
              "      background-color: #E8F0FE;\n",
              "      border: none;\n",
              "      border-radius: 50%;\n",
              "      cursor: pointer;\n",
              "      display: none;\n",
              "      fill: #1967D2;\n",
              "      height: 32px;\n",
              "      padding: 0 0 0 0;\n",
              "      width: 32px;\n",
              "    }\n",
              "\n",
              "    .colab-df-convert:hover {\n",
              "      background-color: #E2EBFA;\n",
              "      box-shadow: 0px 1px 2px rgba(60, 64, 67, 0.3), 0px 1px 3px 1px rgba(60, 64, 67, 0.15);\n",
              "      fill: #174EA6;\n",
              "    }\n",
              "\n",
              "    [theme=dark] .colab-df-convert {\n",
              "      background-color: #3B4455;\n",
              "      fill: #D2E3FC;\n",
              "    }\n",
              "\n",
              "    [theme=dark] .colab-df-convert:hover {\n",
              "      background-color: #434B5C;\n",
              "      box-shadow: 0px 1px 3px 1px rgba(0, 0, 0, 0.15);\n",
              "      filter: drop-shadow(0px 1px 2px rgba(0, 0, 0, 0.3));\n",
              "      fill: #FFFFFF;\n",
              "    }\n",
              "  </style>\n",
              "\n",
              "      <script>\n",
              "        const buttonEl =\n",
              "          document.querySelector('#df-e0a73992-ffdc-4429-92f0-6a6229341921 button.colab-df-convert');\n",
              "        buttonEl.style.display =\n",
              "          google.colab.kernel.accessAllowed ? 'block' : 'none';\n",
              "\n",
              "        async function convertToInteractive(key) {\n",
              "          const element = document.querySelector('#df-e0a73992-ffdc-4429-92f0-6a6229341921');\n",
              "          const dataTable =\n",
              "            await google.colab.kernel.invokeFunction('convertToInteractive',\n",
              "                                                     [key], {});\n",
              "          if (!dataTable) return;\n",
              "\n",
              "          const docLinkHtml = 'Like what you see? Visit the ' +\n",
              "            '<a target=\"_blank\" href=https://colab.research.google.com/notebooks/data_table.ipynb>data table notebook</a>'\n",
              "            + ' to learn more about interactive tables.';\n",
              "          element.innerHTML = '';\n",
              "          dataTable['output_type'] = 'display_data';\n",
              "          await google.colab.output.renderOutput(dataTable, element);\n",
              "          const docLink = document.createElement('div');\n",
              "          docLink.innerHTML = docLinkHtml;\n",
              "          element.appendChild(docLink);\n",
              "        }\n",
              "      </script>\n",
              "    </div>\n",
              "  </div>\n",
              "  "
            ]
          },
          "metadata": {},
          "execution_count": 4
        }
      ]
    },
    {
      "cell_type": "code",
      "source": [
        "# 빈혈\n",
        "cond1 = (train['성별'] == '1')\n",
        "cond2 = (train['혈색소'] < 12)\n",
        "cond3 = (train['혈색소'] < 13)\n",
        "\n",
        "train.loc[cond1&cond2, '빈혈여부'] = \"1\" # 여자 and 혈색소 < 12 : 빈혈\n",
        "train.loc[~cond1&~cond2, '빈혈여부'] = \"0\" # 여자 and 혈색소 >= 12 : 빈혈 아님\n",
        "train.loc[~cond1&cond3, '빈혈여부'] = \"1\" # 남자 and 혈색소 < 13 : 빈혈\n",
        "train.loc[~cond1&~cond3, '빈혈여부'] = \"0\" # 남자 and 혈색소 >= 13 : 빈혈 아님"
      ],
      "metadata": {
        "id": "S0W4FMIPDkEF"
      },
      "execution_count": 5,
      "outputs": []
    },
    {
      "cell_type": "code",
      "source": [
        "train['빈혈여부'].describe()"
      ],
      "metadata": {
        "colab": {
          "base_uri": "https://localhost:8080/"
        },
        "id": "nU8Jfq5X_XLE",
        "outputId": "2b789817-28cd-4444-867c-5cd8e6131186"
      },
      "execution_count": 6,
      "outputs": [
        {
          "output_type": "execute_result",
          "data": {
            "text/plain": [
              "count     100000\n",
              "unique         2\n",
              "top            0\n",
              "freq       80486\n",
              "Name: 빈혈여부, dtype: object"
            ]
          },
          "metadata": {},
          "execution_count": 6
        }
      ]
    },
    {
      "cell_type": "code",
      "source": [
        "from sklearn.svm import SVC\n",
        "from sklearn import metrics, svm\n",
        "from sklearn.model_selection import train_test_split\n",
        "from sklearn.preprocessing import MinMaxScaler\n",
        "from sklearn.metrics import accuracy_score\n",
        "# import matplotlib.pyplot as plt import numpy as np from sklearn import svm\n",
        "from sklearn import svm\n",
        "svm_model = svm.SVC()\n",
        "\n",
        "print(svm_model._estimator_type)"
      ],
      "metadata": {
        "colab": {
          "base_uri": "https://localhost:8080/"
        },
        "id": "R5Z2xFGOCFAW",
        "outputId": "17bd9651-e33f-4a3a-cc09-92cf3bd38590"
      },
      "execution_count": 27,
      "outputs": [
        {
          "output_type": "stream",
          "name": "stdout",
          "text": [
            "classifier\n"
          ]
        }
      ]
    },
    {
      "cell_type": "code",
      "source": [
        "# feature와 target 분리\n",
        "yt=np.array(train['빈혈여부'])\n",
        "xt=train.drop(['빈혈여부'], axis=1)\n",
        "xt=np.array(xt)"
      ],
      "metadata": {
        "id": "oXIG1n6tCk36"
      },
      "execution_count": 8,
      "outputs": []
    },
    {
      "cell_type": "code",
      "source": [
        "# 정규화를 위해서는 데이터의 모든 문자를 숫자로 변환하기\n",
        "scaler=MinMaxScaler()\n",
        "xt=scaler.fit_transform(xt)"
      ],
      "metadata": {
        "id": "tC6O70FgEoKM"
      },
      "execution_count": 9,
      "outputs": []
    },
    {
      "cell_type": "code",
      "source": [
        "# train test 데이터 split\n",
        "xtrain,xtest,ytrain,ytest=train_test_split(xt, yt, test_size=0.2, random_state=42)"
      ],
      "metadata": {
        "id": "84TwHUqOC0HA"
      },
      "execution_count": 10,
      "outputs": []
    },
    {
      "cell_type": "markdown",
      "source": [
        "## C값 검색\n",
        "- C 값이 커지면 허용 오차의 개수가 작아짐   \n",
        " -> 가중치 값에 집중하는 경항 발생   \n",
        " -> margin 좁아짐\n"
      ],
      "metadata": {
        "id": "hgrlgxFPFWW2"
      }
    },
    {
      "cell_type": "code",
      "source": [
        "#Linear SVM을 위한 적절한 C값  검색\n",
        "#분류:SVC, 회귀(예측):SVR\n",
        "\n",
        "scores = []\n",
        "for thisC in [*range(1,10)]:\n",
        "    svc=SVC(kernel='linear',C=thisC)\n",
        "    model=svc.fit(xtrain,ytrain)\n",
        "    scoreTrain=model.score(xtrain,ytrain)\n",
        "    scoreTest=model.score(xtest,ytest)\n",
        "    print(\"선형 SVM : C:{}, training score:{:2f}, test score:{:2f}\".format\n",
        "          (thisC,scoreTrain, scoreTest))\n",
        "    scores.append([scoreTrain, scoreTest])"
      ],
      "metadata": {
        "colab": {
          "base_uri": "https://localhost:8080/"
        },
        "id": "NDr5XGGiEr2m",
        "outputId": "c7ef9a92-97fb-4532-f7a5-89196127275a"
      },
      "execution_count": null,
      "outputs": [
        {
          "output_type": "stream",
          "name": "stdout",
          "text": [
            "선형 SVM : C:1, training score:0.992175, test score:0.991850\n",
            "선형 SVM : C:2, training score:0.998200, test score:0.997400\n",
            "선형 SVM : C:3, training score:0.994012, test score:0.993550\n",
            "선형 SVM : C:4, training score:1.000000, test score:1.000000\n",
            "선형 SVM : C:5, training score:1.000000, test score:1.000000\n",
            "선형 SVM : C:6, training score:1.000000, test score:1.000000\n",
            "선형 SVM : C:7, training score:1.000000, test score:1.000000\n",
            "선형 SVM : C:8, training score:1.000000, test score:1.000000\n",
            "선형 SVM : C:9, training score:1.000000, test score:1.000000\n"
          ]
        }
      ]
    },
    {
      "cell_type": "code",
      "source": [
        "# C값에 따른 train test 정확도 비교\n",
        "pd.DataFrame(scores).plot()"
      ],
      "metadata": {
        "id": "fjQexrNjEzTJ",
        "colab": {
          "base_uri": "https://localhost:8080/",
          "height": 283
        },
        "outputId": "6ea92646-1a7a-4746-e702-3bde836e8f8d"
      },
      "execution_count": null,
      "outputs": [
        {
          "output_type": "execute_result",
          "data": {
            "text/plain": [
              "<matplotlib.axes._subplots.AxesSubplot at 0x7faf71439110>"
            ]
          },
          "metadata": {},
          "execution_count": 16
        },
        {
          "output_type": "display_data",
          "data": {
            "text/plain": [
              "<Figure size 432x288 with 1 Axes>"
            ],
            "image/png": "[encoded data removed]"
          },
          "metadata": {
            "needs_background": "light"
          }
        }
      ]
    },
    {
      "cell_type": "markdown",
      "source": [
        "## 모델 훈련"
      ],
      "metadata": {
        "id": "a-eeLe60TX8W"
      }
    },
    {
      "cell_type": "code",
      "source": [
        "svm_model = svm.SVC(kernel='linear', C=4)\n",
        " \n",
        "svm_model.fit(xtrain, ytrain) # SVM 분류 모델 훈련"
      ],
      "metadata": {
        "id": "d0ekPVStFw0c",
        "colab": {
          "base_uri": "https://localhost:8080/"
        },
        "outputId": "3245502a-801d-4f3d-96d5-54fa037253b6"
      },
      "execution_count": 11,
      "outputs": [
        {
          "output_type": "execute_result",
          "data": {
            "text/plain": [
              "SVC(C=4, kernel='linear')"
            ]
          },
          "metadata": {},
          "execution_count": 11
        }
      ]
    },
    {
      "cell_type": "code",
      "source": [
        "y_pred = svm_model.predict(xtest) # 테스트"
      ],
      "metadata": {
        "id": "tXvegYCQTxoD"
      },
      "execution_count": 12,
      "outputs": []
    },
    {
      "cell_type": "code",
      "source": [
        "score = metrics.accuracy_score(y_pred,ytest)\n",
        "report = metrics.classification_report(y_pred,ytest)\n",
        "\n",
        "print(score)\n",
        "print(report)"
      ],
      "metadata": {
        "colab": {
          "base_uri": "https://localhost:8080/"
        },
        "id": "5Dr89EqWV9XB",
        "outputId": "f9cef5f8-5707-4a4e-da4d-8264feb513d8"
      },
      "execution_count": 13,
      "outputs": [
        {
          "output_type": "stream",
          "name": "stdout",
          "text": [
            "1.0\n",
            "              precision    recall  f1-score   support\n",
            "\n",
            "           0       1.00      1.00      1.00     16113\n",
            "           1       1.00      1.00      1.00      3887\n",
            "\n",
            "    accuracy                           1.00     20000\n",
            "   macro avg       1.00      1.00      1.00     20000\n",
            "weighted avg       1.00      1.00      1.00     20000\n",
            "\n"
          ]
        }
      ]
    },
    {
      "cell_type": "code",
      "source": [
        "print(\"예측된 라벨:\", y_pred)\n",
        "print(\"ground-truth 라벨:\", ytest)"
      ],
      "metadata": {
        "colab": {
          "base_uri": "https://localhost:8080/"
        },
        "id": "kn7aRcisT0IZ",
        "outputId": "025056bd-0d24-449f-b341-57cf2171c235"
      },
      "execution_count": 14,
      "outputs": [
        {
          "output_type": "stream",
          "name": "stdout",
          "text": [
            "예측된 라벨: ['0' '0' '1' ... '1' '0' '0']\n",
            "ground-truth 라벨: ['0' '0' '1' ... '1' '0' '0']\n"
          ]
        }
      ]
    },
    {
      "cell_type": "markdown",
      "source": [
        "# Overfitting 확인\n",
        "- 성능 평가 다양하게 진행 : [참고](https://datascience.stackexchange.com/questions/26640/how-to-check-for-overfitting-with-svm-and-iris-data)\n",
        "- [SVM 과접합에 대하여](https://stats.stackexchange.com/questions/35276/svm-overfitting-curse-of-dimensionality)\n",
        "\n",
        "### (1) raw accuracy"
      ],
      "metadata": {
        "id": "2WPgpWCygw6Q"
      }
    },
    {
      "cell_type": "code",
      "source": [
        "accuracy_score(y_pred, ytest)"
      ],
      "metadata": {
        "colab": {
          "base_uri": "https://localhost:8080/"
        },
        "id": "PfLK3iBoiQLm",
        "outputId": "11ee5e64-7d1a-4d0f-839b-ea45c4cfc228"
      },
      "execution_count": 29,
      "outputs": [
        {
          "output_type": "execute_result",
          "data": {
            "text/plain": [
              "1.0"
            ]
          },
          "metadata": {},
          "execution_count": 29
        }
      ]
    },
    {
      "cell_type": "markdown",
      "source": [
        "### (2) cross_val_score\n",
        "- Using the cross_val_score function, and printing the mean score and 95% confidence interval of the score estimate:"
      ],
      "metadata": {
        "id": "l05o_J7Pj6JP"
      }
    },
    {
      "cell_type": "code",
      "source": [
        "from sklearn.model_selection import cross_val_score\n",
        "\n",
        "scores = cross_val_score(svm_model, xt, yt, cv=5)\n",
        "print(\"Accuracy: %0.2f (+/- %0.2f)\" % (scores.mean(), scores.std() * 2))"
      ],
      "metadata": {
        "colab": {
          "base_uri": "https://localhost:8080/"
        },
        "id": "Qtqor6H9igce",
        "outputId": "f2970caa-3ad7-405e-9fce-c6179d993d01"
      },
      "execution_count": 30,
      "outputs": [
        {
          "output_type": "stream",
          "name": "stdout",
          "text": [
            "Accuracy: 0.99 (+/- 0.00)\n"
          ]
        }
      ]
    },
    {
      "cell_type": "markdown",
      "source": [
        "=> 교차 검증을 진행할 경우 raw accuracy보다 낮은 정확도를 보여줌   \n",
        "=> overfitting 검사를 위해 KFold 검사 추천\n",
        "\n",
        "### (3) KFold 유효성 검사\n",
        "- [KFold에 대하여](https://scikit-learn.org/stable/modules/generated/sklearn.model_selection.KFold.html)"
      ],
      "metadata": {
        "id": "d1_hEtUUkmHo"
      }
    },
    {
      "cell_type": "code",
      "source": [
        "print(\"prediction accuracy: {:.2f}\".format(np.mean(y_pred == ytest))) # 예측 정확도"
      ],
      "metadata": {
        "colab": {
          "base_uri": "https://localhost:8080/"
        },
        "id": "KLtWC5DET-Ea",
        "outputId": "b0adb4a2-096a-4649-bff6-790a993b4f34"
      },
      "execution_count": 15,
      "outputs": [
        {
          "output_type": "stream",
          "name": "stdout",
          "text": [
            "prediction accuracy: 1.00\n"
          ]
        }
      ]
    },
    {
      "cell_type": "code",
      "source": [
        "# from sklearn.model_selection import KFold\n",
        "# import numpy as np\n",
        "# acc_score = []\n",
        "\n",
        "# kf = KFold(n_splits=5)\n",
        "\n",
        "# # for train_index, test_index in kf.split(x):\n",
        "\n",
        "# #     xtrain, Xtest = x[train_index], X[test_index]\n",
        "# #     ytrain, ytest = y[train_index], y[test_index]\n",
        "\n",
        "# #     svm_model.fit(Xtrain,ytrain)\n",
        "# #     predictions = svm_model.predict(xtest)\n",
        "# #     acc_score.append(accuracy_score(predictions, ytest))\n",
        "\n",
        "# accuracy_score(y_pred, ytest)\n",
        "# acc_score.append(accuracy_score(y_pred, ytest))\n",
        "\n",
        "# np.mean(acc_score)"
      ],
      "metadata": {
        "colab": {
          "base_uri": "https://localhost:8080/"
        },
        "id": "9ZbUR5eRgzLe",
        "outputId": "ff631e74-1e0b-48d5-a4b1-6934a1860561"
      },
      "execution_count": 31,
      "outputs": [
        {
          "output_type": "execute_result",
          "data": {
            "text/plain": [
              "1.0"
            ]
          },
          "metadata": {},
          "execution_count": 31
        }
      ]
    },
    {
      "cell_type": "markdown",
      "source": [
        "## svm 시각화...\n",
        "- [참고자료](https://ko.ilusionity.com/638-svm-machine-learning-tutorial-what-is-the-support-vector-machine-algorithm-explained-with-code-examples)"
      ],
      "metadata": {
        "id": "xypRLMxucOyM"
      }
    },
    {
      "cell_type": "code",
      "source": [
        "# # 실패\n",
        "\n",
        "# w = svm_model.coef_[0]    # get the weight values for the linear equation from the trained SVM model\n",
        "# a = -w[0] / w[1]    # get the y-offset for the linear equation \n",
        "# XX = np.linspace(0, 13)    # make the x-axis space for the data points XX\n",
        "# yy = a * XX - svm_model.intercept_[0] / w[1]    # get the y-values to plot the decision boundary y \n",
        "\n",
        "\n",
        "# plt.plot(XX, yy, 'k-')    # plot the decision boundary  \n",
        "# plt.scatter(xtrain[:, 0], xtrain[:, 1], c=ytrain)\n",
        "# plt.legend()\n",
        "# plt.show()    # show the plot visually "
      ],
      "metadata": {
        "colab": {
          "base_uri": "https://localhost:8080/",
          "height": 283
        },
        "id": "QvF3V5tAahwC",
        "outputId": "608ce58b-f86f-493d-da37-6eb926850b94"
      },
      "execution_count": 30,
      "outputs": [
        {
          "output_type": "stream",
          "name": "stderr",
          "text": [
            "No handles with labels found to put in legend.\n"
          ]
        },
        {
          "output_type": "display_data",
          "data": {
            "text/plain": [
              "<Figure size 432x288 with 1 Axes>"
            ],
            "image/png": "[encoded data removed]"
          },
          "metadata": {
            "needs_background": "light"
          }
        }
      ]
    },
    {
      "cell_type": "markdown",
      "source": [
        "- [방법2](https://data-gardner.tistory.com/31)"
      ],
      "metadata": {
        "id": "5R352z_Mdtpl"
      }
    },
    {
      "cell_type": "code",
      "source": [
        "# !pip install mglearn"
      ],
      "metadata": {
        "colab": {
          "base_uri": "https://localhost:8080/"
        },
        "id": "4VLzs9A5fAm4",
        "outputId": "77ef5801-49fc-4715-e401-2129222c0c83"
      },
      "execution_count": 33,
      "outputs": [
        {
          "output_type": "stream",
          "name": "stdout",
          "text": [
            "Collecting mglearn\n",
            "  Downloading mglearn-0.1.9.tar.gz (540 kB)\n",
            "\u001b[K     |████████████████████████████████| 540 kB 5.9 MB/s \n",
            "\u001b[?25hRequirement already satisfied: numpy in /usr/local/lib/python3.7/dist-packages (from mglearn) (1.21.6)\n",
            "Requirement already satisfied: matplotlib in /usr/local/lib/python3.7/dist-packages (from mglearn) (3.2.2)\n",
            "Requirement already satisfied: scikit-learn in /usr/local/lib/python3.7/dist-packages (from mglearn) (1.0.2)\n",
            "Requirement already satisfied: pandas in /usr/local/lib/python3.7/dist-packages (from mglearn) (1.3.5)\n",
            "Requirement already satisfied: pillow in /usr/local/lib/python3.7/dist-packages (from mglearn) (7.1.2)\n",
            "Requirement already satisfied: cycler in /usr/local/lib/python3.7/dist-packages (from mglearn) (0.11.0)\n",
            "Requirement already satisfied: imageio in /usr/local/lib/python3.7/dist-packages (from mglearn) (2.4.1)\n",
            "Requirement already satisfied: joblib in /usr/local/lib/python3.7/dist-packages (from mglearn) (1.1.0)\n",
            "Requirement already satisfied: python-dateutil>=2.1 in /usr/local/lib/python3.7/dist-packages (from matplotlib->mglearn) (2.8.2)\n",
            "Requirement already satisfied: kiwisolver>=1.0.1 in /usr/local/lib/python3.7/dist-packages (from matplotlib->mglearn) (1.4.2)\n",
            "Requirement already satisfied: pyparsing!=2.0.4,!=2.1.2,!=2.1.6,>=2.0.1 in /usr/local/lib/python3.7/dist-packages (from matplotlib->mglearn) (3.0.8)\n",
            "Requirement already satisfied: typing-extensions in /usr/local/lib/python3.7/dist-packages (from kiwisolver>=1.0.1->matplotlib->mglearn) (4.2.0)\n",
            "Requirement already satisfied: six>=1.5 in /usr/local/lib/python3.7/dist-packages (from python-dateutil>=2.1->matplotlib->mglearn) (1.15.0)\n",
            "Requirement already satisfied: pytz>=2017.3 in /usr/local/lib/python3.7/dist-packages (from pandas->mglearn) (2022.1)\n",
            "Requirement already satisfied: threadpoolctl>=2.0.0 in /usr/local/lib/python3.7/dist-packages (from scikit-learn->mglearn) (3.1.0)\n",
            "Requirement already satisfied: scipy>=1.1.0 in /usr/local/lib/python3.7/dist-packages (from scikit-learn->mglearn) (1.4.1)\n",
            "Building wheels for collected packages: mglearn\n",
            "  Building wheel for mglearn (setup.py) ... \u001b[?25l\u001b[?25hdone\n",
            "  Created wheel for mglearn: filename=mglearn-0.1.9-py2.py3-none-any.whl size=582639 sha256=2a9a0960c4a3f3575ecc4dd449d4764b30119b9b41631ded164a6d2af87a14d6\n",
            "  Stored in directory: /root/.cache/pip/wheels/f1/17/e1/1720d6dcd70187b6b6c3750cb3508798f2b1d57c9d3214b08b\n",
            "Successfully built mglearn\n",
            "Installing collected packages: mglearn\n",
            "Successfully installed mglearn-0.1.9\n"
          ]
        }
      ]
    },
    {
      "cell_type": "code",
      "source": [
        "import mglearn"
      ],
      "metadata": {
        "id": "HMwHB9plf2OR"
      },
      "execution_count": 17,
      "outputs": []
    },
    {
      "cell_type": "code",
      "source": [
        "from sklearn.linear_model import LogisticRegression \n",
        "from sklearn.svm import LinearSVC \n",
        "xtrain, ytrain = mglearn.datasets.make_forge() \n",
        "fig, axes = plt.subplots(1, 2, figsize=(10, 3)) \n",
        "\n",
        "for model, ax in zip([LinearSVC()], axes): \n",
        "  svm_model.fit(xtrain, ytrain)\n",
        "  mglearn.plots.plot_2d_separator(svm_model, xtrain, fill=False, eps=0.5, ax=ax, alpha=.7) \n",
        "  mglearn.discrete_scatter(xtrain[:, 0], xtrain[:, 1], ytrain, ax=ax) \n",
        "  ax.set_title(\"{}\".format(svm_model.__class__.__name__)) \n",
        "  ax.set_xlabel(\"feature 0\") \n",
        "  ax.set_ylabel(\"feature 1\") \n",
        "  \n",
        "axes[0].legend()"
      ],
      "metadata": {
        "colab": {
          "base_uri": "https://localhost:8080/",
          "height": 301
        },
        "id": "1oX1U5Xzdunz",
        "outputId": "c959d1df-ce22-4d81-bb0c-ef73e1ffcd79"
      },
      "execution_count": 20,
      "outputs": [
        {
          "output_type": "stream",
          "name": "stderr",
          "text": [
            "/usr/local/lib/python3.7/dist-packages/sklearn/utils/deprecation.py:87: FutureWarning: Function make_blobs is deprecated; Please import make_blobs directly from scikit-learn\n",
            "  warnings.warn(msg, category=FutureWarning)\n"
          ]
        },
        {
          "output_type": "execute_result",
          "data": {
            "text/plain": [
              "<matplotlib.legend.Legend at 0x7fd33f47b610>"
            ]
          },
          "metadata": {},
          "execution_count": 20
        },
        {
          "output_type": "display_data",
          "data": {
            "text/plain": [
              "<Figure size 720x216 with 2 Axes>"
            ],
            "image/png": "[encoded data removed]"
          },
          "metadata": {
            "needs_background": "light"
          }
        }
      ]
    },
    {
      "cell_type": "code",
      "source": [
        "mglearn.plots.plot_linear_svc_regularization()"
      ],
      "metadata": {
        "colab": {
          "base_uri": "https://localhost:8080/",
          "height": 288
        },
        "id": "vnkac5SseZAz",
        "outputId": "e1a0c413-3ddc-4aca-dc07-1e844dfd23c0"
      },
      "execution_count": 21,
      "outputs": [
        {
          "output_type": "display_data",
          "data": {
            "text/plain": [
              "<Figure size 864x288 with 3 Axes>"
            ],
            "image/png": "[encoded data removed]"
          },
          "metadata": {}
        }
      ]
    },
    {
      "cell_type": "markdown",
      "source": [
        "- [방법(3)](https://tensorflow.blog/%ED%8C%8C%EC%9D%B4%EC%8D%AC-%EB%A8%B8%EC%8B%A0%EB%9F%AC%EB%8B%9D/2-3-7-%EC%BB%A4%EB%84%90-%EC%84%9C%ED%8F%AC%ED%8A%B8-%EB%B2%A1%ED%84%B0-%EB%A8%B8%EC%8B%A0/)"
      ],
      "metadata": {
        "id": "ynu87D70m1Go"
      }
    },
    {
      "cell_type": "code",
      "source": [
        "from sklearn.svm import LinearSVC\n",
        "linear_svm = svm_model.fit(xtrain, ytrain)\n",
        "\n",
        "mglearn.plots.plot_2d_separator(linear_svm, xtrain)\n",
        "mglearn.discrete_scatter(xtrain[:, 0], xtrain[:, 1], ytrain)\n",
        "plt.xlabel(\"feature 0\")\n",
        "plt.ylabel(\"feature 1\")"
      ],
      "metadata": {
        "colab": {
          "base_uri": "https://localhost:8080/",
          "height": 280
        },
        "id": "z3OD2fjKm3x3",
        "outputId": "418831d1-7b7d-47ca-e55d-8f51010a5c14"
      },
      "execution_count": 33,
      "outputs": [
        {
          "output_type": "execute_result",
          "data": {
            "text/plain": [
              "Text(0, 0.5, 'feature 1')"
            ]
          },
          "metadata": {},
          "execution_count": 33
        },
        {
          "output_type": "display_data",
          "data": {
            "text/plain": [
              "<Figure size 432x288 with 1 Axes>"
            ],
            "image/png": "[encoded data removed]"
          },
          "metadata": {}
        }
      ]
    },
    {
      "cell_type": "markdown",
      "source": [
        "# 결과 정리\n",
        "|No.|데이터 수|변동 사항|accuracy|0_precision|0_recall|1_precision|1_recall|\n",
        "|---|---|---|---|---|---|---|---|\n",
        "|---|---|---|---|---|---|---|---|"
      ],
      "metadata": {
        "id": "z1mxefnxnXSt"
      }
    },
    {
      "cell_type": "markdown",
      "source": [
        "# Error\n",
        "(1) NameError: name 'mglearn' is not defined   \n",
        "=> !pip install mglearn [참고](https://m.blog.naver.com/lcj8390/221980377436)   \n",
        "=> import 해줘야 함⭐"
      ],
      "metadata": {
        "id": "JejBYCwZem5T"
      }
    },
    {
      "cell_type": "markdown",
      "source": [
        "#Reference\n",
        "\n",
        "1. https://bskyvision.com/851   \n",
        "2. svm에 대한 자세한 설명 : https://bskyvision.com/163\n"
      ],
      "metadata": {
        "id": "JF1UkwKhxCRn"
      }
    }
  ]
}