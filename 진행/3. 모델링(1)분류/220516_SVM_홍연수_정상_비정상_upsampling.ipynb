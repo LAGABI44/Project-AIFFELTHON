{
  "nbformat": 4,
  "nbformat_minor": 0,
  "metadata": {
    "colab": {
      "name": "220516_SVM_홍연수_정상_비정상_upsampling.ipynb",
      "provenance": [],
      "collapsed_sections": []
    },
    "kernelspec": {
      "name": "python3",
      "display_name": "Python 3"
    },
    "language_info": {
      "name": "python"
    }
  },
  "cells": [
    {
      "cell_type": "code",
      "source": [
        "%matplotlib inline\n",
        "import missingno as msno\n",
        "import numpy as np\n",
        "import pandas as pd\n",
        "import matplotlib.pyplot as plt\n",
        "import seaborn as sns\n",
        "from sklearn.model_selection import train_test_split\n",
        "from sklearn import svm\n",
        "from sklearn import metrics\n",
        "from sklearn.svm import SVC\n",
        "from sklearn.metrics import classification_report, confusion_matrix"
      ],
      "metadata": {
        "id": "4smDZAv4CzO5"
      },
      "execution_count": 1,
      "outputs": []
    },
    {
      "cell_type": "code",
      "source": [
        "from google.colab import drive # gdrive 연동\n",
        "drive.mount('/content/drive')"
      ],
      "metadata": {
        "colab": {
          "base_uri": "https://localhost:8080/"
        },
        "id": "_CVubCQMDEGL",
        "outputId": "b3dfc6c2-0a9b-4eac-ef00-59a997060460"
      },
      "execution_count": 2,
      "outputs": [
        {
          "output_type": "stream",
          "name": "stdout",
          "text": [
            "Mounted at /content/drive\n"
          ]
        }
      ]
    },
    {
      "cell_type": "code",
      "source": [
        "df = pd.read_csv('/content/drive/MyDrive/Colab_Notebooks/aiffel_data/Hackerton_2/data_over_sampling.csv', encoding='cp949') # oversampling 된 것!\n",
        "df"
      ],
      "metadata": {
        "colab": {
          "base_uri": "https://localhost:8080/",
          "height": 424
        },
        "id": "KwYtCIuTC1_F",
        "outputId": "f3941cb9-afd0-4036-f8c0-7ccef23f510b"
      },
      "execution_count": 3,
      "outputs": [
        {
          "output_type": "execute_result",
          "data": {
            "text/plain": [
              "         SEX  BTH_G  SBP  DBP  FBS   BMI  Dis\n",
              "0          1      1  116   78   94  16.6    0\n",
              "1          1      1  100   60   79  22.3    0\n",
              "2          1      1  100   60   87  21.9    0\n",
              "3          1      1  111   70   72  20.2    0\n",
              "4          1      1  120   80   98  20.0    0\n",
              "...      ...    ...  ...  ...  ...   ...  ...\n",
              "1481319    0     25  120   80   78  27.9    1\n",
              "1481320    0     27  150   74  133  32.0    1\n",
              "1481321    1     25  120   70  118  26.9    1\n",
              "1481322    0     20  136   68   93  21.5    1\n",
              "1481323    1     19  125   84  130  24.8    1\n",
              "\n",
              "[1481324 rows x 7 columns]"
            ],
            "text/html": [
              "\n",
              "  <div id=\"df-65108ef7-0c69-452c-88a8-c540d4a8ff03\">\n",
              "    <div class=\"colab-df-container\">\n",
              "      <div>\n",
              "<style scoped>\n",
              "    .dataframe tbody tr th:only-of-type {\n",
              "        vertical-align: middle;\n",
              "    }\n",
              "\n",
              "    .dataframe tbody tr th {\n",
              "        vertical-align: top;\n",
              "    }\n",
              "\n",
              "    .dataframe thead th {\n",
              "        text-align: right;\n",
              "    }\n",
              "</style>\n",
              "<table border=\"1\" class=\"dataframe\">\n",
              "  <thead>\n",
              "    <tr style=\"text-align: right;\">\n",
              "      <th></th>\n",
              "      <th>SEX</th>\n",
              "      <th>BTH_G</th>\n",
              "      <th>SBP</th>\n",
              "      <th>DBP</th>\n",
              "      <th>FBS</th>\n",
              "      <th>BMI</th>\n",
              "      <th>Dis</th>\n",
              "    </tr>\n",
              "  </thead>\n",
              "  <tbody>\n",
              "    <tr>\n",
              "      <th>0</th>\n",
              "      <td>1</td>\n",
              "      <td>1</td>\n",
              "      <td>116</td>\n",
              "      <td>78</td>\n",
              "      <td>94</td>\n",
              "      <td>16.6</td>\n",
              "      <td>0</td>\n",
              "    </tr>\n",
              "    <tr>\n",
              "      <th>1</th>\n",
              "      <td>1</td>\n",
              "      <td>1</td>\n",
              "      <td>100</td>\n",
              "      <td>60</td>\n",
              "      <td>79</td>\n",
              "      <td>22.3</td>\n",
              "      <td>0</td>\n",
              "    </tr>\n",
              "    <tr>\n",
              "      <th>2</th>\n",
              "      <td>1</td>\n",
              "      <td>1</td>\n",
              "      <td>100</td>\n",
              "      <td>60</td>\n",
              "      <td>87</td>\n",
              "      <td>21.9</td>\n",
              "      <td>0</td>\n",
              "    </tr>\n",
              "    <tr>\n",
              "      <th>3</th>\n",
              "      <td>1</td>\n",
              "      <td>1</td>\n",
              "      <td>111</td>\n",
              "      <td>70</td>\n",
              "      <td>72</td>\n",
              "      <td>20.2</td>\n",
              "      <td>0</td>\n",
              "    </tr>\n",
              "    <tr>\n",
              "      <th>4</th>\n",
              "      <td>1</td>\n",
              "      <td>1</td>\n",
              "      <td>120</td>\n",
              "      <td>80</td>\n",
              "      <td>98</td>\n",
              "      <td>20.0</td>\n",
              "      <td>0</td>\n",
              "    </tr>\n",
              "    <tr>\n",
              "      <th>...</th>\n",
              "      <td>...</td>\n",
              "      <td>...</td>\n",
              "      <td>...</td>\n",
              "      <td>...</td>\n",
              "      <td>...</td>\n",
              "      <td>...</td>\n",
              "      <td>...</td>\n",
              "    </tr>\n",
              "    <tr>\n",
              "      <th>1481319</th>\n",
              "      <td>0</td>\n",
              "      <td>25</td>\n",
              "      <td>120</td>\n",
              "      <td>80</td>\n",
              "      <td>78</td>\n",
              "      <td>27.9</td>\n",
              "      <td>1</td>\n",
              "    </tr>\n",
              "    <tr>\n",
              "      <th>1481320</th>\n",
              "      <td>0</td>\n",
              "      <td>27</td>\n",
              "      <td>150</td>\n",
              "      <td>74</td>\n",
              "      <td>133</td>\n",
              "      <td>32.0</td>\n",
              "      <td>1</td>\n",
              "    </tr>\n",
              "    <tr>\n",
              "      <th>1481321</th>\n",
              "      <td>1</td>\n",
              "      <td>25</td>\n",
              "      <td>120</td>\n",
              "      <td>70</td>\n",
              "      <td>118</td>\n",
              "      <td>26.9</td>\n",
              "      <td>1</td>\n",
              "    </tr>\n",
              "    <tr>\n",
              "      <th>1481322</th>\n",
              "      <td>0</td>\n",
              "      <td>20</td>\n",
              "      <td>136</td>\n",
              "      <td>68</td>\n",
              "      <td>93</td>\n",
              "      <td>21.5</td>\n",
              "      <td>1</td>\n",
              "    </tr>\n",
              "    <tr>\n",
              "      <th>1481323</th>\n",
              "      <td>1</td>\n",
              "      <td>19</td>\n",
              "      <td>125</td>\n",
              "      <td>84</td>\n",
              "      <td>130</td>\n",
              "      <td>24.8</td>\n",
              "      <td>1</td>\n",
              "    </tr>\n",
              "  </tbody>\n",
              "</table>\n",
              "<p>1481324 rows × 7 columns</p>\n",
              "</div>\n",
              "      <button class=\"colab-df-convert\" onclick=\"convertToInteractive('df-65108ef7-0c69-452c-88a8-c540d4a8ff03')\"\n",
              "              title=\"Convert this dataframe to an interactive table.\"\n",
              "              style=\"display:none;\">\n",
              "        \n",
              "  <svg xmlns=\"http://www.w3.org/2000/svg\" height=\"24px\"viewBox=\"0 0 24 24\"\n",
              "       width=\"24px\">\n",
              "    <path d=\"M0 0h24v24H0V0z\" fill=\"none\"/>\n",
              "    <path d=\"M18.56 5.44l.94 2.06.94-2.06 2.06-.94-2.06-.94-.94-2.06-.94 2.06-2.06.94zm-11 1L8.5 8.5l.94-2.06 2.06-.94-2.06-.94L8.5 2.5l-.94 2.06-2.06.94zm10 10l.94 2.06.94-2.06 2.06-.94-2.06-.94-.94-2.06-.94 2.06-2.06.94z\"/><path d=\"M17.41 7.96l-1.37-1.37c-.4-.4-.92-.59-1.43-.59-.52 0-1.04.2-1.43.59L10.3 9.45l-7.72 7.72c-.78.78-.78 2.05 0 2.83L4 21.41c.39.39.9.59 1.41.59.51 0 1.02-.2 1.41-.59l7.78-7.78 2.81-2.81c.8-.78.8-2.07 0-2.86zM5.41 20L4 18.59l7.72-7.72 1.47 1.35L5.41 20z\"/>\n",
              "  </svg>\n",
              "      </button>\n",
              "      \n",
              "  <style>\n",
              "    .colab-df-container {\n",
              "      display:flex;\n",
              "      flex-wrap:wrap;\n",
              "      gap: 12px;\n",
              "    }\n",
              "\n",
              "    .colab-df-convert {\n",
              "      background-color: #E8F0FE;\n",
              "      border: none;\n",
              "      border-radius: 50%;\n",
              "      cursor: pointer;\n",
              "      display: none;\n",
              "      fill: #1967D2;\n",
              "      height: 32px;\n",
              "      padding: 0 0 0 0;\n",
              "      width: 32px;\n",
              "    }\n",
              "\n",
              "    .colab-df-convert:hover {\n",
              "      background-color: #E2EBFA;\n",
              "      box-shadow: 0px 1px 2px rgba(60, 64, 67, 0.3), 0px 1px 3px 1px rgba(60, 64, 67, 0.15);\n",
              "      fill: #174EA6;\n",
              "    }\n",
              "\n",
              "    [theme=dark] .colab-df-convert {\n",
              "      background-color: #3B4455;\n",
              "      fill: #D2E3FC;\n",
              "    }\n",
              "\n",
              "    [theme=dark] .colab-df-convert:hover {\n",
              "      background-color: #434B5C;\n",
              "      box-shadow: 0px 1px 3px 1px rgba(0, 0, 0, 0.15);\n",
              "      filter: drop-shadow(0px 1px 2px rgba(0, 0, 0, 0.3));\n",
              "      fill: #FFFFFF;\n",
              "    }\n",
              "  </style>\n",
              "\n",
              "      <script>\n",
              "        const buttonEl =\n",
              "          document.querySelector('#df-65108ef7-0c69-452c-88a8-c540d4a8ff03 button.colab-df-convert');\n",
              "        buttonEl.style.display =\n",
              "          google.colab.kernel.accessAllowed ? 'block' : 'none';\n",
              "\n",
              "        async function convertToInteractive(key) {\n",
              "          const element = document.querySelector('#df-65108ef7-0c69-452c-88a8-c540d4a8ff03');\n",
              "          const dataTable =\n",
              "            await google.colab.kernel.invokeFunction('convertToInteractive',\n",
              "                                                     [key], {});\n",
              "          if (!dataTable) return;\n",
              "\n",
              "          const docLinkHtml = 'Like what you see? Visit the ' +\n",
              "            '<a target=\"_blank\" href=https://colab.research.google.com/notebooks/data_table.ipynb>data table notebook</a>'\n",
              "            + ' to learn more about interactive tables.';\n",
              "          element.innerHTML = '';\n",
              "          dataTable['output_type'] = 'display_data';\n",
              "          await google.colab.output.renderOutput(dataTable, element);\n",
              "          const docLink = document.createElement('div');\n",
              "          docLink.innerHTML = docLinkHtml;\n",
              "          element.appendChild(docLink);\n",
              "        }\n",
              "      </script>\n",
              "    </div>\n",
              "  </div>\n",
              "  "
            ]
          },
          "metadata": {},
          "execution_count": 3
        }
      ]
    },
    {
      "cell_type": "code",
      "source": [
        "df.notnull().sum()"
      ],
      "metadata": {
        "colab": {
          "base_uri": "https://localhost:8080/"
        },
        "id": "ZLDBSAvxD1s6",
        "outputId": "0cf33bce-4075-4d80-833e-08d7018bd378"
      },
      "execution_count": 4,
      "outputs": [
        {
          "output_type": "execute_result",
          "data": {
            "text/plain": [
              "SEX      1481324\n",
              "BTH_G    1481324\n",
              "SBP      1481324\n",
              "DBP      1481324\n",
              "FBS      1481324\n",
              "BMI      1481324\n",
              "Dis      1481324\n",
              "dtype: int64"
            ]
          },
          "metadata": {},
          "execution_count": 4
        }
      ]
    },
    {
      "cell_type": "code",
      "source": [
        "df.info()"
      ],
      "metadata": {
        "colab": {
          "base_uri": "https://localhost:8080/"
        },
        "id": "530iIa4nD1qQ",
        "outputId": "8870ecfb-6478-4174-f7a8-d9f8565cb73a"
      },
      "execution_count": 5,
      "outputs": [
        {
          "output_type": "stream",
          "name": "stdout",
          "text": [
            "<class 'pandas.core.frame.DataFrame'>\n",
            "RangeIndex: 1481324 entries, 0 to 1481323\n",
            "Data columns (total 7 columns):\n",
            " #   Column  Non-Null Count    Dtype  \n",
            "---  ------  --------------    -----  \n",
            " 0   SEX     1481324 non-null  int64  \n",
            " 1   BTH_G   1481324 non-null  int64  \n",
            " 2   SBP     1481324 non-null  int64  \n",
            " 3   DBP     1481324 non-null  int64  \n",
            " 4   FBS     1481324 non-null  int64  \n",
            " 5   BMI     1481324 non-null  float64\n",
            " 6   Dis     1481324 non-null  int64  \n",
            "dtypes: float64(1), int64(6)\n",
            "memory usage: 79.1 MB\n"
          ]
        }
      ]
    },
    {
      "cell_type": "code",
      "source": [
        "colormap = plt.cm.viridis # pearson 상관 계수 확인 ---> heatmap\n",
        "plt.figure(figsize=(15,15))\n",
        "plt.title(\"Pearson Corrrelation of features\")\n",
        "sns.heatmap(df.corr(), cmap=colormap, annot=True, linewidths=0.1, vmax=1.0, \n",
        "            square=True, linecolor='white')"
      ],
      "metadata": {
        "colab": {
          "base_uri": "https://localhost:8080/",
          "height": 869
        },
        "id": "yautWsicD1jB",
        "outputId": "f9dd0f3b-47b0-457d-e1e1-cb3748594090"
      },
      "execution_count": 6,
      "outputs": [
        {
          "output_type": "execute_result",
          "data": {
            "text/plain": [
              "<matplotlib.axes._subplots.AxesSubplot at 0x7fb476ee6550>"
            ]
          },
          "metadata": {},
          "execution_count": 6
        },
        {
          "output_type": "display_data",
          "data": {
            "text/plain": [
              "<Figure size 1080x1080 with 2 Axes>"
            ],
            "image/png": "[encoded data removed]"
          },
          "metadata": {
            "needs_background": "light"
          }
        }
      ]
    },
    {
      "cell_type": "markdown",
      "source": [
        "수축기 혈압(SBP)와 이완기 혈압(DBP)의 상관관계는 0.74가 나왔고 나머지 데이터에서는 유의미함을 발견하지 못함\n",
        "\n",
        "질병과 birthday 도 0.49의 상관관계가 나옴 (나이가 들수록 질병이 잘 걸린다.)"
      ],
      "metadata": {
        "id": "xbsIKd7hG7Po"
      }
    },
    {
      "cell_type": "code",
      "source": [
        "# split data\n",
        "\n",
        "from sklearn.model_selection import train_test_split\n",
        "\n",
        "# 전체 데이터 split\n",
        "X_train, X_test, y_train, y_test = train_test_split(df.loc[:, df.columns != 'Dis'],df['Dis'],  stratify=df['Dis'], shuffle=True, test_size=0.9, random_state=11)\n",
        "\n",
        "# \n",
        "X_test,X_val,y_test,y_val=train_test_split(X_test,y_test,test_size=0.89, shuffle=True) # validation은 사용하지 않음\n",
        "\n",
        "\n",
        "print(X_train.shape)\n",
        "print(y_train.shape)\n",
        "print(X_val.shape)\n",
        "print(y_val.shape)\n",
        "print(X_test.shape)\n",
        "print(y_test.shape)"
      ],
      "metadata": {
        "id": "7YZcEQACD1ge",
        "colab": {
          "base_uri": "https://localhost:8080/"
        },
        "outputId": "14cb5bd8-d2a0-4c2a-a7a5-efa62cb9b925"
      },
      "execution_count": 17,
      "outputs": [
        {
          "output_type": "stream",
          "name": "stdout",
          "text": [
            "(148132, 6)\n",
            "(148132,)\n",
            "(1186541, 6)\n",
            "(1186541,)\n",
            "(146651, 6)\n",
            "(146651,)\n"
          ]
        }
      ]
    },
    {
      "cell_type": "code",
      "source": [
        "X_train.shape"
      ],
      "metadata": {
        "colab": {
          "base_uri": "https://localhost:8080/"
        },
        "id": "hLSmSgHED1d9",
        "outputId": "15086975-a9cf-4034-c02d-a8ee701279fd"
      },
      "execution_count": 18,
      "outputs": [
        {
          "output_type": "execute_result",
          "data": {
            "text/plain": [
              "(148132, 6)"
            ]
          },
          "metadata": {},
          "execution_count": 18
        }
      ]
    },
    {
      "cell_type": "code",
      "source": [
        "X_test.shape"
      ],
      "metadata": {
        "colab": {
          "base_uri": "https://localhost:8080/"
        },
        "id": "r8LZr5PoIXxF",
        "outputId": "a24836b7-d273-428b-895b-c588cadd7175"
      },
      "execution_count": 19,
      "outputs": [
        {
          "output_type": "execute_result",
          "data": {
            "text/plain": [
              "(146651, 6)"
            ]
          },
          "metadata": {},
          "execution_count": 19
        }
      ]
    },
    {
      "cell_type": "code",
      "source": [
        "y_train.shape"
      ],
      "metadata": {
        "colab": {
          "base_uri": "https://localhost:8080/"
        },
        "id": "rTG-5l0hIXub",
        "outputId": "0c628a97-d309-4713-ab49-963a4d5bb8bb"
      },
      "execution_count": 20,
      "outputs": [
        {
          "output_type": "execute_result",
          "data": {
            "text/plain": [
              "(148132,)"
            ]
          },
          "metadata": {},
          "execution_count": 20
        }
      ]
    },
    {
      "cell_type": "code",
      "source": [
        "y_test.shape"
      ],
      "metadata": {
        "colab": {
          "base_uri": "https://localhost:8080/"
        },
        "id": "wr2r46aJIXrg",
        "outputId": "7d818c81-9090-4e3e-bbb9-5b7717c1f3d8"
      },
      "execution_count": 21,
      "outputs": [
        {
          "output_type": "execute_result",
          "data": {
            "text/plain": [
              "(146651,)"
            ]
          },
          "metadata": {},
          "execution_count": 21
        }
      ]
    },
    {
      "cell_type": "code",
      "source": [
        "from sklearn.svm import SVC\n",
        "\n",
        "svc = SVC().fit(X_train,y_train) # default값 1\n",
        "\n",
        "print(\"train score : {}\".format(svc.score(X_train, y_train)))\n",
        "\n",
        "predict_y = svc.predict(X_test)\n",
        "\n",
        "from sklearn.metrics import classification_report\n",
        "print(classification_report(y_test, svc.predict(X_test)))\n",
        "print(\"test score : {}\".format(svc.score(X_test, y_test)))"
      ],
      "metadata": {
        "id": "ofuO_7qGdGav",
        "colab": {
          "base_uri": "https://localhost:8080/"
        },
        "outputId": "c1a92c99-85b1-4006-fa19-19bf5572dc2a"
      },
      "execution_count": 22,
      "outputs": [
        {
          "output_type": "stream",
          "name": "stdout",
          "text": [
            "train score : 0.7943320821969595\n",
            "              precision    recall  f1-score   support\n",
            "\n",
            "           0       0.82      0.76      0.78     73478\n",
            "           1       0.77      0.83      0.80     73173\n",
            "\n",
            "    accuracy                           0.79    146651\n",
            "   macro avg       0.79      0.79      0.79    146651\n",
            "weighted avg       0.79      0.79      0.79    146651\n",
            "\n",
            "test score : 0.7925073814702934\n"
          ]
        }
      ]
    },
    {
      "cell_type": "markdown",
      "source": [
        "**Upsampling된 Data**"
      ],
      "metadata": {
        "id": "kFkq5_GcM594"
      }
    },
    {
      "cell_type": "markdown",
      "source": [
        "train, test score 0.8이상으로 성능이 괜찮음"
      ],
      "metadata": {
        "id": "x-G76noYB_BR"
      }
    },
    {
      "cell_type": "code",
      "source": [
        "print(confusion_matrix(y_test, predict_y))\n"
      ],
      "metadata": {
        "id": "xPP0PcgGSnDJ",
        "colab": {
          "base_uri": "https://localhost:8080/"
        },
        "outputId": "b8523a4f-4dd3-43d2-ac2a-04c7a2d173b7"
      },
      "execution_count": 23,
      "outputs": [
        {
          "output_type": "stream",
          "name": "stdout",
          "text": [
            "[[55520 17958]\n",
            " [12471 60702]]\n"
          ]
        }
      ]
    },
    {
      "cell_type": "code",
      "source": [
        "# due to overfitting the test accuracy is very less as compared to the training accuracy.\n",
        "#SVM requires all the features to be on a similar scale. We will need to rescale our data that all the features are approximately on the same scale and than see the performance\n",
        "#Scale the data points using MinMaxScaler\n",
        "\n",
        "from sklearn.preprocessing import MinMaxScaler\n",
        "\n",
        "scaler = MinMaxScaler()\n",
        "scaled_X_train = scaler.fit_transform(X_train)\n",
        "scaled_X_test = scaler.fit_transform(X_test)"
      ],
      "metadata": {
        "id": "7Czjb4wNIeEV"
      },
      "execution_count": 24,
      "outputs": []
    },
    {
      "cell_type": "code",
      "source": [
        "# Now fit the model on scaled data and precdict\n",
        "\n",
        "svc = SVC()\n",
        "svc.fit(scaled_X_train, y_train)\n",
        "\n",
        "print(\"Accuracy on training set: {:.2f}\".format(svc.score(scaled_X_train, y_train)))\n",
        "print(\"Accuracy on test set: {:.2f}\".format(svc.score(scaled_X_test, y_test)))"
      ],
      "metadata": {
        "id": "mSiE0v6dIeBs"
      },
      "execution_count": null,
      "outputs": []
    },
    {
      "cell_type": "markdown",
      "source": [
        "# 하이퍼 파라미터 조정해야 할 부분 : 주말에 진행하여 업데이트 할 예정"
      ],
      "metadata": {
        "id": "TvIY33_YNbdb"
      }
    },
    {
      "cell_type": "code",
      "source": [
        "# Scaling the data made a huge difference.But now we are actually in an underfitting regime, where training and test set performance are quite similar but less close to 100% accuracy.\n",
        "# change C or gamma to fit a more complex model.\n",
        "\n",
        "# try C = 1000\n",
        "svc = SVC(C=1000)\n",
        "svc.fit(scaled_X_train, y_train)\n",
        "\n",
        "print(\"Accuracy on training set: {:.2f}\".format(svc.score(scaled_X_train, y_train)))\n",
        "print(\"Accuracy on test set: {:.2f}\".format(svc.score(scaled_X_test, y_test)))"
      ],
      "metadata": {
        "id": "cOvRVxk6Id_C"
      },
      "execution_count": null,
      "outputs": []
    },
    {
      "cell_type": "code",
      "source": [
        "\n",
        "# try for C=500\n",
        "# try C = 1000\n",
        "svc = SVC(C=500)\n",
        "svc.fit(scaled_X_train, y_train)\n",
        "\n",
        "print(\"Accuracy on training set: {:.2f}\".format(svc.score(scaled_X_train, y_train)))\n",
        "print(\"Accuracy on test set: {:.2f}\".format(svc.score(scaled_X_test, y_test)))"
      ],
      "metadata": {
        "id": "0YMKB80RId4s"
      },
      "execution_count": null,
      "outputs": []
    },
    {
      "cell_type": "code",
      "source": [
        "# Use smart way of finding the optimum value of C and kernel value for the optimum accuracy.\n",
        "from sklearn.model_selection import GridSearchCV\n",
        "from sklearn.metrics import classification_report\n",
        "from sklearn.metrics import accuracy_score\n",
        "from sklearn.svm import SVC \n",
        "import numpy as np\n",
        "# Use smart way of finding the optimum value of C and kernel value for the optimum accuracy.\n",
        "import multiprocessing\n",
        "\n",
        "param_grid = [\n",
        "                {'kernel':['rbf', 'linear', 'poly', 'sigmoid'],\n",
        "                'C':[10,100,200,300,400,500,600,700,800,900,1000] \n",
        "                }\n",
        "            ]"
      ],
      "metadata": {
        "id": "LnyeyRCYIvMl"
      },
      "execution_count": null,
      "outputs": []
    },
    {
      "cell_type": "code",
      "source": [
        "grid_search = GridSearchCV(estimator=SVC(), param_grid=param_grid, scoring='accuracy', cv=10, n_jobs=multiprocessing.cpu_count() )\n"
      ],
      "metadata": {
        "id": "ZbigE_GyIvJx"
      },
      "execution_count": null,
      "outputs": []
    },
    {
      "cell_type": "code",
      "source": [
        "grid_search.fit(scaled_X_train, y_train)\n"
      ],
      "metadata": {
        "id": "a4jLOGW8IvGz"
      },
      "execution_count": null,
      "outputs": []
    },
    {
      "cell_type": "code",
      "source": [
        "grid_search.best_estimator_\n"
      ],
      "metadata": {
        "id": "sRgUhE_wI4LP"
      },
      "execution_count": null,
      "outputs": []
    },
    {
      "cell_type": "code",
      "source": [
        "grid_search.best_score_\n"
      ],
      "metadata": {
        "id": "T_UPx_p5I7H0"
      },
      "execution_count": null,
      "outputs": []
    },
    {
      "cell_type": "code",
      "source": [
        "from sklearn.metrics import classification_report\n",
        "\n",
        "print(classification_report(y_test, y_pred, target_names=['normal', 'abnormal']))\n",
        "\n",
        "\n",
        "y_pred = svc.predict(X_test)\n",
        "\n",
        "print(classification_report(y_test, y_pred, target_names=['Dis']))"
      ],
      "metadata": {
        "id": "UPWa1k12JF1u"
      },
      "execution_count": null,
      "outputs": []
    },
    {
      "cell_type": "code",
      "source": [
        ""
      ],
      "metadata": {
        "id": "KOaftLRlJFt6"
      },
      "execution_count": null,
      "outputs": []
    },
    {
      "cell_type": "code",
      "source": [
        ""
      ],
      "metadata": {
        "id": "KpBlNaRxJGeu"
      },
      "execution_count": null,
      "outputs": []
    },
    {
      "cell_type": "code",
      "source": [
        ""
      ],
      "metadata": {
        "id": "5vbcs7BzCi7n"
      },
      "execution_count": null,
      "outputs": []
    }
  ]
}