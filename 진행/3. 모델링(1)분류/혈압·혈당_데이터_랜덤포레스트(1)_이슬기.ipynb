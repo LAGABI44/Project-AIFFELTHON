{
  "nbformat": 4,
  "nbformat_minor": 0,
  "metadata": {
    "colab": {
      "name": "혈압·혈당 데이터_랜덤포레스트(1)_이슬기.ipynb",
      "provenance": []
    },
    "kernelspec": {
      "name": "python3",
      "display_name": "Python 3"
    },
    "language_info": {
      "name": "python"
    }
  },
  "cells": [
    {
      "cell_type": "code",
      "execution_count": 1,
      "metadata": {
        "colab": {
          "base_uri": "https://localhost:8080/"
        },
        "id": "VGE91IRLJHku",
        "outputId": "178750c2-76c2-47bc-b409-066889cc295a"
      },
      "outputs": [
        {
          "output_type": "stream",
          "name": "stdout",
          "text": [
            "Mounted at /content/drive\n"
          ]
        }
      ],
      "source": [
        "from google.colab import drive\n",
        "drive.mount('/content/drive')"
      ]
    },
    {
      "cell_type": "code",
      "source": [
        "import pandas as pd\n",
        "import numpy as np\n",
        "import sklearn\n",
        "from sklearn.preprocessing import StandardScaler\n",
        "from sklearn.ensemble import RandomForestClassifier\n",
        "from sklearn.metrics import accuracy_score\n",
        "from sklearn.model_selection import train_test_split\n",
        "from sklearn.preprocessing import MinMaxScaler\n",
        "from sklearn.metrics import accuracy_score"
      ],
      "metadata": {
        "id": "DaiU29JzJe2_"
      },
      "execution_count": 2,
      "outputs": []
    },
    {
      "cell_type": "code",
      "source": [
        "df = pd.read_csv('/content/drive/MyDrive/슬기로운 건강생활/혈압·혈당 데이터.csv', encoding='cp949')\n",
        "df"
      ],
      "metadata": {
        "colab": {
          "base_uri": "https://localhost:8080/",
          "height": 424
        },
        "id": "95E062sIJnwD",
        "outputId": "ca9f473f-b09a-46c0-b0dc-0a6cb9123b50"
      },
      "execution_count": 3,
      "outputs": [
        {
          "output_type": "execute_result",
          "data": {
            "text/plain": [
              "        성별  연령  수축기혈압  이완기혈압  공복혈당  질병   BMI\n",
              "0        1  27    146     50   168   3  20.8\n",
              "1        1  19    138     50   109   4  22.6\n",
              "2        1  27    130     50    71   2  16.6\n",
              "3        1  27    129     50   115   1  20.3\n",
              "4        1  25    127     50    97   4  24.1\n",
              "...     ..  ..    ...    ...   ...  ..   ...\n",
              "999995   2  11    150    120   108   2  30.8\n",
              "999996   2  13    150    120   108   2  29.7\n",
              "999997   2  24    150    120   125   4  26.8\n",
              "999998   2   9    140    120    83   4  26.9\n",
              "999999   2  22    140    120   125   2  23.3\n",
              "\n",
              "[1000000 rows x 7 columns]"
            ],
            "text/html": [
              "\n",
              "  <div id=\"df-8ef02d01-3e39-4867-b43a-43dec3787b76\">\n",
              "    <div class=\"colab-df-container\">\n",
              "      <div>\n",
              "<style scoped>\n",
              "    .dataframe tbody tr th:only-of-type {\n",
              "        vertical-align: middle;\n",
              "    }\n",
              "\n",
              "    .dataframe tbody tr th {\n",
              "        vertical-align: top;\n",
              "    }\n",
              "\n",
              "    .dataframe thead th {\n",
              "        text-align: right;\n",
              "    }\n",
              "</style>\n",
              "<table border=\"1\" class=\"dataframe\">\n",
              "  <thead>\n",
              "    <tr style=\"text-align: right;\">\n",
              "      <th></th>\n",
              "      <th>성별</th>\n",
              "      <th>연령</th>\n",
              "      <th>수축기혈압</th>\n",
              "      <th>이완기혈압</th>\n",
              "      <th>공복혈당</th>\n",
              "      <th>질병</th>\n",
              "      <th>BMI</th>\n",
              "    </tr>\n",
              "  </thead>\n",
              "  <tbody>\n",
              "    <tr>\n",
              "      <th>0</th>\n",
              "      <td>1</td>\n",
              "      <td>27</td>\n",
              "      <td>146</td>\n",
              "      <td>50</td>\n",
              "      <td>168</td>\n",
              "      <td>3</td>\n",
              "      <td>20.8</td>\n",
              "    </tr>\n",
              "    <tr>\n",
              "      <th>1</th>\n",
              "      <td>1</td>\n",
              "      <td>19</td>\n",
              "      <td>138</td>\n",
              "      <td>50</td>\n",
              "      <td>109</td>\n",
              "      <td>4</td>\n",
              "      <td>22.6</td>\n",
              "    </tr>\n",
              "    <tr>\n",
              "      <th>2</th>\n",
              "      <td>1</td>\n",
              "      <td>27</td>\n",
              "      <td>130</td>\n",
              "      <td>50</td>\n",
              "      <td>71</td>\n",
              "      <td>2</td>\n",
              "      <td>16.6</td>\n",
              "    </tr>\n",
              "    <tr>\n",
              "      <th>3</th>\n",
              "      <td>1</td>\n",
              "      <td>27</td>\n",
              "      <td>129</td>\n",
              "      <td>50</td>\n",
              "      <td>115</td>\n",
              "      <td>1</td>\n",
              "      <td>20.3</td>\n",
              "    </tr>\n",
              "    <tr>\n",
              "      <th>4</th>\n",
              "      <td>1</td>\n",
              "      <td>25</td>\n",
              "      <td>127</td>\n",
              "      <td>50</td>\n",
              "      <td>97</td>\n",
              "      <td>4</td>\n",
              "      <td>24.1</td>\n",
              "    </tr>\n",
              "    <tr>\n",
              "      <th>...</th>\n",
              "      <td>...</td>\n",
              "      <td>...</td>\n",
              "      <td>...</td>\n",
              "      <td>...</td>\n",
              "      <td>...</td>\n",
              "      <td>...</td>\n",
              "      <td>...</td>\n",
              "    </tr>\n",
              "    <tr>\n",
              "      <th>999995</th>\n",
              "      <td>2</td>\n",
              "      <td>11</td>\n",
              "      <td>150</td>\n",
              "      <td>120</td>\n",
              "      <td>108</td>\n",
              "      <td>2</td>\n",
              "      <td>30.8</td>\n",
              "    </tr>\n",
              "    <tr>\n",
              "      <th>999996</th>\n",
              "      <td>2</td>\n",
              "      <td>13</td>\n",
              "      <td>150</td>\n",
              "      <td>120</td>\n",
              "      <td>108</td>\n",
              "      <td>2</td>\n",
              "      <td>29.7</td>\n",
              "    </tr>\n",
              "    <tr>\n",
              "      <th>999997</th>\n",
              "      <td>2</td>\n",
              "      <td>24</td>\n",
              "      <td>150</td>\n",
              "      <td>120</td>\n",
              "      <td>125</td>\n",
              "      <td>4</td>\n",
              "      <td>26.8</td>\n",
              "    </tr>\n",
              "    <tr>\n",
              "      <th>999998</th>\n",
              "      <td>2</td>\n",
              "      <td>9</td>\n",
              "      <td>140</td>\n",
              "      <td>120</td>\n",
              "      <td>83</td>\n",
              "      <td>4</td>\n",
              "      <td>26.9</td>\n",
              "    </tr>\n",
              "    <tr>\n",
              "      <th>999999</th>\n",
              "      <td>2</td>\n",
              "      <td>22</td>\n",
              "      <td>140</td>\n",
              "      <td>120</td>\n",
              "      <td>125</td>\n",
              "      <td>2</td>\n",
              "      <td>23.3</td>\n",
              "    </tr>\n",
              "  </tbody>\n",
              "</table>\n",
              "<p>1000000 rows × 7 columns</p>\n",
              "</div>\n",
              "      <button class=\"colab-df-convert\" onclick=\"convertToInteractive('df-8ef02d01-3e39-4867-b43a-43dec3787b76')\"\n",
              "              title=\"Convert this dataframe to an interactive table.\"\n",
              "              style=\"display:none;\">\n",
              "        \n",
              "  <svg xmlns=\"http://www.w3.org/2000/svg\" height=\"24px\"viewBox=\"0 0 24 24\"\n",
              "       width=\"24px\">\n",
              "    <path d=\"M0 0h24v24H0V0z\" fill=\"none\"/>\n",
              "    <path d=\"M18.56 5.44l.94 2.06.94-2.06 2.06-.94-2.06-.94-.94-2.06-.94 2.06-2.06.94zm-11 1L8.5 8.5l.94-2.06 2.06-.94-2.06-.94L8.5 2.5l-.94 2.06-2.06.94zm10 10l.94 2.06.94-2.06 2.06-.94-2.06-.94-.94-2.06-.94 2.06-2.06.94z\"/><path d=\"M17.41 7.96l-1.37-1.37c-.4-.4-.92-.59-1.43-.59-.52 0-1.04.2-1.43.59L10.3 9.45l-7.72 7.72c-.78.78-.78 2.05 0 2.83L4 21.41c.39.39.9.59 1.41.59.51 0 1.02-.2 1.41-.59l7.78-7.78 2.81-2.81c.8-.78.8-2.07 0-2.86zM5.41 20L4 18.59l7.72-7.72 1.47 1.35L5.41 20z\"/>\n",
              "  </svg>\n",
              "      </button>\n",
              "      \n",
              "  <style>\n",
              "    .colab-df-container {\n",
              "      display:flex;\n",
              "      flex-wrap:wrap;\n",
              "      gap: 12px;\n",
              "    }\n",
              "\n",
              "    .colab-df-convert {\n",
              "      background-color: #E8F0FE;\n",
              "      border: none;\n",
              "      border-radius: 50%;\n",
              "      cursor: pointer;\n",
              "      display: none;\n",
              "      fill: #1967D2;\n",
              "      height: 32px;\n",
              "      padding: 0 0 0 0;\n",
              "      width: 32px;\n",
              "    }\n",
              "\n",
              "    .colab-df-convert:hover {\n",
              "      background-color: #E2EBFA;\n",
              "      box-shadow: 0px 1px 2px rgba(60, 64, 67, 0.3), 0px 1px 3px 1px rgba(60, 64, 67, 0.15);\n",
              "      fill: #174EA6;\n",
              "    }\n",
              "\n",
              "    [theme=dark] .colab-df-convert {\n",
              "      background-color: #3B4455;\n",
              "      fill: #D2E3FC;\n",
              "    }\n",
              "\n",
              "    [theme=dark] .colab-df-convert:hover {\n",
              "      background-color: #434B5C;\n",
              "      box-shadow: 0px 1px 3px 1px rgba(0, 0, 0, 0.15);\n",
              "      filter: drop-shadow(0px 1px 2px rgba(0, 0, 0, 0.3));\n",
              "      fill: #FFFFFF;\n",
              "    }\n",
              "  </style>\n",
              "\n",
              "      <script>\n",
              "        const buttonEl =\n",
              "          document.querySelector('#df-8ef02d01-3e39-4867-b43a-43dec3787b76 button.colab-df-convert');\n",
              "        buttonEl.style.display =\n",
              "          google.colab.kernel.accessAllowed ? 'block' : 'none';\n",
              "\n",
              "        async function convertToInteractive(key) {\n",
              "          const element = document.querySelector('#df-8ef02d01-3e39-4867-b43a-43dec3787b76');\n",
              "          const dataTable =\n",
              "            await google.colab.kernel.invokeFunction('convertToInteractive',\n",
              "                                                     [key], {});\n",
              "          if (!dataTable) return;\n",
              "\n",
              "          const docLinkHtml = 'Like what you see? Visit the ' +\n",
              "            '<a target=\"_blank\" href=https://colab.research.google.com/notebooks/data_table.ipynb>data table notebook</a>'\n",
              "            + ' to learn more about interactive tables.';\n",
              "          element.innerHTML = '';\n",
              "          dataTable['output_type'] = 'display_data';\n",
              "          await google.colab.output.renderOutput(dataTable, element);\n",
              "          const docLink = document.createElement('div');\n",
              "          docLink.innerHTML = docLinkHtml;\n",
              "          element.appendChild(docLink);\n",
              "        }\n",
              "      </script>\n",
              "    </div>\n",
              "  </div>\n",
              "  "
            ]
          },
          "metadata": {},
          "execution_count": 3
        }
      ]
    },
    {
      "cell_type": "code",
      "source": [
        "df.isnull().sum()"
      ],
      "metadata": {
        "colab": {
          "base_uri": "https://localhost:8080/"
        },
        "id": "1e32UfIUJrlG",
        "outputId": "02b1bfac-4a07-4ede-94a5-070bdf08fd6c"
      },
      "execution_count": 5,
      "outputs": [
        {
          "output_type": "execute_result",
          "data": {
            "text/plain": [
              "성별       0\n",
              "연령       0\n",
              "수축기혈압    0\n",
              "이완기혈압    0\n",
              "공복혈당     0\n",
              "질병       0\n",
              "BMI      0\n",
              "dtype: int64"
            ]
          },
          "metadata": {},
          "execution_count": 5
        }
      ]
    },
    {
      "cell_type": "code",
      "source": [
        "df.info()"
      ],
      "metadata": {
        "colab": {
          "base_uri": "https://localhost:8080/"
        },
        "id": "VMYpTmQqJ2X0",
        "outputId": "6ea4fb7f-aa8b-4be8-cb96-9551227141ed"
      },
      "execution_count": 6,
      "outputs": [
        {
          "output_type": "stream",
          "name": "stdout",
          "text": [
            "<class 'pandas.core.frame.DataFrame'>\n",
            "RangeIndex: 1000000 entries, 0 to 999999\n",
            "Data columns (total 7 columns):\n",
            " #   Column  Non-Null Count    Dtype  \n",
            "---  ------  --------------    -----  \n",
            " 0   성별      1000000 non-null  int64  \n",
            " 1   연령      1000000 non-null  int64  \n",
            " 2   수축기혈압   1000000 non-null  int64  \n",
            " 3   이완기혈압   1000000 non-null  int64  \n",
            " 4   공복혈당    1000000 non-null  int64  \n",
            " 5   질병      1000000 non-null  int64  \n",
            " 6   BMI     1000000 non-null  float64\n",
            "dtypes: float64(1), int64(6)\n",
            "memory usage: 53.4 MB\n"
          ]
        }
      ]
    },
    {
      "cell_type": "code",
      "source": [
        "train=df"
      ],
      "metadata": {
        "id": "aG3f8OcoKK94"
      },
      "execution_count": 9,
      "outputs": []
    },
    {
      "cell_type": "code",
      "source": [
        "# feature와 target 분리\n",
        "yt=np.array(train['질병'])\n",
        "xt=train.drop(['질병'], axis=1)\n",
        "xt=np.array(xt)\n",
        "\n",
        "# 데이터 정규화\n",
        "scaler=MinMaxScaler()\n",
        "xt=scaler.fit_transform(xt)\n",
        "\n",
        "# train test 데이터 split\n",
        "xtrain,xtest,ytrain,ytest=train_test_split(xt, yt, test_size=0.2, random_state=42)"
      ],
      "metadata": {
        "id": "OCWIyGAEKA4k"
      },
      "execution_count": 10,
      "outputs": []
    },
    {
      "cell_type": "code",
      "source": [
        "# 랜덤포레스트 without tuning\n",
        "rf = RandomForestClassifier(random_state=17)\n",
        "rf.fit(xtrain, ytrain)\n",
        "forest_predictions = rf.predict(xtest)\n",
        "\n",
        "accuracy_score(ytest, forest_predictions)\n",
        "forest_predictions = rf.predict(xtest)"
      ],
      "metadata": {
        "id": "kZzUmd5sKFHG"
      },
      "execution_count": 11,
      "outputs": []
    },
    {
      "cell_type": "code",
      "source": [
        "from sklearn.metrics import confusion_matrix\n",
        "from sklearn.metrics import classification_report"
      ],
      "metadata": {
        "id": "bIWHAqWVKOhP"
      },
      "execution_count": 12,
      "outputs": []
    },
    {
      "cell_type": "code",
      "source": [
        "# 데이터 100만 개 사용\n",
        "\n",
        "print(confusion_matrix(ytest, forest_predictions))"
      ],
      "metadata": {
        "colab": {
          "base_uri": "https://localhost:8080/"
        },
        "id": "yjMtAMuBKPDq",
        "outputId": "a0f26d55-9578-470e-fb68-09063d1ccf63"
      },
      "execution_count": 13,
      "outputs": [
        {
          "output_type": "stream",
          "name": "stdout",
          "text": [
            "[[  3271   2793   1301   3471]\n",
            " [  1530  10915    506  19409]\n",
            " [  1743   1124   1758   3965]\n",
            " [  1382   9550   1285 135997]]\n"
          ]
        }
      ]
    },
    {
      "cell_type": "code",
      "source": [
        "print(classification_report(ytest, forest_predictions))"
      ],
      "metadata": {
        "colab": {
          "base_uri": "https://localhost:8080/"
        },
        "id": "ONtPvLiZKTJ0",
        "outputId": "88d2392f-bd5f-4dae-8b55-a5d87e2c1c0c"
      },
      "execution_count": 14,
      "outputs": [
        {
          "output_type": "stream",
          "name": "stdout",
          "text": [
            "              precision    recall  f1-score   support\n",
            "\n",
            "           1       0.41      0.30      0.35     10836\n",
            "           2       0.45      0.34      0.38     32360\n",
            "           3       0.36      0.20      0.26      8590\n",
            "           4       0.84      0.92      0.87    148214\n",
            "\n",
            "    accuracy                           0.76    200000\n",
            "   macro avg       0.51      0.44      0.47    200000\n",
            "weighted avg       0.73      0.76      0.74    200000\n",
            "\n"
          ]
        }
      ]
    },
    {
      "cell_type": "code",
      "source": [
        "print(classification_report(ytest, forest_predictions))\n",
        "accuracy = accuracy_score(ytest, forest_predictions)\n",
        "accuracy"
      ],
      "metadata": {
        "colab": {
          "base_uri": "https://localhost:8080/"
        },
        "id": "O3Xi_GClKWPf",
        "outputId": "65f8ec0e-c182-4ab8-8ed0-399091324468"
      },
      "execution_count": 16,
      "outputs": [
        {
          "output_type": "stream",
          "name": "stdout",
          "text": [
            "              precision    recall  f1-score   support\n",
            "\n",
            "           1       0.41      0.30      0.35     10836\n",
            "           2       0.45      0.34      0.38     32360\n",
            "           3       0.36      0.20      0.26      8590\n",
            "           4       0.84      0.92      0.87    148214\n",
            "\n",
            "    accuracy                           0.76    200000\n",
            "   macro avg       0.51      0.44      0.47    200000\n",
            "weighted avg       0.73      0.76      0.74    200000\n",
            "\n"
          ]
        },
        {
          "output_type": "execute_result",
          "data": {
            "text/plain": [
              "0.759705"
            ]
          },
          "metadata": {},
          "execution_count": 16
        }
      ]
    },
    {
      "cell_type": "code",
      "source": [
        ""
      ],
      "metadata": {
        "id": "YnHVRjJ7LKFT"
      },
      "execution_count": null,
      "outputs": []
    }
  ]
}